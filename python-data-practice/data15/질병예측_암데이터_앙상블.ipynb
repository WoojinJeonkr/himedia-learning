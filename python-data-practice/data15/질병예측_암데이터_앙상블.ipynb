{
  "nbformat": 4,
  "nbformat_minor": 0,
  "metadata": {
    "colab": {
      "name": "질병예측-암데이터-앙상블.ipynb",
      "provenance": [],
      "collapsed_sections": []
    },
    "kernelspec": {
      "name": "python3",
      "display_name": "Python 3"
    },
    "language_info": {
      "name": "python"
    }
  },
  "cells": [
    {
      "cell_type": "code",
      "execution_count": 39,
      "metadata": {
        "id": "1zDpoCKBXxSP"
      },
      "outputs": [],
      "source": [
        "import warnings\n",
        "warnings.filterwarnings(action='ignore')\n",
        "import time\n",
        "from IPython.display import Image\n",
        "import pandas as pd\n",
        "import numpy as np\n",
        "\n",
        "import matplotlib.pyplot as plt\n",
        "import seaborn as sns\n",
        "\n",
        "from sklearn.model_selection import train_test_split\n",
        "from sklearn.model_selection import GridSearchCV\n",
        "from sklearn.model_selection import cross_val_score\n",
        "from sklearn.metrics import *\n",
        "from sklearn.metrics import roc_curve, roc_auc_score\n",
        "\n",
        "from matplotlib import rc, font_manager\n",
        "import matplotlib.font_manager as fm\n",
        "from sklearn.preprocessing import StandardScaler\n",
        "from sklearn.preprocessing import MinMaxScaler\n",
        "from sklearn.preprocessing import LabelEncoder\n",
        "\n",
        "from sklearn.tree import DecisionTreeClassifier\n",
        "from sklearn.svm import SVC\n",
        "from sklearn.linear_model import LogisticRegression\n",
        "\n",
        "from sklearn.ensemble import VotingClassifier\n",
        "from sklearn.ensemble import RandomForestClassifier\n",
        "from sklearn.metrics import confusion_matrix"
      ]
    },
    {
      "cell_type": "code",
      "source": [
        "df = pd.read_csv('/content/wisc_bc_data.csv', encoding='utf-8')\n",
        "df.head()"
      ],
      "metadata": {
        "colab": {
          "base_uri": "https://localhost:8080/",
          "height": 300
        },
        "id": "DJYk0rgdZj1A",
        "outputId": "ce9df7c8-b0b4-42cb-e9a2-07f2b13cf920"
      },
      "execution_count": 2,
      "outputs": [
        {
          "output_type": "execute_result",
          "data": {
            "text/plain": [
              "         id diagnosis  radius_mean  texture_mean  perimeter_mean  area_mean  \\\n",
              "0  87139402         B        12.32         12.39           78.85      464.1   \n",
              "1   8910251         B        10.60         18.95           69.28      346.4   \n",
              "2    905520         B        11.04         16.83           70.92      373.2   \n",
              "3    868871         B        11.28         13.39           73.00      384.8   \n",
              "4   9012568         B        15.19         13.21           97.65      711.8   \n",
              "\n",
              "   smoothness_mean  compactness_mean  concavity_mean  points_mean  ...  \\\n",
              "0          0.10280           0.06981         0.03987      0.03700  ...   \n",
              "1          0.09688           0.11470         0.06387      0.02642  ...   \n",
              "2          0.10770           0.07804         0.03046      0.02480  ...   \n",
              "3          0.11640           0.11360         0.04635      0.04796  ...   \n",
              "4          0.07963           0.06934         0.03393      0.02657  ...   \n",
              "\n",
              "   radius_worst  texture_worst  perimeter_worst  area_worst  smoothness_worst  \\\n",
              "0         13.50          15.64            86.97       549.1            0.1385   \n",
              "1         11.88          22.94            78.28       424.8            0.1213   \n",
              "2         12.41          26.44            79.93       471.4            0.1369   \n",
              "3         11.92          15.77            76.53       434.0            0.1367   \n",
              "4         16.20          15.73           104.50       819.1            0.1126   \n",
              "\n",
              "   compactness_worst  concavity_worst  points_worst  symmetry_worst  \\\n",
              "0             0.1266          0.12420       0.09391          0.2827   \n",
              "1             0.2515          0.19160       0.07926          0.2940   \n",
              "2             0.1482          0.10670       0.07431          0.2998   \n",
              "3             0.1822          0.08669       0.08611          0.2102   \n",
              "4             0.1737          0.13620       0.08178          0.2487   \n",
              "\n",
              "   dimension_worst  \n",
              "0          0.06771  \n",
              "1          0.07587  \n",
              "2          0.07881  \n",
              "3          0.06784  \n",
              "4          0.06766  \n",
              "\n",
              "[5 rows x 32 columns]"
            ],
            "text/html": [
              "\n",
              "  <div id=\"df-be1148a9-ee6f-4455-a4f5-1a8a7c5a32a8\">\n",
              "    <div class=\"colab-df-container\">\n",
              "      <div>\n",
              "<style scoped>\n",
              "    .dataframe tbody tr th:only-of-type {\n",
              "        vertical-align: middle;\n",
              "    }\n",
              "\n",
              "    .dataframe tbody tr th {\n",
              "        vertical-align: top;\n",
              "    }\n",
              "\n",
              "    .dataframe thead th {\n",
              "        text-align: right;\n",
              "    }\n",
              "</style>\n",
              "<table border=\"1\" class=\"dataframe\">\n",
              "  <thead>\n",
              "    <tr style=\"text-align: right;\">\n",
              "      <th></th>\n",
              "      <th>id</th>\n",
              "      <th>diagnosis</th>\n",
              "      <th>radius_mean</th>\n",
              "      <th>texture_mean</th>\n",
              "      <th>perimeter_mean</th>\n",
              "      <th>area_mean</th>\n",
              "      <th>smoothness_mean</th>\n",
              "      <th>compactness_mean</th>\n",
              "      <th>concavity_mean</th>\n",
              "      <th>points_mean</th>\n",
              "      <th>...</th>\n",
              "      <th>radius_worst</th>\n",
              "      <th>texture_worst</th>\n",
              "      <th>perimeter_worst</th>\n",
              "      <th>area_worst</th>\n",
              "      <th>smoothness_worst</th>\n",
              "      <th>compactness_worst</th>\n",
              "      <th>concavity_worst</th>\n",
              "      <th>points_worst</th>\n",
              "      <th>symmetry_worst</th>\n",
              "      <th>dimension_worst</th>\n",
              "    </tr>\n",
              "  </thead>\n",
              "  <tbody>\n",
              "    <tr>\n",
              "      <th>0</th>\n",
              "      <td>87139402</td>\n",
              "      <td>B</td>\n",
              "      <td>12.32</td>\n",
              "      <td>12.39</td>\n",
              "      <td>78.85</td>\n",
              "      <td>464.1</td>\n",
              "      <td>0.10280</td>\n",
              "      <td>0.06981</td>\n",
              "      <td>0.03987</td>\n",
              "      <td>0.03700</td>\n",
              "      <td>...</td>\n",
              "      <td>13.50</td>\n",
              "      <td>15.64</td>\n",
              "      <td>86.97</td>\n",
              "      <td>549.1</td>\n",
              "      <td>0.1385</td>\n",
              "      <td>0.1266</td>\n",
              "      <td>0.12420</td>\n",
              "      <td>0.09391</td>\n",
              "      <td>0.2827</td>\n",
              "      <td>0.06771</td>\n",
              "    </tr>\n",
              "    <tr>\n",
              "      <th>1</th>\n",
              "      <td>8910251</td>\n",
              "      <td>B</td>\n",
              "      <td>10.60</td>\n",
              "      <td>18.95</td>\n",
              "      <td>69.28</td>\n",
              "      <td>346.4</td>\n",
              "      <td>0.09688</td>\n",
              "      <td>0.11470</td>\n",
              "      <td>0.06387</td>\n",
              "      <td>0.02642</td>\n",
              "      <td>...</td>\n",
              "      <td>11.88</td>\n",
              "      <td>22.94</td>\n",
              "      <td>78.28</td>\n",
              "      <td>424.8</td>\n",
              "      <td>0.1213</td>\n",
              "      <td>0.2515</td>\n",
              "      <td>0.19160</td>\n",
              "      <td>0.07926</td>\n",
              "      <td>0.2940</td>\n",
              "      <td>0.07587</td>\n",
              "    </tr>\n",
              "    <tr>\n",
              "      <th>2</th>\n",
              "      <td>905520</td>\n",
              "      <td>B</td>\n",
              "      <td>11.04</td>\n",
              "      <td>16.83</td>\n",
              "      <td>70.92</td>\n",
              "      <td>373.2</td>\n",
              "      <td>0.10770</td>\n",
              "      <td>0.07804</td>\n",
              "      <td>0.03046</td>\n",
              "      <td>0.02480</td>\n",
              "      <td>...</td>\n",
              "      <td>12.41</td>\n",
              "      <td>26.44</td>\n",
              "      <td>79.93</td>\n",
              "      <td>471.4</td>\n",
              "      <td>0.1369</td>\n",
              "      <td>0.1482</td>\n",
              "      <td>0.10670</td>\n",
              "      <td>0.07431</td>\n",
              "      <td>0.2998</td>\n",
              "      <td>0.07881</td>\n",
              "    </tr>\n",
              "    <tr>\n",
              "      <th>3</th>\n",
              "      <td>868871</td>\n",
              "      <td>B</td>\n",
              "      <td>11.28</td>\n",
              "      <td>13.39</td>\n",
              "      <td>73.00</td>\n",
              "      <td>384.8</td>\n",
              "      <td>0.11640</td>\n",
              "      <td>0.11360</td>\n",
              "      <td>0.04635</td>\n",
              "      <td>0.04796</td>\n",
              "      <td>...</td>\n",
              "      <td>11.92</td>\n",
              "      <td>15.77</td>\n",
              "      <td>76.53</td>\n",
              "      <td>434.0</td>\n",
              "      <td>0.1367</td>\n",
              "      <td>0.1822</td>\n",
              "      <td>0.08669</td>\n",
              "      <td>0.08611</td>\n",
              "      <td>0.2102</td>\n",
              "      <td>0.06784</td>\n",
              "    </tr>\n",
              "    <tr>\n",
              "      <th>4</th>\n",
              "      <td>9012568</td>\n",
              "      <td>B</td>\n",
              "      <td>15.19</td>\n",
              "      <td>13.21</td>\n",
              "      <td>97.65</td>\n",
              "      <td>711.8</td>\n",
              "      <td>0.07963</td>\n",
              "      <td>0.06934</td>\n",
              "      <td>0.03393</td>\n",
              "      <td>0.02657</td>\n",
              "      <td>...</td>\n",
              "      <td>16.20</td>\n",
              "      <td>15.73</td>\n",
              "      <td>104.50</td>\n",
              "      <td>819.1</td>\n",
              "      <td>0.1126</td>\n",
              "      <td>0.1737</td>\n",
              "      <td>0.13620</td>\n",
              "      <td>0.08178</td>\n",
              "      <td>0.2487</td>\n",
              "      <td>0.06766</td>\n",
              "    </tr>\n",
              "  </tbody>\n",
              "</table>\n",
              "<p>5 rows × 32 columns</p>\n",
              "</div>\n",
              "      <button class=\"colab-df-convert\" onclick=\"convertToInteractive('df-be1148a9-ee6f-4455-a4f5-1a8a7c5a32a8')\"\n",
              "              title=\"Convert this dataframe to an interactive table.\"\n",
              "              style=\"display:none;\">\n",
              "        \n",
              "  <svg xmlns=\"http://www.w3.org/2000/svg\" height=\"24px\"viewBox=\"0 0 24 24\"\n",
              "       width=\"24px\">\n",
              "    <path d=\"M0 0h24v24H0V0z\" fill=\"none\"/>\n",
              "    <path d=\"M18.56 5.44l.94 2.06.94-2.06 2.06-.94-2.06-.94-.94-2.06-.94 2.06-2.06.94zm-11 1L8.5 8.5l.94-2.06 2.06-.94-2.06-.94L8.5 2.5l-.94 2.06-2.06.94zm10 10l.94 2.06.94-2.06 2.06-.94-2.06-.94-.94-2.06-.94 2.06-2.06.94z\"/><path d=\"M17.41 7.96l-1.37-1.37c-.4-.4-.92-.59-1.43-.59-.52 0-1.04.2-1.43.59L10.3 9.45l-7.72 7.72c-.78.78-.78 2.05 0 2.83L4 21.41c.39.39.9.59 1.41.59.51 0 1.02-.2 1.41-.59l7.78-7.78 2.81-2.81c.8-.78.8-2.07 0-2.86zM5.41 20L4 18.59l7.72-7.72 1.47 1.35L5.41 20z\"/>\n",
              "  </svg>\n",
              "      </button>\n",
              "      \n",
              "  <style>\n",
              "    .colab-df-container {\n",
              "      display:flex;\n",
              "      flex-wrap:wrap;\n",
              "      gap: 12px;\n",
              "    }\n",
              "\n",
              "    .colab-df-convert {\n",
              "      background-color: #E8F0FE;\n",
              "      border: none;\n",
              "      border-radius: 50%;\n",
              "      cursor: pointer;\n",
              "      display: none;\n",
              "      fill: #1967D2;\n",
              "      height: 32px;\n",
              "      padding: 0 0 0 0;\n",
              "      width: 32px;\n",
              "    }\n",
              "\n",
              "    .colab-df-convert:hover {\n",
              "      background-color: #E2EBFA;\n",
              "      box-shadow: 0px 1px 2px rgba(60, 64, 67, 0.3), 0px 1px 3px 1px rgba(60, 64, 67, 0.15);\n",
              "      fill: #174EA6;\n",
              "    }\n",
              "\n",
              "    [theme=dark] .colab-df-convert {\n",
              "      background-color: #3B4455;\n",
              "      fill: #D2E3FC;\n",
              "    }\n",
              "\n",
              "    [theme=dark] .colab-df-convert:hover {\n",
              "      background-color: #434B5C;\n",
              "      box-shadow: 0px 1px 3px 1px rgba(0, 0, 0, 0.15);\n",
              "      filter: drop-shadow(0px 1px 2px rgba(0, 0, 0, 0.3));\n",
              "      fill: #FFFFFF;\n",
              "    }\n",
              "  </style>\n",
              "\n",
              "      <script>\n",
              "        const buttonEl =\n",
              "          document.querySelector('#df-be1148a9-ee6f-4455-a4f5-1a8a7c5a32a8 button.colab-df-convert');\n",
              "        buttonEl.style.display =\n",
              "          google.colab.kernel.accessAllowed ? 'block' : 'none';\n",
              "\n",
              "        async function convertToInteractive(key) {\n",
              "          const element = document.querySelector('#df-be1148a9-ee6f-4455-a4f5-1a8a7c5a32a8');\n",
              "          const dataTable =\n",
              "            await google.colab.kernel.invokeFunction('convertToInteractive',\n",
              "                                                     [key], {});\n",
              "          if (!dataTable) return;\n",
              "\n",
              "          const docLinkHtml = 'Like what you see? Visit the ' +\n",
              "            '<a target=\"_blank\" href=https://colab.research.google.com/notebooks/data_table.ipynb>data table notebook</a>'\n",
              "            + ' to learn more about interactive tables.';\n",
              "          element.innerHTML = '';\n",
              "          dataTable['output_type'] = 'display_data';\n",
              "          await google.colab.output.renderOutput(dataTable, element);\n",
              "          const docLink = document.createElement('div');\n",
              "          docLink.innerHTML = docLinkHtml;\n",
              "          element.appendChild(docLink);\n",
              "        }\n",
              "      </script>\n",
              "    </div>\n",
              "  </div>\n",
              "  "
            ]
          },
          "metadata": {},
          "execution_count": 2
        }
      ]
    },
    {
      "cell_type": "code",
      "source": [
        "df.info()"
      ],
      "metadata": {
        "colab": {
          "base_uri": "https://localhost:8080/"
        },
        "id": "3eMgZ3z-Zr0X",
        "outputId": "90cc160e-6341-4ecf-e246-836d3689f3be"
      },
      "execution_count": 3,
      "outputs": [
        {
          "output_type": "stream",
          "name": "stdout",
          "text": [
            "<class 'pandas.core.frame.DataFrame'>\n",
            "RangeIndex: 569 entries, 0 to 568\n",
            "Data columns (total 32 columns):\n",
            " #   Column             Non-Null Count  Dtype  \n",
            "---  ------             --------------  -----  \n",
            " 0   id                 569 non-null    int64  \n",
            " 1   diagnosis          569 non-null    object \n",
            " 2   radius_mean        569 non-null    float64\n",
            " 3   texture_mean       569 non-null    float64\n",
            " 4   perimeter_mean     569 non-null    float64\n",
            " 5   area_mean          569 non-null    float64\n",
            " 6   smoothness_mean    569 non-null    float64\n",
            " 7   compactness_mean   569 non-null    float64\n",
            " 8   concavity_mean     569 non-null    float64\n",
            " 9   points_mean        569 non-null    float64\n",
            " 10  symmetry_mean      569 non-null    float64\n",
            " 11  dimension_mean     569 non-null    float64\n",
            " 12  radius_se          569 non-null    float64\n",
            " 13  texture_se         569 non-null    float64\n",
            " 14  perimeter_se       569 non-null    float64\n",
            " 15  area_se            569 non-null    float64\n",
            " 16  smoothness_se      569 non-null    float64\n",
            " 17  compactness_se     569 non-null    float64\n",
            " 18  concavity_se       569 non-null    float64\n",
            " 19  points_se          569 non-null    float64\n",
            " 20  symmetry_se        569 non-null    float64\n",
            " 21  dimension_se       569 non-null    float64\n",
            " 22  radius_worst       569 non-null    float64\n",
            " 23  texture_worst      569 non-null    float64\n",
            " 24  perimeter_worst    569 non-null    float64\n",
            " 25  area_worst         569 non-null    float64\n",
            " 26  smoothness_worst   569 non-null    float64\n",
            " 27  compactness_worst  569 non-null    float64\n",
            " 28  concavity_worst    569 non-null    float64\n",
            " 29  points_worst       569 non-null    float64\n",
            " 30  symmetry_worst     569 non-null    float64\n",
            " 31  dimension_worst    569 non-null    float64\n",
            "dtypes: float64(30), int64(1), object(1)\n",
            "memory usage: 142.4+ KB\n"
          ]
        }
      ]
    },
    {
      "cell_type": "code",
      "source": [
        "df.columns"
      ],
      "metadata": {
        "colab": {
          "base_uri": "https://localhost:8080/"
        },
        "id": "1VSVu6rxZ33B",
        "outputId": "d02f6ab3-ae4f-4703-e49f-dd37e4e6fdb4"
      },
      "execution_count": 4,
      "outputs": [
        {
          "output_type": "execute_result",
          "data": {
            "text/plain": [
              "Index(['id', 'diagnosis', 'radius_mean', 'texture_mean', 'perimeter_mean',\n",
              "       'area_mean', 'smoothness_mean', 'compactness_mean', 'concavity_mean',\n",
              "       'points_mean', 'symmetry_mean', 'dimension_mean', 'radius_se',\n",
              "       'texture_se', 'perimeter_se', 'area_se', 'smoothness_se',\n",
              "       'compactness_se', 'concavity_se', 'points_se', 'symmetry_se',\n",
              "       'dimension_se', 'radius_worst', 'texture_worst', 'perimeter_worst',\n",
              "       'area_worst', 'smoothness_worst', 'compactness_worst',\n",
              "       'concavity_worst', 'points_worst', 'symmetry_worst', 'dimension_worst'],\n",
              "      dtype='object')"
            ]
          },
          "metadata": {},
          "execution_count": 4
        }
      ]
    },
    {
      "cell_type": "code",
      "source": [
        "# 2. Age-Thal : 설명변수\n",
        "# 3. AHD : 종속변수"
      ],
      "metadata": {
        "id": "2wwfBY9qardA"
      },
      "execution_count": 5,
      "outputs": []
    },
    {
      "cell_type": "code",
      "source": [
        "X_train, X_test, Y_train, Y_test = train_test_split (\n",
        "    df[['radius_mean', 'texture_mean', 'perimeter_mean',\n",
        "       'area_mean', 'smoothness_mean', 'compactness_mean', 'concavity_mean',\n",
        "       'points_mean', 'symmetry_mean', 'dimension_mean', 'radius_se',\n",
        "       'texture_se', 'perimeter_se', 'area_se', 'smoothness_se',\n",
        "       'compactness_se', 'concavity_se', 'points_se', 'symmetry_se',\n",
        "       'dimension_se', 'radius_worst', 'texture_worst', 'perimeter_worst',\n",
        "       'area_worst', 'smoothness_worst', 'compactness_worst',\n",
        "       'concavity_worst', 'points_worst', 'symmetry_worst', 'dimension_worst']],\n",
        "    df['diagnosis'],\n",
        "    test_size=0.2,\n",
        "    random_state=42\n",
        ")"
      ],
      "metadata": {
        "id": "SrWVTIVbbn02"
      },
      "execution_count": 6,
      "outputs": []
    },
    {
      "cell_type": "code",
      "source": [
        "X_train.shape, Y_train.shape"
      ],
      "metadata": {
        "colab": {
          "base_uri": "https://localhost:8080/"
        },
        "id": "pLhMN3T3b7OA",
        "outputId": "cd5bc3be-3dbe-498d-d0e1-ef8e4bb7b682"
      },
      "execution_count": 7,
      "outputs": [
        {
          "output_type": "execute_result",
          "data": {
            "text/plain": [
              "((455, 30), (455,))"
            ]
          },
          "metadata": {},
          "execution_count": 7
        }
      ]
    },
    {
      "cell_type": "code",
      "source": [
        "X_test.shape, Y_test.shape"
      ],
      "metadata": {
        "colab": {
          "base_uri": "https://localhost:8080/"
        },
        "id": "v79OoCQscEbc",
        "outputId": "40d1234a-edb6-4454-8f4a-6b62b333a645"
      },
      "execution_count": 8,
      "outputs": [
        {
          "output_type": "execute_result",
          "data": {
            "text/plain": [
              "((114, 30), (114,))"
            ]
          },
          "metadata": {},
          "execution_count": 8
        }
      ]
    },
    {
      "cell_type": "code",
      "source": [
        "# 단일 모델들에 대한 객체 생성\n",
        "# voting(hard/soft)"
      ],
      "metadata": {
        "id": "-j-ic4ZPcJi9"
      },
      "execution_count": 9,
      "outputs": []
    },
    {
      "cell_type": "code",
      "source": [
        "dt = DecisionTreeClassifier(\n",
        "    criterion=\"gini\",\n",
        "    max_depth = 3,\n",
        "    max_features = 8,\n",
        "    random_state = 100\n",
        ")"
      ],
      "metadata": {
        "id": "C-nKifmLcPWt"
      },
      "execution_count": 10,
      "outputs": []
    },
    {
      "cell_type": "code",
      "source": [
        "svc = SVC (\n",
        "    kernel='rbf',\n",
        "    C=0.1, # C : 0.1 ~ 1\n",
        "    gamma=0.003,\n",
        "    probability=True,\n",
        "    random_state=100\n",
        ")"
      ],
      "metadata": {
        "id": "NyyfHc4ddJtu"
      },
      "execution_count": 11,
      "outputs": []
    },
    {
      "cell_type": "code",
      "source": [
        "lr = LogisticRegression(\n",
        "    penalty='l2',\n",
        "    dual=False,\n",
        "    tol=0.0001,\n",
        "    C=1.0,\n",
        "    fit_intercept=True,\n",
        "    intercept_scaling=1,\n",
        "    class_weight=None,\n",
        "    random_state=None,\n",
        "    solver='lbfgs',\n",
        "    max_iter=100,\n",
        "    multi_class='auto',\n",
        "    verbose=0,\n",
        "    warm_start=False,\n",
        "    n_jobs=None,\n",
        "    l1_ratio=None\n",
        ")"
      ],
      "metadata": {
        "id": "Z-vSd2kcdM6G"
      },
      "execution_count": 12,
      "outputs": []
    },
    {
      "cell_type": "code",
      "source": [
        "dt.fit(X_train, Y_train)\n",
        "dt_predicted = dt.predict(X_test)"
      ],
      "metadata": {
        "id": "8HRGR11zfkD1"
      },
      "execution_count": 13,
      "outputs": []
    },
    {
      "cell_type": "code",
      "source": [
        "svc.fit(X_train, Y_train)\n",
        "svc_predicted = svc.predict(X_test)"
      ],
      "metadata": {
        "id": "73ohUBTdhYFf"
      },
      "execution_count": 14,
      "outputs": []
    },
    {
      "cell_type": "code",
      "source": [
        "lr.fit(X_train, Y_train)\n",
        "lr_predicted = lr.predict(X_test)"
      ],
      "metadata": {
        "id": "pgAydijVjl1H"
      },
      "execution_count": 15,
      "outputs": []
    },
    {
      "cell_type": "code",
      "source": [
        "print('accuracy=====================')\n",
        "print('dt >>', accuracy_score(Y_test, dt_predicted))\n",
        "print('svc >>', accuracy_score(Y_test, svc_predicted))\n",
        "print('lr >>', accuracy_score(Y_test, lr_predicted))"
      ],
      "metadata": {
        "colab": {
          "base_uri": "https://localhost:8080/"
        },
        "id": "KL2kzb9llJrm",
        "outputId": "38a25472-d05d-4bb9-cf16-132d1b8d07e2"
      },
      "execution_count": 16,
      "outputs": [
        {
          "output_type": "stream",
          "name": "stdout",
          "text": [
            "accuracy=====================\n",
            "dt >> 0.9649122807017544\n",
            "svc >> 0.6491228070175439\n",
            "lr >> 0.9736842105263158\n"
          ]
        }
      ]
    },
    {
      "cell_type": "code",
      "source": [
        "# hard voting\n",
        "voting_clf1 = VotingClassifier(\n",
        "    estimators=[('decision tree', dt), ('svc', svc), ('lr', lr)],\n",
        "    weights=[1, 1, 1], # 가중치\n",
        "    voting='hard' # voting 방식\n",
        ")"
      ],
      "metadata": {
        "id": "26sd19mglWf_"
      },
      "execution_count": 17,
      "outputs": []
    },
    {
      "cell_type": "code",
      "source": [
        "voting_clf1.fit(X_train, Y_train)\n",
        "hard_voting_predicted = voting_clf1.predict(X_test)\n",
        "accuracy_score(Y_test, hard_voting_predicted)"
      ],
      "metadata": {
        "colab": {
          "base_uri": "https://localhost:8080/"
        },
        "id": "NIVob6CSljit",
        "outputId": "79314324-340c-4ef0-d12c-1862d3ec853f"
      },
      "execution_count": 18,
      "outputs": [
        {
          "output_type": "execute_result",
          "data": {
            "text/plain": [
              "0.9649122807017544"
            ]
          },
          "metadata": {},
          "execution_count": 18
        }
      ]
    },
    {
      "cell_type": "code",
      "source": [
        "# soft voting\n",
        "voting_clf2 = VotingClassifier(\n",
        "    estimators=[('decision tree', dt), ('svc', svc), ('lr', lr)],\n",
        "    weights=[1, 1, 1], # 가중치\n",
        "    voting='soft' # voting 방식\n",
        ")"
      ],
      "metadata": {
        "id": "7QJnmcm6lpzc"
      },
      "execution_count": 19,
      "outputs": []
    },
    {
      "cell_type": "code",
      "source": [
        "voting_clf2.fit(X_train, Y_train)\n",
        "soft_voting_predicted = voting_clf2.predict(X_test)\n",
        "accuracy_score(Y_test, soft_voting_predicted)"
      ],
      "metadata": {
        "colab": {
          "base_uri": "https://localhost:8080/"
        },
        "id": "qHv2sAVjlsrM",
        "outputId": "eb93d011-9a97-460e-9872-301dbdf6e13b"
      },
      "execution_count": 20,
      "outputs": [
        {
          "output_type": "execute_result",
          "data": {
            "text/plain": [
              "0.9824561403508771"
            ]
          },
          "metadata": {},
          "execution_count": 20
        }
      ]
    },
    {
      "cell_type": "code",
      "source": [
        "import matplotlib.pyplot as plt\n",
        "%matplotlib inline\n",
        "\n",
        "x = np.arange(5)\n",
        "bars = plt.bar(x, height= [accuracy_score(Y_test, dt_predicted),\n",
        "                    accuracy_score(Y_test, svc_predicted),\n",
        "                    accuracy_score(Y_test, lr_predicted),\n",
        "                    accuracy_score(Y_test, hard_voting_predicted),\n",
        "                    accuracy_score(Y_test, soft_voting_predicted)])\n",
        "plt.xticks(x, ['decision tree','knn','svm','hard voting','soft voting']);"
      ],
      "metadata": {
        "colab": {
          "base_uri": "https://localhost:8080/",
          "height": 265
        },
        "id": "iA6mcb3lmC2s",
        "outputId": "3865e26f-12ec-49ed-d89c-5243ddb89f9b"
      },
      "execution_count": 30,
      "outputs": [
        {
          "output_type": "display_data",
          "data": {
            "text/plain": [
              "<Figure size 432x288 with 1 Axes>"
            ],
            "image/png": "[encoded data removed]"
          },
          "metadata": {
            "needs_background": "light"
          }
        }
      ]
    },
    {
      "cell_type": "code",
      "source": [
        "## bagging\n",
        "rf = RandomForestClassifier(\n",
        "    n_estimators=100,\n",
        "    max_depth=5,\n",
        "    random_state=10\n",
        ")\n",
        "rf.fit(X_train, Y_train)"
      ],
      "metadata": {
        "colab": {
          "base_uri": "https://localhost:8080/"
        },
        "id": "bdoUxOG2non2",
        "outputId": "814e3271-1683-46cf-ae73-e7c47312d9d6"
      },
      "execution_count": 33,
      "outputs": [
        {
          "output_type": "execute_result",
          "data": {
            "text/plain": [
              "RandomForestClassifier(max_depth=5, random_state=10)"
            ]
          },
          "metadata": {},
          "execution_count": 33
        }
      ]
    },
    {
      "cell_type": "code",
      "source": [
        "rf_predt = rf.predict(X_test)\n",
        "rf_acc = accuracy_score(Y_test, rf_predt)\n",
        "rf_acc"
      ],
      "metadata": {
        "colab": {
          "base_uri": "https://localhost:8080/"
        },
        "id": "xBX3syJ1pma9",
        "outputId": "c1fae527-3e35-41f6-f5c0-bbe79d9c1f08"
      },
      "execution_count": 34,
      "outputs": [
        {
          "output_type": "execute_result",
          "data": {
            "text/plain": [
              "0.9736842105263158"
            ]
          },
          "metadata": {},
          "execution_count": 34
        }
      ]
    },
    {
      "cell_type": "code",
      "source": [
        "x = np.arange(3)\n",
        "plt.bar(x, height= [accuracy_score(Y_test, hard_voting_predicted),\n",
        "                    accuracy_score(Y_test, soft_voting_predicted),\n",
        "                    accuracy_score(Y_test, rf_predt)]\n",
        "        )\n",
        "plt.xticks(x, ['hard voting','soft voting', 'bagging']);"
      ],
      "metadata": {
        "colab": {
          "base_uri": "https://localhost:8080/",
          "height": 265
        },
        "id": "eXniu_ZippmG",
        "outputId": "edcd2911-07c3-40b7-f8ca-7bb89f7e98c9"
      },
      "execution_count": 38,
      "outputs": [
        {
          "output_type": "display_data",
          "data": {
            "text/plain": [
              "<Figure size 432x288 with 1 Axes>"
            ],
            "image/png": "[encoded data removed]"
          },
          "metadata": {
            "needs_background": "light"
          }
        }
      ]
    },
    {
      "cell_type": "code",
      "source": [
        "confusion_matrix(Y_test, hard_voting_predicted)"
      ],
      "metadata": {
        "colab": {
          "base_uri": "https://localhost:8080/"
        },
        "id": "sfWrnL7Oqgnb",
        "outputId": "63741f53-e3b3-46a4-c2db-8dee5af98a34"
      },
      "execution_count": 40,
      "outputs": [
        {
          "output_type": "execute_result",
          "data": {
            "text/plain": [
              "array([[73,  1],\n",
              "       [ 3, 37]])"
            ]
          },
          "metadata": {},
          "execution_count": 40
        }
      ]
    },
    {
      "cell_type": "code",
      "source": [
        "# b: 양성, m: 악성\n",
        "# 정상이 74명인데, 73명만 정상, 1명은 암환자\n",
        "# 암환자가 40명인데, 37명만 암환자, 3명은 정상"
      ],
      "metadata": {
        "id": "80HzA-PuwGgc"
      },
      "execution_count": 47,
      "outputs": []
    },
    {
      "cell_type": "code",
      "source": [
        "confusion_matrix(Y_test, soft_voting_predicted)"
      ],
      "metadata": {
        "colab": {
          "base_uri": "https://localhost:8080/"
        },
        "id": "HEGWDFHnrJCJ",
        "outputId": "7e53b491-23e2-4e7f-d537-8268fa2f04de"
      },
      "execution_count": 41,
      "outputs": [
        {
          "output_type": "execute_result",
          "data": {
            "text/plain": [
              "array([[73,  1],\n",
              "       [ 1, 39]])"
            ]
          },
          "metadata": {},
          "execution_count": 41
        }
      ]
    },
    {
      "cell_type": "code",
      "source": [
        "# b: 양성, m: 악성\n",
        "# 정상이 74명인데, 73명만 정상, 1명은 암환자\n",
        "# 암환자가 40명인데, 39명만 암환자, 1명은 정상\n",
        "# recall(재현률)이 bagging보다는 낮은 편"
      ],
      "metadata": {
        "id": "dFuVgqVurfQi"
      },
      "execution_count": 44,
      "outputs": []
    },
    {
      "cell_type": "code",
      "source": [
        "confusion_matrix(Y_test, rf_predt)"
      ],
      "metadata": {
        "colab": {
          "base_uri": "https://localhost:8080/"
        },
        "id": "LPG_Vs7PrKo5",
        "outputId": "3e0641ab-862b-4153-a53f-5a0bd4048a91"
      },
      "execution_count": 42,
      "outputs": [
        {
          "output_type": "execute_result",
          "data": {
            "text/plain": [
              "array([[72,  2],\n",
              "       [ 1, 39]])"
            ]
          },
          "metadata": {},
          "execution_count": 42
        }
      ]
    },
    {
      "cell_type": "code",
      "source": [
        "# b: 양성, m: 악성\n",
        "# 정상이 74명인데, 72명만 정상, 2명은 암환자\n",
        "# 암환자가 40명인데, 39명만 암환자, 1명은 정상\n",
        "# recall(재현률)이 soft-voting보다는 높은 편"
      ],
      "metadata": {
        "id": "0zdcDeVbv4fd"
      },
      "execution_count": 45,
      "outputs": []
    },
    {
      "cell_type": "code",
      "source": [
        "# softvoting model보다는 bagging 모델을 선택하는 것이 좋음"
      ],
      "metadata": {
        "id": "-TaZFuQVwJt0"
      },
      "execution_count": 46,
      "outputs": []
    },
    {
      "cell_type": "code",
      "source": [
        "from sklearn.ensemble import GradientBoostingClassifier\n",
        "from sklearn.ensemble import HistGradientBoostingClassifier\n",
        "from xgboost import XGBClassifier\n",
        "from lightgbm import LGBMClassifier"
      ],
      "metadata": {
        "id": "yRCru2j_xZdF"
      },
      "execution_count": 48,
      "outputs": []
    },
    {
      "cell_type": "code",
      "source": [
        "gbc = GradientBoostingClassifier(\n",
        "    random_state=42\n",
        "    ).fit(X_train, Y_train)"
      ],
      "metadata": {
        "id": "awV9GqM2xxe4"
      },
      "execution_count": 50,
      "outputs": []
    },
    {
      "cell_type": "code",
      "source": [
        "hist = HistGradientBoostingClassifier(\n",
        "    random_state=42\n",
        "    ).fit(X_train, Y_train)"
      ],
      "metadata": {
        "id": "G_rzAuVdyJRS"
      },
      "execution_count": 51,
      "outputs": []
    },
    {
      "cell_type": "code",
      "source": [
        "xgb = XGBClassifier(\n",
        "    random_state=42,\n",
        "    tree_method='hist'\n",
        "    ).fit(X_train, Y_train)"
      ],
      "metadata": {
        "id": "Q9QLplbeygbg"
      },
      "execution_count": 54,
      "outputs": []
    },
    {
      "cell_type": "code",
      "source": [
        "lgbm = LGBMClassifier(\n",
        "    random_state=42\n",
        "    ).fit(X_train, Y_train)"
      ],
      "metadata": {
        "id": "gVUNh6quyhsA"
      },
      "execution_count": 53,
      "outputs": []
    },
    {
      "cell_type": "code",
      "source": [
        "gbc_predicted = gbc.predict(X_test)\n",
        "accuracy_score(Y_test, gbc_predicted)"
      ],
      "metadata": {
        "colab": {
          "base_uri": "https://localhost:8080/"
        },
        "id": "fya0lISlyiXX",
        "outputId": "bea6828f-226f-4f91-e3a1-ce4e4a8ad6f2"
      },
      "execution_count": 55,
      "outputs": [
        {
          "output_type": "execute_result",
          "data": {
            "text/plain": [
              "0.9824561403508771"
            ]
          },
          "metadata": {},
          "execution_count": 55
        }
      ]
    },
    {
      "cell_type": "code",
      "source": [
        "hist_predicted = hist.predict(X_test)\n",
        "accuracy_score(Y_test, hist_predicted)"
      ],
      "metadata": {
        "colab": {
          "base_uri": "https://localhost:8080/"
        },
        "id": "nHs-DtSDzReU",
        "outputId": "68a267c7-4494-4b96-c319-e2e91a3573f7"
      },
      "execution_count": 56,
      "outputs": [
        {
          "output_type": "execute_result",
          "data": {
            "text/plain": [
              "0.9824561403508771"
            ]
          },
          "metadata": {},
          "execution_count": 56
        }
      ]
    },
    {
      "cell_type": "code",
      "source": [
        "xgb_predicted = xgb.predict(X_test)\n",
        "accuracy_score(Y_test, xgb_predicted)"
      ],
      "metadata": {
        "colab": {
          "base_uri": "https://localhost:8080/"
        },
        "id": "xQztCOkdzUnc",
        "outputId": "da30ecdf-6c45-4488-9bd2-90a139b09d48"
      },
      "execution_count": 57,
      "outputs": [
        {
          "output_type": "execute_result",
          "data": {
            "text/plain": [
              "0.9824561403508771"
            ]
          },
          "metadata": {},
          "execution_count": 57
        }
      ]
    },
    {
      "cell_type": "code",
      "source": [
        "lgbm_predicted = lgbm.predict(X_test)\n",
        "accuracy_score(Y_test, lgbm_predicted)"
      ],
      "metadata": {
        "colab": {
          "base_uri": "https://localhost:8080/"
        },
        "id": "pXdiHeSFzX1Z",
        "outputId": "84e0283c-e404-474e-8af6-e245823365af"
      },
      "execution_count": 58,
      "outputs": [
        {
          "output_type": "execute_result",
          "data": {
            "text/plain": [
              "0.9824561403508771"
            ]
          },
          "metadata": {},
          "execution_count": 58
        }
      ]
    },
    {
      "cell_type": "code",
      "source": [
        "x = np.arange(4)\n",
        "plt.bar(x, height= [accuracy_score(Y_test, gbc_predicted),\n",
        "                    accuracy_score(Y_test, hist_predicted),\n",
        "                    accuracy_score(Y_test, xgb_predicted),\n",
        "                    accuracy_score(Y_test, lgbm_predicted)\n",
        "        ])\n",
        "plt.xticks(x, ['gbc','hist', 'xgb', 'lgbm']);"
      ],
      "metadata": {
        "colab": {
          "base_uri": "https://localhost:8080/",
          "height": 265
        },
        "id": "-IzoD32nzbJp",
        "outputId": "02b77513-1f13-4202-dc77-d26dc94aa052"
      },
      "execution_count": 60,
      "outputs": [
        {
          "output_type": "display_data",
          "data": {
            "text/plain": [
              "<Figure size 432x288 with 1 Axes>"
            ],
            "image/png": "[encoded data removed]"
          },
          "metadata": {
            "needs_background": "light"
          }
        }
      ]
    },
    {
      "cell_type": "code",
      "source": [
        "confusion_matrix(Y_test, xgb_predicted)"
      ],
      "metadata": {
        "colab": {
          "base_uri": "https://localhost:8080/"
        },
        "id": "TNFmrDTsz3yM",
        "outputId": "6fe9ca73-8a37-4dea-f1ba-9a21d6a56949"
      },
      "execution_count": 61,
      "outputs": [
        {
          "output_type": "execute_result",
          "data": {
            "text/plain": [
              "array([[73,  1],\n",
              "       [ 1, 39]])"
            ]
          },
          "metadata": {},
          "execution_count": 61
        }
      ]
    },
    {
      "cell_type": "code",
      "source": [
        "# xgboost는 암환자 40명 중 39명을 찾아냈고, 1명을 찾아내지 못했다.\n",
        "# recall(재현률)이 높으므로 xgboost model이 암환자를 가려내는데 적합하다"
      ],
      "metadata": {
        "id": "GdGjwDOT0Qpi"
      },
      "execution_count": 62,
      "outputs": []
    },
    {
      "cell_type": "code",
      "source": [
        "%%shell\n",
        "jupyter nbconvert --to html /content/질병예측_암데이터_앙상블.ipynb # 파일 html로 저장"
      ],
      "metadata": {
        "colab": {
          "base_uri": "https://localhost:8080/"
        },
        "id": "WUxKwvzGluUe",
        "outputId": "dbf439bd-400d-4803-c6dd-a4d75af5124a"
      },
      "execution_count": 43,
      "outputs": [
        {
          "output_type": "stream",
          "name": "stdout",
          "text": [
            "[NbConvertApp] Converting notebook /content/질병예측_암데이터_앙상블.ipynb to html\n",
            "[NbConvertApp] Writing 327014 bytes to /content/질병예측_암데이터_앙상블.html\n"
          ]
        },
        {
          "output_type": "execute_result",
          "data": {
            "text/plain": [
              ""
            ]
          },
          "metadata": {},
          "execution_count": 43
        }
      ]
    },
    {
      "cell_type": "code",
      "source": [
        ""
      ],
      "metadata": {
        "id": "CxjWzfWG0c1J"
      },
      "execution_count": null,
      "outputs": []
    }
  ]
}