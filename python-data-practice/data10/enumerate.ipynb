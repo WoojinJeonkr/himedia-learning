{
 "cells": [
  {
   "cell_type": "code",
   "execution_count": 1,
   "metadata": {},
   "outputs": [],
   "source": [
    "# enumerate함수 : 열거하다\n",
    "# 많은 양의 데이터인 list를 다룰 때 편리하게 쓸 수 있는 기능을 제공\n",
    "# for-each, for\n",
    "# for x in list: \n",
    "# - 장점: 리스트에 있는 것을 하나씩 꺼내서 처리하기 아주 간단하다 \n",
    "#         하나씩 꺼내서 출력, 연산하기는 용이하다\n",
    "# - 단점: index가 없어서 불편!\n",
    "#         리스트에 입력은 불가\n",
    "# for i in range(n):\n",
    "# - 장점: 리스트의 입.출력이 다 된다\n",
    "# - 단점: 인덱스로 리스트에 있는 값들을 접근해야하기 때문에 코드가 복잡해보이게 됨"
   ]
  },
  {
   "cell_type": "code",
   "execution_count": 2,
   "metadata": {},
   "outputs": [],
   "source": [
    "num_list = [100, 200, 300]"
   ]
  },
  {
   "cell_type": "code",
   "execution_count": 3,
   "metadata": {},
   "outputs": [
    {
     "name": "stdout",
     "output_type": "stream",
     "text": [
      "200\n",
      "300\n",
      "400\n"
     ]
    }
   ],
   "source": [
    "for x in num_list:\n",
    "    print(x+100)"
   ]
  },
  {
   "cell_type": "code",
   "execution_count": 4,
   "metadata": {},
   "outputs": [
    {
     "name": "stdout",
     "output_type": "stream",
     "text": [
      "(0, 100)\n",
      "(1, 200)\n",
      "(2, 300)\n"
     ]
    }
   ],
   "source": [
    "for x in enumerate(num_list):\n",
    "    print(x)"
   ]
  },
  {
   "cell_type": "code",
   "execution_count": 5,
   "metadata": {},
   "outputs": [
    {
     "name": "stdout",
     "output_type": "stream",
     "text": [
      "0 : 100\n",
      "1 : 200\n",
      "2 : 300\n"
     ]
    }
   ],
   "source": [
    "for i, x in enumerate(num_list):\n",
    "    print(i, ':', x)"
   ]
  },
  {
   "cell_type": "code",
   "execution_count": 6,
   "metadata": {},
   "outputs": [
    {
     "data": {
      "text/plain": [
       "[200, 300, 400]"
      ]
     },
     "execution_count": 6,
     "metadata": {},
     "output_type": "execute_result"
    }
   ],
   "source": [
    "for i, x in enumerate(num_list):\n",
    "    num_list[i] = x + 100\n",
    "num_list"
   ]
  }
 ],
 "metadata": {
  "kernelspec": {
   "display_name": "Python 3",
   "language": "python",
   "name": "python3"
  },
  "language_info": {
   "codemirror_mode": {
    "name": "ipython",
    "version": 3
   },
   "file_extension": ".py",
   "mimetype": "text/x-python",
   "name": "python",
   "nbconvert_exporter": "python",
   "pygments_lexer": "ipython3",
   "version": "3.7.0"
  }
 },
 "nbformat": 4,
 "nbformat_minor": 2
}
