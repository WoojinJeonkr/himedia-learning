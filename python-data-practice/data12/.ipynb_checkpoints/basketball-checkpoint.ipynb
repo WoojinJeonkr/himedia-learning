{
 "cells": [
  {
   "cell_type": "code",
   "execution_count": 1,
   "metadata": {},
   "outputs": [],
   "source": [
    "# 주요 라이브러리 import\n",
    "import warnings\n",
    "warnings.filterwarnings(action='ignore')\n",
    "import time\n",
    "from IPython.display import Image\n",
    "import pandas as pd\n",
    "import numpy as np\n",
    "\n",
    "import matplotlib.pyplot as plt\n",
    "import seaborn as sns\n",
    "\n",
    "from sklearn.model_selection import train_test_split\n",
    "from sklearn.model_selection import GridSearchCV\n",
    "from sklearn.model_selection import cross_val_score\n",
    "from sklearn.metrics import *\n",
    "\n",
    "from matplotlib import rc, font_manager\n",
    "import matplotlib.font_manager as fm\n",
    "from sklearn.preprocessing import StandardScaler\n",
    "\n",
    "from sklearn.preprocessing import MinMaxScaler"
   ]
  },
  {
   "cell_type": "code",
   "execution_count": 2,
   "metadata": {},
   "outputs": [],
   "source": [
    "# 디렉토리 및 파일 이름에 맞추어 변경\n",
    "# font_location = '/Library/Fonts/Arial Unicode.ttf'#윈도우안에있는 폰트파일주소.\n",
    "font_location = '../data04/NanumGothic.ttf'\n",
    "font_name = fm.FontProperties(fname=font_location).get_name()\n",
    "rc('font', family=font_name)"
   ]
  },
  {
   "cell_type": "code",
   "execution_count": 3,
   "metadata": {},
   "outputs": [
    {
     "data": {
      "text/html": [
       "<div>\n",
       "<style scoped>\n",
       "    .dataframe tbody tr th:only-of-type {\n",
       "        vertical-align: middle;\n",
       "    }\n",
       "\n",
       "    .dataframe tbody tr th {\n",
       "        vertical-align: top;\n",
       "    }\n",
       "\n",
       "    .dataframe thead th {\n",
       "        text-align: right;\n",
       "    }\n",
       "</style>\n",
       "<table border=\"1\" class=\"dataframe\">\n",
       "  <thead>\n",
       "    <tr style=\"text-align: right;\">\n",
       "      <th></th>\n",
       "      <th>Player</th>\n",
       "      <th>Pos</th>\n",
       "      <th>3P</th>\n",
       "      <th>2P</th>\n",
       "      <th>TRB</th>\n",
       "      <th>AST</th>\n",
       "      <th>STL</th>\n",
       "      <th>BLK</th>\n",
       "    </tr>\n",
       "  </thead>\n",
       "  <tbody>\n",
       "    <tr>\n",
       "      <th>0</th>\n",
       "      <td>Alex Abrines</td>\n",
       "      <td>SG</td>\n",
       "      <td>1.4</td>\n",
       "      <td>0.6</td>\n",
       "      <td>1.3</td>\n",
       "      <td>0.6</td>\n",
       "      <td>0.5</td>\n",
       "      <td>0.1</td>\n",
       "    </tr>\n",
       "    <tr>\n",
       "      <th>1</th>\n",
       "      <td>Steven Adams</td>\n",
       "      <td>C</td>\n",
       "      <td>0.0</td>\n",
       "      <td>4.7</td>\n",
       "      <td>7.7</td>\n",
       "      <td>1.1</td>\n",
       "      <td>1.1</td>\n",
       "      <td>1.0</td>\n",
       "    </tr>\n",
       "    <tr>\n",
       "      <th>2</th>\n",
       "      <td>Alexis Ajinca</td>\n",
       "      <td>C</td>\n",
       "      <td>0.0</td>\n",
       "      <td>2.3</td>\n",
       "      <td>4.5</td>\n",
       "      <td>0.3</td>\n",
       "      <td>0.5</td>\n",
       "      <td>0.6</td>\n",
       "    </tr>\n",
       "    <tr>\n",
       "      <th>3</th>\n",
       "      <td>Chris Andersen</td>\n",
       "      <td>C</td>\n",
       "      <td>0.0</td>\n",
       "      <td>0.8</td>\n",
       "      <td>2.6</td>\n",
       "      <td>0.4</td>\n",
       "      <td>0.4</td>\n",
       "      <td>0.6</td>\n",
       "    </tr>\n",
       "    <tr>\n",
       "      <th>4</th>\n",
       "      <td>Will Barton</td>\n",
       "      <td>SG</td>\n",
       "      <td>1.5</td>\n",
       "      <td>3.5</td>\n",
       "      <td>4.3</td>\n",
       "      <td>3.4</td>\n",
       "      <td>0.8</td>\n",
       "      <td>0.5</td>\n",
       "    </tr>\n",
       "    <tr>\n",
       "      <th>...</th>\n",
       "      <td>...</td>\n",
       "      <td>...</td>\n",
       "      <td>...</td>\n",
       "      <td>...</td>\n",
       "      <td>...</td>\n",
       "      <td>...</td>\n",
       "      <td>...</td>\n",
       "      <td>...</td>\n",
       "    </tr>\n",
       "    <tr>\n",
       "      <th>95</th>\n",
       "      <td>Nikola Vucevic</td>\n",
       "      <td>C</td>\n",
       "      <td>0.3</td>\n",
       "      <td>6.1</td>\n",
       "      <td>10.4</td>\n",
       "      <td>2.8</td>\n",
       "      <td>1.0</td>\n",
       "      <td>1.0</td>\n",
       "    </tr>\n",
       "    <tr>\n",
       "      <th>96</th>\n",
       "      <td>Dwyane Wade</td>\n",
       "      <td>SG</td>\n",
       "      <td>0.8</td>\n",
       "      <td>6.2</td>\n",
       "      <td>4.5</td>\n",
       "      <td>3.8</td>\n",
       "      <td>1.4</td>\n",
       "      <td>0.7</td>\n",
       "    </tr>\n",
       "    <tr>\n",
       "      <th>97</th>\n",
       "      <td>Dion Waiters</td>\n",
       "      <td>SG</td>\n",
       "      <td>1.8</td>\n",
       "      <td>4.3</td>\n",
       "      <td>3.3</td>\n",
       "      <td>4.3</td>\n",
       "      <td>0.9</td>\n",
       "      <td>0.4</td>\n",
       "    </tr>\n",
       "    <tr>\n",
       "      <th>98</th>\n",
       "      <td>Hassan Whiteside</td>\n",
       "      <td>C</td>\n",
       "      <td>0.0</td>\n",
       "      <td>7.0</td>\n",
       "      <td>14.1</td>\n",
       "      <td>0.7</td>\n",
       "      <td>0.7</td>\n",
       "      <td>2.1</td>\n",
       "    </tr>\n",
       "    <tr>\n",
       "      <th>99</th>\n",
       "      <td>Lou Williams</td>\n",
       "      <td>SG</td>\n",
       "      <td>2.0</td>\n",
       "      <td>3.3</td>\n",
       "      <td>2.5</td>\n",
       "      <td>3.0</td>\n",
       "      <td>1.0</td>\n",
       "      <td>0.2</td>\n",
       "    </tr>\n",
       "  </tbody>\n",
       "</table>\n",
       "<p>100 rows × 8 columns</p>\n",
       "</div>"
      ],
      "text/plain": [
       "              Player Pos   3P   2P   TRB  AST  STL  BLK\n",
       "0       Alex Abrines  SG  1.4  0.6   1.3  0.6  0.5  0.1\n",
       "1       Steven Adams   C  0.0  4.7   7.7  1.1  1.1  1.0\n",
       "2      Alexis Ajinca   C  0.0  2.3   4.5  0.3  0.5  0.6\n",
       "3     Chris Andersen   C  0.0  0.8   2.6  0.4  0.4  0.6\n",
       "4        Will Barton  SG  1.5  3.5   4.3  3.4  0.8  0.5\n",
       "..               ...  ..  ...  ...   ...  ...  ...  ...\n",
       "95    Nikola Vucevic   C  0.3  6.1  10.4  2.8  1.0  1.0\n",
       "96       Dwyane Wade  SG  0.8  6.2   4.5  3.8  1.4  0.7\n",
       "97      Dion Waiters  SG  1.8  4.3   3.3  4.3  0.9  0.4\n",
       "98  Hassan Whiteside   C  0.0  7.0  14.1  0.7  0.7  2.1\n",
       "99      Lou Williams  SG  2.0  3.3   2.5  3.0  1.0  0.2\n",
       "\n",
       "[100 rows x 8 columns]"
      ]
     },
     "execution_count": 3,
     "metadata": {},
     "output_type": "execute_result"
    }
   ],
   "source": [
    "bsp = pd.read_csv('./basketball_stat.csv', encoding='utf-8')\n",
    "bsp"
   ]
  },
  {
   "cell_type": "code",
   "execution_count": 4,
   "metadata": {},
   "outputs": [
    {
     "data": {
      "text/plain": [
       "Text(0.5, 1.0, 'STL and 2P')"
      ]
     },
     "execution_count": 4,
     "metadata": {},
     "output_type": "execute_result"
    },
    {
     "data": {
      "image/png": "[encoded data removed]",
      "text/plain": [
       "<Figure size 409.375x360 with 1 Axes>"
      ]
     },
     "metadata": {
      "needs_background": "light"
     },
     "output_type": "display_data"
    }
   ],
   "source": [
    "sns.lmplot('STL', '2P', data=bsp, fit_reg=False,\n",
    "               scatter_kws={'s' : 150},\n",
    "               markers=['o', 'x'],\n",
    "               hue = 'Pos'\n",
    "          )\n",
    "plt.title('STL and 2P')"
   ]
  },
  {
   "cell_type": "code",
   "execution_count": 5,
   "metadata": {},
   "outputs": [
    {
     "data": {
      "text/plain": [
       "Text(0.5, 1.0, 'AST and 2P')"
      ]
     },
     "execution_count": 5,
     "metadata": {},
     "output_type": "execute_result"
    },
    {
     "data": {
      "image/png": "[encoded data removed]",
      "text/plain": [
       "<Figure size 409.375x360 with 1 Axes>"
      ]
     },
     "metadata": {
      "needs_background": "light"
     },
     "output_type": "display_data"
    }
   ],
   "source": [
    "sns.lmplot('AST', '2P', data=bsp, fit_reg=False,\n",
    "               scatter_kws={'s' : 150},\n",
    "               markers=['o', 'x'],\n",
    "               hue = 'Pos'\n",
    "          )\n",
    "plt.title('AST and 2P')"
   ]
  },
  {
   "cell_type": "code",
   "execution_count": 6,
   "metadata": {},
   "outputs": [
    {
     "data": {
      "text/plain": [
       "Text(0.5, 1.0, '3P and BLK')"
      ]
     },
     "execution_count": 6,
     "metadata": {},
     "output_type": "execute_result"
    },
    {
     "data": {
      "image/png": "[encoded data removed]",
      "text/plain": [
       "<Figure size 409.375x360 with 1 Axes>"
      ]
     },
     "metadata": {
      "needs_background": "light"
     },
     "output_type": "display_data"
    }
   ],
   "source": [
    "sns.lmplot('3P', 'BLK', data=bsp, fit_reg=False,\n",
    "               scatter_kws={'s' : 150},\n",
    "               markers=['o', 'x'],\n",
    "               hue = 'Pos'\n",
    "          )\n",
    "plt.title('3P and BLK')"
   ]
  },
  {
   "cell_type": "code",
   "execution_count": 7,
   "metadata": {},
   "outputs": [
    {
     "data": {
      "text/plain": [
       "Text(0.5, 1.0, '3P and TRB')"
      ]
     },
     "execution_count": 7,
     "metadata": {},
     "output_type": "execute_result"
    },
    {
     "data": {
      "image/png": "[encoded data removed]",
      "text/plain": [
       "<Figure size 409.375x360 with 1 Axes>"
      ]
     },
     "metadata": {
      "needs_background": "light"
     },
     "output_type": "display_data"
    }
   ],
   "source": [
    "sns.lmplot('3P', 'TRB', data=bsp, fit_reg=False,\n",
    "               scatter_kws={'s' : 150},\n",
    "               markers=['o', 'x'],\n",
    "               hue = 'Pos'\n",
    "          )\n",
    "plt.title('3P and TRB')"
   ]
  },
  {
   "cell_type": "code",
   "execution_count": 8,
   "metadata": {},
   "outputs": [
    {
     "data": {
      "text/plain": [
       "Index(['Player', 'Pos', '3P', '2P', 'TRB', 'AST', 'STL', 'BLK'], dtype='object')"
      ]
     },
     "execution_count": 8,
     "metadata": {},
     "output_type": "execute_result"
    }
   ],
   "source": [
    "bsp.columns"
   ]
  },
  {
   "cell_type": "code",
   "execution_count": 9,
   "metadata": {},
   "outputs": [],
   "source": [
    "bsp.drop(['2P',  'AST', 'STL'], axis=1, inplace=True)"
   ]
  },
  {
   "cell_type": "code",
   "execution_count": 10,
   "metadata": {},
   "outputs": [
    {
     "name": "stdout",
     "output_type": "stream",
     "text": [
      "<class 'pandas.core.frame.DataFrame'>\n",
      "RangeIndex: 100 entries, 0 to 99\n",
      "Data columns (total 5 columns):\n",
      " #   Column  Non-Null Count  Dtype  \n",
      "---  ------  --------------  -----  \n",
      " 0   Player  100 non-null    object \n",
      " 1   Pos     100 non-null    object \n",
      " 2   3P      100 non-null    float64\n",
      " 3   TRB     100 non-null    float64\n",
      " 4   BLK     100 non-null    float64\n",
      "dtypes: float64(3), object(2)\n",
      "memory usage: 4.0+ KB\n"
     ]
    }
   ],
   "source": [
    "bsp.info()"
   ]
  },
  {
   "cell_type": "code",
   "execution_count": 11,
   "metadata": {},
   "outputs": [
    {
     "data": {
      "text/html": [
       "<div>\n",
       "<style scoped>\n",
       "    .dataframe tbody tr th:only-of-type {\n",
       "        vertical-align: middle;\n",
       "    }\n",
       "\n",
       "    .dataframe tbody tr th {\n",
       "        vertical-align: top;\n",
       "    }\n",
       "\n",
       "    .dataframe thead th {\n",
       "        text-align: right;\n",
       "    }\n",
       "</style>\n",
       "<table border=\"1\" class=\"dataframe\">\n",
       "  <thead>\n",
       "    <tr style=\"text-align: right;\">\n",
       "      <th></th>\n",
       "      <th>3P</th>\n",
       "      <th>TRB</th>\n",
       "      <th>BLK</th>\n",
       "    </tr>\n",
       "  </thead>\n",
       "  <tbody>\n",
       "    <tr>\n",
       "      <th>count</th>\n",
       "      <td>100.00000</td>\n",
       "      <td>100.000000</td>\n",
       "      <td>100.00000</td>\n",
       "    </tr>\n",
       "    <tr>\n",
       "      <th>mean</th>\n",
       "      <td>1.08200</td>\n",
       "      <td>5.030000</td>\n",
       "      <td>0.69600</td>\n",
       "    </tr>\n",
       "    <tr>\n",
       "      <th>std</th>\n",
       "      <td>0.91424</td>\n",
       "      <td>3.098599</td>\n",
       "      <td>0.59661</td>\n",
       "    </tr>\n",
       "    <tr>\n",
       "      <th>min</th>\n",
       "      <td>0.00000</td>\n",
       "      <td>1.300000</td>\n",
       "      <td>0.10000</td>\n",
       "    </tr>\n",
       "    <tr>\n",
       "      <th>25%</th>\n",
       "      <td>0.00000</td>\n",
       "      <td>2.875000</td>\n",
       "      <td>0.20000</td>\n",
       "    </tr>\n",
       "    <tr>\n",
       "      <th>50%</th>\n",
       "      <td>1.30000</td>\n",
       "      <td>3.900000</td>\n",
       "      <td>0.55000</td>\n",
       "    </tr>\n",
       "    <tr>\n",
       "      <th>75%</th>\n",
       "      <td>1.80000</td>\n",
       "      <td>6.325000</td>\n",
       "      <td>1.00000</td>\n",
       "    </tr>\n",
       "    <tr>\n",
       "      <th>max</th>\n",
       "      <td>3.40000</td>\n",
       "      <td>14.100000</td>\n",
       "      <td>3.00000</td>\n",
       "    </tr>\n",
       "  </tbody>\n",
       "</table>\n",
       "</div>"
      ],
      "text/plain": [
       "              3P         TRB        BLK\n",
       "count  100.00000  100.000000  100.00000\n",
       "mean     1.08200    5.030000    0.69600\n",
       "std      0.91424    3.098599    0.59661\n",
       "min      0.00000    1.300000    0.10000\n",
       "25%      0.00000    2.875000    0.20000\n",
       "50%      1.30000    3.900000    0.55000\n",
       "75%      1.80000    6.325000    1.00000\n",
       "max      3.40000   14.100000    3.00000"
      ]
     },
     "execution_count": 11,
     "metadata": {},
     "output_type": "execute_result"
    }
   ],
   "source": [
    "bsp.describe()"
   ]
  },
  {
   "cell_type": "code",
   "execution_count": 12,
   "metadata": {},
   "outputs": [
    {
     "data": {
      "text/plain": [
       "<matplotlib.axes._subplots.AxesSubplot at 0x23d4224cb38>"
      ]
     },
     "execution_count": 12,
     "metadata": {},
     "output_type": "execute_result"
    },
    {
     "data": {
      "image/png": "[encoded data removed]",
      "text/plain": [
       "<Figure size 432x288 with 1 Axes>"
      ]
     },
     "metadata": {
      "needs_background": "light"
     },
     "output_type": "display_data"
    }
   ],
   "source": [
    "sns.barplot(bsp['Pos'], bsp['3P'])"
   ]
  },
  {
   "cell_type": "code",
   "execution_count": 13,
   "metadata": {},
   "outputs": [
    {
     "name": "stdout",
     "output_type": "stream",
     "text": [
      "Player    0\n",
      "Pos       0\n",
      "3P        0\n",
      "TRB       0\n",
      "BLK       0\n",
      "dtype: int64\n",
      "---------------------\n",
      "Player    0\n",
      "Pos       0\n",
      "3P        0\n",
      "TRB       0\n",
      "BLK       0\n",
      "dtype: int64\n"
     ]
    }
   ],
   "source": [
    "# 전체 na 개수\n",
    "print(bsp.isna().sum())\n",
    "print('---------------------')\n",
    "print(bsp.isna().sum())"
   ]
  },
  {
   "cell_type": "code",
   "execution_count": 14,
   "metadata": {},
   "outputs": [
    {
     "data": {
      "text/plain": [
       "Index(['Player', 'Pos', '3P', 'TRB', 'BLK'], dtype='object')"
      ]
     },
     "execution_count": 14,
     "metadata": {},
     "output_type": "execute_result"
    }
   ],
   "source": [
    "bsp.columns"
   ]
  },
  {
   "cell_type": "code",
   "execution_count": 15,
   "metadata": {},
   "outputs": [],
   "source": [
    "# train, test split\n",
    "# train = pd.read_csv(\"https://raw.githubusercontent.com/wikibook/machine-learning/2.0/data/csv/basketball_train.csv\")\n",
    "# test = pd.read_csv(\"https://raw.githubusercontent.com/wikibook/machine-learning/2.0/data/csv/basketball_test.csv\")"
   ]
  },
  {
   "cell_type": "code",
   "execution_count": 16,
   "metadata": {},
   "outputs": [],
   "source": [
    "X_train, X_test, Y_train, Y_test = train_test_split(\n",
    "            bsp.iloc[:, 2:], #문제(설명변수 3개, 인덱스 2~끝),\n",
    "            bsp.iloc[:, 1], #정답(종속변수 1개, target, 인덱스 1)\n",
    "            test_size=0.2, #테스트 비율,\n",
    "            random_state=42#랜덤 시드값\n",
    ")"
   ]
  },
  {
   "cell_type": "code",
   "execution_count": 17,
   "metadata": {},
   "outputs": [
    {
     "data": {
      "text/plain": [
       "(80, 3)"
      ]
     },
     "execution_count": 17,
     "metadata": {},
     "output_type": "execute_result"
    }
   ],
   "source": [
    "X_train.shape"
   ]
  },
  {
   "cell_type": "code",
   "execution_count": 18,
   "metadata": {},
   "outputs": [
    {
     "data": {
      "text/plain": [
       "(80,)"
      ]
     },
     "execution_count": 18,
     "metadata": {},
     "output_type": "execute_result"
    }
   ],
   "source": [
    "Y_train.shape"
   ]
  },
  {
   "cell_type": "code",
   "execution_count": 19,
   "metadata": {},
   "outputs": [
    {
     "data": {
      "text/plain": [
       "(20, 3)"
      ]
     },
     "execution_count": 19,
     "metadata": {},
     "output_type": "execute_result"
    }
   ],
   "source": [
    "X_test.shape"
   ]
  },
  {
   "cell_type": "code",
   "execution_count": 20,
   "metadata": {},
   "outputs": [
    {
     "data": {
      "text/plain": [
       "(20,)"
      ]
     },
     "execution_count": 20,
     "metadata": {},
     "output_type": "execute_result"
    }
   ],
   "source": [
    "Y_test.shape"
   ]
  },
  {
   "cell_type": "code",
   "execution_count": 21,
   "metadata": {},
   "outputs": [],
   "source": [
    "# 모델 선정 ==> cross-validation(교차검증)\n",
    "# knn, svm, descision tree\n",
    "from sklearn.neighbors import KNeighborsClassifier\n",
    "from sklearn.svm import SVC\n",
    "from sklearn.tree import DecisionTreeClassifier"
   ]
  },
  {
   "cell_type": "code",
   "execution_count": 22,
   "metadata": {},
   "outputs": [],
   "source": [
    "model_list=[]\n",
    "knn = KNeighborsClassifier()\n",
    "svm = SVC()\n",
    "dt = DecisionTreeClassifier()\n",
    "model_list = [knn, svm, dt]"
   ]
  },
  {
   "cell_type": "code",
   "execution_count": 23,
   "metadata": {},
   "outputs": [
    {
     "data": {
      "text/plain": [
       "[KNeighborsClassifier(), SVC(), DecisionTreeClassifier()]"
      ]
     },
     "execution_count": 23,
     "metadata": {},
     "output_type": "execute_result"
    }
   ],
   "source": [
    "model_list"
   ]
  },
  {
   "cell_type": "code",
   "execution_count": 24,
   "metadata": {},
   "outputs": [],
   "source": [
    "# 모델 실행 함수화\n",
    "def print_cv(model, train, test, k):\n",
    "    scores = cross_val_score(model, train, test, cv = k)\n",
    "    print('-----------교차 검증(cv) 결과---------------', scores)\n",
    "    mean_scores = np.mean(scores)\n",
    "    print('-----------교차 검증(cv) 평균 결과---------------', mean_scores)\n",
    "    return scores, mean_scores\n",
    "\n",
    "# 함수의 결과로 여러 개의 데이터를 return할 수 있다\n",
    "# 튜플로 묶어서 반환하게 된다. (scores, mean_scores)"
   ]
  },
  {
   "cell_type": "code",
   "execution_count": 25,
   "metadata": {},
   "outputs": [],
   "source": [
    "# cv_result = print_cv() # cv_result는 tuple이 저장 (scores, mean_scores)\n",
    "# index_0 = print_cv(0)\n",
    "# index_1 = print_cv(1)"
   ]
  },
  {
   "cell_type": "code",
   "execution_count": 26,
   "metadata": {},
   "outputs": [],
   "source": [
    "# index_0, index_1 = print_cv()"
   ]
  },
  {
   "cell_type": "code",
   "execution_count": 27,
   "metadata": {},
   "outputs": [],
   "source": [
    "# k = 5, 전체 몇 번의 교차검증을 하게 될까요?\n",
    "# model_n:3 * k = 5 ==> total_n = 15"
   ]
  },
  {
   "cell_type": "code",
   "execution_count": 28,
   "metadata": {},
   "outputs": [
    {
     "name": "stdout",
     "output_type": "stream",
     "text": [
      "-----------교차 검증(cv) 결과--------------- [0.9375 0.8125 0.8125 0.875  1.    ]\n",
      "-----------교차 검증(cv) 평균 결과--------------- 0.8875\n",
      "-----------교차 검증(cv) 결과--------------- [0.875  0.875  0.8125 0.9375 1.    ]\n",
      "-----------교차 검증(cv) 평균 결과--------------- 0.9\n",
      "-----------교차 검증(cv) 결과--------------- [0.9375 1.     0.875  0.875  1.    ]\n",
      "-----------교차 검증(cv) 평균 결과--------------- 0.9375\n",
      "\n",
      "**********************************************\n",
      "-------전체 모델 리스트-------\n",
      "['KNeighborsClassifier()', 'SVC()', 'DecisionTreeClassifier()']\n",
      "-------전체 모델의 교차검증 결과 리스트-------\n",
      "[array([0.9375, 0.8125, 0.8125, 0.875 , 1.    ]), array([0.875 , 0.875 , 0.8125, 0.9375, 1.    ]), array([0.9375, 1.    , 0.875 , 0.875 , 1.    ])]\n",
      "-------전체 모델의 교차검증 결과 평균-------\n",
      "[0.8875, 0.9, 0.9375]\n"
     ]
    }
   ],
   "source": [
    "model_names = ['KNeighborsClassifier()', 'SVC()', 'DecisionTreeClassifier()']\n",
    "sc_list = []\n",
    "mean_sc_list =[]\n",
    "for model in model_list:\n",
    "    sc, mean_sc = print_cv(model, X_train, Y_train, 5)\n",
    "    sc_list.append(sc)\n",
    "    mean_sc_list.append(mean_sc)\n",
    "print('\\n**********************************************')\n",
    "print('-------전체 모델 리스트-------')\n",
    "print(model_names)\n",
    "print('-------전체 모델의 교차검증 결과 리스트-------')\n",
    "print(sc_list)\n",
    "print('-------전체 모델의 교차검증 결과 평균-------')\n",
    "print(mean_sc_list)"
   ]
  },
  {
   "cell_type": "code",
   "execution_count": 29,
   "metadata": {},
   "outputs": [],
   "source": [
    "# 시각화해서 비교해보기"
   ]
  },
  {
   "cell_type": "code",
   "execution_count": 30,
   "metadata": {},
   "outputs": [
    {
     "data": {
      "text/plain": [
       "(array([1., 0., 1., 0., 0., 0., 0., 0., 0., 1.]),\n",
       " array([0.8875, 0.8925, 0.8975, 0.9025, 0.9075, 0.9125, 0.9175, 0.9225,\n",
       "        0.9275, 0.9325, 0.9375]),\n",
       " <a list of 10 Patch objects>)"
      ]
     },
     "execution_count": 30,
     "metadata": {},
     "output_type": "execute_result"
    },
    {
     "data": {
      "image/png": "[encoded data removed]",
      "text/plain": [
       "<Figure size 432x288 with 1 Axes>"
      ]
     },
     "metadata": {
      "needs_background": "light"
     },
     "output_type": "display_data"
    }
   ],
   "source": [
    "plt.hist(mean_sc_list)"
   ]
  },
  {
   "cell_type": "code",
   "execution_count": 31,
   "metadata": {},
   "outputs": [],
   "source": [
    "# 교차검증 결과 Decision Tree를 사용해서 테스트 해보기로 결정함"
   ]
  },
  {
   "cell_type": "markdown",
   "metadata": {},
   "source": [
    "[**DecisionTreeClassifier**]\n",
    "\n",
    "https://scikit-learn.org/stable/modules/generated/sklearn.tree.DecisionTreeClassifier.html\n",
    "\n",
    "<img src=\"https://github.com/aliciawill/python-data/blob/master/data12/fun_params_show.png?raw=true\">\n",
    "\n",
    "<img src=\"https://camo.githubusercontent.com/efc8400119de0a5389f9ab87d13b065a385cefea780c75514b85bfb5223769f6/68747470733a2f2f7363696b69742d6c6561726e2e6f72672f737461626c652f5f696d616765732f737068785f676c725f706c6f745f726f635f3030322e706e67\">"
   ]
  },
  {
   "cell_type": "code",
   "execution_count": 32,
   "metadata": {},
   "outputs": [],
   "source": [
    "# 하이퍼 파라메터 --> grid search"
   ]
  },
  {
   "cell_type": "code",
   "execution_count": 33,
   "metadata": {},
   "outputs": [],
   "source": [
    "params = { # 하이퍼 파라메터 설정으로 가질 수 있는 모든 경우의 수 ==> 4 * 3 * 2 : 24개의 경우의 수\n",
    "    'max_depth' : [3, 5, 7, 10], # key: 하이퍼 파라메터명, values는 list타입이어야 함\n",
    "    'random_state' : [1, 3, 5],\n",
    "    'criterion' : ['gini', 'entropy'] # 혼란스러운 정도 (분류의 정도)를 계산하는 기준 \n",
    "}"
   ]
  },
  {
   "cell_type": "markdown",
   "metadata": {},
   "source": [
    "<img src=\"https://github.com/aliciawill/python-data/blob/master/data12/fun_params_show2.png?raw=true\">"
   ]
  },
  {
   "cell_type": "code",
   "execution_count": 34,
   "metadata": {},
   "outputs": [],
   "source": [
    "def grid_search(model, params, k):\n",
    "    gs_model = GridSearchCV(model, params, cv = k)\n",
    "    ## gs_model는 최적의 파라메터가 적용된 모델의 객체!\n",
    "    gs_model.fit(X_train, Y_train)\n",
    "    print('best_estimator :', gs_model.best_estimator_) # 최적의 파라메터가 적용된 모델 객체\n",
    "    print('------------------------------------------')\n",
    "    print('best_score :', gs_model.best_score_) # 최적의 파라메터가 적용된 모델로 학습한 정확도 결과(accuracy)\n",
    "    print('------------------------------------------')\n",
    "    print('best_params :', gs_model.best_params_) # 그리드 서치를 통해 찾은 최적의 파라메터\n",
    "    print('------------------------------------------')\n",
    "    print(gs_model) # grid_search 객체"
   ]
  },
  {
   "cell_type": "code",
   "execution_count": 35,
   "metadata": {},
   "outputs": [
    {
     "name": "stdout",
     "output_type": "stream",
     "text": [
      "best_estimator : DecisionTreeClassifier(max_depth=3, random_state=1)\n",
      "------------------------------------------\n",
      "best_score : 0.95\n",
      "------------------------------------------\n",
      "best_params : {'criterion': 'gini', 'max_depth': 3, 'random_state': 1}\n",
      "------------------------------------------\n",
      "GridSearchCV(cv=5, estimator=DecisionTreeClassifier(),\n",
      "             param_grid={'criterion': ['gini', 'entropy'],\n",
      "                         'max_depth': [3, 5, 7, 10],\n",
      "                         'random_state': [1, 3, 5]})\n"
     ]
    }
   ],
   "source": [
    "# 함수의 모든 파라메터를 보고 싶으면 함수명 쓰고 shift_tab\n",
    "grid_search(dt, params, 5) # grid_search의 모든 경우의 수는 24*5"
   ]
  },
  {
   "cell_type": "code",
   "execution_count": 36,
   "metadata": {},
   "outputs": [],
   "source": [
    "# --> grid_search를 통해 찾은 최적의 파라메터는 \n",
    "#    {'criterion': 'gini', 'max_depth': 3, 'random_state': 1}"
   ]
  },
  {
   "cell_type": "code",
   "execution_count": 37,
   "metadata": {},
   "outputs": [
    {
     "data": {
      "text/plain": [
       "DecisionTreeClassifier(max_depth=3, random_state=1)"
      ]
     },
     "execution_count": 37,
     "metadata": {},
     "output_type": "execute_result"
    }
   ],
   "source": [
    "# 최적의 하이퍼 파라메터로 모델 객체 생성\n",
    "# fit()\n",
    "dt_gs = DecisionTreeClassifier(criterion = 'gini', max_depth = 3, random_state = 1)\n",
    "dt_gs.fit(X_train, Y_train)"
   ]
  },
  {
   "cell_type": "code",
   "execution_count": 44,
   "metadata": {},
   "outputs": [],
   "source": [
    "# test 데이터로 검증해보자!\n",
    "def test_validation(model, X_test, Y_test):\n",
    "    predict_result = model.predict(X_test)\n",
    "    acc = accuracy_score(Y_test, predict_result)\n",
    "    print('accuracy >>', acc)\n",
    "    cf = confusion_matrix(Y_test, predict_result)\n",
    "    # 실제(c) --> 예측(c, sg), 실제(sg) --> 예측(sg, c)\n",
    "    # 이진분류(binary classification)인 경우에는\n",
    "    # 예측할 수 있는 경우의 수는 4가지\n",
    "    # 4가지를 표 형태로 정리해주는 것이 confusion_matrix\n",
    "    # 첫번째 행/열은 c, 두번째 행/열은 sg, abc 순으로 행/열이 결정\n",
    "    print('confusion_matrix >> \\n', cf)"
   ]
  },
  {
   "cell_type": "code",
   "execution_count": 45,
   "metadata": {},
   "outputs": [
    {
     "name": "stdout",
     "output_type": "stream",
     "text": [
      "accuracy >> 0.95\n",
      "confusion_matrix >> \n",
      " [[10  0]\n",
      " [ 1  9]]\n"
     ]
    }
   ],
   "source": [
    "test_validation(dt_gs, X_test, Y_test)"
   ]
  },
  {
   "cell_type": "code",
   "execution_count": 41,
   "metadata": {},
   "outputs": [
    {
     "data": {
      "text/plain": [
       "C     10\n",
       "SG    10\n",
       "Name: Pos, dtype: int64"
      ]
     },
     "execution_count": 41,
     "metadata": {},
     "output_type": "execute_result"
    }
   ],
   "source": [
    "Y_test.value_counts()"
   ]
  },
  {
   "cell_type": "code",
   "execution_count": 11,
   "metadata": {},
   "outputs": [],
   "source": [
    "# 정확도 체크, acc, recall, precision, f1-score\n",
    "# confusion matrix(혼동행렬)"
   ]
  }
 ],
 "metadata": {
  "kernelspec": {
   "display_name": "Python 3",
   "language": "python",
   "name": "python3"
  },
  "language_info": {
   "codemirror_mode": {
    "name": "ipython",
    "version": 3
   },
   "file_extension": ".py",
   "mimetype": "text/x-python",
   "name": "python",
   "nbconvert_exporter": "python",
   "pygments_lexer": "ipython3",
   "version": "3.7.0"
  }
 },
 "nbformat": 4,
 "nbformat_minor": 2
}
