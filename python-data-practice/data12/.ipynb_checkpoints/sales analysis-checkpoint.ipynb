{
 "cells": [
  {
   "cell_type": "code",
   "execution_count": 1,
   "metadata": {},
   "outputs": [],
   "source": [
    "# 주요 라이브러리 import\n",
    "import warnings\n",
    "warnings.filterwarnings(action='ignore')\n",
    "import time\n",
    "from IPython.display import Image\n",
    "import pandas as pd\n",
    "import numpy as np\n",
    "\n",
    "import matplotlib.pyplot as plt\n",
    "import seaborn as sns\n",
    "\n",
    "from sklearn.model_selection import train_test_split\n",
    "from sklearn.model_selection import GridSearchCV\n",
    "from sklearn.model_selection import cross_val_score\n",
    "from sklearn.metrics import *\n",
    "\n",
    "from matplotlib import rc, font_manager\n",
    "import matplotlib.font_manager as fm\n",
    "from sklearn.preprocessing import StandardScaler\n",
    "\n",
    "from sklearn.preprocessing import MinMaxScaler"
   ]
  },
  {
   "cell_type": "code",
   "execution_count": 2,
   "metadata": {},
   "outputs": [],
   "source": [
    "# 디렉토리 및 파일 이름에 맞추어 변경\n",
    "# font_location = '/Library/Fonts/Arial Unicode.ttf'#윈도우안에있는 폰트파일주소.\n",
    "font_location = '../data04/NanumGothic.ttf'\n",
    "font_name = fm.FontProperties(fname=font_location).get_name()\n",
    "rc('font', family=font_name)"
   ]
  },
  {
   "cell_type": "code",
   "execution_count": 3,
   "metadata": {},
   "outputs": [
    {
     "data": {
      "text/html": [
       "<div>\n",
       "<style scoped>\n",
       "    .dataframe tbody tr th:only-of-type {\n",
       "        vertical-align: middle;\n",
       "    }\n",
       "\n",
       "    .dataframe tbody tr th {\n",
       "        vertical-align: top;\n",
       "    }\n",
       "\n",
       "    .dataframe thead th {\n",
       "        text-align: right;\n",
       "    }\n",
       "</style>\n",
       "<table border=\"1\" class=\"dataframe\">\n",
       "  <thead>\n",
       "    <tr style=\"text-align: right;\">\n",
       "      <th></th>\n",
       "      <th>날짜</th>\n",
       "      <th>사이트그룹</th>\n",
       "      <th>유입수</th>\n",
       "      <th>결제수</th>\n",
       "      <th>유입당 결제율</th>\n",
       "      <th>결제금액</th>\n",
       "      <th>유입당 결제금액</th>\n",
       "    </tr>\n",
       "  </thead>\n",
       "  <tbody>\n",
       "    <tr>\n",
       "      <th>0</th>\n",
       "      <td>NaT</td>\n",
       "      <td>NaN</td>\n",
       "      <td>NaN</td>\n",
       "      <td>NaN</td>\n",
       "      <td>NaN</td>\n",
       "      <td>NaN</td>\n",
       "      <td>NaN</td>\n",
       "    </tr>\n",
       "    <tr>\n",
       "      <th>1</th>\n",
       "      <td>2022-04-04</td>\n",
       "      <td>연 100억 ~ 400억</td>\n",
       "      <td>161197.0</td>\n",
       "      <td>1672.0</td>\n",
       "      <td>0.0104</td>\n",
       "      <td>113328310.0</td>\n",
       "      <td>703.0</td>\n",
       "    </tr>\n",
       "    <tr>\n",
       "      <th>2</th>\n",
       "      <td>2022-04-04</td>\n",
       "      <td>연 24억 ~ 100억</td>\n",
       "      <td>19625.0</td>\n",
       "      <td>263.0</td>\n",
       "      <td>0.0134</td>\n",
       "      <td>14660121.0</td>\n",
       "      <td>747.0</td>\n",
       "    </tr>\n",
       "    <tr>\n",
       "      <th>3</th>\n",
       "      <td>2022-04-04</td>\n",
       "      <td>연 10억 ~ 24억</td>\n",
       "      <td>6683.0</td>\n",
       "      <td>118.0</td>\n",
       "      <td>0.0176</td>\n",
       "      <td>4916029.0</td>\n",
       "      <td>736.0</td>\n",
       "    </tr>\n",
       "    <tr>\n",
       "      <th>4</th>\n",
       "      <td>2022-04-04</td>\n",
       "      <td>연 5억 ~ 10억</td>\n",
       "      <td>2798.0</td>\n",
       "      <td>43.0</td>\n",
       "      <td>0.0153</td>\n",
       "      <td>2070003.0</td>\n",
       "      <td>740.0</td>\n",
       "    </tr>\n",
       "  </tbody>\n",
       "</table>\n",
       "</div>"
      ],
      "text/plain": [
       "          날짜          사이트그룹       유입수     결제수  유입당 결제율         결제금액  유입당 결제금액\n",
       "0        NaT            NaN       NaN     NaN      NaN          NaN       NaN\n",
       "1 2022-04-04  연 100억 ~ 400억  161197.0  1672.0   0.0104  113328310.0     703.0\n",
       "2 2022-04-04   연 24억 ~ 100억   19625.0   263.0   0.0134   14660121.0     747.0\n",
       "3 2022-04-04    연 10억 ~ 24억    6683.0   118.0   0.0176    4916029.0     736.0\n",
       "4 2022-04-04     연 5억 ~ 10억    2798.0    43.0   0.0153    2070003.0     740.0"
      ]
     },
     "execution_count": 3,
     "metadata": {},
     "output_type": "execute_result"
    }
   ],
   "source": [
    "annual_income = pd.read_excel('./연매출.xlsx')\n",
    "annual_income.head()"
   ]
  },
  {
   "cell_type": "code",
   "execution_count": 4,
   "metadata": {},
   "outputs": [],
   "source": [
    "annual_income.drop(index=0, inplace=True)"
   ]
  },
  {
   "cell_type": "code",
   "execution_count": 5,
   "metadata": {},
   "outputs": [
    {
     "data": {
      "text/html": [
       "<div>\n",
       "<style scoped>\n",
       "    .dataframe tbody tr th:only-of-type {\n",
       "        vertical-align: middle;\n",
       "    }\n",
       "\n",
       "    .dataframe tbody tr th {\n",
       "        vertical-align: top;\n",
       "    }\n",
       "\n",
       "    .dataframe thead th {\n",
       "        text-align: right;\n",
       "    }\n",
       "</style>\n",
       "<table border=\"1\" class=\"dataframe\">\n",
       "  <thead>\n",
       "    <tr style=\"text-align: right;\">\n",
       "      <th></th>\n",
       "      <th>날짜</th>\n",
       "      <th>사이트그룹</th>\n",
       "      <th>유입수</th>\n",
       "      <th>결제수</th>\n",
       "      <th>유입당 결제율</th>\n",
       "      <th>결제금액</th>\n",
       "      <th>유입당 결제금액</th>\n",
       "    </tr>\n",
       "  </thead>\n",
       "  <tbody>\n",
       "    <tr>\n",
       "      <th>1</th>\n",
       "      <td>2022-04-04</td>\n",
       "      <td>연 100억 ~ 400억</td>\n",
       "      <td>161197.0</td>\n",
       "      <td>1672.0</td>\n",
       "      <td>0.0104</td>\n",
       "      <td>113328310.0</td>\n",
       "      <td>703.0</td>\n",
       "    </tr>\n",
       "    <tr>\n",
       "      <th>2</th>\n",
       "      <td>2022-04-04</td>\n",
       "      <td>연 24억 ~ 100억</td>\n",
       "      <td>19625.0</td>\n",
       "      <td>263.0</td>\n",
       "      <td>0.0134</td>\n",
       "      <td>14660121.0</td>\n",
       "      <td>747.0</td>\n",
       "    </tr>\n",
       "    <tr>\n",
       "      <th>3</th>\n",
       "      <td>2022-04-04</td>\n",
       "      <td>연 10억 ~ 24억</td>\n",
       "      <td>6683.0</td>\n",
       "      <td>118.0</td>\n",
       "      <td>0.0176</td>\n",
       "      <td>4916029.0</td>\n",
       "      <td>736.0</td>\n",
       "    </tr>\n",
       "    <tr>\n",
       "      <th>4</th>\n",
       "      <td>2022-04-04</td>\n",
       "      <td>연 5억 ~ 10억</td>\n",
       "      <td>2798.0</td>\n",
       "      <td>43.0</td>\n",
       "      <td>0.0153</td>\n",
       "      <td>2070003.0</td>\n",
       "      <td>740.0</td>\n",
       "    </tr>\n",
       "    <tr>\n",
       "      <th>5</th>\n",
       "      <td>2022-04-04</td>\n",
       "      <td>연 3억 ~ 5억</td>\n",
       "      <td>1692.0</td>\n",
       "      <td>25.0</td>\n",
       "      <td>0.0148</td>\n",
       "      <td>1157811.0</td>\n",
       "      <td>684.0</td>\n",
       "    </tr>\n",
       "  </tbody>\n",
       "</table>\n",
       "</div>"
      ],
      "text/plain": [
       "          날짜          사이트그룹       유입수     결제수  유입당 결제율         결제금액  유입당 결제금액\n",
       "1 2022-04-04  연 100억 ~ 400억  161197.0  1672.0   0.0104  113328310.0     703.0\n",
       "2 2022-04-04   연 24억 ~ 100억   19625.0   263.0   0.0134   14660121.0     747.0\n",
       "3 2022-04-04    연 10억 ~ 24억    6683.0   118.0   0.0176    4916029.0     736.0\n",
       "4 2022-04-04     연 5억 ~ 10억    2798.0    43.0   0.0153    2070003.0     740.0\n",
       "5 2022-04-04      연 3억 ~ 5억    1692.0    25.0   0.0148    1157811.0     684.0"
      ]
     },
     "execution_count": 5,
     "metadata": {},
     "output_type": "execute_result"
    }
   ],
   "source": [
    "annual_income.head()"
   ]
  },
  {
   "cell_type": "code",
   "execution_count": 6,
   "metadata": {},
   "outputs": [
    {
     "data": {
      "text/html": [
       "<div>\n",
       "<style scoped>\n",
       "    .dataframe tbody tr th:only-of-type {\n",
       "        vertical-align: middle;\n",
       "    }\n",
       "\n",
       "    .dataframe tbody tr th {\n",
       "        vertical-align: top;\n",
       "    }\n",
       "\n",
       "    .dataframe thead th {\n",
       "        text-align: right;\n",
       "    }\n",
       "</style>\n",
       "<table border=\"1\" class=\"dataframe\">\n",
       "  <thead>\n",
       "    <tr style=\"text-align: right;\">\n",
       "      <th></th>\n",
       "      <th>날짜</th>\n",
       "      <th>사이트그룹</th>\n",
       "      <th>유입수</th>\n",
       "      <th>결제수</th>\n",
       "      <th>유입당 결제율</th>\n",
       "      <th>결제금액</th>\n",
       "      <th>유입당 결제금액</th>\n",
       "    </tr>\n",
       "  </thead>\n",
       "  <tbody>\n",
       "    <tr>\n",
       "      <th>0</th>\n",
       "      <td>2022-04-04</td>\n",
       "      <td>연 100억 ~ 400억</td>\n",
       "      <td>161197.0</td>\n",
       "      <td>1672.0</td>\n",
       "      <td>0.0104</td>\n",
       "      <td>113328310.0</td>\n",
       "      <td>703.0</td>\n",
       "    </tr>\n",
       "    <tr>\n",
       "      <th>1</th>\n",
       "      <td>2022-04-04</td>\n",
       "      <td>연 24억 ~ 100억</td>\n",
       "      <td>19625.0</td>\n",
       "      <td>263.0</td>\n",
       "      <td>0.0134</td>\n",
       "      <td>14660121.0</td>\n",
       "      <td>747.0</td>\n",
       "    </tr>\n",
       "    <tr>\n",
       "      <th>2</th>\n",
       "      <td>2022-04-04</td>\n",
       "      <td>연 10억 ~ 24억</td>\n",
       "      <td>6683.0</td>\n",
       "      <td>118.0</td>\n",
       "      <td>0.0176</td>\n",
       "      <td>4916029.0</td>\n",
       "      <td>736.0</td>\n",
       "    </tr>\n",
       "    <tr>\n",
       "      <th>3</th>\n",
       "      <td>2022-04-04</td>\n",
       "      <td>연 5억 ~ 10억</td>\n",
       "      <td>2798.0</td>\n",
       "      <td>43.0</td>\n",
       "      <td>0.0153</td>\n",
       "      <td>2070003.0</td>\n",
       "      <td>740.0</td>\n",
       "    </tr>\n",
       "    <tr>\n",
       "      <th>4</th>\n",
       "      <td>2022-04-04</td>\n",
       "      <td>연 3억 ~ 5억</td>\n",
       "      <td>1692.0</td>\n",
       "      <td>25.0</td>\n",
       "      <td>0.0148</td>\n",
       "      <td>1157811.0</td>\n",
       "      <td>684.0</td>\n",
       "    </tr>\n",
       "    <tr>\n",
       "      <th>...</th>\n",
       "      <td>...</td>\n",
       "      <td>...</td>\n",
       "      <td>...</td>\n",
       "      <td>...</td>\n",
       "      <td>...</td>\n",
       "      <td>...</td>\n",
       "      <td>...</td>\n",
       "    </tr>\n",
       "    <tr>\n",
       "      <th>1010</th>\n",
       "      <td>2022-01-03</td>\n",
       "      <td>연 0.01억 미만</td>\n",
       "      <td>9.0</td>\n",
       "      <td>0.1</td>\n",
       "      <td>0.0124</td>\n",
       "      <td>5607.0</td>\n",
       "      <td>618.0</td>\n",
       "    </tr>\n",
       "    <tr>\n",
       "      <th>1011</th>\n",
       "      <td>2022-01-03</td>\n",
       "      <td>2020년 개설</td>\n",
       "      <td>75.0</td>\n",
       "      <td>1.0</td>\n",
       "      <td>0.0136</td>\n",
       "      <td>64249.0</td>\n",
       "      <td>852.0</td>\n",
       "    </tr>\n",
       "    <tr>\n",
       "      <th>1012</th>\n",
       "      <td>2022-01-02</td>\n",
       "      <td>연 100억 ~ 400억</td>\n",
       "      <td>82347.0</td>\n",
       "      <td>949.0</td>\n",
       "      <td>0.0115</td>\n",
       "      <td>84791130.0</td>\n",
       "      <td>1030.0</td>\n",
       "    </tr>\n",
       "    <tr>\n",
       "      <th>1013</th>\n",
       "      <td>2022-01-02</td>\n",
       "      <td>연 24억 ~ 100억</td>\n",
       "      <td>11889.0</td>\n",
       "      <td>157.0</td>\n",
       "      <td>0.0132</td>\n",
       "      <td>10603303.0</td>\n",
       "      <td>892.0</td>\n",
       "    </tr>\n",
       "    <tr>\n",
       "      <th>1014</th>\n",
       "      <td>2022-01-02</td>\n",
       "      <td>연 10억 ~ 24억</td>\n",
       "      <td>4559.0</td>\n",
       "      <td>67.0</td>\n",
       "      <td>0.0147</td>\n",
       "      <td>3554061.0</td>\n",
       "      <td>780.0</td>\n",
       "    </tr>\n",
       "  </tbody>\n",
       "</table>\n",
       "<p>1015 rows × 7 columns</p>\n",
       "</div>"
      ],
      "text/plain": [
       "             날짜          사이트그룹       유입수     결제수  유입당 결제율         결제금액  \\\n",
       "0    2022-04-04  연 100억 ~ 400억  161197.0  1672.0   0.0104  113328310.0   \n",
       "1    2022-04-04   연 24억 ~ 100억   19625.0   263.0   0.0134   14660121.0   \n",
       "2    2022-04-04    연 10억 ~ 24억    6683.0   118.0   0.0176    4916029.0   \n",
       "3    2022-04-04     연 5억 ~ 10억    2798.0    43.0   0.0153    2070003.0   \n",
       "4    2022-04-04      연 3억 ~ 5억    1692.0    25.0   0.0148    1157811.0   \n",
       "...         ...            ...       ...     ...      ...          ...   \n",
       "1010 2022-01-03     연 0.01억 미만       9.0     0.1   0.0124       5607.0   \n",
       "1011 2022-01-03       2020년 개설      75.0     1.0   0.0136      64249.0   \n",
       "1012 2022-01-02  연 100억 ~ 400억   82347.0   949.0   0.0115   84791130.0   \n",
       "1013 2022-01-02   연 24억 ~ 100억   11889.0   157.0   0.0132   10603303.0   \n",
       "1014 2022-01-02    연 10억 ~ 24억    4559.0    67.0   0.0147    3554061.0   \n",
       "\n",
       "      유입당 결제금액  \n",
       "0        703.0  \n",
       "1        747.0  \n",
       "2        736.0  \n",
       "3        740.0  \n",
       "4        684.0  \n",
       "...        ...  \n",
       "1010     618.0  \n",
       "1011     852.0  \n",
       "1012    1030.0  \n",
       "1013     892.0  \n",
       "1014     780.0  \n",
       "\n",
       "[1015 rows x 7 columns]"
      ]
     },
     "execution_count": 6,
     "metadata": {},
     "output_type": "execute_result"
    }
   ],
   "source": [
    "annual_income.reset_index(drop=True)"
   ]
  },
  {
   "cell_type": "code",
   "execution_count": 7,
   "metadata": {},
   "outputs": [
    {
     "data": {
      "text/html": [
       "<div>\n",
       "<style scoped>\n",
       "    .dataframe tbody tr th:only-of-type {\n",
       "        vertical-align: middle;\n",
       "    }\n",
       "\n",
       "    .dataframe tbody tr th {\n",
       "        vertical-align: top;\n",
       "    }\n",
       "\n",
       "    .dataframe thead th {\n",
       "        text-align: right;\n",
       "    }\n",
       "</style>\n",
       "<table border=\"1\" class=\"dataframe\">\n",
       "  <thead>\n",
       "    <tr style=\"text-align: right;\">\n",
       "      <th></th>\n",
       "      <th>유입수</th>\n",
       "      <th>결제수</th>\n",
       "      <th>유입당 결제율</th>\n",
       "      <th>결제금액</th>\n",
       "      <th>유입당 결제금액</th>\n",
       "    </tr>\n",
       "  </thead>\n",
       "  <tbody>\n",
       "    <tr>\n",
       "      <th>count</th>\n",
       "      <td>1015.000000</td>\n",
       "      <td>1015.000000</td>\n",
       "      <td>1015.000000</td>\n",
       "      <td>1.015000e+03</td>\n",
       "      <td>1015.000000</td>\n",
       "    </tr>\n",
       "    <tr>\n",
       "      <th>mean</th>\n",
       "      <td>9444.142857</td>\n",
       "      <td>107.403251</td>\n",
       "      <td>0.011650</td>\n",
       "      <td>7.476449e+06</td>\n",
       "      <td>631.618719</td>\n",
       "    </tr>\n",
       "    <tr>\n",
       "      <th>std</th>\n",
       "      <td>24922.316021</td>\n",
       "      <td>274.776588</td>\n",
       "      <td>0.003262</td>\n",
       "      <td>1.986135e+07</td>\n",
       "      <td>161.202653</td>\n",
       "    </tr>\n",
       "    <tr>\n",
       "      <th>min</th>\n",
       "      <td>7.000000</td>\n",
       "      <td>0.000000</td>\n",
       "      <td>0.005000</td>\n",
       "      <td>2.261000e+03</td>\n",
       "      <td>273.000000</td>\n",
       "    </tr>\n",
       "    <tr>\n",
       "      <th>25%</th>\n",
       "      <td>96.500000</td>\n",
       "      <td>1.000000</td>\n",
       "      <td>0.010100</td>\n",
       "      <td>5.833650e+04</td>\n",
       "      <td>514.000000</td>\n",
       "    </tr>\n",
       "    <tr>\n",
       "      <th>50%</th>\n",
       "      <td>650.000000</td>\n",
       "      <td>8.000000</td>\n",
       "      <td>0.011600</td>\n",
       "      <td>3.868130e+05</td>\n",
       "      <td>615.000000</td>\n",
       "    </tr>\n",
       "    <tr>\n",
       "      <th>75%</th>\n",
       "      <td>3672.500000</td>\n",
       "      <td>42.000000</td>\n",
       "      <td>0.013100</td>\n",
       "      <td>2.103318e+06</td>\n",
       "      <td>740.000000</td>\n",
       "    </tr>\n",
       "    <tr>\n",
       "      <th>max</th>\n",
       "      <td>278609.000000</td>\n",
       "      <td>2350.000000</td>\n",
       "      <td>0.089100</td>\n",
       "      <td>1.164252e+08</td>\n",
       "      <td>1538.000000</td>\n",
       "    </tr>\n",
       "  </tbody>\n",
       "</table>\n",
       "</div>"
      ],
      "text/plain": [
       "                 유입수          결제수      유입당 결제율          결제금액     유입당 결제금액\n",
       "count    1015.000000  1015.000000  1015.000000  1.015000e+03  1015.000000\n",
       "mean     9444.142857   107.403251     0.011650  7.476449e+06   631.618719\n",
       "std     24922.316021   274.776588     0.003262  1.986135e+07   161.202653\n",
       "min         7.000000     0.000000     0.005000  2.261000e+03   273.000000\n",
       "25%        96.500000     1.000000     0.010100  5.833650e+04   514.000000\n",
       "50%       650.000000     8.000000     0.011600  3.868130e+05   615.000000\n",
       "75%      3672.500000    42.000000     0.013100  2.103318e+06   740.000000\n",
       "max    278609.000000  2350.000000     0.089100  1.164252e+08  1538.000000"
      ]
     },
     "execution_count": 7,
     "metadata": {},
     "output_type": "execute_result"
    }
   ],
   "source": [
    "annual_income.describe()"
   ]
  },
  {
   "cell_type": "code",
   "execution_count": 8,
   "metadata": {},
   "outputs": [
    {
     "data": {
      "text/plain": [
       "연 24억 ~ 100억      85\n",
       "연 0.01억 미만        85\n",
       "연 0.01억 ~ 0.1억    85\n",
       "연 100억 ~ 400억     85\n",
       "연 10억 ~ 24억       85\n",
       "연 0.3억 ~ 1.0억     85\n",
       "연 0.1억 ~ 0.3억     85\n",
       "연 5억 ~ 10억        84\n",
       "연 3억 ~ 5억         84\n",
       "연 1.6억 ~ 3억       84\n",
       "2020년 개설          84\n",
       "연 1.0억 ~ 1.6억     84\n",
       "Name: 사이트그룹, dtype: int64"
      ]
     },
     "execution_count": 8,
     "metadata": {},
     "output_type": "execute_result"
    }
   ],
   "source": [
    "annual_income['사이트그룹'].value_counts()"
   ]
  },
  {
   "cell_type": "code",
   "execution_count": 9,
   "metadata": {},
   "outputs": [
    {
     "data": {
      "text/plain": [
       "날짜          0\n",
       "사이트그룹       0\n",
       "유입수         0\n",
       "결제수         0\n",
       "유입당 결제율     0\n",
       "결제금액        0\n",
       "유입당 결제금액    0\n",
       "dtype: int64"
      ]
     },
     "execution_count": 9,
     "metadata": {},
     "output_type": "execute_result"
    }
   ],
   "source": [
    "annual_income.isna().sum()"
   ]
  },
  {
   "cell_type": "code",
   "execution_count": 10,
   "metadata": {},
   "outputs": [
    {
     "name": "stdout",
     "output_type": "stream",
     "text": [
      "<class 'pandas.core.frame.DataFrame'>\n",
      "Int64Index: 1015 entries, 1 to 1015\n",
      "Data columns (total 7 columns):\n",
      " #   Column    Non-Null Count  Dtype         \n",
      "---  ------    --------------  -----         \n",
      " 0   날짜        1015 non-null   datetime64[ns]\n",
      " 1   사이트그룹     1015 non-null   object        \n",
      " 2   유입수       1015 non-null   float64       \n",
      " 3   결제수       1015 non-null   float64       \n",
      " 4   유입당 결제율   1015 non-null   float64       \n",
      " 5   결제금액      1015 non-null   float64       \n",
      " 6   유입당 결제금액  1015 non-null   float64       \n",
      "dtypes: datetime64[ns](1), float64(5), object(1)\n",
      "memory usage: 63.4+ KB\n"
     ]
    }
   ],
   "source": [
    "annual_income.info()"
   ]
  },
  {
   "cell_type": "code",
   "execution_count": 11,
   "metadata": {},
   "outputs": [
    {
     "data": {
      "text/plain": [
       "2022-02-07    12\n",
       "2022-02-22    12\n",
       "2022-01-31    12\n",
       "2022-03-17    12\n",
       "2022-02-28    12\n",
       "              ..\n",
       "2022-01-06    12\n",
       "2022-03-24    12\n",
       "2022-01-18    11\n",
       "2022-01-10     5\n",
       "2022-01-02     3\n",
       "Name: 날짜, Length: 86, dtype: int64"
      ]
     },
     "execution_count": 11,
     "metadata": {},
     "output_type": "execute_result"
    }
   ],
   "source": [
    "annual_income['날짜'].value_counts()"
   ]
  },
  {
   "cell_type": "code",
   "execution_count": 12,
   "metadata": {},
   "outputs": [
    {
     "data": {
      "text/plain": [
       "[<matplotlib.lines.Line2D at 0x19a19dc1b70>]"
      ]
     },
     "execution_count": 12,
     "metadata": {},
     "output_type": "execute_result"
    },
    {
     "data": {
      "image/png": "[encoded data removed]",
      "text/plain": [
       "<Figure size 432x288 with 1 Axes>"
      ]
     },
     "metadata": {
      "needs_background": "light"
     },
     "output_type": "display_data"
    }
   ],
   "source": [
    "plt.plot(annual_income['날짜'], annual_income['유입수'])"
   ]
  },
  {
   "cell_type": "code",
   "execution_count": 13,
   "metadata": {},
   "outputs": [
    {
     "data": {
      "text/plain": [
       "[<matplotlib.lines.Line2D at 0x19a1a218a58>]"
      ]
     },
     "execution_count": 13,
     "metadata": {},
     "output_type": "execute_result"
    },
    {
     "data": {
      "image/png": "[encoded data removed]",
      "text/plain": [
       "<Figure size 432x288 with 1 Axes>"
      ]
     },
     "metadata": {
      "needs_background": "light"
     },
     "output_type": "display_data"
    }
   ],
   "source": [
    "plt.plot(annual_income['날짜'], annual_income['결제수'])"
   ]
  },
  {
   "cell_type": "code",
   "execution_count": 14,
   "metadata": {},
   "outputs": [
    {
     "data": {
      "text/plain": [
       "[<matplotlib.lines.Line2D at 0x19a1a27aeb8>]"
      ]
     },
     "execution_count": 14,
     "metadata": {},
     "output_type": "execute_result"
    },
    {
     "data": {
      "image/png": "[encoded data removed]",
      "text/plain": [
       "<Figure size 432x288 with 1 Axes>"
      ]
     },
     "metadata": {
      "needs_background": "light"
     },
     "output_type": "display_data"
    }
   ],
   "source": [
    "plt.plot(annual_income['날짜'], annual_income['유입당 결제율'])"
   ]
  },
  {
   "cell_type": "code",
   "execution_count": 15,
   "metadata": {},
   "outputs": [
    {
     "data": {
      "text/plain": [
       "[<matplotlib.lines.Line2D at 0x19a1a2dd550>]"
      ]
     },
     "execution_count": 15,
     "metadata": {},
     "output_type": "execute_result"
    },
    {
     "data": {
      "image/png": "[encoded data removed]",
      "text/plain": [
       "<Figure size 432x288 with 1 Axes>"
      ]
     },
     "metadata": {
      "needs_background": "light"
     },
     "output_type": "display_data"
    }
   ],
   "source": [
    "plt.plot(annual_income['날짜'], annual_income['유입당 결제금액'])"
   ]
  },
  {
   "cell_type": "code",
   "execution_count": 16,
   "metadata": {},
   "outputs": [
    {
     "data": {
      "image/png": "[encoded data removed]",
      "text/plain": [
       "<Figure size 720x360 with 2 Axes>"
      ]
     },
     "metadata": {
      "needs_background": "light"
     },
     "output_type": "display_data"
    }
   ],
   "source": [
    "am = annual_income[(annual_income[\"날짜\"].dt.year == 2022)]\n",
    "ax = am.plot('날짜','유입당 결제율', figsize=(10,5))\n",
    "plt.title(\"2022년 1월 ~ 4월 매출\", fontsize=15)\n",
    "am.plot('날짜','유입당 결제금액',secondary_y=True, ax=ax)\n",
    "plt.show()"
   ]
  }
 ],
 "metadata": {
  "kernelspec": {
   "display_name": "Python 3",
   "language": "python",
   "name": "python3"
  },
  "language_info": {
   "codemirror_mode": {
    "name": "ipython",
    "version": 3
   },
   "file_extension": ".py",
   "mimetype": "text/x-python",
   "name": "python",
   "nbconvert_exporter": "python",
   "pygments_lexer": "ipython3",
   "version": "3.7.0"
  }
 },
 "nbformat": 4,
 "nbformat_minor": 2
}
