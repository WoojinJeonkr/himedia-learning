{
 "cells": [
  {
   "cell_type": "code",
   "execution_count": 1,
   "metadata": {},
   "outputs": [],
   "source": [
    "import pandas as pd\n",
    "import numpy as np"
   ]
  },
  {
   "cell_type": "code",
   "execution_count": 2,
   "metadata": {},
   "outputs": [
    {
     "data": {
      "text/plain": [
       "DatetimeIndex(['2020-06-25', '2020-06-26', '2020-06-27', '2020-06-28',\n",
       "               '2020-06-29', '2020-06-30'],\n",
       "              dtype='datetime64[ns]', freq='D')"
      ]
     },
     "execution_count": 2,
     "metadata": {},
     "output_type": "execute_result"
    }
   ],
   "source": [
    "dates = pd.date_range('20200625', periods=6)\n",
    "dates"
   ]
  },
  {
   "cell_type": "code",
   "execution_count": 3,
   "metadata": {},
   "outputs": [
    {
     "data": {
      "text/html": [
       "<div>\n",
       "<style scoped>\n",
       "    .dataframe tbody tr th:only-of-type {\n",
       "        vertical-align: middle;\n",
       "    }\n",
       "\n",
       "    .dataframe tbody tr th {\n",
       "        vertical-align: top;\n",
       "    }\n",
       "\n",
       "    .dataframe thead th {\n",
       "        text-align: right;\n",
       "    }\n",
       "</style>\n",
       "<table border=\"1\" class=\"dataframe\">\n",
       "  <thead>\n",
       "    <tr style=\"text-align: right;\">\n",
       "      <th></th>\n",
       "      <th>A</th>\n",
       "      <th>B</th>\n",
       "      <th>C</th>\n",
       "      <th>D</th>\n",
       "    </tr>\n",
       "  </thead>\n",
       "  <tbody>\n",
       "    <tr>\n",
       "      <th>2020-06-25</th>\n",
       "      <td>-0.363182</td>\n",
       "      <td>0.668161</td>\n",
       "      <td>1.875191</td>\n",
       "      <td>-0.888778</td>\n",
       "    </tr>\n",
       "    <tr>\n",
       "      <th>2020-06-26</th>\n",
       "      <td>1.392618</td>\n",
       "      <td>-0.628760</td>\n",
       "      <td>-0.651513</td>\n",
       "      <td>0.214553</td>\n",
       "    </tr>\n",
       "    <tr>\n",
       "      <th>2020-06-27</th>\n",
       "      <td>-0.609972</td>\n",
       "      <td>-0.079751</td>\n",
       "      <td>-1.509384</td>\n",
       "      <td>0.500237</td>\n",
       "    </tr>\n",
       "    <tr>\n",
       "      <th>2020-06-28</th>\n",
       "      <td>-0.242563</td>\n",
       "      <td>-1.108095</td>\n",
       "      <td>1.975162</td>\n",
       "      <td>-0.810782</td>\n",
       "    </tr>\n",
       "    <tr>\n",
       "      <th>2020-06-29</th>\n",
       "      <td>-0.659872</td>\n",
       "      <td>0.503981</td>\n",
       "      <td>2.520272</td>\n",
       "      <td>1.137402</td>\n",
       "    </tr>\n",
       "    <tr>\n",
       "      <th>2020-06-30</th>\n",
       "      <td>0.383446</td>\n",
       "      <td>0.762964</td>\n",
       "      <td>-0.790644</td>\n",
       "      <td>0.167684</td>\n",
       "    </tr>\n",
       "  </tbody>\n",
       "</table>\n",
       "</div>"
      ],
      "text/plain": [
       "                   A         B         C         D\n",
       "2020-06-25 -0.363182  0.668161  1.875191 -0.888778\n",
       "2020-06-26  1.392618 -0.628760 -0.651513  0.214553\n",
       "2020-06-27 -0.609972 -0.079751 -1.509384  0.500237\n",
       "2020-06-28 -0.242563 -1.108095  1.975162 -0.810782\n",
       "2020-06-29 -0.659872  0.503981  2.520272  1.137402\n",
       "2020-06-30  0.383446  0.762964 -0.790644  0.167684"
      ]
     },
     "execution_count": 3,
     "metadata": {},
     "output_type": "execute_result"
    }
   ],
   "source": [
    "df = pd.DataFrame(np.random.randn(6, 4), index=dates, columns=['A','B','C','D'])\n",
    "df"
   ]
  },
  {
   "cell_type": "code",
   "execution_count": 4,
   "metadata": {},
   "outputs": [
    {
     "data": {
      "text/html": [
       "<div>\n",
       "<style scoped>\n",
       "    .dataframe tbody tr th:only-of-type {\n",
       "        vertical-align: middle;\n",
       "    }\n",
       "\n",
       "    .dataframe tbody tr th {\n",
       "        vertical-align: top;\n",
       "    }\n",
       "\n",
       "    .dataframe thead th {\n",
       "        text-align: right;\n",
       "    }\n",
       "</style>\n",
       "<table border=\"1\" class=\"dataframe\">\n",
       "  <thead>\n",
       "    <tr style=\"text-align: right;\">\n",
       "      <th></th>\n",
       "      <th>A</th>\n",
       "      <th>B</th>\n",
       "      <th>C</th>\n",
       "      <th>D</th>\n",
       "    </tr>\n",
       "  </thead>\n",
       "  <tbody>\n",
       "    <tr>\n",
       "      <th>2020-06-25</th>\n",
       "      <td>-0.363182</td>\n",
       "      <td>0.668161</td>\n",
       "      <td>1.875191</td>\n",
       "      <td>-0.888778</td>\n",
       "    </tr>\n",
       "    <tr>\n",
       "      <th>2020-06-26</th>\n",
       "      <td>1.392618</td>\n",
       "      <td>-0.628760</td>\n",
       "      <td>-0.651513</td>\n",
       "      <td>0.214553</td>\n",
       "    </tr>\n",
       "    <tr>\n",
       "      <th>2020-06-27</th>\n",
       "      <td>-0.609972</td>\n",
       "      <td>-0.079751</td>\n",
       "      <td>-1.509384</td>\n",
       "      <td>0.500237</td>\n",
       "    </tr>\n",
       "    <tr>\n",
       "      <th>2020-06-28</th>\n",
       "      <td>-0.242563</td>\n",
       "      <td>-1.108095</td>\n",
       "      <td>1.975162</td>\n",
       "      <td>-0.810782</td>\n",
       "    </tr>\n",
       "    <tr>\n",
       "      <th>2020-06-29</th>\n",
       "      <td>-0.659872</td>\n",
       "      <td>0.503981</td>\n",
       "      <td>2.520272</td>\n",
       "      <td>1.137402</td>\n",
       "    </tr>\n",
       "    <tr>\n",
       "      <th>2020-06-30</th>\n",
       "      <td>0.383446</td>\n",
       "      <td>0.762964</td>\n",
       "      <td>-0.790644</td>\n",
       "      <td>0.167684</td>\n",
       "    </tr>\n",
       "  </tbody>\n",
       "</table>\n",
       "</div>"
      ],
      "text/plain": [
       "                   A         B         C         D\n",
       "2020-06-25 -0.363182  0.668161  1.875191 -0.888778\n",
       "2020-06-26  1.392618 -0.628760 -0.651513  0.214553\n",
       "2020-06-27 -0.609972 -0.079751 -1.509384  0.500237\n",
       "2020-06-28 -0.242563 -1.108095  1.975162 -0.810782\n",
       "2020-06-29 -0.659872  0.503981  2.520272  1.137402\n",
       "2020-06-30  0.383446  0.762964 -0.790644  0.167684"
      ]
     },
     "execution_count": 4,
     "metadata": {},
     "output_type": "execute_result"
    }
   ],
   "source": [
    "df2 = df.copy()\n",
    "df2\n",
    "# df는 기본적으로 행, 열의 위치값을 가지고 있음\n",
    "# '기본적으로 가지고 있는 위치값(index)'를 이용하여 조작하는 경우 iloc[]를 사용!\n",
    "# 일부 그래프나 분석 시 특정항목을 index항목으로 수동으로 설정해야하는 경우가 있음\n",
    "# 특정 항목을 index항목으로 설정가능한 경우는 unique/not null인 값을 가지는 항목만 설정 가능!\n",
    "# user_id, bbs_id pk조건과 일치!"
   ]
  },
  {
   "cell_type": "code",
   "execution_count": 5,
   "metadata": {},
   "outputs": [
    {
     "data": {
      "text/html": [
       "<div>\n",
       "<style scoped>\n",
       "    .dataframe tbody tr th:only-of-type {\n",
       "        vertical-align: middle;\n",
       "    }\n",
       "\n",
       "    .dataframe tbody tr th {\n",
       "        vertical-align: top;\n",
       "    }\n",
       "\n",
       "    .dataframe thead th {\n",
       "        text-align: right;\n",
       "    }\n",
       "</style>\n",
       "<table border=\"1\" class=\"dataframe\">\n",
       "  <thead>\n",
       "    <tr style=\"text-align: right;\">\n",
       "      <th></th>\n",
       "      <th>index</th>\n",
       "      <th>A</th>\n",
       "      <th>B</th>\n",
       "      <th>C</th>\n",
       "      <th>D</th>\n",
       "    </tr>\n",
       "  </thead>\n",
       "  <tbody>\n",
       "    <tr>\n",
       "      <th>0</th>\n",
       "      <td>2020-06-25</td>\n",
       "      <td>-0.363182</td>\n",
       "      <td>0.668161</td>\n",
       "      <td>1.875191</td>\n",
       "      <td>-0.888778</td>\n",
       "    </tr>\n",
       "    <tr>\n",
       "      <th>1</th>\n",
       "      <td>2020-06-26</td>\n",
       "      <td>1.392618</td>\n",
       "      <td>-0.628760</td>\n",
       "      <td>-0.651513</td>\n",
       "      <td>0.214553</td>\n",
       "    </tr>\n",
       "    <tr>\n",
       "      <th>2</th>\n",
       "      <td>2020-06-27</td>\n",
       "      <td>-0.609972</td>\n",
       "      <td>-0.079751</td>\n",
       "      <td>-1.509384</td>\n",
       "      <td>0.500237</td>\n",
       "    </tr>\n",
       "    <tr>\n",
       "      <th>3</th>\n",
       "      <td>2020-06-28</td>\n",
       "      <td>-0.242563</td>\n",
       "      <td>-1.108095</td>\n",
       "      <td>1.975162</td>\n",
       "      <td>-0.810782</td>\n",
       "    </tr>\n",
       "    <tr>\n",
       "      <th>4</th>\n",
       "      <td>2020-06-29</td>\n",
       "      <td>-0.659872</td>\n",
       "      <td>0.503981</td>\n",
       "      <td>2.520272</td>\n",
       "      <td>1.137402</td>\n",
       "    </tr>\n",
       "    <tr>\n",
       "      <th>5</th>\n",
       "      <td>2020-06-30</td>\n",
       "      <td>0.383446</td>\n",
       "      <td>0.762964</td>\n",
       "      <td>-0.790644</td>\n",
       "      <td>0.167684</td>\n",
       "    </tr>\n",
       "  </tbody>\n",
       "</table>\n",
       "</div>"
      ],
      "text/plain": [
       "       index         A         B         C         D\n",
       "0 2020-06-25 -0.363182  0.668161  1.875191 -0.888778\n",
       "1 2020-06-26  1.392618 -0.628760 -0.651513  0.214553\n",
       "2 2020-06-27 -0.609972 -0.079751 -1.509384  0.500237\n",
       "3 2020-06-28 -0.242563 -1.108095  1.975162 -0.810782\n",
       "4 2020-06-29 -0.659872  0.503981  2.520272  1.137402\n",
       "5 2020-06-30  0.383446  0.762964 -0.790644  0.167684"
      ]
     },
     "execution_count": 5,
     "metadata": {},
     "output_type": "execute_result"
    }
   ],
   "source": [
    "df2.reset_index(inplace=True)\n",
    "df2"
   ]
  },
  {
   "cell_type": "code",
   "execution_count": 6,
   "metadata": {},
   "outputs": [
    {
     "data": {
      "text/html": [
       "<div>\n",
       "<style scoped>\n",
       "    .dataframe tbody tr th:only-of-type {\n",
       "        vertical-align: middle;\n",
       "    }\n",
       "\n",
       "    .dataframe tbody tr th {\n",
       "        vertical-align: top;\n",
       "    }\n",
       "\n",
       "    .dataframe thead th {\n",
       "        text-align: right;\n",
       "    }\n",
       "</style>\n",
       "<table border=\"1\" class=\"dataframe\">\n",
       "  <thead>\n",
       "    <tr style=\"text-align: right;\">\n",
       "      <th></th>\n",
       "      <th>A</th>\n",
       "      <th>B</th>\n",
       "      <th>C</th>\n",
       "      <th>D</th>\n",
       "    </tr>\n",
       "    <tr>\n",
       "      <th>index</th>\n",
       "      <th></th>\n",
       "      <th></th>\n",
       "      <th></th>\n",
       "      <th></th>\n",
       "    </tr>\n",
       "  </thead>\n",
       "  <tbody>\n",
       "    <tr>\n",
       "      <th>2020-06-25</th>\n",
       "      <td>-0.363182</td>\n",
       "      <td>0.668161</td>\n",
       "      <td>1.875191</td>\n",
       "      <td>-0.888778</td>\n",
       "    </tr>\n",
       "    <tr>\n",
       "      <th>2020-06-26</th>\n",
       "      <td>1.392618</td>\n",
       "      <td>-0.628760</td>\n",
       "      <td>-0.651513</td>\n",
       "      <td>0.214553</td>\n",
       "    </tr>\n",
       "    <tr>\n",
       "      <th>2020-06-27</th>\n",
       "      <td>-0.609972</td>\n",
       "      <td>-0.079751</td>\n",
       "      <td>-1.509384</td>\n",
       "      <td>0.500237</td>\n",
       "    </tr>\n",
       "    <tr>\n",
       "      <th>2020-06-28</th>\n",
       "      <td>-0.242563</td>\n",
       "      <td>-1.108095</td>\n",
       "      <td>1.975162</td>\n",
       "      <td>-0.810782</td>\n",
       "    </tr>\n",
       "    <tr>\n",
       "      <th>2020-06-29</th>\n",
       "      <td>-0.659872</td>\n",
       "      <td>0.503981</td>\n",
       "      <td>2.520272</td>\n",
       "      <td>1.137402</td>\n",
       "    </tr>\n",
       "    <tr>\n",
       "      <th>2020-06-30</th>\n",
       "      <td>0.383446</td>\n",
       "      <td>0.762964</td>\n",
       "      <td>-0.790644</td>\n",
       "      <td>0.167684</td>\n",
       "    </tr>\n",
       "  </tbody>\n",
       "</table>\n",
       "</div>"
      ],
      "text/plain": [
       "                   A         B         C         D\n",
       "index                                             \n",
       "2020-06-25 -0.363182  0.668161  1.875191 -0.888778\n",
       "2020-06-26  1.392618 -0.628760 -0.651513  0.214553\n",
       "2020-06-27 -0.609972 -0.079751 -1.509384  0.500237\n",
       "2020-06-28 -0.242563 -1.108095  1.975162 -0.810782\n",
       "2020-06-29 -0.659872  0.503981  2.520272  1.137402\n",
       "2020-06-30  0.383446  0.762964 -0.790644  0.167684"
      ]
     },
     "execution_count": 6,
     "metadata": {},
     "output_type": "execute_result"
    }
   ],
   "source": [
    "df2.set_index('index', inplace=True)\n",
    "df2"
   ]
  },
  {
   "cell_type": "code",
   "execution_count": 7,
   "metadata": {},
   "outputs": [],
   "source": [
    "df2['E'] = df2['A'] + 1 # 브로드캐스팅"
   ]
  },
  {
   "cell_type": "code",
   "execution_count": 8,
   "metadata": {},
   "outputs": [
    {
     "data": {
      "text/plain": [
       "Index(['A', 'B', 'C', 'D', 'E'], dtype='object')"
      ]
     },
     "execution_count": 8,
     "metadata": {},
     "output_type": "execute_result"
    }
   ],
   "source": [
    "df2.columns"
   ]
  },
  {
   "cell_type": "code",
   "execution_count": 9,
   "metadata": {},
   "outputs": [
    {
     "data": {
      "text/plain": [
       "index\n",
       "2020-06-25    0.636818\n",
       "2020-06-26    2.392618\n",
       "2020-06-27    0.390028\n",
       "2020-06-28    0.757437\n",
       "2020-06-29    0.340128\n",
       "2020-06-30    1.383446\n",
       "Name: E, dtype: float64"
      ]
     },
     "execution_count": 9,
     "metadata": {},
     "output_type": "execute_result"
    }
   ],
   "source": [
    "df2['E']"
   ]
  },
  {
   "cell_type": "code",
   "execution_count": 10,
   "metadata": {},
   "outputs": [
    {
     "data": {
      "text/plain": [
       "index\n",
       "2020-06-25    0\n",
       "2020-06-26    0\n",
       "2020-06-27    0\n",
       "2020-06-28    0\n",
       "2020-06-29    0\n",
       "2020-06-30    0\n",
       "Name: F, dtype: int64"
      ]
     },
     "execution_count": 10,
     "metadata": {},
     "output_type": "execute_result"
    }
   ],
   "source": [
    "df2['F'] = 0\n",
    "df2['F']"
   ]
  },
  {
   "cell_type": "code",
   "execution_count": 11,
   "metadata": {},
   "outputs": [
    {
     "data": {
      "text/plain": [
       "index\n",
       "2020-06-25    0\n",
       "2020-06-26    1\n",
       "2020-06-27    2\n",
       "2020-06-28    3\n",
       "2020-06-29    4\n",
       "2020-06-30    5\n",
       "Name: G, dtype: int32"
      ]
     },
     "execution_count": 11,
     "metadata": {},
     "output_type": "execute_result"
    }
   ],
   "source": [
    "df2['G'] = range(0, 6)\n",
    "df2['G']"
   ]
  },
  {
   "cell_type": "code",
   "execution_count": 12,
   "metadata": {},
   "outputs": [],
   "source": [
    "# 인덱스를 변경하고 싶은 경우, 기존의 인덱스를 살리고 싶으면\n",
    "# 먼저 reset_index()하고 나서 해야함\n",
    "# reset을 안하는 경우 기존 index는 사라짐\n",
    "df2.set_index('G', inplace=True)"
   ]
  },
  {
   "cell_type": "code",
   "execution_count": 13,
   "metadata": {},
   "outputs": [
    {
     "data": {
      "text/html": [
       "<div>\n",
       "<style scoped>\n",
       "    .dataframe tbody tr th:only-of-type {\n",
       "        vertical-align: middle;\n",
       "    }\n",
       "\n",
       "    .dataframe tbody tr th {\n",
       "        vertical-align: top;\n",
       "    }\n",
       "\n",
       "    .dataframe thead th {\n",
       "        text-align: right;\n",
       "    }\n",
       "</style>\n",
       "<table border=\"1\" class=\"dataframe\">\n",
       "  <thead>\n",
       "    <tr style=\"text-align: right;\">\n",
       "      <th></th>\n",
       "      <th>A</th>\n",
       "      <th>B</th>\n",
       "      <th>C</th>\n",
       "      <th>D</th>\n",
       "      <th>E</th>\n",
       "      <th>F</th>\n",
       "    </tr>\n",
       "    <tr>\n",
       "      <th>G</th>\n",
       "      <th></th>\n",
       "      <th></th>\n",
       "      <th></th>\n",
       "      <th></th>\n",
       "      <th></th>\n",
       "      <th></th>\n",
       "    </tr>\n",
       "  </thead>\n",
       "  <tbody>\n",
       "    <tr>\n",
       "      <th>0</th>\n",
       "      <td>-0.363182</td>\n",
       "      <td>0.668161</td>\n",
       "      <td>1.875191</td>\n",
       "      <td>-0.888778</td>\n",
       "      <td>0.636818</td>\n",
       "      <td>0</td>\n",
       "    </tr>\n",
       "    <tr>\n",
       "      <th>1</th>\n",
       "      <td>1.392618</td>\n",
       "      <td>-0.628760</td>\n",
       "      <td>-0.651513</td>\n",
       "      <td>0.214553</td>\n",
       "      <td>2.392618</td>\n",
       "      <td>0</td>\n",
       "    </tr>\n",
       "    <tr>\n",
       "      <th>2</th>\n",
       "      <td>-0.609972</td>\n",
       "      <td>-0.079751</td>\n",
       "      <td>-1.509384</td>\n",
       "      <td>0.500237</td>\n",
       "      <td>0.390028</td>\n",
       "      <td>0</td>\n",
       "    </tr>\n",
       "    <tr>\n",
       "      <th>3</th>\n",
       "      <td>-0.242563</td>\n",
       "      <td>-1.108095</td>\n",
       "      <td>1.975162</td>\n",
       "      <td>-0.810782</td>\n",
       "      <td>0.757437</td>\n",
       "      <td>0</td>\n",
       "    </tr>\n",
       "    <tr>\n",
       "      <th>4</th>\n",
       "      <td>-0.659872</td>\n",
       "      <td>0.503981</td>\n",
       "      <td>2.520272</td>\n",
       "      <td>1.137402</td>\n",
       "      <td>0.340128</td>\n",
       "      <td>0</td>\n",
       "    </tr>\n",
       "    <tr>\n",
       "      <th>5</th>\n",
       "      <td>0.383446</td>\n",
       "      <td>0.762964</td>\n",
       "      <td>-0.790644</td>\n",
       "      <td>0.167684</td>\n",
       "      <td>1.383446</td>\n",
       "      <td>0</td>\n",
       "    </tr>\n",
       "  </tbody>\n",
       "</table>\n",
       "</div>"
      ],
      "text/plain": [
       "          A         B         C         D         E  F\n",
       "G                                                     \n",
       "0 -0.363182  0.668161  1.875191 -0.888778  0.636818  0\n",
       "1  1.392618 -0.628760 -0.651513  0.214553  2.392618  0\n",
       "2 -0.609972 -0.079751 -1.509384  0.500237  0.390028  0\n",
       "3 -0.242563 -1.108095  1.975162 -0.810782  0.757437  0\n",
       "4 -0.659872  0.503981  2.520272  1.137402  0.340128  0\n",
       "5  0.383446  0.762964 -0.790644  0.167684  1.383446  0"
      ]
     },
     "execution_count": 13,
     "metadata": {},
     "output_type": "execute_result"
    }
   ],
   "source": [
    "df2"
   ]
  },
  {
   "cell_type": "code",
   "execution_count": 14,
   "metadata": {},
   "outputs": [
    {
     "data": {
      "text/plain": [
       "Index(['A', 'B', 'C', 'D', 'E', 'F'], dtype='object')"
      ]
     },
     "execution_count": 14,
     "metadata": {},
     "output_type": "execute_result"
    }
   ],
   "source": [
    "df2.columns"
   ]
  },
  {
   "cell_type": "code",
   "execution_count": 15,
   "metadata": {},
   "outputs": [
    {
     "data": {
      "text/html": [
       "<div>\n",
       "<style scoped>\n",
       "    .dataframe tbody tr th:only-of-type {\n",
       "        vertical-align: middle;\n",
       "    }\n",
       "\n",
       "    .dataframe tbody tr th {\n",
       "        vertical-align: top;\n",
       "    }\n",
       "\n",
       "    .dataframe thead th {\n",
       "        text-align: right;\n",
       "    }\n",
       "</style>\n",
       "<table border=\"1\" class=\"dataframe\">\n",
       "  <thead>\n",
       "    <tr style=\"text-align: right;\">\n",
       "      <th></th>\n",
       "      <th>A</th>\n",
       "      <th>B</th>\n",
       "      <th>C</th>\n",
       "      <th>D</th>\n",
       "    </tr>\n",
       "  </thead>\n",
       "  <tbody>\n",
       "    <tr>\n",
       "      <th>2020-06-25</th>\n",
       "      <td>-0.363182</td>\n",
       "      <td>0.668161</td>\n",
       "      <td>1.875191</td>\n",
       "      <td>-0.888778</td>\n",
       "    </tr>\n",
       "    <tr>\n",
       "      <th>2020-06-26</th>\n",
       "      <td>1.392618</td>\n",
       "      <td>-0.628760</td>\n",
       "      <td>-0.651513</td>\n",
       "      <td>0.214553</td>\n",
       "    </tr>\n",
       "    <tr>\n",
       "      <th>2020-06-27</th>\n",
       "      <td>-0.609972</td>\n",
       "      <td>-0.079751</td>\n",
       "      <td>-1.509384</td>\n",
       "      <td>0.500237</td>\n",
       "    </tr>\n",
       "    <tr>\n",
       "      <th>2020-06-28</th>\n",
       "      <td>-0.242563</td>\n",
       "      <td>-1.108095</td>\n",
       "      <td>1.975162</td>\n",
       "      <td>-0.810782</td>\n",
       "    </tr>\n",
       "    <tr>\n",
       "      <th>2020-06-29</th>\n",
       "      <td>-0.659872</td>\n",
       "      <td>0.503981</td>\n",
       "      <td>2.520272</td>\n",
       "      <td>1.137402</td>\n",
       "    </tr>\n",
       "    <tr>\n",
       "      <th>2020-06-30</th>\n",
       "      <td>0.383446</td>\n",
       "      <td>0.762964</td>\n",
       "      <td>-0.790644</td>\n",
       "      <td>0.167684</td>\n",
       "    </tr>\n",
       "  </tbody>\n",
       "</table>\n",
       "</div>"
      ],
      "text/plain": [
       "                   A         B         C         D\n",
       "2020-06-25 -0.363182  0.668161  1.875191 -0.888778\n",
       "2020-06-26  1.392618 -0.628760 -0.651513  0.214553\n",
       "2020-06-27 -0.609972 -0.079751 -1.509384  0.500237\n",
       "2020-06-28 -0.242563 -1.108095  1.975162 -0.810782\n",
       "2020-06-29 -0.659872  0.503981  2.520272  1.137402\n",
       "2020-06-30  0.383446  0.762964 -0.790644  0.167684"
      ]
     },
     "execution_count": 15,
     "metadata": {},
     "output_type": "execute_result"
    }
   ],
   "source": [
    "df3 = df.copy()\n",
    "df3"
   ]
  },
  {
   "cell_type": "code",
   "execution_count": 16,
   "metadata": {},
   "outputs": [],
   "source": [
    "# E항목을 파생변수로 만드세요. 1~10 범위 값\n",
    "# F항목을 파생변수로 만드세요. A열과 C열의 합\n",
    "# H항목을 파생변수로 만드세요. 1로 설정\n",
    "# Z항목을 파생변수로 만드세요. 1~9까지 랜덤한 값으로 설정"
   ]
  },
  {
   "cell_type": "code",
   "execution_count": 17,
   "metadata": {},
   "outputs": [],
   "source": [
    "import random"
   ]
  },
  {
   "cell_type": "code",
   "execution_count": 18,
   "metadata": {},
   "outputs": [
    {
     "data": {
      "text/plain": [
       "2020-06-25    4\n",
       "2020-06-26    1\n",
       "2020-06-27    4\n",
       "2020-06-28    2\n",
       "2020-06-29    4\n",
       "2020-06-30    6\n",
       "Freq: D, Name: E, dtype: int64"
      ]
     },
     "execution_count": 18,
     "metadata": {},
     "output_type": "execute_result"
    }
   ],
   "source": [
    "# 방법 1. \n",
    "data = range(1, 11) # 1 ~ 10\n",
    "data2 = []\n",
    "for x in range(6):\n",
    "    data2.append(random.choice(data))\n",
    "df3['E'] = data2\n",
    "# 방법 2. df3['E'] = [1, 3, 5, 7, 9, 4]\n",
    "df3['E']"
   ]
  },
  {
   "cell_type": "code",
   "execution_count": 19,
   "metadata": {},
   "outputs": [
    {
     "data": {
      "text/plain": [
       "2020-06-25    1.512009\n",
       "2020-06-26    0.741104\n",
       "2020-06-27   -2.119356\n",
       "2020-06-28    1.732598\n",
       "2020-06-29    1.860400\n",
       "2020-06-30   -0.407198\n",
       "Freq: D, Name: F, dtype: float64"
      ]
     },
     "execution_count": 19,
     "metadata": {},
     "output_type": "execute_result"
    }
   ],
   "source": [
    "df3['F'] = df3['A'] + df3['C']\n",
    "df3['F']"
   ]
  },
  {
   "cell_type": "code",
   "execution_count": 20,
   "metadata": {},
   "outputs": [
    {
     "data": {
      "text/plain": [
       "2020-06-25    1\n",
       "2020-06-26    1\n",
       "2020-06-27    1\n",
       "2020-06-28    1\n",
       "2020-06-29    1\n",
       "2020-06-30    1\n",
       "Freq: D, Name: H, dtype: int64"
      ]
     },
     "execution_count": 20,
     "metadata": {},
     "output_type": "execute_result"
    }
   ],
   "source": [
    "df3['H'] = 1\n",
    "df3['H']"
   ]
  },
  {
   "cell_type": "code",
   "execution_count": 21,
   "metadata": {},
   "outputs": [
    {
     "data": {
      "text/plain": [
       "range(0, 10)"
      ]
     },
     "execution_count": 21,
     "metadata": {},
     "output_type": "execute_result"
    }
   ],
   "source": [
    "range(10)"
   ]
  },
  {
   "cell_type": "code",
   "execution_count": 22,
   "metadata": {},
   "outputs": [
    {
     "data": {
      "text/plain": [
       "[0, 1, 2, 3, 4, 5, 6, 7, 8, 9]"
      ]
     },
     "execution_count": 22,
     "metadata": {},
     "output_type": "execute_result"
    }
   ],
   "source": [
    "list(range(10))"
   ]
  },
  {
   "cell_type": "code",
   "execution_count": 23,
   "metadata": {},
   "outputs": [
    {
     "data": {
      "text/plain": [
       "[1, 2, 3, 4, 5, 6, 7, 8, 9, 10]"
      ]
     },
     "execution_count": 23,
     "metadata": {},
     "output_type": "execute_result"
    }
   ],
   "source": [
    "# ['반복하면서 한번에 처리할 내용' for i in range(10)]\n",
    "[i + 1 for i in range(10)]"
   ]
  },
  {
   "cell_type": "code",
   "execution_count": 24,
   "metadata": {},
   "outputs": [
    {
     "data": {
      "text/plain": [
       "[1, 3, 5, 7, 9]"
      ]
     },
     "execution_count": 24,
     "metadata": {},
     "output_type": "execute_result"
    }
   ],
   "source": [
    "# ['반복하면서 한번에 처리할 내용' for i in range(10) if i/2 == 0]\n",
    "[i + 1 for i in range(10) if i%2 == 0]\n",
    "\n",
    "# data3 = []\n",
    "# for i in range(10):\n",
    "#     if i%2 == 0:\n",
    "#         data3.append(i)\n",
    "# data3"
   ]
  },
  {
   "cell_type": "code",
   "execution_count": 25,
   "metadata": {},
   "outputs": [
    {
     "data": {
      "text/plain": [
       "2020-06-25    3\n",
       "2020-06-26    7\n",
       "2020-06-27    4\n",
       "2020-06-28    8\n",
       "2020-06-29    2\n",
       "2020-06-30    9\n",
       "Freq: D, Name: Z, dtype: int64"
      ]
     },
     "execution_count": 25,
     "metadata": {},
     "output_type": "execute_result"
    }
   ],
   "source": [
    "# 리스트 내포: 결과가 항상 list\n",
    "# list comprehension\n",
    "# 방법 1.\n",
    "df3['Z'] = [random.randint(1, 10) for _ in range(6)]\n",
    "df3['Z']\n",
    "# 방법2 .\n",
    "# data2 = []\n",
    "# for _ in range(6):\n",
    "#     data2.append(random.randint(1,10))\n",
    "# df3['Z'] = data2"
   ]
  },
  {
   "cell_type": "code",
   "execution_count": 26,
   "metadata": {},
   "outputs": [
    {
     "data": {
      "text/html": [
       "<div>\n",
       "<style scoped>\n",
       "    .dataframe tbody tr th:only-of-type {\n",
       "        vertical-align: middle;\n",
       "    }\n",
       "\n",
       "    .dataframe tbody tr th {\n",
       "        vertical-align: top;\n",
       "    }\n",
       "\n",
       "    .dataframe thead th {\n",
       "        text-align: right;\n",
       "    }\n",
       "</style>\n",
       "<table border=\"1\" class=\"dataframe\">\n",
       "  <thead>\n",
       "    <tr style=\"text-align: right;\">\n",
       "      <th></th>\n",
       "      <th>A</th>\n",
       "      <th>B</th>\n",
       "      <th>C</th>\n",
       "      <th>D</th>\n",
       "      <th>E</th>\n",
       "      <th>F</th>\n",
       "      <th>H</th>\n",
       "      <th>Z</th>\n",
       "    </tr>\n",
       "  </thead>\n",
       "  <tbody>\n",
       "    <tr>\n",
       "      <th>2020-06-25</th>\n",
       "      <td>-0.363182</td>\n",
       "      <td>0.668161</td>\n",
       "      <td>1.875191</td>\n",
       "      <td>-0.888778</td>\n",
       "      <td>4</td>\n",
       "      <td>1.512009</td>\n",
       "      <td>1</td>\n",
       "      <td>3</td>\n",
       "    </tr>\n",
       "    <tr>\n",
       "      <th>2020-06-26</th>\n",
       "      <td>1.392618</td>\n",
       "      <td>-0.628760</td>\n",
       "      <td>-0.651513</td>\n",
       "      <td>0.214553</td>\n",
       "      <td>1</td>\n",
       "      <td>0.741104</td>\n",
       "      <td>1</td>\n",
       "      <td>7</td>\n",
       "    </tr>\n",
       "    <tr>\n",
       "      <th>2020-06-27</th>\n",
       "      <td>-0.609972</td>\n",
       "      <td>-0.079751</td>\n",
       "      <td>-1.509384</td>\n",
       "      <td>0.500237</td>\n",
       "      <td>4</td>\n",
       "      <td>-2.119356</td>\n",
       "      <td>1</td>\n",
       "      <td>4</td>\n",
       "    </tr>\n",
       "    <tr>\n",
       "      <th>2020-06-28</th>\n",
       "      <td>-0.242563</td>\n",
       "      <td>-1.108095</td>\n",
       "      <td>1.975162</td>\n",
       "      <td>-0.810782</td>\n",
       "      <td>2</td>\n",
       "      <td>1.732598</td>\n",
       "      <td>1</td>\n",
       "      <td>8</td>\n",
       "    </tr>\n",
       "    <tr>\n",
       "      <th>2020-06-29</th>\n",
       "      <td>-0.659872</td>\n",
       "      <td>0.503981</td>\n",
       "      <td>2.520272</td>\n",
       "      <td>1.137402</td>\n",
       "      <td>4</td>\n",
       "      <td>1.860400</td>\n",
       "      <td>1</td>\n",
       "      <td>2</td>\n",
       "    </tr>\n",
       "    <tr>\n",
       "      <th>2020-06-30</th>\n",
       "      <td>0.383446</td>\n",
       "      <td>0.762964</td>\n",
       "      <td>-0.790644</td>\n",
       "      <td>0.167684</td>\n",
       "      <td>6</td>\n",
       "      <td>-0.407198</td>\n",
       "      <td>1</td>\n",
       "      <td>9</td>\n",
       "    </tr>\n",
       "  </tbody>\n",
       "</table>\n",
       "</div>"
      ],
      "text/plain": [
       "                   A         B         C         D  E         F  H  Z\n",
       "2020-06-25 -0.363182  0.668161  1.875191 -0.888778  4  1.512009  1  3\n",
       "2020-06-26  1.392618 -0.628760 -0.651513  0.214553  1  0.741104  1  7\n",
       "2020-06-27 -0.609972 -0.079751 -1.509384  0.500237  4 -2.119356  1  4\n",
       "2020-06-28 -0.242563 -1.108095  1.975162 -0.810782  2  1.732598  1  8\n",
       "2020-06-29 -0.659872  0.503981  2.520272  1.137402  4  1.860400  1  2\n",
       "2020-06-30  0.383446  0.762964 -0.790644  0.167684  6 -0.407198  1  9"
      ]
     },
     "execution_count": 26,
     "metadata": {},
     "output_type": "execute_result"
    }
   ],
   "source": [
    "df3"
   ]
  },
  {
   "cell_type": "code",
   "execution_count": 27,
   "metadata": {},
   "outputs": [
    {
     "name": "stdout",
     "output_type": "stream",
     "text": [
      "홍길동\n",
      "김길동\n",
      "송길동\n"
     ]
    }
   ],
   "source": [
    "name = [\"홍길동\",\"김길동\",\"송길동\"]\n",
    "for x in name:\n",
    "    print(x)"
   ]
  },
  {
   "cell_type": "code",
   "execution_count": 28,
   "metadata": {},
   "outputs": [],
   "source": [
    "# name에 들어있는 각각의 모든 데이터에 뒤에 \"님 글자를 붙여주세요!"
   ]
  },
  {
   "cell_type": "code",
   "execution_count": 29,
   "metadata": {},
   "outputs": [
    {
     "data": {
      "text/plain": [
       "['홍길동님', '김길동님', '송길동님']"
      ]
     },
     "execution_count": 29,
     "metadata": {},
     "output_type": "execute_result"
    }
   ],
   "source": [
    "[ x+'님' for x in name ]"
   ]
  },
  {
   "cell_type": "code",
   "execution_count": 30,
   "metadata": {},
   "outputs": [],
   "source": [
    "# name에 들어있는 각각의 모든 데이터에 앞에 \"신입\" 글자를 붙여주세요!"
   ]
  },
  {
   "cell_type": "code",
   "execution_count": 31,
   "metadata": {},
   "outputs": [
    {
     "data": {
      "text/plain": [
       "['신입홍길동', '신입김길동', '신입송길동']"
      ]
     },
     "execution_count": 31,
     "metadata": {},
     "output_type": "execute_result"
    }
   ],
   "source": [
    "[ \"신입\" + x for x in name ]"
   ]
  },
  {
   "cell_type": "code",
   "execution_count": 32,
   "metadata": {},
   "outputs": [],
   "source": [
    "a_list = range(1, 100, 2)"
   ]
  },
  {
   "cell_type": "code",
   "execution_count": 33,
   "metadata": {},
   "outputs": [],
   "source": [
    "# a_list에 몇 개가 들어있는지 세어보세요."
   ]
  },
  {
   "cell_type": "code",
   "execution_count": 34,
   "metadata": {
    "scrolled": true
   },
   "outputs": [
    {
     "data": {
      "text/plain": [
       "50"
      ]
     },
     "execution_count": 34,
     "metadata": {},
     "output_type": "execute_result"
    }
   ],
   "source": [
    "count = 0\n",
    "result = [ count + 1 for x in a_list ]\n",
    "sum(result)"
   ]
  },
  {
   "cell_type": "code",
   "execution_count": 35,
   "metadata": {},
   "outputs": [],
   "source": [
    "# a_list의 각각의 모든 데이터에 0.1을 곱해보세요. 변경된 a_list의 합과 평균"
   ]
  },
  {
   "cell_type": "code",
   "execution_count": 36,
   "metadata": {
    "scrolled": true
   },
   "outputs": [
    {
     "data": {
      "text/plain": [
       "[0.1,\n",
       " 0.30000000000000004,\n",
       " 0.5,\n",
       " 0.7000000000000001,\n",
       " 0.9,\n",
       " 1.1,\n",
       " 1.3,\n",
       " 1.5,\n",
       " 1.7000000000000002,\n",
       " 1.9000000000000001,\n",
       " 2.1,\n",
       " 2.3000000000000003,\n",
       " 2.5,\n",
       " 2.7,\n",
       " 2.9000000000000004,\n",
       " 3.1,\n",
       " 3.3000000000000003,\n",
       " 3.5,\n",
       " 3.7,\n",
       " 3.9000000000000004,\n",
       " 4.1000000000000005,\n",
       " 4.3,\n",
       " 4.5,\n",
       " 4.7,\n",
       " 4.9,\n",
       " 5.1000000000000005,\n",
       " 5.300000000000001,\n",
       " 5.5,\n",
       " 5.7,\n",
       " 5.9,\n",
       " 6.1000000000000005,\n",
       " 6.300000000000001,\n",
       " 6.5,\n",
       " 6.7,\n",
       " 6.9,\n",
       " 7.1000000000000005,\n",
       " 7.300000000000001,\n",
       " 7.5,\n",
       " 7.7,\n",
       " 7.9,\n",
       " 8.1,\n",
       " 8.3,\n",
       " 8.5,\n",
       " 8.700000000000001,\n",
       " 8.9,\n",
       " 9.1,\n",
       " 9.3,\n",
       " 9.5,\n",
       " 9.700000000000001,\n",
       " 9.9]"
      ]
     },
     "execution_count": 36,
     "metadata": {},
     "output_type": "execute_result"
    }
   ],
   "source": [
    "a_list = [x * 0.1 for x in a_list ]\n",
    "a_list"
   ]
  },
  {
   "cell_type": "code",
   "execution_count": 37,
   "metadata": {
    "scrolled": true
   },
   "outputs": [
    {
     "data": {
      "text/plain": [
       "[0.1,\n",
       " 0.30000000000000004,\n",
       " 0.5,\n",
       " 0.7000000000000001,\n",
       " 0.9,\n",
       " 1.1,\n",
       " 1.3,\n",
       " 1.5,\n",
       " 1.7000000000000002,\n",
       " 1.9000000000000001,\n",
       " 2.1,\n",
       " 2.3000000000000003,\n",
       " 2.5,\n",
       " 2.7,\n",
       " 2.9000000000000004,\n",
       " 3.1,\n",
       " 3.3000000000000003,\n",
       " 3.5,\n",
       " 3.7,\n",
       " 3.9000000000000004,\n",
       " 4.1000000000000005,\n",
       " 4.3,\n",
       " 4.5,\n",
       " 4.7,\n",
       " 4.9,\n",
       " 5.1000000000000005,\n",
       " 5.300000000000001,\n",
       " 5.5,\n",
       " 5.7,\n",
       " 5.9,\n",
       " 6.1000000000000005,\n",
       " 6.300000000000001,\n",
       " 6.5,\n",
       " 6.7,\n",
       " 6.9,\n",
       " 7.1000000000000005,\n",
       " 7.300000000000001,\n",
       " 7.5,\n",
       " 7.7,\n",
       " 7.9,\n",
       " 8.1,\n",
       " 8.3,\n",
       " 8.5,\n",
       " 8.700000000000001,\n",
       " 8.9,\n",
       " 9.1,\n",
       " 9.3,\n",
       " 9.5,\n",
       " 9.700000000000001,\n",
       " 9.9]"
      ]
     },
     "execution_count": 37,
     "metadata": {},
     "output_type": "execute_result"
    }
   ],
   "source": [
    "a_list"
   ]
  },
  {
   "cell_type": "code",
   "execution_count": 38,
   "metadata": {},
   "outputs": [
    {
     "data": {
      "text/plain": [
       "250.0"
      ]
     },
     "execution_count": 38,
     "metadata": {},
     "output_type": "execute_result"
    }
   ],
   "source": [
    "np.sum(a_list) # 합"
   ]
  },
  {
   "cell_type": "code",
   "execution_count": 39,
   "metadata": {},
   "outputs": [
    {
     "data": {
      "text/plain": [
       "5.0"
      ]
     },
     "execution_count": 39,
     "metadata": {},
     "output_type": "execute_result"
    }
   ],
   "source": [
    "np.mean(a_list) # 평균"
   ]
  },
  {
   "cell_type": "code",
   "execution_count": 40,
   "metadata": {},
   "outputs": [
    {
     "data": {
      "text/plain": [
       "5.0"
      ]
     },
     "execution_count": 40,
     "metadata": {},
     "output_type": "execute_result"
    }
   ],
   "source": [
    "np.median(a_list) # 중간값"
   ]
  },
  {
   "cell_type": "code",
   "execution_count": 41,
   "metadata": {},
   "outputs": [
    {
     "data": {
      "text/plain": [
       "2.8861739379323628"
      ]
     },
     "execution_count": 41,
     "metadata": {},
     "output_type": "execute_result"
    }
   ],
   "source": [
    "np.std(a_list) # 표준편차"
   ]
  },
  {
   "cell_type": "code",
   "execution_count": 42,
   "metadata": {},
   "outputs": [
    {
     "data": {
      "text/plain": [
       "[0.010000000000000002, 0.030000000000000006, 0.05]"
      ]
     },
     "execution_count": 42,
     "metadata": {},
     "output_type": "execute_result"
    }
   ],
   "source": [
    "[ x * 0.1 for x in a_list][:3]"
   ]
  },
  {
   "cell_type": "code",
   "execution_count": 43,
   "metadata": {},
   "outputs": [
    {
     "data": {
      "text/html": [
       "<div>\n",
       "<style scoped>\n",
       "    .dataframe tbody tr th:only-of-type {\n",
       "        vertical-align: middle;\n",
       "    }\n",
       "\n",
       "    .dataframe tbody tr th {\n",
       "        vertical-align: top;\n",
       "    }\n",
       "\n",
       "    .dataframe thead th {\n",
       "        text-align: right;\n",
       "    }\n",
       "</style>\n",
       "<table border=\"1\" class=\"dataframe\">\n",
       "  <thead>\n",
       "    <tr style=\"text-align: right;\">\n",
       "      <th></th>\n",
       "      <th>A</th>\n",
       "      <th>B</th>\n",
       "      <th>C</th>\n",
       "      <th>D</th>\n",
       "      <th>E</th>\n",
       "      <th>F</th>\n",
       "      <th>H</th>\n",
       "      <th>Z</th>\n",
       "    </tr>\n",
       "  </thead>\n",
       "  <tbody>\n",
       "    <tr>\n",
       "      <th>2020-06-25</th>\n",
       "      <td>-0.363182</td>\n",
       "      <td>0.668161</td>\n",
       "      <td>1.875191</td>\n",
       "      <td>-0.888778</td>\n",
       "      <td>4</td>\n",
       "      <td>1.512009</td>\n",
       "      <td>1</td>\n",
       "      <td>3</td>\n",
       "    </tr>\n",
       "    <tr>\n",
       "      <th>2020-06-26</th>\n",
       "      <td>1.392618</td>\n",
       "      <td>-0.628760</td>\n",
       "      <td>-0.651513</td>\n",
       "      <td>0.214553</td>\n",
       "      <td>1</td>\n",
       "      <td>0.741104</td>\n",
       "      <td>1</td>\n",
       "      <td>7</td>\n",
       "    </tr>\n",
       "    <tr>\n",
       "      <th>2020-06-27</th>\n",
       "      <td>-0.609972</td>\n",
       "      <td>-0.079751</td>\n",
       "      <td>-1.509384</td>\n",
       "      <td>0.500237</td>\n",
       "      <td>4</td>\n",
       "      <td>-2.119356</td>\n",
       "      <td>1</td>\n",
       "      <td>4</td>\n",
       "    </tr>\n",
       "    <tr>\n",
       "      <th>2020-06-28</th>\n",
       "      <td>-0.242563</td>\n",
       "      <td>-1.108095</td>\n",
       "      <td>1.975162</td>\n",
       "      <td>-0.810782</td>\n",
       "      <td>2</td>\n",
       "      <td>1.732598</td>\n",
       "      <td>1</td>\n",
       "      <td>8</td>\n",
       "    </tr>\n",
       "    <tr>\n",
       "      <th>2020-06-29</th>\n",
       "      <td>-0.659872</td>\n",
       "      <td>0.503981</td>\n",
       "      <td>2.520272</td>\n",
       "      <td>1.137402</td>\n",
       "      <td>4</td>\n",
       "      <td>1.860400</td>\n",
       "      <td>1</td>\n",
       "      <td>2</td>\n",
       "    </tr>\n",
       "    <tr>\n",
       "      <th>2020-06-30</th>\n",
       "      <td>0.383446</td>\n",
       "      <td>0.762964</td>\n",
       "      <td>-0.790644</td>\n",
       "      <td>0.167684</td>\n",
       "      <td>6</td>\n",
       "      <td>-0.407198</td>\n",
       "      <td>1</td>\n",
       "      <td>9</td>\n",
       "    </tr>\n",
       "  </tbody>\n",
       "</table>\n",
       "</div>"
      ],
      "text/plain": [
       "                   A         B         C         D  E         F  H  Z\n",
       "2020-06-25 -0.363182  0.668161  1.875191 -0.888778  4  1.512009  1  3\n",
       "2020-06-26  1.392618 -0.628760 -0.651513  0.214553  1  0.741104  1  7\n",
       "2020-06-27 -0.609972 -0.079751 -1.509384  0.500237  4 -2.119356  1  4\n",
       "2020-06-28 -0.242563 -1.108095  1.975162 -0.810782  2  1.732598  1  8\n",
       "2020-06-29 -0.659872  0.503981  2.520272  1.137402  4  1.860400  1  2\n",
       "2020-06-30  0.383446  0.762964 -0.790644  0.167684  6 -0.407198  1  9"
      ]
     },
     "execution_count": 43,
     "metadata": {},
     "output_type": "execute_result"
    }
   ],
   "source": [
    "df3"
   ]
  },
  {
   "cell_type": "code",
   "execution_count": 44,
   "metadata": {
    "scrolled": true
   },
   "outputs": [],
   "source": [
    "df3.drop(columns=['E', 'F', 'H', 'Z'], inplace=True) "
   ]
  },
  {
   "cell_type": "code",
   "execution_count": 45,
   "metadata": {},
   "outputs": [
    {
     "data": {
      "text/html": [
       "<div>\n",
       "<style scoped>\n",
       "    .dataframe tbody tr th:only-of-type {\n",
       "        vertical-align: middle;\n",
       "    }\n",
       "\n",
       "    .dataframe tbody tr th {\n",
       "        vertical-align: top;\n",
       "    }\n",
       "\n",
       "    .dataframe thead th {\n",
       "        text-align: right;\n",
       "    }\n",
       "</style>\n",
       "<table border=\"1\" class=\"dataframe\">\n",
       "  <thead>\n",
       "    <tr style=\"text-align: right;\">\n",
       "      <th></th>\n",
       "      <th>A</th>\n",
       "      <th>B</th>\n",
       "      <th>C</th>\n",
       "      <th>D</th>\n",
       "    </tr>\n",
       "  </thead>\n",
       "  <tbody>\n",
       "    <tr>\n",
       "      <th>2020-06-25</th>\n",
       "      <td>-0.363182</td>\n",
       "      <td>0.668161</td>\n",
       "      <td>1.875191</td>\n",
       "      <td>-0.888778</td>\n",
       "    </tr>\n",
       "    <tr>\n",
       "      <th>2020-06-26</th>\n",
       "      <td>1.392618</td>\n",
       "      <td>-0.628760</td>\n",
       "      <td>-0.651513</td>\n",
       "      <td>0.214553</td>\n",
       "    </tr>\n",
       "    <tr>\n",
       "      <th>2020-06-27</th>\n",
       "      <td>-0.609972</td>\n",
       "      <td>-0.079751</td>\n",
       "      <td>-1.509384</td>\n",
       "      <td>0.500237</td>\n",
       "    </tr>\n",
       "    <tr>\n",
       "      <th>2020-06-28</th>\n",
       "      <td>-0.242563</td>\n",
       "      <td>-1.108095</td>\n",
       "      <td>1.975162</td>\n",
       "      <td>-0.810782</td>\n",
       "    </tr>\n",
       "    <tr>\n",
       "      <th>2020-06-29</th>\n",
       "      <td>-0.659872</td>\n",
       "      <td>0.503981</td>\n",
       "      <td>2.520272</td>\n",
       "      <td>1.137402</td>\n",
       "    </tr>\n",
       "    <tr>\n",
       "      <th>2020-06-30</th>\n",
       "      <td>0.383446</td>\n",
       "      <td>0.762964</td>\n",
       "      <td>-0.790644</td>\n",
       "      <td>0.167684</td>\n",
       "    </tr>\n",
       "  </tbody>\n",
       "</table>\n",
       "</div>"
      ],
      "text/plain": [
       "                   A         B         C         D\n",
       "2020-06-25 -0.363182  0.668161  1.875191 -0.888778\n",
       "2020-06-26  1.392618 -0.628760 -0.651513  0.214553\n",
       "2020-06-27 -0.609972 -0.079751 -1.509384  0.500237\n",
       "2020-06-28 -0.242563 -1.108095  1.975162 -0.810782\n",
       "2020-06-29 -0.659872  0.503981  2.520272  1.137402\n",
       "2020-06-30  0.383446  0.762964 -0.790644  0.167684"
      ]
     },
     "execution_count": 45,
     "metadata": {},
     "output_type": "execute_result"
    }
   ],
   "source": [
    "df3"
   ]
  },
  {
   "cell_type": "code",
   "execution_count": 46,
   "metadata": {},
   "outputs": [
    {
     "data": {
      "text/plain": [
       "DatetimeIndex(['2020-06-25', '2020-06-26', '2020-06-27', '2020-06-28',\n",
       "               '2020-06-29', '2020-06-30'],\n",
       "              dtype='datetime64[ns]', freq='D')"
      ]
     },
     "execution_count": 46,
     "metadata": {},
     "output_type": "execute_result"
    }
   ],
   "source": [
    "df3.index"
   ]
  },
  {
   "cell_type": "code",
   "execution_count": 47,
   "metadata": {},
   "outputs": [
    {
     "data": {
      "text/plain": [
       "A   -0.363182\n",
       "B    0.668161\n",
       "C    1.875191\n",
       "D   -0.888778\n",
       "Name: 2020-06-25 00:00:00, dtype: float64"
      ]
     },
     "execution_count": 47,
     "metadata": {},
     "output_type": "execute_result"
    }
   ],
   "source": [
    "df3.loc['2020-06-25']"
   ]
  },
  {
   "cell_type": "code",
   "execution_count": 48,
   "metadata": {},
   "outputs": [
    {
     "data": {
      "text/html": [
       "<div>\n",
       "<style scoped>\n",
       "    .dataframe tbody tr th:only-of-type {\n",
       "        vertical-align: middle;\n",
       "    }\n",
       "\n",
       "    .dataframe tbody tr th {\n",
       "        vertical-align: top;\n",
       "    }\n",
       "\n",
       "    .dataframe thead th {\n",
       "        text-align: right;\n",
       "    }\n",
       "</style>\n",
       "<table border=\"1\" class=\"dataframe\">\n",
       "  <thead>\n",
       "    <tr style=\"text-align: right;\">\n",
       "      <th></th>\n",
       "      <th>index</th>\n",
       "      <th>A</th>\n",
       "      <th>B</th>\n",
       "      <th>C</th>\n",
       "      <th>D</th>\n",
       "    </tr>\n",
       "  </thead>\n",
       "  <tbody>\n",
       "    <tr>\n",
       "      <th>0</th>\n",
       "      <td>2020-06-25</td>\n",
       "      <td>-0.363182</td>\n",
       "      <td>0.668161</td>\n",
       "      <td>1.875191</td>\n",
       "      <td>-0.888778</td>\n",
       "    </tr>\n",
       "    <tr>\n",
       "      <th>1</th>\n",
       "      <td>2020-06-26</td>\n",
       "      <td>1.392618</td>\n",
       "      <td>-0.628760</td>\n",
       "      <td>-0.651513</td>\n",
       "      <td>0.214553</td>\n",
       "    </tr>\n",
       "    <tr>\n",
       "      <th>2</th>\n",
       "      <td>2020-06-27</td>\n",
       "      <td>-0.609972</td>\n",
       "      <td>-0.079751</td>\n",
       "      <td>-1.509384</td>\n",
       "      <td>0.500237</td>\n",
       "    </tr>\n",
       "    <tr>\n",
       "      <th>3</th>\n",
       "      <td>2020-06-28</td>\n",
       "      <td>-0.242563</td>\n",
       "      <td>-1.108095</td>\n",
       "      <td>1.975162</td>\n",
       "      <td>-0.810782</td>\n",
       "    </tr>\n",
       "    <tr>\n",
       "      <th>4</th>\n",
       "      <td>2020-06-29</td>\n",
       "      <td>-0.659872</td>\n",
       "      <td>0.503981</td>\n",
       "      <td>2.520272</td>\n",
       "      <td>1.137402</td>\n",
       "    </tr>\n",
       "    <tr>\n",
       "      <th>5</th>\n",
       "      <td>2020-06-30</td>\n",
       "      <td>0.383446</td>\n",
       "      <td>0.762964</td>\n",
       "      <td>-0.790644</td>\n",
       "      <td>0.167684</td>\n",
       "    </tr>\n",
       "  </tbody>\n",
       "</table>\n",
       "</div>"
      ],
      "text/plain": [
       "       index         A         B         C         D\n",
       "0 2020-06-25 -0.363182  0.668161  1.875191 -0.888778\n",
       "1 2020-06-26  1.392618 -0.628760 -0.651513  0.214553\n",
       "2 2020-06-27 -0.609972 -0.079751 -1.509384  0.500237\n",
       "3 2020-06-28 -0.242563 -1.108095  1.975162 -0.810782\n",
       "4 2020-06-29 -0.659872  0.503981  2.520272  1.137402\n",
       "5 2020-06-30  0.383446  0.762964 -0.790644  0.167684"
      ]
     },
     "execution_count": 48,
     "metadata": {},
     "output_type": "execute_result"
    }
   ],
   "source": [
    "df3.reset_index(inplace=True)\n",
    "df3"
   ]
  },
  {
   "cell_type": "code",
   "execution_count": 49,
   "metadata": {},
   "outputs": [
    {
     "data": {
      "text/html": [
       "<div>\n",
       "<style scoped>\n",
       "    .dataframe tbody tr th:only-of-type {\n",
       "        vertical-align: middle;\n",
       "    }\n",
       "\n",
       "    .dataframe tbody tr th {\n",
       "        vertical-align: top;\n",
       "    }\n",
       "\n",
       "    .dataframe thead th {\n",
       "        text-align: right;\n",
       "    }\n",
       "</style>\n",
       "<table border=\"1\" class=\"dataframe\">\n",
       "  <thead>\n",
       "    <tr style=\"text-align: right;\">\n",
       "      <th></th>\n",
       "      <th>A</th>\n",
       "      <th>B</th>\n",
       "      <th>C</th>\n",
       "      <th>D</th>\n",
       "    </tr>\n",
       "    <tr>\n",
       "      <th>index</th>\n",
       "      <th></th>\n",
       "      <th></th>\n",
       "      <th></th>\n",
       "      <th></th>\n",
       "    </tr>\n",
       "  </thead>\n",
       "  <tbody>\n",
       "    <tr>\n",
       "      <th>2020-06-25</th>\n",
       "      <td>-0.363182</td>\n",
       "      <td>0.668161</td>\n",
       "      <td>1.875191</td>\n",
       "      <td>-0.888778</td>\n",
       "    </tr>\n",
       "    <tr>\n",
       "      <th>2020-06-26</th>\n",
       "      <td>1.392618</td>\n",
       "      <td>-0.628760</td>\n",
       "      <td>-0.651513</td>\n",
       "      <td>0.214553</td>\n",
       "    </tr>\n",
       "    <tr>\n",
       "      <th>2020-06-27</th>\n",
       "      <td>-0.609972</td>\n",
       "      <td>-0.079751</td>\n",
       "      <td>-1.509384</td>\n",
       "      <td>0.500237</td>\n",
       "    </tr>\n",
       "    <tr>\n",
       "      <th>2020-06-28</th>\n",
       "      <td>-0.242563</td>\n",
       "      <td>-1.108095</td>\n",
       "      <td>1.975162</td>\n",
       "      <td>-0.810782</td>\n",
       "    </tr>\n",
       "    <tr>\n",
       "      <th>2020-06-29</th>\n",
       "      <td>-0.659872</td>\n",
       "      <td>0.503981</td>\n",
       "      <td>2.520272</td>\n",
       "      <td>1.137402</td>\n",
       "    </tr>\n",
       "    <tr>\n",
       "      <th>2020-06-30</th>\n",
       "      <td>0.383446</td>\n",
       "      <td>0.762964</td>\n",
       "      <td>-0.790644</td>\n",
       "      <td>0.167684</td>\n",
       "    </tr>\n",
       "  </tbody>\n",
       "</table>\n",
       "</div>"
      ],
      "text/plain": [
       "                   A         B         C         D\n",
       "index                                             \n",
       "2020-06-25 -0.363182  0.668161  1.875191 -0.888778\n",
       "2020-06-26  1.392618 -0.628760 -0.651513  0.214553\n",
       "2020-06-27 -0.609972 -0.079751 -1.509384  0.500237\n",
       "2020-06-28 -0.242563 -1.108095  1.975162 -0.810782\n",
       "2020-06-29 -0.659872  0.503981  2.520272  1.137402\n",
       "2020-06-30  0.383446  0.762964 -0.790644  0.167684"
      ]
     },
     "execution_count": 49,
     "metadata": {},
     "output_type": "execute_result"
    }
   ],
   "source": [
    "df3.set_index('index', inplace=True)\n",
    "df3"
   ]
  },
  {
   "cell_type": "code",
   "execution_count": 50,
   "metadata": {},
   "outputs": [
    {
     "data": {
      "text/plain": [
       "Timestamp('2020-06-25 00:00:00')"
      ]
     },
     "execution_count": 50,
     "metadata": {},
     "output_type": "execute_result"
    }
   ],
   "source": [
    "df3.index[0]"
   ]
  },
  {
   "cell_type": "code",
   "execution_count": 51,
   "metadata": {},
   "outputs": [],
   "source": [
    "df3.drop(pd.Timestamp('2020-06-25 00:00:00'), inplace=True)"
   ]
  },
  {
   "cell_type": "code",
   "execution_count": 52,
   "metadata": {},
   "outputs": [
    {
     "data": {
      "text/html": [
       "<div>\n",
       "<style scoped>\n",
       "    .dataframe tbody tr th:only-of-type {\n",
       "        vertical-align: middle;\n",
       "    }\n",
       "\n",
       "    .dataframe tbody tr th {\n",
       "        vertical-align: top;\n",
       "    }\n",
       "\n",
       "    .dataframe thead th {\n",
       "        text-align: right;\n",
       "    }\n",
       "</style>\n",
       "<table border=\"1\" class=\"dataframe\">\n",
       "  <thead>\n",
       "    <tr style=\"text-align: right;\">\n",
       "      <th></th>\n",
       "      <th>A</th>\n",
       "      <th>B</th>\n",
       "      <th>C</th>\n",
       "      <th>D</th>\n",
       "    </tr>\n",
       "    <tr>\n",
       "      <th>index</th>\n",
       "      <th></th>\n",
       "      <th></th>\n",
       "      <th></th>\n",
       "      <th></th>\n",
       "    </tr>\n",
       "  </thead>\n",
       "  <tbody>\n",
       "    <tr>\n",
       "      <th>2020-06-26</th>\n",
       "      <td>1.392618</td>\n",
       "      <td>-0.628760</td>\n",
       "      <td>-0.651513</td>\n",
       "      <td>0.214553</td>\n",
       "    </tr>\n",
       "    <tr>\n",
       "      <th>2020-06-27</th>\n",
       "      <td>-0.609972</td>\n",
       "      <td>-0.079751</td>\n",
       "      <td>-1.509384</td>\n",
       "      <td>0.500237</td>\n",
       "    </tr>\n",
       "    <tr>\n",
       "      <th>2020-06-28</th>\n",
       "      <td>-0.242563</td>\n",
       "      <td>-1.108095</td>\n",
       "      <td>1.975162</td>\n",
       "      <td>-0.810782</td>\n",
       "    </tr>\n",
       "    <tr>\n",
       "      <th>2020-06-29</th>\n",
       "      <td>-0.659872</td>\n",
       "      <td>0.503981</td>\n",
       "      <td>2.520272</td>\n",
       "      <td>1.137402</td>\n",
       "    </tr>\n",
       "    <tr>\n",
       "      <th>2020-06-30</th>\n",
       "      <td>0.383446</td>\n",
       "      <td>0.762964</td>\n",
       "      <td>-0.790644</td>\n",
       "      <td>0.167684</td>\n",
       "    </tr>\n",
       "  </tbody>\n",
       "</table>\n",
       "</div>"
      ],
      "text/plain": [
       "                   A         B         C         D\n",
       "index                                             \n",
       "2020-06-26  1.392618 -0.628760 -0.651513  0.214553\n",
       "2020-06-27 -0.609972 -0.079751 -1.509384  0.500237\n",
       "2020-06-28 -0.242563 -1.108095  1.975162 -0.810782\n",
       "2020-06-29 -0.659872  0.503981  2.520272  1.137402\n",
       "2020-06-30  0.383446  0.762964 -0.790644  0.167684"
      ]
     },
     "execution_count": 52,
     "metadata": {},
     "output_type": "execute_result"
    }
   ],
   "source": [
    "df3"
   ]
  },
  {
   "cell_type": "code",
   "execution_count": 53,
   "metadata": {},
   "outputs": [],
   "source": [
    "df3.loc['2020-06-25'] = [1,1,1,1] # 열의 순서대로 들어감"
   ]
  },
  {
   "cell_type": "code",
   "execution_count": 54,
   "metadata": {
    "scrolled": true
   },
   "outputs": [
    {
     "data": {
      "text/html": [
       "<div>\n",
       "<style scoped>\n",
       "    .dataframe tbody tr th:only-of-type {\n",
       "        vertical-align: middle;\n",
       "    }\n",
       "\n",
       "    .dataframe tbody tr th {\n",
       "        vertical-align: top;\n",
       "    }\n",
       "\n",
       "    .dataframe thead th {\n",
       "        text-align: right;\n",
       "    }\n",
       "</style>\n",
       "<table border=\"1\" class=\"dataframe\">\n",
       "  <thead>\n",
       "    <tr style=\"text-align: right;\">\n",
       "      <th></th>\n",
       "      <th>A</th>\n",
       "      <th>B</th>\n",
       "      <th>C</th>\n",
       "      <th>D</th>\n",
       "    </tr>\n",
       "    <tr>\n",
       "      <th>index</th>\n",
       "      <th></th>\n",
       "      <th></th>\n",
       "      <th></th>\n",
       "      <th></th>\n",
       "    </tr>\n",
       "  </thead>\n",
       "  <tbody>\n",
       "    <tr>\n",
       "      <th>2020-06-26 00:00:00</th>\n",
       "      <td>1.392618</td>\n",
       "      <td>-0.628760</td>\n",
       "      <td>-0.651513</td>\n",
       "      <td>0.214553</td>\n",
       "    </tr>\n",
       "    <tr>\n",
       "      <th>2020-06-27 00:00:00</th>\n",
       "      <td>-0.609972</td>\n",
       "      <td>-0.079751</td>\n",
       "      <td>-1.509384</td>\n",
       "      <td>0.500237</td>\n",
       "    </tr>\n",
       "    <tr>\n",
       "      <th>2020-06-28 00:00:00</th>\n",
       "      <td>-0.242563</td>\n",
       "      <td>-1.108095</td>\n",
       "      <td>1.975162</td>\n",
       "      <td>-0.810782</td>\n",
       "    </tr>\n",
       "    <tr>\n",
       "      <th>2020-06-29 00:00:00</th>\n",
       "      <td>-0.659872</td>\n",
       "      <td>0.503981</td>\n",
       "      <td>2.520272</td>\n",
       "      <td>1.137402</td>\n",
       "    </tr>\n",
       "    <tr>\n",
       "      <th>2020-06-30 00:00:00</th>\n",
       "      <td>0.383446</td>\n",
       "      <td>0.762964</td>\n",
       "      <td>-0.790644</td>\n",
       "      <td>0.167684</td>\n",
       "    </tr>\n",
       "    <tr>\n",
       "      <th>2020-06-25</th>\n",
       "      <td>1.000000</td>\n",
       "      <td>1.000000</td>\n",
       "      <td>1.000000</td>\n",
       "      <td>1.000000</td>\n",
       "    </tr>\n",
       "  </tbody>\n",
       "</table>\n",
       "</div>"
      ],
      "text/plain": [
       "                            A         B         C         D\n",
       "index                                                      \n",
       "2020-06-26 00:00:00  1.392618 -0.628760 -0.651513  0.214553\n",
       "2020-06-27 00:00:00 -0.609972 -0.079751 -1.509384  0.500237\n",
       "2020-06-28 00:00:00 -0.242563 -1.108095  1.975162 -0.810782\n",
       "2020-06-29 00:00:00 -0.659872  0.503981  2.520272  1.137402\n",
       "2020-06-30 00:00:00  0.383446  0.762964 -0.790644  0.167684\n",
       "2020-06-25           1.000000  1.000000  1.000000  1.000000"
      ]
     },
     "execution_count": 54,
     "metadata": {},
     "output_type": "execute_result"
    }
   ],
   "source": [
    "df3"
   ]
  }
 ],
 "metadata": {
  "kernelspec": {
   "display_name": "Python 3",
   "language": "python",
   "name": "python3"
  },
  "language_info": {
   "codemirror_mode": {
    "name": "ipython",
    "version": 3
   },
   "file_extension": ".py",
   "mimetype": "text/x-python",
   "name": "python",
   "nbconvert_exporter": "python",
   "pygments_lexer": "ipython3",
   "version": "3.7.0"
  }
 },
 "nbformat": 4,
 "nbformat_minor": 2
}
