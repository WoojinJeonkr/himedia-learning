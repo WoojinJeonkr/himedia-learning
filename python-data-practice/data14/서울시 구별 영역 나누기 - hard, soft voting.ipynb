{
 "cells": [
  {
   "cell_type": "code",
   "execution_count": 1,
   "metadata": {},
   "outputs": [],
   "source": [
    "from sklearn import datasets\n",
    "from sklearn.tree import DecisionTreeClassifier\n",
    "from sklearn.neighbors import KNeighborsClassifier\n",
    "from sklearn.svm import SVC\n",
    "from sklearn.ensemble import VotingClassifier\n",
    "from sklearn.model_selection import train_test_split\n",
    "from sklearn.metrics import accuracy_score\n",
    "\n",
    "import pandas as pd\n",
    "\n",
    "# sklearn 모델의 동일한 결과 출력을 위해 선언합니다.\n",
    "import numpy as np\n",
    "np.random.seed(5)"
   ]
  },
  {
   "cell_type": "code",
   "execution_count": 2,
   "metadata": {},
   "outputs": [],
   "source": [
    "district_dict_list = [\n",
    "            {'district': 'Gangseo-gu', 'latitude': 37.551000, 'longitude': 126.849500, 'label':'Gangseo'},\n",
    "            {'district': 'Yangcheon-gu', 'latitude': 37.52424, 'longitude': 126.855396, 'label':'Gangseo'},\n",
    "            {'district': 'Guro-gu', 'latitude': 37.4954, 'longitude': 126.8874, 'label':'Gangseo'},\n",
    "            {'district': 'Geumcheon-gu', 'latitude': 37.4519, 'longitude': 126.9020, 'label':'Gangseo'},\n",
    "            {'district': 'Mapo-gu', 'latitude': 37.560229, 'longitude': 126.908728, 'label':'Gangseo'},\n",
    "            \n",
    "            {'district': 'Gwanak-gu', 'latitude': 37.487517, 'longitude': 126.915065, 'label':'Gangnam'},\n",
    "            {'district': 'Dongjak-gu', 'latitude': 37.5124, 'longitude': 126.9393, 'label':'Gangnam'},\n",
    "            {'district': 'Seocho-gu', 'latitude': 37.4837, 'longitude': 127.0324, 'label':'Gangnam'},\n",
    "            {'district': 'Gangnam-gu', 'latitude': 37.5172, 'longitude': 127.0473, 'label':'Gangnam'},\n",
    "            {'district': 'Songpa-gu', 'latitude': 37.503510, 'longitude': 127.117898, 'label':'Gangnam'},\n",
    "   \n",
    "            {'district': 'Yongsan-gu', 'latitude': 37.532561, 'longitude': 127.008605, 'label':'Gangbuk'},\n",
    "            {'district': 'Jongro-gu', 'latitude': 37.5730, 'longitude': 126.9794, 'label':'Gangbuk'},\n",
    "            {'district': 'Seongbuk-gu', 'latitude': 37.603979, 'longitude': 127.056344, 'label':'Gangbuk'},\n",
    "            {'district': 'Nowon-gu', 'latitude': 37.6542, 'longitude': 127.0568, 'label':'Gangbuk'},\n",
    "            {'district': 'Dobong-gu', 'latitude': 37.6688, 'longitude': 127.0471, 'label':'Gangbuk'},\n",
    "     \n",
    "            {'district': 'Seongdong-gu', 'latitude': 37.557340, 'longitude': 127.041667, 'label':'Gangdong'},\n",
    "            {'district': 'Dongdaemun-gu', 'latitude': 37.575759, 'longitude': 127.025288, 'label':'Gangdong'},\n",
    "            {'district': 'Gwangjin-gu', 'latitude': 37.557562, 'longitude': 127.083467, 'label':'Gangdong'},\n",
    "            {'district': 'Gangdong-gu', 'latitude': 37.554194, 'longitude': 127.151405, 'label':'Gangdong'},\n",
    "            {'district': 'Jungrang-gu', 'latitude': 37.593684, 'longitude': 127.090384, 'label':'Gangdong'}\n",
    "         ]\n",
    "\n",
    "train_df = pd.DataFrame(district_dict_list)\n",
    "train_df = train_df[['district', 'longitude', 'latitude', 'label']]"
   ]
  },
  {
   "cell_type": "code",
   "execution_count": 3,
   "metadata": {},
   "outputs": [
    {
     "data": {
      "text/html": [
       "<div>\n",
       "<style scoped>\n",
       "    .dataframe tbody tr th:only-of-type {\n",
       "        vertical-align: middle;\n",
       "    }\n",
       "\n",
       "    .dataframe tbody tr th {\n",
       "        vertical-align: top;\n",
       "    }\n",
       "\n",
       "    .dataframe thead th {\n",
       "        text-align: right;\n",
       "    }\n",
       "</style>\n",
       "<table border=\"1\" class=\"dataframe\">\n",
       "  <thead>\n",
       "    <tr style=\"text-align: right;\">\n",
       "      <th></th>\n",
       "      <th>district</th>\n",
       "      <th>longitude</th>\n",
       "      <th>latitude</th>\n",
       "      <th>label</th>\n",
       "    </tr>\n",
       "  </thead>\n",
       "  <tbody>\n",
       "    <tr>\n",
       "      <th>0</th>\n",
       "      <td>Gangseo-gu</td>\n",
       "      <td>126.849500</td>\n",
       "      <td>37.551000</td>\n",
       "      <td>Gangseo</td>\n",
       "    </tr>\n",
       "    <tr>\n",
       "      <th>1</th>\n",
       "      <td>Yangcheon-gu</td>\n",
       "      <td>126.855396</td>\n",
       "      <td>37.524240</td>\n",
       "      <td>Gangseo</td>\n",
       "    </tr>\n",
       "    <tr>\n",
       "      <th>2</th>\n",
       "      <td>Guro-gu</td>\n",
       "      <td>126.887400</td>\n",
       "      <td>37.495400</td>\n",
       "      <td>Gangseo</td>\n",
       "    </tr>\n",
       "    <tr>\n",
       "      <th>3</th>\n",
       "      <td>Geumcheon-gu</td>\n",
       "      <td>126.902000</td>\n",
       "      <td>37.451900</td>\n",
       "      <td>Gangseo</td>\n",
       "    </tr>\n",
       "    <tr>\n",
       "      <th>4</th>\n",
       "      <td>Mapo-gu</td>\n",
       "      <td>126.908728</td>\n",
       "      <td>37.560229</td>\n",
       "      <td>Gangseo</td>\n",
       "    </tr>\n",
       "    <tr>\n",
       "      <th>5</th>\n",
       "      <td>Gwanak-gu</td>\n",
       "      <td>126.915065</td>\n",
       "      <td>37.487517</td>\n",
       "      <td>Gangnam</td>\n",
       "    </tr>\n",
       "    <tr>\n",
       "      <th>6</th>\n",
       "      <td>Dongjak-gu</td>\n",
       "      <td>126.939300</td>\n",
       "      <td>37.512400</td>\n",
       "      <td>Gangnam</td>\n",
       "    </tr>\n",
       "    <tr>\n",
       "      <th>7</th>\n",
       "      <td>Seocho-gu</td>\n",
       "      <td>127.032400</td>\n",
       "      <td>37.483700</td>\n",
       "      <td>Gangnam</td>\n",
       "    </tr>\n",
       "    <tr>\n",
       "      <th>8</th>\n",
       "      <td>Gangnam-gu</td>\n",
       "      <td>127.047300</td>\n",
       "      <td>37.517200</td>\n",
       "      <td>Gangnam</td>\n",
       "    </tr>\n",
       "    <tr>\n",
       "      <th>9</th>\n",
       "      <td>Songpa-gu</td>\n",
       "      <td>127.117898</td>\n",
       "      <td>37.503510</td>\n",
       "      <td>Gangnam</td>\n",
       "    </tr>\n",
       "    <tr>\n",
       "      <th>10</th>\n",
       "      <td>Yongsan-gu</td>\n",
       "      <td>127.008605</td>\n",
       "      <td>37.532561</td>\n",
       "      <td>Gangbuk</td>\n",
       "    </tr>\n",
       "    <tr>\n",
       "      <th>11</th>\n",
       "      <td>Jongro-gu</td>\n",
       "      <td>126.979400</td>\n",
       "      <td>37.573000</td>\n",
       "      <td>Gangbuk</td>\n",
       "    </tr>\n",
       "    <tr>\n",
       "      <th>12</th>\n",
       "      <td>Seongbuk-gu</td>\n",
       "      <td>127.056344</td>\n",
       "      <td>37.603979</td>\n",
       "      <td>Gangbuk</td>\n",
       "    </tr>\n",
       "    <tr>\n",
       "      <th>13</th>\n",
       "      <td>Nowon-gu</td>\n",
       "      <td>127.056800</td>\n",
       "      <td>37.654200</td>\n",
       "      <td>Gangbuk</td>\n",
       "    </tr>\n",
       "    <tr>\n",
       "      <th>14</th>\n",
       "      <td>Dobong-gu</td>\n",
       "      <td>127.047100</td>\n",
       "      <td>37.668800</td>\n",
       "      <td>Gangbuk</td>\n",
       "    </tr>\n",
       "    <tr>\n",
       "      <th>15</th>\n",
       "      <td>Seongdong-gu</td>\n",
       "      <td>127.041667</td>\n",
       "      <td>37.557340</td>\n",
       "      <td>Gangdong</td>\n",
       "    </tr>\n",
       "    <tr>\n",
       "      <th>16</th>\n",
       "      <td>Dongdaemun-gu</td>\n",
       "      <td>127.025288</td>\n",
       "      <td>37.575759</td>\n",
       "      <td>Gangdong</td>\n",
       "    </tr>\n",
       "    <tr>\n",
       "      <th>17</th>\n",
       "      <td>Gwangjin-gu</td>\n",
       "      <td>127.083467</td>\n",
       "      <td>37.557562</td>\n",
       "      <td>Gangdong</td>\n",
       "    </tr>\n",
       "    <tr>\n",
       "      <th>18</th>\n",
       "      <td>Gangdong-gu</td>\n",
       "      <td>127.151405</td>\n",
       "      <td>37.554194</td>\n",
       "      <td>Gangdong</td>\n",
       "    </tr>\n",
       "    <tr>\n",
       "      <th>19</th>\n",
       "      <td>Jungrang-gu</td>\n",
       "      <td>127.090384</td>\n",
       "      <td>37.593684</td>\n",
       "      <td>Gangdong</td>\n",
       "    </tr>\n",
       "  </tbody>\n",
       "</table>\n",
       "</div>"
      ],
      "text/plain": [
       "         district   longitude   latitude     label\n",
       "0      Gangseo-gu  126.849500  37.551000   Gangseo\n",
       "1    Yangcheon-gu  126.855396  37.524240   Gangseo\n",
       "2         Guro-gu  126.887400  37.495400   Gangseo\n",
       "3    Geumcheon-gu  126.902000  37.451900   Gangseo\n",
       "4         Mapo-gu  126.908728  37.560229   Gangseo\n",
       "5       Gwanak-gu  126.915065  37.487517   Gangnam\n",
       "6      Dongjak-gu  126.939300  37.512400   Gangnam\n",
       "7       Seocho-gu  127.032400  37.483700   Gangnam\n",
       "8      Gangnam-gu  127.047300  37.517200   Gangnam\n",
       "9       Songpa-gu  127.117898  37.503510   Gangnam\n",
       "10     Yongsan-gu  127.008605  37.532561   Gangbuk\n",
       "11      Jongro-gu  126.979400  37.573000   Gangbuk\n",
       "12    Seongbuk-gu  127.056344  37.603979   Gangbuk\n",
       "13       Nowon-gu  127.056800  37.654200   Gangbuk\n",
       "14      Dobong-gu  127.047100  37.668800   Gangbuk\n",
       "15   Seongdong-gu  127.041667  37.557340  Gangdong\n",
       "16  Dongdaemun-gu  127.025288  37.575759  Gangdong\n",
       "17    Gwangjin-gu  127.083467  37.557562  Gangdong\n",
       "18    Gangdong-gu  127.151405  37.554194  Gangdong\n",
       "19    Jungrang-gu  127.090384  37.593684  Gangdong"
      ]
     },
     "execution_count": 3,
     "metadata": {},
     "output_type": "execute_result"
    }
   ],
   "source": [
    "train_df"
   ]
  },
  {
   "cell_type": "code",
   "execution_count": 4,
   "metadata": {},
   "outputs": [],
   "source": [
    "dong_dict_list = [\n",
    "            {'dong': 'Gaebong-dong', 'latitude': 37.489853, 'longitude': 126.854547, 'label':'Gangseo'},\n",
    "            {'dong': 'Gochuk-dong', 'latitude': 37.501394, 'longitude': 126.859245, 'label':'Gangseo'},\n",
    "            {'dong': 'Hwagok-dong', 'latitude': 37.537759, 'longitude': 126.847951, 'label':'Gangseo'},\n",
    "            {'dong': 'Banghwa-dong', 'latitude': 37.575817, 'longitude': 126.815719, 'label':'Gangseo'},\n",
    "            {'dong': 'Sangam-dong', 'latitude': 37.577039, 'longitude': 126.891620, 'label':'Gangseo'},\n",
    "            \n",
    "            {'dong': 'Nonhyun-dong', 'latitude': 37.508838, 'longitude': 127.030720, 'label':'Gangnam'},\n",
    "            {'dong': 'Daechi-dong', 'latitude': 37.501163, 'longitude': 127.057193, 'label':'Gangnam'},\n",
    "            {'dong': 'Seocho-dong', 'latitude': 37.486401, 'longitude': 127.018281, 'label':'Gangnam'},\n",
    "            {'dong': 'Bangbae-dong', 'latitude': 37.483279, 'longitude': 126.988194, 'label':'Gangnam'},\n",
    "            {'dong': 'Dogok-dong', 'latitude': 37.492896, 'longitude': 127.043159, 'label':'Gangnam'},\n",
    "    \n",
    "            {'dong': 'Pyoungchang-dong', 'latitude': 37.612129, 'longitude': 126.975724, 'label':'Gangbuk'},\n",
    "            {'dong': 'Sungbuk-dong', 'latitude': 37.597916, 'longitude': 126.998067, 'label':'Gangbuk'},\n",
    "            {'dong': 'Ssangmoon-dong', 'latitude': 37.648094, 'longitude': 127.030421, 'label':'Gangbuk'},\n",
    "            {'dong': 'Ui-dong', 'latitude': 37.648446, 'longitude': 127.011396, 'label':'Gangbuk'},\n",
    "            {'dong': 'Samcheong-dong', 'latitude': 37.591109, 'longitude': 126.980488, 'label':'Gangbuk'},\n",
    "    \n",
    "            {'dong': 'Hwayang-dong', 'latitude': 37.544234, 'longitude': 127.071648, 'label':'Gangdong'},\n",
    "            {'dong': 'Gui-dong', 'latitude': 37.543757, 'longitude': 127.086803, 'label':'Gangdong'},\n",
    "            {'dong': 'Neung-dong', 'latitude': 37.553102, 'longitude': 127.080248, 'label':'Gangdong'},\n",
    "            {'dong': 'Amsa-dong', 'latitude': 37.552370, 'longitude': 127.127124, 'label':'Gangdong'},\n",
    "            {'dong': 'Chunho-dong', 'latitude': 37.547436, 'longitude': 127.137382, 'label':'Gangdong'}\n",
    "         ]\n",
    "\n",
    "test_df = pd.DataFrame(dong_dict_list)\n",
    "test_df = test_df[['dong', 'longitude', 'latitude', 'label']]"
   ]
  },
  {
   "cell_type": "code",
   "execution_count": 5,
   "metadata": {},
   "outputs": [
    {
     "data": {
      "text/html": [
       "<div>\n",
       "<style scoped>\n",
       "    .dataframe tbody tr th:only-of-type {\n",
       "        vertical-align: middle;\n",
       "    }\n",
       "\n",
       "    .dataframe tbody tr th {\n",
       "        vertical-align: top;\n",
       "    }\n",
       "\n",
       "    .dataframe thead th {\n",
       "        text-align: right;\n",
       "    }\n",
       "</style>\n",
       "<table border=\"1\" class=\"dataframe\">\n",
       "  <thead>\n",
       "    <tr style=\"text-align: right;\">\n",
       "      <th></th>\n",
       "      <th>dong</th>\n",
       "      <th>longitude</th>\n",
       "      <th>latitude</th>\n",
       "      <th>label</th>\n",
       "    </tr>\n",
       "  </thead>\n",
       "  <tbody>\n",
       "    <tr>\n",
       "      <th>0</th>\n",
       "      <td>Gaebong-dong</td>\n",
       "      <td>126.854547</td>\n",
       "      <td>37.489853</td>\n",
       "      <td>Gangseo</td>\n",
       "    </tr>\n",
       "    <tr>\n",
       "      <th>1</th>\n",
       "      <td>Gochuk-dong</td>\n",
       "      <td>126.859245</td>\n",
       "      <td>37.501394</td>\n",
       "      <td>Gangseo</td>\n",
       "    </tr>\n",
       "    <tr>\n",
       "      <th>2</th>\n",
       "      <td>Hwagok-dong</td>\n",
       "      <td>126.847951</td>\n",
       "      <td>37.537759</td>\n",
       "      <td>Gangseo</td>\n",
       "    </tr>\n",
       "    <tr>\n",
       "      <th>3</th>\n",
       "      <td>Banghwa-dong</td>\n",
       "      <td>126.815719</td>\n",
       "      <td>37.575817</td>\n",
       "      <td>Gangseo</td>\n",
       "    </tr>\n",
       "    <tr>\n",
       "      <th>4</th>\n",
       "      <td>Sangam-dong</td>\n",
       "      <td>126.891620</td>\n",
       "      <td>37.577039</td>\n",
       "      <td>Gangseo</td>\n",
       "    </tr>\n",
       "    <tr>\n",
       "      <th>5</th>\n",
       "      <td>Nonhyun-dong</td>\n",
       "      <td>127.030720</td>\n",
       "      <td>37.508838</td>\n",
       "      <td>Gangnam</td>\n",
       "    </tr>\n",
       "    <tr>\n",
       "      <th>6</th>\n",
       "      <td>Daechi-dong</td>\n",
       "      <td>127.057193</td>\n",
       "      <td>37.501163</td>\n",
       "      <td>Gangnam</td>\n",
       "    </tr>\n",
       "    <tr>\n",
       "      <th>7</th>\n",
       "      <td>Seocho-dong</td>\n",
       "      <td>127.018281</td>\n",
       "      <td>37.486401</td>\n",
       "      <td>Gangnam</td>\n",
       "    </tr>\n",
       "    <tr>\n",
       "      <th>8</th>\n",
       "      <td>Bangbae-dong</td>\n",
       "      <td>126.988194</td>\n",
       "      <td>37.483279</td>\n",
       "      <td>Gangnam</td>\n",
       "    </tr>\n",
       "    <tr>\n",
       "      <th>9</th>\n",
       "      <td>Dogok-dong</td>\n",
       "      <td>127.043159</td>\n",
       "      <td>37.492896</td>\n",
       "      <td>Gangnam</td>\n",
       "    </tr>\n",
       "    <tr>\n",
       "      <th>10</th>\n",
       "      <td>Pyoungchang-dong</td>\n",
       "      <td>126.975724</td>\n",
       "      <td>37.612129</td>\n",
       "      <td>Gangbuk</td>\n",
       "    </tr>\n",
       "    <tr>\n",
       "      <th>11</th>\n",
       "      <td>Sungbuk-dong</td>\n",
       "      <td>126.998067</td>\n",
       "      <td>37.597916</td>\n",
       "      <td>Gangbuk</td>\n",
       "    </tr>\n",
       "    <tr>\n",
       "      <th>12</th>\n",
       "      <td>Ssangmoon-dong</td>\n",
       "      <td>127.030421</td>\n",
       "      <td>37.648094</td>\n",
       "      <td>Gangbuk</td>\n",
       "    </tr>\n",
       "    <tr>\n",
       "      <th>13</th>\n",
       "      <td>Ui-dong</td>\n",
       "      <td>127.011396</td>\n",
       "      <td>37.648446</td>\n",
       "      <td>Gangbuk</td>\n",
       "    </tr>\n",
       "    <tr>\n",
       "      <th>14</th>\n",
       "      <td>Samcheong-dong</td>\n",
       "      <td>126.980488</td>\n",
       "      <td>37.591109</td>\n",
       "      <td>Gangbuk</td>\n",
       "    </tr>\n",
       "    <tr>\n",
       "      <th>15</th>\n",
       "      <td>Hwayang-dong</td>\n",
       "      <td>127.071648</td>\n",
       "      <td>37.544234</td>\n",
       "      <td>Gangdong</td>\n",
       "    </tr>\n",
       "    <tr>\n",
       "      <th>16</th>\n",
       "      <td>Gui-dong</td>\n",
       "      <td>127.086803</td>\n",
       "      <td>37.543757</td>\n",
       "      <td>Gangdong</td>\n",
       "    </tr>\n",
       "    <tr>\n",
       "      <th>17</th>\n",
       "      <td>Neung-dong</td>\n",
       "      <td>127.080248</td>\n",
       "      <td>37.553102</td>\n",
       "      <td>Gangdong</td>\n",
       "    </tr>\n",
       "    <tr>\n",
       "      <th>18</th>\n",
       "      <td>Amsa-dong</td>\n",
       "      <td>127.127124</td>\n",
       "      <td>37.552370</td>\n",
       "      <td>Gangdong</td>\n",
       "    </tr>\n",
       "    <tr>\n",
       "      <th>19</th>\n",
       "      <td>Chunho-dong</td>\n",
       "      <td>127.137382</td>\n",
       "      <td>37.547436</td>\n",
       "      <td>Gangdong</td>\n",
       "    </tr>\n",
       "  </tbody>\n",
       "</table>\n",
       "</div>"
      ],
      "text/plain": [
       "                dong   longitude   latitude     label\n",
       "0       Gaebong-dong  126.854547  37.489853   Gangseo\n",
       "1        Gochuk-dong  126.859245  37.501394   Gangseo\n",
       "2        Hwagok-dong  126.847951  37.537759   Gangseo\n",
       "3       Banghwa-dong  126.815719  37.575817   Gangseo\n",
       "4        Sangam-dong  126.891620  37.577039   Gangseo\n",
       "5       Nonhyun-dong  127.030720  37.508838   Gangnam\n",
       "6        Daechi-dong  127.057193  37.501163   Gangnam\n",
       "7        Seocho-dong  127.018281  37.486401   Gangnam\n",
       "8       Bangbae-dong  126.988194  37.483279   Gangnam\n",
       "9         Dogok-dong  127.043159  37.492896   Gangnam\n",
       "10  Pyoungchang-dong  126.975724  37.612129   Gangbuk\n",
       "11      Sungbuk-dong  126.998067  37.597916   Gangbuk\n",
       "12    Ssangmoon-dong  127.030421  37.648094   Gangbuk\n",
       "13           Ui-dong  127.011396  37.648446   Gangbuk\n",
       "14    Samcheong-dong  126.980488  37.591109   Gangbuk\n",
       "15      Hwayang-dong  127.071648  37.544234  Gangdong\n",
       "16          Gui-dong  127.086803  37.543757  Gangdong\n",
       "17        Neung-dong  127.080248  37.553102  Gangdong\n",
       "18         Amsa-dong  127.127124  37.552370  Gangdong\n",
       "19       Chunho-dong  127.137382  37.547436  Gangdong"
      ]
     },
     "execution_count": 5,
     "metadata": {},
     "output_type": "execute_result"
    }
   ],
   "source": [
    "test_df"
   ]
  },
  {
   "cell_type": "markdown",
   "metadata": {},
   "source": [
    "## 하드 보팅 / 소프트 보팅 해보세요"
   ]
  },
  {
   "cell_type": "markdown",
   "metadata": {},
   "source": [
    "#### 1. 데이터 전처리"
   ]
  },
  {
   "cell_type": "code",
   "execution_count": 6,
   "metadata": {},
   "outputs": [],
   "source": [
    "train_df.drop(['district'], axis=1, inplace = True)\n",
    "test_df.drop(['dong'], axis=1, inplace = True)"
   ]
  },
  {
   "cell_type": "code",
   "execution_count": 7,
   "metadata": {},
   "outputs": [],
   "source": [
    "X_train = train_df[['longitude', 'latitude']]\n",
    "y_train = train_df[['label']]\n",
    "y_train = y_train['label'].values\n",
    "\n",
    "X_test = test_df[['longitude', 'latitude']]\n",
    "y_test = test_df[['label']]\n",
    "y_test = y_test['label'].values"
   ]
  },
  {
   "cell_type": "code",
   "execution_count": 8,
   "metadata": {},
   "outputs": [
    {
     "data": {
      "text/plain": [
       "array([126.815719,  37.575817])"
      ]
     },
     "execution_count": 8,
     "metadata": {},
     "output_type": "execute_result"
    }
   ],
   "source": [
    "X_test.iloc[3].values"
   ]
  },
  {
   "cell_type": "code",
   "execution_count": 9,
   "metadata": {},
   "outputs": [
    {
     "data": {
      "text/plain": [
       "((20, 2), (20,))"
      ]
     },
     "execution_count": 9,
     "metadata": {},
     "output_type": "execute_result"
    }
   ],
   "source": [
    "X_train.shape, y_train.shape"
   ]
  },
  {
   "cell_type": "code",
   "execution_count": 10,
   "metadata": {},
   "outputs": [
    {
     "data": {
      "text/plain": [
       "((20, 2), (20,))"
      ]
     },
     "execution_count": 10,
     "metadata": {},
     "output_type": "execute_result"
    }
   ],
   "source": [
    "X_test.shape, y_test.shape"
   ]
  },
  {
   "cell_type": "code",
   "execution_count": 11,
   "metadata": {},
   "outputs": [],
   "source": [
    "dtree = DecisionTreeClassifier()\n",
    "knn = KNeighborsClassifier()\n",
    "svm = SVC()"
   ]
  },
  {
   "cell_type": "code",
   "execution_count": 12,
   "metadata": {},
   "outputs": [],
   "source": [
    "dtree = DecisionTreeClassifier(\n",
    "    criterion='gini',\n",
    "    max_depth=7,\n",
    "    random_state=35\n",
    ")"
   ]
  },
  {
   "cell_type": "code",
   "execution_count": 13,
   "metadata": {},
   "outputs": [],
   "source": [
    "dtree.fit(X_train, y_train)\n",
    "dtree_predicted = dtree.predict(X_test)"
   ]
  },
  {
   "cell_type": "code",
   "execution_count": 14,
   "metadata": {},
   "outputs": [],
   "source": [
    "knn = KNeighborsClassifier(\n",
    "    n_neighbors=7,\n",
    "    n_jobs=None\n",
    ")"
   ]
  },
  {
   "cell_type": "code",
   "execution_count": 15,
   "metadata": {},
   "outputs": [],
   "source": [
    "knn.fit(X_train, y_train)\n",
    "knn_predicted = knn.predict(X_test)"
   ]
  },
  {
   "cell_type": "code",
   "execution_count": 16,
   "metadata": {},
   "outputs": [],
   "source": [
    "svm = SVC(\n",
    "    C=0.1, # 선을 그을 때의 기울기\n",
    "    gamma=0.012, # 곡선의 정도\n",
    "    kernel='rbf', # rbf : 곡선\n",
    "    probability=True # 각 라벨링 값으로 될 가능성 구해주세요\n",
    ")"
   ]
  },
  {
   "cell_type": "code",
   "execution_count": 17,
   "metadata": {},
   "outputs": [],
   "source": [
    "svm.fit(X_train, y_train)\n",
    "svm_predicted = svm.predict(X_test)"
   ]
  },
  {
   "cell_type": "code",
   "execution_count": 18,
   "metadata": {},
   "outputs": [
    {
     "name": "stdout",
     "output_type": "stream",
     "text": [
      "accuracy=====================\n",
      "dtree >> 0.95\n",
      "knn >> 0.85\n",
      "svm >> 0.95\n"
     ]
    }
   ],
   "source": [
    "print('accuracy=====================')\n",
    "print('dtree >>', accuracy_score(y_test, dtree_predicted))\n",
    "print('knn >>', accuracy_score(y_test, knn_predicted))\n",
    "print('svm >>', accuracy_score(y_test, svm_predicted))"
   ]
  },
  {
   "cell_type": "code",
   "execution_count": 19,
   "metadata": {},
   "outputs": [],
   "source": [
    "voting_clf1 = VotingClassifier(\n",
    "    estimators=[('decision tree', dtree), ('knn', knn), ('svm', svm)],\n",
    "    weights=[1, 1, 1], # 가중치\n",
    "    voting='hard' # voting 방식\n",
    ")"
   ]
  },
  {
   "cell_type": "code",
   "execution_count": 20,
   "metadata": {},
   "outputs": [
    {
     "data": {
      "text/plain": [
       "0.95"
      ]
     },
     "execution_count": 20,
     "metadata": {},
     "output_type": "execute_result"
    }
   ],
   "source": [
    "voting_clf1.fit(X_train, y_train)\n",
    "hard_voting_predicted = voting_clf1.predict(X_test)\n",
    "accuracy_score(y_test, hard_voting_predicted)"
   ]
  },
  {
   "cell_type": "code",
   "execution_count": 21,
   "metadata": {},
   "outputs": [],
   "source": [
    "voting_clf2 = VotingClassifier(\n",
    "    estimators=[('decision tree', dtree), ('knn', knn), ('svm', svm)],\n",
    "    weights=[1, 1, 1], # 가중치\n",
    "    voting='soft' # voting 방식\n",
    ")"
   ]
  },
  {
   "cell_type": "code",
   "execution_count": 22,
   "metadata": {},
   "outputs": [
    {
     "data": {
      "text/plain": [
       "0.95"
      ]
     },
     "execution_count": 22,
     "metadata": {},
     "output_type": "execute_result"
    }
   ],
   "source": [
    "voting_clf2.fit(X_train, y_train)\n",
    "soft_voting_predicted = voting_clf2.predict(X_test)\n",
    "accuracy_score(y_test, soft_voting_predicted)"
   ]
  },
  {
   "cell_type": "code",
   "execution_count": 23,
   "metadata": {},
   "outputs": [
    {
     "data": {
      "image/png": "[encoded data removed]",
      "text/plain": [
       "<Figure size 432x288 with 1 Axes>"
      ]
     },
     "metadata": {
      "needs_background": "light"
     },
     "output_type": "display_data"
    }
   ],
   "source": [
    "import matplotlib.pyplot as plt\n",
    "%matplotlib inline\n",
    "\n",
    "x = np.arange(5)\n",
    "plt.bar(x, height= [accuracy_score(y_test, dtree_predicted),\n",
    "                    accuracy_score(y_test, knn_predicted),\n",
    "                    accuracy_score(y_test, svm_predicted),\n",
    "                    accuracy_score(y_test, hard_voting_predicted),\n",
    "                    accuracy_score(y_test, soft_voting_predicted)])\n",
    "plt.xticks(x, ['decision tree','knn','svm','hard voting','soft voting']);"
   ]
  },
  {
   "cell_type": "markdown",
   "metadata": {},
   "source": [
    "## 원하는 장소 3개를 넣어서, 맞추어 보자!!"
   ]
  },
  {
   "cell_type": "code",
   "execution_count": 24,
   "metadata": {},
   "outputs": [
    {
     "data": {
      "text/html": [
       "<div>\n",
       "<style scoped>\n",
       "    .dataframe tbody tr th:only-of-type {\n",
       "        vertical-align: middle;\n",
       "    }\n",
       "\n",
       "    .dataframe tbody tr th {\n",
       "        vertical-align: top;\n",
       "    }\n",
       "\n",
       "    .dataframe thead th {\n",
       "        text-align: right;\n",
       "    }\n",
       "</style>\n",
       "<table border=\"1\" class=\"dataframe\">\n",
       "  <thead>\n",
       "    <tr style=\"text-align: right;\">\n",
       "      <th></th>\n",
       "      <th>longitude</th>\n",
       "      <th>latitude</th>\n",
       "      <th>label</th>\n",
       "    </tr>\n",
       "  </thead>\n",
       "  <tbody>\n",
       "    <tr>\n",
       "      <th>3</th>\n",
       "      <td>126.815719</td>\n",
       "      <td>37.575817</td>\n",
       "      <td>Gangseo</td>\n",
       "    </tr>\n",
       "    <tr>\n",
       "      <th>4</th>\n",
       "      <td>126.891620</td>\n",
       "      <td>37.577039</td>\n",
       "      <td>Gangseo</td>\n",
       "    </tr>\n",
       "    <tr>\n",
       "      <th>5</th>\n",
       "      <td>127.030720</td>\n",
       "      <td>37.508838</td>\n",
       "      <td>Gangnam</td>\n",
       "    </tr>\n",
       "  </tbody>\n",
       "</table>\n",
       "</div>"
      ],
      "text/plain": [
       "    longitude   latitude    label\n",
       "3  126.815719  37.575817  Gangseo\n",
       "4  126.891620  37.577039  Gangseo\n",
       "5  127.030720  37.508838  Gangnam"
      ]
     },
     "execution_count": 24,
     "metadata": {},
     "output_type": "execute_result"
    }
   ],
   "source": [
    "test_df1 = test_df.iloc[3:6]\n",
    "test_df1"
   ]
  },
  {
   "cell_type": "code",
   "execution_count": 25,
   "metadata": {},
   "outputs": [],
   "source": [
    "X_test1 = test_df1[['longitude', 'latitude']]\n",
    "y_test1 = test_df1[['label']]['label']"
   ]
  },
  {
   "cell_type": "code",
   "execution_count": 26,
   "metadata": {},
   "outputs": [
    {
     "data": {
      "text/plain": [
       "((3, 2), (3,))"
      ]
     },
     "execution_count": 26,
     "metadata": {},
     "output_type": "execute_result"
    }
   ],
   "source": [
    "X_test1.shape, y_test1.shape"
   ]
  },
  {
   "cell_type": "code",
   "execution_count": 27,
   "metadata": {},
   "outputs": [
    {
     "data": {
      "text/plain": [
       "1.0"
      ]
     },
     "execution_count": 27,
     "metadata": {},
     "output_type": "execute_result"
    }
   ],
   "source": [
    "hard_voting_predicted = voting_clf1.predict(X_test1)\n",
    "accuracy_score(y_test1, hard_voting_predicted)"
   ]
  },
  {
   "cell_type": "code",
   "execution_count": 28,
   "metadata": {},
   "outputs": [
    {
     "data": {
      "text/plain": [
       "1.0"
      ]
     },
     "execution_count": 28,
     "metadata": {},
     "output_type": "execute_result"
    }
   ],
   "source": [
    "soft_voting_predicted = voting_clf2.predict(X_test1)\n",
    "accuracy_score(y_test1, soft_voting_predicted)"
   ]
  }
 ],
 "metadata": {
  "kernelspec": {
   "display_name": "Python 3",
   "language": "python",
   "name": "python3"
  },
  "language_info": {
   "codemirror_mode": {
    "name": "ipython",
    "version": 3
   },
   "file_extension": ".py",
   "mimetype": "text/x-python",
   "name": "python",
   "nbconvert_exporter": "python",
   "pygments_lexer": "ipython3",
   "version": "3.7.0"
  }
 },
 "nbformat": 4,
 "nbformat_minor": 2
}
