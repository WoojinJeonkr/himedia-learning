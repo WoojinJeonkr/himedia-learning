{
 "cells": [
  {
   "cell_type": "code",
   "execution_count": 1,
   "metadata": {},
   "outputs": [],
   "source": [
    "# 감정분류기 만들기\n",
    "# 긍정 / 부정 사전을 만들어보세요\n",
    "# input()을 이용해서 문장을 입력받으면, 긍정인지 부정인지 판단해보세요.\n",
    "# tf-idf vectorizer를 사용하세요"
   ]
  },
  {
   "cell_type": "code",
   "execution_count": 2,
   "metadata": {},
   "outputs": [],
   "source": [
    "import warnings\n",
    "warnings.filterwarnings(action='ignore')\n",
    "\n",
    "from sklearn.feature_extraction.text import TfidfVectorizer, CountVectorizer"
   ]
  },
  {
   "cell_type": "code",
   "execution_count": 3,
   "metadata": {},
   "outputs": [],
   "source": [
    "positive_dict = ['감격', '감동', '감사', '감탄', '개방적', '건강', '결단력', '겸손', '경청', '고맙다', '고무', '고요한', '공부',\n",
    "            '관심', '궁금', '균형', '근심없다', '기대', '기도', '기분이 들', '기쁨', '기운 나는', '긴장을 풀다',\n",
    "            '애정', '꿈', '끈기', '나눔', '낙관', '넉넉함', '다다익선', '다독', '다정', '대담', '도전', '두려워하지', '따뜻', '흡족',\n",
    "            '만족', '맑음', '매너', '멋', '메모함', '명랑', '명상', '목표', '몰두', '반갑', '배려', '변화', '부드러움', '부지런', '분명',\n",
    "            '비젼', '사랑', '상냥', '상쾌', '생기', '신뢰', '신념', '실천', '안정', '양보', '생각', '여유', '열기', '열린', '열정', '열중',\n",
    "            '용기', '용서', '웃음', '유머', '유비무환', '이타주의', '이해', '자신감', '자유', '재미', '저축', '전진', '절약', '절제', '조언',\n",
    "            '조용', '좋은',  '중용', '진실', '차분', '창조', '축복', '침착', '칭찬', '쾌활', '성공', '투자', '판단', '평화', '포용', '밝은',\n",
    "            '행복', '혁신', '화목', '환희', '활기', '희망', '힘', '합격', '독보적', '최고', '검거']\n",
    "\n",
    "negative_dict = ['결코', '전혀', '절대로', '과히', '그다지', '비단', '별로', '통', '도무지', '도저히', '더 이상', '하나도', '절도',\n",
    "            '한 개도', '한 대도', '한 자루도', '아무도', '추호도', '조금도', '전쟁', '죽음', '실망', '무력', '배신', '역겹다', '병신'\n",
    "            '한', '마라', '불쾌', '휴유증', '걱정', '고민', '위기', '아프다', '퇴사', '부담', '절망', '스트레스', '갈등', '서럽다', '병',\n",
    "            '모욕', '불합격', '유언비어', '피해', '불법', '무모', '논란', '표절', '혐오', '의혹', '자살', '타살', '성매매', '비판', '부실',\n",
    "            '비난', '적발', '엉터리', '부작용', '추락', '손해', '손상', '없다', '귀찮', '밀리다', '무욕', '과욕', '짜증', '슬픔', '분노',\n",
    "            '불안', '고통', '후회', '슬픔', '볼 수 없는', '범죄', '못생', '최악', '최약', '수상', '참사', '인멸', '위험', '불량', '중독']"
   ]
  },
  {
   "cell_type": "code",
   "execution_count": 4,
   "metadata": {},
   "outputs": [],
   "source": [
    "tfidf1 = TfidfVectorizer()\n",
    "tfidf2 = TfidfVectorizer()"
   ]
  },
  {
   "cell_type": "code",
   "execution_count": 5,
   "metadata": {},
   "outputs": [
    {
     "data": {
      "text/plain": [
       "array([[0., 0., 0., ..., 0., 0., 0.],\n",
       "       [0., 0., 0., ..., 0., 0., 0.],\n",
       "       [0., 0., 0., ..., 0., 0., 0.],\n",
       "       ...,\n",
       "       [0., 0., 0., ..., 0., 0., 0.],\n",
       "       [0., 0., 0., ..., 0., 0., 0.],\n",
       "       [0., 0., 0., ..., 0., 0., 0.]])"
      ]
     },
     "execution_count": 5,
     "metadata": {},
     "output_type": "execute_result"
    }
   ],
   "source": [
    "tfidf1.fit_transform(positive_dict).toarray()\n",
    "tfidf2.fit_transform(negative_dict).toarray()"
   ]
  },
  {
   "cell_type": "code",
   "execution_count": 6,
   "metadata": {},
   "outputs": [
    {
     "name": "stdout",
     "output_type": "stream",
     "text": [
      "문장을 입력하세요 >> 준비단 측은 “보도 이후 미성년자인 후보자 장녀에 대한 무분별한 신상 털기와 사진 유포, 모욕, 허위사실 유포 등이 이뤄지는 것을 차단하기 위해 관련 해외 블로그 측에 필요한 조치를 요청했다”고 설명했다.\n"
     ]
    }
   ],
   "source": [
    "sentence = [input('문장을 입력하세요 >> ')]"
   ]
  },
  {
   "cell_type": "code",
   "execution_count": 7,
   "metadata": {},
   "outputs": [],
   "source": [
    "positive_words_count=tfidf1.transform(sentence).toarray().sum()\n",
    "negative_words_count=tfidf2.transform(sentence).toarray().sum()"
   ]
  },
  {
   "cell_type": "code",
   "execution_count": 8,
   "metadata": {},
   "outputs": [
    {
     "name": "stdout",
     "output_type": "stream",
     "text": [
      "입력하신 문장의 부정 단어 횟수는  1.0 입니다\n",
      "입력하신 문장은 부정입니다\n"
     ]
    }
   ],
   "source": [
    "if positive_words_count > negative_words_count:\n",
    "    print('입력하신 문장은 긍정입니다')\n",
    "else:\n",
    "    print('입력하신 문장은 부정입니다')"
   ]
  }
 ],
 "metadata": {
  "kernelspec": {
   "display_name": "Python 3",
   "language": "python",
   "name": "python3"
  },
  "language_info": {
   "codemirror_mode": {
    "name": "ipython",
    "version": 3
   },
   "file_extension": ".py",
   "mimetype": "text/x-python",
   "name": "python",
   "nbconvert_exporter": "python",
   "pygments_lexer": "ipython3",
   "version": "3.7.0"
  }
 },
 "nbformat": 4,
 "nbformat_minor": 2
}
