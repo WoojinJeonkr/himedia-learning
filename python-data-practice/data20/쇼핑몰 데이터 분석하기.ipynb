{
 "cells": [
  {
   "cell_type": "markdown",
   "metadata": {},
   "source": [
    "## 라이브러리 추가"
   ]
  },
  {
   "cell_type": "code",
   "execution_count": 1,
   "metadata": {},
   "outputs": [],
   "source": [
    "import pandas as pd\n",
    "import numpy as np\n",
    "\n",
    "# 주요 라이브러리 import\n",
    "from sklearn import datasets\n",
    "from sklearn.tree import DecisionTreeClassifier\n",
    "import warnings\n",
    "warnings.filterwarnings(action='ignore')\n",
    "import time\n",
    "from IPython.display import Image\n",
    "from sklearn.datasets import fetch_openml\n",
    "import sklearn.datasets as data\n",
    "from sklearn.model_selection import train_test_split\n",
    "from sklearn.metrics import accuracy_score\n",
    "import numpy as np\n",
    "import pandas as pd\n",
    "import matplotlib.pyplot as plt\n",
    "import seaborn as sns\n",
    "%matplotlib inline\n",
    "from sklearn.preprocessing import LabelEncoder # 라벨인코더 임포트\n",
    "from sklearn.model_selection import KFold\n",
    "\n",
    "from sklearn.tree import DecisionTreeClassifier\n",
    "from sklearn.ensemble import RandomForestClassifier\n",
    "from sklearn.linear_model import LogisticRegression\n",
    "from sklearn.svm import SVC\n",
    "from sklearn.metrics import accuracy_score\n",
    "\n",
    "from pandas.plotting import parallel_coordinates # 코디네이츠 그래프 그릴 때 필요한 라이브러리\n",
    "from sklearn.model_selection import train_test_split\n",
    "\n",
    "from sklearn.neighbors import KNeighborsClassifier # 모델링 중 하나\n",
    "# cross_val_score: 다양한 셈플링을 해서 여러번 테스트-->평균치를 구해본다.\n",
    "from sklearn.model_selection import cross_val_score # crossvaludation해주는거\n",
    "from sklearn.metrics import *\n",
    "import matplotlib as mpl\n",
    "import matplotlib.pyplot as plt\n",
    "import matplotlib.font_manager as fm  # 폰트 관련 용도\n",
    "\n",
    "from sklearn.model_selection import GridSearchCV # 그리드서치\n",
    "from sklearn.preprocessing import StandardScaler # 표준화(평균을 기준)\n",
    "from sklearn.preprocessing import MinMaxScaler # 정규화(정해진 규칙 기준, mix-max기준)\n",
    "from sklearn.preprocessing import LabelEncoder"
   ]
  },
  {
   "cell_type": "code",
   "execution_count": 2,
   "metadata": {},
   "outputs": [
    {
     "name": "stderr",
     "output_type": "stream",
     "text": [
      "C:\\Users\\hi\\AppData\\Roaming\\Python\\Python37\\site-packages\\sklearn\\experimental\\enable_hist_gradient_boosting.py:17: UserWarning: Since version 1.0, it is not needed to import enable_hist_gradient_boosting anymore. HistGradientBoostingClassifier and HistGradientBoostingRegressor are now stable and can be normally imported from sklearn.ensemble.\n",
      "  \"Since version 1.0, \"\n"
     ]
    }
   ],
   "source": [
    "# 앙상블\n",
    "from sklearn.ensemble import VotingClassifier\n",
    "\n",
    "from sklearn import tree\n",
    "import numpy as np\n",
    "import matplotlib.pyplot as plt\n",
    "from sklearn import preprocessing\n",
    "\n",
    "from sklearn.tree import DecisionTreeClassifier # tree방법론의 DecisionTreeClassifier사용\n",
    "from sklearn.svm import SVC # svm방법론의 SVC사용\n",
    "from sklearn.linear_model import LogisticRegression\n",
    "from sklearn.ensemble import GradientBoostingClassifier\n",
    "from sklearn.experimental import enable_hist_gradient_boosting\n",
    "from sklearn.ensemble import HistGradientBoostingClassifier\n",
    "from xgboost import XGBClassifier\n",
    "from lightgbm import LGBMClassifier"
   ]
  },
  {
   "cell_type": "code",
   "execution_count": 3,
   "metadata": {},
   "outputs": [],
   "source": [
    "import matplotlib as mpl\n",
    "import matplotlib.pyplot as plt\n",
    "import matplotlib.font_manager as fm # 폰트 관련 용도\n",
    "%config InlineBackend.figure_format = 'retina'\n",
    "\n",
    "fontpath = '../data03/NanumGothic.ttf'\n",
    "font_name = fm.FontProperties(fname=fontpath, size=9).get_name()\n",
    "plt.rc('font', family=font_name)"
   ]
  },
  {
   "cell_type": "markdown",
   "metadata": {},
   "source": [
    "## 데이터 불러오기"
   ]
  },
  {
   "cell_type": "code",
   "execution_count": 4,
   "metadata": {
    "scrolled": true
   },
   "outputs": [
    {
     "data": {
      "text/html": [
       "<div>\n",
       "<style scoped>\n",
       "    .dataframe tbody tr th:only-of-type {\n",
       "        vertical-align: middle;\n",
       "    }\n",
       "\n",
       "    .dataframe tbody tr th {\n",
       "        vertical-align: top;\n",
       "    }\n",
       "\n",
       "    .dataframe thead th {\n",
       "        text-align: right;\n",
       "    }\n",
       "</style>\n",
       "<table border=\"1\" class=\"dataframe\">\n",
       "  <thead>\n",
       "    <tr style=\"text-align: right;\">\n",
       "      <th></th>\n",
       "      <th>CRI_YM</th>\n",
       "      <th>TAG</th>\n",
       "      <th>평일휴일</th>\n",
       "      <th>요일</th>\n",
       "      <th>시간대</th>\n",
       "      <th>성별</th>\n",
       "      <th>연령대</th>\n",
       "      <th>건수합계</th>\n",
       "      <th>인터넷 쇼핑 이용자 비율 (%)</th>\n",
       "      <th>월 평균 구매빈도-1회 미만 (%)</th>\n",
       "      <th>월 평균 구매빈도-1~2회 미만 (%)</th>\n",
       "      <th>월 평균 구매빈도-2~3회 미만 (%)</th>\n",
       "      <th>월 평균 구매빈도-3회 이상 (%)</th>\n",
       "      <th>월 평균 구매빈도-평균 (회)</th>\n",
       "      <th>네이버 태그 클릭량</th>\n",
       "    </tr>\n",
       "  </thead>\n",
       "  <tbody>\n",
       "    <tr>\n",
       "      <th>0</th>\n",
       "      <td>2020</td>\n",
       "      <td>패션/화장품</td>\n",
       "      <td>평일</td>\n",
       "      <td>월</td>\n",
       "      <td>F.22-02시</td>\n",
       "      <td>F</td>\n",
       "      <td>B.3O대</td>\n",
       "      <td>890</td>\n",
       "      <td>94.7</td>\n",
       "      <td>18.2</td>\n",
       "      <td>14.0</td>\n",
       "      <td>18.9</td>\n",
       "      <td>48.9</td>\n",
       "      <td>3.8</td>\n",
       "      <td>188.0</td>\n",
       "    </tr>\n",
       "    <tr>\n",
       "      <th>1</th>\n",
       "      <td>2020</td>\n",
       "      <td>패션/화장품</td>\n",
       "      <td>휴일</td>\n",
       "      <td>일</td>\n",
       "      <td>F.22-02시</td>\n",
       "      <td>F</td>\n",
       "      <td>A.2O대</td>\n",
       "      <td>2958</td>\n",
       "      <td>97.5</td>\n",
       "      <td>20.2</td>\n",
       "      <td>18.2</td>\n",
       "      <td>15.8</td>\n",
       "      <td>45.8</td>\n",
       "      <td>3.7</td>\n",
       "      <td>196.0</td>\n",
       "    </tr>\n",
       "  </tbody>\n",
       "</table>\n",
       "</div>"
      ],
      "text/plain": [
       "   CRI_YM     TAG 평일휴일 요일       시간대 성별    연령대  건수합계  인터넷 쇼핑 이용자 비율 (%)  \\\n",
       "0    2020  패션/화장품   평일  월  F.22-02시  F  B.3O대   890               94.7   \n",
       "1    2020  패션/화장품   휴일  일  F.22-02시  F  A.2O대  2958               97.5   \n",
       "\n",
       "   월 평균 구매빈도-1회 미만 (%)  월 평균 구매빈도-1~2회 미만 (%)  월 평균 구매빈도-2~3회 미만 (%)  \\\n",
       "0                 18.2                   14.0                   18.9   \n",
       "1                 20.2                   18.2                   15.8   \n",
       "\n",
       "   월 평균 구매빈도-3회 이상 (%)  월 평균 구매빈도-평균 (회)  네이버 태그 클릭량  \n",
       "0                 48.9               3.8       188.0  \n",
       "1                 45.8               3.7       196.0  "
      ]
     },
     "execution_count": 4,
     "metadata": {},
     "output_type": "execute_result"
    }
   ],
   "source": [
    "df = pd.read_excel('../../쇼핑몰_최종.xlsx')\n",
    "df.head(2)"
   ]
  },
  {
   "cell_type": "code",
   "execution_count": 63,
   "metadata": {},
   "outputs": [
    {
     "data": {
      "text/plain": [
       "Index(['CRI_YM', 'TAG', '평일휴일', '요일', '시간대', '성별', '연령대', '건수합계',\n",
       "       '인터넷 쇼핑 이용자 비율 (%)', '월 평균 구매빈도-1회 미만 (%)', '월 평균 구매빈도-1~2회 미만 (%)',\n",
       "       '월 평균 구매빈도-2~3회 미만 (%)', '월 평균 구매빈도-3회 이상 (%)', '월 평균 구매빈도-평균 (회)',\n",
       "       '네이버 태그 클릭량'],\n",
       "      dtype='object')"
      ]
     },
     "execution_count": 63,
     "metadata": {},
     "output_type": "execute_result"
    }
   ],
   "source": [
    "df.columns"
   ]
  },
  {
   "cell_type": "code",
   "execution_count": 66,
   "metadata": {
    "scrolled": false
   },
   "outputs": [
    {
     "data": {
      "text/plain": [
       "<seaborn.matrix.ClusterGrid at 0x248c4af1898>"
      ]
     },
     "execution_count": 66,
     "metadata": {},
     "output_type": "execute_result"
    },
    {
     "data": {
      "image/png": "[encoded data removed]",
      "text/plain": [
       "<Figure size 720x720 with 4 Axes>"
      ]
     },
     "metadata": {
      "image/png": {
       "height": 713,
       "width": 713
      },
      "needs_background": "light"
     },
     "output_type": "display_data"
    }
   ],
   "source": [
    "df_corr = df.corr()\n",
    "\n",
    "sns.clustermap(df_corr, \n",
    "               annot = True,      # 실제 값 화면에 나타내기\n",
    "               cmap = 'RdYlBu_r',  # Red, Yellow, Blue 색상으로 표시\n",
    "               vmin = -1, vmax = 1, #컬러차트 -1 ~ 1 범위로 표시\n",
    "              )"
   ]
  },
  {
   "cell_type": "markdown",
   "metadata": {},
   "source": [
    "## 라벨 인코딩"
   ]
  },
  {
   "cell_type": "code",
   "execution_count": 6,
   "metadata": {},
   "outputs": [],
   "source": [
    "encoder = LabelEncoder()\n",
    "encoder1 = LabelEncoder()\n",
    "encoder2 = LabelEncoder()\n",
    "encoder3 = LabelEncoder()\n",
    "encoder4 = LabelEncoder()"
   ]
  },
  {
   "cell_type": "code",
   "execution_count": 7,
   "metadata": {},
   "outputs": [],
   "source": [
    "df['평일휴일'] = encoder.fit_transform(df['평일휴일'])\n",
    "df['요일'] = encoder1.fit_transform(df['요일'])\n",
    "df['시간대'] = encoder2.fit_transform(df['시간대'])\n",
    "df['성별'] = encoder3.fit_transform(df['성별'])\n",
    "df['연령대'] = encoder4.fit_transform(df['연령대'])"
   ]
  },
  {
   "cell_type": "markdown",
   "metadata": {},
   "source": [
    "### 기존 DataFrame tree"
   ]
  },
  {
   "cell_type": "code",
   "execution_count": 8,
   "metadata": {},
   "outputs": [],
   "source": [
    "X_train, X_test, y_train, y_test = train_test_split(\n",
    "    df[['CRI_YM', '평일휴일', '요일', '시간대', '성별', '연령대', '건수합계',\n",
    "       '인터넷 쇼핑 이용자 비율 (%)', '월 평균 구매빈도-1회 미만 (%)', '월 평균 구매빈도-1~2회 미만 (%)',\n",
    "       '월 평균 구매빈도-2~3회 미만 (%)', '월 평균 구매빈도-3회 이상 (%)', '월 평균 구매빈도-평균 (회)','네이버 태그 클릭량']],\n",
    "    df['TAG'],\n",
    "    test_size=0.2,\n",
    "    random_state=42\n",
    ")"
   ]
  },
  {
   "cell_type": "code",
   "execution_count": 9,
   "metadata": {},
   "outputs": [
    {
     "name": "stdout",
     "output_type": "stream",
     "text": [
      "1 84.775\n",
      "2 88.775\n",
      "3 93.45\n",
      "4 93.45\n",
      "5 94.975\n",
      "6 95.325\n",
      "7 96.45\n",
      "8 97.15\n",
      "9 97.625\n",
      "10 97.875\n",
      "11 97.95\n",
      "12 98.1\n",
      "13 98.1\n",
      "14 98.225\n",
      "15 98.075\n",
      "16 98.075\n",
      "17 98.1\n",
      "18 98.1\n"
     ]
    }
   ],
   "source": [
    "for max_depth in range(1, 19):\n",
    "    model = DecisionTreeClassifier(max_depth = max_depth, random_state = 42)\n",
    "    y_pred = model.fit(X_train, y_train).predict(X_test)\n",
    "    score = accuracy_score(y_test, y_pred) * 100\n",
    "    print(max_depth, score)"
   ]
  },
  {
   "cell_type": "code",
   "execution_count": 10,
   "metadata": {},
   "outputs": [
    {
     "name": "stdout",
     "output_type": "stream",
     "text": [
      "1 98.1\n",
      "2 98.1\n"
     ]
    }
   ],
   "source": [
    "for max_features in range(1, 3):\n",
    "    model = DecisionTreeClassifier(max_depth = 12, max_features = max_features, random_state = 42)\n",
    "    y_pred2 = model.fit(X_train, y_train).predict(X_test)\n",
    "    score = accuracy_score(y_test, y_pred) * 100\n",
    "    print(max_features, score)"
   ]
  },
  {
   "cell_type": "code",
   "execution_count": 11,
   "metadata": {},
   "outputs": [],
   "source": [
    "dt = DecisionTreeClassifier(\n",
    "    criterion='gini',\n",
    "    max_depth = 12,\n",
    "    max_features = 2,\n",
    "    random_state = 42\n",
    ")"
   ]
  },
  {
   "cell_type": "code",
   "execution_count": 12,
   "metadata": {},
   "outputs": [
    {
     "data": {
      "text/plain": [
       "DecisionTreeClassifier(max_depth=12, max_features=2, random_state=42)"
      ]
     },
     "execution_count": 12,
     "metadata": {},
     "output_type": "execute_result"
    }
   ],
   "source": [
    "dt.fit(X_train, y_train)"
   ]
  },
  {
   "cell_type": "code",
   "execution_count": 13,
   "metadata": {
    "scrolled": false
   },
   "outputs": [],
   "source": [
    "# feature_names = X_train.columns.tolist()\n",
    "# from sklearn.tree import plot_tree\n",
    "\n",
    "# plt.figure(figsize = (15, 15))\n",
    "# tree = plot_tree(dt, feature_names = feature_names, fontsize = 10, filled = True)\n",
    "# plt.savefig('plot_tree.png')"
   ]
  },
  {
   "cell_type": "code",
   "execution_count": 14,
   "metadata": {},
   "outputs": [
    {
     "name": "stdout",
     "output_type": "stream",
     "text": [
      "훈련 세트 정확도: 0.969\n",
      "테스트 세트 정확도: 0.947\n"
     ]
    }
   ],
   "source": [
    "print(\"훈련 세트 정확도: {:.3f}\".format(dt.score(X_train, y_train)))\n",
    "print(\"테스트 세트 정확도: {:.3f}\".format(dt.score(X_test, y_test)))"
   ]
  },
  {
   "cell_type": "markdown",
   "metadata": {},
   "source": [
    "### 기존 DataFrame에서 네이버 태그 클릭량이 빠진 경우 tree"
   ]
  },
  {
   "cell_type": "code",
   "execution_count": 15,
   "metadata": {},
   "outputs": [],
   "source": [
    "X_train2, X_test2, y_train2, y_test2 = train_test_split(\n",
    "    df[['CRI_YM', '평일휴일', '요일', '시간대', '성별', '연령대', '건수합계',\n",
    "       '인터넷 쇼핑 이용자 비율 (%)', '월 평균 구매빈도-1회 미만 (%)', '월 평균 구매빈도-1~2회 미만 (%)',\n",
    "       '월 평균 구매빈도-2~3회 미만 (%)', '월 평균 구매빈도-3회 이상 (%)', '월 평균 구매빈도-평균 (회)']],\n",
    "    df['TAG'],\n",
    "    test_size=0.2,\n",
    "    random_state=42\n",
    ")"
   ]
  },
  {
   "cell_type": "code",
   "execution_count": 16,
   "metadata": {},
   "outputs": [
    {
     "name": "stdout",
     "output_type": "stream",
     "text": [
      "1 61.85000000000001\n",
      "2 61.75000000000001\n",
      "3 63.025\n",
      "4 63.175000000000004\n",
      "5 63.324999999999996\n",
      "6 63.65\n",
      "7 63.025\n",
      "8 62.724999999999994\n",
      "9 62.45\n",
      "10 62.224999999999994\n",
      "11 61.5\n",
      "12 60.699999999999996\n",
      "13 59.824999999999996\n",
      "14 58.099999999999994\n",
      "15 57.775\n",
      "16 56.89999999999999\n",
      "17 56.625\n",
      "18 56.375\n",
      "19 55.074999999999996\n"
     ]
    }
   ],
   "source": [
    "for max_depth in range(1, 20):\n",
    "    model = DecisionTreeClassifier(max_depth = max_depth, random_state = 42)\n",
    "    y_pred2 = model.fit(X_train2, y_train2).predict(X_test2)\n",
    "    score = accuracy_score(y_test2, y_pred2) * 100\n",
    "    print(max_depth, score)"
   ]
  },
  {
   "cell_type": "code",
   "execution_count": 17,
   "metadata": {},
   "outputs": [
    {
     "name": "stdout",
     "output_type": "stream",
     "text": [
      "1 62.224999999999994\n",
      "2 62.925\n",
      "3 62.7\n",
      "4 63.4\n",
      "5 63.324999999999996\n",
      "6 63.575\n",
      "7 62.675000000000004\n",
      "8 62.475\n",
      "9 63.4\n",
      "10 63.0\n",
      "11 63.74999999999999\n",
      "12 63.475\n",
      "13 63.65\n"
     ]
    }
   ],
   "source": [
    "for max_features in range(1, 14):\n",
    "    model = DecisionTreeClassifier(max_depth = 6, max_features = max_features, random_state = 42)\n",
    "    y_pred2 = model.fit(X_train2, y_train2).predict(X_test2)\n",
    "    score = accuracy_score(y_test2, y_pred2) * 100\n",
    "    print(max_features, score)"
   ]
  },
  {
   "cell_type": "code",
   "execution_count": 18,
   "metadata": {},
   "outputs": [],
   "source": [
    "dt2 = DecisionTreeClassifier(\n",
    "    criterion='gini',\n",
    "    max_depth = 6,\n",
    "    max_features = 13,\n",
    "    random_state = 42\n",
    ")"
   ]
  },
  {
   "cell_type": "code",
   "execution_count": 19,
   "metadata": {},
   "outputs": [
    {
     "data": {
      "text/plain": [
       "DecisionTreeClassifier(max_depth=6, max_features=13, random_state=42)"
      ]
     },
     "execution_count": 19,
     "metadata": {},
     "output_type": "execute_result"
    }
   ],
   "source": [
    "dt2.fit(X_train2, y_train2)"
   ]
  },
  {
   "cell_type": "code",
   "execution_count": 20,
   "metadata": {
    "scrolled": false
   },
   "outputs": [],
   "source": [
    "# feature_names = X_train2.columns.tolist()\n",
    "# from sklearn.tree import plot_tree\n",
    "\n",
    "# plt.figure(figsize = (15, 15))\n",
    "# tree = plot_tree(dt, feature_names = feature_names, fontsize = 10, filled = True)\n",
    "# plt.savefig('plot_tree2.png')"
   ]
  },
  {
   "cell_type": "code",
   "execution_count": 21,
   "metadata": {},
   "outputs": [
    {
     "name": "stdout",
     "output_type": "stream",
     "text": [
      "훈련 세트 정확도: 0.630\n",
      "테스트 세트 정확도: 0.636\n"
     ]
    }
   ],
   "source": [
    "print(\"훈련 세트 정확도: {:.3f}\".format(dt2.score(X_train2, y_train2)))\n",
    "print(\"테스트 세트 정확도: {:.3f}\".format(dt2.score(X_test2, y_test2)))"
   ]
  },
  {
   "cell_type": "markdown",
   "metadata": {},
   "source": [
    "### 기존 DataFrame에서 네이버 클릭량 / 건수합계가 빠진 경우 tree"
   ]
  },
  {
   "cell_type": "code",
   "execution_count": 22,
   "metadata": {},
   "outputs": [],
   "source": [
    "X_train3, X_test3, y_train3, y_test3 = train_test_split(\n",
    "    df[['CRI_YM', '평일휴일', '요일', '시간대', '성별', '연령대',\n",
    "       '인터넷 쇼핑 이용자 비율 (%)', '월 평균 구매빈도-1회 미만 (%)', '월 평균 구매빈도-1~2회 미만 (%)',\n",
    "       '월 평균 구매빈도-2~3회 미만 (%)', '월 평균 구매빈도-3회 이상 (%)', '월 평균 구매빈도-평균 (회)']],\n",
    "    df['TAG'],\n",
    "    test_size=0.2,\n",
    "    random_state=42\n",
    ")"
   ]
  },
  {
   "cell_type": "code",
   "execution_count": 23,
   "metadata": {
    "scrolled": false
   },
   "outputs": [
    {
     "name": "stdout",
     "output_type": "stream",
     "text": [
      "1 61.85000000000001\n",
      "2 61.85000000000001\n",
      "3 61.85000000000001\n",
      "4 61.85000000000001\n",
      "5 61.724999999999994\n",
      "6 61.724999999999994\n",
      "7 61.675000000000004\n",
      "8 61.724999999999994\n",
      "9 61.625\n",
      "10 61.5\n",
      "11 61.5\n",
      "12 61.5\n",
      "13 61.5\n",
      "14 61.5\n",
      "15 61.5\n",
      "16 61.5\n",
      "17 61.5\n",
      "18 61.5\n",
      "19 61.5\n"
     ]
    }
   ],
   "source": [
    "for max_depth in range(1, 20):\n",
    "    model = DecisionTreeClassifier(max_depth = max_depth, random_state = 42)\n",
    "    y_pred3 = model.fit(X_train3, y_train3).predict(X_test3)\n",
    "    score = accuracy_score(y_test3, y_pred3) * 100\n",
    "    print(max_depth, score)"
   ]
  },
  {
   "cell_type": "code",
   "execution_count": 24,
   "metadata": {},
   "outputs": [
    {
     "name": "stdout",
     "output_type": "stream",
     "text": [
      "1 61.5\n",
      "2 61.75000000000001\n",
      "3 61.625\n",
      "4 61.625\n",
      "5 61.5\n",
      "6 61.5\n",
      "7 61.5\n",
      "8 61.625\n",
      "9 61.5\n",
      "10 61.5\n",
      "11 61.5\n",
      "12 61.5\n"
     ]
    }
   ],
   "source": [
    "for max_features in range(1, 13):\n",
    "    model = DecisionTreeClassifier(max_depth = 10, max_features = max_features, random_state = 42)\n",
    "    y_pred3 = model.fit(X_train3, y_train3).predict(X_test3)\n",
    "    score = accuracy_score(y_test3, y_pred3) * 100\n",
    "    print(max_features, score)"
   ]
  },
  {
   "cell_type": "code",
   "execution_count": 25,
   "metadata": {},
   "outputs": [],
   "source": [
    "dt3 = DecisionTreeClassifier(\n",
    "    criterion='gini',\n",
    "    max_depth = 10,\n",
    "    max_features = 9,\n",
    "    random_state = 42\n",
    ")"
   ]
  },
  {
   "cell_type": "code",
   "execution_count": 26,
   "metadata": {},
   "outputs": [
    {
     "data": {
      "text/plain": [
       "DecisionTreeClassifier(max_depth=10, max_features=9, random_state=42)"
      ]
     },
     "execution_count": 26,
     "metadata": {},
     "output_type": "execute_result"
    }
   ],
   "source": [
    "dt3.fit(X_train3, y_train3)"
   ]
  },
  {
   "cell_type": "code",
   "execution_count": 27,
   "metadata": {},
   "outputs": [],
   "source": [
    "# feature_names = X_train3.columns.tolist()\n",
    "# from sklearn.tree import plot_tree\n",
    "\n",
    "# plt.figure(figsize = (50, 15))\n",
    "# tree = plot_tree(dt, feature_names = feature_names, fontsize = 10, filled = True)\n",
    "# plt.savefig('plot_tree3.png')"
   ]
  },
  {
   "cell_type": "code",
   "execution_count": 28,
   "metadata": {},
   "outputs": [
    {
     "name": "stdout",
     "output_type": "stream",
     "text": [
      "훈련 세트 정확도: 0.610\n",
      "테스트 세트 정확도: 0.615\n"
     ]
    }
   ],
   "source": [
    "print(\"훈련 세트 정확도: {:.3f}\".format(dt3.score(X_train3, y_train3)))\n",
    "print(\"테스트 세트 정확도: {:.3f}\".format(dt3.score(X_test3, y_test3)))"
   ]
  },
  {
   "cell_type": "markdown",
   "metadata": {},
   "source": [
    "### 만약 태그에서 '생활/취미/사무용품/인테리어/골프용품'이 빠진다면?"
   ]
  },
  {
   "cell_type": "code",
   "execution_count": 29,
   "metadata": {
    "scrolled": false
   },
   "outputs": [
    {
     "data": {
      "text/plain": [
       "array(['패션/화장품', '패션/화장품', '패션/화장품', ..., '생활/취미/사무용품/인테리어/골프용품',\n",
       "       '생활/취미/사무용품/인테리어/골프용품', '생활/취미/사무용품/인테리어/골프용품'], dtype=object)"
      ]
     },
     "execution_count": 29,
     "metadata": {},
     "output_type": "execute_result"
    }
   ],
   "source": [
    "df['TAG'].values"
   ]
  },
  {
   "cell_type": "code",
   "execution_count": 30,
   "metadata": {},
   "outputs": [],
   "source": [
    "df2 = df.copy()"
   ]
  },
  {
   "cell_type": "code",
   "execution_count": 31,
   "metadata": {},
   "outputs": [
    {
     "data": {
      "text/html": [
       "<div>\n",
       "<style scoped>\n",
       "    .dataframe tbody tr th:only-of-type {\n",
       "        vertical-align: middle;\n",
       "    }\n",
       "\n",
       "    .dataframe tbody tr th {\n",
       "        vertical-align: top;\n",
       "    }\n",
       "\n",
       "    .dataframe thead th {\n",
       "        text-align: right;\n",
       "    }\n",
       "</style>\n",
       "<table border=\"1\" class=\"dataframe\">\n",
       "  <thead>\n",
       "    <tr style=\"text-align: right;\">\n",
       "      <th></th>\n",
       "      <th>CRI_YM</th>\n",
       "      <th>TAG</th>\n",
       "      <th>평일휴일</th>\n",
       "      <th>요일</th>\n",
       "      <th>시간대</th>\n",
       "      <th>성별</th>\n",
       "      <th>연령대</th>\n",
       "      <th>건수합계</th>\n",
       "      <th>인터넷 쇼핑 이용자 비율 (%)</th>\n",
       "      <th>월 평균 구매빈도-1회 미만 (%)</th>\n",
       "      <th>월 평균 구매빈도-1~2회 미만 (%)</th>\n",
       "      <th>월 평균 구매빈도-2~3회 미만 (%)</th>\n",
       "      <th>월 평균 구매빈도-3회 이상 (%)</th>\n",
       "      <th>월 평균 구매빈도-평균 (회)</th>\n",
       "      <th>네이버 태그 클릭량</th>\n",
       "    </tr>\n",
       "  </thead>\n",
       "  <tbody>\n",
       "    <tr>\n",
       "      <th>0</th>\n",
       "      <td>2020</td>\n",
       "      <td>패션/화장품</td>\n",
       "      <td>0</td>\n",
       "      <td>3</td>\n",
       "      <td>5</td>\n",
       "      <td>0</td>\n",
       "      <td>1</td>\n",
       "      <td>890</td>\n",
       "      <td>94.7</td>\n",
       "      <td>18.2</td>\n",
       "      <td>14.0</td>\n",
       "      <td>18.9</td>\n",
       "      <td>48.9</td>\n",
       "      <td>3.8</td>\n",
       "      <td>188.00</td>\n",
       "    </tr>\n",
       "    <tr>\n",
       "      <th>1</th>\n",
       "      <td>2020</td>\n",
       "      <td>패션/화장품</td>\n",
       "      <td>1</td>\n",
       "      <td>4</td>\n",
       "      <td>5</td>\n",
       "      <td>0</td>\n",
       "      <td>0</td>\n",
       "      <td>2958</td>\n",
       "      <td>97.5</td>\n",
       "      <td>20.2</td>\n",
       "      <td>18.2</td>\n",
       "      <td>15.8</td>\n",
       "      <td>45.8</td>\n",
       "      <td>3.7</td>\n",
       "      <td>196.00</td>\n",
       "    </tr>\n",
       "    <tr>\n",
       "      <th>2</th>\n",
       "      <td>2020</td>\n",
       "      <td>패션/화장품</td>\n",
       "      <td>0</td>\n",
       "      <td>1</td>\n",
       "      <td>5</td>\n",
       "      <td>0</td>\n",
       "      <td>0</td>\n",
       "      <td>1898</td>\n",
       "      <td>97.5</td>\n",
       "      <td>20.2</td>\n",
       "      <td>18.2</td>\n",
       "      <td>15.8</td>\n",
       "      <td>45.8</td>\n",
       "      <td>3.7</td>\n",
       "      <td>170.00</td>\n",
       "    </tr>\n",
       "    <tr>\n",
       "      <th>3</th>\n",
       "      <td>2020</td>\n",
       "      <td>패션/화장품</td>\n",
       "      <td>1</td>\n",
       "      <td>5</td>\n",
       "      <td>5</td>\n",
       "      <td>0</td>\n",
       "      <td>0</td>\n",
       "      <td>2003</td>\n",
       "      <td>97.5</td>\n",
       "      <td>20.2</td>\n",
       "      <td>18.2</td>\n",
       "      <td>15.8</td>\n",
       "      <td>45.8</td>\n",
       "      <td>3.7</td>\n",
       "      <td>172.00</td>\n",
       "    </tr>\n",
       "    <tr>\n",
       "      <th>4</th>\n",
       "      <td>2020</td>\n",
       "      <td>패션/화장품</td>\n",
       "      <td>0</td>\n",
       "      <td>2</td>\n",
       "      <td>0</td>\n",
       "      <td>0</td>\n",
       "      <td>4</td>\n",
       "      <td>110</td>\n",
       "      <td>19.8</td>\n",
       "      <td>33.3</td>\n",
       "      <td>13.4</td>\n",
       "      <td>22.7</td>\n",
       "      <td>30.5</td>\n",
       "      <td>2.6</td>\n",
       "      <td>177.00</td>\n",
       "    </tr>\n",
       "    <tr>\n",
       "      <th>...</th>\n",
       "      <td>...</td>\n",
       "      <td>...</td>\n",
       "      <td>...</td>\n",
       "      <td>...</td>\n",
       "      <td>...</td>\n",
       "      <td>...</td>\n",
       "      <td>...</td>\n",
       "      <td>...</td>\n",
       "      <td>...</td>\n",
       "      <td>...</td>\n",
       "      <td>...</td>\n",
       "      <td>...</td>\n",
       "      <td>...</td>\n",
       "      <td>...</td>\n",
       "      <td>...</td>\n",
       "    </tr>\n",
       "    <tr>\n",
       "      <th>19992</th>\n",
       "      <td>2020</td>\n",
       "      <td>생활/취미/사무용품/인테리어/골프용품</td>\n",
       "      <td>0</td>\n",
       "      <td>2</td>\n",
       "      <td>4</td>\n",
       "      <td>0</td>\n",
       "      <td>3</td>\n",
       "      <td>514</td>\n",
       "      <td>46.3</td>\n",
       "      <td>28.2</td>\n",
       "      <td>14.1</td>\n",
       "      <td>20.2</td>\n",
       "      <td>37.4</td>\n",
       "      <td>3.4</td>\n",
       "      <td>12.75</td>\n",
       "    </tr>\n",
       "    <tr>\n",
       "      <th>19993</th>\n",
       "      <td>2019</td>\n",
       "      <td>생활/취미/사무용품/인테리어/골프용품</td>\n",
       "      <td>1</td>\n",
       "      <td>4</td>\n",
       "      <td>3</td>\n",
       "      <td>1</td>\n",
       "      <td>0</td>\n",
       "      <td>233</td>\n",
       "      <td>94.3</td>\n",
       "      <td>13.2</td>\n",
       "      <td>20.4</td>\n",
       "      <td>22.1</td>\n",
       "      <td>44.2</td>\n",
       "      <td>2.9</td>\n",
       "      <td>42.00</td>\n",
       "    </tr>\n",
       "    <tr>\n",
       "      <th>19994</th>\n",
       "      <td>2020</td>\n",
       "      <td>생활/취미/사무용품/인테리어/골프용품</td>\n",
       "      <td>0</td>\n",
       "      <td>0</td>\n",
       "      <td>3</td>\n",
       "      <td>0</td>\n",
       "      <td>2</td>\n",
       "      <td>107</td>\n",
       "      <td>76.8</td>\n",
       "      <td>24.1</td>\n",
       "      <td>12.9</td>\n",
       "      <td>17.6</td>\n",
       "      <td>45.4</td>\n",
       "      <td>3.8</td>\n",
       "      <td>28.80</td>\n",
       "    </tr>\n",
       "    <tr>\n",
       "      <th>19995</th>\n",
       "      <td>2021</td>\n",
       "      <td>생활/취미/사무용품/인테리어/골프용품</td>\n",
       "      <td>0</td>\n",
       "      <td>6</td>\n",
       "      <td>2</td>\n",
       "      <td>0</td>\n",
       "      <td>4</td>\n",
       "      <td>415</td>\n",
       "      <td>31.7</td>\n",
       "      <td>11.0</td>\n",
       "      <td>18.7</td>\n",
       "      <td>19.6</td>\n",
       "      <td>50.7</td>\n",
       "      <td>4.1</td>\n",
       "      <td>5.00</td>\n",
       "    </tr>\n",
       "    <tr>\n",
       "      <th>19996</th>\n",
       "      <td>2019</td>\n",
       "      <td>생활/취미/사무용품/인테리어/골프용품</td>\n",
       "      <td>0</td>\n",
       "      <td>1</td>\n",
       "      <td>2</td>\n",
       "      <td>1</td>\n",
       "      <td>2</td>\n",
       "      <td>580</td>\n",
       "      <td>66.8</td>\n",
       "      <td>17.1</td>\n",
       "      <td>23.2</td>\n",
       "      <td>20.0</td>\n",
       "      <td>39.7</td>\n",
       "      <td>2.9</td>\n",
       "      <td>18.60</td>\n",
       "    </tr>\n",
       "  </tbody>\n",
       "</table>\n",
       "<p>19997 rows × 15 columns</p>\n",
       "</div>"
      ],
      "text/plain": [
       "       CRI_YM                   TAG  평일휴일  요일  시간대  성별  연령대  건수합계  \\\n",
       "0        2020                패션/화장품     0   3    5   0    1   890   \n",
       "1        2020                패션/화장품     1   4    5   0    0  2958   \n",
       "2        2020                패션/화장품     0   1    5   0    0  1898   \n",
       "3        2020                패션/화장품     1   5    5   0    0  2003   \n",
       "4        2020                패션/화장품     0   2    0   0    4   110   \n",
       "...       ...                   ...   ...  ..  ...  ..  ...   ...   \n",
       "19992    2020  생활/취미/사무용품/인테리어/골프용품     0   2    4   0    3   514   \n",
       "19993    2019  생활/취미/사무용품/인테리어/골프용품     1   4    3   1    0   233   \n",
       "19994    2020  생활/취미/사무용품/인테리어/골프용품     0   0    3   0    2   107   \n",
       "19995    2021  생활/취미/사무용품/인테리어/골프용품     0   6    2   0    4   415   \n",
       "19996    2019  생활/취미/사무용품/인테리어/골프용품     0   1    2   1    2   580   \n",
       "\n",
       "       인터넷 쇼핑 이용자 비율 (%)  월 평균 구매빈도-1회 미만 (%)  월 평균 구매빈도-1~2회 미만 (%)  \\\n",
       "0                   94.7                 18.2                   14.0   \n",
       "1                   97.5                 20.2                   18.2   \n",
       "2                   97.5                 20.2                   18.2   \n",
       "3                   97.5                 20.2                   18.2   \n",
       "4                   19.8                 33.3                   13.4   \n",
       "...                  ...                  ...                    ...   \n",
       "19992               46.3                 28.2                   14.1   \n",
       "19993               94.3                 13.2                   20.4   \n",
       "19994               76.8                 24.1                   12.9   \n",
       "19995               31.7                 11.0                   18.7   \n",
       "19996               66.8                 17.1                   23.2   \n",
       "\n",
       "       월 평균 구매빈도-2~3회 미만 (%)  월 평균 구매빈도-3회 이상 (%)  월 평균 구매빈도-평균 (회)  \\\n",
       "0                       18.9                 48.9               3.8   \n",
       "1                       15.8                 45.8               3.7   \n",
       "2                       15.8                 45.8               3.7   \n",
       "3                       15.8                 45.8               3.7   \n",
       "4                       22.7                 30.5               2.6   \n",
       "...                      ...                  ...               ...   \n",
       "19992                   20.2                 37.4               3.4   \n",
       "19993                   22.1                 44.2               2.9   \n",
       "19994                   17.6                 45.4               3.8   \n",
       "19995                   19.6                 50.7               4.1   \n",
       "19996                   20.0                 39.7               2.9   \n",
       "\n",
       "       네이버 태그 클릭량  \n",
       "0          188.00  \n",
       "1          196.00  \n",
       "2          170.00  \n",
       "3          172.00  \n",
       "4          177.00  \n",
       "...           ...  \n",
       "19992       12.75  \n",
       "19993       42.00  \n",
       "19994       28.80  \n",
       "19995        5.00  \n",
       "19996       18.60  \n",
       "\n",
       "[19997 rows x 15 columns]"
      ]
     },
     "execution_count": 31,
     "metadata": {},
     "output_type": "execute_result"
    }
   ],
   "source": [
    "df2"
   ]
  },
  {
   "cell_type": "code",
   "execution_count": 32,
   "metadata": {},
   "outputs": [],
   "source": [
    "drop_tag = df2[df2['TAG'] == '생활/취미/사무용품/인테리어/골프용품'].index"
   ]
  },
  {
   "cell_type": "code",
   "execution_count": 33,
   "metadata": {},
   "outputs": [],
   "source": [
    "df2 = df2.drop(drop_tag)"
   ]
  },
  {
   "cell_type": "code",
   "execution_count": 34,
   "metadata": {},
   "outputs": [
    {
     "data": {
      "text/html": [
       "<div>\n",
       "<style scoped>\n",
       "    .dataframe tbody tr th:only-of-type {\n",
       "        vertical-align: middle;\n",
       "    }\n",
       "\n",
       "    .dataframe tbody tr th {\n",
       "        vertical-align: top;\n",
       "    }\n",
       "\n",
       "    .dataframe thead th {\n",
       "        text-align: right;\n",
       "    }\n",
       "</style>\n",
       "<table border=\"1\" class=\"dataframe\">\n",
       "  <thead>\n",
       "    <tr style=\"text-align: right;\">\n",
       "      <th></th>\n",
       "      <th>CRI_YM</th>\n",
       "      <th>TAG</th>\n",
       "      <th>평일휴일</th>\n",
       "      <th>요일</th>\n",
       "      <th>시간대</th>\n",
       "      <th>성별</th>\n",
       "      <th>연령대</th>\n",
       "      <th>건수합계</th>\n",
       "      <th>인터넷 쇼핑 이용자 비율 (%)</th>\n",
       "      <th>월 평균 구매빈도-1회 미만 (%)</th>\n",
       "      <th>월 평균 구매빈도-1~2회 미만 (%)</th>\n",
       "      <th>월 평균 구매빈도-2~3회 미만 (%)</th>\n",
       "      <th>월 평균 구매빈도-3회 이상 (%)</th>\n",
       "      <th>월 평균 구매빈도-평균 (회)</th>\n",
       "      <th>네이버 태그 클릭량</th>\n",
       "    </tr>\n",
       "  </thead>\n",
       "  <tbody>\n",
       "    <tr>\n",
       "      <th>0</th>\n",
       "      <td>2020</td>\n",
       "      <td>패션/화장품</td>\n",
       "      <td>0</td>\n",
       "      <td>3</td>\n",
       "      <td>5</td>\n",
       "      <td>0</td>\n",
       "      <td>1</td>\n",
       "      <td>890</td>\n",
       "      <td>94.7</td>\n",
       "      <td>18.2</td>\n",
       "      <td>14.0</td>\n",
       "      <td>18.9</td>\n",
       "      <td>48.9</td>\n",
       "      <td>3.8</td>\n",
       "      <td>188.0</td>\n",
       "    </tr>\n",
       "    <tr>\n",
       "      <th>1</th>\n",
       "      <td>2020</td>\n",
       "      <td>패션/화장품</td>\n",
       "      <td>1</td>\n",
       "      <td>4</td>\n",
       "      <td>5</td>\n",
       "      <td>0</td>\n",
       "      <td>0</td>\n",
       "      <td>2958</td>\n",
       "      <td>97.5</td>\n",
       "      <td>20.2</td>\n",
       "      <td>18.2</td>\n",
       "      <td>15.8</td>\n",
       "      <td>45.8</td>\n",
       "      <td>3.7</td>\n",
       "      <td>196.0</td>\n",
       "    </tr>\n",
       "    <tr>\n",
       "      <th>2</th>\n",
       "      <td>2020</td>\n",
       "      <td>패션/화장품</td>\n",
       "      <td>0</td>\n",
       "      <td>1</td>\n",
       "      <td>5</td>\n",
       "      <td>0</td>\n",
       "      <td>0</td>\n",
       "      <td>1898</td>\n",
       "      <td>97.5</td>\n",
       "      <td>20.2</td>\n",
       "      <td>18.2</td>\n",
       "      <td>15.8</td>\n",
       "      <td>45.8</td>\n",
       "      <td>3.7</td>\n",
       "      <td>170.0</td>\n",
       "    </tr>\n",
       "    <tr>\n",
       "      <th>3</th>\n",
       "      <td>2020</td>\n",
       "      <td>패션/화장품</td>\n",
       "      <td>1</td>\n",
       "      <td>5</td>\n",
       "      <td>5</td>\n",
       "      <td>0</td>\n",
       "      <td>0</td>\n",
       "      <td>2003</td>\n",
       "      <td>97.5</td>\n",
       "      <td>20.2</td>\n",
       "      <td>18.2</td>\n",
       "      <td>15.8</td>\n",
       "      <td>45.8</td>\n",
       "      <td>3.7</td>\n",
       "      <td>172.0</td>\n",
       "    </tr>\n",
       "    <tr>\n",
       "      <th>4</th>\n",
       "      <td>2020</td>\n",
       "      <td>패션/화장품</td>\n",
       "      <td>0</td>\n",
       "      <td>2</td>\n",
       "      <td>0</td>\n",
       "      <td>0</td>\n",
       "      <td>4</td>\n",
       "      <td>110</td>\n",
       "      <td>19.8</td>\n",
       "      <td>33.3</td>\n",
       "      <td>13.4</td>\n",
       "      <td>22.7</td>\n",
       "      <td>30.5</td>\n",
       "      <td>2.6</td>\n",
       "      <td>177.0</td>\n",
       "    </tr>\n",
       "    <tr>\n",
       "      <th>...</th>\n",
       "      <td>...</td>\n",
       "      <td>...</td>\n",
       "      <td>...</td>\n",
       "      <td>...</td>\n",
       "      <td>...</td>\n",
       "      <td>...</td>\n",
       "      <td>...</td>\n",
       "      <td>...</td>\n",
       "      <td>...</td>\n",
       "      <td>...</td>\n",
       "      <td>...</td>\n",
       "      <td>...</td>\n",
       "      <td>...</td>\n",
       "      <td>...</td>\n",
       "      <td>...</td>\n",
       "    </tr>\n",
       "    <tr>\n",
       "      <th>7760</th>\n",
       "      <td>2019</td>\n",
       "      <td>애완용품</td>\n",
       "      <td>0</td>\n",
       "      <td>2</td>\n",
       "      <td>5</td>\n",
       "      <td>0</td>\n",
       "      <td>3</td>\n",
       "      <td>133</td>\n",
       "      <td>41.0</td>\n",
       "      <td>22.6</td>\n",
       "      <td>24.8</td>\n",
       "      <td>17.7</td>\n",
       "      <td>34.9</td>\n",
       "      <td>2.9</td>\n",
       "      <td>83.4</td>\n",
       "    </tr>\n",
       "    <tr>\n",
       "      <th>7761</th>\n",
       "      <td>2019</td>\n",
       "      <td>애완용품</td>\n",
       "      <td>0</td>\n",
       "      <td>6</td>\n",
       "      <td>4</td>\n",
       "      <td>1</td>\n",
       "      <td>3</td>\n",
       "      <td>75</td>\n",
       "      <td>39.0</td>\n",
       "      <td>23.5</td>\n",
       "      <td>21.2</td>\n",
       "      <td>14.6</td>\n",
       "      <td>40.7</td>\n",
       "      <td>2.5</td>\n",
       "      <td>81.8</td>\n",
       "    </tr>\n",
       "    <tr>\n",
       "      <th>7762</th>\n",
       "      <td>2019</td>\n",
       "      <td>애완용품</td>\n",
       "      <td>0</td>\n",
       "      <td>0</td>\n",
       "      <td>0</td>\n",
       "      <td>0</td>\n",
       "      <td>4</td>\n",
       "      <td>4</td>\n",
       "      <td>14.5</td>\n",
       "      <td>24.4</td>\n",
       "      <td>27.1</td>\n",
       "      <td>12.9</td>\n",
       "      <td>35.5</td>\n",
       "      <td>2.7</td>\n",
       "      <td>71.6</td>\n",
       "    </tr>\n",
       "    <tr>\n",
       "      <th>7763</th>\n",
       "      <td>2019</td>\n",
       "      <td>애완용품</td>\n",
       "      <td>0</td>\n",
       "      <td>3</td>\n",
       "      <td>0</td>\n",
       "      <td>0</td>\n",
       "      <td>4</td>\n",
       "      <td>6</td>\n",
       "      <td>14.5</td>\n",
       "      <td>24.4</td>\n",
       "      <td>27.1</td>\n",
       "      <td>12.9</td>\n",
       "      <td>35.5</td>\n",
       "      <td>2.7</td>\n",
       "      <td>89.5</td>\n",
       "    </tr>\n",
       "    <tr>\n",
       "      <th>7764</th>\n",
       "      <td>2019</td>\n",
       "      <td>애완용품</td>\n",
       "      <td>0</td>\n",
       "      <td>1</td>\n",
       "      <td>1</td>\n",
       "      <td>0</td>\n",
       "      <td>3</td>\n",
       "      <td>122</td>\n",
       "      <td>41.0</td>\n",
       "      <td>22.6</td>\n",
       "      <td>24.8</td>\n",
       "      <td>17.7</td>\n",
       "      <td>34.9</td>\n",
       "      <td>2.9</td>\n",
       "      <td>84.0</td>\n",
       "    </tr>\n",
       "  </tbody>\n",
       "</table>\n",
       "<p>7765 rows × 15 columns</p>\n",
       "</div>"
      ],
      "text/plain": [
       "      CRI_YM     TAG  평일휴일  요일  시간대  성별  연령대  건수합계  인터넷 쇼핑 이용자 비율 (%)  \\\n",
       "0       2020  패션/화장품     0   3    5   0    1   890               94.7   \n",
       "1       2020  패션/화장품     1   4    5   0    0  2958               97.5   \n",
       "2       2020  패션/화장품     0   1    5   0    0  1898               97.5   \n",
       "3       2020  패션/화장품     1   5    5   0    0  2003               97.5   \n",
       "4       2020  패션/화장품     0   2    0   0    4   110               19.8   \n",
       "...      ...     ...   ...  ..  ...  ..  ...   ...                ...   \n",
       "7760    2019    애완용품     0   2    5   0    3   133               41.0   \n",
       "7761    2019    애완용품     0   6    4   1    3    75               39.0   \n",
       "7762    2019    애완용품     0   0    0   0    4     4               14.5   \n",
       "7763    2019    애완용품     0   3    0   0    4     6               14.5   \n",
       "7764    2019    애완용품     0   1    1   0    3   122               41.0   \n",
       "\n",
       "      월 평균 구매빈도-1회 미만 (%)  월 평균 구매빈도-1~2회 미만 (%)  월 평균 구매빈도-2~3회 미만 (%)  \\\n",
       "0                    18.2                   14.0                   18.9   \n",
       "1                    20.2                   18.2                   15.8   \n",
       "2                    20.2                   18.2                   15.8   \n",
       "3                    20.2                   18.2                   15.8   \n",
       "4                    33.3                   13.4                   22.7   \n",
       "...                   ...                    ...                    ...   \n",
       "7760                 22.6                   24.8                   17.7   \n",
       "7761                 23.5                   21.2                   14.6   \n",
       "7762                 24.4                   27.1                   12.9   \n",
       "7763                 24.4                   27.1                   12.9   \n",
       "7764                 22.6                   24.8                   17.7   \n",
       "\n",
       "      월 평균 구매빈도-3회 이상 (%)  월 평균 구매빈도-평균 (회)  네이버 태그 클릭량  \n",
       "0                    48.9               3.8       188.0  \n",
       "1                    45.8               3.7       196.0  \n",
       "2                    45.8               3.7       170.0  \n",
       "3                    45.8               3.7       172.0  \n",
       "4                    30.5               2.6       177.0  \n",
       "...                   ...               ...         ...  \n",
       "7760                 34.9               2.9        83.4  \n",
       "7761                 40.7               2.5        81.8  \n",
       "7762                 35.5               2.7        71.6  \n",
       "7763                 35.5               2.7        89.5  \n",
       "7764                 34.9               2.9        84.0  \n",
       "\n",
       "[7765 rows x 15 columns]"
      ]
     },
     "execution_count": 34,
     "metadata": {},
     "output_type": "execute_result"
    }
   ],
   "source": [
    "df2"
   ]
  },
  {
   "cell_type": "code",
   "execution_count": 35,
   "metadata": {},
   "outputs": [],
   "source": [
    "X_train4, X_test4, y_train4, y_test4 = train_test_split(\n",
    "    df2[['CRI_YM', '평일휴일', '요일', '시간대', '성별', '연령대', '건수합계',\n",
    "       '인터넷 쇼핑 이용자 비율 (%)', '월 평균 구매빈도-1회 미만 (%)', '월 평균 구매빈도-1~2회 미만 (%)',\n",
    "       '월 평균 구매빈도-2~3회 미만 (%)', '월 평균 구매빈도-3회 이상 (%)', '월 평균 구매빈도-평균 (회)']],\n",
    "    df2['TAG'],\n",
    "    test_size=0.2,\n",
    "    random_state=42\n",
    ")"
   ]
  },
  {
   "cell_type": "code",
   "execution_count": 36,
   "metadata": {
    "scrolled": false
   },
   "outputs": [
    {
     "name": "stdout",
     "output_type": "stream",
     "text": [
      "1 59.562137797810685\n",
      "2 59.562137797810685\n",
      "3 59.81970379909852\n",
      "4 59.43335479716677\n",
      "5 60.27044430135222\n",
      "6 59.81970379909852\n",
      "7 60.012878300064386\n",
      "8 59.30457179652285\n",
      "9 62.91049581455248\n",
      "10 61.751448808757246\n",
      "11 61.10753380553767\n",
      "12 62.7173213135866\n",
      "13 62.13779781068899\n",
      "14 63.10367031551836\n",
      "15 62.39536381197682\n",
      "16 63.296844816484224\n",
      "17 63.4900193174501\n",
      "18 63.9407598197038\n",
      "19 62.84610431423052\n"
     ]
    }
   ],
   "source": [
    "for max_depth in range(1, 20):\n",
    "    model = DecisionTreeClassifier(max_depth = max_depth, random_state = 42)\n",
    "    y_pred4 = model.fit(X_train4, y_train4).predict(X_test4)\n",
    "    score = accuracy_score(y_test4, y_pred4) * 100\n",
    "    print(max_depth, score)"
   ]
  },
  {
   "cell_type": "code",
   "execution_count": 37,
   "metadata": {},
   "outputs": [
    {
     "name": "stdout",
     "output_type": "stream",
     "text": [
      "1 48.35801674179008\n",
      "2 51.38441725692209\n",
      "3 54.797166773985836\n",
      "4 54.28203477141017\n",
      "5 60.65679330328396\n",
      "6 60.463618802318095\n",
      "7 59.626529298132645\n",
      "8 59.690920798454606\n",
      "9 63.61880231809401\n",
      "10 61.88023180940115\n",
      "11 62.20218931101095\n",
      "12 63.61880231809401\n",
      "13 63.9407598197038\n"
     ]
    }
   ],
   "source": [
    "for max_features in range(1, 14):\n",
    "    model = DecisionTreeClassifier(max_depth = 18, max_features = max_features, random_state = 42)\n",
    "    y_pred4 = model.fit(X_train4, y_train4).predict(X_test4)\n",
    "    score = accuracy_score(y_test4, y_pred4) * 100\n",
    "    print(max_features, score)"
   ]
  },
  {
   "cell_type": "code",
   "execution_count": 38,
   "metadata": {},
   "outputs": [],
   "source": [
    "dt4 = DecisionTreeClassifier(\n",
    "    criterion='gini',\n",
    "    max_depth = 18,\n",
    "    max_features = 13,\n",
    "    random_state = 42\n",
    ")"
   ]
  },
  {
   "cell_type": "code",
   "execution_count": 39,
   "metadata": {},
   "outputs": [
    {
     "data": {
      "text/plain": [
       "DecisionTreeClassifier(max_depth=18, max_features=13, random_state=42)"
      ]
     },
     "execution_count": 39,
     "metadata": {},
     "output_type": "execute_result"
    }
   ],
   "source": [
    "dt4.fit(X_train4, y_train4)"
   ]
  },
  {
   "cell_type": "code",
   "execution_count": 40,
   "metadata": {},
   "outputs": [],
   "source": [
    "# feature_names = X_train4.columns.tolist()\n",
    "# from sklearn.tree import plot_tree\n",
    "\n",
    "# plt.figure(figsize = (15, 15))\n",
    "# tree = plot_tree(dt, fontsize = 10, filled = True)\n",
    "# plt.savefig('plot_tree4.png')"
   ]
  },
  {
   "cell_type": "code",
   "execution_count": 41,
   "metadata": {},
   "outputs": [
    {
     "name": "stdout",
     "output_type": "stream",
     "text": [
      "훈련 세트 정확도: 0.958\n",
      "테스트 세트 정확도: 0.639\n"
     ]
    }
   ],
   "source": [
    "print(\"훈련 세트 정확도: {:.3f}\".format(dt4.score(X_train4, y_train4)))\n",
    "print(\"테스트 세트 정확도: {:.3f}\".format(dt4.score(X_test4, y_test4)))"
   ]
  },
  {
   "cell_type": "markdown",
   "metadata": {},
   "source": [
    "### 만약 태그에서 '패션/화장품'이 빠진다면?"
   ]
  },
  {
   "cell_type": "code",
   "execution_count": 42,
   "metadata": {},
   "outputs": [],
   "source": [
    "df3 = df.copy()"
   ]
  },
  {
   "cell_type": "code",
   "execution_count": 43,
   "metadata": {},
   "outputs": [],
   "source": [
    "drop_tag2 = df3[df3['TAG'] == '패션/화장품'].index"
   ]
  },
  {
   "cell_type": "code",
   "execution_count": 44,
   "metadata": {},
   "outputs": [
    {
     "data": {
      "text/html": [
       "<div>\n",
       "<style scoped>\n",
       "    .dataframe tbody tr th:only-of-type {\n",
       "        vertical-align: middle;\n",
       "    }\n",
       "\n",
       "    .dataframe tbody tr th {\n",
       "        vertical-align: top;\n",
       "    }\n",
       "\n",
       "    .dataframe thead th {\n",
       "        text-align: right;\n",
       "    }\n",
       "</style>\n",
       "<table border=\"1\" class=\"dataframe\">\n",
       "  <thead>\n",
       "    <tr style=\"text-align: right;\">\n",
       "      <th></th>\n",
       "      <th>CRI_YM</th>\n",
       "      <th>TAG</th>\n",
       "      <th>평일휴일</th>\n",
       "      <th>요일</th>\n",
       "      <th>시간대</th>\n",
       "      <th>성별</th>\n",
       "      <th>연령대</th>\n",
       "      <th>건수합계</th>\n",
       "      <th>인터넷 쇼핑 이용자 비율 (%)</th>\n",
       "      <th>월 평균 구매빈도-1회 미만 (%)</th>\n",
       "      <th>월 평균 구매빈도-1~2회 미만 (%)</th>\n",
       "      <th>월 평균 구매빈도-2~3회 미만 (%)</th>\n",
       "      <th>월 평균 구매빈도-3회 이상 (%)</th>\n",
       "      <th>월 평균 구매빈도-평균 (회)</th>\n",
       "      <th>네이버 태그 클릭량</th>\n",
       "    </tr>\n",
       "  </thead>\n",
       "  <tbody>\n",
       "    <tr>\n",
       "      <th>4661</th>\n",
       "      <td>2019</td>\n",
       "      <td>식료품</td>\n",
       "      <td>0</td>\n",
       "      <td>3</td>\n",
       "      <td>1</td>\n",
       "      <td>1</td>\n",
       "      <td>4</td>\n",
       "      <td>171</td>\n",
       "      <td>20.3</td>\n",
       "      <td>20.8</td>\n",
       "      <td>21.4</td>\n",
       "      <td>12.3</td>\n",
       "      <td>45.4</td>\n",
       "      <td>3.2</td>\n",
       "      <td>97.00</td>\n",
       "    </tr>\n",
       "    <tr>\n",
       "      <th>4662</th>\n",
       "      <td>2019</td>\n",
       "      <td>식료품</td>\n",
       "      <td>1</td>\n",
       "      <td>2</td>\n",
       "      <td>5</td>\n",
       "      <td>1</td>\n",
       "      <td>4</td>\n",
       "      <td>42</td>\n",
       "      <td>20.3</td>\n",
       "      <td>20.8</td>\n",
       "      <td>21.4</td>\n",
       "      <td>12.3</td>\n",
       "      <td>45.4</td>\n",
       "      <td>3.2</td>\n",
       "      <td>100.00</td>\n",
       "    </tr>\n",
       "    <tr>\n",
       "      <th>4663</th>\n",
       "      <td>2019</td>\n",
       "      <td>식료품</td>\n",
       "      <td>1</td>\n",
       "      <td>5</td>\n",
       "      <td>3</td>\n",
       "      <td>1</td>\n",
       "      <td>1</td>\n",
       "      <td>1647</td>\n",
       "      <td>86.3</td>\n",
       "      <td>14.6</td>\n",
       "      <td>21.3</td>\n",
       "      <td>22.4</td>\n",
       "      <td>41.7</td>\n",
       "      <td>2.9</td>\n",
       "      <td>65.00</td>\n",
       "    </tr>\n",
       "    <tr>\n",
       "      <th>4664</th>\n",
       "      <td>2021</td>\n",
       "      <td>식료품</td>\n",
       "      <td>0</td>\n",
       "      <td>1</td>\n",
       "      <td>3</td>\n",
       "      <td>1</td>\n",
       "      <td>1</td>\n",
       "      <td>4684</td>\n",
       "      <td>91.5</td>\n",
       "      <td>10.6</td>\n",
       "      <td>15.6</td>\n",
       "      <td>18.5</td>\n",
       "      <td>55.3</td>\n",
       "      <td>4.9</td>\n",
       "      <td>88.00</td>\n",
       "    </tr>\n",
       "    <tr>\n",
       "      <th>4665</th>\n",
       "      <td>2021</td>\n",
       "      <td>식료품</td>\n",
       "      <td>1</td>\n",
       "      <td>4</td>\n",
       "      <td>3</td>\n",
       "      <td>1</td>\n",
       "      <td>3</td>\n",
       "      <td>2946</td>\n",
       "      <td>55.7</td>\n",
       "      <td>17.1</td>\n",
       "      <td>21.1</td>\n",
       "      <td>18.6</td>\n",
       "      <td>43.3</td>\n",
       "      <td>3.8</td>\n",
       "      <td>90.00</td>\n",
       "    </tr>\n",
       "    <tr>\n",
       "      <th>...</th>\n",
       "      <td>...</td>\n",
       "      <td>...</td>\n",
       "      <td>...</td>\n",
       "      <td>...</td>\n",
       "      <td>...</td>\n",
       "      <td>...</td>\n",
       "      <td>...</td>\n",
       "      <td>...</td>\n",
       "      <td>...</td>\n",
       "      <td>...</td>\n",
       "      <td>...</td>\n",
       "      <td>...</td>\n",
       "      <td>...</td>\n",
       "      <td>...</td>\n",
       "      <td>...</td>\n",
       "    </tr>\n",
       "    <tr>\n",
       "      <th>19992</th>\n",
       "      <td>2020</td>\n",
       "      <td>생활/취미/사무용품/인테리어/골프용품</td>\n",
       "      <td>0</td>\n",
       "      <td>2</td>\n",
       "      <td>4</td>\n",
       "      <td>0</td>\n",
       "      <td>3</td>\n",
       "      <td>514</td>\n",
       "      <td>46.3</td>\n",
       "      <td>28.2</td>\n",
       "      <td>14.1</td>\n",
       "      <td>20.2</td>\n",
       "      <td>37.4</td>\n",
       "      <td>3.4</td>\n",
       "      <td>12.75</td>\n",
       "    </tr>\n",
       "    <tr>\n",
       "      <th>19993</th>\n",
       "      <td>2019</td>\n",
       "      <td>생활/취미/사무용품/인테리어/골프용품</td>\n",
       "      <td>1</td>\n",
       "      <td>4</td>\n",
       "      <td>3</td>\n",
       "      <td>1</td>\n",
       "      <td>0</td>\n",
       "      <td>233</td>\n",
       "      <td>94.3</td>\n",
       "      <td>13.2</td>\n",
       "      <td>20.4</td>\n",
       "      <td>22.1</td>\n",
       "      <td>44.2</td>\n",
       "      <td>2.9</td>\n",
       "      <td>42.00</td>\n",
       "    </tr>\n",
       "    <tr>\n",
       "      <th>19994</th>\n",
       "      <td>2020</td>\n",
       "      <td>생활/취미/사무용품/인테리어/골프용품</td>\n",
       "      <td>0</td>\n",
       "      <td>0</td>\n",
       "      <td>3</td>\n",
       "      <td>0</td>\n",
       "      <td>2</td>\n",
       "      <td>107</td>\n",
       "      <td>76.8</td>\n",
       "      <td>24.1</td>\n",
       "      <td>12.9</td>\n",
       "      <td>17.6</td>\n",
       "      <td>45.4</td>\n",
       "      <td>3.8</td>\n",
       "      <td>28.80</td>\n",
       "    </tr>\n",
       "    <tr>\n",
       "      <th>19995</th>\n",
       "      <td>2021</td>\n",
       "      <td>생활/취미/사무용품/인테리어/골프용품</td>\n",
       "      <td>0</td>\n",
       "      <td>6</td>\n",
       "      <td>2</td>\n",
       "      <td>0</td>\n",
       "      <td>4</td>\n",
       "      <td>415</td>\n",
       "      <td>31.7</td>\n",
       "      <td>11.0</td>\n",
       "      <td>18.7</td>\n",
       "      <td>19.6</td>\n",
       "      <td>50.7</td>\n",
       "      <td>4.1</td>\n",
       "      <td>5.00</td>\n",
       "    </tr>\n",
       "    <tr>\n",
       "      <th>19996</th>\n",
       "      <td>2019</td>\n",
       "      <td>생활/취미/사무용품/인테리어/골프용품</td>\n",
       "      <td>0</td>\n",
       "      <td>1</td>\n",
       "      <td>2</td>\n",
       "      <td>1</td>\n",
       "      <td>2</td>\n",
       "      <td>580</td>\n",
       "      <td>66.8</td>\n",
       "      <td>17.1</td>\n",
       "      <td>23.2</td>\n",
       "      <td>20.0</td>\n",
       "      <td>39.7</td>\n",
       "      <td>2.9</td>\n",
       "      <td>18.60</td>\n",
       "    </tr>\n",
       "  </tbody>\n",
       "</table>\n",
       "<p>15336 rows × 15 columns</p>\n",
       "</div>"
      ],
      "text/plain": [
       "       CRI_YM                   TAG  평일휴일  요일  시간대  성별  연령대  건수합계  \\\n",
       "4661     2019                   식료품     0   3    1   1    4   171   \n",
       "4662     2019                   식료품     1   2    5   1    4    42   \n",
       "4663     2019                   식료품     1   5    3   1    1  1647   \n",
       "4664     2021                   식료품     0   1    3   1    1  4684   \n",
       "4665     2021                   식료품     1   4    3   1    3  2946   \n",
       "...       ...                   ...   ...  ..  ...  ..  ...   ...   \n",
       "19992    2020  생활/취미/사무용품/인테리어/골프용품     0   2    4   0    3   514   \n",
       "19993    2019  생활/취미/사무용품/인테리어/골프용품     1   4    3   1    0   233   \n",
       "19994    2020  생활/취미/사무용품/인테리어/골프용품     0   0    3   0    2   107   \n",
       "19995    2021  생활/취미/사무용품/인테리어/골프용품     0   6    2   0    4   415   \n",
       "19996    2019  생활/취미/사무용품/인테리어/골프용품     0   1    2   1    2   580   \n",
       "\n",
       "       인터넷 쇼핑 이용자 비율 (%)  월 평균 구매빈도-1회 미만 (%)  월 평균 구매빈도-1~2회 미만 (%)  \\\n",
       "4661                20.3                 20.8                   21.4   \n",
       "4662                20.3                 20.8                   21.4   \n",
       "4663                86.3                 14.6                   21.3   \n",
       "4664                91.5                 10.6                   15.6   \n",
       "4665                55.7                 17.1                   21.1   \n",
       "...                  ...                  ...                    ...   \n",
       "19992               46.3                 28.2                   14.1   \n",
       "19993               94.3                 13.2                   20.4   \n",
       "19994               76.8                 24.1                   12.9   \n",
       "19995               31.7                 11.0                   18.7   \n",
       "19996               66.8                 17.1                   23.2   \n",
       "\n",
       "       월 평균 구매빈도-2~3회 미만 (%)  월 평균 구매빈도-3회 이상 (%)  월 평균 구매빈도-평균 (회)  \\\n",
       "4661                    12.3                 45.4               3.2   \n",
       "4662                    12.3                 45.4               3.2   \n",
       "4663                    22.4                 41.7               2.9   \n",
       "4664                    18.5                 55.3               4.9   \n",
       "4665                    18.6                 43.3               3.8   \n",
       "...                      ...                  ...               ...   \n",
       "19992                   20.2                 37.4               3.4   \n",
       "19993                   22.1                 44.2               2.9   \n",
       "19994                   17.6                 45.4               3.8   \n",
       "19995                   19.6                 50.7               4.1   \n",
       "19996                   20.0                 39.7               2.9   \n",
       "\n",
       "       네이버 태그 클릭량  \n",
       "4661        97.00  \n",
       "4662       100.00  \n",
       "4663        65.00  \n",
       "4664        88.00  \n",
       "4665        90.00  \n",
       "...           ...  \n",
       "19992       12.75  \n",
       "19993       42.00  \n",
       "19994       28.80  \n",
       "19995        5.00  \n",
       "19996       18.60  \n",
       "\n",
       "[15336 rows x 15 columns]"
      ]
     },
     "execution_count": 44,
     "metadata": {},
     "output_type": "execute_result"
    }
   ],
   "source": [
    "df3 = df3.drop(drop_tag2)\n",
    "df3"
   ]
  },
  {
   "cell_type": "code",
   "execution_count": 45,
   "metadata": {},
   "outputs": [],
   "source": [
    "X_train5, X_test5, y_train5, y_test5 = train_test_split(\n",
    "    df2[['CRI_YM', '평일휴일', '요일', '시간대', '성별', '연령대', '건수합계',\n",
    "       '인터넷 쇼핑 이용자 비율 (%)', '월 평균 구매빈도-1회 미만 (%)', '월 평균 구매빈도-1~2회 미만 (%)',\n",
    "       '월 평균 구매빈도-2~3회 미만 (%)', '월 평균 구매빈도-3회 이상 (%)', '월 평균 구매빈도-평균 (회)']],\n",
    "    df2['TAG'],\n",
    "    test_size=0.2,\n",
    "    random_state=42\n",
    ")"
   ]
  },
  {
   "cell_type": "code",
   "execution_count": 46,
   "metadata": {},
   "outputs": [
    {
     "name": "stdout",
     "output_type": "stream",
     "text": [
      "1 59.562137797810685\n",
      "2 59.562137797810685\n",
      "3 59.81970379909852\n",
      "4 59.43335479716677\n",
      "5 60.27044430135222\n",
      "6 59.81970379909852\n",
      "7 60.012878300064386\n",
      "8 59.30457179652285\n",
      "9 62.91049581455248\n",
      "10 61.751448808757246\n",
      "11 61.10753380553767\n",
      "12 62.7173213135866\n",
      "13 62.13779781068899\n",
      "14 63.10367031551836\n",
      "15 62.39536381197682\n",
      "16 63.296844816484224\n",
      "17 63.4900193174501\n",
      "18 63.9407598197038\n",
      "19 62.84610431423052\n"
     ]
    }
   ],
   "source": [
    "for max_depth in range(1, 20):\n",
    "    model = DecisionTreeClassifier(max_depth = max_depth, random_state = 42)\n",
    "    y_pred5 = model.fit(X_train5, y_train5).predict(X_test5)\n",
    "    score = accuracy_score(y_test5, y_pred5) * 100\n",
    "    print(max_depth, score)"
   ]
  },
  {
   "cell_type": "code",
   "execution_count": 47,
   "metadata": {},
   "outputs": [
    {
     "name": "stdout",
     "output_type": "stream",
     "text": [
      "1 48.35801674179008\n",
      "2 51.38441725692209\n",
      "3 54.797166773985836\n",
      "4 54.28203477141017\n",
      "5 60.65679330328396\n",
      "6 60.463618802318095\n",
      "7 59.626529298132645\n",
      "8 59.690920798454606\n",
      "9 63.61880231809401\n",
      "10 61.88023180940115\n",
      "11 62.20218931101095\n",
      "12 63.61880231809401\n",
      "13 63.9407598197038\n"
     ]
    }
   ],
   "source": [
    "for max_features in range(1, 14):\n",
    "    model = DecisionTreeClassifier(max_depth = 18, max_features = max_features, random_state = 42)\n",
    "    y_pred5 = model.fit(X_train5, y_train5).predict(X_test5)\n",
    "    score = accuracy_score(y_test5, y_pred5) * 100\n",
    "    print(max_features, score)"
   ]
  },
  {
   "cell_type": "code",
   "execution_count": 48,
   "metadata": {},
   "outputs": [],
   "source": [
    "dt5 = DecisionTreeClassifier(\n",
    "    criterion='gini',\n",
    "    max_depth = 18,\n",
    "    max_features = 13,\n",
    "    random_state = 42\n",
    ")"
   ]
  },
  {
   "cell_type": "code",
   "execution_count": 49,
   "metadata": {},
   "outputs": [
    {
     "data": {
      "text/plain": [
       "DecisionTreeClassifier(max_depth=18, max_features=13, random_state=42)"
      ]
     },
     "execution_count": 49,
     "metadata": {},
     "output_type": "execute_result"
    }
   ],
   "source": [
    "dt5.fit(X_train5, y_train5)"
   ]
  },
  {
   "cell_type": "code",
   "execution_count": 50,
   "metadata": {},
   "outputs": [
    {
     "name": "stdout",
     "output_type": "stream",
     "text": [
      "훈련 세트 정확도: 0.958\n",
      "테스트 세트 정확도: 0.639\n"
     ]
    }
   ],
   "source": [
    "print(\"훈련 세트 정확도: {:.3f}\".format(dt5.score(X_train5, y_train5)))\n",
    "print(\"테스트 세트 정확도: {:.3f}\".format(dt5.score(X_test5, y_test5)))"
   ]
  },
  {
   "cell_type": "markdown",
   "metadata": {},
   "source": [
    "## 만약 태그에서 '식료품'이 빠진다면?"
   ]
  },
  {
   "cell_type": "code",
   "execution_count": 51,
   "metadata": {},
   "outputs": [],
   "source": [
    "df4 = df.copy()"
   ]
  },
  {
   "cell_type": "code",
   "execution_count": 52,
   "metadata": {},
   "outputs": [],
   "source": [
    "drop_tag3 = df4[df4['TAG'] == '식료품'].index"
   ]
  },
  {
   "cell_type": "code",
   "execution_count": 53,
   "metadata": {},
   "outputs": [
    {
     "data": {
      "text/html": [
       "<div>\n",
       "<style scoped>\n",
       "    .dataframe tbody tr th:only-of-type {\n",
       "        vertical-align: middle;\n",
       "    }\n",
       "\n",
       "    .dataframe tbody tr th {\n",
       "        vertical-align: top;\n",
       "    }\n",
       "\n",
       "    .dataframe thead th {\n",
       "        text-align: right;\n",
       "    }\n",
       "</style>\n",
       "<table border=\"1\" class=\"dataframe\">\n",
       "  <thead>\n",
       "    <tr style=\"text-align: right;\">\n",
       "      <th></th>\n",
       "      <th>CRI_YM</th>\n",
       "      <th>TAG</th>\n",
       "      <th>평일휴일</th>\n",
       "      <th>요일</th>\n",
       "      <th>시간대</th>\n",
       "      <th>성별</th>\n",
       "      <th>연령대</th>\n",
       "      <th>건수합계</th>\n",
       "      <th>인터넷 쇼핑 이용자 비율 (%)</th>\n",
       "      <th>월 평균 구매빈도-1회 미만 (%)</th>\n",
       "      <th>월 평균 구매빈도-1~2회 미만 (%)</th>\n",
       "      <th>월 평균 구매빈도-2~3회 미만 (%)</th>\n",
       "      <th>월 평균 구매빈도-3회 이상 (%)</th>\n",
       "      <th>월 평균 구매빈도-평균 (회)</th>\n",
       "      <th>네이버 태그 클릭량</th>\n",
       "    </tr>\n",
       "  </thead>\n",
       "  <tbody>\n",
       "    <tr>\n",
       "      <th>0</th>\n",
       "      <td>2020</td>\n",
       "      <td>패션/화장품</td>\n",
       "      <td>0</td>\n",
       "      <td>3</td>\n",
       "      <td>5</td>\n",
       "      <td>0</td>\n",
       "      <td>1</td>\n",
       "      <td>890</td>\n",
       "      <td>94.7</td>\n",
       "      <td>18.2</td>\n",
       "      <td>14.0</td>\n",
       "      <td>18.9</td>\n",
       "      <td>48.9</td>\n",
       "      <td>3.8</td>\n",
       "      <td>188.00</td>\n",
       "    </tr>\n",
       "    <tr>\n",
       "      <th>1</th>\n",
       "      <td>2020</td>\n",
       "      <td>패션/화장품</td>\n",
       "      <td>1</td>\n",
       "      <td>4</td>\n",
       "      <td>5</td>\n",
       "      <td>0</td>\n",
       "      <td>0</td>\n",
       "      <td>2958</td>\n",
       "      <td>97.5</td>\n",
       "      <td>20.2</td>\n",
       "      <td>18.2</td>\n",
       "      <td>15.8</td>\n",
       "      <td>45.8</td>\n",
       "      <td>3.7</td>\n",
       "      <td>196.00</td>\n",
       "    </tr>\n",
       "    <tr>\n",
       "      <th>2</th>\n",
       "      <td>2020</td>\n",
       "      <td>패션/화장품</td>\n",
       "      <td>0</td>\n",
       "      <td>1</td>\n",
       "      <td>5</td>\n",
       "      <td>0</td>\n",
       "      <td>0</td>\n",
       "      <td>1898</td>\n",
       "      <td>97.5</td>\n",
       "      <td>20.2</td>\n",
       "      <td>18.2</td>\n",
       "      <td>15.8</td>\n",
       "      <td>45.8</td>\n",
       "      <td>3.7</td>\n",
       "      <td>170.00</td>\n",
       "    </tr>\n",
       "    <tr>\n",
       "      <th>3</th>\n",
       "      <td>2020</td>\n",
       "      <td>패션/화장품</td>\n",
       "      <td>1</td>\n",
       "      <td>5</td>\n",
       "      <td>5</td>\n",
       "      <td>0</td>\n",
       "      <td>0</td>\n",
       "      <td>2003</td>\n",
       "      <td>97.5</td>\n",
       "      <td>20.2</td>\n",
       "      <td>18.2</td>\n",
       "      <td>15.8</td>\n",
       "      <td>45.8</td>\n",
       "      <td>3.7</td>\n",
       "      <td>172.00</td>\n",
       "    </tr>\n",
       "    <tr>\n",
       "      <th>4</th>\n",
       "      <td>2020</td>\n",
       "      <td>패션/화장품</td>\n",
       "      <td>0</td>\n",
       "      <td>2</td>\n",
       "      <td>0</td>\n",
       "      <td>0</td>\n",
       "      <td>4</td>\n",
       "      <td>110</td>\n",
       "      <td>19.8</td>\n",
       "      <td>33.3</td>\n",
       "      <td>13.4</td>\n",
       "      <td>22.7</td>\n",
       "      <td>30.5</td>\n",
       "      <td>2.6</td>\n",
       "      <td>177.00</td>\n",
       "    </tr>\n",
       "    <tr>\n",
       "      <th>...</th>\n",
       "      <td>...</td>\n",
       "      <td>...</td>\n",
       "      <td>...</td>\n",
       "      <td>...</td>\n",
       "      <td>...</td>\n",
       "      <td>...</td>\n",
       "      <td>...</td>\n",
       "      <td>...</td>\n",
       "      <td>...</td>\n",
       "      <td>...</td>\n",
       "      <td>...</td>\n",
       "      <td>...</td>\n",
       "      <td>...</td>\n",
       "      <td>...</td>\n",
       "      <td>...</td>\n",
       "    </tr>\n",
       "    <tr>\n",
       "      <th>19992</th>\n",
       "      <td>2020</td>\n",
       "      <td>생활/취미/사무용품/인테리어/골프용품</td>\n",
       "      <td>0</td>\n",
       "      <td>2</td>\n",
       "      <td>4</td>\n",
       "      <td>0</td>\n",
       "      <td>3</td>\n",
       "      <td>514</td>\n",
       "      <td>46.3</td>\n",
       "      <td>28.2</td>\n",
       "      <td>14.1</td>\n",
       "      <td>20.2</td>\n",
       "      <td>37.4</td>\n",
       "      <td>3.4</td>\n",
       "      <td>12.75</td>\n",
       "    </tr>\n",
       "    <tr>\n",
       "      <th>19993</th>\n",
       "      <td>2019</td>\n",
       "      <td>생활/취미/사무용품/인테리어/골프용품</td>\n",
       "      <td>1</td>\n",
       "      <td>4</td>\n",
       "      <td>3</td>\n",
       "      <td>1</td>\n",
       "      <td>0</td>\n",
       "      <td>233</td>\n",
       "      <td>94.3</td>\n",
       "      <td>13.2</td>\n",
       "      <td>20.4</td>\n",
       "      <td>22.1</td>\n",
       "      <td>44.2</td>\n",
       "      <td>2.9</td>\n",
       "      <td>42.00</td>\n",
       "    </tr>\n",
       "    <tr>\n",
       "      <th>19994</th>\n",
       "      <td>2020</td>\n",
       "      <td>생활/취미/사무용품/인테리어/골프용품</td>\n",
       "      <td>0</td>\n",
       "      <td>0</td>\n",
       "      <td>3</td>\n",
       "      <td>0</td>\n",
       "      <td>2</td>\n",
       "      <td>107</td>\n",
       "      <td>76.8</td>\n",
       "      <td>24.1</td>\n",
       "      <td>12.9</td>\n",
       "      <td>17.6</td>\n",
       "      <td>45.4</td>\n",
       "      <td>3.8</td>\n",
       "      <td>28.80</td>\n",
       "    </tr>\n",
       "    <tr>\n",
       "      <th>19995</th>\n",
       "      <td>2021</td>\n",
       "      <td>생활/취미/사무용품/인테리어/골프용품</td>\n",
       "      <td>0</td>\n",
       "      <td>6</td>\n",
       "      <td>2</td>\n",
       "      <td>0</td>\n",
       "      <td>4</td>\n",
       "      <td>415</td>\n",
       "      <td>31.7</td>\n",
       "      <td>11.0</td>\n",
       "      <td>18.7</td>\n",
       "      <td>19.6</td>\n",
       "      <td>50.7</td>\n",
       "      <td>4.1</td>\n",
       "      <td>5.00</td>\n",
       "    </tr>\n",
       "    <tr>\n",
       "      <th>19996</th>\n",
       "      <td>2019</td>\n",
       "      <td>생활/취미/사무용품/인테리어/골프용품</td>\n",
       "      <td>0</td>\n",
       "      <td>1</td>\n",
       "      <td>2</td>\n",
       "      <td>1</td>\n",
       "      <td>2</td>\n",
       "      <td>580</td>\n",
       "      <td>66.8</td>\n",
       "      <td>17.1</td>\n",
       "      <td>23.2</td>\n",
       "      <td>20.0</td>\n",
       "      <td>39.7</td>\n",
       "      <td>2.9</td>\n",
       "      <td>18.60</td>\n",
       "    </tr>\n",
       "  </tbody>\n",
       "</table>\n",
       "<p>18437 rows × 15 columns</p>\n",
       "</div>"
      ],
      "text/plain": [
       "       CRI_YM                   TAG  평일휴일  요일  시간대  성별  연령대  건수합계  \\\n",
       "0        2020                패션/화장품     0   3    5   0    1   890   \n",
       "1        2020                패션/화장품     1   4    5   0    0  2958   \n",
       "2        2020                패션/화장품     0   1    5   0    0  1898   \n",
       "3        2020                패션/화장품     1   5    5   0    0  2003   \n",
       "4        2020                패션/화장품     0   2    0   0    4   110   \n",
       "...       ...                   ...   ...  ..  ...  ..  ...   ...   \n",
       "19992    2020  생활/취미/사무용품/인테리어/골프용품     0   2    4   0    3   514   \n",
       "19993    2019  생활/취미/사무용품/인테리어/골프용품     1   4    3   1    0   233   \n",
       "19994    2020  생활/취미/사무용품/인테리어/골프용품     0   0    3   0    2   107   \n",
       "19995    2021  생활/취미/사무용품/인테리어/골프용품     0   6    2   0    4   415   \n",
       "19996    2019  생활/취미/사무용품/인테리어/골프용품     0   1    2   1    2   580   \n",
       "\n",
       "       인터넷 쇼핑 이용자 비율 (%)  월 평균 구매빈도-1회 미만 (%)  월 평균 구매빈도-1~2회 미만 (%)  \\\n",
       "0                   94.7                 18.2                   14.0   \n",
       "1                   97.5                 20.2                   18.2   \n",
       "2                   97.5                 20.2                   18.2   \n",
       "3                   97.5                 20.2                   18.2   \n",
       "4                   19.8                 33.3                   13.4   \n",
       "...                  ...                  ...                    ...   \n",
       "19992               46.3                 28.2                   14.1   \n",
       "19993               94.3                 13.2                   20.4   \n",
       "19994               76.8                 24.1                   12.9   \n",
       "19995               31.7                 11.0                   18.7   \n",
       "19996               66.8                 17.1                   23.2   \n",
       "\n",
       "       월 평균 구매빈도-2~3회 미만 (%)  월 평균 구매빈도-3회 이상 (%)  월 평균 구매빈도-평균 (회)  \\\n",
       "0                       18.9                 48.9               3.8   \n",
       "1                       15.8                 45.8               3.7   \n",
       "2                       15.8                 45.8               3.7   \n",
       "3                       15.8                 45.8               3.7   \n",
       "4                       22.7                 30.5               2.6   \n",
       "...                      ...                  ...               ...   \n",
       "19992                   20.2                 37.4               3.4   \n",
       "19993                   22.1                 44.2               2.9   \n",
       "19994                   17.6                 45.4               3.8   \n",
       "19995                   19.6                 50.7               4.1   \n",
       "19996                   20.0                 39.7               2.9   \n",
       "\n",
       "       네이버 태그 클릭량  \n",
       "0          188.00  \n",
       "1          196.00  \n",
       "2          170.00  \n",
       "3          172.00  \n",
       "4          177.00  \n",
       "...           ...  \n",
       "19992       12.75  \n",
       "19993       42.00  \n",
       "19994       28.80  \n",
       "19995        5.00  \n",
       "19996       18.60  \n",
       "\n",
       "[18437 rows x 15 columns]"
      ]
     },
     "execution_count": 53,
     "metadata": {},
     "output_type": "execute_result"
    }
   ],
   "source": [
    "df4 = df4.drop(drop_tag3)\n",
    "df4"
   ]
  },
  {
   "cell_type": "code",
   "execution_count": 54,
   "metadata": {},
   "outputs": [],
   "source": [
    "X_train6, X_test6, y_train6, y_test6 = train_test_split(\n",
    "    df2[['CRI_YM', '평일휴일', '요일', '시간대', '성별', '연령대', '건수합계',\n",
    "       '인터넷 쇼핑 이용자 비율 (%)', '월 평균 구매빈도-1회 미만 (%)', '월 평균 구매빈도-1~2회 미만 (%)',\n",
    "       '월 평균 구매빈도-2~3회 미만 (%)', '월 평균 구매빈도-3회 이상 (%)', '월 평균 구매빈도-평균 (회)']],\n",
    "    df2['TAG'],\n",
    "    test_size=0.2,\n",
    "    random_state=42\n",
    ")"
   ]
  },
  {
   "cell_type": "code",
   "execution_count": 55,
   "metadata": {},
   "outputs": [
    {
     "name": "stdout",
     "output_type": "stream",
     "text": [
      "1 59.562137797810685\n",
      "2 59.562137797810685\n",
      "3 59.81970379909852\n",
      "4 59.43335479716677\n",
      "5 60.27044430135222\n",
      "6 59.81970379909852\n",
      "7 60.012878300064386\n",
      "8 59.30457179652285\n",
      "9 62.91049581455248\n",
      "10 61.751448808757246\n",
      "11 61.10753380553767\n",
      "12 62.7173213135866\n",
      "13 62.13779781068899\n",
      "14 63.10367031551836\n",
      "15 62.39536381197682\n",
      "16 63.296844816484224\n",
      "17 63.4900193174501\n",
      "18 63.9407598197038\n",
      "19 62.84610431423052\n"
     ]
    }
   ],
   "source": [
    "for max_depth in range(1, 20):\n",
    "    model = DecisionTreeClassifier(max_depth = max_depth, random_state = 42)\n",
    "    y_pred6 = model.fit(X_train6, y_train6).predict(X_test6)\n",
    "    score = accuracy_score(y_test6, y_pred6) * 100\n",
    "    print(max_depth, score)"
   ]
  },
  {
   "cell_type": "code",
   "execution_count": 56,
   "metadata": {},
   "outputs": [
    {
     "name": "stdout",
     "output_type": "stream",
     "text": [
      "1 48.35801674179008\n",
      "2 51.38441725692209\n",
      "3 54.797166773985836\n",
      "4 54.28203477141017\n",
      "5 60.65679330328396\n",
      "6 60.463618802318095\n",
      "7 59.626529298132645\n",
      "8 59.690920798454606\n",
      "9 63.61880231809401\n",
      "10 61.88023180940115\n",
      "11 62.20218931101095\n",
      "12 63.61880231809401\n",
      "13 63.9407598197038\n"
     ]
    }
   ],
   "source": [
    "for max_features in range(1, 14):\n",
    "    model = DecisionTreeClassifier(max_depth = 18, max_features = max_features, random_state = 42)\n",
    "    y_pred6 = model.fit(X_train6, y_train6).predict(X_test6)\n",
    "    score = accuracy_score(y_test6, y_pred6) * 100\n",
    "    print(max_features, score)"
   ]
  },
  {
   "cell_type": "code",
   "execution_count": 57,
   "metadata": {},
   "outputs": [
    {
     "name": "stdout",
     "output_type": "stream",
     "text": [
      "42 63.9407598197038\n",
      "43 63.61880231809401\n",
      "44 63.0392788151964\n",
      "45 63.61880231809401\n",
      "46 63.61880231809401\n",
      "47 63.42562781712814\n",
      "48 63.36123631680618\n",
      "49 63.232453316162264\n",
      "50 63.68319381841597\n",
      "51 63.36123631680618\n",
      "52 62.91049581455248\n",
      "53 63.4900193174501\n",
      "54 63.10367031551836\n",
      "55 62.91049581455248\n",
      "56 62.91049581455248\n",
      "57 63.1680618158403\n",
      "58 63.10367031551836\n",
      "59 63.9407598197038\n",
      "60 63.55441081777206\n",
      "61 63.10367031551836\n",
      "62 63.68319381841597\n",
      "63 64.00515132002576\n",
      "64 63.232453316162264\n",
      "65 63.87636831938184\n",
      "66 63.36123631680618\n",
      "67 64.00515132002576\n",
      "68 64.00515132002576\n",
      "69 63.232453316162264\n",
      "70 63.87636831938184\n",
      "71 63.36123631680618\n",
      "72 62.97488731487444\n",
      "73 63.81197681905988\n",
      "74 63.87636831938184\n",
      "75 63.61880231809401\n",
      "76 62.91049581455248\n",
      "77 63.81197681905988\n",
      "78 63.68319381841597\n",
      "79 63.42562781712814\n",
      "80 64.00515132002576\n",
      "81 64.13393432066967\n",
      "82 63.74758531873793\n",
      "83 63.74758531873793\n",
      "84 63.296844816484224\n",
      "85 63.74758531873793\n",
      "86 62.52414681262073\n",
      "87 62.84610431423052\n",
      "88 63.81197681905988\n",
      "89 63.0392788151964\n",
      "90 63.61880231809401\n",
      "91 63.42562781712814\n",
      "92 63.10367031551836\n",
      "93 63.232453316162264\n",
      "94 63.61880231809401\n",
      "95 63.42562781712814\n",
      "96 63.4900193174501\n",
      "97 62.97488731487444\n",
      "98 63.68319381841597\n",
      "99 63.296844816484224\n"
     ]
    }
   ],
   "source": [
    "for random_state in range(42, 100):\n",
    "    model = DecisionTreeClassifier(max_depth = 18, max_features = 13, random_state = random_state)\n",
    "    y_pred6 = model.fit(X_train6, y_train6).predict(X_test6)\n",
    "    score = accuracy_score(y_test6, y_pred6) * 100\n",
    "    print(random_state, score)"
   ]
  },
  {
   "cell_type": "code",
   "execution_count": 58,
   "metadata": {},
   "outputs": [],
   "source": [
    "dt6 = DecisionTreeClassifier(\n",
    "    criterion='gini',\n",
    "    max_depth = 18,\n",
    "    max_features = 13,\n",
    "    random_state = 63\n",
    ")"
   ]
  },
  {
   "cell_type": "code",
   "execution_count": 59,
   "metadata": {},
   "outputs": [
    {
     "data": {
      "text/plain": [
       "DecisionTreeClassifier(max_depth=18, max_features=13, random_state=63)"
      ]
     },
     "execution_count": 59,
     "metadata": {},
     "output_type": "execute_result"
    }
   ],
   "source": [
    "dt6.fit(X_train6, y_train6)"
   ]
  },
  {
   "cell_type": "code",
   "execution_count": 60,
   "metadata": {},
   "outputs": [
    {
     "name": "stdout",
     "output_type": "stream",
     "text": [
      "훈련 세트 정확도: 0.958\n",
      "테스트 세트 정확도: 0.640\n"
     ]
    }
   ],
   "source": [
    "print(\"훈련 세트 정확도: {:.3f}\".format(dt6.score(X_train6, y_train6)))\n",
    "print(\"테스트 세트 정확도: {:.3f}\".format(dt6.score(X_test6, y_test6)))"
   ]
  },
  {
   "cell_type": "code",
   "execution_count": 61,
   "metadata": {},
   "outputs": [
    {
     "data": {
      "text/plain": [
       "array([0.00919559, 0.03983143, 0.11711003, 0.11633509, 0.02133302,\n",
       "       0.01569146, 0.47797152, 0.05355224, 0.01774935, 0.03497214,\n",
       "       0.03559997, 0.03268732, 0.02797084])"
      ]
     },
     "execution_count": 61,
     "metadata": {},
     "output_type": "execute_result"
    }
   ],
   "source": [
    "dt6.feature_importances_"
   ]
  }
 ],
 "metadata": {
  "kernelspec": {
   "display_name": "Python 3",
   "language": "python",
   "name": "python3"
  },
  "language_info": {
   "codemirror_mode": {
    "name": "ipython",
    "version": 3
   },
   "file_extension": ".py",
   "mimetype": "text/x-python",
   "name": "python",
   "nbconvert_exporter": "python",
   "pygments_lexer": "ipython3",
   "version": "3.7.0"
  }
 },
 "nbformat": 4,
 "nbformat_minor": 2
}
