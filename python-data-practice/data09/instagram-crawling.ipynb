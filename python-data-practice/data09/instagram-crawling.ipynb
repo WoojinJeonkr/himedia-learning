{
 "cells": [
  {
   "cell_type": "code",
   "execution_count": null,
   "metadata": {},
   "outputs": [],
   "source": [
    "**Warning**\n",
    "Before viewing the file, please read the txt file \"Points to note when drawing Instagram\" and proceed only with your eyes."
   ]
  },
  {
   "cell_type": "code",
   "execution_count": null,
   "metadata": {},
   "outputs": [],
   "source": [
    "# 주요 라이브러리 import\n",
    "import warnings\n",
    "warnings.filterwarnings(action='ignore')\n",
    "from selenium.webdriver.common.by import By\n",
    "from selenium.webdriver.support.ui import WebDriverWait \n",
    "from selenium.webdriver.support import expected_conditions as EC\n",
    "#step1.selenium 패키지와 time 모듈 import\n",
    "from selenium import webdriver as wd\n",
    "from selenium.webdriver.common.keys import Keys\n",
    "import time\n",
    "from IPython.display import Image\n",
    "import pandas as pd\n",
    "from bs4 import BeautifulSoup as bs"
   ]
  },
  {
   "cell_type": "code",
   "execution_count": null,
   "metadata": {},
   "outputs": [],
   "source": [
    "# 크롬 브라우저 실행\n",
    "driver = wd.Chrome('/Users/hi/Desktop/python_project/chromedriver.exe')"
   ]
  },
  {
   "cell_type": "code",
   "execution_count": null,
   "metadata": {},
   "outputs": [],
   "source": [
    "# 2. 특정 url 페이지로 연결\n",
    "driver.get('https://www.instagram.com/')\n",
    "time.sleep(3)"
   ]
  },
  {
   "cell_type": "code",
   "execution_count": null,
   "metadata": {},
   "outputs": [],
   "source": [
    "# #loginForm > div > div:nth-child(1) > div > label > input\n",
    "# #loginForm > div > div:nth-child(2) > div > label > input\n",
    "# #loginForm > div > div:nth-child(3)"
   ]
  },
  {
   "cell_type": "code",
   "execution_count": null,
   "metadata": {},
   "outputs": [],
   "source": [
    "id_input = '#loginForm > div > div:nth-child(1) > div > label > input'\n",
    "email_box = driver.find_element_by_css_selector(id_input)\n",
    "email_box.send_keys('인스타그램 아이디')"
   ]
  },
  {
   "cell_type": "code",
   "execution_count": null,
   "metadata": {},
   "outputs": [],
   "source": [
    "pw_input = '#loginForm > div > div:nth-child(2) > div > label > input'\n",
    "pw_box = driver.find_element_by_css_selector(pw_input)\n",
    "pw_box.send_keys('인스타그램 비밀번호')"
   ]
  },
  {
   "cell_type": "code",
   "execution_count": null,
   "metadata": {},
   "outputs": [],
   "source": [
    "submit_input = '#loginForm > div > div:nth-child(3) > button'\n",
    "submit_btn = driver.find_element_by_css_selector(submit_input)\n",
    "submit_btn.send_keys(Keys.RETURN)\n",
    "time.sleep(2)"
   ]
  },
  {
   "cell_type": "code",
   "execution_count": null,
   "metadata": {},
   "outputs": [],
   "source": [
    "save_css = '#react-root > section > main > div > div > div > section > div > button'\n",
    "save_btn = driver.find_element_by_css_selector(save_css)\n",
    "save_btn.send_keys(Keys.ENTER)\n",
    "time.sleep(2)"
   ]
  },
  {
   "cell_type": "code",
   "execution_count": null,
   "metadata": {},
   "outputs": [],
   "source": [
    " # body > div.RnEpo.Yx5HN > div > div > div > div.mt3GC > button.aOOlW.HoLwm\n",
    "after_css = 'body > div.RnEpo.Yx5HN > div > div > div > div.mt3GC > button.aOOlW.HoLwm'\n",
    "after_btn = driver.find_element_by_css_selector(after_css)\n",
    "after_btn.click()\n",
    "time.sleep(5)"
   ]
  },
  {
   "cell_type": "code",
   "execution_count": null,
   "metadata": {},
   "outputs": [],
   "source": [
    "# 좋아요 수치\n",
    "like_css = '.eo2As  span'\n",
    "like_texts = driver.find_elements_by_css_selector(like_css)"
   ]
  },
  {
   "cell_type": "code",
   "execution_count": null,
   "metadata": {},
   "outputs": [],
   "source": [
    "for like in like_texts:\n",
    "        if like.text.isdecimal():\n",
    "            print(int(like.text))\n",
    "        else:\n",
    "            pass"
   ]
  },
  {
   "cell_type": "code",
   "execution_count": null,
   "metadata": {},
   "outputs": [],
   "source": [
    "## 더보기 => #react-root > section > main > section > div.CZW53.N2s2W > div.qF0y9.Igw0E.IwRSH.eGOV_._4EzTm > div:nth-child(1) > div > article:nth-child(4) > div > div.qF0y9.Igw0E.IwRSH.eGOV_._4EzTm > div > div > div.EtaWk > div > div:nth-child(1) > div > span:nth-child(3) > span:nth-child(2) > div > div\n",
    "more_css = '#react-root > section > main > section > div.CZW53.N2s2W > div.qF0y9.Igw0E.IwRSH.eGOV_._4EzTm > div:nth-child(1) > div > article:nth-child(4) > div > div.qF0y9.Igw0E.IwRSH.eGOV_._4EzTm > div > div > div.EtaWk > div > div:nth-child(1) > div > span:nth-child(3) > span:nth-child(2) > div > div'\n",
    "more_texts = driver.find_elements_by_css_selector(more_css)"
   ]
  },
  {
   "cell_type": "code",
   "execution_count": null,
   "metadata": {},
   "outputs": [],
   "source": [
    "for more in more_texts:\n",
    "    # print(more.text)\n",
    "    more.click()"
   ]
  },
  {
   "cell_type": "code",
   "execution_count": null,
   "metadata": {},
   "outputs": [],
   "source": [
    "## => #react-root > section > main > section > div > div.qF0y9.Igw0E.IwRSH.eGOV_._4EzTm > div:nth-child(1) > div > article:nth-child(1) > div > div.qF0y9.Igw0E.IwRSH.eGOV_._4EzTm > div > div > div.EtaWk > div > div > div > span:nth-child(3) > span > a:nth-child(5)\n",
    "tag = driver.find_elements_by_css_selector('.xil3i')\n",
    "print(type(tag), len(tag))"
   ]
  },
  {
   "cell_type": "code",
   "execution_count": null,
   "metadata": {},
   "outputs": [],
   "source": [
    "for x in tag:\n",
    "    print(x.text)"
   ]
  }
 ],
 "metadata": {
  "kernelspec": {
   "display_name": "Python 3",
   "language": "python",
   "name": "python3"
  },
  "language_info": {
   "codemirror_mode": {
    "name": "ipython",
    "version": 3
   },
   "file_extension": ".py",
   "mimetype": "text/x-python",
   "name": "python",
   "nbconvert_exporter": "python",
   "pygments_lexer": "ipython3",
   "version": "3.7.0"
  }
 },
 "nbformat": 4,
 "nbformat_minor": 2
}
