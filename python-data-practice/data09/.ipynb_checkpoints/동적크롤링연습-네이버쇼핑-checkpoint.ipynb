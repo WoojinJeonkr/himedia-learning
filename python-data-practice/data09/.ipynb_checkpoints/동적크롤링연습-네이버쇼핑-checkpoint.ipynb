{
 "cells": [
  {
   "cell_type": "code",
   "execution_count": 1,
   "metadata": {},
   "outputs": [],
   "source": [
    "import warnings\n",
    "warnings.filterwarnings(action='ignore')\n",
    "from selenium.webdriver.common.by import By\n",
    "from selenium.webdriver.support.ui import WebDriverWait \n",
    "from selenium.webdriver.support import expected_conditions as EC"
   ]
  },
  {
   "cell_type": "code",
   "execution_count": 2,
   "metadata": {},
   "outputs": [],
   "source": [
    "#step1.selenium 패키지와 time 모듈 import\n",
    "from selenium import webdriver\n",
    "from selenium.webdriver.common.keys import Keys\n",
    "import time"
   ]
  },
  {
   "cell_type": "code",
   "execution_count": 3,
   "metadata": {},
   "outputs": [],
   "source": [
    "# 크롬 드라이버로 원하는 url 접속\n",
    "# 1. 크롬 브라우저 실행\n",
    "driver = webdriver.Chrome('/Users/hi/Desktop/python_project/chromedriver.exe')"
   ]
  },
  {
   "cell_type": "code",
   "execution_count": 4,
   "metadata": {},
   "outputs": [],
   "source": [
    "# 2. 특정 url: https://shopping.naver.com/home/p/index.naver 페이지로 연결\n",
    "url = 'https://shopping.naver.com/home/p/index.naver'\n",
    "driver.get(url) # http 요청을 보내라! <----- http 응답을 보낼 것임!"
   ]
  },
  {
   "cell_type": "code",
   "execution_count": 5,
   "metadata": {},
   "outputs": [],
   "source": [
    "# 연결하여 페이지를 받아오는 동안 기다리기 설정\n",
    "time.sleep(2)"
   ]
  },
  {
   "cell_type": "code",
   "execution_count": 6,
   "metadata": {},
   "outputs": [
    {
     "name": "stdin",
     "output_type": "stream",
     "text": [
      "검색할 키워드를 입력하세요 >>>  마스크\n"
     ]
    }
   ],
   "source": [
    "# 검색할 키워드 입력\n",
    "query = input('검색할 키워드를 입력하세요 >>> ')"
   ]
  },
  {
   "cell_type": "code",
   "execution_count": 7,
   "metadata": {},
   "outputs": [],
   "source": [
    "# 3. 네이버쇼핑 검색 input태그의 위치를 찾아서\n",
    "search_box = driver.find_element_by_css_selector('#autocompleteWrapper > input.co_srh_input._input.N\\=a\\:SNB\\.search')\n",
    "\n",
    "\n",
    "# 4. 3번에서 찾은 input태그에 검색어를 넣는다.\n",
    "search_box.send_keys(query)\n",
    "\n",
    "# 5. 4번에서 입력한 값 서버로 전송\n",
    "search_box.send_keys(Keys.ENTER)\n",
    "\n",
    "# 기다리기 설정\n",
    "time.sleep(2)"
   ]
  },
  {
   "cell_type": "code",
   "execution_count": 8,
   "metadata": {},
   "outputs": [],
   "source": [
    "# 6.가격비교 tab을 찾아라!\n",
    "comparison_tab = driver.find_element_by_css_selector('#__next > div > div.style_container__1YjHN > div.style_inner__18zZX > div.style_content_wrap__1PzEo > div.style_content__2T20F > div.seller_filter_area > ul > li:nth-child(2) > a')\n",
    "\n",
    "# 7. 가격비교 tab 클릭!\n",
    "comparison_tab.click()\n",
    "time.sleep(1)"
   ]
  },
  {
   "cell_type": "code",
   "execution_count": 9,
   "metadata": {},
   "outputs": [
    {
     "data": {
      "text/plain": [
       "[<selenium.webdriver.remote.webelement.WebElement (session=\"f86939c31a9234bd1dfd39011e4615c1\", element=\"e7697701-1030-4d01-ada7-1c8cf74b1ebe\")>,\n",
       " <selenium.webdriver.remote.webelement.WebElement (session=\"f86939c31a9234bd1dfd39011e4615c1\", element=\"e36cce02-7bb6-4b62-b919-01e2b644a9c2\")>,\n",
       " <selenium.webdriver.remote.webelement.WebElement (session=\"f86939c31a9234bd1dfd39011e4615c1\", element=\"0362e581-5088-4031-8eb3-8e92d68bab0a\")>,\n",
       " <selenium.webdriver.remote.webelement.WebElement (session=\"f86939c31a9234bd1dfd39011e4615c1\", element=\"06c61f12-68d9-47d5-b4d6-171d05f2aefe\")>,\n",
       " <selenium.webdriver.remote.webelement.WebElement (session=\"f86939c31a9234bd1dfd39011e4615c1\", element=\"15b7f2e8-f3ec-46d7-8370-f9eafe988fa5\")>]"
      ]
     },
     "execution_count": 9,
     "metadata": {},
     "output_type": "execute_result"
    }
   ],
   "source": [
    "comparison_title = driver.find_elements_by_css_selector('.basicList_inner__eY_mq a.basicList_link__1MaTN')\n",
    "comparison_title"
   ]
  },
  {
   "cell_type": "code",
   "execution_count": 10,
   "metadata": {},
   "outputs": [
    {
     "data": {
      "text/plain": [
       "['천하지엘씨 숨코 3D 데일리 마스크 KF-94',\n",
       " '천하지엘씨 숨코 3D 데일리 덴탈마스크 KF-AD',\n",
       " '천하지엘씨 숨코 3D 데일리 마스크 KF-80',\n",
       " '거보아이엔씨 홈마블 국산 비말 미세먼지 일회용 덴탈마스크',\n",
       " '블루인더스 블루본 아이노우 컬러 마스크 소형']"
      ]
     },
     "execution_count": 10,
     "metadata": {},
     "output_type": "execute_result"
    }
   ],
   "source": [
    "title_list = []\n",
    "for title in comparison_title:\n",
    "        title_list.append(title.text)\n",
    "title_list"
   ]
  },
  {
   "cell_type": "code",
   "execution_count": 17,
   "metadata": {},
   "outputs": [
    {
     "data": {
      "text/plain": [
       "[<selenium.webdriver.remote.webelement.WebElement (session=\"f86939c31a9234bd1dfd39011e4615c1\", element=\"6cac0946-ec06-4339-b102-c0c9b3584c79\")>,\n",
       " <selenium.webdriver.remote.webelement.WebElement (session=\"f86939c31a9234bd1dfd39011e4615c1\", element=\"570c5be2-515d-4539-b8bd-652a64416d61\")>,\n",
       " <selenium.webdriver.remote.webelement.WebElement (session=\"f86939c31a9234bd1dfd39011e4615c1\", element=\"ef27ba1a-9db5-4a8f-9630-dff20fe84511\")>,\n",
       " <selenium.webdriver.remote.webelement.WebElement (session=\"f86939c31a9234bd1dfd39011e4615c1\", element=\"0512f75f-da84-4eb6-806b-86c80008413d\")>,\n",
       " <selenium.webdriver.remote.webelement.WebElement (session=\"f86939c31a9234bd1dfd39011e4615c1\", element=\"235da1c3-8e75-46a7-b571-bbd426639faf\")>,\n",
       " <selenium.webdriver.remote.webelement.WebElement (session=\"f86939c31a9234bd1dfd39011e4615c1\", element=\"eb68f9a0-563d-4811-ae53-ec2f5ff76eb3\")>,\n",
       " <selenium.webdriver.remote.webelement.WebElement (session=\"f86939c31a9234bd1dfd39011e4615c1\", element=\"8aa58398-6456-43bc-93d0-4c2d256a2baf\")>]"
      ]
     },
     "execution_count": 17,
     "metadata": {},
     "output_type": "execute_result"
    }
   ],
   "source": [
    "# 가격비교 탭의 마스크 섬네일 가지고 와보자\n",
    "comparison_img = driver.find_elements_by_css_selector('#__next > div > div.style_container__1YjHN > div.style_inner__18zZX > div.style_content_wrap__1PzEo > div.style_content__2T20F > ul > div > div > li > div > div.basicList_img_area__a3NRA > div > a > img')\n",
    "comparison_img"
   ]
  },
  {
   "cell_type": "code",
   "execution_count": 18,
   "metadata": {},
   "outputs": [
    {
     "name": "stdout",
     "output_type": "stream",
     "text": [
      "5\n"
     ]
    }
   ],
   "source": [
    "# 5개가 안나온다면 selenium으로 연 인터넷 창의 스크롤을 내리자\n",
    "df = []\n",
    "for img in comparison_img[:5]:\n",
    "    df.append(img.get_attribute('src'))\n",
    "print(len(df))"
   ]
  },
  {
   "cell_type": "code",
   "execution_count": 19,
   "metadata": {},
   "outputs": [],
   "source": [
    "import pandas as pd"
   ]
  },
  {
   "cell_type": "code",
   "execution_count": 20,
   "metadata": {},
   "outputs": [
    {
     "data": {
      "text/html": [
       "<div>\n",
       "<style scoped>\n",
       "    .dataframe tbody tr th:only-of-type {\n",
       "        vertical-align: middle;\n",
       "    }\n",
       "\n",
       "    .dataframe tbody tr th {\n",
       "        vertical-align: top;\n",
       "    }\n",
       "\n",
       "    .dataframe thead th {\n",
       "        text-align: right;\n",
       "    }\n",
       "</style>\n",
       "<table border=\"1\" class=\"dataframe\">\n",
       "  <thead>\n",
       "    <tr style=\"text-align: right;\">\n",
       "      <th></th>\n",
       "      <th>title</th>\n",
       "      <th>img</th>\n",
       "    </tr>\n",
       "  </thead>\n",
       "  <tbody>\n",
       "    <tr>\n",
       "      <th>0</th>\n",
       "      <td>천하지엘씨 숨코 3D 데일리 마스크 KF-94</td>\n",
       "      <td>https://shopping-phinf.pstatic.net/main_292176...</td>\n",
       "    </tr>\n",
       "    <tr>\n",
       "      <th>1</th>\n",
       "      <td>천하지엘씨 숨코 3D 데일리 덴탈마스크 KF-AD</td>\n",
       "      <td>https://shopping-phinf.pstatic.net/main_293572...</td>\n",
       "    </tr>\n",
       "    <tr>\n",
       "      <th>2</th>\n",
       "      <td>천하지엘씨 숨코 3D 데일리 마스크 KF-80</td>\n",
       "      <td>https://shopping-phinf.pstatic.net/main_292180...</td>\n",
       "    </tr>\n",
       "    <tr>\n",
       "      <th>3</th>\n",
       "      <td>거보아이엔씨 홈마블 국산 비말 미세먼지 일회용 덴탈마스크</td>\n",
       "      <td>https://searchad-phinf.pstatic.net/MjAyMDExMjR...</td>\n",
       "    </tr>\n",
       "    <tr>\n",
       "      <th>4</th>\n",
       "      <td>블루인더스 블루본 아이노우 컬러 마스크 소형</td>\n",
       "      <td>https://shopping-phinf.pstatic.net/main_268586...</td>\n",
       "    </tr>\n",
       "  </tbody>\n",
       "</table>\n",
       "</div>"
      ],
      "text/plain": [
       "                             title  \\\n",
       "0        천하지엘씨 숨코 3D 데일리 마스크 KF-94   \n",
       "1      천하지엘씨 숨코 3D 데일리 덴탈마스크 KF-AD   \n",
       "2        천하지엘씨 숨코 3D 데일리 마스크 KF-80   \n",
       "3  거보아이엔씨 홈마블 국산 비말 미세먼지 일회용 덴탈마스크   \n",
       "4         블루인더스 블루본 아이노우 컬러 마스크 소형   \n",
       "\n",
       "                                                 img  \n",
       "0  https://shopping-phinf.pstatic.net/main_292176...  \n",
       "1  https://shopping-phinf.pstatic.net/main_293572...  \n",
       "2  https://shopping-phinf.pstatic.net/main_292180...  \n",
       "3  https://searchad-phinf.pstatic.net/MjAyMDExMjR...  \n",
       "4  https://shopping-phinf.pstatic.net/main_268586...  "
      ]
     },
     "execution_count": 20,
     "metadata": {},
     "output_type": "execute_result"
    }
   ],
   "source": [
    "naver_shopping_df = pd.DataFrame({'title' : title_list,\n",
    "                               'img' : df\n",
    "                               })\n",
    "naver_shopping_df"
   ]
  },
  {
   "cell_type": "code",
   "execution_count": 21,
   "metadata": {},
   "outputs": [],
   "source": [
    "path_folder = './shop_img/' # path_folder = './': 현재 경로(폴더)\n",
    "import os\n",
    "if not os.path.isdir(path_folder):\n",
    "    os.mkdir(path_folder)"
   ]
  },
  {
   "cell_type": "code",
   "execution_count": 22,
   "metadata": {},
   "outputs": [],
   "source": [
    "from urllib.request import urlretrieve"
   ]
  },
  {
   "cell_type": "code",
   "execution_count": 23,
   "metadata": {},
   "outputs": [],
   "source": [
    "i = 0\n",
    "for img in df:\n",
    "    urlretrieve(img, path_folder + str(i) + '.png')\n",
    "    i += 1 # i = i + 1"
   ]
  },
  {
   "cell_type": "code",
   "execution_count": null,
   "metadata": {},
   "outputs": [],
   "source": []
  }
 ],
 "metadata": {
  "kernelspec": {
   "display_name": "Python 3",
   "language": "python",
   "name": "python3"
  },
  "language_info": {
   "codemirror_mode": {
    "name": "ipython",
    "version": 3
   },
   "file_extension": ".py",
   "mimetype": "text/x-python",
   "name": "python",
   "nbconvert_exporter": "python",
   "pygments_lexer": "ipython3",
   "version": "3.7.0"
  }
 },
 "nbformat": 4,
 "nbformat_minor": 2
}
