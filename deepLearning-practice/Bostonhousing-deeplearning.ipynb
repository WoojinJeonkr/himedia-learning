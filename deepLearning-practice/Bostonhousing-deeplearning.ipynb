{
 "cells": [
  {
   "cell_type": "code",
   "execution_count": 1,
   "metadata": {},
   "outputs": [],
   "source": [
    "import warnings\n",
    "warnings.filterwarnings(action='ignore')"
   ]
  },
  {
   "cell_type": "code",
   "execution_count": 2,
   "metadata": {},
   "outputs": [
    {
     "name": "stdout",
     "output_type": "stream",
     "text": [
      "2.7.0\n"
     ]
    }
   ],
   "source": [
    "import pandas as pd\n",
    "import numpy as np\n",
    "import random\n",
    "import tensorflow as tf\n",
    "print(tf.__version__)"
   ]
  },
  {
   "cell_type": "code",
   "execution_count": 3,
   "metadata": {},
   "outputs": [],
   "source": [
    "from sklearn import datasets"
   ]
  },
  {
   "cell_type": "code",
   "execution_count": 4,
   "metadata": {},
   "outputs": [
    {
     "data": {
      "text/plain": [
       "sklearn.utils.Bunch"
      ]
     },
     "execution_count": 4,
     "metadata": {},
     "output_type": "execute_result"
    }
   ],
   "source": [
    "housing = datasets.load_boston()\n",
    "type(housing)"
   ]
  },
  {
   "cell_type": "code",
   "execution_count": 5,
   "metadata": {},
   "outputs": [],
   "source": [
    "X_data = housing.data # 문제"
   ]
  },
  {
   "cell_type": "code",
   "execution_count": 6,
   "metadata": {},
   "outputs": [],
   "source": [
    "y_data = housing.target # 답(집값)"
   ]
  },
  {
   "cell_type": "code",
   "execution_count": 7,
   "metadata": {},
   "outputs": [
    {
     "data": {
      "text/plain": [
       "array([24. , 21.6, 34.7])"
      ]
     },
     "execution_count": 7,
     "metadata": {},
     "output_type": "execute_result"
    }
   ],
   "source": [
    "y_data[:3]"
   ]
  },
  {
   "cell_type": "code",
   "execution_count": 8,
   "metadata": {},
   "outputs": [
    {
     "data": {
      "text/plain": [
       "(506, 13)"
      ]
     },
     "execution_count": 8,
     "metadata": {},
     "output_type": "execute_result"
    }
   ],
   "source": [
    "X_data.shape"
   ]
  },
  {
   "cell_type": "code",
   "execution_count": 9,
   "metadata": {},
   "outputs": [
    {
     "data": {
      "text/plain": [
       "array(['CRIM', 'ZN', 'INDUS', 'CHAS', 'NOX', 'RM', 'AGE', 'DIS', 'RAD',\n",
       "       'TAX', 'PTRATIO', 'B', 'LSTAT'], dtype='<U7')"
      ]
     },
     "execution_count": 9,
     "metadata": {},
     "output_type": "execute_result"
    }
   ],
   "source": [
    "housing.feature_names"
   ]
  },
  {
   "cell_type": "code",
   "execution_count": 10,
   "metadata": {},
   "outputs": [],
   "source": [
    "from sklearn.preprocessing import MinMaxScaler\n",
    "from sklearn.model_selection import train_test_split"
   ]
  },
  {
   "cell_type": "code",
   "execution_count": 11,
   "metadata": {},
   "outputs": [
    {
     "data": {
      "text/plain": [
       "array([[0.00000000e+00, 1.80000000e-01, 6.78152493e-02, ...,\n",
       "        2.87234043e-01, 1.00000000e+00, 8.96799117e-02],\n",
       "       [2.35922539e-04, 0.00000000e+00, 2.42302053e-01, ...,\n",
       "        5.53191489e-01, 1.00000000e+00, 2.04470199e-01],\n",
       "       [2.35697744e-04, 0.00000000e+00, 2.42302053e-01, ...,\n",
       "        5.53191489e-01, 9.89737254e-01, 6.34657837e-02],\n",
       "       ...,\n",
       "       [6.11892474e-04, 0.00000000e+00, 4.20454545e-01, ...,\n",
       "        8.93617021e-01, 1.00000000e+00, 1.07891832e-01],\n",
       "       [1.16072990e-03, 0.00000000e+00, 4.20454545e-01, ...,\n",
       "        8.93617021e-01, 9.91300620e-01, 1.31070640e-01],\n",
       "       [4.61841693e-04, 0.00000000e+00, 4.20454545e-01, ...,\n",
       "        8.93617021e-01, 1.00000000e+00, 1.69701987e-01]])"
      ]
     },
     "execution_count": 11,
     "metadata": {},
     "output_type": "execute_result"
    }
   ],
   "source": [
    "scaler = MinMaxScaler()\n",
    "X_data_scaled = scaler.fit_transform(X_data)\n",
    "X_data_scaled"
   ]
  },
  {
   "cell_type": "code",
   "execution_count": 12,
   "metadata": {},
   "outputs": [
    {
     "name": "stdout",
     "output_type": "stream",
     "text": [
      "(455, 13) (455,)\n",
      "(51, 13) (51,)\n"
     ]
    }
   ],
   "source": [
    "X_train, X_test, y_train, y_test = train_test_split(X_data_scaled, y_data, \n",
    "                                                    test_size=0.1, \n",
    "                                                    shuffle=True, \n",
    "                                                    random_state=11)\n",
    "print(X_train.shape, y_train.shape)\n",
    "print(X_test.shape, y_test.shape)"
   ]
  },
  {
   "cell_type": "code",
   "execution_count": 13,
   "metadata": {},
   "outputs": [],
   "source": [
    "from tensorflow.keras import Sequential\n",
    "from tensorflow.keras.layers import Dense"
   ]
  },
  {
   "cell_type": "code",
   "execution_count": 14,
   "metadata": {},
   "outputs": [
    {
     "name": "stdout",
     "output_type": "stream",
     "text": [
      "Model: \"sequential\"\n",
      "_________________________________________________________________\n",
      " Layer (type)                Output Shape              Param #   \n",
      "=================================================================\n",
      " dense (Dense)               (None, 128)               1792      \n",
      "                                                                 \n",
      " dense_1 (Dense)             (None, 64)                8256      \n",
      "                                                                 \n",
      " dense_2 (Dense)             (None, 32)                2080      \n",
      "                                                                 \n",
      " dense_3 (Dense)             (None, 16)                528       \n",
      "                                                                 \n",
      " dense_4 (Dense)             (None, 1)                 17        \n",
      "                                                                 \n",
      "=================================================================\n",
      "Total params: 12,673\n",
      "Trainable params: 12,673\n",
      "Non-trainable params: 0\n",
      "_________________________________________________________________\n"
     ]
    }
   ],
   "source": [
    "# 레이어를 순서대로 쌓을 수 있도록 객체 생성\n",
    "model = Sequential()\n",
    "model.add(Dense(128, activation='relu', input_dim=13))\n",
    "model.add(Dense(64, activation='relu'))\n",
    "model.add(Dense(32, activation='relu'))\n",
    "model.add(Dense(16, activation='relu'))\n",
    "model.add(Dense(1, activation='linear')) # 회귀일때 마지막 출력층의 활성화 함수는 linear\n",
    "\n",
    "# 쌓은 것으로 모델 세팅\n",
    "model.compile(optimizer='adam', loss='mse', metrics=['mae'])\n",
    "\n",
    "model.summary()"
   ]
  },
  {
   "cell_type": "code",
   "execution_count": 24,
   "metadata": {},
   "outputs": [
    {
     "name": "stdout",
     "output_type": "stream",
     "text": [
      "Epoch 1/100\n",
      "15/15 - 0s - loss: 7.8102 - mae: 2.0644 - 16ms/epoch - 1ms/step\n",
      "Epoch 2/100\n",
      "15/15 - 0s - loss: 7.9208 - mae: 2.0785 - 15ms/epoch - 1ms/step\n",
      "Epoch 3/100\n",
      "15/15 - 0s - loss: 7.0186 - mae: 1.9396 - 16ms/epoch - 1ms/step\n",
      "Epoch 4/100\n",
      "15/15 - 0s - loss: 7.0119 - mae: 1.9498 - 15ms/epoch - 995us/step\n",
      "Epoch 5/100\n",
      "15/15 - 0s - loss: 6.8544 - mae: 1.9087 - 15ms/epoch - 1ms/step\n",
      "Epoch 6/100\n",
      "15/15 - 0s - loss: 7.3624 - mae: 1.9735 - 15ms/epoch - 995us/step\n",
      "Epoch 7/100\n",
      "15/15 - 0s - loss: 7.2371 - mae: 1.9700 - 14ms/epoch - 960us/step\n",
      "Epoch 8/100\n",
      "15/15 - 0s - loss: 6.9024 - mae: 1.9079 - 15ms/epoch - 994us/step\n",
      "Epoch 9/100\n",
      "15/15 - 0s - loss: 7.1598 - mae: 1.9601 - 14ms/epoch - 928us/step\n",
      "Epoch 10/100\n",
      "15/15 - 0s - loss: 6.9898 - mae: 1.9211 - 13ms/epoch - 836us/step\n",
      "Epoch 11/100\n",
      "15/15 - 0s - loss: 7.2821 - mae: 1.9669 - 14ms/epoch - 931us/step\n",
      "Epoch 12/100\n",
      "15/15 - 0s - loss: 7.0720 - mae: 1.9421 - 12ms/epoch - 798us/step\n",
      "Epoch 13/100\n",
      "15/15 - 0s - loss: 6.7263 - mae: 1.8784 - 13ms/epoch - 853us/step\n",
      "Epoch 14/100\n",
      "15/15 - 0s - loss: 7.0685 - mae: 1.9523 - 13ms/epoch - 895us/step\n",
      "Epoch 15/100\n",
      "15/15 - 0s - loss: 7.2933 - mae: 2.0211 - 13ms/epoch - 843us/step\n",
      "Epoch 16/100\n",
      "15/15 - 0s - loss: 7.0245 - mae: 1.9254 - 14ms/epoch - 933us/step\n",
      "Epoch 17/100\n",
      "15/15 - 0s - loss: 6.9661 - mae: 1.9193 - 13ms/epoch - 891us/step\n",
      "Epoch 18/100\n",
      "15/15 - 0s - loss: 6.5088 - mae: 1.8866 - 14ms/epoch - 933us/step\n",
      "Epoch 19/100\n",
      "15/15 - 0s - loss: 6.5465 - mae: 1.8874 - 15ms/epoch - 986us/step\n",
      "Epoch 20/100\n",
      "15/15 - 0s - loss: 6.3524 - mae: 1.8468 - 13ms/epoch - 892us/step\n",
      "Epoch 21/100\n",
      "15/15 - 0s - loss: 6.6162 - mae: 1.8832 - 13ms/epoch - 864us/step\n",
      "Epoch 22/100\n",
      "15/15 - 0s - loss: 6.4357 - mae: 1.8635 - 13ms/epoch - 864us/step\n",
      "Epoch 23/100\n",
      "15/15 - 0s - loss: 6.4622 - mae: 1.8641 - 12ms/epoch - 798us/step\n",
      "Epoch 24/100\n",
      "15/15 - 0s - loss: 6.3847 - mae: 1.8542 - 13ms/epoch - 864us/step\n",
      "Epoch 25/100\n",
      "15/15 - 0s - loss: 6.5611 - mae: 1.8905 - 14ms/epoch - 931us/step\n",
      "Epoch 26/100\n",
      "15/15 - 0s - loss: 6.8176 - mae: 1.9151 - 13ms/epoch - 864us/step\n",
      "Epoch 27/100\n",
      "15/15 - 0s - loss: 6.3482 - mae: 1.8500 - 13ms/epoch - 864us/step\n",
      "Epoch 28/100\n",
      "15/15 - 0s - loss: 6.3993 - mae: 1.8669 - 14ms/epoch - 931us/step\n",
      "Epoch 29/100\n",
      "15/15 - 0s - loss: 6.1382 - mae: 1.8094 - 14ms/epoch - 931us/step\n",
      "Epoch 30/100\n",
      "15/15 - 0s - loss: 6.4102 - mae: 1.8769 - 13ms/epoch - 864us/step\n",
      "Epoch 31/100\n",
      "15/15 - 0s - loss: 6.2107 - mae: 1.8334 - 12ms/epoch - 798us/step\n",
      "Epoch 32/100\n",
      "15/15 - 0s - loss: 6.4528 - mae: 1.8756 - 11ms/epoch - 731us/step\n",
      "Epoch 33/100\n",
      "15/15 - 0s - loss: 6.6661 - mae: 1.9310 - 13ms/epoch - 864us/step\n",
      "Epoch 34/100\n",
      "15/15 - 0s - loss: 6.4195 - mae: 1.8745 - 13ms/epoch - 864us/step\n",
      "Epoch 35/100\n",
      "15/15 - 0s - loss: 6.1897 - mae: 1.8445 - 13ms/epoch - 864us/step\n",
      "Epoch 36/100\n",
      "15/15 - 0s - loss: 5.9662 - mae: 1.8025 - 13ms/epoch - 864us/step\n",
      "Epoch 37/100\n",
      "15/15 - 0s - loss: 5.8691 - mae: 1.7743 - 12ms/epoch - 798us/step\n",
      "Epoch 38/100\n",
      "15/15 - 0s - loss: 6.1697 - mae: 1.8216 - 10ms/epoch - 665us/step\n",
      "Epoch 39/100\n",
      "15/15 - 0s - loss: 6.0209 - mae: 1.8361 - 12ms/epoch - 798us/step\n",
      "Epoch 40/100\n",
      "15/15 - 0s - loss: 5.6917 - mae: 1.7612 - 12ms/epoch - 798us/step\n",
      "Epoch 41/100\n",
      "15/15 - 0s - loss: 5.8140 - mae: 1.7800 - 12ms/epoch - 798us/step\n",
      "Epoch 42/100\n",
      "15/15 - 0s - loss: 6.0843 - mae: 1.8318 - 12ms/epoch - 798us/step\n",
      "Epoch 43/100\n",
      "15/15 - 0s - loss: 6.5931 - mae: 1.9681 - 11ms/epoch - 731us/step\n",
      "Epoch 44/100\n",
      "15/15 - 0s - loss: 5.9043 - mae: 1.7890 - 13ms/epoch - 864us/step\n",
      "Epoch 45/100\n",
      "15/15 - 0s - loss: 5.8543 - mae: 1.8033 - 12ms/epoch - 798us/step\n",
      "Epoch 46/100\n",
      "15/15 - 0s - loss: 5.8502 - mae: 1.7922 - 12ms/epoch - 798us/step\n",
      "Epoch 47/100\n",
      "15/15 - 0s - loss: 6.1114 - mae: 1.8077 - 12ms/epoch - 798us/step\n",
      "Epoch 48/100\n",
      "15/15 - 0s - loss: 6.1828 - mae: 1.8425 - 11ms/epoch - 731us/step\n",
      "Epoch 49/100\n",
      "15/15 - 0s - loss: 5.9558 - mae: 1.7906 - 13ms/epoch - 864us/step\n",
      "Epoch 50/100\n",
      "15/15 - 0s - loss: 6.2244 - mae: 1.8710 - 14ms/epoch - 931us/step\n",
      "Epoch 51/100\n",
      "15/15 - 0s - loss: 5.8670 - mae: 1.7655 - 14ms/epoch - 931us/step\n",
      "Epoch 52/100\n",
      "15/15 - 0s - loss: 6.3709 - mae: 1.8810 - 14ms/epoch - 931us/step\n",
      "Epoch 53/100\n",
      "15/15 - 0s - loss: 6.1501 - mae: 1.8513 - 13ms/epoch - 864us/step\n",
      "Epoch 54/100\n",
      "15/15 - 0s - loss: 5.4235 - mae: 1.7305 - 12ms/epoch - 798us/step\n",
      "Epoch 55/100\n",
      "15/15 - 0s - loss: 5.4892 - mae: 1.7242 - 12ms/epoch - 798us/step\n",
      "Epoch 56/100\n",
      "15/15 - 0s - loss: 5.2973 - mae: 1.7206 - 12ms/epoch - 798us/step\n",
      "Epoch 57/100\n",
      "15/15 - 0s - loss: 5.9310 - mae: 1.8044 - 13ms/epoch - 864us/step\n",
      "Epoch 58/100\n",
      "15/15 - 0s - loss: 5.4503 - mae: 1.7099 - 13ms/epoch - 864us/step\n",
      "Epoch 59/100\n",
      "15/15 - 0s - loss: 5.5551 - mae: 1.7471 - 13ms/epoch - 864us/step\n",
      "Epoch 60/100\n",
      "15/15 - 0s - loss: 5.5537 - mae: 1.7517 - 12ms/epoch - 798us/step\n",
      "Epoch 61/100\n",
      "15/15 - 0s - loss: 5.6846 - mae: 1.7504 - 10ms/epoch - 665us/step\n",
      "Epoch 62/100\n",
      "15/15 - 0s - loss: 5.6089 - mae: 1.7424 - 12ms/epoch - 798us/step\n",
      "Epoch 63/100\n",
      "15/15 - 0s - loss: 5.3275 - mae: 1.7191 - 13ms/epoch - 864us/step\n",
      "Epoch 64/100\n",
      "15/15 - 0s - loss: 5.3291 - mae: 1.7306 - 13ms/epoch - 864us/step\n",
      "Epoch 65/100\n",
      "15/15 - 0s - loss: 5.2956 - mae: 1.6873 - 13ms/epoch - 864us/step\n",
      "Epoch 66/100\n",
      "15/15 - 0s - loss: 5.0982 - mae: 1.6533 - 12ms/epoch - 798us/step\n",
      "Epoch 67/100\n",
      "15/15 - 0s - loss: 5.8716 - mae: 1.8090 - 11ms/epoch - 731us/step\n",
      "Epoch 68/100\n",
      "15/15 - 0s - loss: 5.1415 - mae: 1.6786 - 15ms/epoch - 997us/step\n",
      "Epoch 69/100\n",
      "15/15 - 0s - loss: 5.4539 - mae: 1.7326 - 13ms/epoch - 864us/step\n",
      "Epoch 70/100\n",
      "15/15 - 0s - loss: 5.1722 - mae: 1.6874 - 12ms/epoch - 798us/step\n",
      "Epoch 71/100\n",
      "15/15 - 0s - loss: 5.6949 - mae: 1.7850 - 12ms/epoch - 798us/step\n",
      "Epoch 72/100\n",
      "15/15 - 0s - loss: 5.6961 - mae: 1.7697 - 11ms/epoch - 731us/step\n",
      "Epoch 73/100\n",
      "15/15 - 0s - loss: 5.1889 - mae: 1.7239 - 12ms/epoch - 798us/step\n",
      "Epoch 74/100\n",
      "15/15 - 0s - loss: 5.4769 - mae: 1.7416 - 12ms/epoch - 798us/step\n",
      "Epoch 75/100\n",
      "15/15 - 0s - loss: 5.0293 - mae: 1.6626 - 13ms/epoch - 864us/step\n",
      "Epoch 76/100\n",
      "15/15 - 0s - loss: 4.9043 - mae: 1.6422 - 12ms/epoch - 798us/step\n",
      "Epoch 77/100\n",
      "15/15 - 0s - loss: 4.8437 - mae: 1.6232 - 10ms/epoch - 665us/step\n",
      "Epoch 78/100\n",
      "15/15 - 0s - loss: 4.8947 - mae: 1.6336 - 12ms/epoch - 798us/step\n",
      "Epoch 79/100\n",
      "15/15 - 0s - loss: 5.5472 - mae: 1.7650 - 12ms/epoch - 798us/step\n",
      "Epoch 80/100\n",
      "15/15 - 0s - loss: 5.4407 - mae: 1.7496 - 12ms/epoch - 798us/step\n",
      "Epoch 81/100\n",
      "15/15 - 0s - loss: 5.0453 - mae: 1.6578 - 11ms/epoch - 731us/step\n",
      "Epoch 82/100\n",
      "15/15 - 0s - loss: 5.0624 - mae: 1.6608 - 11ms/epoch - 731us/step\n",
      "Epoch 83/100\n",
      "15/15 - 0s - loss: 4.8397 - mae: 1.6227 - 13ms/epoch - 864us/step\n",
      "Epoch 84/100\n",
      "15/15 - 0s - loss: 4.8785 - mae: 1.6334 - 13ms/epoch - 864us/step\n",
      "Epoch 85/100\n",
      "15/15 - 0s - loss: 4.8097 - mae: 1.6267 - 13ms/epoch - 864us/step\n",
      "Epoch 86/100\n",
      "15/15 - 0s - loss: 4.8668 - mae: 1.6023 - 13ms/epoch - 864us/step\n",
      "Epoch 87/100\n",
      "15/15 - 0s - loss: 4.7695 - mae: 1.6311 - 10ms/epoch - 665us/step\n",
      "Epoch 88/100\n",
      "15/15 - 0s - loss: 4.8485 - mae: 1.5951 - 12ms/epoch - 798us/step\n",
      "Epoch 89/100\n",
      "15/15 - 0s - loss: 5.3197 - mae: 1.7670 - 13ms/epoch - 864us/step\n",
      "Epoch 90/100\n",
      "15/15 - 0s - loss: 5.1910 - mae: 1.7010 - 13ms/epoch - 864us/step\n",
      "Epoch 91/100\n",
      "15/15 - 0s - loss: 5.0114 - mae: 1.6781 - 13ms/epoch - 864us/step\n",
      "Epoch 92/100\n",
      "15/15 - 0s - loss: 4.9195 - mae: 1.6627 - 10ms/epoch - 665us/step\n",
      "Epoch 93/100\n",
      "15/15 - 0s - loss: 4.9449 - mae: 1.6460 - 12ms/epoch - 798us/step\n",
      "Epoch 94/100\n",
      "15/15 - 0s - loss: 4.5864 - mae: 1.5919 - 13ms/epoch - 864us/step\n",
      "Epoch 95/100\n",
      "15/15 - 0s - loss: 4.5741 - mae: 1.5765 - 13ms/epoch - 864us/step\n",
      "Epoch 96/100\n",
      "15/15 - 0s - loss: 5.0281 - mae: 1.6692 - 11ms/epoch - 731us/step\n",
      "Epoch 97/100\n",
      "15/15 - 0s - loss: 4.6498 - mae: 1.5923 - 10ms/epoch - 665us/step\n",
      "Epoch 98/100\n",
      "15/15 - 0s - loss: 4.5195 - mae: 1.5736 - 12ms/epoch - 798us/step\n",
      "Epoch 99/100\n",
      "15/15 - 0s - loss: 4.4246 - mae: 1.5586 - 13ms/epoch - 864us/step\n",
      "Epoch 100/100\n",
      "15/15 - 0s - loss: 4.7799 - mae: 1.6399 - 13ms/epoch - 864us/step\n"
     ]
    },
    {
     "data": {
      "text/plain": [
       "<keras.callbacks.History at 0x1d0a18082b0>"
      ]
     },
     "execution_count": 24,
     "metadata": {},
     "output_type": "execute_result"
    }
   ],
   "source": [
    "history = model.fit(X_train, y_train, epochs=100, batch_size=32, verbose=2)\n",
    "history"
   ]
  },
  {
   "cell_type": "code",
   "execution_count": 33,
   "metadata": {},
   "outputs": [
    {
     "name": "stdout",
     "output_type": "stream",
     "text": [
      "2/2 [==============================] - 0s 1ms/step - loss: 8.7985 - mae: 2.0850\n"
     ]
    },
    {
     "data": {
      "text/plain": [
       "[8.798506736755371, 2.0850400924682617]"
      ]
     },
     "execution_count": 33,
     "metadata": {},
     "output_type": "execute_result"
    }
   ],
   "source": [
    "m_eval = model.evaluate(X_test, y_test)\n",
    "m_eval"
   ]
  },
  {
   "cell_type": "code",
   "execution_count": 35,
   "metadata": {},
   "outputs": [
    {
     "name": "stdout",
     "output_type": "stream",
     "text": [
      "loss:  8.798506736755371 , mae:  2.0850400924682617\n"
     ]
    }
   ],
   "source": [
    "print('loss: ', m_eval[0], ', mae: ', m_eval[1])"
   ]
  },
  {
   "cell_type": "code",
   "execution_count": 26,
   "metadata": {},
   "outputs": [
    {
     "data": {
      "text/plain": [
       "array([[22.825447],\n",
       "       [12.909687],\n",
       "       [26.300776],\n",
       "       [24.104307],\n",
       "       [ 9.072535]], dtype=float32)"
      ]
     },
     "execution_count": 26,
     "metadata": {},
     "output_type": "execute_result"
    }
   ],
   "source": [
    "pred_test = model.predict(X_test)\n",
    "pred_test[:5]"
   ]
  },
  {
   "cell_type": "code",
   "execution_count": 27,
   "metadata": {},
   "outputs": [
    {
     "data": {
      "text/plain": [
       "array([23.4,  8.1, 22. , 15. , 10.4])"
      ]
     },
     "execution_count": 27,
     "metadata": {},
     "output_type": "execute_result"
    }
   ],
   "source": [
    "y_test[:5]"
   ]
  },
  {
   "cell_type": "code",
   "execution_count": 28,
   "metadata": {},
   "outputs": [
    {
     "data": {
      "text/plain": [
       "51"
      ]
     },
     "execution_count": 28,
     "metadata": {},
     "output_type": "execute_result"
    }
   ],
   "source": [
    "len(pred_test)"
   ]
  },
  {
   "cell_type": "code",
   "execution_count": 29,
   "metadata": {},
   "outputs": [
    {
     "data": {
      "text/plain": [
       "array([[20.230038],\n",
       "       [23.339739],\n",
       "       [15.509999],\n",
       "       [18.376457],\n",
       "       [21.87706 ]], dtype=float32)"
      ]
     },
     "execution_count": 29,
     "metadata": {},
     "output_type": "execute_result"
    }
   ],
   "source": [
    "pred_test[46:]"
   ]
  },
  {
   "cell_type": "code",
   "execution_count": 30,
   "metadata": {},
   "outputs": [
    {
     "data": {
      "text/plain": [
       "array([20.1, 22. , 16.7, 18.7, 19.6])"
      ]
     },
     "execution_count": 30,
     "metadata": {},
     "output_type": "execute_result"
    }
   ],
   "source": [
    "y_test[46:]"
   ]
  },
  {
   "cell_type": "code",
   "execution_count": 31,
   "metadata": {},
   "outputs": [],
   "source": [
    "from sklearn.metrics import r2_score"
   ]
  },
  {
   "cell_type": "code",
   "execution_count": 32,
   "metadata": {},
   "outputs": [
    {
     "data": {
      "text/plain": [
       "0.88653054579727"
      ]
     },
     "execution_count": 32,
     "metadata": {},
     "output_type": "execute_result"
    }
   ],
   "source": [
    "R2 = r2_score(y_test, pred_test)\n",
    "R2"
   ]
  },
  {
   "cell_type": "code",
   "execution_count": 37,
   "metadata": {},
   "outputs": [
    {
     "data": {
      "text/plain": [
       "[2.064399242401123, 2.078489303588867, 1.9396048784255981]"
      ]
     },
     "execution_count": 37,
     "metadata": {},
     "output_type": "execute_result"
    }
   ],
   "source": [
    "history.history['mae'][:3]"
   ]
  },
  {
   "cell_type": "code",
   "execution_count": 38,
   "metadata": {},
   "outputs": [
    {
     "data": {
      "text/plain": [
       "[7.810182094573975, 7.920812606811523, 7.018568992614746]"
      ]
     },
     "execution_count": 38,
     "metadata": {},
     "output_type": "execute_result"
    }
   ],
   "source": [
    "history.history['loss'][:3]"
   ]
  },
  {
   "cell_type": "code",
   "execution_count": 41,
   "metadata": {},
   "outputs": [
    {
     "data": {
      "image/png": "[encoded data removed]",
      "text/plain": [
       "<Figure size 432x432 with 1 Axes>"
      ]
     },
     "metadata": {
      "needs_background": "light"
     },
     "output_type": "display_data"
    }
   ],
   "source": [
    "import matplotlib.pyplot as plt\n",
    "fig = plt.figure(figsize=(6,6))\n",
    "plt.plot(history.history['mae'])\n",
    "plt.plot(history.history['loss'])\n",
    "plt.grid()\n",
    "plt.show()"
   ]
  }
 ],
 "metadata": {
  "kernelspec": {
   "display_name": "Python 3",
   "language": "python",
   "name": "python3"
  },
  "language_info": {
   "codemirror_mode": {
    "name": "ipython",
    "version": 3
   },
   "file_extension": ".py",
   "mimetype": "text/x-python",
   "name": "python",
   "nbconvert_exporter": "python",
   "pygments_lexer": "ipython3",
   "version": "3.7.0"
  }
 },
 "nbformat": 4,
 "nbformat_minor": 2
}
