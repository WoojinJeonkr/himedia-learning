{
  "nbformat": 4,
  "nbformat_minor": 0,
  "metadata": {
    "colab": {
      "name": "Character-level_recurrent_sequence-to-sequence_model.ipynb",
      "provenance": [],
      "authorship_tag": "ABX9TyOVKBu3flRXpohYsKvmqWfz",
      "include_colab_link": true
    },
    "kernelspec": {
      "name": "python3",
      "display_name": "Python 3"
    },
    "language_info": {
      "name": "python"
    }
  },
  "cells": [
    {
      "cell_type": "markdown",
      "metadata": {
        "id": "view-in-github",
        "colab_type": "text"
      },
      "source": [
        "<a href=\"https://colab.research.google.com/github/WoojinJeonkr/DeepLearning/blob/main/Character_level_recurrent_sequence_to_sequence_model.ipynb\" target=\"_parent\"><img src=\"https://colab.research.google.com/assets/colab-badge.svg\" alt=\"Open In Colab\"/></a>"
      ]
    },
    {
      "cell_type": "markdown",
      "source": [
        "# 기본 문자 수준 반복 시퀀스 대 시퀀스 모델\n",
        "- 내용 출처: [Character-level recurrent sequence-to-sequence model](https://keras.io/examples/nlp/lstm_seq2seq/)\n",
        "- 목표: 짧은 영어 문장을 짧은 프랑스어 문장으로 한 글자 한 글자씩 번역하는 기본 문자 수준 반복 시퀀스 대 시퀀스 모델 구현"
      ],
      "metadata": {
        "id": "-Oj8yt0tWa_c"
      }
    },
    {
      "cell_type": "markdown",
      "source": [
        "## 01. 라이브러리 가져오기"
      ],
      "metadata": {
        "id": "pnzMJRgIW4k5"
      }
    },
    {
      "cell_type": "code",
      "execution_count": 1,
      "metadata": {
        "id": "sVdIPipYVGW9"
      },
      "outputs": [],
      "source": [
        "import numpy as np\n",
        "import tensorflow as tf\n",
        "from tensorflow import keras"
      ]
    },
    {
      "cell_type": "markdown",
      "source": [
        "## 02. 데이터 다운로드"
      ],
      "metadata": {
        "id": "VML2rPcuXAxw"
      }
    },
    {
      "cell_type": "code",
      "source": [
        "!curl -O http://www.manythings.org/anki/fra-eng.zip\n",
        "!unzip fra-eng.zip"
      ],
      "metadata": {
        "colab": {
          "base_uri": "https://localhost:8080/"
        },
        "id": "gFv22-ZFW_2d",
        "outputId": "753aded3-0ebc-4189-a770-097f9894467f"
      },
      "execution_count": 2,
      "outputs": [
        {
          "output_type": "stream",
          "name": "stdout",
          "text": [
            "  % Total    % Received % Xferd  Average Speed   Time    Time     Time  Current\n",
            "                                 Dload  Upload   Total   Spent    Left  Speed\n",
            "100 6457k  100 6457k    0     0  7362k      0 --:--:-- --:--:-- --:--:-- 7354k\n",
            "Archive:  fra-eng.zip\n",
            "replace _about.txt? [y]es, [n]o, [A]ll, [N]one, [r]ename: y\n",
            "  inflating: _about.txt              \n",
            "replace fra.txt? [y]es, [n]o, [A]ll, [N]one, [r]ename: y\n",
            "  inflating: fra.txt                 \n"
          ]
        }
      ]
    },
    {
      "cell_type": "markdown",
      "source": [
        "## 03. 매개변수 설정"
      ],
      "metadata": {
        "id": "yhNWQ0aEXKzY"
      }
    },
    {
      "cell_type": "code",
      "source": [
        "batch_size = 64\n",
        "epochs = 100\n",
        "latent_dim = 256\n",
        "num_samples = 10000\n",
        "data_path = \"fra.txt\""
      ],
      "metadata": {
        "id": "pFbzFsuwXHE2"
      },
      "execution_count": 3,
      "outputs": []
    },
    {
      "cell_type": "markdown",
      "source": [
        "## 04. 데이터 전처리"
      ],
      "metadata": {
        "id": "VGmpAnf7XYUc"
      }
    },
    {
      "cell_type": "code",
      "source": [
        "# 데이터 벡터화\n",
        "input_texts = []\n",
        "target_texts = []\n",
        "input_characters = set()\n",
        "target_characters = set()\n",
        "with open(data_path, \"r\", encoding=\"utf-8\") as f:\n",
        "    lines = f.read().split(\"\\n\")\n",
        "for line in lines[: min(num_samples, len(lines) - 1)]:\n",
        "    input_text, target_text, _ = line.split(\"\\t\")\n",
        "    target_text = \"\\t\" + target_text + \"\\n\"\n",
        "    input_texts.append(input_text)\n",
        "    target_texts.append(target_text)\n",
        "    for char in input_text:\n",
        "        if char not in input_characters:\n",
        "            input_characters.add(char)\n",
        "    for char in target_text:\n",
        "        if char not in target_characters:\n",
        "            target_characters.add(char)\n",
        "\n",
        "input_characters = sorted(list(input_characters))\n",
        "target_characters = sorted(list(target_characters))\n",
        "num_encoder_tokens = len(input_characters)\n",
        "num_decoder_tokens = len(target_characters)\n",
        "max_encoder_seq_length = max([len(txt) for txt in input_texts])\n",
        "max_decoder_seq_length = max([len(txt) for txt in target_texts])\n",
        "\n",
        "print(\"Number of samples:\", len(input_texts))\n",
        "print(\"Number of unique input tokens:\", num_encoder_tokens)\n",
        "print(\"Number of unique output tokens:\", num_decoder_tokens)\n",
        "print(\"Max sequence length for inputs:\", max_encoder_seq_length)\n",
        "print(\"Max sequence length for outputs:\", max_decoder_seq_length)\n",
        "\n",
        "input_token_index = dict([(char, i) for i, char in enumerate(input_characters)])\n",
        "target_token_index = dict([(char, i) for i, char in enumerate(target_characters)])\n",
        "\n",
        "encoder_input_data = np.zeros(\n",
        "    (len(input_texts), max_encoder_seq_length, num_encoder_tokens), dtype=\"float32\"\n",
        ")\n",
        "decoder_input_data = np.zeros(\n",
        "    (len(input_texts), max_decoder_seq_length, num_decoder_tokens), dtype=\"float32\"\n",
        ")\n",
        "decoder_target_data = np.zeros(\n",
        "    (len(input_texts), max_decoder_seq_length, num_decoder_tokens), dtype=\"float32\"\n",
        ")\n",
        "\n",
        "for i, (input_text, target_text) in enumerate(zip(input_texts, target_texts)):\n",
        "    for t, char in enumerate(input_text):\n",
        "        encoder_input_data[i, t, input_token_index[char]] = 1.0\n",
        "    encoder_input_data[i, t + 1 :, input_token_index[\" \"]] = 1.0\n",
        "    for t, char in enumerate(target_text):\n",
        "        decoder_input_data[i, t, target_token_index[char]] = 1.0\n",
        "        if t > 0:\n",
        "            decoder_target_data[i, t - 1, target_token_index[char]] = 1.0\n",
        "    decoder_input_data[i, t + 1 :, target_token_index[\" \"]] = 1.0\n",
        "    decoder_target_data[i, t:, target_token_index[\" \"]] = 1.0"
      ],
      "metadata": {
        "colab": {
          "base_uri": "https://localhost:8080/"
        },
        "id": "qheb_UEYXTEX",
        "outputId": "09c8583e-8e27-40ff-c3a2-77377ce57153"
      },
      "execution_count": 4,
      "outputs": [
        {
          "output_type": "stream",
          "name": "stdout",
          "text": [
            "Number of samples: 10000\n",
            "Number of unique input tokens: 71\n",
            "Number of unique output tokens: 93\n",
            "Max sequence length for inputs: 15\n",
            "Max sequence length for outputs: 59\n"
          ]
        }
      ]
    },
    {
      "cell_type": "markdown",
      "source": [
        "## 05. 모델 구축"
      ],
      "metadata": {
        "id": "fHtwgly8Yolh"
      }
    },
    {
      "cell_type": "code",
      "source": [
        "encoder_inputs = keras.Input(shape=(None, num_encoder_tokens))\n",
        "encoder = keras.layers.LSTM(latent_dim, return_state=True)\n",
        "encoder_outputs, state_h, state_c = encoder(encoder_inputs)\n",
        "\n",
        "encoder_states = [state_h, state_c]\n",
        "\n",
        "decoder_inputs = keras.Input(shape=(None, num_decoder_tokens))\n",
        "\n",
        "decoder_lstm = keras.layers.LSTM(latent_dim, return_sequences=True, return_state=True)\n",
        "decoder_outputs, _, _ = decoder_lstm(decoder_inputs, initial_state=encoder_states)\n",
        "decoder_dense = keras.layers.Dense(num_decoder_tokens, activation=\"softmax\")\n",
        "decoder_outputs = decoder_dense(decoder_outputs)\n",
        "\n",
        "model = keras.Model([encoder_inputs, decoder_inputs], decoder_outputs)"
      ],
      "metadata": {
        "id": "sb3etyLUYEkH"
      },
      "execution_count": 5,
      "outputs": []
    },
    {
      "cell_type": "markdown",
      "source": [
        "## 06. 모델 훈련"
      ],
      "metadata": {
        "id": "s3QFKqR8YzKj"
      }
    },
    {
      "cell_type": "code",
      "source": [
        "# 모델 컴파일\n",
        "model.compile(\n",
        "    optimizer=\"rmsprop\", loss=\"categorical_crossentropy\", metrics=[\"accuracy\"]\n",
        ")\n",
        "\n",
        "# 모델 훈련\n",
        "model.fit(\n",
        "    [encoder_input_data, decoder_input_data],\n",
        "    decoder_target_data,\n",
        "    batch_size=batch_size,\n",
        "    epochs=epochs,\n",
        "    validation_split=0.2,\n",
        ")"
      ],
      "metadata": {
        "colab": {
          "base_uri": "https://localhost:8080/"
        },
        "id": "V2LUoRDPYyCk",
        "outputId": "962d7b2d-1da1-42f9-abaf-35d44dcd38d6"
      },
      "execution_count": 6,
      "outputs": [
        {
          "output_type": "stream",
          "name": "stdout",
          "text": [
            "Epoch 1/100\n",
            "125/125 [==============================] - 37s 281ms/step - loss: 1.1378 - accuracy: 0.7369 - val_loss: 1.0336 - val_accuracy: 0.7213\n",
            "Epoch 2/100\n",
            "125/125 [==============================] - 34s 271ms/step - loss: 0.8178 - accuracy: 0.7797 - val_loss: 0.8252 - val_accuracy: 0.7684\n",
            "Epoch 3/100\n",
            "125/125 [==============================] - 35s 283ms/step - loss: 0.6603 - accuracy: 0.8157 - val_loss: 0.6996 - val_accuracy: 0.8008\n",
            "Epoch 4/100\n",
            "125/125 [==============================] - 35s 279ms/step - loss: 0.5760 - accuracy: 0.8335 - val_loss: 0.6465 - val_accuracy: 0.8099\n",
            "Epoch 5/100\n",
            "125/125 [==============================] - 34s 271ms/step - loss: 0.5284 - accuracy: 0.8460 - val_loss: 0.5884 - val_accuracy: 0.8299\n",
            "Epoch 6/100\n",
            "125/125 [==============================] - 34s 275ms/step - loss: 0.4911 - accuracy: 0.8558 - val_loss: 0.5580 - val_accuracy: 0.8388\n",
            "Epoch 7/100\n",
            "125/125 [==============================] - 34s 272ms/step - loss: 0.4638 - accuracy: 0.8634 - val_loss: 0.5462 - val_accuracy: 0.8402\n",
            "Epoch 8/100\n",
            "125/125 [==============================] - 34s 272ms/step - loss: 0.4407 - accuracy: 0.8692 - val_loss: 0.5210 - val_accuracy: 0.8453\n",
            "Epoch 9/100\n",
            "125/125 [==============================] - 35s 278ms/step - loss: 0.4209 - accuracy: 0.8745 - val_loss: 0.5032 - val_accuracy: 0.8514\n",
            "Epoch 10/100\n",
            "125/125 [==============================] - 35s 280ms/step - loss: 0.4030 - accuracy: 0.8798 - val_loss: 0.4933 - val_accuracy: 0.8540\n",
            "Epoch 11/100\n",
            "125/125 [==============================] - 34s 272ms/step - loss: 0.3866 - accuracy: 0.8846 - val_loss: 0.4881 - val_accuracy: 0.8555\n",
            "Epoch 12/100\n",
            "125/125 [==============================] - 35s 276ms/step - loss: 0.3709 - accuracy: 0.8886 - val_loss: 0.4760 - val_accuracy: 0.8593\n",
            "Epoch 13/100\n",
            "125/125 [==============================] - 34s 274ms/step - loss: 0.3563 - accuracy: 0.8928 - val_loss: 0.4674 - val_accuracy: 0.8615\n",
            "Epoch 14/100\n",
            "125/125 [==============================] - 34s 275ms/step - loss: 0.3427 - accuracy: 0.8969 - val_loss: 0.4602 - val_accuracy: 0.8641\n",
            "Epoch 15/100\n",
            "125/125 [==============================] - 34s 271ms/step - loss: 0.3305 - accuracy: 0.9005 - val_loss: 0.4561 - val_accuracy: 0.8661\n",
            "Epoch 16/100\n",
            "125/125 [==============================] - 35s 282ms/step - loss: 0.3180 - accuracy: 0.9042 - val_loss: 0.4537 - val_accuracy: 0.8673\n",
            "Epoch 17/100\n",
            "125/125 [==============================] - 35s 278ms/step - loss: 0.3073 - accuracy: 0.9075 - val_loss: 0.4433 - val_accuracy: 0.8707\n",
            "Epoch 18/100\n",
            "125/125 [==============================] - 34s 271ms/step - loss: 0.2961 - accuracy: 0.9107 - val_loss: 0.4445 - val_accuracy: 0.8703\n",
            "Epoch 19/100\n",
            "125/125 [==============================] - 35s 277ms/step - loss: 0.2862 - accuracy: 0.9136 - val_loss: 0.4452 - val_accuracy: 0.8714\n",
            "Epoch 20/100\n",
            "125/125 [==============================] - 35s 278ms/step - loss: 0.2765 - accuracy: 0.9165 - val_loss: 0.4423 - val_accuracy: 0.8730\n",
            "Epoch 21/100\n",
            "125/125 [==============================] - 35s 277ms/step - loss: 0.2672 - accuracy: 0.9193 - val_loss: 0.4435 - val_accuracy: 0.8729\n",
            "Epoch 22/100\n",
            "125/125 [==============================] - 35s 278ms/step - loss: 0.2578 - accuracy: 0.9220 - val_loss: 0.4409 - val_accuracy: 0.8735\n",
            "Epoch 23/100\n",
            "125/125 [==============================] - 35s 279ms/step - loss: 0.2497 - accuracy: 0.9243 - val_loss: 0.4421 - val_accuracy: 0.8757\n",
            "Epoch 24/100\n",
            "125/125 [==============================] - 35s 279ms/step - loss: 0.2416 - accuracy: 0.9268 - val_loss: 0.4411 - val_accuracy: 0.8755\n",
            "Epoch 25/100\n",
            "125/125 [==============================] - 36s 288ms/step - loss: 0.2336 - accuracy: 0.9292 - val_loss: 0.4439 - val_accuracy: 0.8748\n",
            "Epoch 26/100\n",
            "125/125 [==============================] - 35s 279ms/step - loss: 0.2265 - accuracy: 0.9313 - val_loss: 0.4513 - val_accuracy: 0.8748\n",
            "Epoch 27/100\n",
            "125/125 [==============================] - 35s 282ms/step - loss: 0.2186 - accuracy: 0.9335 - val_loss: 0.4504 - val_accuracy: 0.8766\n",
            "Epoch 28/100\n",
            "125/125 [==============================] - 35s 280ms/step - loss: 0.2119 - accuracy: 0.9356 - val_loss: 0.4558 - val_accuracy: 0.8752\n",
            "Epoch 29/100\n",
            "125/125 [==============================] - 35s 282ms/step - loss: 0.2057 - accuracy: 0.9374 - val_loss: 0.4554 - val_accuracy: 0.8764\n",
            "Epoch 30/100\n",
            "125/125 [==============================] - 35s 278ms/step - loss: 0.1990 - accuracy: 0.9394 - val_loss: 0.4583 - val_accuracy: 0.8757\n",
            "Epoch 31/100\n",
            "125/125 [==============================] - 35s 278ms/step - loss: 0.1930 - accuracy: 0.9412 - val_loss: 0.4672 - val_accuracy: 0.8753\n",
            "Epoch 32/100\n",
            "125/125 [==============================] - 35s 284ms/step - loss: 0.1875 - accuracy: 0.9429 - val_loss: 0.4617 - val_accuracy: 0.8767\n",
            "Epoch 33/100\n",
            "125/125 [==============================] - 34s 275ms/step - loss: 0.1812 - accuracy: 0.9446 - val_loss: 0.4700 - val_accuracy: 0.8763\n",
            "Epoch 34/100\n",
            "125/125 [==============================] - 34s 276ms/step - loss: 0.1762 - accuracy: 0.9461 - val_loss: 0.4744 - val_accuracy: 0.8761\n",
            "Epoch 35/100\n",
            "125/125 [==============================] - 37s 297ms/step - loss: 0.1710 - accuracy: 0.9480 - val_loss: 0.4808 - val_accuracy: 0.8759\n",
            "Epoch 36/100\n",
            "125/125 [==============================] - 37s 300ms/step - loss: 0.1662 - accuracy: 0.9491 - val_loss: 0.4812 - val_accuracy: 0.8763\n",
            "Epoch 37/100\n",
            "125/125 [==============================] - 38s 301ms/step - loss: 0.1612 - accuracy: 0.9506 - val_loss: 0.4889 - val_accuracy: 0.8756\n",
            "Epoch 38/100\n",
            "125/125 [==============================] - 36s 284ms/step - loss: 0.1565 - accuracy: 0.9521 - val_loss: 0.4960 - val_accuracy: 0.8754\n",
            "Epoch 39/100\n",
            "125/125 [==============================] - 35s 279ms/step - loss: 0.1519 - accuracy: 0.9533 - val_loss: 0.4983 - val_accuracy: 0.8755\n",
            "Epoch 40/100\n",
            "125/125 [==============================] - 35s 280ms/step - loss: 0.1483 - accuracy: 0.9544 - val_loss: 0.4969 - val_accuracy: 0.8761\n",
            "Epoch 41/100\n",
            "125/125 [==============================] - 34s 276ms/step - loss: 0.1439 - accuracy: 0.9557 - val_loss: 0.5019 - val_accuracy: 0.8758\n",
            "Epoch 42/100\n",
            "125/125 [==============================] - 35s 281ms/step - loss: 0.1404 - accuracy: 0.9569 - val_loss: 0.5092 - val_accuracy: 0.8746\n",
            "Epoch 43/100\n",
            "125/125 [==============================] - 35s 280ms/step - loss: 0.1362 - accuracy: 0.9578 - val_loss: 0.5149 - val_accuracy: 0.8749\n",
            "Epoch 44/100\n",
            "125/125 [==============================] - 35s 277ms/step - loss: 0.1328 - accuracy: 0.9592 - val_loss: 0.5138 - val_accuracy: 0.8759\n",
            "Epoch 45/100\n",
            "125/125 [==============================] - 35s 277ms/step - loss: 0.1294 - accuracy: 0.9599 - val_loss: 0.5241 - val_accuracy: 0.8752\n",
            "Epoch 46/100\n",
            "125/125 [==============================] - 34s 274ms/step - loss: 0.1259 - accuracy: 0.9610 - val_loss: 0.5261 - val_accuracy: 0.8751\n",
            "Epoch 47/100\n",
            "125/125 [==============================] - 34s 273ms/step - loss: 0.1227 - accuracy: 0.9620 - val_loss: 0.5345 - val_accuracy: 0.8747\n",
            "Epoch 48/100\n",
            "125/125 [==============================] - 35s 281ms/step - loss: 0.1200 - accuracy: 0.9628 - val_loss: 0.5381 - val_accuracy: 0.8753\n",
            "Epoch 49/100\n",
            "125/125 [==============================] - 35s 279ms/step - loss: 0.1165 - accuracy: 0.9638 - val_loss: 0.5386 - val_accuracy: 0.8750\n",
            "Epoch 50/100\n",
            "125/125 [==============================] - 35s 283ms/step - loss: 0.1137 - accuracy: 0.9646 - val_loss: 0.5486 - val_accuracy: 0.8738\n",
            "Epoch 51/100\n",
            "125/125 [==============================] - 35s 278ms/step - loss: 0.1114 - accuracy: 0.9652 - val_loss: 0.5507 - val_accuracy: 0.8755\n",
            "Epoch 52/100\n",
            "125/125 [==============================] - 35s 279ms/step - loss: 0.1087 - accuracy: 0.9661 - val_loss: 0.5567 - val_accuracy: 0.8750\n",
            "Epoch 53/100\n",
            "125/125 [==============================] - 34s 273ms/step - loss: 0.1062 - accuracy: 0.9667 - val_loss: 0.5644 - val_accuracy: 0.8736\n",
            "Epoch 54/100\n",
            "125/125 [==============================] - 34s 272ms/step - loss: 0.1037 - accuracy: 0.9675 - val_loss: 0.5660 - val_accuracy: 0.8745\n",
            "Epoch 55/100\n",
            "125/125 [==============================] - 35s 281ms/step - loss: 0.1012 - accuracy: 0.9681 - val_loss: 0.5675 - val_accuracy: 0.8735\n",
            "Epoch 56/100\n",
            "125/125 [==============================] - 35s 277ms/step - loss: 0.0991 - accuracy: 0.9690 - val_loss: 0.5782 - val_accuracy: 0.8747\n",
            "Epoch 57/100\n",
            "125/125 [==============================] - 35s 281ms/step - loss: 0.0968 - accuracy: 0.9695 - val_loss: 0.5745 - val_accuracy: 0.8748\n",
            "Epoch 58/100\n",
            "125/125 [==============================] - 36s 286ms/step - loss: 0.0949 - accuracy: 0.9700 - val_loss: 0.5831 - val_accuracy: 0.8749\n",
            "Epoch 59/100\n",
            "125/125 [==============================] - 35s 280ms/step - loss: 0.0929 - accuracy: 0.9708 - val_loss: 0.5887 - val_accuracy: 0.8742\n",
            "Epoch 60/100\n",
            "125/125 [==============================] - 35s 279ms/step - loss: 0.0907 - accuracy: 0.9711 - val_loss: 0.5919 - val_accuracy: 0.8739\n",
            "Epoch 61/100\n",
            "125/125 [==============================] - 35s 282ms/step - loss: 0.0889 - accuracy: 0.9716 - val_loss: 0.5993 - val_accuracy: 0.8736\n",
            "Epoch 62/100\n",
            "125/125 [==============================] - 35s 280ms/step - loss: 0.0876 - accuracy: 0.9720 - val_loss: 0.6021 - val_accuracy: 0.8737\n",
            "Epoch 63/100\n",
            "125/125 [==============================] - 35s 280ms/step - loss: 0.0853 - accuracy: 0.9726 - val_loss: 0.6088 - val_accuracy: 0.8734\n",
            "Epoch 64/100\n",
            "125/125 [==============================] - 34s 269ms/step - loss: 0.0836 - accuracy: 0.9734 - val_loss: 0.6147 - val_accuracy: 0.8729\n",
            "Epoch 65/100\n",
            "125/125 [==============================] - 34s 275ms/step - loss: 0.0820 - accuracy: 0.9734 - val_loss: 0.6177 - val_accuracy: 0.8736\n",
            "Epoch 66/100\n",
            "125/125 [==============================] - 34s 273ms/step - loss: 0.0806 - accuracy: 0.9741 - val_loss: 0.6251 - val_accuracy: 0.8731\n",
            "Epoch 67/100\n",
            "125/125 [==============================] - 35s 280ms/step - loss: 0.0788 - accuracy: 0.9745 - val_loss: 0.6249 - val_accuracy: 0.8737\n",
            "Epoch 68/100\n",
            "125/125 [==============================] - 35s 279ms/step - loss: 0.0772 - accuracy: 0.9750 - val_loss: 0.6305 - val_accuracy: 0.8732\n",
            "Epoch 69/100\n",
            "125/125 [==============================] - 34s 272ms/step - loss: 0.0757 - accuracy: 0.9753 - val_loss: 0.6276 - val_accuracy: 0.8734\n",
            "Epoch 70/100\n",
            "125/125 [==============================] - 35s 280ms/step - loss: 0.0743 - accuracy: 0.9758 - val_loss: 0.6418 - val_accuracy: 0.8727\n",
            "Epoch 71/100\n",
            "125/125 [==============================] - 35s 281ms/step - loss: 0.0732 - accuracy: 0.9760 - val_loss: 0.6475 - val_accuracy: 0.8727\n",
            "Epoch 72/100\n",
            "125/125 [==============================] - 36s 285ms/step - loss: 0.0716 - accuracy: 0.9765 - val_loss: 0.6481 - val_accuracy: 0.8727\n",
            "Epoch 73/100\n",
            "125/125 [==============================] - 35s 279ms/step - loss: 0.0703 - accuracy: 0.9767 - val_loss: 0.6610 - val_accuracy: 0.8725\n",
            "Epoch 74/100\n",
            "125/125 [==============================] - 35s 280ms/step - loss: 0.0692 - accuracy: 0.9771 - val_loss: 0.6547 - val_accuracy: 0.8738\n",
            "Epoch 75/100\n",
            "125/125 [==============================] - 35s 283ms/step - loss: 0.0679 - accuracy: 0.9775 - val_loss: 0.6630 - val_accuracy: 0.8726\n",
            "Epoch 76/100\n",
            "125/125 [==============================] - 34s 275ms/step - loss: 0.0668 - accuracy: 0.9780 - val_loss: 0.6691 - val_accuracy: 0.8729\n",
            "Epoch 77/100\n",
            "125/125 [==============================] - 35s 277ms/step - loss: 0.0654 - accuracy: 0.9783 - val_loss: 0.6729 - val_accuracy: 0.8722\n",
            "Epoch 78/100\n",
            "125/125 [==============================] - 35s 279ms/step - loss: 0.0646 - accuracy: 0.9784 - val_loss: 0.6716 - val_accuracy: 0.8726\n",
            "Epoch 79/100\n",
            "125/125 [==============================] - 34s 275ms/step - loss: 0.0634 - accuracy: 0.9788 - val_loss: 0.6731 - val_accuracy: 0.8727\n",
            "Epoch 80/100\n",
            "125/125 [==============================] - 35s 278ms/step - loss: 0.0622 - accuracy: 0.9793 - val_loss: 0.6821 - val_accuracy: 0.8726\n",
            "Epoch 81/100\n",
            "125/125 [==============================] - 35s 276ms/step - loss: 0.0615 - accuracy: 0.9792 - val_loss: 0.6836 - val_accuracy: 0.8725\n",
            "Epoch 82/100\n",
            "125/125 [==============================] - 35s 279ms/step - loss: 0.0600 - accuracy: 0.9797 - val_loss: 0.6899 - val_accuracy: 0.8727\n",
            "Epoch 83/100\n",
            "125/125 [==============================] - 35s 276ms/step - loss: 0.0592 - accuracy: 0.9799 - val_loss: 0.6912 - val_accuracy: 0.8732\n",
            "Epoch 84/100\n",
            "125/125 [==============================] - 34s 274ms/step - loss: 0.0584 - accuracy: 0.9802 - val_loss: 0.6902 - val_accuracy: 0.8732\n",
            "Epoch 85/100\n",
            "125/125 [==============================] - 35s 278ms/step - loss: 0.0577 - accuracy: 0.9803 - val_loss: 0.6926 - val_accuracy: 0.8726\n",
            "Epoch 86/100\n",
            "125/125 [==============================] - 34s 272ms/step - loss: 0.0563 - accuracy: 0.9807 - val_loss: 0.6999 - val_accuracy: 0.8725\n",
            "Epoch 87/100\n",
            "125/125 [==============================] - 34s 270ms/step - loss: 0.0560 - accuracy: 0.9809 - val_loss: 0.7028 - val_accuracy: 0.8724\n",
            "Epoch 88/100\n",
            "125/125 [==============================] - 34s 273ms/step - loss: 0.0549 - accuracy: 0.9811 - val_loss: 0.7116 - val_accuracy: 0.8717\n",
            "Epoch 89/100\n",
            "125/125 [==============================] - 34s 275ms/step - loss: 0.0540 - accuracy: 0.9813 - val_loss: 0.7132 - val_accuracy: 0.8718\n",
            "Epoch 90/100\n",
            "125/125 [==============================] - 34s 270ms/step - loss: 0.0534 - accuracy: 0.9815 - val_loss: 0.7129 - val_accuracy: 0.8724\n",
            "Epoch 91/100\n",
            "125/125 [==============================] - 33s 266ms/step - loss: 0.0527 - accuracy: 0.9818 - val_loss: 0.7143 - val_accuracy: 0.8722\n",
            "Epoch 92/100\n",
            "125/125 [==============================] - 34s 271ms/step - loss: 0.0520 - accuracy: 0.9819 - val_loss: 0.7244 - val_accuracy: 0.8727\n",
            "Epoch 93/100\n",
            "125/125 [==============================] - 34s 269ms/step - loss: 0.0511 - accuracy: 0.9821 - val_loss: 0.7234 - val_accuracy: 0.8720\n",
            "Epoch 94/100\n",
            "125/125 [==============================] - 34s 268ms/step - loss: 0.0508 - accuracy: 0.9823 - val_loss: 0.7233 - val_accuracy: 0.8725\n",
            "Epoch 95/100\n",
            "125/125 [==============================] - 33s 264ms/step - loss: 0.0496 - accuracy: 0.9826 - val_loss: 0.7273 - val_accuracy: 0.8712\n",
            "Epoch 96/100\n",
            "125/125 [==============================] - 34s 273ms/step - loss: 0.0493 - accuracy: 0.9829 - val_loss: 0.7337 - val_accuracy: 0.8719\n",
            "Epoch 97/100\n",
            "125/125 [==============================] - 33s 267ms/step - loss: 0.0486 - accuracy: 0.9829 - val_loss: 0.7392 - val_accuracy: 0.8719\n",
            "Epoch 98/100\n",
            "125/125 [==============================] - 33s 267ms/step - loss: 0.0480 - accuracy: 0.9829 - val_loss: 0.7404 - val_accuracy: 0.8715\n",
            "Epoch 99/100\n",
            "125/125 [==============================] - 34s 272ms/step - loss: 0.0473 - accuracy: 0.9831 - val_loss: 0.7446 - val_accuracy: 0.8718\n",
            "Epoch 100/100\n",
            "125/125 [==============================] - 34s 269ms/step - loss: 0.0470 - accuracy: 0.9833 - val_loss: 0.7407 - val_accuracy: 0.8718\n"
          ]
        },
        {
          "output_type": "execute_result",
          "data": {
            "text/plain": [
              "<keras.callbacks.History at 0x7fdfae8d32d0>"
            ]
          },
          "metadata": {},
          "execution_count": 6
        }
      ]
    },
    {
      "cell_type": "code",
      "source": [
        "model.save(\"s2s\")"
      ],
      "metadata": {
        "colab": {
          "base_uri": "https://localhost:8080/"
        },
        "id": "4I1lniYaKO4m",
        "outputId": "7e70d170-f692-4b22-cda3-003ba3d04766"
      },
      "execution_count": 7,
      "outputs": [
        {
          "output_type": "stream",
          "name": "stderr",
          "text": [
            "WARNING:absl:Found untraced functions such as lstm_cell_layer_call_fn, lstm_cell_layer_call_and_return_conditional_losses, lstm_cell_1_layer_call_fn, lstm_cell_1_layer_call_and_return_conditional_losses while saving (showing 4 of 4). These functions will not be directly callable after loading.\n",
            "WARNING:absl:<keras.layers.recurrent.LSTMCell object at 0x7fdfb27ec2d0> has the same name 'LSTMCell' as a built-in Keras object. Consider renaming <class 'keras.layers.recurrent.LSTMCell'> to avoid naming conflicts when loading with `tf.keras.models.load_model`. If renaming is not possible, pass the object in the `custom_objects` parameter of the load function.\n",
            "WARNING:absl:<keras.layers.recurrent.LSTMCell object at 0x7fdfaea24710> has the same name 'LSTMCell' as a built-in Keras object. Consider renaming <class 'keras.layers.recurrent.LSTMCell'> to avoid naming conflicts when loading with `tf.keras.models.load_model`. If renaming is not possible, pass the object in the `custom_objects` parameter of the load function.\n"
          ]
        }
      ]
    },
    {
      "cell_type": "markdown",
      "source": [
        "## 07. 추론(샘플링)"
      ],
      "metadata": {
        "id": "YXCH5bs4KAdL"
      }
    },
    {
      "cell_type": "code",
      "source": [
        "model = keras.models.load_model(\"s2s\")\n",
        "\n",
        "encoder_inputs = model.input[0]  # input_1\n",
        "encoder_outputs, state_h_enc, state_c_enc = model.layers[2].output  # lstm_1\n",
        "encoder_states = [state_h_enc, state_c_enc]\n",
        "encoder_model = keras.Model(encoder_inputs, encoder_states)\n",
        "\n",
        "decoder_inputs = model.input[1]  # input_2\n",
        "decoder_state_input_h = keras.Input(shape=(latent_dim,))\n",
        "decoder_state_input_c = keras.Input(shape=(latent_dim,))\n",
        "decoder_states_inputs = [decoder_state_input_h, decoder_state_input_c]\n",
        "decoder_lstm = model.layers[3]\n",
        "decoder_outputs, state_h_dec, state_c_dec = decoder_lstm(\n",
        "    decoder_inputs, initial_state=decoder_states_inputs\n",
        ")\n",
        "decoder_states = [state_h_dec, state_c_dec]\n",
        "decoder_dense = model.layers[4]\n",
        "decoder_outputs = decoder_dense(decoder_outputs)\n",
        "decoder_model = keras.Model(\n",
        "    [decoder_inputs] + decoder_states_inputs, [decoder_outputs] + decoder_states\n",
        ")\n",
        "\n",
        "reverse_input_char_index = dict((i, char) for char, i in input_token_index.items())\n",
        "reverse_target_char_index = dict((i, char) for char, i in target_token_index.items())\n",
        "\n",
        "\n",
        "def decode_sequence(input_seq):\n",
        "    states_value = encoder_model.predict(input_seq)\n",
        "\n",
        "    target_seq = np.zeros((1, 1, num_decoder_tokens))\n",
        "    target_seq[0, 0, target_token_index[\"\\t\"]] = 1.0\n",
        "\n",
        "    stop_condition = False\n",
        "    decoded_sentence = \"\"\n",
        "    while not stop_condition:\n",
        "        output_tokens, h, c = decoder_model.predict([target_seq] + states_value)\n",
        "\n",
        "        sampled_token_index = np.argmax(output_tokens[0, -1, :])\n",
        "        sampled_char = reverse_target_char_index[sampled_token_index]\n",
        "        decoded_sentence += sampled_char\n",
        "\n",
        "        if sampled_char == \"\\n\" or len(decoded_sentence) > max_decoder_seq_length:\n",
        "            stop_condition = True\n",
        "\n",
        "        target_seq = np.zeros((1, 1, num_decoder_tokens))\n",
        "        target_seq[0, 0, sampled_token_index] = 1.0\n",
        "\n",
        "        states_value = [h, c]\n",
        "    return decoded_sentence"
      ],
      "metadata": {
        "id": "DA3K5GZiKH7o"
      },
      "execution_count": 8,
      "outputs": []
    },
    {
      "cell_type": "code",
      "source": [
        "for seq_index in range(20):\n",
        "    input_seq = encoder_input_data[seq_index : seq_index + 1]\n",
        "    decoded_sentence = decode_sequence(input_seq)\n",
        "    print(\"-\")\n",
        "    print(\"Input sentence:\", input_texts[seq_index])\n",
        "    print(\"Decoded sentence:\", decoded_sentence)"
      ],
      "metadata": {
        "colab": {
          "base_uri": "https://localhost:8080/"
        },
        "id": "7O8sQCCFKVar",
        "outputId": "600d853a-5e77-461a-bac7-233b063a2f13"
      },
      "execution_count": 9,
      "outputs": [
        {
          "output_type": "stream",
          "name": "stdout",
          "text": [
            "-\n",
            "Input sentence: Go.\n",
            "Decoded sentence: Va !\n",
            "\n",
            "-\n",
            "Input sentence: Go.\n",
            "Decoded sentence: Va !\n",
            "\n",
            "-\n",
            "Input sentence: Go.\n",
            "Decoded sentence: Va !\n",
            "\n",
            "-\n",
            "Input sentence: Hi.\n",
            "Decoded sentence: Salut.\n",
            "\n",
            "-\n",
            "Input sentence: Hi.\n",
            "Decoded sentence: Salut.\n",
            "\n",
            "-\n",
            "Input sentence: Run!\n",
            "Decoded sentence: Cours !\n",
            "\n",
            "-\n",
            "Input sentence: Run!\n",
            "Decoded sentence: Cours !\n",
            "\n",
            "-\n",
            "Input sentence: Run!\n",
            "Decoded sentence: Cours !\n",
            "\n",
            "-\n",
            "Input sentence: Run!\n",
            "Decoded sentence: Cours !\n",
            "\n",
            "-\n",
            "Input sentence: Run!\n",
            "Decoded sentence: Cours !\n",
            "\n",
            "-\n",
            "Input sentence: Run!\n",
            "Decoded sentence: Cours !\n",
            "\n",
            "-\n",
            "Input sentence: Run!\n",
            "Decoded sentence: Cours !\n",
            "\n",
            "-\n",
            "Input sentence: Run!\n",
            "Decoded sentence: Cours !\n",
            "\n",
            "-\n",
            "Input sentence: Run.\n",
            "Decoded sentence: Cours !\n",
            "\n",
            "-\n",
            "Input sentence: Run.\n",
            "Decoded sentence: Cours !\n",
            "\n",
            "-\n",
            "Input sentence: Run.\n",
            "Decoded sentence: Cours !\n",
            "\n",
            "-\n",
            "Input sentence: Run.\n",
            "Decoded sentence: Cours !\n",
            "\n",
            "-\n",
            "Input sentence: Run.\n",
            "Decoded sentence: Cours !\n",
            "\n",
            "-\n",
            "Input sentence: Run.\n",
            "Decoded sentence: Cours !\n",
            "\n",
            "-\n",
            "Input sentence: Run.\n",
            "Decoded sentence: Cours !\n",
            "\n"
          ]
        }
      ]
    }
  ]
}