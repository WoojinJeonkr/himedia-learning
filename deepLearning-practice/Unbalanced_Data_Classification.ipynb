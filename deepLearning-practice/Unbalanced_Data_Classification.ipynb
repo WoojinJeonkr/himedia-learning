{
  "nbformat": 4,
  "nbformat_minor": 0,
  "metadata": {
    "colab": {
      "name": "Unbalanced_Data_Classification.ipynb",
      "provenance": [],
      "collapsed_sections": [],
      "authorship_tag": "ABX9TyNYczAGxquaFk1B7dW3X/fB",
      "include_colab_link": true
    },
    "kernelspec": {
      "name": "python3",
      "display_name": "Python 3"
    },
    "language_info": {
      "name": "python"
    }
  },
  "cells": [
    {
      "cell_type": "markdown",
      "metadata": {
        "id": "view-in-github",
        "colab_type": "text"
      },
      "source": [
        "<a href=\"https://colab.research.google.com/github/WoojinJeonkr/DeepLearning/blob/main/Unbalanced_Data_Classification.ipynb\" target=\"_parent\"><img src=\"https://colab.research.google.com/assets/colab-badge.svg\" alt=\"Open In Colab\"/></a>"
      ]
    },
    {
      "cell_type": "markdown",
      "source": [
        "# 불균형 데이터 분류\n",
        "- 한 클래스의 예시의 수가 다른 클래스보다 훨씬 많은 매우 불균형적인 데이터세트 분류하기\n",
        "\n"
      ],
      "metadata": {
        "id": "euC0alUIrLZT"
      }
    },
    {
      "cell_type": "markdown",
      "source": [
        "## 01. 라이브러리 불러오기"
      ],
      "metadata": {
        "id": "mODZYYrwrQuH"
      }
    },
    {
      "cell_type": "code",
      "execution_count": 1,
      "metadata": {
        "id": "WsJCPCQjrFme"
      },
      "outputs": [],
      "source": [
        "import tensorflow as tf\n",
        "from tensorflow import keras\n",
        "\n",
        "import os\n",
        "import tempfile\n",
        "\n",
        "import matplotlib as mpl\n",
        "import matplotlib.pyplot as plt\n",
        "import numpy as np\n",
        "import pandas as pd\n",
        "import seaborn as sns\n",
        "\n",
        "import sklearn\n",
        "from sklearn.metrics import confusion_matrix\n",
        "from sklearn.model_selection import train_test_split\n",
        "from sklearn.preprocessing import StandardScaler"
      ]
    },
    {
      "cell_type": "markdown",
      "source": [
        "## 데이터 처리 및 탐색\n",
        "- 사용 데이터: Kaggle 신용 카드 부정 행위 데이터 세트"
      ],
      "metadata": {
        "id": "-iPSXAPMr5qi"
      }
    },
    {
      "cell_type": "code",
      "source": [
        "file = tf.keras.utils\n",
        "raw_df = pd.read_csv('https://storage.googleapis.com/download.tensorflow.org/data/creditcard.csv')\n",
        "raw_df.head()"
      ],
      "metadata": {
        "colab": {
          "base_uri": "https://localhost:8080/",
          "height": 299
        },
        "id": "3u6-tcpVrXX4",
        "outputId": "5388e4bd-4a17-4c0a-fb89-7c13d6a26f1a"
      },
      "execution_count": 2,
      "outputs": [
        {
          "output_type": "execute_result",
          "data": {
            "text/plain": [
              "   Time        V1        V2        V3        V4        V5        V6        V7  \\\n",
              "0   0.0 -1.359807 -0.072781  2.536347  1.378155 -0.338321  0.462388  0.239599   \n",
              "1   0.0  1.191857  0.266151  0.166480  0.448154  0.060018 -0.082361 -0.078803   \n",
              "2   1.0 -1.358354 -1.340163  1.773209  0.379780 -0.503198  1.800499  0.791461   \n",
              "3   1.0 -0.966272 -0.185226  1.792993 -0.863291 -0.010309  1.247203  0.237609   \n",
              "4   2.0 -1.158233  0.877737  1.548718  0.403034 -0.407193  0.095921  0.592941   \n",
              "\n",
              "         V8        V9  ...       V21       V22       V23       V24       V25  \\\n",
              "0  0.098698  0.363787  ... -0.018307  0.277838 -0.110474  0.066928  0.128539   \n",
              "1  0.085102 -0.255425  ... -0.225775 -0.638672  0.101288 -0.339846  0.167170   \n",
              "2  0.247676 -1.514654  ...  0.247998  0.771679  0.909412 -0.689281 -0.327642   \n",
              "3  0.377436 -1.387024  ... -0.108300  0.005274 -0.190321 -1.175575  0.647376   \n",
              "4 -0.270533  0.817739  ... -0.009431  0.798278 -0.137458  0.141267 -0.206010   \n",
              "\n",
              "        V26       V27       V28  Amount  Class  \n",
              "0 -0.189115  0.133558 -0.021053  149.62      0  \n",
              "1  0.125895 -0.008983  0.014724    2.69      0  \n",
              "2 -0.139097 -0.055353 -0.059752  378.66      0  \n",
              "3 -0.221929  0.062723  0.061458  123.50      0  \n",
              "4  0.502292  0.219422  0.215153   69.99      0  \n",
              "\n",
              "[5 rows x 31 columns]"
            ],
            "text/html": [
              "\n",
              "  <div id=\"df-c0523293-50b1-4e6f-b4f0-9f2fc204f46b\">\n",
              "    <div class=\"colab-df-container\">\n",
              "      <div>\n",
              "<style scoped>\n",
              "    .dataframe tbody tr th:only-of-type {\n",
              "        vertical-align: middle;\n",
              "    }\n",
              "\n",
              "    .dataframe tbody tr th {\n",
              "        vertical-align: top;\n",
              "    }\n",
              "\n",
              "    .dataframe thead th {\n",
              "        text-align: right;\n",
              "    }\n",
              "</style>\n",
              "<table border=\"1\" class=\"dataframe\">\n",
              "  <thead>\n",
              "    <tr style=\"text-align: right;\">\n",
              "      <th></th>\n",
              "      <th>Time</th>\n",
              "      <th>V1</th>\n",
              "      <th>V2</th>\n",
              "      <th>V3</th>\n",
              "      <th>V4</th>\n",
              "      <th>V5</th>\n",
              "      <th>V6</th>\n",
              "      <th>V7</th>\n",
              "      <th>V8</th>\n",
              "      <th>V9</th>\n",
              "      <th>...</th>\n",
              "      <th>V21</th>\n",
              "      <th>V22</th>\n",
              "      <th>V23</th>\n",
              "      <th>V24</th>\n",
              "      <th>V25</th>\n",
              "      <th>V26</th>\n",
              "      <th>V27</th>\n",
              "      <th>V28</th>\n",
              "      <th>Amount</th>\n",
              "      <th>Class</th>\n",
              "    </tr>\n",
              "  </thead>\n",
              "  <tbody>\n",
              "    <tr>\n",
              "      <th>0</th>\n",
              "      <td>0.0</td>\n",
              "      <td>-1.359807</td>\n",
              "      <td>-0.072781</td>\n",
              "      <td>2.536347</td>\n",
              "      <td>1.378155</td>\n",
              "      <td>-0.338321</td>\n",
              "      <td>0.462388</td>\n",
              "      <td>0.239599</td>\n",
              "      <td>0.098698</td>\n",
              "      <td>0.363787</td>\n",
              "      <td>...</td>\n",
              "      <td>-0.018307</td>\n",
              "      <td>0.277838</td>\n",
              "      <td>-0.110474</td>\n",
              "      <td>0.066928</td>\n",
              "      <td>0.128539</td>\n",
              "      <td>-0.189115</td>\n",
              "      <td>0.133558</td>\n",
              "      <td>-0.021053</td>\n",
              "      <td>149.62</td>\n",
              "      <td>0</td>\n",
              "    </tr>\n",
              "    <tr>\n",
              "      <th>1</th>\n",
              "      <td>0.0</td>\n",
              "      <td>1.191857</td>\n",
              "      <td>0.266151</td>\n",
              "      <td>0.166480</td>\n",
              "      <td>0.448154</td>\n",
              "      <td>0.060018</td>\n",
              "      <td>-0.082361</td>\n",
              "      <td>-0.078803</td>\n",
              "      <td>0.085102</td>\n",
              "      <td>-0.255425</td>\n",
              "      <td>...</td>\n",
              "      <td>-0.225775</td>\n",
              "      <td>-0.638672</td>\n",
              "      <td>0.101288</td>\n",
              "      <td>-0.339846</td>\n",
              "      <td>0.167170</td>\n",
              "      <td>0.125895</td>\n",
              "      <td>-0.008983</td>\n",
              "      <td>0.014724</td>\n",
              "      <td>2.69</td>\n",
              "      <td>0</td>\n",
              "    </tr>\n",
              "    <tr>\n",
              "      <th>2</th>\n",
              "      <td>1.0</td>\n",
              "      <td>-1.358354</td>\n",
              "      <td>-1.340163</td>\n",
              "      <td>1.773209</td>\n",
              "      <td>0.379780</td>\n",
              "      <td>-0.503198</td>\n",
              "      <td>1.800499</td>\n",
              "      <td>0.791461</td>\n",
              "      <td>0.247676</td>\n",
              "      <td>-1.514654</td>\n",
              "      <td>...</td>\n",
              "      <td>0.247998</td>\n",
              "      <td>0.771679</td>\n",
              "      <td>0.909412</td>\n",
              "      <td>-0.689281</td>\n",
              "      <td>-0.327642</td>\n",
              "      <td>-0.139097</td>\n",
              "      <td>-0.055353</td>\n",
              "      <td>-0.059752</td>\n",
              "      <td>378.66</td>\n",
              "      <td>0</td>\n",
              "    </tr>\n",
              "    <tr>\n",
              "      <th>3</th>\n",
              "      <td>1.0</td>\n",
              "      <td>-0.966272</td>\n",
              "      <td>-0.185226</td>\n",
              "      <td>1.792993</td>\n",
              "      <td>-0.863291</td>\n",
              "      <td>-0.010309</td>\n",
              "      <td>1.247203</td>\n",
              "      <td>0.237609</td>\n",
              "      <td>0.377436</td>\n",
              "      <td>-1.387024</td>\n",
              "      <td>...</td>\n",
              "      <td>-0.108300</td>\n",
              "      <td>0.005274</td>\n",
              "      <td>-0.190321</td>\n",
              "      <td>-1.175575</td>\n",
              "      <td>0.647376</td>\n",
              "      <td>-0.221929</td>\n",
              "      <td>0.062723</td>\n",
              "      <td>0.061458</td>\n",
              "      <td>123.50</td>\n",
              "      <td>0</td>\n",
              "    </tr>\n",
              "    <tr>\n",
              "      <th>4</th>\n",
              "      <td>2.0</td>\n",
              "      <td>-1.158233</td>\n",
              "      <td>0.877737</td>\n",
              "      <td>1.548718</td>\n",
              "      <td>0.403034</td>\n",
              "      <td>-0.407193</td>\n",
              "      <td>0.095921</td>\n",
              "      <td>0.592941</td>\n",
              "      <td>-0.270533</td>\n",
              "      <td>0.817739</td>\n",
              "      <td>...</td>\n",
              "      <td>-0.009431</td>\n",
              "      <td>0.798278</td>\n",
              "      <td>-0.137458</td>\n",
              "      <td>0.141267</td>\n",
              "      <td>-0.206010</td>\n",
              "      <td>0.502292</td>\n",
              "      <td>0.219422</td>\n",
              "      <td>0.215153</td>\n",
              "      <td>69.99</td>\n",
              "      <td>0</td>\n",
              "    </tr>\n",
              "  </tbody>\n",
              "</table>\n",
              "<p>5 rows × 31 columns</p>\n",
              "</div>\n",
              "      <button class=\"colab-df-convert\" onclick=\"convertToInteractive('df-c0523293-50b1-4e6f-b4f0-9f2fc204f46b')\"\n",
              "              title=\"Convert this dataframe to an interactive table.\"\n",
              "              style=\"display:none;\">\n",
              "        \n",
              "  <svg xmlns=\"http://www.w3.org/2000/svg\" height=\"24px\"viewBox=\"0 0 24 24\"\n",
              "       width=\"24px\">\n",
              "    <path d=\"M0 0h24v24H0V0z\" fill=\"none\"/>\n",
              "    <path d=\"M18.56 5.44l.94 2.06.94-2.06 2.06-.94-2.06-.94-.94-2.06-.94 2.06-2.06.94zm-11 1L8.5 8.5l.94-2.06 2.06-.94-2.06-.94L8.5 2.5l-.94 2.06-2.06.94zm10 10l.94 2.06.94-2.06 2.06-.94-2.06-.94-.94-2.06-.94 2.06-2.06.94z\"/><path d=\"M17.41 7.96l-1.37-1.37c-.4-.4-.92-.59-1.43-.59-.52 0-1.04.2-1.43.59L10.3 9.45l-7.72 7.72c-.78.78-.78 2.05 0 2.83L4 21.41c.39.39.9.59 1.41.59.51 0 1.02-.2 1.41-.59l7.78-7.78 2.81-2.81c.8-.78.8-2.07 0-2.86zM5.41 20L4 18.59l7.72-7.72 1.47 1.35L5.41 20z\"/>\n",
              "  </svg>\n",
              "      </button>\n",
              "      \n",
              "  <style>\n",
              "    .colab-df-container {\n",
              "      display:flex;\n",
              "      flex-wrap:wrap;\n",
              "      gap: 12px;\n",
              "    }\n",
              "\n",
              "    .colab-df-convert {\n",
              "      background-color: #E8F0FE;\n",
              "      border: none;\n",
              "      border-radius: 50%;\n",
              "      cursor: pointer;\n",
              "      display: none;\n",
              "      fill: #1967D2;\n",
              "      height: 32px;\n",
              "      padding: 0 0 0 0;\n",
              "      width: 32px;\n",
              "    }\n",
              "\n",
              "    .colab-df-convert:hover {\n",
              "      background-color: #E2EBFA;\n",
              "      box-shadow: 0px 1px 2px rgba(60, 64, 67, 0.3), 0px 1px 3px 1px rgba(60, 64, 67, 0.15);\n",
              "      fill: #174EA6;\n",
              "    }\n",
              "\n",
              "    [theme=dark] .colab-df-convert {\n",
              "      background-color: #3B4455;\n",
              "      fill: #D2E3FC;\n",
              "    }\n",
              "\n",
              "    [theme=dark] .colab-df-convert:hover {\n",
              "      background-color: #434B5C;\n",
              "      box-shadow: 0px 1px 3px 1px rgba(0, 0, 0, 0.15);\n",
              "      filter: drop-shadow(0px 1px 2px rgba(0, 0, 0, 0.3));\n",
              "      fill: #FFFFFF;\n",
              "    }\n",
              "  </style>\n",
              "\n",
              "      <script>\n",
              "        const buttonEl =\n",
              "          document.querySelector('#df-c0523293-50b1-4e6f-b4f0-9f2fc204f46b button.colab-df-convert');\n",
              "        buttonEl.style.display =\n",
              "          google.colab.kernel.accessAllowed ? 'block' : 'none';\n",
              "\n",
              "        async function convertToInteractive(key) {\n",
              "          const element = document.querySelector('#df-c0523293-50b1-4e6f-b4f0-9f2fc204f46b');\n",
              "          const dataTable =\n",
              "            await google.colab.kernel.invokeFunction('convertToInteractive',\n",
              "                                                     [key], {});\n",
              "          if (!dataTable) return;\n",
              "\n",
              "          const docLinkHtml = 'Like what you see? Visit the ' +\n",
              "            '<a target=\"_blank\" href=https://colab.research.google.com/notebooks/data_table.ipynb>data table notebook</a>'\n",
              "            + ' to learn more about interactive tables.';\n",
              "          element.innerHTML = '';\n",
              "          dataTable['output_type'] = 'display_data';\n",
              "          await google.colab.output.renderOutput(dataTable, element);\n",
              "          const docLink = document.createElement('div');\n",
              "          docLink.innerHTML = docLinkHtml;\n",
              "          element.appendChild(docLink);\n",
              "        }\n",
              "      </script>\n",
              "    </div>\n",
              "  </div>\n",
              "  "
            ]
          },
          "metadata": {},
          "execution_count": 2
        }
      ]
    },
    {
      "cell_type": "code",
      "source": [
        "raw_df[['Time', 'V1', 'V2', 'V3', 'V4', 'V5', 'V26', 'V27', 'V28', 'Amount', 'Class']].describe()"
      ],
      "metadata": {
        "colab": {
          "base_uri": "https://localhost:8080/",
          "height": 300
        },
        "id": "DeRUg5TNsBV0",
        "outputId": "95b7ead9-50d6-4613-986e-050b46e22702"
      },
      "execution_count": 3,
      "outputs": [
        {
          "output_type": "execute_result",
          "data": {
            "text/plain": [
              "                Time            V1            V2            V3            V4  \\\n",
              "count  284807.000000  2.848070e+05  2.848070e+05  2.848070e+05  2.848070e+05   \n",
              "mean    94813.859575  1.168375e-15  3.416908e-16 -1.379537e-15  2.074095e-15   \n",
              "std     47488.145955  1.958696e+00  1.651309e+00  1.516255e+00  1.415869e+00   \n",
              "min         0.000000 -5.640751e+01 -7.271573e+01 -4.832559e+01 -5.683171e+00   \n",
              "25%     54201.500000 -9.203734e-01 -5.985499e-01 -8.903648e-01 -8.486401e-01   \n",
              "50%     84692.000000  1.810880e-02  6.548556e-02  1.798463e-01 -1.984653e-02   \n",
              "75%    139320.500000  1.315642e+00  8.037239e-01  1.027196e+00  7.433413e-01   \n",
              "max    172792.000000  2.454930e+00  2.205773e+01  9.382558e+00  1.687534e+01   \n",
              "\n",
              "                 V5           V26           V27           V28         Amount  \\\n",
              "count  2.848070e+05  2.848070e+05  2.848070e+05  2.848070e+05  284807.000000   \n",
              "mean   9.604066e-16  1.683437e-15 -3.660091e-16 -1.227390e-16      88.349619   \n",
              "std    1.380247e+00  4.822270e-01  4.036325e-01  3.300833e-01     250.120109   \n",
              "min   -1.137433e+02 -2.604551e+00 -2.256568e+01 -1.543008e+01       0.000000   \n",
              "25%   -6.915971e-01 -3.269839e-01 -7.083953e-02 -5.295979e-02       5.600000   \n",
              "50%   -5.433583e-02 -5.213911e-02  1.342146e-03  1.124383e-02      22.000000   \n",
              "75%    6.119264e-01  2.409522e-01  9.104512e-02  7.827995e-02      77.165000   \n",
              "max    3.480167e+01  3.517346e+00  3.161220e+01  3.384781e+01   25691.160000   \n",
              "\n",
              "               Class  \n",
              "count  284807.000000  \n",
              "mean        0.001727  \n",
              "std         0.041527  \n",
              "min         0.000000  \n",
              "25%         0.000000  \n",
              "50%         0.000000  \n",
              "75%         0.000000  \n",
              "max         1.000000  "
            ],
            "text/html": [
              "\n",
              "  <div id=\"df-691014e4-8e33-4600-9faa-e075721135b9\">\n",
              "    <div class=\"colab-df-container\">\n",
              "      <div>\n",
              "<style scoped>\n",
              "    .dataframe tbody tr th:only-of-type {\n",
              "        vertical-align: middle;\n",
              "    }\n",
              "\n",
              "    .dataframe tbody tr th {\n",
              "        vertical-align: top;\n",
              "    }\n",
              "\n",
              "    .dataframe thead th {\n",
              "        text-align: right;\n",
              "    }\n",
              "</style>\n",
              "<table border=\"1\" class=\"dataframe\">\n",
              "  <thead>\n",
              "    <tr style=\"text-align: right;\">\n",
              "      <th></th>\n",
              "      <th>Time</th>\n",
              "      <th>V1</th>\n",
              "      <th>V2</th>\n",
              "      <th>V3</th>\n",
              "      <th>V4</th>\n",
              "      <th>V5</th>\n",
              "      <th>V26</th>\n",
              "      <th>V27</th>\n",
              "      <th>V28</th>\n",
              "      <th>Amount</th>\n",
              "      <th>Class</th>\n",
              "    </tr>\n",
              "  </thead>\n",
              "  <tbody>\n",
              "    <tr>\n",
              "      <th>count</th>\n",
              "      <td>284807.000000</td>\n",
              "      <td>2.848070e+05</td>\n",
              "      <td>2.848070e+05</td>\n",
              "      <td>2.848070e+05</td>\n",
              "      <td>2.848070e+05</td>\n",
              "      <td>2.848070e+05</td>\n",
              "      <td>2.848070e+05</td>\n",
              "      <td>2.848070e+05</td>\n",
              "      <td>2.848070e+05</td>\n",
              "      <td>284807.000000</td>\n",
              "      <td>284807.000000</td>\n",
              "    </tr>\n",
              "    <tr>\n",
              "      <th>mean</th>\n",
              "      <td>94813.859575</td>\n",
              "      <td>1.168375e-15</td>\n",
              "      <td>3.416908e-16</td>\n",
              "      <td>-1.379537e-15</td>\n",
              "      <td>2.074095e-15</td>\n",
              "      <td>9.604066e-16</td>\n",
              "      <td>1.683437e-15</td>\n",
              "      <td>-3.660091e-16</td>\n",
              "      <td>-1.227390e-16</td>\n",
              "      <td>88.349619</td>\n",
              "      <td>0.001727</td>\n",
              "    </tr>\n",
              "    <tr>\n",
              "      <th>std</th>\n",
              "      <td>47488.145955</td>\n",
              "      <td>1.958696e+00</td>\n",
              "      <td>1.651309e+00</td>\n",
              "      <td>1.516255e+00</td>\n",
              "      <td>1.415869e+00</td>\n",
              "      <td>1.380247e+00</td>\n",
              "      <td>4.822270e-01</td>\n",
              "      <td>4.036325e-01</td>\n",
              "      <td>3.300833e-01</td>\n",
              "      <td>250.120109</td>\n",
              "      <td>0.041527</td>\n",
              "    </tr>\n",
              "    <tr>\n",
              "      <th>min</th>\n",
              "      <td>0.000000</td>\n",
              "      <td>-5.640751e+01</td>\n",
              "      <td>-7.271573e+01</td>\n",
              "      <td>-4.832559e+01</td>\n",
              "      <td>-5.683171e+00</td>\n",
              "      <td>-1.137433e+02</td>\n",
              "      <td>-2.604551e+00</td>\n",
              "      <td>-2.256568e+01</td>\n",
              "      <td>-1.543008e+01</td>\n",
              "      <td>0.000000</td>\n",
              "      <td>0.000000</td>\n",
              "    </tr>\n",
              "    <tr>\n",
              "      <th>25%</th>\n",
              "      <td>54201.500000</td>\n",
              "      <td>-9.203734e-01</td>\n",
              "      <td>-5.985499e-01</td>\n",
              "      <td>-8.903648e-01</td>\n",
              "      <td>-8.486401e-01</td>\n",
              "      <td>-6.915971e-01</td>\n",
              "      <td>-3.269839e-01</td>\n",
              "      <td>-7.083953e-02</td>\n",
              "      <td>-5.295979e-02</td>\n",
              "      <td>5.600000</td>\n",
              "      <td>0.000000</td>\n",
              "    </tr>\n",
              "    <tr>\n",
              "      <th>50%</th>\n",
              "      <td>84692.000000</td>\n",
              "      <td>1.810880e-02</td>\n",
              "      <td>6.548556e-02</td>\n",
              "      <td>1.798463e-01</td>\n",
              "      <td>-1.984653e-02</td>\n",
              "      <td>-5.433583e-02</td>\n",
              "      <td>-5.213911e-02</td>\n",
              "      <td>1.342146e-03</td>\n",
              "      <td>1.124383e-02</td>\n",
              "      <td>22.000000</td>\n",
              "      <td>0.000000</td>\n",
              "    </tr>\n",
              "    <tr>\n",
              "      <th>75%</th>\n",
              "      <td>139320.500000</td>\n",
              "      <td>1.315642e+00</td>\n",
              "      <td>8.037239e-01</td>\n",
              "      <td>1.027196e+00</td>\n",
              "      <td>7.433413e-01</td>\n",
              "      <td>6.119264e-01</td>\n",
              "      <td>2.409522e-01</td>\n",
              "      <td>9.104512e-02</td>\n",
              "      <td>7.827995e-02</td>\n",
              "      <td>77.165000</td>\n",
              "      <td>0.000000</td>\n",
              "    </tr>\n",
              "    <tr>\n",
              "      <th>max</th>\n",
              "      <td>172792.000000</td>\n",
              "      <td>2.454930e+00</td>\n",
              "      <td>2.205773e+01</td>\n",
              "      <td>9.382558e+00</td>\n",
              "      <td>1.687534e+01</td>\n",
              "      <td>3.480167e+01</td>\n",
              "      <td>3.517346e+00</td>\n",
              "      <td>3.161220e+01</td>\n",
              "      <td>3.384781e+01</td>\n",
              "      <td>25691.160000</td>\n",
              "      <td>1.000000</td>\n",
              "    </tr>\n",
              "  </tbody>\n",
              "</table>\n",
              "</div>\n",
              "      <button class=\"colab-df-convert\" onclick=\"convertToInteractive('df-691014e4-8e33-4600-9faa-e075721135b9')\"\n",
              "              title=\"Convert this dataframe to an interactive table.\"\n",
              "              style=\"display:none;\">\n",
              "        \n",
              "  <svg xmlns=\"http://www.w3.org/2000/svg\" height=\"24px\"viewBox=\"0 0 24 24\"\n",
              "       width=\"24px\">\n",
              "    <path d=\"M0 0h24v24H0V0z\" fill=\"none\"/>\n",
              "    <path d=\"M18.56 5.44l.94 2.06.94-2.06 2.06-.94-2.06-.94-.94-2.06-.94 2.06-2.06.94zm-11 1L8.5 8.5l.94-2.06 2.06-.94-2.06-.94L8.5 2.5l-.94 2.06-2.06.94zm10 10l.94 2.06.94-2.06 2.06-.94-2.06-.94-.94-2.06-.94 2.06-2.06.94z\"/><path d=\"M17.41 7.96l-1.37-1.37c-.4-.4-.92-.59-1.43-.59-.52 0-1.04.2-1.43.59L10.3 9.45l-7.72 7.72c-.78.78-.78 2.05 0 2.83L4 21.41c.39.39.9.59 1.41.59.51 0 1.02-.2 1.41-.59l7.78-7.78 2.81-2.81c.8-.78.8-2.07 0-2.86zM5.41 20L4 18.59l7.72-7.72 1.47 1.35L5.41 20z\"/>\n",
              "  </svg>\n",
              "      </button>\n",
              "      \n",
              "  <style>\n",
              "    .colab-df-container {\n",
              "      display:flex;\n",
              "      flex-wrap:wrap;\n",
              "      gap: 12px;\n",
              "    }\n",
              "\n",
              "    .colab-df-convert {\n",
              "      background-color: #E8F0FE;\n",
              "      border: none;\n",
              "      border-radius: 50%;\n",
              "      cursor: pointer;\n",
              "      display: none;\n",
              "      fill: #1967D2;\n",
              "      height: 32px;\n",
              "      padding: 0 0 0 0;\n",
              "      width: 32px;\n",
              "    }\n",
              "\n",
              "    .colab-df-convert:hover {\n",
              "      background-color: #E2EBFA;\n",
              "      box-shadow: 0px 1px 2px rgba(60, 64, 67, 0.3), 0px 1px 3px 1px rgba(60, 64, 67, 0.15);\n",
              "      fill: #174EA6;\n",
              "    }\n",
              "\n",
              "    [theme=dark] .colab-df-convert {\n",
              "      background-color: #3B4455;\n",
              "      fill: #D2E3FC;\n",
              "    }\n",
              "\n",
              "    [theme=dark] .colab-df-convert:hover {\n",
              "      background-color: #434B5C;\n",
              "      box-shadow: 0px 1px 3px 1px rgba(0, 0, 0, 0.15);\n",
              "      filter: drop-shadow(0px 1px 2px rgba(0, 0, 0, 0.3));\n",
              "      fill: #FFFFFF;\n",
              "    }\n",
              "  </style>\n",
              "\n",
              "      <script>\n",
              "        const buttonEl =\n",
              "          document.querySelector('#df-691014e4-8e33-4600-9faa-e075721135b9 button.colab-df-convert');\n",
              "        buttonEl.style.display =\n",
              "          google.colab.kernel.accessAllowed ? 'block' : 'none';\n",
              "\n",
              "        async function convertToInteractive(key) {\n",
              "          const element = document.querySelector('#df-691014e4-8e33-4600-9faa-e075721135b9');\n",
              "          const dataTable =\n",
              "            await google.colab.kernel.invokeFunction('convertToInteractive',\n",
              "                                                     [key], {});\n",
              "          if (!dataTable) return;\n",
              "\n",
              "          const docLinkHtml = 'Like what you see? Visit the ' +\n",
              "            '<a target=\"_blank\" href=https://colab.research.google.com/notebooks/data_table.ipynb>data table notebook</a>'\n",
              "            + ' to learn more about interactive tables.';\n",
              "          element.innerHTML = '';\n",
              "          dataTable['output_type'] = 'display_data';\n",
              "          await google.colab.output.renderOutput(dataTable, element);\n",
              "          const docLink = document.createElement('div');\n",
              "          docLink.innerHTML = docLinkHtml;\n",
              "          element.appendChild(docLink);\n",
              "        }\n",
              "      </script>\n",
              "    </div>\n",
              "  </div>\n",
              "  "
            ]
          },
          "metadata": {},
          "execution_count": 3
        }
      ]
    },
    {
      "cell_type": "markdown",
      "source": [
        "## 02. 클래스 레이블 불균형 검사"
      ],
      "metadata": {
        "id": "0oSfBrU4sJVH"
      }
    },
    {
      "cell_type": "code",
      "source": [
        "neg, pos = np.bincount(raw_df['Class'])\n",
        "total = neg + pos\n",
        "print('Examples:\\n    Total: {}\\n    Positive: {} ({:.2f}% of total)\\n'.format(\n",
        "    total, pos, 100 * pos / total))"
      ],
      "metadata": {
        "colab": {
          "base_uri": "https://localhost:8080/"
        },
        "id": "FR5nBrWSsIgX",
        "outputId": "0f86bcac-f2e5-4f48-988b-ee2fbedb683b"
      },
      "execution_count": 4,
      "outputs": [
        {
          "output_type": "stream",
          "name": "stdout",
          "text": [
            "Examples:\n",
            "    Total: 284807\n",
            "    Positive: 492 (0.17% of total)\n",
            "\n"
          ]
        }
      ]
    },
    {
      "cell_type": "markdown",
      "source": [
        "## 03. 데이터 정리, 분할 및 정규화"
      ],
      "metadata": {
        "id": "lqmGsHNasQwY"
      }
    },
    {
      "cell_type": "code",
      "source": [
        "cleaned_df = raw_df.copy()\n",
        "\n",
        "# Time column 삭제\n",
        "cleaned_df.pop('Time')\n",
        "\n",
        "eps = 0.001 # 0 => 0.1¢\n",
        "cleaned_df['Log Ammount'] = np.log(cleaned_df.pop('Amount')+eps)"
      ],
      "metadata": {
        "id": "eK8Vr2JPsNin"
      },
      "execution_count": 6,
      "outputs": []
    },
    {
      "cell_type": "code",
      "source": [
        "# 데이터세트 분할\n",
        "train_df, test_df = train_test_split(cleaned_df, test_size=0.2)\n",
        "train_df, val_df = train_test_split(train_df, test_size=0.2)\n",
        "\n",
        "train_labels = np.array(train_df.pop('Class'))\n",
        "bool_train_labels = train_labels != 0\n",
        "val_labels = np.array(val_df.pop('Class'))\n",
        "test_labels = np.array(test_df.pop('Class'))\n",
        "\n",
        "train_features = np.array(train_df)\n",
        "val_features = np.array(val_df)\n",
        "test_features = np.array(test_df)"
      ],
      "metadata": {
        "id": "DyExJyP1sakJ"
      },
      "execution_count": 7,
      "outputs": []
    },
    {
      "cell_type": "code",
      "source": [
        "# 입력 특성 정규화\n",
        "scaler = StandardScaler()\n",
        "train_features = scaler.fit_transform(train_features)\n",
        "\n",
        "val_features = scaler.transform(val_features)\n",
        "test_features = scaler.transform(test_features)\n",
        "\n",
        "train_features = np.clip(train_features, -5, 5)\n",
        "val_features = np.clip(val_features, -5, 5)\n",
        "test_features = np.clip(test_features, -5, 5)\n",
        "\n",
        "\n",
        "print('Training labels shape:', train_labels.shape)\n",
        "print('Validation labels shape:', val_labels.shape)\n",
        "print('Test labels shape:', test_labels.shape)\n",
        "\n",
        "print('Training features shape:', train_features.shape)\n",
        "print('Validation features shape:', val_features.shape)\n",
        "print('Test features shape:', test_features.shape)"
      ],
      "metadata": {
        "colab": {
          "base_uri": "https://localhost:8080/"
        },
        "id": "fk_737wqsgco",
        "outputId": "cf226161-9b83-4f28-9d4c-77662530aa53"
      },
      "execution_count": 8,
      "outputs": [
        {
          "output_type": "stream",
          "name": "stdout",
          "text": [
            "Training labels shape: (182276,)\n",
            "Validation labels shape: (45569,)\n",
            "Test labels shape: (56962,)\n",
            "Training features shape: (182276, 29)\n",
            "Validation features shape: (45569, 29)\n",
            "Test features shape: (56962, 29)\n"
          ]
        }
      ]
    },
    {
      "cell_type": "markdown",
      "source": [
        "## 04. 데이터 분포 살펴보기"
      ],
      "metadata": {
        "id": "PdoVI4bos3dJ"
      }
    },
    {
      "cell_type": "code",
      "source": [
        "pos_df = pd.DataFrame(train_features[ bool_train_labels], columns=train_df.columns)\n",
        "neg_df = pd.DataFrame(train_features[~bool_train_labels], columns=train_df.columns)\n",
        "\n",
        "sns.jointplot(pos_df['V5'], pos_df['V6'],\n",
        "              kind='hex', xlim=(-5,5), ylim=(-5,5))\n",
        "plt.suptitle(\"Positive distribution\")\n",
        "\n",
        "sns.jointplot(neg_df['V5'], neg_df['V6'],\n",
        "              kind='hex', xlim=(-5,5), ylim=(-5,5))\n",
        "_ = plt.suptitle(\"Negative distribution\")"
      ],
      "metadata": {
        "colab": {
          "base_uri": "https://localhost:8080/",
          "height": 962
        },
        "id": "ZGrK0VeLsrbE",
        "outputId": "1f7a31bd-17cf-438c-b3e9-8a44e4b48fc8"
      },
      "execution_count": 9,
      "outputs": [
        {
          "output_type": "stream",
          "name": "stderr",
          "text": [
            "/usr/local/lib/python3.7/dist-packages/seaborn/_decorators.py:43: FutureWarning: Pass the following variables as keyword args: x, y. From version 0.12, the only valid positional argument will be `data`, and passing other arguments without an explicit keyword will result in an error or misinterpretation.\n",
            "  FutureWarning\n",
            "/usr/local/lib/python3.7/dist-packages/seaborn/_decorators.py:43: FutureWarning: Pass the following variables as keyword args: x, y. From version 0.12, the only valid positional argument will be `data`, and passing other arguments without an explicit keyword will result in an error or misinterpretation.\n",
            "  FutureWarning\n"
          ]
        },
        {
          "output_type": "display_data",
          "data": {
            "text/plain": [
              "<Figure size 432x432 with 3 Axes>"
            ],
            "image/png": "[encoded data removed]"
          },
          "metadata": {
            "needs_background": "light"
          }
        },
        {
          "output_type": "display_data",
          "data": {
            "text/plain": [
              "<Figure size 432x432 with 3 Axes>"
            ],
            "image/png": "[encoded data removed]"
          },
          "metadata": {
            "needs_background": "light"
          }
        }
      ]
    },
    {
      "cell_type": "code",
      "source": [
        "# 대부분 +/- 2 범위에 집중\n",
        "# 양의 예에는 극단적 값의 비율이 훨씬 높음"
      ],
      "metadata": {
        "id": "zRy6ZOQLs9Ev"
      },
      "execution_count": 10,
      "outputs": []
    },
    {
      "cell_type": "markdown",
      "source": [
        "## 05. 모델 및 metrics 정의"
      ],
      "metadata": {
        "id": "VgjOI-_OtMSc"
      }
    },
    {
      "cell_type": "code",
      "source": [
        "METRICS = [\n",
        "      keras.metrics.TruePositives(name='tp'),\n",
        "      keras.metrics.FalsePositives(name='fp'),\n",
        "      keras.metrics.TrueNegatives(name='tn'),\n",
        "      keras.metrics.FalseNegatives(name='fn'), \n",
        "      keras.metrics.BinaryAccuracy(name='accuracy'),\n",
        "      keras.metrics.Precision(name='precision'),\n",
        "      keras.metrics.Recall(name='recall'),\n",
        "      keras.metrics.AUC(name='auc'),\n",
        "      keras.metrics.AUC(name='prc', curve='PR'), # precision-recall curve\n",
        "]"
      ],
      "metadata": {
        "id": "fZzVFQ63tJSs"
      },
      "execution_count": 11,
      "outputs": []
    },
    {
      "cell_type": "code",
      "source": [
        "def make_model(metrics=METRICS, output_bias=None):\n",
        "  if output_bias is not None:\n",
        "    output_bias = tf.keras.initializers.Constant(output_bias)\n",
        "  model = keras.Sequential([\n",
        "      keras.layers.Dense(\n",
        "          16, activation='relu',\n",
        "          input_shape=(train_features.shape[-1],)),\n",
        "      keras.layers.Dropout(0.5),\n",
        "      keras.layers.Dense(1, activation='sigmoid',\n",
        "                         bias_initializer=output_bias),\n",
        "  ])\n",
        "\n",
        "  model.compile(\n",
        "      optimizer=keras.optimizers.Adam(learning_rate=1e-3),\n",
        "      loss=keras.losses.BinaryCrossentropy(),\n",
        "      metrics=metrics)\n",
        "\n",
        "  return model"
      ],
      "metadata": {
        "id": "prBAQ6iwtVIm"
      },
      "execution_count": 12,
      "outputs": []
    },
    {
      "cell_type": "markdown",
      "source": [
        "## 06. 모델 구축하기"
      ],
      "metadata": {
        "id": "VmqMRsg5tjls"
      }
    },
    {
      "cell_type": "code",
      "source": [
        "EPOCHS = 100\n",
        "BATCH_SIZE = 2048\n",
        "\n",
        "early_stopping = tf.keras.callbacks.EarlyStopping(\n",
        "    monitor='val_auc', \n",
        "    verbose=1,\n",
        "    patience=10,\n",
        "    mode='max',\n",
        "    restore_best_weights=True)"
      ],
      "metadata": {
        "id": "E6aWaZh5taG_"
      },
      "execution_count": 13,
      "outputs": []
    },
    {
      "cell_type": "code",
      "source": [
        "model = make_model()\n",
        "model.summary() # 모델 요약"
      ],
      "metadata": {
        "colab": {
          "base_uri": "https://localhost:8080/"
        },
        "id": "Be1ryko1toJ_",
        "outputId": "d89af8f7-522c-4ee1-8b68-21c5d16516a4"
      },
      "execution_count": 14,
      "outputs": [
        {
          "output_type": "stream",
          "name": "stdout",
          "text": [
            "Model: \"sequential\"\n",
            "_________________________________________________________________\n",
            " Layer (type)                Output Shape              Param #   \n",
            "=================================================================\n",
            " dense (Dense)               (None, 16)                480       \n",
            "                                                                 \n",
            " dropout (Dropout)           (None, 16)                0         \n",
            "                                                                 \n",
            " dense_1 (Dense)             (None, 1)                 17        \n",
            "                                                                 \n",
            "=================================================================\n",
            "Total params: 497\n",
            "Trainable params: 497\n",
            "Non-trainable params: 0\n",
            "_________________________________________________________________\n"
          ]
        }
      ]
    },
    {
      "cell_type": "code",
      "source": [
        "# 모델 테스트\n",
        "model.predict(train_features[:10])"
      ],
      "metadata": {
        "colab": {
          "base_uri": "https://localhost:8080/"
        },
        "id": "lr3BrFkatpPP",
        "outputId": "d6fe19d4-4635-42af-8b0a-5fb460ee3856"
      },
      "execution_count": 15,
      "outputs": [
        {
          "output_type": "execute_result",
          "data": {
            "text/plain": [
              "array([[0.73736113],\n",
              "       [0.85871375],\n",
              "       [0.89980626],\n",
              "       [0.9401328 ],\n",
              "       [0.9712709 ],\n",
              "       [0.73797935],\n",
              "       [0.8436279 ],\n",
              "       [0.85367954],\n",
              "       [0.8758584 ],\n",
              "       [0.61697793]], dtype=float32)"
            ]
          },
          "metadata": {},
          "execution_count": 15
        }
      ]
    },
    {
      "cell_type": "markdown",
      "source": [
        "## 07. 초기 바이어스 설정"
      ],
      "metadata": {
        "id": "lDXFaYNvt0Wh"
      }
    },
    {
      "cell_type": "code",
      "source": [
        "# 기존 바이어스 초기화 사용\n",
        "results = model.evaluate(train_features, train_labels, batch_size=BATCH_SIZE, verbose=0)\n",
        "print(\"Loss: {:0.4f}\".format(results[0]))"
      ],
      "metadata": {
        "colab": {
          "base_uri": "https://localhost:8080/"
        },
        "id": "m7_YwDtqty4u",
        "outputId": "03d5c01f-31b8-48bd-8da7-b1c744993144"
      },
      "execution_count": 16,
      "outputs": [
        {
          "output_type": "stream",
          "name": "stdout",
          "text": [
            "Loss: 1.7003\n"
          ]
        }
      ]
    },
    {
      "cell_type": "code",
      "source": [
        "# 바이어스 설정\n",
        "initial_bias = np.log([pos/neg])\n",
        "initial_bias"
      ],
      "metadata": {
        "colab": {
          "base_uri": "https://localhost:8080/"
        },
        "id": "zQX5BLB3yrcr",
        "outputId": "aff715e5-6286-4410-88ed-66a1fee55232"
      },
      "execution_count": 17,
      "outputs": [
        {
          "output_type": "execute_result",
          "data": {
            "text/plain": [
              "array([-6.35935934])"
            ]
          },
          "metadata": {},
          "execution_count": 17
        }
      ]
    },
    {
      "cell_type": "code",
      "source": [
        "model = make_model(output_bias=initial_bias)\n",
        "model.predict(train_features[:10])"
      ],
      "metadata": {
        "colab": {
          "base_uri": "https://localhost:8080/"
        },
        "id": "cc7poB6Dy1TD",
        "outputId": "61b594e8-481f-49fe-ee68-9730bd266018"
      },
      "execution_count": 18,
      "outputs": [
        {
          "output_type": "execute_result",
          "data": {
            "text/plain": [
              "array([[0.00175914],\n",
              "       [0.00204498],\n",
              "       [0.00618708],\n",
              "       [0.00251561],\n",
              "       [0.00399742],\n",
              "       [0.00107604],\n",
              "       [0.00199157],\n",
              "       [0.00215861],\n",
              "       [0.00397512],\n",
              "       [0.00289857]], dtype=float32)"
            ]
          },
          "metadata": {},
          "execution_count": 18
        }
      ]
    },
    {
      "cell_type": "code",
      "source": [
        "# 초기화를 통한 초기 손실 계산\n",
        "results = model.evaluate(train_features, train_labels, batch_size=BATCH_SIZE, verbose=0)\n",
        "print(\"Loss: {:0.4f}\".format(results[0]))"
      ],
      "metadata": {
        "colab": {
          "base_uri": "https://localhost:8080/"
        },
        "id": "_ONOdJsoy16n",
        "outputId": "1ebf95e8-9ca3-45ea-f9c3-61ba8e47faa7"
      },
      "execution_count": 19,
      "outputs": [
        {
          "output_type": "stream",
          "name": "stdout",
          "text": [
            "Loss: 0.0124\n"
          ]
        }
      ]
    },
    {
      "cell_type": "markdown",
      "source": [
        "## 08. 초기 가중치 체크 포인트"
      ],
      "metadata": {
        "id": "lOXifPi8y_Ij"
      }
    },
    {
      "cell_type": "code",
      "source": [
        "initial_weights = os.path.join(tempfile.mkdtemp(), 'initial_weights')\n",
        "model.save_weights(initial_weights)"
      ],
      "metadata": {
        "id": "uNkEfGQqy8pX"
      },
      "execution_count": 20,
      "outputs": []
    },
    {
      "cell_type": "code",
      "source": [
        "# 바이어스 초기화가 도움이 되었는지 확인하기\n",
        "model = make_model()\n",
        "model.load_weights(initial_weights)\n",
        "model.layers[-1].bias.assign([0.0])\n",
        "zero_bias_history = model.fit(\n",
        "    train_features,\n",
        "    train_labels,\n",
        "    batch_size=BATCH_SIZE,\n",
        "    epochs=20,\n",
        "    validation_data=(val_features, val_labels), \n",
        "    verbose=0)"
      ],
      "metadata": {
        "id": "lfGmlpshzE6u"
      },
      "execution_count": 21,
      "outputs": []
    },
    {
      "cell_type": "code",
      "source": [
        "model = make_model()\n",
        "model.load_weights(initial_weights)\n",
        "careful_bias_history = model.fit(\n",
        "    train_features,\n",
        "    train_labels,\n",
        "    batch_size=BATCH_SIZE,\n",
        "    epochs=20,\n",
        "    validation_data=(val_features, val_labels), \n",
        "    verbose=0)"
      ],
      "metadata": {
        "id": "tW9Cb8TmzNI8"
      },
      "execution_count": 22,
      "outputs": []
    },
    {
      "cell_type": "code",
      "source": [
        "def plot_loss(history, label, n):\n",
        "  plt.semilogy(history.epoch, history.history['loss'],\n",
        "               color='red', label='Train '+label)\n",
        "  plt.semilogy(history.epoch, history.history['val_loss'],\n",
        "          color='blue', label='Val '+label,\n",
        "          linestyle=\"--\")\n",
        "  plt.xlabel('Epoch')\n",
        "  plt.ylabel('Loss')\n",
        "\n",
        "  plt.legend()"
      ],
      "metadata": {
        "id": "LI45nSw2zR6-"
      },
      "execution_count": 28,
      "outputs": []
    },
    {
      "cell_type": "code",
      "source": [
        "plot_loss(zero_bias_history, \"Zero Bias\", 0)\n",
        "plot_loss(careful_bias_history, \"Careful Bias\", 1)"
      ],
      "metadata": {
        "colab": {
          "base_uri": "https://localhost:8080/",
          "height": 279
        },
        "id": "rUX4ZCrBzT2k",
        "outputId": "ab0a072f-1170-46e1-96a7-de3e03d6f7b6"
      },
      "execution_count": 29,
      "outputs": [
        {
          "output_type": "display_data",
          "data": {
            "text/plain": [
              "<Figure size 432x288 with 1 Axes>"
            ],
            "image/png": "[encoded data removed]"
          },
          "metadata": {
            "needs_background": "light"
          }
        }
      ]
    },
    {
      "cell_type": "markdown",
      "source": [
        "## 09. 모델 학습"
      ],
      "metadata": {
        "id": "C70mtKr31FXt"
      }
    },
    {
      "cell_type": "code",
      "source": [
        "model = make_model()\n",
        "model.load_weights(initial_weights)\n",
        "baseline_history = model.fit(\n",
        "    train_features,\n",
        "    train_labels,\n",
        "    batch_size=BATCH_SIZE,\n",
        "    epochs=EPOCHS,\n",
        "    callbacks=[early_stopping],\n",
        "    validation_data=(val_features, val_labels))"
      ],
      "metadata": {
        "colab": {
          "base_uri": "https://localhost:8080/"
        },
        "id": "O2DPK6_rzfQI",
        "outputId": "130b0a72-08a3-4f5e-ac82-e2a06fc0aa0b"
      },
      "execution_count": 30,
      "outputs": [
        {
          "output_type": "stream",
          "name": "stdout",
          "text": [
            "Epoch 1/100\n",
            "90/90 [==============================] - 5s 19ms/step - loss: 0.0126 - tp: 138.0000 - fp: 114.0000 - tn: 227321.0000 - fn: 272.0000 - accuracy: 0.9983 - precision: 0.5476 - recall: 0.3366 - auc: 0.7831 - prc: 0.2909 - val_loss: 0.0067 - val_tp: 21.0000 - val_fp: 6.0000 - val_tn: 45486.0000 - val_fn: 56.0000 - val_accuracy: 0.9986 - val_precision: 0.7778 - val_recall: 0.2727 - val_auc: 0.8754 - val_prc: 0.5774\n",
            "Epoch 2/100\n",
            "90/90 [==============================] - 0s 5ms/step - loss: 0.0079 - tp: 124.0000 - fp: 41.0000 - tn: 181902.0000 - fn: 209.0000 - accuracy: 0.9986 - precision: 0.7515 - recall: 0.3724 - auc: 0.8628 - prc: 0.4502 - val_loss: 0.0053 - val_tp: 38.0000 - val_fp: 8.0000 - val_tn: 45484.0000 - val_fn: 39.0000 - val_accuracy: 0.9990 - val_precision: 0.8261 - val_recall: 0.4935 - val_auc: 0.8827 - val_prc: 0.5851\n",
            "Epoch 3/100\n",
            "90/90 [==============================] - 0s 4ms/step - loss: 0.0062 - tp: 172.0000 - fp: 27.0000 - tn: 181916.0000 - fn: 161.0000 - accuracy: 0.9990 - precision: 0.8643 - recall: 0.5165 - auc: 0.8967 - prc: 0.6163 - val_loss: 0.0048 - val_tp: 49.0000 - val_fp: 10.0000 - val_tn: 45482.0000 - val_fn: 28.0000 - val_accuracy: 0.9992 - val_precision: 0.8305 - val_recall: 0.6364 - val_auc: 0.8893 - val_prc: 0.6070\n",
            "Epoch 4/100\n",
            "90/90 [==============================] - 0s 5ms/step - loss: 0.0060 - tp: 176.0000 - fp: 35.0000 - tn: 181908.0000 - fn: 157.0000 - accuracy: 0.9989 - precision: 0.8341 - recall: 0.5285 - auc: 0.9014 - prc: 0.6209 - val_loss: 0.0045 - val_tp: 50.0000 - val_fp: 10.0000 - val_tn: 45482.0000 - val_fn: 27.0000 - val_accuracy: 0.9992 - val_precision: 0.8333 - val_recall: 0.6494 - val_auc: 0.9024 - val_prc: 0.6421\n",
            "Epoch 5/100\n",
            "90/90 [==============================] - 0s 4ms/step - loss: 0.0051 - tp: 193.0000 - fp: 31.0000 - tn: 181912.0000 - fn: 140.0000 - accuracy: 0.9991 - precision: 0.8616 - recall: 0.5796 - auc: 0.9248 - prc: 0.7044 - val_loss: 0.0043 - val_tp: 53.0000 - val_fp: 10.0000 - val_tn: 45482.0000 - val_fn: 24.0000 - val_accuracy: 0.9993 - val_precision: 0.8413 - val_recall: 0.6883 - val_auc: 0.9088 - val_prc: 0.6472\n",
            "Epoch 6/100\n",
            "90/90 [==============================] - 0s 4ms/step - loss: 0.0052 - tp: 199.0000 - fp: 32.0000 - tn: 181911.0000 - fn: 134.0000 - accuracy: 0.9991 - precision: 0.8615 - recall: 0.5976 - auc: 0.9188 - prc: 0.6650 - val_loss: 0.0041 - val_tp: 54.0000 - val_fp: 10.0000 - val_tn: 45482.0000 - val_fn: 23.0000 - val_accuracy: 0.9993 - val_precision: 0.8438 - val_recall: 0.7013 - val_auc: 0.9281 - val_prc: 0.6731\n",
            "Epoch 7/100\n",
            "90/90 [==============================] - 0s 4ms/step - loss: 0.0050 - tp: 196.0000 - fp: 35.0000 - tn: 181908.0000 - fn: 137.0000 - accuracy: 0.9991 - precision: 0.8485 - recall: 0.5886 - auc: 0.9205 - prc: 0.6757 - val_loss: 0.0039 - val_tp: 53.0000 - val_fp: 10.0000 - val_tn: 45482.0000 - val_fn: 24.0000 - val_accuracy: 0.9993 - val_precision: 0.8413 - val_recall: 0.6883 - val_auc: 0.9346 - val_prc: 0.7257\n",
            "Epoch 8/100\n",
            "90/90 [==============================] - 0s 4ms/step - loss: 0.0049 - tp: 192.0000 - fp: 35.0000 - tn: 181908.0000 - fn: 141.0000 - accuracy: 0.9990 - precision: 0.8458 - recall: 0.5766 - auc: 0.9191 - prc: 0.6976 - val_loss: 0.0037 - val_tp: 55.0000 - val_fp: 10.0000 - val_tn: 45482.0000 - val_fn: 22.0000 - val_accuracy: 0.9993 - val_precision: 0.8462 - val_recall: 0.7143 - val_auc: 0.9345 - val_prc: 0.7297\n",
            "Epoch 9/100\n",
            "90/90 [==============================] - 0s 4ms/step - loss: 0.0045 - tp: 206.0000 - fp: 33.0000 - tn: 181910.0000 - fn: 127.0000 - accuracy: 0.9991 - precision: 0.8619 - recall: 0.6186 - auc: 0.9252 - prc: 0.7129 - val_loss: 0.0037 - val_tp: 55.0000 - val_fp: 10.0000 - val_tn: 45482.0000 - val_fn: 22.0000 - val_accuracy: 0.9993 - val_precision: 0.8462 - val_recall: 0.7143 - val_auc: 0.9346 - val_prc: 0.7459\n",
            "Epoch 10/100\n",
            "90/90 [==============================] - 0s 4ms/step - loss: 0.0046 - tp: 198.0000 - fp: 35.0000 - tn: 181908.0000 - fn: 135.0000 - accuracy: 0.9991 - precision: 0.8498 - recall: 0.5946 - auc: 0.9298 - prc: 0.7084 - val_loss: 0.0036 - val_tp: 56.0000 - val_fp: 10.0000 - val_tn: 45482.0000 - val_fn: 21.0000 - val_accuracy: 0.9993 - val_precision: 0.8485 - val_recall: 0.7273 - val_auc: 0.9411 - val_prc: 0.7654\n",
            "Epoch 11/100\n",
            "90/90 [==============================] - 0s 4ms/step - loss: 0.0044 - tp: 213.0000 - fp: 35.0000 - tn: 181908.0000 - fn: 120.0000 - accuracy: 0.9991 - precision: 0.8589 - recall: 0.6396 - auc: 0.9360 - prc: 0.7311 - val_loss: 0.0035 - val_tp: 56.0000 - val_fp: 10.0000 - val_tn: 45482.0000 - val_fn: 21.0000 - val_accuracy: 0.9993 - val_precision: 0.8485 - val_recall: 0.7273 - val_auc: 0.9411 - val_prc: 0.7829\n",
            "Epoch 12/100\n",
            "90/90 [==============================] - 0s 4ms/step - loss: 0.0042 - tp: 195.0000 - fp: 35.0000 - tn: 181908.0000 - fn: 138.0000 - accuracy: 0.9991 - precision: 0.8478 - recall: 0.5856 - auc: 0.9329 - prc: 0.7389 - val_loss: 0.0035 - val_tp: 57.0000 - val_fp: 10.0000 - val_tn: 45482.0000 - val_fn: 20.0000 - val_accuracy: 0.9993 - val_precision: 0.8507 - val_recall: 0.7403 - val_auc: 0.9411 - val_prc: 0.7871\n",
            "Epoch 13/100\n",
            "90/90 [==============================] - 0s 4ms/step - loss: 0.0043 - tp: 209.0000 - fp: 34.0000 - tn: 181909.0000 - fn: 124.0000 - accuracy: 0.9991 - precision: 0.8601 - recall: 0.6276 - auc: 0.9284 - prc: 0.7208 - val_loss: 0.0034 - val_tp: 58.0000 - val_fp: 10.0000 - val_tn: 45482.0000 - val_fn: 19.0000 - val_accuracy: 0.9994 - val_precision: 0.8529 - val_recall: 0.7532 - val_auc: 0.9411 - val_prc: 0.7894\n",
            "Epoch 14/100\n",
            "90/90 [==============================] - 0s 4ms/step - loss: 0.0039 - tp: 211.0000 - fp: 33.0000 - tn: 181910.0000 - fn: 122.0000 - accuracy: 0.9991 - precision: 0.8648 - recall: 0.6336 - auc: 0.9390 - prc: 0.7485 - val_loss: 0.0034 - val_tp: 58.0000 - val_fp: 10.0000 - val_tn: 45482.0000 - val_fn: 19.0000 - val_accuracy: 0.9994 - val_precision: 0.8529 - val_recall: 0.7532 - val_auc: 0.9411 - val_prc: 0.7953\n",
            "Epoch 15/100\n",
            "90/90 [==============================] - 0s 4ms/step - loss: 0.0038 - tp: 217.0000 - fp: 32.0000 - tn: 181911.0000 - fn: 116.0000 - accuracy: 0.9992 - precision: 0.8715 - recall: 0.6517 - auc: 0.9376 - prc: 0.7741 - val_loss: 0.0033 - val_tp: 59.0000 - val_fp: 10.0000 - val_tn: 45482.0000 - val_fn: 18.0000 - val_accuracy: 0.9994 - val_precision: 0.8551 - val_recall: 0.7662 - val_auc: 0.9411 - val_prc: 0.7967\n",
            "Epoch 16/100\n",
            "90/90 [==============================] - 0s 4ms/step - loss: 0.0039 - tp: 213.0000 - fp: 32.0000 - tn: 181911.0000 - fn: 120.0000 - accuracy: 0.9992 - precision: 0.8694 - recall: 0.6396 - auc: 0.9271 - prc: 0.7393 - val_loss: 0.0033 - val_tp: 58.0000 - val_fp: 10.0000 - val_tn: 45482.0000 - val_fn: 19.0000 - val_accuracy: 0.9994 - val_precision: 0.8529 - val_recall: 0.7532 - val_auc: 0.9412 - val_prc: 0.7978\n",
            "Epoch 17/100\n",
            "90/90 [==============================] - 0s 5ms/step - loss: 0.0039 - tp: 227.0000 - fp: 32.0000 - tn: 181911.0000 - fn: 106.0000 - accuracy: 0.9992 - precision: 0.8764 - recall: 0.6817 - auc: 0.9331 - prc: 0.7542 - val_loss: 0.0033 - val_tp: 58.0000 - val_fp: 10.0000 - val_tn: 45482.0000 - val_fn: 19.0000 - val_accuracy: 0.9994 - val_precision: 0.8529 - val_recall: 0.7532 - val_auc: 0.9412 - val_prc: 0.8034\n",
            "Epoch 18/100\n",
            "90/90 [==============================] - 0s 4ms/step - loss: 0.0037 - tp: 216.0000 - fp: 28.0000 - tn: 181915.0000 - fn: 117.0000 - accuracy: 0.9992 - precision: 0.8852 - recall: 0.6486 - auc: 0.9316 - prc: 0.7724 - val_loss: 0.0033 - val_tp: 59.0000 - val_fp: 11.0000 - val_tn: 45481.0000 - val_fn: 18.0000 - val_accuracy: 0.9994 - val_precision: 0.8429 - val_recall: 0.7662 - val_auc: 0.9412 - val_prc: 0.8065\n",
            "Epoch 19/100\n",
            "90/90 [==============================] - 0s 4ms/step - loss: 0.0040 - tp: 235.0000 - fp: 37.0000 - tn: 181906.0000 - fn: 98.0000 - accuracy: 0.9993 - precision: 0.8640 - recall: 0.7057 - auc: 0.9285 - prc: 0.7344 - val_loss: 0.0035 - val_tp: 60.0000 - val_fp: 12.0000 - val_tn: 45480.0000 - val_fn: 17.0000 - val_accuracy: 0.9994 - val_precision: 0.8333 - val_recall: 0.7792 - val_auc: 0.9412 - val_prc: 0.7878\n",
            "Epoch 20/100\n",
            "90/90 [==============================] - 0s 5ms/step - loss: 0.0038 - tp: 231.0000 - fp: 29.0000 - tn: 181914.0000 - fn: 102.0000 - accuracy: 0.9993 - precision: 0.8885 - recall: 0.6937 - auc: 0.9361 - prc: 0.7558 - val_loss: 0.0033 - val_tp: 59.0000 - val_fp: 11.0000 - val_tn: 45481.0000 - val_fn: 18.0000 - val_accuracy: 0.9994 - val_precision: 0.8429 - val_recall: 0.7662 - val_auc: 0.9412 - val_prc: 0.8030\n",
            "Epoch 21/100\n",
            "90/90 [==============================] - 0s 4ms/step - loss: 0.0038 - tp: 228.0000 - fp: 31.0000 - tn: 181912.0000 - fn: 105.0000 - accuracy: 0.9993 - precision: 0.8803 - recall: 0.6847 - auc: 0.9375 - prc: 0.7570 - val_loss: 0.0033 - val_tp: 59.0000 - val_fp: 11.0000 - val_tn: 45481.0000 - val_fn: 18.0000 - val_accuracy: 0.9994 - val_precision: 0.8429 - val_recall: 0.7662 - val_auc: 0.9412 - val_prc: 0.8068\n",
            "Epoch 22/100\n",
            "90/90 [==============================] - 0s 4ms/step - loss: 0.0038 - tp: 208.0000 - fp: 30.0000 - tn: 181913.0000 - fn: 125.0000 - accuracy: 0.9991 - precision: 0.8739 - recall: 0.6246 - auc: 0.9361 - prc: 0.7530 - val_loss: 0.0033 - val_tp: 59.0000 - val_fp: 11.0000 - val_tn: 45481.0000 - val_fn: 18.0000 - val_accuracy: 0.9994 - val_precision: 0.8429 - val_recall: 0.7662 - val_auc: 0.9412 - val_prc: 0.8078\n",
            "Epoch 23/100\n",
            "90/90 [==============================] - 0s 4ms/step - loss: 0.0039 - tp: 219.0000 - fp: 31.0000 - tn: 181912.0000 - fn: 114.0000 - accuracy: 0.9992 - precision: 0.8760 - recall: 0.6577 - auc: 0.9330 - prc: 0.7405 - val_loss: 0.0032 - val_tp: 59.0000 - val_fp: 11.0000 - val_tn: 45481.0000 - val_fn: 18.0000 - val_accuracy: 0.9994 - val_precision: 0.8429 - val_recall: 0.7662 - val_auc: 0.9412 - val_prc: 0.8123\n",
            "Epoch 24/100\n",
            "90/90 [==============================] - 0s 5ms/step - loss: 0.0039 - tp: 212.0000 - fp: 28.0000 - tn: 181915.0000 - fn: 121.0000 - accuracy: 0.9992 - precision: 0.8833 - recall: 0.6366 - auc: 0.9285 - prc: 0.7388 - val_loss: 0.0033 - val_tp: 59.0000 - val_fp: 11.0000 - val_tn: 45481.0000 - val_fn: 18.0000 - val_accuracy: 0.9994 - val_precision: 0.8429 - val_recall: 0.7662 - val_auc: 0.9412 - val_prc: 0.8079\n",
            "Epoch 25/100\n",
            "90/90 [==============================] - 0s 4ms/step - loss: 0.0035 - tp: 233.0000 - fp: 30.0000 - tn: 181913.0000 - fn: 100.0000 - accuracy: 0.9993 - precision: 0.8859 - recall: 0.6997 - auc: 0.9361 - prc: 0.7711 - val_loss: 0.0033 - val_tp: 59.0000 - val_fp: 11.0000 - val_tn: 45481.0000 - val_fn: 18.0000 - val_accuracy: 0.9994 - val_precision: 0.8429 - val_recall: 0.7662 - val_auc: 0.9412 - val_prc: 0.8075\n",
            "Epoch 26/100\n",
            "90/90 [==============================] - 0s 4ms/step - loss: 0.0037 - tp: 214.0000 - fp: 34.0000 - tn: 181909.0000 - fn: 119.0000 - accuracy: 0.9992 - precision: 0.8629 - recall: 0.6426 - auc: 0.9392 - prc: 0.7555 - val_loss: 0.0032 - val_tp: 59.0000 - val_fp: 11.0000 - val_tn: 45481.0000 - val_fn: 18.0000 - val_accuracy: 0.9994 - val_precision: 0.8429 - val_recall: 0.7662 - val_auc: 0.9412 - val_prc: 0.8125\n",
            "Epoch 27/100\n",
            "85/90 [===========================>..] - ETA: 0s - loss: 0.0040 - tp: 198.0000 - fp: 29.0000 - tn: 173735.0000 - fn: 118.0000 - accuracy: 0.9992 - precision: 0.8722 - recall: 0.6266 - auc: 0.9326 - prc: 0.7259Restoring model weights from the end of the best epoch: 17.\n",
            "90/90 [==============================] - 0s 4ms/step - loss: 0.0040 - tp: 209.0000 - fp: 32.0000 - tn: 181911.0000 - fn: 124.0000 - accuracy: 0.9991 - precision: 0.8672 - recall: 0.6276 - auc: 0.9345 - prc: 0.7291 - val_loss: 0.0033 - val_tp: 59.0000 - val_fp: 11.0000 - val_tn: 45481.0000 - val_fn: 18.0000 - val_accuracy: 0.9994 - val_precision: 0.8429 - val_recall: 0.7662 - val_auc: 0.9411 - val_prc: 0.8102\n",
            "Epoch 27: early stopping\n"
          ]
        }
      ]
    },
    {
      "cell_type": "markdown",
      "source": [
        "## 10. 학습 이력 확인"
      ],
      "metadata": {
        "id": "8XOP4eL318F_"
      }
    },
    {
      "cell_type": "code",
      "source": [
        "def plot_metrics(history):\n",
        "  metrics = ['loss', 'auc', 'precision', 'recall']\n",
        "  for n, metric in enumerate(metrics):\n",
        "    name = metric.replace(\"_\",\" \").capitalize()\n",
        "    plt.subplot(2,2,n+1)\n",
        "    plt.plot(history.epoch, history.history[metric], color='purple', label='Train')\n",
        "    plt.plot(history.epoch, history.history['val_'+metric],\n",
        "             color='purple', linestyle=\"--\", label='Val')\n",
        "    plt.xlabel('Epoch')\n",
        "    plt.ylabel(name)\n",
        "    if metric == 'loss':\n",
        "      plt.ylim([0, plt.ylim()[1]])\n",
        "    elif metric == 'auc':\n",
        "      plt.ylim([0.8,1])\n",
        "    else:\n",
        "      plt.ylim([0,1])\n",
        "\n",
        "    plt.legend()"
      ],
      "metadata": {
        "id": "a2fp36-e1LJW"
      },
      "execution_count": 32,
      "outputs": []
    },
    {
      "cell_type": "code",
      "source": [
        "plot_metrics(baseline_history)"
      ],
      "metadata": {
        "colab": {
          "base_uri": "https://localhost:8080/",
          "height": 283
        },
        "id": "iSsvjKpr2EDM",
        "outputId": "917fd4c8-df3d-4d42-b3b3-e00f6ace6300"
      },
      "execution_count": 33,
      "outputs": [
        {
          "output_type": "display_data",
          "data": {
            "text/plain": [
              "<Figure size 432x288 with 4 Axes>"
            ],
            "image/png": "[encoded data removed]"
          },
          "metadata": {
            "needs_background": "light"
          }
        }
      ]
    },
    {
      "cell_type": "markdown",
      "source": [
        "## 11. 메트릭 평가\n",
        "- 혼동행렬을 이용해 실제 레이블과 예측 레이블 요약\n",
        "- X축: 예측 레이블, Y축: 실제 레이블"
      ],
      "metadata": {
        "id": "YQSPTKUx2qni"
      }
    },
    {
      "cell_type": "code",
      "source": [
        "train_predictions_baseline = model.predict(train_features, batch_size=BATCH_SIZE)\n",
        "test_predictions_baseline = model.predict(test_features, batch_size=BATCH_SIZE)"
      ],
      "metadata": {
        "id": "wAola_o12jfe"
      },
      "execution_count": 34,
      "outputs": []
    },
    {
      "cell_type": "code",
      "source": [
        "def plot_cm(labels, predictions, p=0.5):\n",
        "  cm = confusion_matrix(labels, predictions > p)\n",
        "  plt.figure(figsize=(5,5))\n",
        "  sns.heatmap(cm, annot=True, fmt=\"d\")\n",
        "  plt.title('Confusion matrix @{:.2f}'.format(p))\n",
        "  plt.ylabel('Actual label')\n",
        "  plt.xlabel('Predicted label')\n",
        "\n",
        "  print('Legitimate Transactions Detected (True Negatives): ', cm[0][0])\n",
        "  print('Legitimate Transactions Incorrectly Detected (False Positives): ', cm[0][1])\n",
        "  print('Fraudulent Transactions Missed (False Negatives): ', cm[1][0])\n",
        "  print('Fraudulent Transactions Detected (True Positives): ', cm[1][1])\n",
        "  print('Total Fraudulent Transactions: ', np.sum(cm[1]))"
      ],
      "metadata": {
        "id": "YQ_137uo25P8"
      },
      "execution_count": 35,
      "outputs": []
    },
    {
      "cell_type": "code",
      "source": [
        "# 테스트 데이터세트에서 모델을 평가하고 위에서 생성한 메트릭 결과 표시\n",
        "baseline_results = model.evaluate(test_features, test_labels,\n",
        "                                  batch_size=BATCH_SIZE, verbose=0)\n",
        "for name, value in zip(model.metrics_names, baseline_results):\n",
        "  print(name, ': ', value)\n",
        "print()\n",
        "\n",
        "plot_cm(test_labels, test_predictions_baseline)"
      ],
      "metadata": {
        "colab": {
          "base_uri": "https://localhost:8080/",
          "height": 640
        },
        "id": "2OwLmVAN28Xq",
        "outputId": "c589e874-0936-42d3-fb36-4ec57d4e3b94"
      },
      "execution_count": 36,
      "outputs": [
        {
          "output_type": "stream",
          "name": "stdout",
          "text": [
            "loss :  0.003536829026415944\n",
            "tp :  55.0\n",
            "fp :  10.0\n",
            "tn :  56870.0\n",
            "fn :  27.0\n",
            "accuracy :  0.9993504285812378\n",
            "precision :  0.8461538553237915\n",
            "recall :  0.6707317233085632\n",
            "auc :  0.9081417322158813\n",
            "prc :  0.7314957976341248\n",
            "\n",
            "Legitimate Transactions Detected (True Negatives):  56870\n",
            "Legitimate Transactions Incorrectly Detected (False Positives):  10\n",
            "Fraudulent Transactions Missed (False Negatives):  27\n",
            "Fraudulent Transactions Detected (True Positives):  55\n",
            "Total Fraudulent Transactions:  82\n"
          ]
        },
        {
          "output_type": "display_data",
          "data": {
            "text/plain": [
              "<Figure size 360x360 with 2 Axes>"
            ],
            "image/png": "[encoded data removed]"
          },
          "metadata": {
            "needs_background": "light"
          }
        }
      ]
    },
    {
      "cell_type": "markdown",
      "source": [
        "## 12. ROC 플로팅"
      ],
      "metadata": {
        "id": "0KpG76C43GW2"
      }
    },
    {
      "cell_type": "code",
      "source": [
        "def plot_roc(name, labels, predictions, **kwargs):\n",
        "  fp, tp, _ = sklearn.metrics.roc_curve(labels, predictions)\n",
        "\n",
        "  plt.plot(100*fp, 100*tp, label=name, linewidth=2, **kwargs)\n",
        "  plt.xlabel('False positives [%]')\n",
        "  plt.ylabel('True positives [%]')\n",
        "  plt.xlim([-0.5,20])\n",
        "  plt.ylim([80,100.5])\n",
        "  plt.grid(True)\n",
        "  ax = plt.gca()\n",
        "  ax.set_aspect('equal')"
      ],
      "metadata": {
        "id": "PTAf7A_D3DZx"
      },
      "execution_count": 37,
      "outputs": []
    },
    {
      "cell_type": "code",
      "source": [
        "plot_roc(\"Train Baseline\", train_labels, train_predictions_baseline, color='red')\n",
        "plot_roc(\"Test Baseline\", test_labels, test_predictions_baseline, color='red', linestyle='--')\n",
        "plt.legend(loc='lower right')"
      ],
      "metadata": {
        "colab": {
          "base_uri": "https://localhost:8080/",
          "height": 297
        },
        "id": "Nnx7xc1T3M9f",
        "outputId": "1501ace3-dbbd-4a12-a717-f21b35f89b9b"
      },
      "execution_count": 40,
      "outputs": [
        {
          "output_type": "execute_result",
          "data": {
            "text/plain": [
              "<matplotlib.legend.Legend at 0x7f7e379e8590>"
            ]
          },
          "metadata": {},
          "execution_count": 40
        },
        {
          "output_type": "display_data",
          "data": {
            "text/plain": [
              "<Figure size 432x288 with 1 Axes>"
            ],
            "image/png": "[encoded data removed]"
          },
          "metadata": {
            "needs_background": "light"
          }
        }
      ]
    },
    {
      "cell_type": "markdown",
      "source": [
        "## 13. AUPRC 플로팅"
      ],
      "metadata": {
        "id": "J6m7aX-p4jSh"
      }
    },
    {
      "cell_type": "code",
      "source": [
        "def plot_prc(name, labels, predictions, **kwargs):\n",
        "    precision, recall, _ = sklearn.metrics.precision_recall_curve(labels, predictions)\n",
        "\n",
        "    plt.plot(precision, recall, label=name, linewidth=2, **kwargs)\n",
        "    plt.xlabel('Recall')\n",
        "    plt.ylabel('Precision')\n",
        "    plt.grid(True)\n",
        "    ax = plt.gca()\n",
        "    ax.set_aspect('equal')"
      ],
      "metadata": {
        "id": "t41NVwkT3NuM"
      },
      "execution_count": 41,
      "outputs": []
    },
    {
      "cell_type": "code",
      "source": [
        "plot_prc(\"Train Baseline\", train_labels, train_predictions_baseline, color='blue')\n",
        "plot_prc(\"Test Baseline\", test_labels, test_predictions_baseline, color='blue', linestyle='--')\n",
        "plt.legend(loc='lower right')"
      ],
      "metadata": {
        "colab": {
          "base_uri": "https://localhost:8080/",
          "height": 297
        },
        "id": "5lDalV5q4oi5",
        "outputId": "ccb3bb45-ebbe-4085-c8cb-b87a3eb283d4"
      },
      "execution_count": 42,
      "outputs": [
        {
          "output_type": "execute_result",
          "data": {
            "text/plain": [
              "<matplotlib.legend.Legend at 0x7f7e33f07ed0>"
            ]
          },
          "metadata": {},
          "execution_count": 42
        },
        {
          "output_type": "display_data",
          "data": {
            "text/plain": [
              "<Figure size 432x288 with 1 Axes>"
            ],
            "image/png": "[encoded data removed]"
          },
          "metadata": {
            "needs_background": "light"
          }
        }
      ]
    },
    {
      "cell_type": "markdown",
      "source": [
        "## 14. 클래스 가중치 계산"
      ],
      "metadata": {
        "id": "dWEqocJb5K-H"
      }
    },
    {
      "cell_type": "code",
      "source": [
        "weight_for_0 = (1 / neg) * (total / 2.0)\n",
        "weight_for_1 = (1 / pos) * (total / 2.0)\n",
        "\n",
        "class_weight = {0: weight_for_0, 1: weight_for_1}\n",
        "\n",
        "print('Weight for class 0: {:.2f}'.format(weight_for_0))\n",
        "print('Weight for class 1: {:.2f}'.format(weight_for_1))"
      ],
      "metadata": {
        "colab": {
          "base_uri": "https://localhost:8080/"
        },
        "id": "429LX6JM5GbI",
        "outputId": "c8b0f2f1-fc7c-4ff1-dc25-a429ee2e694d"
      },
      "execution_count": 43,
      "outputs": [
        {
          "output_type": "stream",
          "name": "stdout",
          "text": [
            "Weight for class 0: 0.50\n",
            "Weight for class 1: 289.44\n"
          ]
        }
      ]
    },
    {
      "cell_type": "markdown",
      "source": [
        "## 15. 클래스 가중치로 모델 교육"
      ],
      "metadata": {
        "id": "AfaCpvwR5R4d"
      }
    },
    {
      "cell_type": "code",
      "source": [
        "weighted_model = make_model()\n",
        "weighted_model.load_weights(initial_weights)\n",
        "\n",
        "weighted_history = weighted_model.fit(\n",
        "    train_features,\n",
        "    train_labels,\n",
        "    batch_size=BATCH_SIZE,\n",
        "    epochs=EPOCHS,\n",
        "    callbacks=[early_stopping],\n",
        "    validation_data=(val_features, val_labels),\n",
        "    class_weight=class_weight)"
      ],
      "metadata": {
        "colab": {
          "base_uri": "https://localhost:8080/"
        },
        "id": "W7x5rrnR5QrZ",
        "outputId": "bf21558b-c412-4543-9979-7dd9cc0d75d4"
      },
      "execution_count": 44,
      "outputs": [
        {
          "output_type": "stream",
          "name": "stdout",
          "text": [
            "Epoch 1/100\n",
            "90/90 [==============================] - 7s 29ms/step - loss: 1.6580 - tp: 169.0000 - fp: 487.0000 - tn: 238336.0000 - fn: 246.0000 - accuracy: 0.9969 - precision: 0.2576 - recall: 0.4072 - auc: 0.8123 - prc: 0.2332 - val_loss: 0.0115 - val_tp: 44.0000 - val_fp: 38.0000 - val_tn: 45454.0000 - val_fn: 33.0000 - val_accuracy: 0.9984 - val_precision: 0.5366 - val_recall: 0.5714 - val_auc: 0.8780 - val_prc: 0.4496\n",
            "Epoch 2/100\n",
            "90/90 [==============================] - 1s 8ms/step - loss: 0.9352 - tp: 188.0000 - fp: 1011.0000 - tn: 180932.0000 - fn: 145.0000 - accuracy: 0.9937 - precision: 0.1568 - recall: 0.5646 - auc: 0.8742 - prc: 0.2570 - val_loss: 0.0166 - val_tp: 59.0000 - val_fp: 82.0000 - val_tn: 45410.0000 - val_fn: 18.0000 - val_accuracy: 0.9978 - val_precision: 0.4184 - val_recall: 0.7662 - val_auc: 0.9387 - val_prc: 0.5719\n",
            "Epoch 3/100\n",
            "90/90 [==============================] - 1s 11ms/step - loss: 0.5619 - tp: 249.0000 - fp: 1517.0000 - tn: 180426.0000 - fn: 84.0000 - accuracy: 0.9912 - precision: 0.1410 - recall: 0.7477 - auc: 0.9215 - prc: 0.3756 - val_loss: 0.0220 - val_tp: 60.0000 - val_fp: 121.0000 - val_tn: 45371.0000 - val_fn: 17.0000 - val_accuracy: 0.9970 - val_precision: 0.3315 - val_recall: 0.7792 - val_auc: 0.9600 - val_prc: 0.5987\n",
            "Epoch 4/100\n",
            "90/90 [==============================] - 1s 6ms/step - loss: 0.4653 - tp: 259.0000 - fp: 2229.0000 - tn: 179714.0000 - fn: 74.0000 - accuracy: 0.9874 - precision: 0.1041 - recall: 0.7778 - auc: 0.9346 - prc: 0.3835 - val_loss: 0.0285 - val_tp: 61.0000 - val_fp: 187.0000 - val_tn: 45305.0000 - val_fn: 16.0000 - val_accuracy: 0.9955 - val_precision: 0.2460 - val_recall: 0.7922 - val_auc: 0.9622 - val_prc: 0.6025\n",
            "Epoch 5/100\n",
            "90/90 [==============================] - 0s 4ms/step - loss: 0.3397 - tp: 275.0000 - fp: 3233.0000 - tn: 178710.0000 - fn: 58.0000 - accuracy: 0.9819 - precision: 0.0784 - recall: 0.8258 - auc: 0.9464 - prc: 0.3526 - val_loss: 0.0380 - val_tp: 64.0000 - val_fp: 287.0000 - val_tn: 45205.0000 - val_fn: 13.0000 - val_accuracy: 0.9934 - val_precision: 0.1823 - val_recall: 0.8312 - val_auc: 0.9691 - val_prc: 0.6056\n",
            "Epoch 6/100\n",
            "90/90 [==============================] - 0s 4ms/step - loss: 0.3158 - tp: 279.0000 - fp: 4502.0000 - tn: 177441.0000 - fn: 54.0000 - accuracy: 0.9750 - precision: 0.0584 - recall: 0.8378 - auc: 0.9529 - prc: 0.3518 - val_loss: 0.0492 - val_tp: 68.0000 - val_fp: 461.0000 - val_tn: 45031.0000 - val_fn: 9.0000 - val_accuracy: 0.9897 - val_precision: 0.1285 - val_recall: 0.8831 - val_auc: 0.9692 - val_prc: 0.5468\n",
            "Epoch 7/100\n",
            "90/90 [==============================] - 0s 5ms/step - loss: 0.2732 - tp: 284.0000 - fp: 5680.0000 - tn: 176263.0000 - fn: 49.0000 - accuracy: 0.9686 - precision: 0.0476 - recall: 0.8529 - auc: 0.9612 - prc: 0.3127 - val_loss: 0.0582 - val_tp: 68.0000 - val_fp: 600.0000 - val_tn: 44892.0000 - val_fn: 9.0000 - val_accuracy: 0.9866 - val_precision: 0.1018 - val_recall: 0.8831 - val_auc: 0.9694 - val_prc: 0.5401\n",
            "Epoch 8/100\n",
            "90/90 [==============================] - 0s 5ms/step - loss: 0.2317 - tp: 299.0000 - fp: 6274.0000 - tn: 175669.0000 - fn: 34.0000 - accuracy: 0.9654 - precision: 0.0455 - recall: 0.8979 - auc: 0.9694 - prc: 0.3114 - val_loss: 0.0636 - val_tp: 69.0000 - val_fp: 669.0000 - val_tn: 44823.0000 - val_fn: 8.0000 - val_accuracy: 0.9851 - val_precision: 0.0935 - val_recall: 0.8961 - val_auc: 0.9690 - val_prc: 0.5420\n",
            "Epoch 9/100\n",
            "90/90 [==============================] - 0s 4ms/step - loss: 0.2343 - tp: 294.0000 - fp: 6450.0000 - tn: 175493.0000 - fn: 39.0000 - accuracy: 0.9644 - precision: 0.0436 - recall: 0.8829 - auc: 0.9704 - prc: 0.2958 - val_loss: 0.0681 - val_tp: 69.0000 - val_fp: 712.0000 - val_tn: 44780.0000 - val_fn: 8.0000 - val_accuracy: 0.9842 - val_precision: 0.0883 - val_recall: 0.8961 - val_auc: 0.9700 - val_prc: 0.5463\n",
            "Epoch 10/100\n",
            "90/90 [==============================] - 0s 5ms/step - loss: 0.2700 - tp: 291.0000 - fp: 7073.0000 - tn: 174870.0000 - fn: 42.0000 - accuracy: 0.9610 - precision: 0.0395 - recall: 0.8739 - auc: 0.9614 - prc: 0.2599 - val_loss: 0.0730 - val_tp: 69.0000 - val_fp: 771.0000 - val_tn: 44721.0000 - val_fn: 8.0000 - val_accuracy: 0.9829 - val_precision: 0.0821 - val_recall: 0.8961 - val_auc: 0.9697 - val_prc: 0.5289\n",
            "Epoch 11/100\n",
            "90/90 [==============================] - 0s 4ms/step - loss: 0.2353 - tp: 297.0000 - fp: 7032.0000 - tn: 174911.0000 - fn: 36.0000 - accuracy: 0.9612 - precision: 0.0405 - recall: 0.8919 - auc: 0.9672 - prc: 0.2807 - val_loss: 0.0744 - val_tp: 69.0000 - val_fp: 775.0000 - val_tn: 44717.0000 - val_fn: 8.0000 - val_accuracy: 0.9828 - val_precision: 0.0818 - val_recall: 0.8961 - val_auc: 0.9704 - val_prc: 0.5410\n",
            "Epoch 12/100\n",
            "90/90 [==============================] - 0s 5ms/step - loss: 0.2423 - tp: 292.0000 - fp: 7399.0000 - tn: 174544.0000 - fn: 41.0000 - accuracy: 0.9592 - precision: 0.0380 - recall: 0.8769 - auc: 0.9657 - prc: 0.2544 - val_loss: 0.0803 - val_tp: 69.0000 - val_fp: 902.0000 - val_tn: 44590.0000 - val_fn: 8.0000 - val_accuracy: 0.9800 - val_precision: 0.0711 - val_recall: 0.8961 - val_auc: 0.9706 - val_prc: 0.5278\n",
            "Epoch 13/100\n",
            "90/90 [==============================] - 0s 4ms/step - loss: 0.2408 - tp: 295.0000 - fp: 7742.0000 - tn: 174201.0000 - fn: 38.0000 - accuracy: 0.9573 - precision: 0.0367 - recall: 0.8859 - auc: 0.9685 - prc: 0.2458 - val_loss: 0.0865 - val_tp: 69.0000 - val_fp: 999.0000 - val_tn: 44493.0000 - val_fn: 8.0000 - val_accuracy: 0.9779 - val_precision: 0.0646 - val_recall: 0.8961 - val_auc: 0.9710 - val_prc: 0.5213\n",
            "Epoch 14/100\n",
            "90/90 [==============================] - 0s 4ms/step - loss: 0.2136 - tp: 299.0000 - fp: 7886.0000 - tn: 174057.0000 - fn: 34.0000 - accuracy: 0.9565 - precision: 0.0365 - recall: 0.8979 - auc: 0.9732 - prc: 0.2531 - val_loss: 0.0857 - val_tp: 69.0000 - val_fp: 975.0000 - val_tn: 44517.0000 - val_fn: 8.0000 - val_accuracy: 0.9784 - val_precision: 0.0661 - val_recall: 0.8961 - val_auc: 0.9712 - val_prc: 0.5519\n",
            "Epoch 15/100\n",
            "90/90 [==============================] - 0s 5ms/step - loss: 0.2271 - tp: 302.0000 - fp: 7484.0000 - tn: 174459.0000 - fn: 31.0000 - accuracy: 0.9588 - precision: 0.0388 - recall: 0.9069 - auc: 0.9672 - prc: 0.2574 - val_loss: 0.0829 - val_tp: 69.0000 - val_fp: 949.0000 - val_tn: 44543.0000 - val_fn: 8.0000 - val_accuracy: 0.9790 - val_precision: 0.0678 - val_recall: 0.8961 - val_auc: 0.9717 - val_prc: 0.5448\n",
            "Epoch 16/100\n",
            "90/90 [==============================] - 0s 4ms/step - loss: 0.2072 - tp: 301.0000 - fp: 7174.0000 - tn: 174769.0000 - fn: 32.0000 - accuracy: 0.9605 - precision: 0.0403 - recall: 0.9039 - auc: 0.9760 - prc: 0.2688 - val_loss: 0.0801 - val_tp: 69.0000 - val_fp: 899.0000 - val_tn: 44593.0000 - val_fn: 8.0000 - val_accuracy: 0.9801 - val_precision: 0.0713 - val_recall: 0.8961 - val_auc: 0.9719 - val_prc: 0.5492\n",
            "Epoch 17/100\n",
            "90/90 [==============================] - 0s 4ms/step - loss: 0.2020 - tp: 302.0000 - fp: 7082.0000 - tn: 174861.0000 - fn: 31.0000 - accuracy: 0.9610 - precision: 0.0409 - recall: 0.9069 - auc: 0.9759 - prc: 0.2703 - val_loss: 0.0789 - val_tp: 69.0000 - val_fp: 868.0000 - val_tn: 44624.0000 - val_fn: 8.0000 - val_accuracy: 0.9808 - val_precision: 0.0736 - val_recall: 0.8961 - val_auc: 0.9717 - val_prc: 0.5444\n",
            "Epoch 18/100\n",
            "90/90 [==============================] - 0s 4ms/step - loss: 0.2102 - tp: 301.0000 - fp: 7039.0000 - tn: 174904.0000 - fn: 32.0000 - accuracy: 0.9612 - precision: 0.0410 - recall: 0.9039 - auc: 0.9721 - prc: 0.2827 - val_loss: 0.0757 - val_tp: 69.0000 - val_fp: 813.0000 - val_tn: 44679.0000 - val_fn: 8.0000 - val_accuracy: 0.9820 - val_precision: 0.0782 - val_recall: 0.8961 - val_auc: 0.9720 - val_prc: 0.5455\n",
            "Epoch 19/100\n",
            "90/90 [==============================] - 0s 4ms/step - loss: 0.2162 - tp: 302.0000 - fp: 6546.0000 - tn: 175397.0000 - fn: 31.0000 - accuracy: 0.9639 - precision: 0.0441 - recall: 0.9069 - auc: 0.9714 - prc: 0.2955 - val_loss: 0.0735 - val_tp: 69.0000 - val_fp: 771.0000 - val_tn: 44721.0000 - val_fn: 8.0000 - val_accuracy: 0.9829 - val_precision: 0.0821 - val_recall: 0.8961 - val_auc: 0.9725 - val_prc: 0.5559\n",
            "Epoch 20/100\n",
            "90/90 [==============================] - 0s 5ms/step - loss: 0.1947 - tp: 307.0000 - fp: 6508.0000 - tn: 175435.0000 - fn: 26.0000 - accuracy: 0.9642 - precision: 0.0450 - recall: 0.9219 - auc: 0.9759 - prc: 0.3037 - val_loss: 0.0737 - val_tp: 69.0000 - val_fp: 770.0000 - val_tn: 44722.0000 - val_fn: 8.0000 - val_accuracy: 0.9829 - val_precision: 0.0822 - val_recall: 0.8961 - val_auc: 0.9718 - val_prc: 0.5554\n",
            "Epoch 21/100\n",
            "90/90 [==============================] - 0s 5ms/step - loss: 0.2138 - tp: 299.0000 - fp: 6282.0000 - tn: 175661.0000 - fn: 34.0000 - accuracy: 0.9653 - precision: 0.0454 - recall: 0.8979 - auc: 0.9745 - prc: 0.3130 - val_loss: 0.0746 - val_tp: 69.0000 - val_fp: 781.0000 - val_tn: 44711.0000 - val_fn: 8.0000 - val_accuracy: 0.9827 - val_precision: 0.0812 - val_recall: 0.8961 - val_auc: 0.9724 - val_prc: 0.5537\n",
            "Epoch 22/100\n",
            "90/90 [==============================] - 0s 4ms/step - loss: 0.2008 - tp: 298.0000 - fp: 6753.0000 - tn: 175190.0000 - fn: 35.0000 - accuracy: 0.9628 - precision: 0.0423 - recall: 0.8949 - auc: 0.9775 - prc: 0.2964 - val_loss: 0.0776 - val_tp: 69.0000 - val_fp: 829.0000 - val_tn: 44663.0000 - val_fn: 8.0000 - val_accuracy: 0.9816 - val_precision: 0.0768 - val_recall: 0.8961 - val_auc: 0.9723 - val_prc: 0.5538\n",
            "Epoch 23/100\n",
            "90/90 [==============================] - 0s 5ms/step - loss: 0.1961 - tp: 300.0000 - fp: 6550.0000 - tn: 175393.0000 - fn: 33.0000 - accuracy: 0.9639 - precision: 0.0438 - recall: 0.9009 - auc: 0.9777 - prc: 0.3013 - val_loss: 0.0749 - val_tp: 69.0000 - val_fp: 776.0000 - val_tn: 44716.0000 - val_fn: 8.0000 - val_accuracy: 0.9828 - val_precision: 0.0817 - val_recall: 0.8961 - val_auc: 0.9723 - val_prc: 0.5578\n",
            "Epoch 24/100\n",
            "90/90 [==============================] - 0s 5ms/step - loss: 0.1940 - tp: 307.0000 - fp: 6341.0000 - tn: 175602.0000 - fn: 26.0000 - accuracy: 0.9651 - precision: 0.0462 - recall: 0.9219 - auc: 0.9763 - prc: 0.3255 - val_loss: 0.0722 - val_tp: 69.0000 - val_fp: 729.0000 - val_tn: 44763.0000 - val_fn: 8.0000 - val_accuracy: 0.9838 - val_precision: 0.0865 - val_recall: 0.8961 - val_auc: 0.9728 - val_prc: 0.5583\n",
            "Epoch 25/100\n",
            "90/90 [==============================] - 0s 4ms/step - loss: 0.2163 - tp: 296.0000 - fp: 6456.0000 - tn: 175487.0000 - fn: 37.0000 - accuracy: 0.9644 - precision: 0.0438 - recall: 0.8889 - auc: 0.9767 - prc: 0.2948 - val_loss: 0.0792 - val_tp: 69.0000 - val_fp: 838.0000 - val_tn: 44654.0000 - val_fn: 8.0000 - val_accuracy: 0.9814 - val_precision: 0.0761 - val_recall: 0.8961 - val_auc: 0.9724 - val_prc: 0.5546\n",
            "Epoch 26/100\n",
            "90/90 [==============================] - 0s 5ms/step - loss: 0.2023 - tp: 300.0000 - fp: 6295.0000 - tn: 175648.0000 - fn: 33.0000 - accuracy: 0.9653 - precision: 0.0455 - recall: 0.9009 - auc: 0.9771 - prc: 0.3202 - val_loss: 0.0764 - val_tp: 69.0000 - val_fp: 789.0000 - val_tn: 44703.0000 - val_fn: 8.0000 - val_accuracy: 0.9825 - val_precision: 0.0804 - val_recall: 0.8961 - val_auc: 0.9724 - val_prc: 0.5542\n",
            "Epoch 27/100\n",
            "90/90 [==============================] - 0s 5ms/step - loss: 0.1556 - tp: 308.0000 - fp: 6266.0000 - tn: 175677.0000 - fn: 25.0000 - accuracy: 0.9655 - precision: 0.0469 - recall: 0.9249 - auc: 0.9848 - prc: 0.3264 - val_loss: 0.0724 - val_tp: 69.0000 - val_fp: 737.0000 - val_tn: 44755.0000 - val_fn: 8.0000 - val_accuracy: 0.9837 - val_precision: 0.0856 - val_recall: 0.8961 - val_auc: 0.9726 - val_prc: 0.5590\n",
            "Epoch 28/100\n",
            "90/90 [==============================] - 0s 4ms/step - loss: 0.1679 - tp: 305.0000 - fp: 6158.0000 - tn: 175785.0000 - fn: 28.0000 - accuracy: 0.9661 - precision: 0.0472 - recall: 0.9159 - auc: 0.9846 - prc: 0.3139 - val_loss: 0.0760 - val_tp: 69.0000 - val_fp: 791.0000 - val_tn: 44701.0000 - val_fn: 8.0000 - val_accuracy: 0.9825 - val_precision: 0.0802 - val_recall: 0.8961 - val_auc: 0.9723 - val_prc: 0.5546\n",
            "Epoch 29/100\n",
            "90/90 [==============================] - 0s 5ms/step - loss: 0.1909 - tp: 301.0000 - fp: 6394.0000 - tn: 175549.0000 - fn: 32.0000 - accuracy: 0.9647 - precision: 0.0450 - recall: 0.9039 - auc: 0.9796 - prc: 0.3223 - val_loss: 0.0752 - val_tp: 69.0000 - val_fp: 783.0000 - val_tn: 44709.0000 - val_fn: 8.0000 - val_accuracy: 0.9826 - val_precision: 0.0810 - val_recall: 0.8961 - val_auc: 0.9716 - val_prc: 0.5535\n",
            "Epoch 30/100\n",
            "90/90 [==============================] - 0s 5ms/step - loss: 0.1927 - tp: 302.0000 - fp: 6298.0000 - tn: 175645.0000 - fn: 31.0000 - accuracy: 0.9653 - precision: 0.0458 - recall: 0.9069 - auc: 0.9777 - prc: 0.3192 - val_loss: 0.0755 - val_tp: 69.0000 - val_fp: 790.0000 - val_tn: 44702.0000 - val_fn: 8.0000 - val_accuracy: 0.9825 - val_precision: 0.0803 - val_recall: 0.8961 - val_auc: 0.9717 - val_prc: 0.5531\n",
            "Epoch 31/100\n",
            "90/90 [==============================] - 0s 4ms/step - loss: 0.2109 - tp: 303.0000 - fp: 6263.0000 - tn: 175680.0000 - fn: 30.0000 - accuracy: 0.9655 - precision: 0.0461 - recall: 0.9099 - auc: 0.9719 - prc: 0.3296 - val_loss: 0.0769 - val_tp: 69.0000 - val_fp: 812.0000 - val_tn: 44680.0000 - val_fn: 8.0000 - val_accuracy: 0.9820 - val_precision: 0.0783 - val_recall: 0.8961 - val_auc: 0.9716 - val_prc: 0.5537\n",
            "Epoch 32/100\n",
            "90/90 [==============================] - 0s 4ms/step - loss: 0.1669 - tp: 309.0000 - fp: 6137.0000 - tn: 175806.0000 - fn: 24.0000 - accuracy: 0.9662 - precision: 0.0479 - recall: 0.9279 - auc: 0.9833 - prc: 0.3072 - val_loss: 0.0749 - val_tp: 69.0000 - val_fp: 774.0000 - val_tn: 44718.0000 - val_fn: 8.0000 - val_accuracy: 0.9828 - val_precision: 0.0819 - val_recall: 0.8961 - val_auc: 0.9720 - val_prc: 0.5538\n",
            "Epoch 33/100\n",
            "90/90 [==============================] - 0s 4ms/step - loss: 0.2116 - tp: 298.0000 - fp: 6117.0000 - tn: 175826.0000 - fn: 35.0000 - accuracy: 0.9662 - precision: 0.0465 - recall: 0.8949 - auc: 0.9734 - prc: 0.3114 - val_loss: 0.0765 - val_tp: 69.0000 - val_fp: 808.0000 - val_tn: 44684.0000 - val_fn: 8.0000 - val_accuracy: 0.9821 - val_precision: 0.0787 - val_recall: 0.8961 - val_auc: 0.9721 - val_prc: 0.5538\n",
            "Epoch 34/100\n",
            "81/90 [==========================>...] - ETA: 0s - loss: 0.1693 - tp: 287.0000 - fp: 5458.0000 - tn: 160120.0000 - fn: 23.0000 - accuracy: 0.9670 - precision: 0.0500 - recall: 0.9258 - auc: 0.9834 - prc: 0.3390Restoring model weights from the end of the best epoch: 24.\n",
            "90/90 [==============================] - 0s 5ms/step - loss: 0.1721 - tp: 307.0000 - fp: 5970.0000 - tn: 175973.0000 - fn: 26.0000 - accuracy: 0.9671 - precision: 0.0489 - recall: 0.9219 - auc: 0.9824 - prc: 0.3382 - val_loss: 0.0712 - val_tp: 69.0000 - val_fp: 714.0000 - val_tn: 44778.0000 - val_fn: 8.0000 - val_accuracy: 0.9842 - val_precision: 0.0881 - val_recall: 0.8961 - val_auc: 0.9723 - val_prc: 0.5589\n",
            "Epoch 34: early stopping\n"
          ]
        }
      ]
    },
    {
      "cell_type": "markdown",
      "source": [
        "## 16. 학습 이력 조회"
      ],
      "metadata": {
        "id": "8o3ZONZU5vsO"
      }
    },
    {
      "cell_type": "code",
      "source": [
        "plot_metrics(weighted_history)"
      ],
      "metadata": {
        "colab": {
          "base_uri": "https://localhost:8080/",
          "height": 283
        },
        "id": "jHTVJZi65X5Y",
        "outputId": "55fdba23-6927-41a7-b349-3cce4223ba61"
      },
      "execution_count": 45,
      "outputs": [
        {
          "output_type": "display_data",
          "data": {
            "text/plain": [
              "<Figure size 432x288 with 4 Axes>"
            ],
            "image/png": "[encoded data removed]"
          },
          "metadata": {
            "needs_background": "light"
          }
        }
      ]
    },
    {
      "cell_type": "markdown",
      "source": [
        "## 17. 매트릭 평가"
      ],
      "metadata": {
        "id": "6YFCzaEh5_VO"
      }
    },
    {
      "cell_type": "code",
      "source": [
        "train_predictions_weighted = weighted_model.predict(train_features, batch_size=BATCH_SIZE)\n",
        "test_predictions_weighted = weighted_model.predict(test_features, batch_size=BATCH_SIZE)"
      ],
      "metadata": {
        "id": "OfOGSRKP5ztU"
      },
      "execution_count": 46,
      "outputs": []
    },
    {
      "cell_type": "code",
      "source": [
        "weighted_results = weighted_model.evaluate(test_features, test_labels,\n",
        "                                           batch_size=BATCH_SIZE, verbose=0)\n",
        "for name, value in zip(weighted_model.metrics_names, weighted_results):\n",
        "  print(name, ': ', value)\n",
        "print()\n",
        "\n",
        "plot_cm(test_labels, test_predictions_weighted)"
      ],
      "metadata": {
        "colab": {
          "base_uri": "https://localhost:8080/",
          "height": 640
        },
        "id": "4TbxwXkW6JIf",
        "outputId": "ab8ba0f2-c55d-4fe8-c160-b544116dc020"
      },
      "execution_count": 47,
      "outputs": [
        {
          "output_type": "stream",
          "name": "stdout",
          "text": [
            "loss :  0.06780388951301575\n",
            "tp :  71.0\n",
            "fp :  863.0\n",
            "tn :  56017.0\n",
            "fn :  11.0\n",
            "accuracy :  0.9846564531326294\n",
            "precision :  0.07601713389158249\n",
            "recall :  0.8658536672592163\n",
            "auc :  0.9545950293540955\n",
            "prc :  0.4959728717803955\n",
            "\n",
            "Legitimate Transactions Detected (True Negatives):  56017\n",
            "Legitimate Transactions Incorrectly Detected (False Positives):  863\n",
            "Fraudulent Transactions Missed (False Negatives):  11\n",
            "Fraudulent Transactions Detected (True Positives):  71\n",
            "Total Fraudulent Transactions:  82\n"
          ]
        },
        {
          "output_type": "display_data",
          "data": {
            "text/plain": [
              "<Figure size 360x360 with 2 Axes>"
            ],
            "image/png": "[encoded data removed]"
          },
          "metadata": {
            "needs_background": "light"
          }
        }
      ]
    },
    {
      "cell_type": "markdown",
      "source": [
        "## 18. ROC 플로팅"
      ],
      "metadata": {
        "id": "vtVZJB9D6P-V"
      }
    },
    {
      "cell_type": "code",
      "source": [
        "plot_roc(\"Train Baseline\", train_labels, train_predictions_baseline, color='green')\n",
        "plot_roc(\"Test Baseline\", test_labels, test_predictions_baseline, color='green', linestyle='--')\n",
        "\n",
        "plot_roc(\"Train Weighted\", train_labels, train_predictions_weighted, color='blue')\n",
        "plot_roc(\"Test Weighted\", test_labels, test_predictions_weighted, color='blue', linestyle='--')\n",
        "\n",
        "\n",
        "plt.legend(loc='lower right')"
      ],
      "metadata": {
        "colab": {
          "base_uri": "https://localhost:8080/",
          "height": 297
        },
        "id": "wblF3po86LWl",
        "outputId": "bef7b374-25bd-4f4f-f851-3d2bec8b4a3e"
      },
      "execution_count": 48,
      "outputs": [
        {
          "output_type": "execute_result",
          "data": {
            "text/plain": [
              "<matplotlib.legend.Legend at 0x7f7e32da6c90>"
            ]
          },
          "metadata": {},
          "execution_count": 48
        },
        {
          "output_type": "display_data",
          "data": {
            "text/plain": [
              "<Figure size 432x288 with 1 Axes>"
            ],
            "image/png": "[encoded data removed]"
          },
          "metadata": {
            "needs_background": "light"
          }
        }
      ]
    },
    {
      "cell_type": "markdown",
      "source": [
        "## 19. AUPRC 플로팅"
      ],
      "metadata": {
        "id": "6X93TLn76fr2"
      }
    },
    {
      "cell_type": "code",
      "source": [
        "plot_prc(\"Train Baseline\", train_labels, train_predictions_baseline, color='green')\n",
        "plot_prc(\"Test Baseline\", test_labels, test_predictions_baseline, color='green', linestyle='--')\n",
        "\n",
        "plot_prc(\"Train Weighted\", train_labels, train_predictions_weighted, color='blue')\n",
        "plot_prc(\"Test Weighted\", test_labels, test_predictions_weighted, color='blue', linestyle='--')\n",
        "\n",
        "\n",
        "plt.legend(loc='lower right')"
      ],
      "metadata": {
        "colab": {
          "base_uri": "https://localhost:8080/",
          "height": 297
        },
        "id": "EzbmuCzx6cOt",
        "outputId": "636ded66-8e44-4d6b-8934-b6dd6bbbedf3"
      },
      "execution_count": 49,
      "outputs": [
        {
          "output_type": "execute_result",
          "data": {
            "text/plain": [
              "<matplotlib.legend.Legend at 0x7f7e32d17290>"
            ]
          },
          "metadata": {},
          "execution_count": 49
        },
        {
          "output_type": "display_data",
          "data": {
            "text/plain": [
              "<Figure size 432x288 with 1 Axes>"
            ],
            "image/png": "[encoded data removed]"
          },
          "metadata": {
            "needs_background": "light"
          }
        }
      ]
    },
    {
      "cell_type": "markdown",
      "source": [
        "## 20. 오버샘플링"
      ],
      "metadata": {
        "id": "BnMq5aUw6zl7"
      }
    },
    {
      "cell_type": "code",
      "source": [
        "# 데이터 리샘플링\n",
        "pos_features = train_features[bool_train_labels]\n",
        "neg_features = train_features[~bool_train_labels]\n",
        "\n",
        "pos_labels = train_labels[bool_train_labels]\n",
        "neg_labels = train_labels[~bool_train_labels]"
      ],
      "metadata": {
        "id": "ShEQuGDX6pkk"
      },
      "execution_count": 50,
      "outputs": []
    },
    {
      "cell_type": "code",
      "source": [
        "ids = np.arange(len(pos_features))\n",
        "choices = np.random.choice(ids, len(neg_features))\n",
        "\n",
        "res_pos_features = pos_features[choices]\n",
        "res_pos_labels = pos_labels[choices]\n",
        "\n",
        "res_pos_features.shape"
      ],
      "metadata": {
        "colab": {
          "base_uri": "https://localhost:8080/"
        },
        "id": "DCChKrjB65SP",
        "outputId": "d69b66d8-ae10-4b73-91d8-317ab51fb6c6"
      },
      "execution_count": 51,
      "outputs": [
        {
          "output_type": "execute_result",
          "data": {
            "text/plain": [
              "(181943, 29)"
            ]
          },
          "metadata": {},
          "execution_count": 51
        }
      ]
    },
    {
      "cell_type": "code",
      "source": [
        "resampled_features = np.concatenate([res_pos_features, neg_features], axis=0)\n",
        "resampled_labels = np.concatenate([res_pos_labels, neg_labels], axis=0)\n",
        "\n",
        "order = np.arange(len(resampled_labels))\n",
        "np.random.shuffle(order)\n",
        "resampled_features = resampled_features[order]\n",
        "resampled_labels = resampled_labels[order]\n",
        "\n",
        "resampled_features.shape"
      ],
      "metadata": {
        "colab": {
          "base_uri": "https://localhost:8080/"
        },
        "id": "9E1witGy6752",
        "outputId": "b64bfb17-d545-44c0-e4e1-2961182e5767"
      },
      "execution_count": 52,
      "outputs": [
        {
          "output_type": "execute_result",
          "data": {
            "text/plain": [
              "(363886, 29)"
            ]
          },
          "metadata": {},
          "execution_count": 52
        }
      ]
    },
    {
      "cell_type": "code",
      "source": [
        "# tf.data 사용\n",
        "BUFFER_SIZE = 100000\n",
        "\n",
        "def make_ds(features, labels):\n",
        "  ds = tf.data.Dataset.from_tensor_slices((features, labels))#.cache()\n",
        "  ds = ds.shuffle(BUFFER_SIZE).repeat()\n",
        "  return ds\n",
        "\n",
        "pos_ds = make_ds(pos_features, pos_labels)\n",
        "neg_ds = make_ds(neg_features, neg_labels)"
      ],
      "metadata": {
        "id": "nABEq3aA69RR"
      },
      "execution_count": 53,
      "outputs": []
    },
    {
      "cell_type": "code",
      "source": [
        "for features, label in pos_ds.take(1):\n",
        "  print(\"Features:\\n\", features.numpy())\n",
        "  print()\n",
        "  print(\"Label: \", label.numpy())"
      ],
      "metadata": {
        "colab": {
          "base_uri": "https://localhost:8080/"
        },
        "id": "wZ9B6Erm7D2b",
        "outputId": "f73459d2-2449-463a-d230-8453989bd749"
      },
      "execution_count": 54,
      "outputs": [
        {
          "output_type": "stream",
          "name": "stdout",
          "text": [
            "Features:\n",
            " [ 2.31219083e-03  1.45114863e+00 -1.71661032e+00  7.85299829e-01\n",
            "  2.40283003e+00 -1.34069188e+00  1.74308135e+00 -7.06114787e-01\n",
            "  8.21577248e-01 -3.10318759e+00  2.01374622e+00 -3.97081720e+00\n",
            "  1.02922358e+00 -5.00000000e+00 -1.26102426e+00  1.91401620e+00\n",
            "  5.00000000e+00  3.32010515e+00 -2.75325952e+00 -9.85482237e-03\n",
            " -7.80918234e-01 -1.24567000e+00 -6.58321284e-01 -2.26209108e-02\n",
            "  1.13761155e+00 -1.52436845e+00 -1.11262958e+00 -1.15947668e+00\n",
            " -1.45282074e+00]\n",
            "\n",
            "Label:  1\n"
          ]
        }
      ]
    },
    {
      "cell_type": "code",
      "source": [
        "resampled_ds = tf.data.experimental.sample_from_datasets([pos_ds, neg_ds], weights=[0.5, 0.5])\n",
        "resampled_ds = resampled_ds.batch(BATCH_SIZE).prefetch(2)"
      ],
      "metadata": {
        "colab": {
          "base_uri": "https://localhost:8080/"
        },
        "id": "P_rlOujH7GNt",
        "outputId": "a6200075-34c5-425e-8fb6-3589c4e94585"
      },
      "execution_count": 55,
      "outputs": [
        {
          "output_type": "stream",
          "name": "stdout",
          "text": [
            "WARNING:tensorflow:From <ipython-input-55-e51dea4c32f8>:1: sample_from_datasets_v2 (from tensorflow.python.data.experimental.ops.interleave_ops) is deprecated and will be removed in a future version.\n",
            "Instructions for updating:\n",
            "Use `tf.data.Dataset.sample_from_datasets(...)`.\n"
          ]
        },
        {
          "output_type": "stream",
          "name": "stderr",
          "text": [
            "WARNING:tensorflow:From <ipython-input-55-e51dea4c32f8>:1: sample_from_datasets_v2 (from tensorflow.python.data.experimental.ops.interleave_ops) is deprecated and will be removed in a future version.\n",
            "Instructions for updating:\n",
            "Use `tf.data.Dataset.sample_from_datasets(...)`.\n"
          ]
        }
      ]
    },
    {
      "cell_type": "code",
      "source": [
        "for features, label in resampled_ds.take(1):\n",
        "  print(label.numpy().mean())"
      ],
      "metadata": {
        "colab": {
          "base_uri": "https://localhost:8080/"
        },
        "id": "-U4kzWYY7O76",
        "outputId": "dfb9a48d-8ee5-44e7-c99a-d8484fdc4f8a"
      },
      "execution_count": 56,
      "outputs": [
        {
          "output_type": "stream",
          "name": "stdout",
          "text": [
            "0.49267578125\n"
          ]
        }
      ]
    },
    {
      "cell_type": "code",
      "source": [
        "resampled_steps_per_epoch = np.ceil(2.0*neg/BATCH_SIZE)\n",
        "resampled_steps_per_epoch"
      ],
      "metadata": {
        "colab": {
          "base_uri": "https://localhost:8080/"
        },
        "id": "c210K6L97Ra_",
        "outputId": "10723f11-6360-4701-c91b-f90f5709ebb3"
      },
      "execution_count": 57,
      "outputs": [
        {
          "output_type": "execute_result",
          "data": {
            "text/plain": [
              "278.0"
            ]
          },
          "metadata": {},
          "execution_count": 57
        }
      ]
    },
    {
      "cell_type": "markdown",
      "source": [
        "## 21. 오버 샘플링된 데이터에 대한 학습"
      ],
      "metadata": {
        "id": "NqfudCHk7VxP"
      }
    },
    {
      "cell_type": "code",
      "source": [
        "resampled_model = make_model()\n",
        "resampled_model.load_weights(initial_weights)\n",
        "\n",
        "output_layer = resampled_model.layers[-1] \n",
        "output_layer.bias.assign([0])\n",
        "\n",
        "val_ds = tf.data.Dataset.from_tensor_slices((val_features, val_labels)).cache()\n",
        "val_ds = val_ds.batch(BATCH_SIZE).prefetch(2) \n",
        "\n",
        "resampled_history = resampled_model.fit(\n",
        "    resampled_ds,\n",
        "    epochs=EPOCHS,\n",
        "    steps_per_epoch=resampled_steps_per_epoch,\n",
        "    callbacks=[early_stopping],\n",
        "    validation_data=val_ds)"
      ],
      "metadata": {
        "colab": {
          "base_uri": "https://localhost:8080/"
        },
        "id": "G7sEzSFU7Tnk",
        "outputId": "40011089-1bb1-456a-b20a-e19e07b84f76"
      },
      "execution_count": 58,
      "outputs": [
        {
          "output_type": "stream",
          "name": "stdout",
          "text": [
            "Epoch 1/100\n",
            "278/278 [==============================] - 24s 69ms/step - loss: 0.3720 - tp: 246965.0000 - fp: 68764.0000 - tn: 272364.0000 - fn: 38213.0000 - accuracy: 0.8292 - precision: 0.7822 - recall: 0.8660 - auc: 0.9317 - prc: 0.9379 - val_loss: 0.1748 - val_tp: 68.0000 - val_fp: 1042.0000 - val_tn: 44450.0000 - val_fn: 9.0000 - val_accuracy: 0.9769 - val_precision: 0.0613 - val_recall: 0.8831 - val_auc: 0.9637 - val_prc: 0.6972\n",
            "Epoch 2/100\n",
            "278/278 [==============================] - 17s 61ms/step - loss: 0.1718 - tp: 261215.0000 - fp: 14824.0000 - tn: 269755.0000 - fn: 23550.0000 - accuracy: 0.9326 - precision: 0.9463 - recall: 0.9173 - auc: 0.9812 - prc: 0.9846 - val_loss: 0.0931 - val_tp: 69.0000 - val_fp: 813.0000 - val_tn: 44679.0000 - val_fn: 8.0000 - val_accuracy: 0.9820 - val_precision: 0.0782 - val_recall: 0.8961 - val_auc: 0.9642 - val_prc: 0.7372\n",
            "Epoch 3/100\n",
            "278/278 [==============================] - 17s 61ms/step - loss: 0.1323 - tp: 265076.0000 - fp: 10347.0000 - tn: 275254.0000 - fn: 18667.0000 - accuracy: 0.9490 - precision: 0.9624 - recall: 0.9342 - auc: 0.9890 - prc: 0.9904 - val_loss: 0.0688 - val_tp: 69.0000 - val_fp: 730.0000 - val_tn: 44762.0000 - val_fn: 8.0000 - val_accuracy: 0.9838 - val_precision: 0.0864 - val_recall: 0.8961 - val_auc: 0.9651 - val_prc: 0.7150\n",
            "Epoch 4/100\n",
            "278/278 [==============================] - 16s 57ms/step - loss: 0.1151 - tp: 268404.0000 - fp: 9104.0000 - tn: 275208.0000 - fn: 16628.0000 - accuracy: 0.9548 - precision: 0.9672 - recall: 0.9417 - auc: 0.9918 - prc: 0.9926 - val_loss: 0.0604 - val_tp: 69.0000 - val_fp: 694.0000 - val_tn: 44798.0000 - val_fn: 8.0000 - val_accuracy: 0.9846 - val_precision: 0.0904 - val_recall: 0.8961 - val_auc: 0.9672 - val_prc: 0.7043\n",
            "Epoch 5/100\n",
            "278/278 [==============================] - 16s 57ms/step - loss: 0.1041 - tp: 269365.0000 - fp: 8299.0000 - tn: 276815.0000 - fn: 14865.0000 - accuracy: 0.9593 - precision: 0.9701 - recall: 0.9477 - auc: 0.9935 - prc: 0.9939 - val_loss: 0.0544 - val_tp: 69.0000 - val_fp: 633.0000 - val_tn: 44859.0000 - val_fn: 8.0000 - val_accuracy: 0.9859 - val_precision: 0.0983 - val_recall: 0.8961 - val_auc: 0.9652 - val_prc: 0.7050\n",
            "Epoch 6/100\n",
            "278/278 [==============================] - 17s 60ms/step - loss: 0.0942 - tp: 271362.0000 - fp: 7557.0000 - tn: 276927.0000 - fn: 13498.0000 - accuracy: 0.9630 - precision: 0.9729 - recall: 0.9526 - auc: 0.9950 - prc: 0.9951 - val_loss: 0.0489 - val_tp: 69.0000 - val_fp: 575.0000 - val_tn: 44917.0000 - val_fn: 8.0000 - val_accuracy: 0.9872 - val_precision: 0.1071 - val_recall: 0.8961 - val_auc: 0.9667 - val_prc: 0.6878\n",
            "Epoch 7/100\n",
            "278/278 [==============================] - 17s 61ms/step - loss: 0.0865 - tp: 272116.0000 - fp: 7230.0000 - tn: 277518.0000 - fn: 12480.0000 - accuracy: 0.9654 - precision: 0.9741 - recall: 0.9561 - auc: 0.9959 - prc: 0.9958 - val_loss: 0.0445 - val_tp: 70.0000 - val_fp: 537.0000 - val_tn: 44955.0000 - val_fn: 7.0000 - val_accuracy: 0.9881 - val_precision: 0.1153 - val_recall: 0.9091 - val_auc: 0.9679 - val_prc: 0.6888\n",
            "Epoch 8/100\n",
            "278/278 [==============================] - 16s 57ms/step - loss: 0.0801 - tp: 272850.0000 - fp: 6832.0000 - tn: 277833.0000 - fn: 11829.0000 - accuracy: 0.9672 - precision: 0.9756 - recall: 0.9584 - auc: 0.9966 - prc: 0.9964 - val_loss: 0.0407 - val_tp: 70.0000 - val_fp: 517.0000 - val_tn: 44975.0000 - val_fn: 7.0000 - val_accuracy: 0.9885 - val_precision: 0.1193 - val_recall: 0.9091 - val_auc: 0.9689 - val_prc: 0.6798\n",
            "Epoch 9/100\n",
            "278/278 [==============================] - 16s 58ms/step - loss: 0.0750 - tp: 274403.0000 - fp: 6464.0000 - tn: 277949.0000 - fn: 10528.0000 - accuracy: 0.9702 - precision: 0.9770 - recall: 0.9631 - auc: 0.9970 - prc: 0.9968 - val_loss: 0.0374 - val_tp: 70.0000 - val_fp: 497.0000 - val_tn: 44995.0000 - val_fn: 7.0000 - val_accuracy: 0.9889 - val_precision: 0.1235 - val_recall: 0.9091 - val_auc: 0.9697 - val_prc: 0.6582\n",
            "Epoch 10/100\n",
            "278/278 [==============================] - 16s 57ms/step - loss: 0.0712 - tp: 275486.0000 - fp: 6242.0000 - tn: 277883.0000 - fn: 9733.0000 - accuracy: 0.9719 - precision: 0.9778 - recall: 0.9659 - auc: 0.9973 - prc: 0.9971 - val_loss: 0.0341 - val_tp: 70.0000 - val_fp: 461.0000 - val_tn: 45031.0000 - val_fn: 7.0000 - val_accuracy: 0.9897 - val_precision: 0.1318 - val_recall: 0.9091 - val_auc: 0.9651 - val_prc: 0.6584\n",
            "Epoch 11/100\n",
            "278/278 [==============================] - 16s 58ms/step - loss: 0.0683 - tp: 274826.0000 - fp: 6028.0000 - tn: 279195.0000 - fn: 9295.0000 - accuracy: 0.9731 - precision: 0.9785 - recall: 0.9673 - auc: 0.9974 - prc: 0.9971 - val_loss: 0.0315 - val_tp: 70.0000 - val_fp: 436.0000 - val_tn: 45056.0000 - val_fn: 7.0000 - val_accuracy: 0.9903 - val_precision: 0.1383 - val_recall: 0.9091 - val_auc: 0.9659 - val_prc: 0.6531\n",
            "Epoch 12/100\n",
            "278/278 [==============================] - 17s 60ms/step - loss: 0.0648 - tp: 275929.0000 - fp: 5963.0000 - tn: 278947.0000 - fn: 8505.0000 - accuracy: 0.9746 - precision: 0.9788 - recall: 0.9701 - auc: 0.9976 - prc: 0.9973 - val_loss: 0.0297 - val_tp: 70.0000 - val_fp: 416.0000 - val_tn: 45076.0000 - val_fn: 7.0000 - val_accuracy: 0.9907 - val_precision: 0.1440 - val_recall: 0.9091 - val_auc: 0.9609 - val_prc: 0.6606\n",
            "Epoch 13/100\n",
            "278/278 [==============================] - 16s 59ms/step - loss: 0.0626 - tp: 276361.0000 - fp: 5982.0000 - tn: 278679.0000 - fn: 8322.0000 - accuracy: 0.9749 - precision: 0.9788 - recall: 0.9708 - auc: 0.9977 - prc: 0.9974 - val_loss: 0.0278 - val_tp: 70.0000 - val_fp: 375.0000 - val_tn: 45117.0000 - val_fn: 7.0000 - val_accuracy: 0.9916 - val_precision: 0.1573 - val_recall: 0.9091 - val_auc: 0.9617 - val_prc: 0.6608\n",
            "Epoch 14/100\n",
            "278/278 [==============================] - 16s 56ms/step - loss: 0.0609 - tp: 277482.0000 - fp: 5961.0000 - tn: 278169.0000 - fn: 7732.0000 - accuracy: 0.9759 - precision: 0.9790 - recall: 0.9729 - auc: 0.9978 - prc: 0.9975 - val_loss: 0.0264 - val_tp: 70.0000 - val_fp: 359.0000 - val_tn: 45133.0000 - val_fn: 7.0000 - val_accuracy: 0.9920 - val_precision: 0.1632 - val_recall: 0.9091 - val_auc: 0.9563 - val_prc: 0.6624\n",
            "Epoch 15/100\n",
            "278/278 [==============================] - 16s 58ms/step - loss: 0.0587 - tp: 277815.0000 - fp: 5920.0000 - tn: 278506.0000 - fn: 7103.0000 - accuracy: 0.9771 - precision: 0.9791 - recall: 0.9751 - auc: 0.9979 - prc: 0.9975 - val_loss: 0.0261 - val_tp: 70.0000 - val_fp: 353.0000 - val_tn: 45139.0000 - val_fn: 7.0000 - val_accuracy: 0.9921 - val_precision: 0.1655 - val_recall: 0.9091 - val_auc: 0.9567 - val_prc: 0.6565\n",
            "Epoch 16/100\n",
            "278/278 [==============================] - 16s 57ms/step - loss: 0.0570 - tp: 278063.0000 - fp: 5941.0000 - tn: 278779.0000 - fn: 6561.0000 - accuracy: 0.9780 - precision: 0.9791 - recall: 0.9769 - auc: 0.9980 - prc: 0.9977 - val_loss: 0.0243 - val_tp: 70.0000 - val_fp: 324.0000 - val_tn: 45168.0000 - val_fn: 7.0000 - val_accuracy: 0.9927 - val_precision: 0.1777 - val_recall: 0.9091 - val_auc: 0.9510 - val_prc: 0.6646\n",
            "Epoch 17/100\n",
            "278/278 [==============================] - 17s 61ms/step - loss: 0.0558 - tp: 277848.0000 - fp: 5947.0000 - tn: 279255.0000 - fn: 6294.0000 - accuracy: 0.9785 - precision: 0.9790 - recall: 0.9778 - auc: 0.9981 - prc: 0.9977 - val_loss: 0.0238 - val_tp: 70.0000 - val_fp: 315.0000 - val_tn: 45177.0000 - val_fn: 7.0000 - val_accuracy: 0.9929 - val_precision: 0.1818 - val_recall: 0.9091 - val_auc: 0.9513 - val_prc: 0.6592\n",
            "Epoch 18/100\n",
            "278/278 [==============================] - 16s 59ms/step - loss: 0.0546 - tp: 278537.0000 - fp: 5992.0000 - tn: 278989.0000 - fn: 5826.0000 - accuracy: 0.9792 - precision: 0.9789 - recall: 0.9795 - auc: 0.9981 - prc: 0.9978 - val_loss: 0.0230 - val_tp: 70.0000 - val_fp: 292.0000 - val_tn: 45200.0000 - val_fn: 7.0000 - val_accuracy: 0.9934 - val_precision: 0.1934 - val_recall: 0.9091 - val_auc: 0.9516 - val_prc: 0.6589\n",
            "Epoch 19/100\n",
            "278/278 [==============================] - ETA: 0s - loss: 0.0535 - tp: 278751.0000 - fp: 5959.0000 - tn: 278854.0000 - fn: 5780.0000 - accuracy: 0.9794 - precision: 0.9791 - recall: 0.9797 - auc: 0.9982 - prc: 0.9978Restoring model weights from the end of the best epoch: 9.\n",
            "278/278 [==============================] - 16s 59ms/step - loss: 0.0535 - tp: 278751.0000 - fp: 5959.0000 - tn: 278854.0000 - fn: 5780.0000 - accuracy: 0.9794 - precision: 0.9791 - recall: 0.9797 - auc: 0.9982 - prc: 0.9978 - val_loss: 0.0220 - val_tp: 70.0000 - val_fp: 273.0000 - val_tn: 45219.0000 - val_fn: 7.0000 - val_accuracy: 0.9939 - val_precision: 0.2041 - val_recall: 0.9091 - val_auc: 0.9519 - val_prc: 0.6659\n",
            "Epoch 19: early stopping\n"
          ]
        }
      ]
    },
    {
      "cell_type": "markdown",
      "source": [
        "## 22. 교육 이력 확인"
      ],
      "metadata": {
        "id": "TQ6oduV0-Xr5"
      }
    },
    {
      "cell_type": "code",
      "source": [
        "plot_metrics(resampled_history)"
      ],
      "metadata": {
        "colab": {
          "base_uri": "https://localhost:8080/",
          "height": 283
        },
        "id": "XPZjfWoW7cn-",
        "outputId": "4c9c950f-12a4-45d5-ba2b-3901436972e3"
      },
      "execution_count": 59,
      "outputs": [
        {
          "output_type": "display_data",
          "data": {
            "text/plain": [
              "<Figure size 432x288 with 4 Axes>"
            ],
            "image/png": "[encoded data removed]"
          },
          "metadata": {
            "needs_background": "light"
          }
        }
      ]
    },
    {
      "cell_type": "markdown",
      "source": [
        "## 23. 재교육"
      ],
      "metadata": {
        "id": "DCzT3V7c-gNU"
      }
    },
    {
      "cell_type": "code",
      "source": [
        "resampled_model = make_model()\n",
        "resampled_model.load_weights(initial_weights)\n",
        "\n",
        "output_layer = resampled_model.layers[-1] \n",
        "output_layer.bias.assign([0])\n",
        "\n",
        "resampled_history = resampled_model.fit(\n",
        "    resampled_ds,\n",
        "    steps_per_epoch=20,\n",
        "    epochs=10*EPOCHS,\n",
        "    callbacks=[early_stopping],\n",
        "    validation_data=(val_ds))"
      ],
      "metadata": {
        "colab": {
          "base_uri": "https://localhost:8080/"
        },
        "id": "IJgVL5Vp-coN",
        "outputId": "5a0663bf-7894-4f15-cc42-0d79227e95e2"
      },
      "execution_count": 60,
      "outputs": [
        {
          "output_type": "stream",
          "name": "stdout",
          "text": [
            "Epoch 1/1000\n",
            "20/20 [==============================] - 6s 143ms/step - loss: 0.7792 - tp: 14236.0000 - fp: 12121.0000 - tn: 53891.0000 - fn: 6281.0000 - accuracy: 0.7873 - precision: 0.5401 - recall: 0.6939 - auc: 0.8935 - prc: 0.7538 - val_loss: 0.8323 - val_tp: 68.0000 - val_fp: 26957.0000 - val_tn: 18535.0000 - val_fn: 9.0000 - val_accuracy: 0.4082 - val_precision: 0.0025 - val_recall: 0.8831 - val_auc: 0.8457 - val_prc: 0.2044\n",
            "Epoch 2/1000\n",
            "20/20 [==============================] - 1s 69ms/step - loss: 0.6033 - tp: 16792.0000 - fp: 10538.0000 - tn: 9772.0000 - fn: 3858.0000 - accuracy: 0.6485 - precision: 0.6144 - recall: 0.8132 - auc: 0.8011 - prc: 0.8533 - val_loss: 0.7221 - val_tp: 69.0000 - val_fp: 21232.0000 - val_tn: 24260.0000 - val_fn: 8.0000 - val_accuracy: 0.5339 - val_precision: 0.0032 - val_recall: 0.8961 - val_auc: 0.8907 - val_prc: 0.3308\n",
            "Epoch 3/1000\n",
            "20/20 [==============================] - 1s 65ms/step - loss: 0.5163 - tp: 17392.0000 - fp: 9010.0000 - tn: 11499.0000 - fn: 3059.0000 - accuracy: 0.7053 - precision: 0.6587 - recall: 0.8504 - auc: 0.8619 - prc: 0.8972 - val_loss: 0.6128 - val_tp: 70.0000 - val_fp: 14628.0000 - val_tn: 30864.0000 - val_fn: 7.0000 - val_accuracy: 0.6788 - val_precision: 0.0048 - val_recall: 0.9091 - val_auc: 0.9241 - val_prc: 0.4394\n",
            "Epoch 4/1000\n",
            "20/20 [==============================] - 1s 61ms/step - loss: 0.4525 - tp: 17678.0000 - fp: 7516.0000 - tn: 13062.0000 - fn: 2704.0000 - accuracy: 0.7505 - precision: 0.7017 - recall: 0.8673 - auc: 0.8937 - prc: 0.9211 - val_loss: 0.5196 - val_tp: 69.0000 - val_fp: 8881.0000 - val_tn: 36611.0000 - val_fn: 8.0000 - val_accuracy: 0.8049 - val_precision: 0.0077 - val_recall: 0.8961 - val_auc: 0.9449 - val_prc: 0.5301\n",
            "Epoch 5/1000\n",
            "20/20 [==============================] - 1s 64ms/step - loss: 0.3944 - tp: 17968.0000 - fp: 5933.0000 - tn: 14593.0000 - fn: 2466.0000 - accuracy: 0.7949 - precision: 0.7518 - recall: 0.8793 - auc: 0.9165 - prc: 0.9389 - val_loss: 0.4434 - val_tp: 70.0000 - val_fp: 5086.0000 - val_tn: 40406.0000 - val_fn: 7.0000 - val_accuracy: 0.8882 - val_precision: 0.0136 - val_recall: 0.9091 - val_auc: 0.9556 - val_prc: 0.5945\n",
            "Epoch 6/1000\n",
            "20/20 [==============================] - 1s 64ms/step - loss: 0.3546 - tp: 18279.0000 - fp: 4789.0000 - tn: 15519.0000 - fn: 2373.0000 - accuracy: 0.8251 - precision: 0.7924 - recall: 0.8851 - auc: 0.9303 - prc: 0.9492 - val_loss: 0.3822 - val_tp: 69.0000 - val_fp: 3091.0000 - val_tn: 42401.0000 - val_fn: 8.0000 - val_accuracy: 0.9320 - val_precision: 0.0218 - val_recall: 0.8961 - val_auc: 0.9597 - val_prc: 0.6319\n",
            "Epoch 7/1000\n",
            "20/20 [==============================] - 1s 66ms/step - loss: 0.3281 - tp: 17923.0000 - fp: 3909.0000 - tn: 16809.0000 - fn: 2319.0000 - accuracy: 0.8479 - precision: 0.8210 - recall: 0.8854 - auc: 0.9388 - prc: 0.9538 - val_loss: 0.3328 - val_tp: 68.0000 - val_fp: 2080.0000 - val_tn: 43412.0000 - val_fn: 9.0000 - val_accuracy: 0.9542 - val_precision: 0.0317 - val_recall: 0.8831 - val_auc: 0.9616 - val_prc: 0.6577\n",
            "Epoch 8/1000\n",
            "20/20 [==============================] - 1s 60ms/step - loss: 0.3009 - tp: 18214.0000 - fp: 3049.0000 - tn: 17357.0000 - fn: 2340.0000 - accuracy: 0.8684 - precision: 0.8566 - recall: 0.8862 - auc: 0.9460 - prc: 0.9601 - val_loss: 0.2936 - val_tp: 68.0000 - val_fp: 1553.0000 - val_tn: 43939.0000 - val_fn: 9.0000 - val_accuracy: 0.9657 - val_precision: 0.0419 - val_recall: 0.8831 - val_auc: 0.9627 - val_prc: 0.6665\n",
            "Epoch 9/1000\n",
            "20/20 [==============================] - 1s 64ms/step - loss: 0.2804 - tp: 18306.0000 - fp: 2551.0000 - tn: 17837.0000 - fn: 2266.0000 - accuracy: 0.8824 - precision: 0.8777 - recall: 0.8899 - auc: 0.9523 - prc: 0.9644 - val_loss: 0.2628 - val_tp: 68.0000 - val_fp: 1332.0000 - val_tn: 44160.0000 - val_fn: 9.0000 - val_accuracy: 0.9706 - val_precision: 0.0486 - val_recall: 0.8831 - val_auc: 0.9638 - val_prc: 0.6724\n",
            "Epoch 10/1000\n",
            "20/20 [==============================] - 1s 63ms/step - loss: 0.2617 - tp: 18194.0000 - fp: 2168.0000 - tn: 18430.0000 - fn: 2168.0000 - accuracy: 0.8941 - precision: 0.8935 - recall: 0.8935 - auc: 0.9581 - prc: 0.9681 - val_loss: 0.2385 - val_tp: 68.0000 - val_fp: 1227.0000 - val_tn: 44265.0000 - val_fn: 9.0000 - val_accuracy: 0.9729 - val_precision: 0.0525 - val_recall: 0.8831 - val_auc: 0.9639 - val_prc: 0.6768\n",
            "Epoch 11/1000\n",
            "20/20 [==============================] - 1s 64ms/step - loss: 0.2459 - tp: 18327.0000 - fp: 1898.0000 - tn: 18625.0000 - fn: 2110.0000 - accuracy: 0.9021 - precision: 0.9062 - recall: 0.8968 - auc: 0.9625 - prc: 0.9714 - val_loss: 0.2176 - val_tp: 68.0000 - val_fp: 1139.0000 - val_tn: 44353.0000 - val_fn: 9.0000 - val_accuracy: 0.9748 - val_precision: 0.0563 - val_recall: 0.8831 - val_auc: 0.9639 - val_prc: 0.6805\n",
            "Epoch 12/1000\n",
            "20/20 [==============================] - 1s 68ms/step - loss: 0.2356 - tp: 18260.0000 - fp: 1737.0000 - tn: 18808.0000 - fn: 2155.0000 - accuracy: 0.9050 - precision: 0.9131 - recall: 0.8944 - auc: 0.9650 - prc: 0.9729 - val_loss: 0.1999 - val_tp: 68.0000 - val_fp: 1084.0000 - val_tn: 44408.0000 - val_fn: 9.0000 - val_accuracy: 0.9760 - val_precision: 0.0590 - val_recall: 0.8831 - val_auc: 0.9637 - val_prc: 0.6851\n",
            "Epoch 13/1000\n",
            "20/20 [==============================] - 1s 64ms/step - loss: 0.2237 - tp: 18325.0000 - fp: 1553.0000 - tn: 18986.0000 - fn: 2096.0000 - accuracy: 0.9109 - precision: 0.9219 - recall: 0.8974 - auc: 0.9681 - prc: 0.9751 - val_loss: 0.1856 - val_tp: 68.0000 - val_fp: 1056.0000 - val_tn: 44436.0000 - val_fn: 9.0000 - val_accuracy: 0.9766 - val_precision: 0.0605 - val_recall: 0.8831 - val_auc: 0.9636 - val_prc: 0.6885\n",
            "Epoch 14/1000\n",
            "20/20 [==============================] - 1s 66ms/step - loss: 0.2147 - tp: 18541.0000 - fp: 1483.0000 - tn: 18912.0000 - fn: 2024.0000 - accuracy: 0.9144 - precision: 0.9259 - recall: 0.9016 - auc: 0.9709 - prc: 0.9773 - val_loss: 0.1734 - val_tp: 68.0000 - val_fp: 1040.0000 - val_tn: 44452.0000 - val_fn: 9.0000 - val_accuracy: 0.9770 - val_precision: 0.0614 - val_recall: 0.8831 - val_auc: 0.9643 - val_prc: 0.6970\n",
            "Epoch 15/1000\n",
            "20/20 [==============================] - 1s 67ms/step - loss: 0.2105 - tp: 18534.0000 - fp: 1423.0000 - tn: 19044.0000 - fn: 1959.0000 - accuracy: 0.9174 - precision: 0.9287 - recall: 0.9044 - auc: 0.9719 - prc: 0.9778 - val_loss: 0.1627 - val_tp: 68.0000 - val_fp: 1011.0000 - val_tn: 44481.0000 - val_fn: 9.0000 - val_accuracy: 0.9776 - val_precision: 0.0630 - val_recall: 0.8831 - val_auc: 0.9642 - val_prc: 0.7026\n",
            "Epoch 16/1000\n",
            "20/20 [==============================] - 1s 67ms/step - loss: 0.2001 - tp: 18405.0000 - fp: 1298.0000 - tn: 19290.0000 - fn: 1967.0000 - accuracy: 0.9203 - precision: 0.9341 - recall: 0.9034 - auc: 0.9742 - prc: 0.9794 - val_loss: 0.1541 - val_tp: 69.0000 - val_fp: 1019.0000 - val_tn: 44473.0000 - val_fn: 8.0000 - val_accuracy: 0.9775 - val_precision: 0.0634 - val_recall: 0.8961 - val_auc: 0.9640 - val_prc: 0.7095\n",
            "Epoch 17/1000\n",
            "20/20 [==============================] - 1s 65ms/step - loss: 0.1912 - tp: 18603.0000 - fp: 1198.0000 - tn: 19307.0000 - fn: 1852.0000 - accuracy: 0.9255 - precision: 0.9395 - recall: 0.9095 - auc: 0.9771 - prc: 0.9815 - val_loss: 0.1460 - val_tp: 69.0000 - val_fp: 1008.0000 - val_tn: 44484.0000 - val_fn: 8.0000 - val_accuracy: 0.9777 - val_precision: 0.0641 - val_recall: 0.8961 - val_auc: 0.9641 - val_prc: 0.7124\n",
            "Epoch 18/1000\n",
            "20/20 [==============================] - 1s 63ms/step - loss: 0.1842 - tp: 18578.0000 - fp: 1181.0000 - tn: 19402.0000 - fn: 1799.0000 - accuracy: 0.9272 - precision: 0.9402 - recall: 0.9117 - auc: 0.9787 - prc: 0.9826 - val_loss: 0.1386 - val_tp: 69.0000 - val_fp: 990.0000 - val_tn: 44502.0000 - val_fn: 8.0000 - val_accuracy: 0.9781 - val_precision: 0.0652 - val_recall: 0.8961 - val_auc: 0.9639 - val_prc: 0.7198\n",
            "Epoch 19/1000\n",
            "20/20 [==============================] - 1s 63ms/step - loss: 0.1815 - tp: 18776.0000 - fp: 1183.0000 - tn: 19234.0000 - fn: 1767.0000 - accuracy: 0.9280 - precision: 0.9407 - recall: 0.9140 - auc: 0.9793 - prc: 0.9832 - val_loss: 0.1314 - val_tp: 69.0000 - val_fp: 952.0000 - val_tn: 44540.0000 - val_fn: 8.0000 - val_accuracy: 0.9789 - val_precision: 0.0676 - val_recall: 0.8961 - val_auc: 0.9645 - val_prc: 0.7263\n",
            "Epoch 20/1000\n",
            "20/20 [==============================] - 1s 66ms/step - loss: 0.1761 - tp: 18612.0000 - fp: 1120.0000 - tn: 19568.0000 - fn: 1660.0000 - accuracy: 0.9321 - precision: 0.9432 - recall: 0.9181 - auc: 0.9809 - prc: 0.9839 - val_loss: 0.1243 - val_tp: 69.0000 - val_fp: 916.0000 - val_tn: 44576.0000 - val_fn: 8.0000 - val_accuracy: 0.9797 - val_precision: 0.0701 - val_recall: 0.8961 - val_auc: 0.9644 - val_prc: 0.7279\n",
            "Epoch 21/1000\n",
            "20/20 [==============================] - 1s 64ms/step - loss: 0.1694 - tp: 18805.0000 - fp: 1032.0000 - tn: 19439.0000 - fn: 1684.0000 - accuracy: 0.9337 - precision: 0.9480 - recall: 0.9178 - auc: 0.9815 - prc: 0.9848 - val_loss: 0.1188 - val_tp: 69.0000 - val_fp: 891.0000 - val_tn: 44601.0000 - val_fn: 8.0000 - val_accuracy: 0.9803 - val_precision: 0.0719 - val_recall: 0.8961 - val_auc: 0.9644 - val_prc: 0.7292\n",
            "Epoch 22/1000\n",
            "20/20 [==============================] - 1s 66ms/step - loss: 0.1645 - tp: 18840.0000 - fp: 1029.0000 - tn: 19489.0000 - fn: 1602.0000 - accuracy: 0.9358 - precision: 0.9482 - recall: 0.9216 - auc: 0.9827 - prc: 0.9856 - val_loss: 0.1141 - val_tp: 69.0000 - val_fp: 886.0000 - val_tn: 44606.0000 - val_fn: 8.0000 - val_accuracy: 0.9804 - val_precision: 0.0723 - val_recall: 0.8961 - val_auc: 0.9651 - val_prc: 0.7302\n",
            "Epoch 23/1000\n",
            "20/20 [==============================] - 1s 69ms/step - loss: 0.1646 - tp: 18839.0000 - fp: 946.0000 - tn: 19559.0000 - fn: 1616.0000 - accuracy: 0.9375 - precision: 0.9522 - recall: 0.9210 - auc: 0.9829 - prc: 0.9856 - val_loss: 0.1100 - val_tp: 69.0000 - val_fp: 881.0000 - val_tn: 44611.0000 - val_fn: 8.0000 - val_accuracy: 0.9805 - val_precision: 0.0726 - val_recall: 0.8961 - val_auc: 0.9648 - val_prc: 0.7320\n",
            "Epoch 24/1000\n",
            "20/20 [==============================] - 1s 65ms/step - loss: 0.1581 - tp: 19084.0000 - fp: 901.0000 - tn: 19413.0000 - fn: 1562.0000 - accuracy: 0.9399 - precision: 0.9549 - recall: 0.9243 - auc: 0.9844 - prc: 0.9871 - val_loss: 0.1062 - val_tp: 69.0000 - val_fp: 882.0000 - val_tn: 44610.0000 - val_fn: 8.0000 - val_accuracy: 0.9805 - val_precision: 0.0726 - val_recall: 0.8961 - val_auc: 0.9645 - val_prc: 0.7329\n",
            "Epoch 25/1000\n",
            "20/20 [==============================] - 1s 64ms/step - loss: 0.1543 - tp: 19056.0000 - fp: 952.0000 - tn: 19397.0000 - fn: 1555.0000 - accuracy: 0.9388 - precision: 0.9524 - recall: 0.9246 - auc: 0.9848 - prc: 0.9875 - val_loss: 0.1028 - val_tp: 69.0000 - val_fp: 867.0000 - val_tn: 44625.0000 - val_fn: 8.0000 - val_accuracy: 0.9808 - val_precision: 0.0737 - val_recall: 0.8961 - val_auc: 0.9650 - val_prc: 0.7337\n",
            "Epoch 26/1000\n",
            "20/20 [==============================] - 1s 68ms/step - loss: 0.1497 - tp: 19066.0000 - fp: 814.0000 - tn: 19569.0000 - fn: 1511.0000 - accuracy: 0.9432 - precision: 0.9591 - recall: 0.9266 - auc: 0.9860 - prc: 0.9883 - val_loss: 0.0997 - val_tp: 69.0000 - val_fp: 864.0000 - val_tn: 44628.0000 - val_fn: 8.0000 - val_accuracy: 0.9809 - val_precision: 0.0740 - val_recall: 0.8961 - val_auc: 0.9648 - val_prc: 0.7346\n",
            "Epoch 27/1000\n",
            "20/20 [==============================] - 1s 65ms/step - loss: 0.1488 - tp: 19081.0000 - fp: 887.0000 - tn: 19554.0000 - fn: 1438.0000 - accuracy: 0.9432 - precision: 0.9556 - recall: 0.9299 - auc: 0.9860 - prc: 0.9883 - val_loss: 0.0961 - val_tp: 69.0000 - val_fp: 847.0000 - val_tn: 44645.0000 - val_fn: 8.0000 - val_accuracy: 0.9812 - val_precision: 0.0753 - val_recall: 0.8961 - val_auc: 0.9652 - val_prc: 0.7373\n",
            "Epoch 28/1000\n",
            "20/20 [==============================] - 1s 65ms/step - loss: 0.1475 - tp: 19038.0000 - fp: 887.0000 - tn: 19592.0000 - fn: 1443.0000 - accuracy: 0.9431 - precision: 0.9555 - recall: 0.9295 - auc: 0.9865 - prc: 0.9886 - val_loss: 0.0922 - val_tp: 69.0000 - val_fp: 818.0000 - val_tn: 44674.0000 - val_fn: 8.0000 - val_accuracy: 0.9819 - val_precision: 0.0778 - val_recall: 0.8961 - val_auc: 0.9649 - val_prc: 0.7379\n",
            "Epoch 29/1000\n",
            "20/20 [==============================] - 1s 66ms/step - loss: 0.1444 - tp: 18965.0000 - fp: 863.0000 - tn: 19679.0000 - fn: 1453.0000 - accuracy: 0.9435 - precision: 0.9565 - recall: 0.9288 - auc: 0.9865 - prc: 0.9887 - val_loss: 0.0897 - val_tp: 69.0000 - val_fp: 810.0000 - val_tn: 44682.0000 - val_fn: 8.0000 - val_accuracy: 0.9820 - val_precision: 0.0785 - val_recall: 0.8961 - val_auc: 0.9652 - val_prc: 0.7389\n",
            "Epoch 30/1000\n",
            "20/20 [==============================] - 1s 63ms/step - loss: 0.1423 - tp: 19068.0000 - fp: 812.0000 - tn: 19643.0000 - fn: 1437.0000 - accuracy: 0.9451 - precision: 0.9592 - recall: 0.9299 - auc: 0.9874 - prc: 0.9892 - val_loss: 0.0871 - val_tp: 69.0000 - val_fp: 804.0000 - val_tn: 44688.0000 - val_fn: 8.0000 - val_accuracy: 0.9822 - val_precision: 0.0790 - val_recall: 0.8961 - val_auc: 0.9659 - val_prc: 0.7399\n",
            "Epoch 31/1000\n",
            "20/20 [==============================] - 1s 66ms/step - loss: 0.1392 - tp: 19129.0000 - fp: 744.0000 - tn: 19692.0000 - fn: 1395.0000 - accuracy: 0.9478 - precision: 0.9626 - recall: 0.9320 - auc: 0.9877 - prc: 0.9896 - val_loss: 0.0849 - val_tp: 69.0000 - val_fp: 804.0000 - val_tn: 44688.0000 - val_fn: 8.0000 - val_accuracy: 0.9822 - val_precision: 0.0790 - val_recall: 0.8961 - val_auc: 0.9662 - val_prc: 0.7408\n",
            "Epoch 32/1000\n",
            "20/20 [==============================] - 1s 74ms/step - loss: 0.1353 - tp: 19171.0000 - fp: 748.0000 - tn: 19678.0000 - fn: 1363.0000 - accuracy: 0.9485 - precision: 0.9624 - recall: 0.9336 - auc: 0.9885 - prc: 0.9901 - val_loss: 0.0831 - val_tp: 69.0000 - val_fp: 805.0000 - val_tn: 44687.0000 - val_fn: 8.0000 - val_accuracy: 0.9822 - val_precision: 0.0789 - val_recall: 0.8961 - val_auc: 0.9649 - val_prc: 0.7414\n",
            "Epoch 33/1000\n",
            "20/20 [==============================] - 1s 66ms/step - loss: 0.1337 - tp: 19087.0000 - fp: 721.0000 - tn: 19815.0000 - fn: 1337.0000 - accuracy: 0.9498 - precision: 0.9636 - recall: 0.9345 - auc: 0.9888 - prc: 0.9902 - val_loss: 0.0809 - val_tp: 69.0000 - val_fp: 788.0000 - val_tn: 44704.0000 - val_fn: 8.0000 - val_accuracy: 0.9825 - val_precision: 0.0805 - val_recall: 0.8961 - val_auc: 0.9656 - val_prc: 0.7416\n",
            "Epoch 34/1000\n",
            "20/20 [==============================] - 1s 66ms/step - loss: 0.1313 - tp: 19273.0000 - fp: 767.0000 - tn: 19568.0000 - fn: 1352.0000 - accuracy: 0.9483 - precision: 0.9617 - recall: 0.9344 - auc: 0.9891 - prc: 0.9908 - val_loss: 0.0794 - val_tp: 69.0000 - val_fp: 787.0000 - val_tn: 44705.0000 - val_fn: 8.0000 - val_accuracy: 0.9826 - val_precision: 0.0806 - val_recall: 0.8961 - val_auc: 0.9655 - val_prc: 0.7421\n",
            "Epoch 35/1000\n",
            "20/20 [==============================] - 1s 65ms/step - loss: 0.1338 - tp: 19047.0000 - fp: 781.0000 - tn: 19769.0000 - fn: 1363.0000 - accuracy: 0.9477 - precision: 0.9606 - recall: 0.9332 - auc: 0.9890 - prc: 0.9902 - val_loss: 0.0770 - val_tp: 69.0000 - val_fp: 774.0000 - val_tn: 44718.0000 - val_fn: 8.0000 - val_accuracy: 0.9828 - val_precision: 0.0819 - val_recall: 0.8961 - val_auc: 0.9661 - val_prc: 0.7421\n",
            "Epoch 36/1000\n",
            "20/20 [==============================] - 1s 68ms/step - loss: 0.1275 - tp: 19183.0000 - fp: 681.0000 - tn: 19777.0000 - fn: 1319.0000 - accuracy: 0.9512 - precision: 0.9657 - recall: 0.9357 - auc: 0.9898 - prc: 0.9911 - val_loss: 0.0757 - val_tp: 69.0000 - val_fp: 773.0000 - val_tn: 44719.0000 - val_fn: 8.0000 - val_accuracy: 0.9829 - val_precision: 0.0819 - val_recall: 0.8961 - val_auc: 0.9659 - val_prc: 0.7330\n",
            "Epoch 37/1000\n",
            "20/20 [==============================] - 1s 63ms/step - loss: 0.1266 - tp: 19173.0000 - fp: 678.0000 - tn: 19806.0000 - fn: 1303.0000 - accuracy: 0.9516 - precision: 0.9658 - recall: 0.9364 - auc: 0.9899 - prc: 0.9912 - val_loss: 0.0746 - val_tp: 69.0000 - val_fp: 767.0000 - val_tn: 44725.0000 - val_fn: 8.0000 - val_accuracy: 0.9830 - val_precision: 0.0825 - val_recall: 0.8961 - val_auc: 0.9641 - val_prc: 0.7334\n",
            "Epoch 38/1000\n",
            "20/20 [==============================] - 1s 68ms/step - loss: 0.1289 - tp: 19364.0000 - fp: 726.0000 - tn: 19565.0000 - fn: 1305.0000 - accuracy: 0.9504 - precision: 0.9639 - recall: 0.9369 - auc: 0.9896 - prc: 0.9908 - val_loss: 0.0730 - val_tp: 69.0000 - val_fp: 747.0000 - val_tn: 44745.0000 - val_fn: 8.0000 - val_accuracy: 0.9834 - val_precision: 0.0846 - val_recall: 0.8961 - val_auc: 0.9645 - val_prc: 0.7338\n",
            "Epoch 39/1000\n",
            "20/20 [==============================] - 1s 67ms/step - loss: 0.1254 - tp: 19294.0000 - fp: 700.0000 - tn: 19705.0000 - fn: 1261.0000 - accuracy: 0.9521 - precision: 0.9650 - recall: 0.9387 - auc: 0.9902 - prc: 0.9913 - val_loss: 0.0716 - val_tp: 69.0000 - val_fp: 738.0000 - val_tn: 44754.0000 - val_fn: 8.0000 - val_accuracy: 0.9836 - val_precision: 0.0855 - val_recall: 0.8961 - val_auc: 0.9650 - val_prc: 0.7341\n",
            "Epoch 40/1000\n",
            "20/20 [==============================] - 1s 74ms/step - loss: 0.1240 - tp: 19021.0000 - fp: 697.0000 - tn: 19953.0000 - fn: 1289.0000 - accuracy: 0.9515 - precision: 0.9647 - recall: 0.9365 - auc: 0.9902 - prc: 0.9914 - val_loss: 0.0704 - val_tp: 69.0000 - val_fp: 729.0000 - val_tn: 44763.0000 - val_fn: 8.0000 - val_accuracy: 0.9838 - val_precision: 0.0865 - val_recall: 0.8961 - val_auc: 0.9646 - val_prc: 0.7249\n",
            "Epoch 41/1000\n",
            "20/20 [==============================] - ETA: 0s - loss: 0.1224 - tp: 19138.0000 - fp: 634.0000 - tn: 19932.0000 - fn: 1256.0000 - accuracy: 0.9539 - precision: 0.9679 - recall: 0.9384 - auc: 0.9905 - prc: 0.9917Restoring model weights from the end of the best epoch: 31.\n",
            "20/20 [==============================] - 1s 69ms/step - loss: 0.1224 - tp: 19138.0000 - fp: 634.0000 - tn: 19932.0000 - fn: 1256.0000 - accuracy: 0.9539 - precision: 0.9679 - recall: 0.9384 - auc: 0.9905 - prc: 0.9917 - val_loss: 0.0698 - val_tp: 69.0000 - val_fp: 732.0000 - val_tn: 44760.0000 - val_fn: 8.0000 - val_accuracy: 0.9838 - val_precision: 0.0861 - val_recall: 0.8961 - val_auc: 0.9651 - val_prc: 0.7248\n",
            "Epoch 41: early stopping\n"
          ]
        }
      ]
    },
    {
      "cell_type": "markdown",
      "source": [
        "## 24. 훈련 이력 재확인"
      ],
      "metadata": {
        "id": "_RGO9HDp_U1p"
      }
    },
    {
      "cell_type": "code",
      "source": [
        "plot_metrics(resampled_history)"
      ],
      "metadata": {
        "colab": {
          "base_uri": "https://localhost:8080/",
          "height": 283
        },
        "id": "72-C69Ny-lJO",
        "outputId": "b35b6943-d6ea-407f-fe99-1bae2b45f599"
      },
      "execution_count": 61,
      "outputs": [
        {
          "output_type": "display_data",
          "data": {
            "text/plain": [
              "<Figure size 432x288 with 4 Axes>"
            ],
            "image/png": "[encoded data removed]"
          },
          "metadata": {
            "needs_background": "light"
          }
        }
      ]
    },
    {
      "cell_type": "markdown",
      "source": [
        "## 25. 메트릭 평가"
      ],
      "metadata": {
        "id": "gbB49GIv_fFl"
      }
    },
    {
      "cell_type": "code",
      "source": [
        "train_predictions_resampled = resampled_model.predict(train_features, batch_size=BATCH_SIZE)\n",
        "test_predictions_resampled = resampled_model.predict(test_features, batch_size=BATCH_SIZE)"
      ],
      "metadata": {
        "id": "USUW-spl_alH"
      },
      "execution_count": 62,
      "outputs": []
    },
    {
      "cell_type": "code",
      "source": [
        "resampled_results = resampled_model.evaluate(test_features, test_labels,\n",
        "                                             batch_size=BATCH_SIZE, verbose=0)\n",
        "for name, value in zip(resampled_model.metrics_names, resampled_results):\n",
        "  print(name, ': ', value)\n",
        "print()\n",
        "\n",
        "plot_cm(test_labels, test_predictions_resampled)"
      ],
      "metadata": {
        "colab": {
          "base_uri": "https://localhost:8080/",
          "height": 640
        },
        "id": "ZWyvOJpu_m6l",
        "outputId": "0444991c-4b20-49a2-e881-62c28a8edfe8"
      },
      "execution_count": 63,
      "outputs": [
        {
          "output_type": "stream",
          "name": "stdout",
          "text": [
            "loss :  0.082796111702919\n",
            "tp :  70.0\n",
            "fp :  941.0\n",
            "tn :  55939.0\n",
            "fn :  12.0\n",
            "accuracy :  0.9832695722579956\n",
            "precision :  0.06923837959766388\n",
            "recall :  0.8536585569381714\n",
            "auc :  0.9482340812683105\n",
            "prc :  0.6489150524139404\n",
            "\n",
            "Legitimate Transactions Detected (True Negatives):  55939\n",
            "Legitimate Transactions Incorrectly Detected (False Positives):  941\n",
            "Fraudulent Transactions Missed (False Negatives):  12\n",
            "Fraudulent Transactions Detected (True Positives):  70\n",
            "Total Fraudulent Transactions:  82\n"
          ]
        },
        {
          "output_type": "display_data",
          "data": {
            "text/plain": [
              "<Figure size 360x360 with 2 Axes>"
            ],
            "image/png": "[encoded data removed]"
          },
          "metadata": {
            "needs_background": "light"
          }
        }
      ]
    },
    {
      "cell_type": "markdown",
      "source": [
        "## 26. ROC 플로팅"
      ],
      "metadata": {
        "id": "Gv1tdi7a_4in"
      }
    },
    {
      "cell_type": "code",
      "source": [
        "plot_roc(\"Train Baseline\", train_labels, train_predictions_baseline, color='green')\n",
        "plot_roc(\"Test Baseline\", test_labels, test_predictions_baseline, color='green', linestyle='--')\n",
        "\n",
        "plot_roc(\"Train Weighted\", train_labels, train_predictions_weighted, color='red')\n",
        "plot_roc(\"Test Weighted\", test_labels, test_predictions_weighted, color='red', linestyle='--')\n",
        "\n",
        "plot_roc(\"Train Resampled\", train_labels, train_predictions_resampled, color='blue')\n",
        "plot_roc(\"Test Resampled\", test_labels, test_predictions_resampled, color='blue', linestyle='--')\n",
        "plt.legend(loc='lower right')"
      ],
      "metadata": {
        "colab": {
          "base_uri": "https://localhost:8080/",
          "height": 297
        },
        "id": "wnUQwf0-_qBM",
        "outputId": "b1067647-56d8-4af1-bbe9-863e62cf6380"
      },
      "execution_count": 64,
      "outputs": [
        {
          "output_type": "execute_result",
          "data": {
            "text/plain": [
              "<matplotlib.legend.Legend at 0x7f7e30284f50>"
            ]
          },
          "metadata": {},
          "execution_count": 64
        },
        {
          "output_type": "display_data",
          "data": {
            "text/plain": [
              "<Figure size 432x288 with 1 Axes>"
            ],
            "image/png": "[encoded data removed]"
          },
          "metadata": {
            "needs_background": "light"
          }
        }
      ]
    },
    {
      "cell_type": "markdown",
      "source": [
        "## 27. AUPRC 플로팅"
      ],
      "metadata": {
        "id": "KjDuTlNMBOkz"
      }
    },
    {
      "cell_type": "code",
      "source": [
        "plot_prc(\"Train Baseline\", train_labels, train_predictions_baseline, color='green')\n",
        "plot_prc(\"Test Baseline\", test_labels, test_predictions_baseline, color='green', linestyle='--')\n",
        "\n",
        "plot_prc(\"Train Weighted\", train_labels, train_predictions_weighted, color='red')\n",
        "plot_prc(\"Test Weighted\", test_labels, test_predictions_weighted, color='red', linestyle='--')\n",
        "\n",
        "plot_prc(\"Train Resampled\", train_labels, train_predictions_resampled, color='blue')\n",
        "plot_prc(\"Test Resampled\", test_labels, test_predictions_resampled, color='blue', linestyle='--')\n",
        "plt.legend(loc='lower right')"
      ],
      "metadata": {
        "colab": {
          "base_uri": "https://localhost:8080/",
          "height": 297
        },
        "id": "NndGzcjrAFn-",
        "outputId": "015e6e67-c07c-4c75-f12e-3c4f66e7481e"
      },
      "execution_count": 66,
      "outputs": [
        {
          "output_type": "execute_result",
          "data": {
            "text/plain": [
              "<matplotlib.legend.Legend at 0x7f7e2d179d50>"
            ]
          },
          "metadata": {},
          "execution_count": 66
        },
        {
          "output_type": "display_data",
          "data": {
            "text/plain": [
              "<Figure size 432x288 with 1 Axes>"
            ],
            "image/png": "[encoded data removed]"
          },
          "metadata": {
            "needs_background": "light"
          }
        }
      ]
    }
  ]
}