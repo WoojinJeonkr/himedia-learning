{
  "nbformat": 4,
  "nbformat_minor": 0,
  "metadata": {
    "colab": {
      "name": "Multimodal_entailment.ipynb",
      "provenance": [],
      "authorship_tag": "ABX9TyOKeLtPBl6Q1PBe2jTJKf2N",
      "include_colab_link": true
    },
    "kernelspec": {
      "name": "python3",
      "display_name": "Python 3"
    },
    "language_info": {
      "name": "python"
    }
  },
  "cells": [
    {
      "cell_type": "markdown",
      "metadata": {
        "id": "view-in-github",
        "colab_type": "text"
      },
      "source": [
        "<a href=\"https://colab.research.google.com/github/WoojinJeonkr/DeepLearning/blob/main/Multimodal_entailment.ipynb\" target=\"_parent\"><img src=\"https://colab.research.google.com/assets/colab-badge.svg\" alt=\"Open In Colab\"/></a>"
      ]
    },
    {
      "cell_type": "markdown",
      "source": [
        "# 다중 모드 포함\n",
        "- 내용 출처: [Multimodal entailment](https://keras.io/examples/nlp/multimodal_entailment/)\n",
        "- 목표: 다중 모드 수반을 예측하기 위한 모델을 구축/훈련"
      ],
      "metadata": {
        "id": "zVlybK12oz3E"
      }
    },
    {
      "cell_type": "markdown",
      "source": [
        "## 01. 요구사항 설치"
      ],
      "metadata": {
        "id": "kgulCLjGrjnF"
      }
    },
    {
      "cell_type": "code",
      "execution_count": 1,
      "metadata": {
        "colab": {
          "base_uri": "https://localhost:8080/"
        },
        "id": "h7A1Rm0dlyEq",
        "outputId": "2699c389-3e72-4d8a-d11f-b783ceb68f88"
      },
      "outputs": [
        {
          "output_type": "stream",
          "name": "stdout",
          "text": [
            "\u001b[K     |████████████████████████████████| 4.6 MB 9.5 MB/s \n",
            "\u001b[K     |████████████████████████████████| 511.7 MB 5.3 kB/s \n",
            "\u001b[K     |████████████████████████████████| 5.8 MB 26.3 MB/s \n",
            "\u001b[K     |████████████████████████████████| 1.6 MB 65.4 MB/s \n",
            "\u001b[K     |████████████████████████████████| 438 kB 45.7 MB/s \n",
            "\u001b[?25h"
          ]
        }
      ],
      "source": [
        "!pip install -q tensorflow_text"
      ]
    },
    {
      "cell_type": "markdown",
      "source": [
        "## 02. 라이브러리 불러오기"
      ],
      "metadata": {
        "id": "4YcNxe4krtS-"
      }
    },
    {
      "cell_type": "code",
      "source": [
        "from sklearn.model_selection import train_test_split\n",
        "import matplotlib.pyplot as plt\n",
        "import pandas as pd\n",
        "import numpy as np\n",
        "import os\n",
        "\n",
        "import tensorflow as tf\n",
        "import tensorflow_hub as hub\n",
        "import tensorflow_text as text\n",
        "from tensorflow import keras"
      ],
      "metadata": {
        "id": "ZqnUQpzPrnKb"
      },
      "execution_count": 2,
      "outputs": []
    },
    {
      "cell_type": "markdown",
      "source": [
        "## 03. 레이블 맵 정의"
      ],
      "metadata": {
        "id": "fI89prbTw2iW"
      }
    },
    {
      "cell_type": "code",
      "source": [
        "label_map = {\"Contradictory\": 0, \"Implies\": 1, \"NoEntailment\": 2}"
      ],
      "metadata": {
        "id": "xAryVimyw0bG"
      },
      "execution_count": 3,
      "outputs": []
    },
    {
      "cell_type": "markdown",
      "source": [
        "## 04. 데이터세트 다운로드"
      ],
      "metadata": {
        "id": "abhFBrTMw7Ao"
      }
    },
    {
      "cell_type": "code",
      "source": [
        "image_base_path = keras.utils.get_file(\n",
        "    \"tweet_images\",\n",
        "    \"https://github.com/sayakpaul/Multimodal-Entailment-Baseline/releases/download/v1.0.0/tweet_images.tar.gz\",\n",
        "    untar=True,\n",
        ")"
      ],
      "metadata": {
        "colab": {
          "base_uri": "https://localhost:8080/"
        },
        "id": "gPQjQEZ8w6aQ",
        "outputId": "8bb4bdf1-7def-4410-b25a-4c8fd0a4bd7e"
      },
      "execution_count": 4,
      "outputs": [
        {
          "output_type": "stream",
          "name": "stdout",
          "text": [
            "Downloading data from https://github.com/sayakpaul/Multimodal-Entailment-Baseline/releases/download/v1.0.0/tweet_images.tar.gz\n",
            "344273442/344273442 [==============================] - 25s 0us/step\n"
          ]
        }
      ]
    },
    {
      "cell_type": "markdown",
      "source": [
        "## 05. 데이터세트 전처리"
      ],
      "metadata": {
        "id": "J8_6YNxwxBqy"
      }
    },
    {
      "cell_type": "code",
      "source": [
        "df = pd.read_csv(\n",
        "    \"https://github.com/sayakpaul/Multimodal-Entailment-Baseline/raw/main/csvs/tweets.csv\"\n",
        ")\n",
        "df.sample(10)"
      ],
      "metadata": {
        "colab": {
          "base_uri": "https://localhost:8080/",
          "height": 757
        },
        "id": "7po5CiohxAob",
        "outputId": "26d24be4-0d31-42bf-c377-383b7cd07ed8"
      },
      "execution_count": 5,
      "outputs": [
        {
          "output_type": "execute_result",
          "data": {
            "text/plain": [
              "                     id_1                                             text_1  \\\n",
              "897   1364034084293332992     JVGB loses to Winfield https://t.co/b7IdRaCWlz   \n",
              "7     1354642121647665153  $BTC\\n\\nBreakout! Time to long the retest. Ent...   \n",
              "811   1330607439390060547  (#Qualifiers #QualifierNOR 🇳🇴 )\\n\\n🇳🇴 @Team_MX...   \n",
              "289   1377557630852431875  How can social media and #NewsSentiment #data ...   \n",
              "336   1363293787775197187  Round 3 Pairings at the 3-C #AMTARegionals #Ro...   \n",
              "783   1377855525707149312  @Reuters Shortlived. That is a rejection candl...   \n",
              "915   1358754997018767361  Good morning #TriCities! Currently it is 22℉ a...   \n",
              "1369  1371144717241622528  This was an AMAZING Stream today!\\nBig thanks ...   \n",
              "1285  1366353801679167496  Check out our live in-person fitness classes t...   \n",
              "1083  1359121217173610504  \"ನಂದಾದೀಪ\"\\nLiving up to the legacy .\\n\\nWatch ...   \n",
              "\n",
              "                                             image_1                 id_2  \\\n",
              "897   http://pbs.twimg.com/media/Eu4FxOHWgAQtPid.jpg  1364035617080934407   \n",
              "7     http://pbs.twimg.com/media/Esymv7nW8AYBUi6.jpg  1377375542555504647   \n",
              "811   http://pbs.twimg.com/media/EndEYzZXcAAVkIr.jpg  1338214821968420866   \n",
              "289   http://pbs.twimg.com/media/Ex4RXZ2WgAIukTc.jpg  1381483482883485697   \n",
              "336   http://pbs.twimg.com/media/EutkeWMXcAIgFmp.jpg  1370908576387104770   \n",
              "783   http://pbs.twimg.com/media/Ex8gTEMUcAUPilw.jpg  1382014280506224642   \n",
              "915   http://pbs.twimg.com/media/EttEeDmXUAEz2Bh.jpg  1358898589297221634   \n",
              "1369  http://pbs.twimg.com/media/EwdHDQ8XEAM44ac.jpg  1382092282556522501   \n",
              "1285  http://pbs.twimg.com/media/EvZDiqvXIAQXDMi.jpg  1367808394195828740   \n",
              "1083  http://pbs.twimg.com/media/EtyRixhU0Ac7VD4.jpg  1361662126675292160   \n",
              "\n",
              "                                                 text_2  \\\n",
              "897        VGB defeats Winfield https://t.co/8k64dftgbB   \n",
              "7     UPDATE 5: I was wrong on the inverted hammer b...   \n",
              "811   (#Qualifiers #QualifierNOR 🇳🇴 )\\n\\n🇳🇴 @lag_dab...   \n",
              "289   What did a white paper from Probability and Pa...   \n",
              "336   Round Three Pairings at the 1-C #AMTAORCS #Roa...   \n",
              "783   $LINK won’t be below this line much longer htt...   \n",
              "915   Good evening #TriCities! Currently it is 54℉ a...   \n",
              "1369  another fucking insane stream man, big shout o...   \n",
              "1285  Another week of live in-person fitness classes...   \n",
              "1083  Sons of villains..\\nStar directors..\\nBrothers...   \n",
              "\n",
              "                                             image_2         label  \n",
              "897   http://pbs.twimg.com/media/Eu4FdULXIAAw3HJ.jpg  NoEntailment  \n",
              "7     http://pbs.twimg.com/media/Ex1rWafXMAYwgFy.png  NoEntailment  \n",
              "811   http://pbs.twimg.com/media/EpJLRoZXEAE9Ho5.jpg  NoEntailment  \n",
              "289   http://pbs.twimg.com/media/EywD6EJXIAMpdbF.jpg  NoEntailment  \n",
              "336   http://pbs.twimg.com/media/EwZyFZ6WUAE1u32.jpg  NoEntailment  \n",
              "783   http://pbs.twimg.com/media/Ey3mqYvWYBAqFM9.jpg  NoEntailment  \n",
              "915   http://pbs.twimg.com/media/EtvHEO-WgAUGvB3.jpg  NoEntailment  \n",
              "1369  http://pbs.twimg.com/media/Ey4tY03XIAEA0sc.png  NoEntailment  \n",
              "1285  http://pbs.twimg.com/media/EvtufGuXIAIf_kT.jpg  NoEntailment  \n",
              "1083  http://pbs.twimg.com/media/EuWYfMaUYAk2ii0.jpg  NoEntailment  "
            ],
            "text/html": [
              "\n",
              "  <div id=\"df-86c1243d-9941-4e7a-a973-32e77f1a70bb\">\n",
              "    <div class=\"colab-df-container\">\n",
              "      <div>\n",
              "<style scoped>\n",
              "    .dataframe tbody tr th:only-of-type {\n",
              "        vertical-align: middle;\n",
              "    }\n",
              "\n",
              "    .dataframe tbody tr th {\n",
              "        vertical-align: top;\n",
              "    }\n",
              "\n",
              "    .dataframe thead th {\n",
              "        text-align: right;\n",
              "    }\n",
              "</style>\n",
              "<table border=\"1\" class=\"dataframe\">\n",
              "  <thead>\n",
              "    <tr style=\"text-align: right;\">\n",
              "      <th></th>\n",
              "      <th>id_1</th>\n",
              "      <th>text_1</th>\n",
              "      <th>image_1</th>\n",
              "      <th>id_2</th>\n",
              "      <th>text_2</th>\n",
              "      <th>image_2</th>\n",
              "      <th>label</th>\n",
              "    </tr>\n",
              "  </thead>\n",
              "  <tbody>\n",
              "    <tr>\n",
              "      <th>897</th>\n",
              "      <td>1364034084293332992</td>\n",
              "      <td>JVGB loses to Winfield https://t.co/b7IdRaCWlz</td>\n",
              "      <td>http://pbs.twimg.com/media/Eu4FxOHWgAQtPid.jpg</td>\n",
              "      <td>1364035617080934407</td>\n",
              "      <td>VGB defeats Winfield https://t.co/8k64dftgbB</td>\n",
              "      <td>http://pbs.twimg.com/media/Eu4FdULXIAAw3HJ.jpg</td>\n",
              "      <td>NoEntailment</td>\n",
              "    </tr>\n",
              "    <tr>\n",
              "      <th>7</th>\n",
              "      <td>1354642121647665153</td>\n",
              "      <td>$BTC\\n\\nBreakout! Time to long the retest. Ent...</td>\n",
              "      <td>http://pbs.twimg.com/media/Esymv7nW8AYBUi6.jpg</td>\n",
              "      <td>1377375542555504647</td>\n",
              "      <td>UPDATE 5: I was wrong on the inverted hammer b...</td>\n",
              "      <td>http://pbs.twimg.com/media/Ex1rWafXMAYwgFy.png</td>\n",
              "      <td>NoEntailment</td>\n",
              "    </tr>\n",
              "    <tr>\n",
              "      <th>811</th>\n",
              "      <td>1330607439390060547</td>\n",
              "      <td>(#Qualifiers #QualifierNOR 🇳🇴 )\\n\\n🇳🇴 @Team_MX...</td>\n",
              "      <td>http://pbs.twimg.com/media/EndEYzZXcAAVkIr.jpg</td>\n",
              "      <td>1338214821968420866</td>\n",
              "      <td>(#Qualifiers #QualifierNOR 🇳🇴 )\\n\\n🇳🇴 @lag_dab...</td>\n",
              "      <td>http://pbs.twimg.com/media/EpJLRoZXEAE9Ho5.jpg</td>\n",
              "      <td>NoEntailment</td>\n",
              "    </tr>\n",
              "    <tr>\n",
              "      <th>289</th>\n",
              "      <td>1377557630852431875</td>\n",
              "      <td>How can social media and #NewsSentiment #data ...</td>\n",
              "      <td>http://pbs.twimg.com/media/Ex4RXZ2WgAIukTc.jpg</td>\n",
              "      <td>1381483482883485697</td>\n",
              "      <td>What did a white paper from Probability and Pa...</td>\n",
              "      <td>http://pbs.twimg.com/media/EywD6EJXIAMpdbF.jpg</td>\n",
              "      <td>NoEntailment</td>\n",
              "    </tr>\n",
              "    <tr>\n",
              "      <th>336</th>\n",
              "      <td>1363293787775197187</td>\n",
              "      <td>Round 3 Pairings at the 3-C #AMTARegionals #Ro...</td>\n",
              "      <td>http://pbs.twimg.com/media/EutkeWMXcAIgFmp.jpg</td>\n",
              "      <td>1370908576387104770</td>\n",
              "      <td>Round Three Pairings at the 1-C #AMTAORCS #Roa...</td>\n",
              "      <td>http://pbs.twimg.com/media/EwZyFZ6WUAE1u32.jpg</td>\n",
              "      <td>NoEntailment</td>\n",
              "    </tr>\n",
              "    <tr>\n",
              "      <th>783</th>\n",
              "      <td>1377855525707149312</td>\n",
              "      <td>@Reuters Shortlived. That is a rejection candl...</td>\n",
              "      <td>http://pbs.twimg.com/media/Ex8gTEMUcAUPilw.jpg</td>\n",
              "      <td>1382014280506224642</td>\n",
              "      <td>$LINK won’t be below this line much longer htt...</td>\n",
              "      <td>http://pbs.twimg.com/media/Ey3mqYvWYBAqFM9.jpg</td>\n",
              "      <td>NoEntailment</td>\n",
              "    </tr>\n",
              "    <tr>\n",
              "      <th>915</th>\n",
              "      <td>1358754997018767361</td>\n",
              "      <td>Good morning #TriCities! Currently it is 22℉ a...</td>\n",
              "      <td>http://pbs.twimg.com/media/EttEeDmXUAEz2Bh.jpg</td>\n",
              "      <td>1358898589297221634</td>\n",
              "      <td>Good evening #TriCities! Currently it is 54℉ a...</td>\n",
              "      <td>http://pbs.twimg.com/media/EtvHEO-WgAUGvB3.jpg</td>\n",
              "      <td>NoEntailment</td>\n",
              "    </tr>\n",
              "    <tr>\n",
              "      <th>1369</th>\n",
              "      <td>1371144717241622528</td>\n",
              "      <td>This was an AMAZING Stream today!\\nBig thanks ...</td>\n",
              "      <td>http://pbs.twimg.com/media/EwdHDQ8XEAM44ac.jpg</td>\n",
              "      <td>1382092282556522501</td>\n",
              "      <td>another fucking insane stream man, big shout o...</td>\n",
              "      <td>http://pbs.twimg.com/media/Ey4tY03XIAEA0sc.png</td>\n",
              "      <td>NoEntailment</td>\n",
              "    </tr>\n",
              "    <tr>\n",
              "      <th>1285</th>\n",
              "      <td>1366353801679167496</td>\n",
              "      <td>Check out our live in-person fitness classes t...</td>\n",
              "      <td>http://pbs.twimg.com/media/EvZDiqvXIAQXDMi.jpg</td>\n",
              "      <td>1367808394195828740</td>\n",
              "      <td>Another week of live in-person fitness classes...</td>\n",
              "      <td>http://pbs.twimg.com/media/EvtufGuXIAIf_kT.jpg</td>\n",
              "      <td>NoEntailment</td>\n",
              "    </tr>\n",
              "    <tr>\n",
              "      <th>1083</th>\n",
              "      <td>1359121217173610504</td>\n",
              "      <td>\"ನಂದಾದೀಪ\"\\nLiving up to the legacy .\\n\\nWatch ...</td>\n",
              "      <td>http://pbs.twimg.com/media/EtyRixhU0Ac7VD4.jpg</td>\n",
              "      <td>1361662126675292160</td>\n",
              "      <td>Sons of villains..\\nStar directors..\\nBrothers...</td>\n",
              "      <td>http://pbs.twimg.com/media/EuWYfMaUYAk2ii0.jpg</td>\n",
              "      <td>NoEntailment</td>\n",
              "    </tr>\n",
              "  </tbody>\n",
              "</table>\n",
              "</div>\n",
              "      <button class=\"colab-df-convert\" onclick=\"convertToInteractive('df-86c1243d-9941-4e7a-a973-32e77f1a70bb')\"\n",
              "              title=\"Convert this dataframe to an interactive table.\"\n",
              "              style=\"display:none;\">\n",
              "        \n",
              "  <svg xmlns=\"http://www.w3.org/2000/svg\" height=\"24px\"viewBox=\"0 0 24 24\"\n",
              "       width=\"24px\">\n",
              "    <path d=\"M0 0h24v24H0V0z\" fill=\"none\"/>\n",
              "    <path d=\"M18.56 5.44l.94 2.06.94-2.06 2.06-.94-2.06-.94-.94-2.06-.94 2.06-2.06.94zm-11 1L8.5 8.5l.94-2.06 2.06-.94-2.06-.94L8.5 2.5l-.94 2.06-2.06.94zm10 10l.94 2.06.94-2.06 2.06-.94-2.06-.94-.94-2.06-.94 2.06-2.06.94z\"/><path d=\"M17.41 7.96l-1.37-1.37c-.4-.4-.92-.59-1.43-.59-.52 0-1.04.2-1.43.59L10.3 9.45l-7.72 7.72c-.78.78-.78 2.05 0 2.83L4 21.41c.39.39.9.59 1.41.59.51 0 1.02-.2 1.41-.59l7.78-7.78 2.81-2.81c.8-.78.8-2.07 0-2.86zM5.41 20L4 18.59l7.72-7.72 1.47 1.35L5.41 20z\"/>\n",
              "  </svg>\n",
              "      </button>\n",
              "      \n",
              "  <style>\n",
              "    .colab-df-container {\n",
              "      display:flex;\n",
              "      flex-wrap:wrap;\n",
              "      gap: 12px;\n",
              "    }\n",
              "\n",
              "    .colab-df-convert {\n",
              "      background-color: #E8F0FE;\n",
              "      border: none;\n",
              "      border-radius: 50%;\n",
              "      cursor: pointer;\n",
              "      display: none;\n",
              "      fill: #1967D2;\n",
              "      height: 32px;\n",
              "      padding: 0 0 0 0;\n",
              "      width: 32px;\n",
              "    }\n",
              "\n",
              "    .colab-df-convert:hover {\n",
              "      background-color: #E2EBFA;\n",
              "      box-shadow: 0px 1px 2px rgba(60, 64, 67, 0.3), 0px 1px 3px 1px rgba(60, 64, 67, 0.15);\n",
              "      fill: #174EA6;\n",
              "    }\n",
              "\n",
              "    [theme=dark] .colab-df-convert {\n",
              "      background-color: #3B4455;\n",
              "      fill: #D2E3FC;\n",
              "    }\n",
              "\n",
              "    [theme=dark] .colab-df-convert:hover {\n",
              "      background-color: #434B5C;\n",
              "      box-shadow: 0px 1px 3px 1px rgba(0, 0, 0, 0.15);\n",
              "      filter: drop-shadow(0px 1px 2px rgba(0, 0, 0, 0.3));\n",
              "      fill: #FFFFFF;\n",
              "    }\n",
              "  </style>\n",
              "\n",
              "      <script>\n",
              "        const buttonEl =\n",
              "          document.querySelector('#df-86c1243d-9941-4e7a-a973-32e77f1a70bb button.colab-df-convert');\n",
              "        buttonEl.style.display =\n",
              "          google.colab.kernel.accessAllowed ? 'block' : 'none';\n",
              "\n",
              "        async function convertToInteractive(key) {\n",
              "          const element = document.querySelector('#df-86c1243d-9941-4e7a-a973-32e77f1a70bb');\n",
              "          const dataTable =\n",
              "            await google.colab.kernel.invokeFunction('convertToInteractive',\n",
              "                                                     [key], {});\n",
              "          if (!dataTable) return;\n",
              "\n",
              "          const docLinkHtml = 'Like what you see? Visit the ' +\n",
              "            '<a target=\"_blank\" href=https://colab.research.google.com/notebooks/data_table.ipynb>data table notebook</a>'\n",
              "            + ' to learn more about interactive tables.';\n",
              "          element.innerHTML = '';\n",
              "          dataTable['output_type'] = 'display_data';\n",
              "          await google.colab.output.renderOutput(dataTable, element);\n",
              "          const docLink = document.createElement('div');\n",
              "          docLink.innerHTML = docLinkHtml;\n",
              "          element.appendChild(docLink);\n",
              "        }\n",
              "      </script>\n",
              "    </div>\n",
              "  </div>\n",
              "  "
            ]
          },
          "metadata": {},
          "execution_count": 5
        }
      ]
    },
    {
      "cell_type": "code",
      "source": [
        "# 수반 작업은 다음과 같이 공식화된다\n",
        "# (text_1, image_1) 및 (text_2, image_2)쌍이 주어졌을 때 서로를 수반(또는 수반하거나 모순되지 않음)하는가?\n",
        "\n",
        "images_one_paths = []\n",
        "images_two_paths = []\n",
        "\n",
        "for idx in range(len(df)):\n",
        "    current_row = df.iloc[idx]\n",
        "    id_1 = current_row[\"id_1\"]\n",
        "    id_2 = current_row[\"id_2\"]\n",
        "    extentsion_one = current_row[\"image_1\"].split(\".\")[-1]\n",
        "    extentsion_two = current_row[\"image_2\"].split(\".\")[-1]\n",
        "\n",
        "    image_one_path = os.path.join(image_base_path, str(id_1) + f\".{extentsion_one}\")\n",
        "    image_two_path = os.path.join(image_base_path, str(id_2) + f\".{extentsion_two}\")\n",
        "\n",
        "    images_one_paths.append(image_one_path)\n",
        "    images_two_paths.append(image_two_path)\n",
        "\n",
        "df[\"image_1_path\"] = images_one_paths\n",
        "df[\"image_2_path\"] = images_two_paths\n",
        "\n",
        "df[\"label_idx\"] = df[\"label\"].apply(lambda x: label_map[x])"
      ],
      "metadata": {
        "id": "NTtlAIjkxL1O"
      },
      "execution_count": 6,
      "outputs": []
    },
    {
      "cell_type": "markdown",
      "source": [
        "## 06. 데이터 시각화"
      ],
      "metadata": {
        "id": "A-BajA7vzy1Q"
      }
    },
    {
      "cell_type": "code",
      "source": [
        "def visualize(idx):\n",
        "    current_row = df.iloc[idx]\n",
        "    image_1 = plt.imread(current_row[\"image_1_path\"])\n",
        "    image_2 = plt.imread(current_row[\"image_2_path\"])\n",
        "    text_1 = current_row[\"text_1\"]\n",
        "    text_2 = current_row[\"text_2\"]\n",
        "    label = current_row[\"label\"]\n",
        "\n",
        "    plt.subplot(1, 2, 1)\n",
        "    plt.imshow(image_1)\n",
        "    plt.axis(\"off\")\n",
        "    plt.title(\"Image One\")\n",
        "    plt.subplot(1, 2, 2)\n",
        "    plt.imshow(image_1)\n",
        "    plt.axis(\"off\")\n",
        "    plt.title(\"Image Two\")\n",
        "    plt.show()\n",
        "\n",
        "    print(f\"Text one: {text_1}\")\n",
        "    print(f\"Text two: {text_2}\")\n",
        "    print(f\"Label: {label}\")\n",
        "\n",
        "\n",
        "random_idx = np.random.choice(len(df))\n",
        "visualize(random_idx)\n",
        "\n",
        "random_idx = np.random.choice(len(df))\n",
        "visualize(random_idx)"
      ],
      "metadata": {
        "colab": {
          "base_uri": "https://localhost:8080/",
          "height": 378
        },
        "id": "01SrNg4rzwqp",
        "outputId": "85e0eb9d-2e39-4168-b48b-bfb90a04e7f1"
      },
      "execution_count": 7,
      "outputs": [
        {
          "output_type": "display_data",
          "data": {
            "text/plain": [
              "<Figure size 432x288 with 2 Axes>"
            ],
            "image/png": "[encoded data removed]"
          },
          "metadata": {
            "needs_background": "light"
          }
        },
        {
          "output_type": "stream",
          "name": "stdout",
          "text": [
            "Text one: Final shot locations vs Stockton. #Marlies 26 -24 edge. 4-3 final score Toronto W https://t.co/nBNRzXoYD2\n",
            "Text two: Final shot locations vs Laval #Marlies 22 Rocket 28 Final score 4-3 Laval. https://t.co/66opEPkvoH\n",
            "Label: NoEntailment\n"
          ]
        },
        {
          "output_type": "display_data",
          "data": {
            "text/plain": [
              "<Figure size 432x288 with 2 Axes>"
            ],
            "image/png": "[encoded data removed]"
          },
          "metadata": {
            "needs_background": "light"
          }
        },
        {
          "output_type": "stream",
          "name": "stdout",
          "text": [
            "Text one: No, the Perseverance rover didn't spot a rainbow on Mars https://t.co/o5Sex9xAQo https://t.co/lMOiPD7cwr\n",
            "Text two: 😂 #spaceisfake there are no rainbows on Mars https://t.co/zODHDpf4IX\n",
            "Label: NoEntailment\n"
          ]
        }
      ]
    },
    {
      "cell_type": "markdown",
      "source": [
        "## 07. 훈련/평가 데이터 분할"
      ],
      "metadata": {
        "id": "YxPaI-prz7mh"
      }
    },
    {
      "cell_type": "code",
      "source": [
        "# 라벨 개수 확인\n",
        "df[\"label\"].value_counts()"
      ],
      "metadata": {
        "colab": {
          "base_uri": "https://localhost:8080/"
        },
        "id": "FslA8DEbz4Ia",
        "outputId": "a2966f7a-10b5-4861-c474-33c61654723e"
      },
      "execution_count": 8,
      "outputs": [
        {
          "output_type": "execute_result",
          "data": {
            "text/plain": [
              "NoEntailment     1182\n",
              "Implies           109\n",
              "Contradictory     109\n",
              "Name: label, dtype: int64"
            ]
          },
          "metadata": {},
          "execution_count": 8
        }
      ]
    },
    {
      "cell_type": "code",
      "source": [
        "# 데이터 분할\n",
        "train_df, test_df = train_test_split(\n",
        "    df, test_size=0.1, stratify=df[\"label\"].values, random_state=42\n",
        ")\n",
        "train_df, val_df = train_test_split(\n",
        "    train_df, test_size=0.05, stratify=train_df[\"label\"].values, random_state=42\n",
        ")\n",
        "\n",
        "print(f\"Total training examples: {len(train_df)}\")\n",
        "print(f\"Total validation examples: {len(val_df)}\")\n",
        "print(f\"Total test examples: {len(test_df)}\")"
      ],
      "metadata": {
        "colab": {
          "base_uri": "https://localhost:8080/"
        },
        "id": "nrUHFC8i2Ekt",
        "outputId": "a2e33ea0-1451-4008-9c13-51d5df27e405"
      },
      "execution_count": 9,
      "outputs": [
        {
          "output_type": "stream",
          "name": "stdout",
          "text": [
            "Total training examples: 1197\n",
            "Total validation examples: 63\n",
            "Total test examples: 140\n"
          ]
        }
      ]
    },
    {
      "cell_type": "markdown",
      "source": [
        "## 08. 데이터 입력 파이프라인"
      ],
      "metadata": {
        "id": "WnJ6oIVT2SIs"
      }
    },
    {
      "cell_type": "code",
      "source": [
        "bert_model_path = (\n",
        "    \"https://tfhub.dev/tensorflow/small_bert/bert_en_uncased_L-2_H-256_A-4/1\"\n",
        ")\n",
        "bert_preprocess_path = \"https://tfhub.dev/tensorflow/bert_en_uncased_preprocess/3\""
      ],
      "metadata": {
        "id": "1w_8zeQh2PNr"
      },
      "execution_count": 10,
      "outputs": []
    },
    {
      "cell_type": "code",
      "source": [
        "def make_bert_preprocessing_model(sentence_features, seq_length=128):\n",
        "    input_segments = [\n",
        "        tf.keras.layers.Input(shape=(), dtype=tf.string, name=ft)\n",
        "        for ft in sentence_features\n",
        "    ]\n",
        "\n",
        "    bert_preprocess = hub.load(bert_preprocess_path)\n",
        "    tokenizer = hub.KerasLayer(bert_preprocess.tokenize, name=\"tokenizer\")\n",
        "    segments = [tokenizer(s) for s in input_segments]\n",
        "\n",
        "    truncated_segments = segments\n",
        "\n",
        "    packer = hub.KerasLayer(\n",
        "        bert_preprocess.bert_pack_inputs,\n",
        "        arguments=dict(seq_length=seq_length),\n",
        "        name=\"packer\",\n",
        "    )\n",
        "    model_inputs = packer(truncated_segments)\n",
        "    return keras.Model(input_segments, model_inputs)\n",
        "\n",
        "\n",
        "bert_preprocess_model = make_bert_preprocessing_model([\"text_1\", \"text_2\"])\n",
        "keras.utils.plot_model(bert_preprocess_model, show_shapes=True, show_dtype=True)"
      ],
      "metadata": {
        "colab": {
          "base_uri": "https://localhost:8080/",
          "height": 404
        },
        "id": "wbus-hWa2V8G",
        "outputId": "a152a3fc-41f5-4e5c-c015-f02655831e23"
      },
      "execution_count": 11,
      "outputs": [
        {
          "output_type": "execute_result",
          "data": {
            "image/png": "[encoded data removed]",
            "text/plain": [
              "<IPython.core.display.Image object>"
            ]
          },
          "metadata": {},
          "execution_count": 11
        }
      ]
    },
    {
      "cell_type": "markdown",
      "source": [
        "## 09. 데이터 전처리"
      ],
      "metadata": {
        "id": "cmazbGgz2mPf"
      }
    },
    {
      "cell_type": "code",
      "source": [
        "idx = np.random.choice(len(train_df))\n",
        "row = train_df.iloc[idx]\n",
        "sample_text_1, sample_text_2 = row[\"text_1\"], row[\"text_2\"]\n",
        "print(f\"Text 1: {sample_text_1}\")\n",
        "print(f\"Text 2: {sample_text_2}\")\n",
        "\n",
        "test_text = [np.array([sample_text_1]), np.array([sample_text_2])]\n",
        "text_preprocessed = bert_preprocess_model(test_text)\n",
        "\n",
        "print(\"Keys           : \", list(text_preprocessed.keys()))\n",
        "print(\"Shape Word Ids : \", text_preprocessed[\"input_word_ids\"].shape)\n",
        "print(\"Word Ids       : \", text_preprocessed[\"input_word_ids\"][0, :16])\n",
        "print(\"Shape Mask     : \", text_preprocessed[\"input_mask\"].shape)\n",
        "print(\"Input Mask     : \", text_preprocessed[\"input_mask\"][0, :16])\n",
        "print(\"Shape Type Ids : \", text_preprocessed[\"input_type_ids\"].shape)\n",
        "print(\"Type Ids       : \", text_preprocessed[\"input_type_ids\"][0, :16])"
      ],
      "metadata": {
        "colab": {
          "base_uri": "https://localhost:8080/"
        },
        "id": "z5WG-qgl2fnz",
        "outputId": "ee16ef19-e6e8-4cb7-d00d-d43bfd532cd0"
      },
      "execution_count": 12,
      "outputs": [
        {
          "output_type": "stream",
          "name": "stdout",
          "text": [
            "Text 1: ➡️Day 1 of Video Compliance Camp is on December 15 and you can earn up to 4 Sub. and 2 Ethics Credits.⬅️\n",
            "Email to register: cle@lehighbar.org\n",
            "Visit https://t.co/fho29W48h1 for more info. \n",
            "\n",
            "#balc #ncba #cle #compliance #ethicscredits https://t.co/PPYTiGggzW\n",
            "Text 2: ✌️Day 2 of Video Compliance Camp is on December 17 and you can earn up to 4 Sub. and 2 Ethics Credits.📽️\n",
            "Email to register: cle@lehighbar.org\n",
            "Visit https://t.co/fho29W48h1 for more info. \n",
            "\n",
            "#balc #ncba #cle #compliance #ethicscredits https://t.co/VhipSHktYi\n",
            "Keys           :  ['input_type_ids', 'input_word_ids', 'input_mask']\n",
            "Shape Word Ids :  (1, 128)\n",
            "Word Ids       :  tf.Tensor(\n",
            "[  101   100  1015  1997  2678 12646  3409  2003  2006  2285  2321  1998\n",
            "  2017  2064  7796  2039], shape=(16,), dtype=int32)\n",
            "Shape Mask     :  (1, 128)\n",
            "Input Mask     :  tf.Tensor([1 1 1 1 1 1 1 1 1 1 1 1 1 1 1 1], shape=(16,), dtype=int32)\n",
            "Shape Type Ids :  (1, 128)\n",
            "Type Ids       :  tf.Tensor([0 0 0 0 0 0 0 0 0 0 0 0 0 0 0 0], shape=(16,), dtype=int32)\n"
          ]
        }
      ]
    },
    {
      "cell_type": "code",
      "source": [
        "def dataframe_to_dataset(dataframe):\n",
        "    columns = [\"image_1_path\", \"image_2_path\", \"text_1\", \"text_2\", \"label_idx\"]\n",
        "    dataframe = dataframe[columns].copy()\n",
        "    labels = dataframe.pop(\"label_idx\")\n",
        "    ds = tf.data.Dataset.from_tensor_slices((dict(dataframe), labels))\n",
        "    ds = ds.shuffle(buffer_size=len(dataframe))\n",
        "    return ds"
      ],
      "metadata": {
        "id": "tYKNj9VP2p1r"
      },
      "execution_count": 13,
      "outputs": []
    },
    {
      "cell_type": "code",
      "source": [
        "# 전처리 유틸리티\n",
        "resize = (128, 128)\n",
        "bert_input_features = [\"input_word_ids\", \"input_type_ids\", \"input_mask\"]\n",
        "\n",
        "\n",
        "def preprocess_image(image_path):\n",
        "    extension = tf.strings.split(image_path)[-1]\n",
        "\n",
        "    image = tf.io.read_file(image_path)\n",
        "    if extension == b\"jpg\":\n",
        "        image = tf.image.decode_jpeg(image, 3)\n",
        "    else:\n",
        "        image = tf.image.decode_png(image, 3)\n",
        "    image = tf.image.resize(image, resize)\n",
        "    return image\n",
        "\n",
        "\n",
        "def preprocess_text(text_1, text_2):\n",
        "    text_1 = tf.convert_to_tensor([text_1])\n",
        "    text_2 = tf.convert_to_tensor([text_2])\n",
        "    output = bert_preprocess_model([text_1, text_2])\n",
        "    output = {feature: tf.squeeze(output[feature]) for feature in bert_input_features}\n",
        "    return output\n",
        "\n",
        "\n",
        "def preprocess_text_and_image(sample):\n",
        "    image_1 = preprocess_image(sample[\"image_1_path\"])\n",
        "    image_2 = preprocess_image(sample[\"image_2_path\"])\n",
        "    text = preprocess_text(sample[\"text_1\"], sample[\"text_2\"])\n",
        "    return {\"image_1\": image_1, \"image_2\": image_2, \"text\": text}"
      ],
      "metadata": {
        "id": "2bGmmVD32spW"
      },
      "execution_count": 14,
      "outputs": []
    },
    {
      "cell_type": "code",
      "source": [
        "# 최종 데이터세트 생성\n",
        "batch_size = 32\n",
        "auto = tf.data.AUTOTUNE\n",
        "\n",
        "\n",
        "def prepare_dataset(dataframe, training=True):\n",
        "    ds = dataframe_to_dataset(dataframe)\n",
        "    if training:\n",
        "        ds = ds.shuffle(len(train_df))\n",
        "    ds = ds.map(lambda x, y: (preprocess_text_and_image(x), y)).cache()\n",
        "    ds = ds.batch(batch_size).prefetch(auto)\n",
        "    return ds\n",
        "\n",
        "\n",
        "train_ds = prepare_dataset(train_df)\n",
        "validation_ds = prepare_dataset(val_df, False)\n",
        "test_ds = prepare_dataset(test_df, False)"
      ],
      "metadata": {
        "id": "sw94LCJ845Km"
      },
      "execution_count": 15,
      "outputs": []
    },
    {
      "cell_type": "markdown",
      "source": [
        "## 10. 모델 구축 유틸리티"
      ],
      "metadata": {
        "id": "8q2DEJ0Y5AgC"
      }
    },
    {
      "cell_type": "code",
      "source": [
        "# 프로젝션 유틸리티\n",
        "def project_embeddings(\n",
        "    embeddings, num_projection_layers, projection_dims, dropout_rate\n",
        "):\n",
        "    projected_embeddings = keras.layers.Dense(units=projection_dims)(embeddings)\n",
        "    for _ in range(num_projection_layers):\n",
        "        x = tf.nn.gelu(projected_embeddings)\n",
        "        x = keras.layers.Dense(projection_dims)(x)\n",
        "        x = keras.layers.Dropout(dropout_rate)(x)\n",
        "        x = keras.layers.Add()([projected_embeddings, x])\n",
        "        projected_embeddings = keras.layers.LayerNormalization()(x)\n",
        "    return projected_embeddings"
      ],
      "metadata": {
        "id": "GrBaaeca48YG"
      },
      "execution_count": 16,
      "outputs": []
    },
    {
      "cell_type": "code",
      "source": [
        "# 비전 인코더 유틸리티\n",
        "def create_vision_encoder(\n",
        "    num_projection_layers, projection_dims, dropout_rate, trainable=False\n",
        "):\n",
        "\n",
        "    resnet_v2 = keras.applications.ResNet50V2(\n",
        "        include_top=False, weights=\"imagenet\", pooling=\"avg\"\n",
        "    )\n",
        "    for layer in resnet_v2.layers:\n",
        "        layer.trainable = trainable\n",
        "\n",
        "    image_1 = keras.Input(shape=(128, 128, 3), name=\"image_1\")\n",
        "    image_2 = keras.Input(shape=(128, 128, 3), name=\"image_2\")\n",
        "\n",
        "    preprocessed_1 = keras.applications.resnet_v2.preprocess_input(image_1)\n",
        "    preprocessed_2 = keras.applications.resnet_v2.preprocess_input(image_2)\n",
        "\n",
        "    embeddings_1 = resnet_v2(preprocessed_1)\n",
        "    embeddings_2 = resnet_v2(preprocessed_2)\n",
        "    embeddings = keras.layers.Concatenate()([embeddings_1, embeddings_2])\n",
        "\n",
        "    outputs = project_embeddings(\n",
        "        embeddings, num_projection_layers, projection_dims, dropout_rate\n",
        "    )\n",
        "    return keras.Model([image_1, image_2], outputs, name=\"vision_encoder\")"
      ],
      "metadata": {
        "id": "ddMqA4et5ILj"
      },
      "execution_count": 17,
      "outputs": []
    },
    {
      "cell_type": "code",
      "source": [
        "# 텍스트 인코더 유틸리티\n",
        "def create_text_encoder(\n",
        "    num_projection_layers, projection_dims, dropout_rate, trainable=False\n",
        "):\n",
        "    bert = hub.KerasLayer(bert_model_path, name=\"bert\",)\n",
        "    bert.trainable = trainable\n",
        "\n",
        "    bert_input_features = [\"input_type_ids\", \"input_mask\", \"input_word_ids\"]\n",
        "    inputs = {\n",
        "        feature: keras.Input(shape=(128,), dtype=tf.int32, name=feature)\n",
        "        for feature in bert_input_features\n",
        "    }\n",
        "\n",
        "    embeddings = bert(inputs)[\"pooled_output\"]\n",
        "\n",
        "    outputs = project_embeddings(\n",
        "        embeddings, num_projection_layers, projection_dims, dropout_rate\n",
        "    )\n",
        "    return keras.Model(inputs, outputs, name=\"text_encoder\")"
      ],
      "metadata": {
        "id": "IEHsymQS5RtR"
      },
      "execution_count": 18,
      "outputs": []
    },
    {
      "cell_type": "code",
      "source": [
        "# 다중 모드 모델 유틸리티\n",
        "def create_multimodal_model(\n",
        "    num_projection_layers=1,\n",
        "    projection_dims=256,\n",
        "    dropout_rate=0.1,\n",
        "    vision_trainable=False,\n",
        "    text_trainable=False,\n",
        "):\n",
        "    image_1 = keras.Input(shape=(128, 128, 3), name=\"image_1\")\n",
        "    image_2 = keras.Input(shape=(128, 128, 3), name=\"image_2\")\n",
        "\n",
        "    bert_input_features = [\"input_type_ids\", \"input_mask\", \"input_word_ids\"]\n",
        "    text_inputs = {\n",
        "        feature: keras.Input(shape=(128,), dtype=tf.int32, name=feature)\n",
        "        for feature in bert_input_features\n",
        "    }\n",
        "\n",
        "    vision_encoder = create_vision_encoder(\n",
        "        num_projection_layers, projection_dims, dropout_rate, vision_trainable\n",
        "    )\n",
        "    text_encoder = create_text_encoder(\n",
        "        num_projection_layers, projection_dims, dropout_rate, text_trainable\n",
        "    )\n",
        "\n",
        "    vision_projections = vision_encoder([image_1, image_2])\n",
        "    text_projections = text_encoder(text_inputs)\n",
        "\n",
        "    concatenated = keras.layers.Concatenate()([vision_projections, text_projections])\n",
        "    outputs = keras.layers.Dense(3, activation=\"softmax\")(concatenated)\n",
        "    return keras.Model([image_1, image_2, text_inputs], outputs)\n",
        "\n",
        "\n",
        "multimodal_model = create_multimodal_model()\n",
        "keras.utils.plot_model(multimodal_model, show_shapes=True)"
      ],
      "metadata": {
        "colab": {
          "base_uri": "https://localhost:8080/",
          "height": 358
        },
        "id": "__BXtvHZ7kad",
        "outputId": "982e1588-322f-410d-deae-3f9b2991c303"
      },
      "execution_count": 19,
      "outputs": [
        {
          "output_type": "stream",
          "name": "stdout",
          "text": [
            "Downloading data from https://storage.googleapis.com/tensorflow/keras-applications/resnet/resnet50v2_weights_tf_dim_ordering_tf_kernels_notop.h5\n",
            "94668760/94668760 [==============================] - 1s 0us/step\n"
          ]
        },
        {
          "output_type": "execute_result",
          "data": {
            "image/png": "[encoded data removed]",
            "text/plain": [
              "<IPython.core.display.Image object>"
            ]
          },
          "metadata": {},
          "execution_count": 19
        }
      ]
    },
    {
      "cell_type": "markdown",
      "source": [
        "## 11. 모델 컴파일 및 학습"
      ],
      "metadata": {
        "id": "Gup8wc6e74mR"
      }
    },
    {
      "cell_type": "code",
      "source": [
        "multimodal_model.compile(\n",
        "    optimizer=\"adam\", loss=\"sparse_categorical_crossentropy\", metrics=\"accuracy\"\n",
        ")\n",
        "\n",
        "history = multimodal_model.fit(train_ds, validation_data=validation_ds, epochs=10)"
      ],
      "metadata": {
        "colab": {
          "base_uri": "https://localhost:8080/"
        },
        "id": "GW1BVOB1719u",
        "outputId": "e653ff28-7e07-4684-a66c-7286cd45dff3"
      },
      "execution_count": 20,
      "outputs": [
        {
          "output_type": "stream",
          "name": "stdout",
          "text": [
            "Epoch 1/10\n",
            "38/38 [==============================] - 165s 4s/step - loss: 0.6409 - accuracy: 0.8471 - val_loss: 0.5471 - val_accuracy: 0.8571\n",
            "Epoch 2/10\n",
            "38/38 [==============================] - 127s 3s/step - loss: 0.3596 - accuracy: 0.8864 - val_loss: 0.6041 - val_accuracy: 0.8571\n",
            "Epoch 3/10\n",
            "38/38 [==============================] - 124s 3s/step - loss: 0.2628 - accuracy: 0.9131 - val_loss: 0.7940 - val_accuracy: 0.8413\n",
            "Epoch 4/10\n",
            "38/38 [==============================] - 125s 3s/step - loss: 0.1692 - accuracy: 0.9407 - val_loss: 1.0259 - val_accuracy: 0.8254\n",
            "Epoch 5/10\n",
            "38/38 [==============================] - 125s 3s/step - loss: 0.2014 - accuracy: 0.9323 - val_loss: 1.0779 - val_accuracy: 0.7143\n",
            "Epoch 6/10\n",
            "38/38 [==============================] - 125s 3s/step - loss: 0.2456 - accuracy: 0.9256 - val_loss: 0.7618 - val_accuracy: 0.8571\n",
            "Epoch 7/10\n",
            "38/38 [==============================] - 125s 3s/step - loss: 0.1027 - accuracy: 0.9666 - val_loss: 1.0669 - val_accuracy: 0.8413\n",
            "Epoch 8/10\n",
            "38/38 [==============================] - 125s 3s/step - loss: 0.0783 - accuracy: 0.9708 - val_loss: 1.3263 - val_accuracy: 0.8571\n",
            "Epoch 9/10\n",
            "38/38 [==============================] - 126s 3s/step - loss: 0.0390 - accuracy: 0.9850 - val_loss: 1.2533 - val_accuracy: 0.8571\n",
            "Epoch 10/10\n",
            "38/38 [==============================] - 129s 3s/step - loss: 0.0267 - accuracy: 0.9916 - val_loss: 1.2001 - val_accuracy: 0.8571\n"
          ]
        }
      ]
    },
    {
      "cell_type": "markdown",
      "source": [
        "## 12. 모델 평가"
      ],
      "metadata": {
        "id": "LVeim5a1Bbzm"
      }
    },
    {
      "cell_type": "code",
      "source": [
        "_, acc = multimodal_model.evaluate(test_ds)\n",
        "print(f\"Accuracy on the test set: {round(acc * 100, 2)}%.\")"
      ],
      "metadata": {
        "colab": {
          "base_uri": "https://localhost:8080/"
        },
        "id": "Y_YPaGbg79bx",
        "outputId": "0b34b1e5-9440-4cdb-839a-0fd57b5d6320"
      },
      "execution_count": 21,
      "outputs": [
        {
          "output_type": "stream",
          "name": "stdout",
          "text": [
            "5/5 [==============================] - 22s 3s/step - loss: 0.9850 - accuracy: 0.8500\n",
            "Accuracy on the test set: 85.0%.\n"
          ]
        }
      ]
    }
  ]
}