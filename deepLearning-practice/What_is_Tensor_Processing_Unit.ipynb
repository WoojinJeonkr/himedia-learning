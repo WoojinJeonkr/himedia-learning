{
 "cells": [
  {
   "cell_type": "markdown",
   "metadata": {
    "colab_type": "text",
    "id": "view-in-github"
   },
   "source": [
    "<a href=\"https://colab.research.google.com/github/WoojinJeonkr/DeepLearning/blob/main/Untitled18.ipynb\" target=\"_parent\"><img src=\"https://colab.research.google.com/assets/colab-badge.svg\" alt=\"Open In Colab\"/></a>"
   ]
  },
  {
   "cell_type": "code",
   "execution_count": 2,
   "metadata": {
    "colab": {
     "base_uri": "https://localhost:8080/",
     "height": 131
    },
    "id": "aAGEucht5pae",
    "outputId": "7880ec78-f06d-4226-eabc-6b93cb1f5ac6"
   },
   "outputs": [
    {
     "ename": "AssertionError",
     "evalue": "ERROR: Not connected to a TPU runtime; please see the first cell in this notebook for instructions!",
     "output_type": "error",
     "traceback": [
      "\u001b[1;31m---------------------------------------------------------------------------\u001b[0m",
      "\u001b[1;31mAssertionError\u001b[0m                            Traceback (most recent call last)",
      "\u001b[1;32m~\\AppData\\Local\\Temp\\ipykernel_20236\\1801904396.py\u001b[0m in \u001b[0;36m<module>\u001b[1;34m\u001b[0m\n\u001b[0;32m      8\u001b[0m \u001b[1;32mimport\u001b[0m \u001b[0mtensorflow\u001b[0m \u001b[1;32mas\u001b[0m \u001b[0mtf\u001b[0m\u001b[1;33m\u001b[0m\u001b[1;33m\u001b[0m\u001b[0m\n\u001b[0;32m      9\u001b[0m \u001b[1;33m\u001b[0m\u001b[0m\n\u001b[1;32m---> 10\u001b[1;33m \u001b[1;32massert\u001b[0m \u001b[1;34m'COLAB_TPU_ADDR'\u001b[0m \u001b[1;32min\u001b[0m \u001b[0mos\u001b[0m\u001b[1;33m.\u001b[0m\u001b[0menviron\u001b[0m\u001b[1;33m,\u001b[0m \u001b[1;34m'ERROR: Not connected to a TPU runtime; please see the first cell in this notebook for instructions!'\u001b[0m\u001b[1;33m\u001b[0m\u001b[1;33m\u001b[0m\u001b[0m\n\u001b[0m\u001b[0;32m     11\u001b[0m \u001b[0mTPU_ADDRESS\u001b[0m \u001b[1;33m=\u001b[0m \u001b[1;34m'grpc://'\u001b[0m \u001b[1;33m+\u001b[0m \u001b[0mos\u001b[0m\u001b[1;33m.\u001b[0m\u001b[0menviron\u001b[0m\u001b[1;33m[\u001b[0m\u001b[1;34m'COLAB_TPU_ADDR'\u001b[0m\u001b[1;33m]\u001b[0m\u001b[1;33m\u001b[0m\u001b[1;33m\u001b[0m\u001b[0m\n\u001b[0;32m     12\u001b[0m \u001b[0mprint\u001b[0m\u001b[1;33m(\u001b[0m\u001b[1;34m'TPU address is'\u001b[0m\u001b[1;33m,\u001b[0m \u001b[0mTPU_ADDRESS\u001b[0m\u001b[1;33m)\u001b[0m\u001b[1;33m\u001b[0m\u001b[1;33m\u001b[0m\u001b[0m\n",
      "\u001b[1;31mAssertionError\u001b[0m: ERROR: Not connected to a TPU runtime; please see the first cell in this notebook for instructions!"
     ]
    }
   ],
   "source": [
    "import datetime\n",
    "import json\n",
    "import os\n",
    "import pprint\n",
    "import random\n",
    "import string\n",
    "import sys\n",
    "import tensorflow as tf\n",
    "\n",
    "assert 'COLAB_TPU_ADDR' in os.environ, 'ERROR: Not connected to a TPU runtime; please see the first cell in this notebook for instructions!'\n",
    "TPU_ADDRESS = 'grpc://' + os.environ['COLAB_TPU_ADDR']\n",
    "print('TPU address is', TPU_ADDRESS)\n",
    "\n",
    "from google.colab import auth\n",
    "auth.authenticate_user()\n",
    "with tf.Session(TPU_ADDRESS) as session:\n",
    "    print('TPU devices:')\n",
    "    pprint.pprint(session.list_devices())\n",
    "\n",
    "    # Upload credentials to TPU.\n",
    "    with open('/content/adc.json', 'r') as f:\n",
    "        auth_info = json.load(f)\n",
    "    tf.contrib.cloud.configure_gcs(session, credentials=auth_info)"
   ]
  },
  {
   "cell_type": "markdown",
   "metadata": {
    "id": "6YAhhPFO5qWH"
   },
   "source": [
    "### TPU란?"
   ]
  },
  {
   "cell_type": "markdown",
   "metadata": {},
   "source": [
    "텐서 처리 장치(Tensor Processing Unit, TPU)는 구글에서 2016년 5월에 발표한 데이터 분석 및 딥러닝용 하드웨어이다.   \n",
    "구글 자체 텐서플로 소프트웨어를 이용한다.   \n",
    "구글은 2015년에 내부적으로 TPU를 사용하기 시작했으며 2018년 서드파티용으로 판매를 시작했다.\n",
    "\n",
    "[출처: 텐서 처리 장치 - 위키백과]('https://ko.wikipedia.org/wiki/%ED%85%90%EC%84%9C_%EC%B2%98%EB%A6%AC_%EC%9E%A5%EC%B9%98')"
   ]
  }
 ],
 "metadata": {
  "colab": {
   "authorship_tag": "ABX9TyMckxHjsW25mG5JoEZfoWXK",
   "include_colab_link": true,
   "name": "Untitled18.ipynb",
   "provenance": []
  },
  "kernelspec": {
   "display_name": "Python 3 (ipykernel)",
   "language": "python",
   "name": "python3"
  },
  "language_info": {
   "codemirror_mode": {
    "name": "ipython",
    "version": 3
   },
   "file_extension": ".py",
   "mimetype": "text/x-python",
   "name": "python",
   "nbconvert_exporter": "python",
   "pygments_lexer": "ipython3",
   "version": "3.7.13"
  }
 },
 "nbformat": 4,
 "nbformat_minor": 1
}
