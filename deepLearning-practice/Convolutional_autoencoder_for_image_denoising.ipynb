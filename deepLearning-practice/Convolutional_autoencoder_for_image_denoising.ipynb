{
  "cells": [
    {
      "cell_type": "markdown",
      "metadata": {
        "id": "view-in-github",
        "colab_type": "text"
      },
      "source": [
        "<a href=\"https://colab.research.google.com/github/WoojinJeonkr/DeepLearning/blob/main/Convolutional_autoencoder_for_image_denoising.ipynb\" target=\"_parent\"><img src=\"https://colab.research.google.com/assets/colab-badge.svg\" alt=\"Open In Colab\"/></a>"
      ]
    },
    {
      "cell_type": "markdown",
      "source": [
        "# 이미지 노이즈 제거를 위한 Convolutional autoencoder\n",
        "- 내용 출처: https://keras.io/examples/vision/autoencoder/\n",
        "- 목표: 이미지 노이즈 제거를 위한 deep convolutional autoencoder를 구현하고   \n",
        "MNIST 데이터 세트의 노이즈가 있는 숫자 이미지를 깨끗한 숫자 이미지로 매핑"
      ],
      "metadata": {
        "id": "lE-cyLdeD4k1"
      }
    },
    {
      "cell_type": "markdown",
      "source": [
        "## 01. 라이브러리 불러오기"
      ],
      "metadata": {
        "id": "O8uQPJ1JEjFW"
      }
    },
    {
      "cell_type": "code",
      "execution_count": 1,
      "metadata": {
        "id": "AF2K-sof5LZ0"
      },
      "outputs": [],
      "source": [
        "import numpy as np\n",
        "import tensorflow as tf\n",
        "import matplotlib.pyplot as plt\n",
        "\n",
        "from tensorflow.keras import layers\n",
        "from tensorflow.keras.datasets import mnist\n",
        "from tensorflow.keras.models import Model"
      ]
    },
    {
      "cell_type": "markdown",
      "source": [
        "## 02. 설정"
      ],
      "metadata": {
        "id": "E1k_MJZwEvTP"
      }
    },
    {
      "cell_type": "code",
      "source": [
        "# 제공된 배열 정규화, 재구성 함수 정의\n",
        "def preprocess(array):\n",
        "    array = array.astype(\"float32\") / 255.0\n",
        "    array = np.reshape(array, (len(array), 28, 28, 1))\n",
        "    return array"
      ],
      "metadata": {
        "id": "jAZL-izDEnNt"
      },
      "execution_count": 2,
      "outputs": []
    },
    {
      "cell_type": "code",
      "source": [
        "# 제공된 배열의 각 이미지에 노이즈 추가 함수 정의\n",
        "def noise(array):\n",
        "    noise_factor = 0.4\n",
        "    noisy_array = array + noise_factor * np.random.normal(\n",
        "        loc=0.0, scale=1.0, size=array.shape\n",
        "    )\n",
        "    return np.clip(noisy_array, 0.0, 1.0)"
      ],
      "metadata": {
        "id": "8i9uW3PzE_FF"
      },
      "execution_count": 3,
      "outputs": []
    },
    {
      "cell_type": "code",
      "source": [
        "# 제공된 배열에서 10개의 이미지 시각화 함수 정의\n",
        "def display(array1, array2):\n",
        "    n = 10 # 표시할 이미지 수 정의\n",
        "\n",
        "    indices = np.random.randint(len(array1), size=n)\n",
        "    images1 = array1[indices, :]\n",
        "    images2 = array2[indices, :]\n",
        "\n",
        "    plt.figure(figsize=(20, 4))\n",
        "    for i, (image1, image2) in enumerate(zip(images1, images2)):\n",
        "        ax = plt.subplot(2, n, i + 1)\n",
        "        plt.imshow(image1.reshape(28, 28))\n",
        "        plt.gray()\n",
        "        ax.get_xaxis().set_visible(False)\n",
        "        ax.get_yaxis().set_visible(False)\n",
        "\n",
        "        ax = plt.subplot(2, n, i + 1 + n)\n",
        "        plt.imshow(image2.reshape(28, 28))\n",
        "        plt.gray()\n",
        "        ax.get_xaxis().set_visible(False)\n",
        "        ax.get_yaxis().set_visible(False)\n",
        "\n",
        "    plt.show()"
      ],
      "metadata": {
        "id": "EnQHom1EFLNr"
      },
      "execution_count": 4,
      "outputs": []
    },
    {
      "cell_type": "markdown",
      "source": [
        "## 03. 데이터 준비"
      ],
      "metadata": {
        "id": "MWaklczmFaFb"
      }
    },
    {
      "cell_type": "code",
      "source": [
        "# 데이터 불러오기\n",
        "(train_data, _), (test_data, _) = mnist.load_data()\n",
        "\n",
        "# 데이터 정규화\n",
        "train_data = preprocess(train_data)\n",
        "test_data = preprocess(test_data)\n",
        "\n",
        "# 각 데이터에 노이즈 추가\n",
        "noisy_train_data = noise(train_data)\n",
        "noisy_test_data = noise(test_data)\n",
        "\n",
        "# 이미지 시각화\n",
        "display(train_data, noisy_train_data)"
      ],
      "metadata": {
        "colab": {
          "base_uri": "https://localhost:8080/",
          "height": 302
        },
        "id": "Qrkki2xAFYix",
        "outputId": "c77206e1-5141-4d7a-bce4-4a9236cf1443"
      },
      "execution_count": 5,
      "outputs": [
        {
          "output_type": "stream",
          "name": "stdout",
          "text": [
            "Downloading data from https://storage.googleapis.com/tensorflow/tf-keras-datasets/mnist.npz\n",
            "11493376/11490434 [==============================] - 0s 0us/step\n",
            "11501568/11490434 [==============================] - 0s 0us/step\n"
          ]
        },
        {
          "output_type": "display_data",
          "data": {
            "text/plain": [
              "<Figure size 1440x288 with 20 Axes>"
            ],
            "image/png": "[encoded data removed]"
          },
          "metadata": {
            "needs_background": "light"
          }
        }
      ]
    },
    {
      "cell_type": "code",
      "source": [
        "# 첫번째 줄의 이미지가 원본 이미지들이고 두번째 줄의 이미지가 노이즈가 추가된 이미지들이다"
      ],
      "metadata": {
        "id": "brR5l9VJFt1h"
      },
      "execution_count": 6,
      "outputs": []
    },
    {
      "cell_type": "markdown",
      "source": [
        "## 04. autoencoder 생성\n",
        "- Fuctional API를 사용하여 convolutional autoencoder 생성"
      ],
      "metadata": {
        "id": "nQauFOtnF_PT"
      }
    },
    {
      "cell_type": "code",
      "source": [
        "input = layers.Input(shape=(28, 28, 1))\n",
        "\n",
        "# 인코더\n",
        "x = layers.Conv2D(32, (3, 3), activation=\"relu\", padding=\"same\")(input)\n",
        "x = layers.MaxPooling2D((2, 2), padding=\"same\")(x)\n",
        "x = layers.Conv2D(32, (3, 3), activation=\"relu\", padding=\"same\")(x)\n",
        "x = layers.MaxPooling2D((2, 2), padding=\"same\")(x)\n",
        "\n",
        "# 디코더\n",
        "x = layers.Conv2DTranspose(32, (3, 3), strides=2, activation=\"relu\", padding=\"same\")(x)\n",
        "x = layers.Conv2DTranspose(32, (3, 3), strides=2, activation=\"relu\", padding=\"same\")(x)\n",
        "x = layers.Conv2D(1, (3, 3), activation=\"sigmoid\", padding=\"same\")(x)\n",
        "\n",
        "# autoencoder\n",
        "autoencoder = Model(input, x)\n",
        "autoencoder.compile(optimizer=\"adam\", loss=\"binary_crossentropy\")\n",
        "autoencoder.summary()"
      ],
      "metadata": {
        "colab": {
          "base_uri": "https://localhost:8080/"
        },
        "id": "YIbNmWYAF-d5",
        "outputId": "e24e3b3d-eaf6-4485-e7b1-b281b67fae62"
      },
      "execution_count": 7,
      "outputs": [
        {
          "output_type": "stream",
          "name": "stdout",
          "text": [
            "Model: \"model\"\n",
            "_________________________________________________________________\n",
            " Layer (type)                Output Shape              Param #   \n",
            "=================================================================\n",
            " input_1 (InputLayer)        [(None, 28, 28, 1)]       0         \n",
            "                                                                 \n",
            " conv2d (Conv2D)             (None, 28, 28, 32)        320       \n",
            "                                                                 \n",
            " max_pooling2d (MaxPooling2D  (None, 14, 14, 32)       0         \n",
            " )                                                               \n",
            "                                                                 \n",
            " conv2d_1 (Conv2D)           (None, 14, 14, 32)        9248      \n",
            "                                                                 \n",
            " max_pooling2d_1 (MaxPooling  (None, 7, 7, 32)         0         \n",
            " 2D)                                                             \n",
            "                                                                 \n",
            " conv2d_transpose (Conv2DTra  (None, 14, 14, 32)       9248      \n",
            " nspose)                                                         \n",
            "                                                                 \n",
            " conv2d_transpose_1 (Conv2DT  (None, 28, 28, 32)       9248      \n",
            " ranspose)                                                       \n",
            "                                                                 \n",
            " conv2d_2 (Conv2D)           (None, 28, 28, 1)         289       \n",
            "                                                                 \n",
            "=================================================================\n",
            "Total params: 28,353\n",
            "Trainable params: 28,353\n",
            "Non-trainable params: 0\n",
            "_________________________________________________________________\n"
          ]
        }
      ]
    },
    {
      "cell_type": "code",
      "source": [
        "# autoencoder 훈련\n",
        "autoencoder.fit(\n",
        "    x=train_data,\n",
        "    y=train_data,\n",
        "    epochs=50,\n",
        "    batch_size=128,\n",
        "    shuffle=True,\n",
        "    validation_data=(test_data, test_data),\n",
        ")"
      ],
      "metadata": {
        "colab": {
          "base_uri": "https://localhost:8080/"
        },
        "id": "RFdVDlUMGSDP",
        "outputId": "9568ffbf-789a-40e2-e79d-c71bd67099d5"
      },
      "execution_count": 8,
      "outputs": [
        {
          "output_type": "stream",
          "name": "stdout",
          "text": [
            "Epoch 1/50\n",
            "469/469 [==============================] - 147s 311ms/step - loss: 0.1320 - val_loss: 0.0728\n",
            "Epoch 2/50\n",
            "469/469 [==============================] - 147s 313ms/step - loss: 0.0714 - val_loss: 0.0694\n",
            "Epoch 3/50\n",
            "469/469 [==============================] - 146s 311ms/step - loss: 0.0691 - val_loss: 0.0679\n",
            "Epoch 4/50\n",
            "469/469 [==============================] - 146s 312ms/step - loss: 0.0679 - val_loss: 0.0669\n",
            "Epoch 5/50\n",
            "469/469 [==============================] - 146s 311ms/step - loss: 0.0671 - val_loss: 0.0664\n",
            "Epoch 6/50\n",
            "469/469 [==============================] - 146s 312ms/step - loss: 0.0665 - val_loss: 0.0658\n",
            "Epoch 7/50\n",
            "469/469 [==============================] - 147s 314ms/step - loss: 0.0661 - val_loss: 0.0655\n",
            "Epoch 8/50\n",
            "469/469 [==============================] - 146s 312ms/step - loss: 0.0658 - val_loss: 0.0652\n",
            "Epoch 9/50\n",
            "469/469 [==============================] - 145s 309ms/step - loss: 0.0654 - val_loss: 0.0649\n",
            "Epoch 10/50\n",
            "469/469 [==============================] - 145s 310ms/step - loss: 0.0652 - val_loss: 0.0646\n",
            "Epoch 11/50\n",
            "469/469 [==============================] - 146s 311ms/step - loss: 0.0649 - val_loss: 0.0646\n",
            "Epoch 12/50\n",
            "469/469 [==============================] - 147s 314ms/step - loss: 0.0647 - val_loss: 0.0643\n",
            "Epoch 13/50\n",
            "469/469 [==============================] - 145s 309ms/step - loss: 0.0645 - val_loss: 0.0641\n",
            "Epoch 14/50\n",
            "469/469 [==============================] - 145s 310ms/step - loss: 0.0644 - val_loss: 0.0639\n",
            "Epoch 15/50\n",
            "469/469 [==============================] - 146s 311ms/step - loss: 0.0642 - val_loss: 0.0638\n",
            "Epoch 16/50\n",
            "469/469 [==============================] - 147s 313ms/step - loss: 0.0641 - val_loss: 0.0636\n",
            "Epoch 17/50\n",
            "469/469 [==============================] - 146s 312ms/step - loss: 0.0639 - val_loss: 0.0636\n",
            "Epoch 18/50\n",
            "469/469 [==============================] - 146s 310ms/step - loss: 0.0638 - val_loss: 0.0634\n",
            "Epoch 19/50\n",
            "469/469 [==============================] - 147s 313ms/step - loss: 0.0637 - val_loss: 0.0633\n",
            "Epoch 20/50\n",
            "469/469 [==============================] - 146s 310ms/step - loss: 0.0636 - val_loss: 0.0632\n",
            "Epoch 21/50\n",
            "469/469 [==============================] - 145s 310ms/step - loss: 0.0635 - val_loss: 0.0631\n",
            "Epoch 22/50\n",
            "469/469 [==============================] - 145s 310ms/step - loss: 0.0634 - val_loss: 0.0631\n",
            "Epoch 23/50\n",
            "469/469 [==============================] - 146s 311ms/step - loss: 0.0634 - val_loss: 0.0630\n",
            "Epoch 24/50\n",
            "469/469 [==============================] - 146s 312ms/step - loss: 0.0633 - val_loss: 0.0629\n",
            "Epoch 25/50\n",
            "469/469 [==============================] - 146s 311ms/step - loss: 0.0632 - val_loss: 0.0629\n",
            "Epoch 26/50\n",
            "469/469 [==============================] - 145s 310ms/step - loss: 0.0632 - val_loss: 0.0628\n",
            "Epoch 27/50\n",
            "469/469 [==============================] - 146s 312ms/step - loss: 0.0631 - val_loss: 0.0628\n",
            "Epoch 28/50\n",
            "469/469 [==============================] - 146s 311ms/step - loss: 0.0631 - val_loss: 0.0628\n",
            "Epoch 29/50\n",
            "469/469 [==============================] - 146s 312ms/step - loss: 0.0630 - val_loss: 0.0627\n",
            "Epoch 30/50\n",
            "469/469 [==============================] - 145s 309ms/step - loss: 0.0630 - val_loss: 0.0626\n",
            "Epoch 31/50\n",
            "469/469 [==============================] - 145s 309ms/step - loss: 0.0629 - val_loss: 0.0626\n",
            "Epoch 32/50\n",
            "469/469 [==============================] - 145s 308ms/step - loss: 0.0629 - val_loss: 0.0625\n",
            "Epoch 33/50\n",
            "469/469 [==============================] - 146s 311ms/step - loss: 0.0629 - val_loss: 0.0626\n",
            "Epoch 34/50\n",
            "469/469 [==============================] - 146s 311ms/step - loss: 0.0628 - val_loss: 0.0625\n",
            "Epoch 35/50\n",
            "469/469 [==============================] - 145s 309ms/step - loss: 0.0628 - val_loss: 0.0626\n",
            "Epoch 36/50\n",
            "469/469 [==============================] - 144s 308ms/step - loss: 0.0628 - val_loss: 0.0624\n",
            "Epoch 37/50\n",
            "469/469 [==============================] - 144s 308ms/step - loss: 0.0627 - val_loss: 0.0624\n",
            "Epoch 38/50\n",
            "469/469 [==============================] - 145s 308ms/step - loss: 0.0627 - val_loss: 0.0624\n",
            "Epoch 39/50\n",
            "469/469 [==============================] - 144s 308ms/step - loss: 0.0627 - val_loss: 0.0623\n",
            "Epoch 40/50\n",
            "469/469 [==============================] - 145s 309ms/step - loss: 0.0626 - val_loss: 0.0623\n",
            "Epoch 41/50\n",
            "469/469 [==============================] - 145s 309ms/step - loss: 0.0626 - val_loss: 0.0622\n",
            "Epoch 42/50\n",
            "469/469 [==============================] - 145s 310ms/step - loss: 0.0626 - val_loss: 0.0622\n",
            "Epoch 43/50\n",
            "469/469 [==============================] - 145s 310ms/step - loss: 0.0626 - val_loss: 0.0622\n",
            "Epoch 44/50\n",
            "469/469 [==============================] - 144s 308ms/step - loss: 0.0625 - val_loss: 0.0622\n",
            "Epoch 45/50\n",
            "469/469 [==============================] - 145s 310ms/step - loss: 0.0625 - val_loss: 0.0622\n",
            "Epoch 46/50\n",
            "469/469 [==============================] - 145s 309ms/step - loss: 0.0625 - val_loss: 0.0622\n",
            "Epoch 47/50\n",
            "469/469 [==============================] - 146s 312ms/step - loss: 0.0625 - val_loss: 0.0622\n",
            "Epoch 48/50\n",
            "469/469 [==============================] - 147s 313ms/step - loss: 0.0625 - val_loss: 0.0621\n",
            "Epoch 49/50\n",
            "469/469 [==============================] - 147s 313ms/step - loss: 0.0624 - val_loss: 0.0621\n",
            "Epoch 50/50\n",
            "469/469 [==============================] - 147s 314ms/step - loss: 0.0624 - val_loss: 0.0622\n"
          ]
        },
        {
          "output_type": "execute_result",
          "data": {
            "text/plain": [
              "<keras.callbacks.History at 0x7fb5958ac550>"
            ]
          },
          "metadata": {},
          "execution_count": 8
        }
      ]
    },
    {
      "cell_type": "code",
      "source": [
        "# 원본 이미지에 대한 예측 확인\n",
        "predictions = autoencoder.predict(test_data)\n",
        "display(test_data, predictions)"
      ],
      "metadata": {
        "colab": {
          "base_uri": "https://localhost:8080/",
          "height": 248
        },
        "id": "oRwpYLV1Gc8e",
        "outputId": "0e506d36-03ed-4023-f1b8-21ede0da0253"
      },
      "execution_count": 9,
      "outputs": [
        {
          "output_type": "display_data",
          "data": {
            "text/plain": [
              "<Figure size 1440x288 with 20 Axes>"
            ],
            "image/png": "[encoded data removed]"
          },
          "metadata": {
            "needs_background": "light"
          }
        }
      ]
    },
    {
      "cell_type": "code",
      "source": [
        "# 노이즈가 있는 이미지를 입력 대상으로 사용하여 훈련\n",
        "autoencoder.fit(\n",
        "    x=noisy_train_data,\n",
        "    y=train_data,\n",
        "    epochs=100,\n",
        "    batch_size=128,\n",
        "    shuffle=True,\n",
        "    validation_data=(noisy_test_data, test_data),\n",
        ")"
      ],
      "metadata": {
        "colab": {
          "base_uri": "https://localhost:8080/"
        },
        "id": "vE89fytqn7ZI",
        "outputId": "031e8c47-d499-4a0d-a848-7b153fe725c4"
      },
      "execution_count": 10,
      "outputs": [
        {
          "output_type": "stream",
          "name": "stdout",
          "text": [
            "Epoch 1/100\n",
            "469/469 [==============================] - 147s 314ms/step - loss: 0.1029 - val_loss: 0.0950\n",
            "Epoch 2/100\n",
            "469/469 [==============================] - 146s 312ms/step - loss: 0.0943 - val_loss: 0.0927\n",
            "Epoch 3/100\n",
            "469/469 [==============================] - 147s 313ms/step - loss: 0.0926 - val_loss: 0.0914\n",
            "Epoch 4/100\n",
            "469/469 [==============================] - 147s 314ms/step - loss: 0.0915 - val_loss: 0.0905\n",
            "Epoch 5/100\n",
            "469/469 [==============================] - 147s 314ms/step - loss: 0.0907 - val_loss: 0.0897\n",
            "Epoch 6/100\n",
            "469/469 [==============================] - 147s 313ms/step - loss: 0.0901 - val_loss: 0.0892\n",
            "Epoch 7/100\n",
            "469/469 [==============================] - 147s 313ms/step - loss: 0.0896 - val_loss: 0.0888\n",
            "Epoch 8/100\n",
            "469/469 [==============================] - 147s 313ms/step - loss: 0.0891 - val_loss: 0.0883\n",
            "Epoch 9/100\n",
            "469/469 [==============================] - 146s 312ms/step - loss: 0.0888 - val_loss: 0.0880\n",
            "Epoch 10/100\n",
            "469/469 [==============================] - 145s 310ms/step - loss: 0.0884 - val_loss: 0.0877\n",
            "Epoch 11/100\n",
            "469/469 [==============================] - 146s 311ms/step - loss: 0.0882 - val_loss: 0.0874\n",
            "Epoch 12/100\n",
            "469/469 [==============================] - 146s 311ms/step - loss: 0.0879 - val_loss: 0.0873\n",
            "Epoch 13/100\n",
            "469/469 [==============================] - 146s 310ms/step - loss: 0.0877 - val_loss: 0.0870\n",
            "Epoch 14/100\n",
            "469/469 [==============================] - 147s 313ms/step - loss: 0.0875 - val_loss: 0.0870\n",
            "Epoch 15/100\n",
            "469/469 [==============================] - 146s 311ms/step - loss: 0.0873 - val_loss: 0.0868\n",
            "Epoch 16/100\n",
            "469/469 [==============================] - 146s 311ms/step - loss: 0.0871 - val_loss: 0.0865\n",
            "Epoch 17/100\n",
            "469/469 [==============================] - 146s 311ms/step - loss: 0.0870 - val_loss: 0.0865\n",
            "Epoch 18/100\n",
            "469/469 [==============================] - 146s 310ms/step - loss: 0.0869 - val_loss: 0.0864\n",
            "Epoch 19/100\n",
            "469/469 [==============================] - 145s 308ms/step - loss: 0.0868 - val_loss: 0.0862\n",
            "Epoch 20/100\n",
            "469/469 [==============================] - 145s 309ms/step - loss: 0.0867 - val_loss: 0.0862\n",
            "Epoch 21/100\n",
            "469/469 [==============================] - 145s 310ms/step - loss: 0.0866 - val_loss: 0.0860\n",
            "Epoch 22/100\n",
            "469/469 [==============================] - 145s 310ms/step - loss: 0.0865 - val_loss: 0.0866\n",
            "Epoch 23/100\n",
            "469/469 [==============================] - 145s 310ms/step - loss: 0.0864 - val_loss: 0.0859\n",
            "Epoch 24/100\n",
            "469/469 [==============================] - 145s 310ms/step - loss: 0.0863 - val_loss: 0.0858\n",
            "Epoch 25/100\n",
            "469/469 [==============================] - 146s 310ms/step - loss: 0.0862 - val_loss: 0.0861\n",
            "Epoch 26/100\n",
            "469/469 [==============================] - 146s 311ms/step - loss: 0.0862 - val_loss: 0.0858\n",
            "Epoch 27/100\n",
            "469/469 [==============================] - 145s 309ms/step - loss: 0.0861 - val_loss: 0.0857\n",
            "Epoch 28/100\n",
            "469/469 [==============================] - 146s 310ms/step - loss: 0.0861 - val_loss: 0.0857\n",
            "Epoch 29/100\n",
            "469/469 [==============================] - 145s 308ms/step - loss: 0.0860 - val_loss: 0.0856\n",
            "Epoch 30/100\n",
            "469/469 [==============================] - 145s 310ms/step - loss: 0.0860 - val_loss: 0.0855\n",
            "Epoch 31/100\n",
            "469/469 [==============================] - 144s 308ms/step - loss: 0.0859 - val_loss: 0.0855\n",
            "Epoch 32/100\n",
            "469/469 [==============================] - 144s 308ms/step - loss: 0.0859 - val_loss: 0.0855\n",
            "Epoch 33/100\n",
            "469/469 [==============================] - 144s 307ms/step - loss: 0.0858 - val_loss: 0.0855\n",
            "Epoch 34/100\n",
            "469/469 [==============================] - 145s 308ms/step - loss: 0.0858 - val_loss: 0.0853\n",
            "Epoch 35/100\n",
            "469/469 [==============================] - 144s 308ms/step - loss: 0.0857 - val_loss: 0.0854\n",
            "Epoch 36/100\n",
            "469/469 [==============================] - 145s 309ms/step - loss: 0.0857 - val_loss: 0.0853\n",
            "Epoch 37/100\n",
            "469/469 [==============================] - 145s 309ms/step - loss: 0.0857 - val_loss: 0.0853\n",
            "Epoch 38/100\n",
            "469/469 [==============================] - 145s 310ms/step - loss: 0.0857 - val_loss: 0.0852\n",
            "Epoch 39/100\n",
            "469/469 [==============================] - 145s 310ms/step - loss: 0.0856 - val_loss: 0.0853\n",
            "Epoch 40/100\n",
            "469/469 [==============================] - 147s 313ms/step - loss: 0.0856 - val_loss: 0.0852\n",
            "Epoch 41/100\n",
            "469/469 [==============================] - 145s 310ms/step - loss: 0.0855 - val_loss: 0.0851\n",
            "Epoch 42/100\n",
            "469/469 [==============================] - 146s 311ms/step - loss: 0.0855 - val_loss: 0.0853\n",
            "Epoch 43/100\n",
            "469/469 [==============================] - 146s 312ms/step - loss: 0.0855 - val_loss: 0.0853\n",
            "Epoch 44/100\n",
            "469/469 [==============================] - 147s 313ms/step - loss: 0.0855 - val_loss: 0.0851\n",
            "Epoch 45/100\n",
            "469/469 [==============================] - 147s 314ms/step - loss: 0.0854 - val_loss: 0.0851\n",
            "Epoch 46/100\n",
            "469/469 [==============================] - 147s 313ms/step - loss: 0.0854 - val_loss: 0.0851\n",
            "Epoch 47/100\n",
            "469/469 [==============================] - 147s 313ms/step - loss: 0.0854 - val_loss: 0.0850\n",
            "Epoch 48/100\n",
            "469/469 [==============================] - 146s 312ms/step - loss: 0.0854 - val_loss: 0.0850\n",
            "Epoch 49/100\n",
            "469/469 [==============================] - 146s 310ms/step - loss: 0.0853 - val_loss: 0.0860\n",
            "Epoch 50/100\n",
            "469/469 [==============================] - 146s 311ms/step - loss: 0.0853 - val_loss: 0.0849\n",
            "Epoch 51/100\n",
            "469/469 [==============================] - 146s 312ms/step - loss: 0.0853 - val_loss: 0.0851\n",
            "Epoch 52/100\n",
            "469/469 [==============================] - 146s 311ms/step - loss: 0.0853 - val_loss: 0.0849\n",
            "Epoch 53/100\n",
            "469/469 [==============================] - 146s 312ms/step - loss: 0.0852 - val_loss: 0.0852\n",
            "Epoch 54/100\n",
            "469/469 [==============================] - 146s 312ms/step - loss: 0.0852 - val_loss: 0.0850\n",
            "Epoch 55/100\n",
            "469/469 [==============================] - 147s 313ms/step - loss: 0.0852 - val_loss: 0.0848\n",
            "Epoch 56/100\n",
            "469/469 [==============================] - 147s 314ms/step - loss: 0.0852 - val_loss: 0.0849\n",
            "Epoch 57/100\n",
            "469/469 [==============================] - 147s 313ms/step - loss: 0.0852 - val_loss: 0.0849\n",
            "Epoch 58/100\n",
            "469/469 [==============================] - 146s 312ms/step - loss: 0.0851 - val_loss: 0.0848\n",
            "Epoch 59/100\n",
            "469/469 [==============================] - 146s 312ms/step - loss: 0.0851 - val_loss: 0.0849\n",
            "Epoch 60/100\n",
            "469/469 [==============================] - 146s 312ms/step - loss: 0.0851 - val_loss: 0.0848\n",
            "Epoch 61/100\n",
            "469/469 [==============================] - 148s 316ms/step - loss: 0.0851 - val_loss: 0.0850\n",
            "Epoch 62/100\n",
            "469/469 [==============================] - 147s 313ms/step - loss: 0.0850 - val_loss: 0.0848\n",
            "Epoch 63/100\n",
            "469/469 [==============================] - 147s 313ms/step - loss: 0.0851 - val_loss: 0.0848\n",
            "Epoch 64/100\n",
            "469/469 [==============================] - 148s 315ms/step - loss: 0.0850 - val_loss: 0.0849\n",
            "Epoch 65/100\n",
            "469/469 [==============================] - 149s 316ms/step - loss: 0.0850 - val_loss: 0.0847\n",
            "Epoch 66/100\n",
            "469/469 [==============================] - 147s 314ms/step - loss: 0.0850 - val_loss: 0.0847\n",
            "Epoch 67/100\n",
            "469/469 [==============================] - 148s 315ms/step - loss: 0.0850 - val_loss: 0.0847\n",
            "Epoch 68/100\n",
            "469/469 [==============================] - 147s 314ms/step - loss: 0.0850 - val_loss: 0.0847\n",
            "Epoch 69/100\n",
            "469/469 [==============================] - 148s 317ms/step - loss: 0.0849 - val_loss: 0.0848\n",
            "Epoch 70/100\n",
            "469/469 [==============================] - 148s 315ms/step - loss: 0.0849 - val_loss: 0.0847\n",
            "Epoch 71/100\n",
            "469/469 [==============================] - 149s 317ms/step - loss: 0.0849 - val_loss: 0.0847\n",
            "Epoch 72/100\n",
            "469/469 [==============================] - 147s 314ms/step - loss: 0.0849 - val_loss: 0.0848\n",
            "Epoch 73/100\n",
            "469/469 [==============================] - 148s 315ms/step - loss: 0.0849 - val_loss: 0.0846\n",
            "Epoch 74/100\n",
            "469/469 [==============================] - 147s 314ms/step - loss: 0.0849 - val_loss: 0.0847\n",
            "Epoch 75/100\n",
            "469/469 [==============================] - 148s 315ms/step - loss: 0.0849 - val_loss: 0.0847\n",
            "Epoch 76/100\n",
            "469/469 [==============================] - 147s 313ms/step - loss: 0.0848 - val_loss: 0.0846\n",
            "Epoch 77/100\n",
            "469/469 [==============================] - 147s 314ms/step - loss: 0.0848 - val_loss: 0.0847\n",
            "Epoch 78/100\n",
            "469/469 [==============================] - 147s 314ms/step - loss: 0.0848 - val_loss: 0.0847\n",
            "Epoch 79/100\n",
            "469/469 [==============================] - 149s 317ms/step - loss: 0.0848 - val_loss: 0.0845\n",
            "Epoch 80/100\n",
            "469/469 [==============================] - 148s 315ms/step - loss: 0.0848 - val_loss: 0.0846\n",
            "Epoch 81/100\n",
            "469/469 [==============================] - 147s 314ms/step - loss: 0.0848 - val_loss: 0.0845\n",
            "Epoch 82/100\n",
            "469/469 [==============================] - 147s 313ms/step - loss: 0.0848 - val_loss: 0.0847\n",
            "Epoch 83/100\n",
            "469/469 [==============================] - 147s 313ms/step - loss: 0.0847 - val_loss: 0.0845\n",
            "Epoch 84/100\n",
            "469/469 [==============================] - 146s 311ms/step - loss: 0.0847 - val_loss: 0.0845\n",
            "Epoch 85/100\n",
            "469/469 [==============================] - 146s 312ms/step - loss: 0.0847 - val_loss: 0.0844\n",
            "Epoch 86/100\n",
            "469/469 [==============================] - 146s 312ms/step - loss: 0.0847 - val_loss: 0.0848\n",
            "Epoch 87/100\n",
            "469/469 [==============================] - 147s 313ms/step - loss: 0.0847 - val_loss: 0.0846\n",
            "Epoch 88/100\n",
            "469/469 [==============================] - 147s 313ms/step - loss: 0.0847 - val_loss: 0.0845\n",
            "Epoch 89/100\n",
            "469/469 [==============================] - 147s 313ms/step - loss: 0.0847 - val_loss: 0.0844\n",
            "Epoch 90/100\n",
            "469/469 [==============================] - 146s 311ms/step - loss: 0.0847 - val_loss: 0.0845\n",
            "Epoch 91/100\n",
            "469/469 [==============================] - 146s 311ms/step - loss: 0.0847 - val_loss: 0.0844\n",
            "Epoch 92/100\n",
            "469/469 [==============================] - 146s 312ms/step - loss: 0.0847 - val_loss: 0.0845\n",
            "Epoch 93/100\n",
            "469/469 [==============================] - 146s 311ms/step - loss: 0.0846 - val_loss: 0.0845\n",
            "Epoch 94/100\n",
            "469/469 [==============================] - 146s 310ms/step - loss: 0.0846 - val_loss: 0.0844\n",
            "Epoch 95/100\n",
            "469/469 [==============================] - 146s 312ms/step - loss: 0.0846 - val_loss: 0.0845\n",
            "Epoch 96/100\n",
            "469/469 [==============================] - 146s 312ms/step - loss: 0.0846 - val_loss: 0.0844\n",
            "Epoch 97/100\n",
            "469/469 [==============================] - 146s 311ms/step - loss: 0.0846 - val_loss: 0.0845\n",
            "Epoch 98/100\n",
            "469/469 [==============================] - 145s 310ms/step - loss: 0.0846 - val_loss: 0.0844\n",
            "Epoch 99/100\n",
            "469/469 [==============================] - 145s 309ms/step - loss: 0.0846 - val_loss: 0.0843\n",
            "Epoch 100/100\n",
            "469/469 [==============================] - 144s 308ms/step - loss: 0.0846 - val_loss: 0.0844\n"
          ]
        },
        {
          "output_type": "execute_result",
          "data": {
            "text/plain": [
              "<keras.callbacks.History at 0x7fb58d203c10>"
            ]
          },
          "metadata": {},
          "execution_count": 10
        }
      ]
    },
    {
      "cell_type": "code",
      "source": [
        "# 이미지 노이즈가 있는 데이터에서 원본을 예측\n",
        "predictions = autoencoder.predict(noisy_test_data)\n",
        "display(noisy_test_data, predictions)"
      ],
      "metadata": {
        "colab": {
          "base_uri": "https://localhost:8080/",
          "height": 248
        },
        "id": "gnSRnOv4oNUM",
        "outputId": "d9b9395b-ca50-4f19-a69a-91f24587f858"
      },
      "execution_count": 11,
      "outputs": [
        {
          "output_type": "display_data",
          "data": {
            "text/plain": [
              "<Figure size 1440x288 with 20 Axes>"
            ],
            "image/png": "[encoded data removed]"
          },
          "metadata": {
            "needs_background": "light"
          }
        }
      ]
    }
  ],
  "metadata": {
    "colab": {
      "name": "Convolutional_autoencoder_for_image_denoising.ipynb",
      "provenance": [],
      "collapsed_sections": [],
      "authorship_tag": "ABX9TyOyjo6Pzbggg9CuQFM1P1J3",
      "include_colab_link": true
    },
    "kernelspec": {
      "display_name": "Python 3",
      "name": "python3"
    },
    "language_info": {
      "name": "python"
    }
  },
  "nbformat": 4,
  "nbformat_minor": 0
}