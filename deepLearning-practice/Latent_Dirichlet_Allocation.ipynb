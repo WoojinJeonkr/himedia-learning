{
 "cells": [
  {
   "cell_type": "markdown",
   "id": "e7f1abf1",
   "metadata": {},
   "source": [
    "# LDA (Latent Dirichlet Allocation)"
   ]
  },
  {
   "cell_type": "markdown",
   "id": "c1b2a3b8",
   "metadata": {},
   "source": [
    "1. LDA를 수행할 때 사용자가 해야 할 일: 문서 집합에서 토픽이 몇 개가 존재할지 가정하기   \n",
    "2. 하이퍼파라미터: 모델의 성능에 영향을 주는 사용자가 직접 선택하는 매개변수   \n",
    "3. 하이퍼파라미터의 선택은 여러 실험을 통해 얻은 값일 수도 있고, 우선 시도해보는 값일 수도 있다   \n",
    "4. 각 문서의 토픽 분포와 각 토픽 내의 단어 분포 추정"
   ]
  },
  {
   "cell_type": "markdown",
   "id": "a445ab48",
   "metadata": {},
   "source": [
    "## LDA의 가정"
   ]
  },
  {
   "cell_type": "markdown",
   "id": "4144acc0",
   "metadata": {},
   "source": [
    "1) 문서에 사용할 단어의 개수 N 정하기   \n",
    "2) 문서에 사용할 토픽의 혼합을 확률 분포에 기반하여 결정   \n",
    "3) 문서에 사용할 각 단어 정하기    \n",
    "    (토픽 분포에서 토픽 T를 확률적으로 고르기 --> 선택한 토픽 T에서 단어의 출현 확률 분포에 기반해 문서에 사용할 단어 고르기)   \n",
    "이러한 과정을 통해 문서가 작성되었다는 가정 하에 LDA는 토픽을 뽑아내기 위하여 위 과정을 역으로 추적하는 역공학(reverse engneering) 수행"
   ]
  },
  {
   "cell_type": "markdown",
   "id": "8f043d14",
   "metadata": {},
   "source": [
    "## LDA 수행 과정"
   ]
  },
  {
   "cell_type": "markdown",
   "id": "a1a08881",
   "metadata": {},
   "source": [
    "1) 사용자는 알고리즘에게 토픽의 개수 k 알려주기   \n",
    "2) 모든 단어를 k개 중 하나의 토픽에 할당   \n",
    "3) 모든 문서의 모든 단어에 대해서 아래의 사항을 반복 진행   \n",
    "어떤 문서의 각 단어 w는 자신은 잘못된 토픽에 할당되어져 있지만, 다른 단어들은 전부 올바른 토픽에 할당되어져 있는 상태라고 가정,   \n",
    "이에 따라 단어 w는 아래의 두 가지 기준에 따라서 토픽 재할당   \n",
    "- p(topic t | document d) : 문서 d의 단어들 중 토픽 t에 해당하는 단어들의 비율   \n",
    "- p(word w | topic t) : 각 토픽들 t에서 해당 단어 w의 분포"
   ]
  },
  {
   "cell_type": "markdown",
   "id": "eacb313f",
   "metadata": {},
   "source": [
    "## 잠재 디리클레 할당과 잠재 의미 분석의 차이"
   ]
  },
  {
   "cell_type": "markdown",
   "id": "cbfbf1cb",
   "metadata": {},
   "source": [
    "1. LSA : DTM을 차원 축소 하여 축소 차원에서 근접 단어들을 토픽으로 묶음\n",
    "2. LDA : 단어가 특정 토픽에 존재할 확률과 문서에 특정 토픽이 존재할 확률을 결합확률로 추정하여 토픽 추출"
   ]
  }
 ],
 "metadata": {
  "kernelspec": {
   "display_name": "Python 3 (ipykernel)",
   "language": "python",
   "name": "python3"
  },
  "language_info": {
   "codemirror_mode": {
    "name": "ipython",
    "version": 3
   },
   "file_extension": ".py",
   "mimetype": "text/x-python",
   "name": "python",
   "nbconvert_exporter": "python",
   "pygments_lexer": "ipython3",
   "version": "3.7.13"
  }
 },
 "nbformat": 4,
 "nbformat_minor": 5
}
