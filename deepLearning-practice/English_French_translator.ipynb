{
 "cells": [
  {
   "cell_type": "markdown",
   "id": "380df670",
   "metadata": {},
   "source": [
    "# 영어에서 프랑스어로 번역하기"
   ]
  },
  {
   "cell_type": "markdown",
   "id": "ce87b4ea",
   "metadata": {},
   "source": [
    "## 방법 1. Googletrans 사용하기"
   ]
  },
  {
   "cell_type": "code",
   "execution_count": 1,
   "id": "cbc56c14",
   "metadata": {},
   "outputs": [],
   "source": [
    "# !pip install googletrans==4.0.0-rc1"
   ]
  },
  {
   "cell_type": "code",
   "execution_count": 2,
   "id": "4fdeea2e",
   "metadata": {},
   "outputs": [],
   "source": [
    "from googletrans import Translator"
   ]
  },
  {
   "cell_type": "code",
   "execution_count": 3,
   "id": "26b1833e",
   "metadata": {},
   "outputs": [],
   "source": [
    "translator = Translator()"
   ]
  },
  {
   "cell_type": "code",
   "execution_count": 4,
   "id": "5f529f6f",
   "metadata": {},
   "outputs": [],
   "source": [
    "sentence_en = \"it was a mistake.\""
   ]
  },
  {
   "cell_type": "code",
   "execution_count": 5,
   "id": "1acab46b",
   "metadata": {},
   "outputs": [],
   "source": [
    "sentence_fra = translator.translate(sentence_en, dest='fr')"
   ]
  },
  {
   "cell_type": "code",
   "execution_count": 6,
   "id": "6a72bb0b",
   "metadata": {},
   "outputs": [
    {
     "name": "stdout",
     "output_type": "stream",
     "text": [
      "번역 전 영어 문장: it was a mistake.\n",
      "번역 후 프랑스어 문장: c'était une erreur.\n"
     ]
    }
   ],
   "source": [
    "print('번역 전 영어 문장: {}'.format(sentence_en))\n",
    "print('번역 후 프랑스어 문장: {}'.format(sentence_fra.text))"
   ]
  },
  {
   "cell_type": "markdown",
   "id": "c2331a4a",
   "metadata": {},
   "source": [
    "## 방법 2. seq2seq를 이용하여 번역기 생성하기"
   ]
  },
  {
   "cell_type": "markdown",
   "id": "56b52682",
   "metadata": {},
   "source": [
    "### 01. 데이터 로드 및 전처리"
   ]
  },
  {
   "cell_type": "markdown",
   "id": "9f7811a4",
   "metadata": {},
   "source": [
    "#### 사용할 라이브러리 추가"
   ]
  },
  {
   "cell_type": "code",
   "execution_count": 7,
   "id": "bc563690",
   "metadata": {},
   "outputs": [],
   "source": [
    "import os\n",
    "import re\n",
    "import shutil\n",
    "import zipfile\n",
    "\n",
    "import numpy as np\n",
    "import pandas as pd\n",
    "import tensorflow as tf\n",
    "import unicodedata\n",
    "import urllib3\n",
    "from tensorflow.keras.layers import Embedding, GRU, Dense\n",
    "from tensorflow.keras.preprocessing.sequence import pad_sequences\n",
    "from tensorflow.keras.preprocessing.text import Tokenizer"
   ]
  },
  {
   "cell_type": "markdown",
   "id": "bc52c2df",
   "metadata": {},
   "source": [
    "#### 압축 파일 다운로드 후 압축 풀기"
   ]
  },
  {
   "cell_type": "code",
   "execution_count": 8,
   "id": "ba92c5a5",
   "metadata": {},
   "outputs": [],
   "source": [
    "http = urllib3.PoolManager()\n",
    "url = 'http://www.manythings.org/anki/fra-eng.zip'\n",
    "filename = 'fra-eng.zip'\n",
    "path = os.getcwd() + \"/data\"\n",
    "zipfilename = os.path.join(path, filename)\n",
    "with http.request('GET', url, preload_content=False) as r, open(zipfilename, 'wb') as out_file:\n",
    "    shutil.copyfileobj(r, out_file)\n",
    "\n",
    "with zipfile.ZipFile(zipfilename, 'r') as zip_ref:\n",
    "    zip_ref.extractall(path)"
   ]
  },
  {
   "cell_type": "markdown",
   "id": "80c50b69",
   "metadata": {},
   "source": [
    "#### 사용할 샘플 정의"
   ]
  },
  {
   "cell_type": "code",
   "execution_count": 9,
   "id": "d1b724c3",
   "metadata": {},
   "outputs": [],
   "source": [
    "num_samples = 80000"
   ]
  },
  {
   "cell_type": "markdown",
   "id": "2b12f074",
   "metadata": {},
   "source": [
    "#### 전처리 함수 정의"
   ]
  },
  {
   "cell_type": "code",
   "execution_count": 10,
   "id": "55a5088e",
   "metadata": {},
   "outputs": [],
   "source": [
    "def to_ascii(s):\n",
    "    # 프랑스어 악센트(accent) 삭제\n",
    "    # 예시 : 'déjà diné' -> deja dine\n",
    "    return ''.join(c for c in unicodedata.normalize('NFD', s)\n",
    "                   if unicodedata.category(c) != 'Mn')"
   ]
  },
  {
   "cell_type": "code",
   "execution_count": 11,
   "id": "df6e003a",
   "metadata": {},
   "outputs": [],
   "source": [
    "def preprocess_sentence(sent):\n",
    "    # 악센트 제거 함수 호출\n",
    "    sent = to_ascii(sent.lower())\n",
    "\n",
    "    # 단어와 구두점 사이에 공백 추가.\n",
    "    # ex) \"I am a student.\" => \"I am a student .\"\n",
    "    sent = re.sub(r\"([?.!,¿])\", r\" \\1\", sent)\n",
    "\n",
    "    # (a-z, A-Z, \".\", \"?\", \"!\", \",\") 이들을 제외하고는 전부 공백으로 변환.\n",
    "    sent = re.sub(r\"[^a-zA-Z!.?]+\", r\" \", sent)\n",
    "\n",
    "    # 다수 개의 공백을 하나의 공백으로 치환\n",
    "    sent = re.sub(r\"\\s+\", \" \", sent)\n",
    "    return sent"
   ]
  },
  {
   "cell_type": "markdown",
   "id": "12bc57f3",
   "metadata": {},
   "source": [
    "#### 전처리 테스트"
   ]
  },
  {
   "cell_type": "code",
   "execution_count": 12,
   "id": "306f73a0",
   "metadata": {},
   "outputs": [
    {
     "name": "stdout",
     "output_type": "stream",
     "text": [
      "전처리 전 영어 문장 : Have you had dinner?\n",
      "전처리 후 영어 문장 : have you had dinner ?\n",
      "전처리 전 프랑스어 문장 : Avez-vous déjà diné?\n",
      "전처리 후 프랑스어 문장 : avez vous deja dine ?\n"
     ]
    }
   ],
   "source": [
    "en_sent = u\"Have you had dinner?\"\n",
    "fr_sent = u\"Avez-vous déjà diné?\"\n",
    "\n",
    "print('전처리 전 영어 문장 :', en_sent)\n",
    "print('전처리 후 영어 문장 :',preprocess_sentence(en_sent))\n",
    "print('전처리 전 프랑스어 문장 :', fr_sent)\n",
    "print('전처리 후 프랑스어 문장 :', preprocess_sentence(fr_sent))"
   ]
  },
  {
   "cell_type": "markdown",
   "id": "8cbb1125",
   "metadata": {},
   "source": [
    "#### 입력 시퀸스, 종료 시퀸스에 토큰 추가"
   ]
  },
  {
   "cell_type": "code",
   "execution_count": 13,
   "id": "1c663c1e",
   "metadata": {},
   "outputs": [],
   "source": [
    "def load_preprocessed_data():\n",
    "    encoder_input, decoder_input, decoder_target = [], [], []\n",
    "\n",
    "    with open(path+\"/fra.txt\", \"r\",encoding='utf-8') as lines:\n",
    "        for i, line in enumerate(lines):\n",
    "            # source 데이터와 target 데이터 분리\n",
    "            src_line, tar_line, _ = line.strip().split('\\t')\n",
    "\n",
    "            # source 데이터 전처리\n",
    "            src_line = [w for w in preprocess_sentence(src_line).split()]\n",
    "\n",
    "            # target 데이터 전처리\n",
    "            tar_line = preprocess_sentence(tar_line)\n",
    "            tar_line_in = [w for w in (\"<sos> \" + tar_line).split()]\n",
    "            tar_line_out = [w for w in (tar_line + \" <eos>\").split()]\n",
    "\n",
    "            encoder_input.append(src_line)\n",
    "            decoder_input.append(tar_line_in)\n",
    "            decoder_target.append(tar_line_out)\n",
    "\n",
    "            if i == num_samples - 1:\n",
    "                break\n",
    "\n",
    "    return encoder_input, decoder_input, decoder_target"
   ]
  },
  {
   "cell_type": "markdown",
   "id": "d3f16282",
   "metadata": {},
   "source": [
    "#### 3개의 데이터셋 인코더의 입력, 디코더의 입력, 디코더의 레이블 상위 5개 샘플만 출력"
   ]
  },
  {
   "cell_type": "code",
   "execution_count": 14,
   "id": "5b5709c7",
   "metadata": {},
   "outputs": [
    {
     "name": "stdout",
     "output_type": "stream",
     "text": [
      "인코더의 입력 : [['go', '.'], ['go', '.'], ['go', '.'], ['hi', '.'], ['hi', '.']]\n",
      "디코더의 입력 : [['<sos>', 'va', '!'], ['<sos>', 'marche', '.'], ['<sos>', 'bouge', '!'], ['<sos>', 'salut', '!'], ['<sos>', 'salut', '.']]\n",
      "디코더의 레이블 : [['va', '!', '<eos>'], ['marche', '.', '<eos>'], ['bouge', '!', '<eos>'], ['salut', '!', '<eos>'], ['salut', '.', '<eos>']]\n"
     ]
    }
   ],
   "source": [
    "sents_en_in, sents_fra_in, sents_fra_out = load_preprocessed_data()\n",
    "print('인코더의 입력 :',sents_en_in[:5])\n",
    "print('디코더의 입력 :',sents_fra_in[:5])\n",
    "print('디코더의 레이블 :',sents_fra_out[:5])"
   ]
  },
  {
   "cell_type": "markdown",
   "id": "fa5c167d",
   "metadata": {},
   "source": [
    "#### 토크나이저를 통해 단어 집합 생성, 정수 인코딩 진행 후 패딩 진행"
   ]
  },
  {
   "cell_type": "code",
   "execution_count": 15,
   "id": "8c82ae63",
   "metadata": {},
   "outputs": [],
   "source": [
    "tokenizer_en = Tokenizer(filters=\"\", lower=False)\n",
    "tokenizer_en.fit_on_texts(sents_en_in)\n",
    "encoder_input = tokenizer_en.texts_to_sequences(sents_en_in)\n",
    "encoder_input = pad_sequences(encoder_input, padding=\"post\")\n",
    "\n",
    "tokenizer_fra = Tokenizer(filters=\"\", lower=False)\n",
    "tokenizer_fra.fit_on_texts(sents_fra_in)\n",
    "tokenizer_fra.fit_on_texts(sents_fra_out)\n",
    "\n",
    "decoder_input = tokenizer_fra.texts_to_sequences(sents_fra_in)\n",
    "decoder_input = pad_sequences(decoder_input, padding=\"post\")\n",
    "\n",
    "decoder_target = tokenizer_fra.texts_to_sequences(sents_fra_out)\n",
    "decoder_target = pad_sequences(decoder_target, padding=\"post\")"
   ]
  },
  {
   "cell_type": "code",
   "execution_count": 16,
   "id": "d4eb5c28",
   "metadata": {},
   "outputs": [
    {
     "name": "stdout",
     "output_type": "stream",
     "text": [
      "인코더의 입력의 크기(shape) : (80000, 9)\n",
      "디코더의 입력의 크기(shape) : (80000, 17)\n",
      "디코더의 레이블의 크기(shape) : (80000, 17)\n"
     ]
    }
   ],
   "source": [
    "print('인코더의 입력의 크기(shape) :',encoder_input.shape)\n",
    "print('디코더의 입력의 크기(shape) :',decoder_input.shape)\n",
    "print('디코더의 레이블의 크기(shape) :',decoder_target.shape)"
   ]
  },
  {
   "cell_type": "code",
   "execution_count": 17,
   "id": "11883acc",
   "metadata": {},
   "outputs": [
    {
     "name": "stdout",
     "output_type": "stream",
     "text": [
      "영어 단어 집합의 크기 : 7767, 프랑스어 단어 집합의 크기 : 13199\n"
     ]
    }
   ],
   "source": [
    "src_vocab_size = len(tokenizer_en.word_index) + 1\n",
    "tar_vocab_size = len(tokenizer_fra.word_index) + 1\n",
    "print(\"영어 단어 집합의 크기 : {:d}, 프랑스어 단어 집합의 크기 : {:d}\".format(src_vocab_size, tar_vocab_size))"
   ]
  },
  {
   "cell_type": "markdown",
   "id": "8bc51e1f",
   "metadata": {},
   "source": [
    "#### 순서가 섞인 정수 시퀀스 리스트 생성"
   ]
  },
  {
   "cell_type": "code",
   "execution_count": 18,
   "id": "442c278a",
   "metadata": {},
   "outputs": [],
   "source": [
    "src_to_index = tokenizer_en.word_index\n",
    "index_to_src = tokenizer_en.index_word\n",
    "tar_to_index = tokenizer_fra.word_index\n",
    "index_to_tar = tokenizer_fra.index_word"
   ]
  },
  {
   "cell_type": "code",
   "execution_count": 19,
   "id": "f4a3073c",
   "metadata": {},
   "outputs": [
    {
     "name": "stdout",
     "output_type": "stream",
     "text": [
      "랜덤 시퀀스 : [ 4165 24669 50297 ... 18584 25527 60925]\n"
     ]
    }
   ],
   "source": [
    "indices = np.arange(encoder_input.shape[0])\n",
    "np.random.shuffle(indices)\n",
    "print('랜덤 시퀀스 :',indices)"
   ]
  },
  {
   "cell_type": "code",
   "execution_count": 20,
   "id": "aa629916",
   "metadata": {},
   "outputs": [],
   "source": [
    "encoder_input = encoder_input[indices]\n",
    "decoder_input = decoder_input[indices]\n",
    "decoder_target = decoder_target[indices]"
   ]
  },
  {
   "cell_type": "markdown",
   "id": "4385a2b7",
   "metadata": {},
   "source": [
    "#### 훈련 데이터 테스트 데이터 분리"
   ]
  },
  {
   "cell_type": "code",
   "execution_count": 21,
   "id": "760a4e7b",
   "metadata": {},
   "outputs": [
    {
     "name": "stdout",
     "output_type": "stream",
     "text": [
      "검증 데이터의 개수 : 8000\n"
     ]
    }
   ],
   "source": [
    "n_of_val = int(num_samples*0.1)\n",
    "print('검증 데이터의 개수 :',n_of_val)"
   ]
  },
  {
   "cell_type": "code",
   "execution_count": 22,
   "id": "ba94da48",
   "metadata": {},
   "outputs": [],
   "source": [
    "encoder_input_train = encoder_input[:-n_of_val]\n",
    "decoder_input_train = decoder_input[:-n_of_val]\n",
    "decoder_target_train = decoder_target[:-n_of_val]\n",
    "\n",
    "encoder_input_test = encoder_input[-n_of_val:]\n",
    "decoder_input_test = decoder_input[-n_of_val:]\n",
    "decoder_target_test = decoder_target[-n_of_val:]"
   ]
  },
  {
   "cell_type": "code",
   "execution_count": 23,
   "id": "6a134a4d",
   "metadata": {},
   "outputs": [
    {
     "name": "stdout",
     "output_type": "stream",
     "text": [
      "훈련 source 데이터의 크기 : (72000, 9)\n",
      "훈련 target 데이터의 크기 : (72000, 17)\n",
      "훈련 target 레이블의 크기 : (72000, 17)\n",
      "테스트 source 데이터의 크기 : (8000, 9)\n",
      "테스트 target 데이터의 크기 : (8000, 17)\n",
      "테스트 target 레이블의 크기 : (8000, 17)\n"
     ]
    }
   ],
   "source": [
    "print('훈련 source 데이터의 크기 :',encoder_input_train.shape)\n",
    "print('훈련 target 데이터의 크기 :',decoder_input_train.shape)\n",
    "print('훈련 target 레이블의 크기 :',decoder_target_train.shape)\n",
    "print('테스트 source 데이터의 크기 :',encoder_input_test.shape)\n",
    "print('테스트 target 데이터의 크기 :',decoder_input_test.shape)\n",
    "print('테스트 target 레이블의 크기 :',decoder_target_test.shape)"
   ]
  },
  {
   "cell_type": "markdown",
   "id": "00a8ae66",
   "metadata": {},
   "source": [
    "### 02. 기계 번역기 만들기"
   ]
  },
  {
   "cell_type": "code",
   "execution_count": 24,
   "id": "55045de7",
   "metadata": {},
   "outputs": [],
   "source": [
    "from tensorflow.keras.layers import Input, LSTM, Embedding, Dense, Masking\n",
    "from tensorflow.keras.models import Model"
   ]
  },
  {
   "cell_type": "markdown",
   "id": "f3c8a3bf",
   "metadata": {},
   "source": [
    "#### 임베딩 벡터의 차원과 LSTM의 은닉 상태의 크기 정의"
   ]
  },
  {
   "cell_type": "code",
   "execution_count": 25,
   "id": "51aa29e4",
   "metadata": {},
   "outputs": [],
   "source": [
    "embedding_dim = 64\n",
    "hidden_units = 64"
   ]
  },
  {
   "cell_type": "markdown",
   "id": "66236131",
   "metadata": {},
   "source": [
    "#### 인코더 설계"
   ]
  },
  {
   "cell_type": "code",
   "execution_count": 26,
   "id": "9fdc7ee0",
   "metadata": {},
   "outputs": [],
   "source": [
    "encoder_inputs = Input(shape=(None,))\n",
    "enc_emb = Embedding(src_vocab_size, embedding_dim)(encoder_inputs) # 임베딩 층\n",
    "enc_masking = Masking(mask_value=0.0)(enc_emb) # 패딩 0은 연산에서 제외\n",
    "encoder_lstm = LSTM(hidden_units, return_state=True) # 상태값 리턴을 위해 return_state는 True\n",
    "encoder_outputs, state_h, state_c = encoder_lstm(enc_masking) # 은닉 상태와 셀 상태를 리턴\n",
    "encoder_states = [state_h, state_c] # 인코더의 은닉 상태와 셀 상태를 저장"
   ]
  },
  {
   "cell_type": "markdown",
   "id": "15d31f3c",
   "metadata": {},
   "source": [
    "#### 디코더 설계"
   ]
  },
  {
   "cell_type": "code",
   "execution_count": 27,
   "id": "4e1c1e46",
   "metadata": {},
   "outputs": [],
   "source": [
    "decoder_inputs = Input(shape=(None,))\n",
    "dec_emb_layer = Embedding(tar_vocab_size, hidden_units) # 임베딩 층\n",
    "dec_emb = dec_emb_layer(decoder_inputs) # 패딩 0은 연산에서 제외\n",
    "dec_masking = Masking(mask_value=0.0)(dec_emb)\n",
    "\n",
    "# 상태값 리턴을 위해 return_state는 True, 모든 시점에 대해서 단어를 예측하기 위해 return_sequences는 True\n",
    "decoder_lstm = LSTM(hidden_units, return_sequences=True, return_state=True) \n",
    "\n",
    "# 인코더의 은닉 상태를 초기 은닉 상태(initial_state)로 사용\n",
    "decoder_outputs, _, _ = decoder_lstm(dec_masking,\n",
    "                                     initial_state=encoder_states)\n",
    "\n",
    "# 모든 시점의 결과에 대해서 소프트맥스 함수를 사용한 출력층을 통해 단어 예측\n",
    "decoder_dense = Dense(tar_vocab_size, activation='softmax')\n",
    "decoder_outputs = decoder_dense(decoder_outputs)"
   ]
  },
  {
   "cell_type": "markdown",
   "id": "20f629e4",
   "metadata": {},
   "source": [
    "#### 모델의 입력과 출력 정의"
   ]
  },
  {
   "cell_type": "code",
   "execution_count": 28,
   "id": "fdf3c8ed",
   "metadata": {},
   "outputs": [],
   "source": [
    "model = Model([encoder_inputs, decoder_inputs], decoder_outputs)\n",
    "model.compile(optimizer='adam', loss='sparse_categorical_crossentropy', metrics=['acc'])"
   ]
  },
  {
   "cell_type": "markdown",
   "id": "92254be4",
   "metadata": {},
   "source": [
    "#### 모델 훈련"
   ]
  },
  {
   "cell_type": "code",
   "execution_count": 29,
   "id": "d1e970ef",
   "metadata": {},
   "outputs": [
    {
     "name": "stdout",
     "output_type": "stream",
     "text": [
      "Epoch 1/50\n",
      "563/563 [==============================] - 270s 458ms/step - loss: 2.7886 - acc: 0.6263 - val_loss: 1.9188 - val_acc: 0.7069\n",
      "Epoch 2/50\n",
      "563/563 [==============================] - 263s 467ms/step - loss: 1.7740 - acc: 0.7226 - val_loss: 1.6647 - val_acc: 0.7312\n",
      "Epoch 3/50\n",
      "563/563 [==============================] - 259s 460ms/step - loss: 1.5790 - acc: 0.7426 - val_loss: 1.4943 - val_acc: 0.7648\n",
      "Epoch 4/50\n",
      "563/563 [==============================] - 253s 449ms/step - loss: 1.4076 - acc: 0.7709 - val_loss: 1.3562 - val_acc: 0.7795\n",
      "Epoch 5/50\n",
      "563/563 [==============================] - 254s 451ms/step - loss: 1.2800 - acc: 0.7876 - val_loss: 1.2538 - val_acc: 0.7949\n",
      "Epoch 6/50\n",
      "563/563 [==============================] - 253s 449ms/step - loss: 1.1788 - acc: 0.8010 - val_loss: 1.1786 - val_acc: 0.8043\n",
      "Epoch 7/50\n",
      "563/563 [==============================] - 254s 451ms/step - loss: 1.0971 - acc: 0.8108 - val_loss: 1.1157 - val_acc: 0.8113\n",
      "Epoch 8/50\n",
      "563/563 [==============================] - 252s 448ms/step - loss: 1.0269 - acc: 0.8183 - val_loss: 1.0647 - val_acc: 0.8175\n",
      "Epoch 9/50\n",
      "563/563 [==============================] - 258s 458ms/step - loss: 0.9646 - acc: 0.8251 - val_loss: 1.0174 - val_acc: 0.8230\n",
      "Epoch 10/50\n",
      "563/563 [==============================] - 255s 453ms/step - loss: 0.9076 - acc: 0.8316 - val_loss: 0.9761 - val_acc: 0.8280\n",
      "Epoch 11/50\n",
      "563/563 [==============================] - 255s 454ms/step - loss: 0.8565 - acc: 0.8375 - val_loss: 0.9428 - val_acc: 0.8311\n",
      "Epoch 12/50\n",
      "563/563 [==============================] - 257s 457ms/step - loss: 0.8098 - acc: 0.8429 - val_loss: 0.9114 - val_acc: 0.8348\n",
      "Epoch 13/50\n",
      "563/563 [==============================] - 255s 453ms/step - loss: 0.7672 - acc: 0.8480 - val_loss: 0.8815 - val_acc: 0.8395\n",
      "Epoch 14/50\n",
      "563/563 [==============================] - 263s 466ms/step - loss: 0.7276 - acc: 0.8530 - val_loss: 0.8592 - val_acc: 0.8424\n",
      "Epoch 15/50\n",
      "563/563 [==============================] - 257s 457ms/step - loss: 0.6918 - acc: 0.8576 - val_loss: 0.8375 - val_acc: 0.8453\n",
      "Epoch 16/50\n",
      "563/563 [==============================] - 282s 500ms/step - loss: 0.6583 - acc: 0.8621 - val_loss: 0.8184 - val_acc: 0.8476\n",
      "Epoch 17/50\n",
      "563/563 [==============================] - 259s 460ms/step - loss: 0.6276 - acc: 0.8665 - val_loss: 0.8029 - val_acc: 0.8500\n",
      "Epoch 18/50\n",
      "563/563 [==============================] - 266s 473ms/step - loss: 0.5992 - acc: 0.8705 - val_loss: 0.7874 - val_acc: 0.8521\n",
      "Epoch 19/50\n",
      "563/563 [==============================] - 282s 500ms/step - loss: 0.5728 - acc: 0.8748 - val_loss: 0.7735 - val_acc: 0.8549\n",
      "Epoch 20/50\n",
      "563/563 [==============================] - 263s 467ms/step - loss: 0.5483 - acc: 0.8784 - val_loss: 0.7630 - val_acc: 0.8565\n",
      "Epoch 21/50\n",
      "563/563 [==============================] - 264s 469ms/step - loss: 0.5259 - acc: 0.8820 - val_loss: 0.7515 - val_acc: 0.8578\n",
      "Epoch 22/50\n",
      "563/563 [==============================] - 262s 466ms/step - loss: 0.5049 - acc: 0.8855 - val_loss: 0.7427 - val_acc: 0.8597\n",
      "Epoch 23/50\n",
      "563/563 [==============================] - 268s 477ms/step - loss: 0.4853 - acc: 0.8887 - val_loss: 0.7351 - val_acc: 0.8611\n",
      "Epoch 24/50\n",
      "563/563 [==============================] - 266s 472ms/step - loss: 0.4675 - acc: 0.8918 - val_loss: 0.7273 - val_acc: 0.8626\n",
      "Epoch 25/50\n",
      "563/563 [==============================] - 264s 468ms/step - loss: 0.4504 - acc: 0.8950 - val_loss: 0.7209 - val_acc: 0.8639\n",
      "Epoch 26/50\n",
      "563/563 [==============================] - 267s 475ms/step - loss: 0.4347 - acc: 0.8978 - val_loss: 0.7159 - val_acc: 0.8648\n",
      "Epoch 27/50\n",
      "563/563 [==============================] - 266s 472ms/step - loss: 0.4200 - acc: 0.9004 - val_loss: 0.7103 - val_acc: 0.8657\n",
      "Epoch 28/50\n",
      "563/563 [==============================] - 264s 469ms/step - loss: 0.4062 - acc: 0.9031 - val_loss: 0.7058 - val_acc: 0.8661\n",
      "Epoch 29/50\n",
      "563/563 [==============================] - 264s 469ms/step - loss: 0.3937 - acc: 0.9054 - val_loss: 0.7025 - val_acc: 0.8679\n",
      "Epoch 30/50\n",
      "563/563 [==============================] - 269s 477ms/step - loss: 0.3817 - acc: 0.9076 - val_loss: 0.6993 - val_acc: 0.8680\n",
      "Epoch 31/50\n",
      "563/563 [==============================] - 266s 472ms/step - loss: 0.3705 - acc: 0.9098 - val_loss: 0.6960 - val_acc: 0.8692\n",
      "Epoch 32/50\n",
      "563/563 [==============================] - 260s 462ms/step - loss: 0.3599 - acc: 0.9120 - val_loss: 0.6944 - val_acc: 0.8700\n",
      "Epoch 33/50\n",
      "563/563 [==============================] - 267s 474ms/step - loss: 0.3501 - acc: 0.9139 - val_loss: 0.6927 - val_acc: 0.8699\n",
      "Epoch 34/50\n",
      "563/563 [==============================] - 266s 472ms/step - loss: 0.3408 - acc: 0.9157 - val_loss: 0.6900 - val_acc: 0.8712\n",
      "Epoch 35/50\n",
      "563/563 [==============================] - 264s 469ms/step - loss: 0.3323 - acc: 0.9173 - val_loss: 0.6904 - val_acc: 0.8709\n",
      "Epoch 36/50\n",
      "563/563 [==============================] - 263s 468ms/step - loss: 0.3239 - acc: 0.9188 - val_loss: 0.6882 - val_acc: 0.8716\n",
      "Epoch 37/50\n",
      "563/563 [==============================] - 267s 475ms/step - loss: 0.3162 - acc: 0.9205 - val_loss: 0.6868 - val_acc: 0.8719\n",
      "Epoch 38/50\n",
      "563/563 [==============================] - 260s 462ms/step - loss: 0.3087 - acc: 0.9220 - val_loss: 0.6871 - val_acc: 0.8730\n",
      "Epoch 39/50\n",
      "563/563 [==============================] - 264s 468ms/step - loss: 0.3020 - acc: 0.9231 - val_loss: 0.6884 - val_acc: 0.8728\n",
      "Epoch 40/50\n",
      "563/563 [==============================] - 268s 477ms/step - loss: 0.2956 - acc: 0.9244 - val_loss: 0.6868 - val_acc: 0.8735\n",
      "Epoch 41/50\n",
      "563/563 [==============================] - 267s 474ms/step - loss: 0.2891 - acc: 0.9256 - val_loss: 0.6873 - val_acc: 0.8734\n",
      "Epoch 42/50\n",
      "563/563 [==============================] - 265s 471ms/step - loss: 0.2834 - acc: 0.9267 - val_loss: 0.6873 - val_acc: 0.8738\n",
      "Epoch 43/50\n",
      "563/563 [==============================] - 267s 474ms/step - loss: 0.2777 - acc: 0.9279 - val_loss: 0.6876 - val_acc: 0.8736\n",
      "Epoch 44/50\n",
      "563/563 [==============================] - 267s 475ms/step - loss: 0.2724 - acc: 0.9288 - val_loss: 0.6892 - val_acc: 0.8742\n",
      "Epoch 45/50\n",
      "563/563 [==============================] - 265s 471ms/step - loss: 0.2673 - acc: 0.9298 - val_loss: 0.6902 - val_acc: 0.8740\n",
      "Epoch 46/50\n",
      "563/563 [==============================] - 264s 470ms/step - loss: 0.2623 - acc: 0.9308 - val_loss: 0.6906 - val_acc: 0.8742\n",
      "Epoch 47/50\n",
      "563/563 [==============================] - 268s 476ms/step - loss: 0.2577 - acc: 0.9317 - val_loss: 0.6909 - val_acc: 0.8744\n",
      "Epoch 48/50\n",
      "563/563 [==============================] - 265s 471ms/step - loss: 0.2533 - acc: 0.9326 - val_loss: 0.6922 - val_acc: 0.8744\n",
      "Epoch 49/50\n",
      "563/563 [==============================] - 264s 470ms/step - loss: 0.2492 - acc: 0.9334 - val_loss: 0.6970 - val_acc: 0.8736\n",
      "Epoch 50/50\n",
      "563/563 [==============================] - 268s 477ms/step - loss: 0.2450 - acc: 0.9344 - val_loss: 0.6959 - val_acc: 0.8745\n"
     ]
    }
   ],
   "source": [
    "translator_seq2seq = model.fit(x=[encoder_input_train, decoder_input_train], y=decoder_target_train,\n",
    "                       validation_data=([encoder_input_test, decoder_input_test], decoder_target_test),\n",
    "                       batch_size=128, epochs=50)"
   ]
  },
  {
   "cell_type": "markdown",
   "id": "28f42311",
   "metadata": {},
   "source": [
    "#### 모델 정확도"
   ]
  },
  {
   "cell_type": "code",
   "execution_count": 30,
   "id": "3a06cf03",
   "metadata": {},
   "outputs": [],
   "source": [
    "import matplotlib.pyplot as plt"
   ]
  },
  {
   "cell_type": "code",
   "execution_count": 32,
   "id": "4d7a8148",
   "metadata": {},
   "outputs": [
    {
     "data": {
      "image/png": "[encoded data removed]",
      "text/plain": [
       "<Figure size 432x288 with 1 Axes>"
      ]
     },
     "metadata": {
      "needs_background": "light"
     },
     "output_type": "display_data"
    }
   ],
   "source": [
    "plt.plot(translator_seq2seq.history['acc'])\n",
    "plt.plot(translator_seq2seq.history['val_acc'])\n",
    "plt.title('model accuracy')\n",
    "plt.ylabel('accuracy')\n",
    "plt.xlabel('epoch')\n",
    "plt.legend(['train', 'test'], loc='upper left')\n",
    "plt.show()"
   ]
  },
  {
   "cell_type": "code",
   "execution_count": 33,
   "id": "6f5c35cb",
   "metadata": {},
   "outputs": [
    {
     "data": {
      "image/png": "[encoded data removed]",
      "text/plain": [
       "<Figure size 432x288 with 1 Axes>"
      ]
     },
     "metadata": {
      "needs_background": "light"
     },
     "output_type": "display_data"
    }
   ],
   "source": [
    "plt.plot(translator_seq2seq.history['loss'])\n",
    "plt.plot(translator_seq2seq.history['val_loss'])\n",
    "plt.title('model loss')\n",
    "plt.ylabel('loss')\n",
    "plt.xlabel('epoch')\n",
    "plt.legend(['train', 'test'], loc='upper left')\n",
    "plt.show()"
   ]
  },
  {
   "cell_type": "markdown",
   "id": "1f98e0f8",
   "metadata": {},
   "source": [
    "### 03. 기계 번역기 사용하기"
   ]
  },
  {
   "cell_type": "markdown",
   "id": "de76ba07",
   "metadata": {},
   "source": [
    "#### 인코더"
   ]
  },
  {
   "cell_type": "code",
   "execution_count": 34,
   "id": "fe0218bf",
   "metadata": {},
   "outputs": [],
   "source": [
    "encoder_model = Model(encoder_inputs, encoder_states)"
   ]
  },
  {
   "cell_type": "markdown",
   "id": "d940e8ad",
   "metadata": {},
   "source": [
    "#### 디코더"
   ]
  },
  {
   "cell_type": "code",
   "execution_count": 35,
   "id": "be7496a8",
   "metadata": {},
   "outputs": [],
   "source": [
    "# 이전 시점의 상태를 보관할 텐서\n",
    "decoder_state_input_h = Input(shape=(hidden_units,))\n",
    "decoder_state_input_c = Input(shape=(hidden_units,))\n",
    "decoder_states_inputs = [decoder_state_input_h, decoder_state_input_c]"
   ]
  },
  {
   "cell_type": "code",
   "execution_count": 36,
   "id": "4ef10f20",
   "metadata": {},
   "outputs": [],
   "source": [
    "# 훈련 때 사용했던 임베딩 층을 재사용\n",
    "dec_emb2 = dec_emb_layer(decoder_inputs)"
   ]
  },
  {
   "cell_type": "code",
   "execution_count": 37,
   "id": "a7610fa7",
   "metadata": {},
   "outputs": [],
   "source": [
    "# 다음 단어 예측을 위해 이전 시점의 상태를 현 시점의 초기 상태로 사용\n",
    "decoder_outputs2, state_h2, state_c2 = decoder_lstm(dec_emb2, initial_state=decoder_states_inputs)\n",
    "decoder_states2 = [state_h2, state_c2]"
   ]
  },
  {
   "cell_type": "code",
   "execution_count": 38,
   "id": "465592ba",
   "metadata": {},
   "outputs": [],
   "source": [
    "# 모든 시점에 대해서 단어 예측\n",
    "decoder_outputs2 = decoder_dense(decoder_outputs2)"
   ]
  },
  {
   "cell_type": "code",
   "execution_count": 39,
   "id": "7ea66d00",
   "metadata": {},
   "outputs": [],
   "source": [
    "# 수정된 디코더\n",
    "decoder_model = Model(\n",
    "    [decoder_inputs] + decoder_states_inputs,\n",
    "    [decoder_outputs2] + decoder_states2)"
   ]
  },
  {
   "cell_type": "markdown",
   "id": "b0cebc99",
   "metadata": {},
   "source": [
    "#### 문장이 인코더 ~ 디코더를 거치는 과정을 함수로 정의"
   ]
  },
  {
   "cell_type": "code",
   "execution_count": 41,
   "id": "1346cf1a",
   "metadata": {},
   "outputs": [],
   "source": [
    "def decode_sequence(input_seq):\n",
    "    # 입력으로부터 인코더의 마지막 시점의 상태(은닉 상태, 셀 상태)를 얻음\n",
    "    states_value = encoder_model.predict(input_seq)\n",
    "\n",
    "    # <SOS>에 해당하는 정수 생성\n",
    "    target_seq = np.zeros((1,1))\n",
    "    target_seq[0, 0] = tar_to_index['<sos>']\n",
    "\n",
    "    stop_condition = False\n",
    "    decoded_sentence = ''\n",
    "\n",
    "    # stop_condition이 True가 될 때까지 루프 반복\n",
    "    # 구현의 간소화를 위해서 이 함수는 배치 크기를 1로 가정합니다.\n",
    "    while not stop_condition:\n",
    "        # 이점 시점의 상태 states_value를 현 시점의 초기 상태로 사용\n",
    "        output_tokens, h, c = decoder_model.predict([target_seq] + states_value)\n",
    "\n",
    "        # 예측 결과를 단어로 변환\n",
    "        sampled_token_index = np.argmax(output_tokens[0, -1, :])\n",
    "        sampled_char = index_to_tar[sampled_token_index]\n",
    "\n",
    "        # 현재 시점의 예측 단어를 예측 문장에 추가\n",
    "        decoded_sentence += ' '+sampled_char\n",
    "\n",
    "        # <eos>에 도달하거나 정해진 길이를 넘으면 중단.\n",
    "        if (sampled_char == '<eos>' or\n",
    "            len(decoded_sentence) > 50):\n",
    "            stop_condition = True\n",
    "\n",
    "        # 현재 시점의 예측 결과를 다음 시점의 입력으로 사용하기 위해 저장\n",
    "        target_seq = np.zeros((1,1))\n",
    "        target_seq[0, 0] = sampled_token_index\n",
    "\n",
    "        # 현재 시점의 상태를 다음 시점의 상태로 사용하기 위해 저장\n",
    "        states_value = [h, c]\n",
    "\n",
    "    return decoded_sentence"
   ]
  },
  {
   "cell_type": "markdown",
   "id": "62b678d6",
   "metadata": {},
   "source": [
    "#### 정수 시퀀스를 텍스트 시퀀스로 변환하는 함수 정의"
   ]
  },
  {
   "cell_type": "code",
   "execution_count": 43,
   "id": "e32d4a8e",
   "metadata": {},
   "outputs": [],
   "source": [
    "# 원문의 정수 시퀀스를 텍스트 시퀀스로 변환\n",
    "def seq_to_src(input_seq):\n",
    "    sentence = ''\n",
    "    for encoded_word in input_seq:\n",
    "        if(encoded_word != 0):\n",
    "            sentence = sentence + index_to_src[encoded_word] + ' '\n",
    "    return sentence"
   ]
  },
  {
   "cell_type": "code",
   "execution_count": 44,
   "id": "046823e8",
   "metadata": {},
   "outputs": [],
   "source": [
    "# 번역문의 정수 시퀀스를 텍스트 시퀀스로 변환\n",
    "def seq_to_tar(input_seq):\n",
    "    sentence = ''\n",
    "    for encoded_word in input_seq:\n",
    "        if(encoded_word != 0 and encoded_word != tar_to_index['<sos>'] and encoded_word != tar_to_index['<eos>']):\n",
    "            sentence = sentence + index_to_tar[encoded_word] + ' '\n",
    "    return sentence"
   ]
  },
  {
   "cell_type": "markdown",
   "id": "835d63a3",
   "metadata": {},
   "source": [
    "#### 임의로 선택한 인덱스의 샘플 결과 출력"
   ]
  },
  {
   "cell_type": "code",
   "execution_count": 45,
   "id": "24de473f",
   "metadata": {},
   "outputs": [
    {
     "name": "stdout",
     "output_type": "stream",
     "text": [
      "1/1 [==============================] - 2s 2s/step\n",
      "1/1 [==============================] - 1s 531ms/step\n",
      "1/1 [==============================] - 0s 37ms/step\n",
      "1/1 [==============================] - 0s 18ms/step\n",
      "1/1 [==============================] - 0s 19ms/step\n",
      "1/1 [==============================] - 0s 21ms/step\n",
      "1/1 [==============================] - 0s 21ms/step\n"
     ]
    }
   ],
   "source": [
    "# 훈련데이터에서 선택한 경우\n",
    "seq_index = 300\n",
    "input_seq = encoder_input_train[seq_index: seq_index + 1]\n",
    "decoded_sentence = decode_sequence(input_seq)"
   ]
  },
  {
   "cell_type": "code",
   "execution_count": 52,
   "id": "ba0e5ed4",
   "metadata": {},
   "outputs": [
    {
     "name": "stdout",
     "output_type": "stream",
     "text": [
      "입력문장 : tom kissed his cousin . \n",
      "정답문장 : tom embrassa sa cousine . \n",
      "번역문장 : vous n etes pas grosse . \n"
     ]
    }
   ],
   "source": [
    "print(\"입력문장 :\",seq_to_src(encoder_input_train[seq_index]))\n",
    "print(\"정답문장 :\",seq_to_tar(decoder_input_train[seq_index]))\n",
    "print(\"번역문장 :\",decoded_sentence[1:-5])"
   ]
  },
  {
   "cell_type": "code",
   "execution_count": 49,
   "id": "bdba0d7e",
   "metadata": {},
   "outputs": [
    {
     "name": "stdout",
     "output_type": "stream",
     "text": [
      "1/1 [==============================] - 0s 18ms/step\n",
      "1/1 [==============================] - 0s 20ms/step\n",
      "1/1 [==============================] - 0s 22ms/step\n",
      "1/1 [==============================] - 0s 18ms/step\n",
      "1/1 [==============================] - 0s 20ms/step\n",
      "1/1 [==============================] - 0s 19ms/step\n",
      "1/1 [==============================] - 0s 17ms/step\n",
      "1/1 [==============================] - 0s 18ms/step\n"
     ]
    }
   ],
   "source": [
    "# 테스트 데이터에서 선택한 경우\n",
    "seq_index = 300\n",
    "input_seq = encoder_input_test[seq_index: seq_index + 1]\n",
    "decoded_sentence = decode_sequence(input_seq)"
   ]
  },
  {
   "cell_type": "code",
   "execution_count": 51,
   "id": "610abd4f",
   "metadata": {},
   "outputs": [
    {
     "name": "stdout",
     "output_type": "stream",
     "text": [
      "입력문장 : you re not fat . \n",
      "정답문장 : vous n etes pas gros . \n",
      "번역문장 : vous n etes pas grosse . \n"
     ]
    }
   ],
   "source": [
    "print(\"입력문장 :\",seq_to_src(encoder_input_test[seq_index]))\n",
    "print(\"정답문장 :\",seq_to_tar(decoder_input_test[seq_index]))\n",
    "print(\"번역문장 :\",decoded_sentence[1:-5])"
   ]
  },
  {
   "cell_type": "markdown",
   "id": "ffd44601",
   "metadata": {},
   "source": [
    "## 방법 1과 방법 2 비교하기"
   ]
  },
  {
   "cell_type": "code",
   "execution_count": 53,
   "id": "6dc969d6",
   "metadata": {},
   "outputs": [
    {
     "name": "stdout",
     "output_type": "stream",
     "text": [
      "you re not fat .이라는 문장을 방법 1로 번역하면 tu n'es pas gros.가 되고 방법 2로 번역하면 vous n etes pas grosse . 이다.\n"
     ]
    }
   ],
   "source": [
    "sentence_en = \"you re not fat .\"\n",
    "sentence_fra = translator.translate(sentence_en, dest='fr')\n",
    "print(sentence_en + '이라는 문장을 방법 1로 번역하면 {}'.format(sentence_fra.text) + \n",
    "      '가 되고 방법 2로 번역하면 {}'.format(decoded_sentence[1:-5]) + '이다.')"
   ]
  },
  {
   "cell_type": "code",
   "execution_count": 54,
   "id": "5a441f86",
   "metadata": {},
   "outputs": [],
   "source": [
    "from IPython.display import Image"
   ]
  },
  {
   "cell_type": "code",
   "execution_count": 59,
   "id": "b708a697",
   "metadata": {},
   "outputs": [
    {
     "data": {
      "image/png": "[encoded data removed]",
      "text/plain": [
       "<IPython.core.display.Image object>"
      ]
     },
     "execution_count": 59,
     "metadata": {
      "image/png": {
       "height": 400,
       "width": 600
      }
     },
     "output_type": "execute_result"
    }
   ],
   "source": [
    "Image('./image/001.png', width = 600, height = 400)"
   ]
  },
  {
   "cell_type": "code",
   "execution_count": 60,
   "id": "4915a1a4",
   "metadata": {},
   "outputs": [
    {
     "data": {
      "image/png": "[encoded data removed]",
      "text/plain": [
       "<IPython.core.display.Image object>"
      ]
     },
     "execution_count": 60,
     "metadata": {
      "image/png": {
       "height": 400,
       "width": 600
      }
     },
     "output_type": "execute_result"
    }
   ],
   "source": [
    "Image('./image/002.png', width = 600, height = 400)"
   ]
  }
 ],
 "metadata": {
  "kernelspec": {
   "display_name": "Python 3 (ipykernel)",
   "language": "python",
   "name": "python3"
  },
  "language_info": {
   "codemirror_mode": {
    "name": "ipython",
    "version": 3
   },
   "file_extension": ".py",
   "mimetype": "text/x-python",
   "name": "python",
   "nbconvert_exporter": "python",
   "pygments_lexer": "ipython3",
   "version": "3.7.13"
  }
 },
 "nbformat": 4,
 "nbformat_minor": 5
}
