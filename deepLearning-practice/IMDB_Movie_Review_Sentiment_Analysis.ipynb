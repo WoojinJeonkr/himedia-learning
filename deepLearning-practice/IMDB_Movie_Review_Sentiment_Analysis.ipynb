{
 "cells": [
  {
   "cell_type": "markdown",
   "id": "a2703ba5",
   "metadata": {},
   "source": [
    "# IMDB 리뷰 데이터에 대한 이해"
   ]
  },
  {
   "cell_type": "code",
   "execution_count": 1,
   "id": "70eb3d6b",
   "metadata": {},
   "outputs": [],
   "source": [
    "import numpy as np\n",
    "import matplotlib.pyplot as plt\n",
    "from tensorflow.keras.datasets import imdb"
   ]
  },
  {
   "cell_type": "code",
   "execution_count": 2,
   "id": "5344afad",
   "metadata": {},
   "outputs": [],
   "source": [
    "(X_train, y_train), (X_test, y_test) = imdb.load_data()\n",
    "num_classes = len(set(y_train))"
   ]
  },
  {
   "cell_type": "code",
   "execution_count": 3,
   "id": "e631ec48",
   "metadata": {},
   "outputs": [
    {
     "name": "stdout",
     "output_type": "stream",
     "text": [
      "훈련용 리뷰 개수 : 25000\n",
      "테스트용 리뷰 개수 : 25000\n",
      "카테고리 : 2\n"
     ]
    }
   ],
   "source": [
    "print('훈련용 리뷰 개수 : {}'.format(len(X_train)))\n",
    "print('테스트용 리뷰 개수 : {}'.format(len(X_test)))\n",
    "print('카테고리 : {}'.format(num_classes))"
   ]
  },
  {
   "cell_type": "code",
   "execution_count": 4,
   "id": "ca107e45",
   "metadata": {},
   "outputs": [
    {
     "name": "stdout",
     "output_type": "stream",
     "text": [
      "첫번째 훈련용 리뷰 : [1, 14, 22, 16, 43, 530, 973, 1622, 1385, 65, 458, 4468, 66, 3941, 4, 173, 36, 256, 5, 25, 100, 43, 838, 112, 50, 670, 22665, 9, 35, 480, 284, 5, 150, 4, 172, 112, 167, 21631, 336, 385, 39, 4, 172, 4536, 1111, 17, 546, 38, 13, 447, 4, 192, 50, 16, 6, 147, 2025, 19, 14, 22, 4, 1920, 4613, 469, 4, 22, 71, 87, 12, 16, 43, 530, 38, 76, 15, 13, 1247, 4, 22, 17, 515, 17, 12, 16, 626, 18, 19193, 5, 62, 386, 12, 8, 316, 8, 106, 5, 4, 2223, 5244, 16, 480, 66, 3785, 33, 4, 130, 12, 16, 38, 619, 5, 25, 124, 51, 36, 135, 48, 25, 1415, 33, 6, 22, 12, 215, 28, 77, 52, 5, 14, 407, 16, 82, 10311, 8, 4, 107, 117, 5952, 15, 256, 4, 31050, 7, 3766, 5, 723, 36, 71, 43, 530, 476, 26, 400, 317, 46, 7, 4, 12118, 1029, 13, 104, 88, 4, 381, 15, 297, 98, 32, 2071, 56, 26, 141, 6, 194, 7486, 18, 4, 226, 22, 21, 134, 476, 26, 480, 5, 144, 30, 5535, 18, 51, 36, 28, 224, 92, 25, 104, 4, 226, 65, 16, 38, 1334, 88, 12, 16, 283, 5, 16, 4472, 113, 103, 32, 15, 16, 5345, 19, 178, 32]\n",
      "첫번째 훈련용 리뷰의 레이블 : 1\n"
     ]
    }
   ],
   "source": [
    "print('첫번째 훈련용 리뷰 :',X_train[0])\n",
    "print('첫번째 훈련용 리뷰의 레이블 :',y_train[0])"
   ]
  },
  {
   "cell_type": "code",
   "execution_count": 5,
   "id": "f1206bf2",
   "metadata": {},
   "outputs": [
    {
     "data": {
      "text/plain": [
       "[218, 189, 141]"
      ]
     },
     "execution_count": 5,
     "metadata": {},
     "output_type": "execute_result"
    }
   ],
   "source": [
    "reviews_length = [len(review) for review in X_train]\n",
    "reviews_length[:3]"
   ]
  },
  {
   "cell_type": "code",
   "execution_count": 6,
   "id": "cad510c9",
   "metadata": {},
   "outputs": [
    {
     "name": "stdout",
     "output_type": "stream",
     "text": [
      "리뷰의 최대 길이 : 2494\n",
      "리뷰의 평균 길이 : 238.71364\n"
     ]
    }
   ],
   "source": [
    "print('리뷰의 최대 길이 : {}'.format(np.max(reviews_length)))\n",
    "print('리뷰의 평균 길이 : {}'.format(np.mean(reviews_length)))"
   ]
  },
  {
   "cell_type": "code",
   "execution_count": 7,
   "id": "b16fcc00",
   "metadata": {},
   "outputs": [
    {
     "data": {
      "image/png": "[encoded data removed]",
      "text/plain": [
       "<Figure size 432x288 with 1 Axes>"
      ]
     },
     "metadata": {
      "needs_background": "light"
     },
     "output_type": "display_data"
    }
   ],
   "source": [
    "plt.subplot(1,2,1)\n",
    "plt.boxplot(reviews_length)\n",
    "plt.show()"
   ]
  },
  {
   "cell_type": "code",
   "execution_count": 8,
   "id": "4fc649ee",
   "metadata": {},
   "outputs": [],
   "source": [
    "unique_elements, counts_elements = np.unique(y_train, return_counts=True)"
   ]
  },
  {
   "cell_type": "code",
   "execution_count": 9,
   "id": "412caa35",
   "metadata": {},
   "outputs": [
    {
     "name": "stdout",
     "output_type": "stream",
     "text": [
      "각 레이블에 대한 빈도수:\n",
      "[[    0     1]\n",
      " [12500 12500]]\n"
     ]
    }
   ],
   "source": [
    "print(\"각 레이블에 대한 빈도수:\")\n",
    "print(np.asarray((unique_elements, counts_elements)))"
   ]
  },
  {
   "cell_type": "code",
   "execution_count": 10,
   "id": "626f14d7",
   "metadata": {},
   "outputs": [],
   "source": [
    "word_to_index = imdb.get_word_index()\n",
    "index_to_word = {}\n",
    "for key, value in word_to_index.items():\n",
    "    index_to_word[value+3] = key"
   ]
  },
  {
   "cell_type": "code",
   "execution_count": 11,
   "id": "ec1e0c48",
   "metadata": {},
   "outputs": [
    {
     "name": "stdout",
     "output_type": "stream",
     "text": [
      "빈도수 상위 1등 단어 : the\n",
      "빈도수 상위 3938등 단어 : suited\n"
     ]
    }
   ],
   "source": [
    "print('빈도수 상위 1등 단어 : {}'.format(index_to_word[4]))\n",
    "print('빈도수 상위 3938등 단어 : {}'.format(index_to_word[3941]))"
   ]
  },
  {
   "cell_type": "code",
   "execution_count": 12,
   "id": "012b2d62",
   "metadata": {},
   "outputs": [],
   "source": [
    "for index, token in enumerate((\"<pad>\", \"<sos>\", \"<unk>\")):\n",
    "    index_to_word[index] = token"
   ]
  },
  {
   "cell_type": "code",
   "execution_count": 13,
   "id": "f7f988c7",
   "metadata": {},
   "outputs": [
    {
     "name": "stdout",
     "output_type": "stream",
     "text": [
      "<sos> this film was just brilliant casting location scenery story direction everyone's really suited the part they played and you could just imagine being there robert redford's is an amazing actor and now the same being director norman's father came from the same scottish island as myself so i loved the fact there was a real connection with this film the witty remarks throughout the film were great it was just brilliant so much that i bought the film as soon as it was released for retail and would recommend it to everyone to watch and the fly fishing was amazing really cried at the end it was so sad and you know what they say if you cry at a film it must have been good and this definitely was also congratulations to the two little boy's that played the part's of norman and paul they were just brilliant children are often left out of the praising list i think because the stars that play them all grown up are such a big profile for the whole film but these children are amazing and should be praised for what they have done don't you think the whole story was so lovely because it was true and was someone's life after all that was shared with us all\n"
     ]
    }
   ],
   "source": [
    "print(' '.join([index_to_word[index] for index in X_train[0]]))"
   ]
  },
  {
   "cell_type": "markdown",
   "id": "9b7f8e88",
   "metadata": {},
   "source": [
    "# GRU로 IMDB 리뷰 감성 분류하기"
   ]
  },
  {
   "cell_type": "code",
   "execution_count": 14,
   "id": "9aa32ed9",
   "metadata": {},
   "outputs": [],
   "source": [
    "# 단어 집합의 크기를 10,000으로 제한하고, 리뷰 최대 길이는 500으로 제한하여 패딩\n",
    "import re\n",
    "from tensorflow.keras.datasets import imdb\n",
    "from tensorflow.keras.preprocessing.sequence import pad_sequences\n",
    "from tensorflow.keras.models import Sequential\n",
    "from tensorflow.keras.layers import Dense, GRU, Embedding\n",
    "from tensorflow.keras.callbacks import EarlyStopping, ModelCheckpoint\n",
    "from tensorflow.keras.models import load_model"
   ]
  },
  {
   "cell_type": "code",
   "execution_count": 15,
   "id": "f7390f46",
   "metadata": {},
   "outputs": [],
   "source": [
    "vocab_size = 10000\n",
    "max_len = 500"
   ]
  },
  {
   "cell_type": "code",
   "execution_count": 16,
   "id": "caceaa3a",
   "metadata": {},
   "outputs": [],
   "source": [
    "(X_train, y_train), (X_test, y_test) = imdb.load_data(num_words=vocab_size)"
   ]
  },
  {
   "cell_type": "code",
   "execution_count": 17,
   "id": "188eed16",
   "metadata": {},
   "outputs": [],
   "source": [
    "X_train = pad_sequences(X_train, maxlen=max_len)\n",
    "X_test = pad_sequences(X_test, maxlen=max_len)"
   ]
  },
  {
   "cell_type": "code",
   "execution_count": 18,
   "id": "7edfd5cb",
   "metadata": {},
   "outputs": [
    {
     "data": {
      "text/plain": [
       "((25000, 500), (25000, 500))"
      ]
     },
     "execution_count": 18,
     "metadata": {},
     "output_type": "execute_result"
    }
   ],
   "source": [
    "X_train.shape, X_test.shape"
   ]
  },
  {
   "cell_type": "code",
   "execution_count": 19,
   "id": "9ac1e684",
   "metadata": {},
   "outputs": [],
   "source": [
    "embedding_dim = 100\n",
    "hidden_units = 128"
   ]
  },
  {
   "cell_type": "code",
   "execution_count": 20,
   "id": "5b2da862",
   "metadata": {},
   "outputs": [],
   "source": [
    "## 모델 층 쌓기\n",
    "model = Sequential()\n",
    "model.add(Embedding(vocab_size, embedding_dim))\n",
    "model.add(GRU(hidden_units))\n",
    "model.add(Dense(1, activation='sigmoid'))"
   ]
  },
  {
   "cell_type": "code",
   "execution_count": 21,
   "id": "417b87c7",
   "metadata": {},
   "outputs": [
    {
     "name": "stdout",
     "output_type": "stream",
     "text": [
      "Model: \"sequential\"\n",
      "_________________________________________________________________\n",
      " Layer (type)                Output Shape              Param #   \n",
      "=================================================================\n",
      " embedding (Embedding)       (None, None, 100)         1000000   \n",
      "                                                                 \n",
      " gru (GRU)                   (None, 128)               88320     \n",
      "                                                                 \n",
      " dense (Dense)               (None, 1)                 129       \n",
      "                                                                 \n",
      "=================================================================\n",
      "Total params: 1,088,449\n",
      "Trainable params: 1,088,449\n",
      "Non-trainable params: 0\n",
      "_________________________________________________________________\n"
     ]
    }
   ],
   "source": [
    "model.summary()"
   ]
  },
  {
   "cell_type": "code",
   "execution_count": 22,
   "id": "b0006a0a",
   "metadata": {},
   "outputs": [],
   "source": [
    "## EarlyStop과 checkpoint 설정\n",
    "es = EarlyStopping(monitor='val_loss', mode='min', verbose=1, patience=4)\n",
    "cp = ModelCheckpoint('GRU_model.h5', monitor='val_acc', mode='max', verbose=2, save_best_only=True)"
   ]
  },
  {
   "cell_type": "code",
   "execution_count": 23,
   "id": "f0d62cd0",
   "metadata": {},
   "outputs": [],
   "source": [
    "model.compile(\n",
    "    optimizer='rmsprop',\n",
    "    loss='binary_crossentropy',\n",
    "    metrics=['acc']\n",
    ")"
   ]
  },
  {
   "cell_type": "code",
   "execution_count": 24,
   "id": "adcdee02",
   "metadata": {},
   "outputs": [
    {
     "name": "stdout",
     "output_type": "stream",
     "text": [
      "Epoch 1/15\n",
      "313/313 [==============================] - ETA: 0s - loss: 0.5157 - acc: 0.7552\n",
      "Epoch 00001: val_acc improved from -inf to 0.82160, saving model to GRU_model.h5\n",
      "313/313 [==============================] - 214s 674ms/step - loss: 0.5157 - acc: 0.7552 - val_loss: 0.4059 - val_acc: 0.8216\n",
      "Epoch 2/15\n",
      "313/313 [==============================] - ETA: 0s - loss: 0.3132 - acc: 0.8745\n",
      "Epoch 00002: val_acc improved from 0.82160 to 0.82920, saving model to GRU_model.h5\n",
      "313/313 [==============================] - 213s 682ms/step - loss: 0.3132 - acc: 0.8745 - val_loss: 0.3912 - val_acc: 0.8292\n",
      "Epoch 3/15\n",
      "313/313 [==============================] - ETA: 0s - loss: 0.2481 - acc: 0.9035\n",
      "Epoch 00003: val_acc improved from 0.82920 to 0.88360, saving model to GRU_model.h5\n",
      "313/313 [==============================] - 214s 685ms/step - loss: 0.2481 - acc: 0.9035 - val_loss: 0.2908 - val_acc: 0.8836\n",
      "Epoch 4/15\n",
      "313/313 [==============================] - ETA: 0s - loss: 0.1991 - acc: 0.9252\n",
      "Epoch 00004: val_acc did not improve from 0.88360\n",
      "313/313 [==============================] - 218s 696ms/step - loss: 0.1991 - acc: 0.9252 - val_loss: 0.3300 - val_acc: 0.8826\n",
      "Epoch 5/15\n",
      "313/313 [==============================] - ETA: 0s - loss: 0.1587 - acc: 0.9413\n",
      "Epoch 00005: val_acc improved from 0.88360 to 0.89400, saving model to GRU_model.h5\n",
      "313/313 [==============================] - 223s 713ms/step - loss: 0.1587 - acc: 0.9413 - val_loss: 0.2863 - val_acc: 0.8940\n",
      "Epoch 6/15\n",
      "313/313 [==============================] - ETA: 0s - loss: 0.1264 - acc: 0.9553\n",
      "Epoch 00006: val_acc improved from 0.89400 to 0.89520, saving model to GRU_model.h5\n",
      "313/313 [==============================] - 228s 728ms/step - loss: 0.1264 - acc: 0.9553 - val_loss: 0.2825 - val_acc: 0.8952\n",
      "Epoch 7/15\n",
      "313/313 [==============================] - ETA: 0s - loss: 0.0979 - acc: 0.9663\n",
      "Epoch 00007: val_acc did not improve from 0.89520\n",
      "313/313 [==============================] - 221s 706ms/step - loss: 0.0979 - acc: 0.9663 - val_loss: 0.3198 - val_acc: 0.8854\n",
      "Epoch 8/15\n",
      "313/313 [==============================] - ETA: 0s - loss: 0.0706 - acc: 0.9761\n",
      "Epoch 00008: val_acc did not improve from 0.89520\n",
      "313/313 [==============================] - 222s 708ms/step - loss: 0.0706 - acc: 0.9761 - val_loss: 0.3499 - val_acc: 0.8818\n",
      "Epoch 9/15\n",
      "313/313 [==============================] - ETA: 0s - loss: 0.0502 - acc: 0.9834\n",
      "Epoch 00009: val_acc did not improve from 0.89520\n",
      "313/313 [==============================] - 227s 726ms/step - loss: 0.0502 - acc: 0.9834 - val_loss: 0.4051 - val_acc: 0.8892\n",
      "Epoch 10/15\n",
      "313/313 [==============================] - ETA: 0s - loss: 0.0383 - acc: 0.9884\n",
      "Epoch 00010: val_acc did not improve from 0.89520\n",
      "313/313 [==============================] - 226s 723ms/step - loss: 0.0383 - acc: 0.9884 - val_loss: 0.4370 - val_acc: 0.8752\n",
      "Epoch 00010: early stopping\n"
     ]
    }
   ],
   "source": [
    "history = model.fit(\n",
    "    X_train, \n",
    "    y_train, \n",
    "    epochs=15, \n",
    "    callbacks=[es, cp], \n",
    "    batch_size=64, \n",
    "    validation_split=0.2\n",
    ")"
   ]
  },
  {
   "cell_type": "code",
   "execution_count": 25,
   "id": "515f5315",
   "metadata": {},
   "outputs": [],
   "source": [
    "# 모델 불러오기\n",
    "loaded_model = load_model('GRU_model.h5')"
   ]
  },
  {
   "cell_type": "code",
   "execution_count": 26,
   "id": "a3c6b718",
   "metadata": {},
   "outputs": [
    {
     "name": "stdout",
     "output_type": "stream",
     "text": [
      "782/782 [==============================] - 68s 86ms/step - loss: 0.2950 - acc: 0.8912\n",
      "테스트 정확도: 0.8912\n"
     ]
    }
   ],
   "source": [
    "print(\"테스트 정확도: %.4f\" % (loaded_model.evaluate(X_test, y_test)[1]))"
   ]
  },
  {
   "cell_type": "code",
   "execution_count": 27,
   "id": "eb2d073f",
   "metadata": {},
   "outputs": [],
   "source": [
    "## 감성 분석 함수화\n",
    "def sentiment_predict(new_sentence):\n",
    "    # 알파벳과 숫자를 제외하고 모두 제거 및 알파벳 소문자화\n",
    "    new_sentence = re.sub('[^0-9a-zA-Z ]', '', new_sentence).lower()\n",
    "    encoded = []\n",
    "\n",
    "    # 띄어쓰기 단위 토큰화 후 정수 인코딩\n",
    "    for word in new_sentence.split():\n",
    "        try :\n",
    "            # 단어 집합의 크기를 10,000으로 제한.\n",
    "            if word_to_index[word] <= 10000:\n",
    "                encoded.append(word_to_index[word]+3)\n",
    "            else:\n",
    "            # 10,000 이상의 숫자는 <unk> 토큰으로 변환.\n",
    "                encoded.append(2)\n",
    "        # 단어 집합에 없는 단어는 <unk> 토큰으로 변환.\n",
    "        except KeyError:\n",
    "            encoded.append(2)\n",
    "\n",
    "    pad_sequence = pad_sequences([encoded], maxlen=max_len)\n",
    "    score = float(loaded_model.predict(pad_sequence)) # 예측\n",
    "\n",
    "    if(score > 0.5):\n",
    "        print(\"{:.2f}% 확률로 긍정 리뷰입니다.\".format(score * 100))\n",
    "    else:\n",
    "        print(\"{:.2f}% 확률로 부정 리뷰입니다.\".format((1 - score) * 100))"
   ]
  },
  {
   "cell_type": "code",
   "execution_count": 28,
   "id": "6065a4da",
   "metadata": {},
   "outputs": [
    {
     "name": "stdout",
     "output_type": "stream",
     "text": [
      "This movie was just way too overrated. The fighting was not professional and in slow motion. I was expecting more from a 200 million budget movie. The little sister of T.Challa was just trying too hard to be funny. The story was really dumb as well. Don't watch this movie if you are going because others say its great unless you are a Black Panther fan or Marvels fan.\n",
      "98.39% 확률로 부정 리뷰입니다.\n"
     ]
    }
   ],
   "source": [
    "## 모델 예측\n",
    "test_input = \"This movie was just way too overrated. The fighting was not professional and in slow motion. I was expecting more from a 200 million budget movie. The little sister of T.Challa was just trying too hard to be funny. The story was really dumb as well. Don't watch this movie if you are going because others say its great unless you are a Black Panther fan or Marvels fan.\"\n",
    "print(test_input)\n",
    "sentiment_predict(test_input)"
   ]
  },
  {
   "cell_type": "code",
   "execution_count": 29,
   "id": "3f8dfee5",
   "metadata": {},
   "outputs": [
    {
     "name": "stdout",
     "output_type": "stream",
     "text": [
      " I was lucky enough to be included in the group to see the advanced screening in Melbourne on the 15th of April, 2012. And, firstly, I need to say a big thank-you to Disney and Marvel Studios. Now, the film... how can I even begin to explain how I feel about this film? It is, as the title of this review says a 'comic book triumph'. I went into the film with very, very high expectations and I was not disappointed. Seeing Joss Whedon's direction and envisioning of the film come to life on the big screen is perfect. The script is amazingly detailed and laced with sharp wit a humor. The special effects are literally mind-blowing and the action scenes are both hard-hitting and beautifully choreographed.\n",
      "98.53% 확률로 긍정 리뷰입니다.\n"
     ]
    }
   ],
   "source": [
    "test_input2 = \" I was lucky enough to be included in the group to see the advanced screening in Melbourne on the 15th of April, 2012. And, firstly, I need to say a big thank-you to Disney and Marvel Studios. \\\n",
    "Now, the film... how can I even begin to explain how I feel about this film? It is, as the title of this review says a 'comic book triumph'. I went into the film with very, very high expectations and I was not disappointed. \\\n",
    "Seeing Joss Whedon's direction and envisioning of the film come to life on the big screen is perfect. The script is amazingly detailed and laced with sharp wit a humor. The special effects are literally mind-blowing and the action scenes are both hard-hitting and beautifully choreographed.\"\n",
    "print(test_input2)\n",
    "sentiment_predict(test_input2)"
   ]
  }
 ],
 "metadata": {
  "kernelspec": {
   "display_name": "Python 3 (ipykernel)",
   "language": "python",
   "name": "python3"
  },
  "language_info": {
   "codemirror_mode": {
    "name": "ipython",
    "version": 3
   },
   "file_extension": ".py",
   "mimetype": "text/x-python",
   "name": "python",
   "nbconvert_exporter": "python",
   "pygments_lexer": "ipython3",
   "version": "3.7.13"
  }
 },
 "nbformat": 4,
 "nbformat_minor": 5
}
