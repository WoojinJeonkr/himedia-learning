{
  "nbformat": 4,
  "nbformat_minor": 0,
  "metadata": {
    "colab": {
      "name": "Review_Classification_using_Active_Learning.ipynb",
      "provenance": [],
      "collapsed_sections": [],
      "authorship_tag": "ABX9TyNXJmIBimkL3qv5P96lB7e0",
      "include_colab_link": true
    },
    "kernelspec": {
      "name": "python3",
      "display_name": "Python 3"
    },
    "language_info": {
      "name": "python"
    }
  },
  "cells": [
    {
      "cell_type": "markdown",
      "metadata": {
        "id": "view-in-github",
        "colab_type": "text"
      },
      "source": [
        "<a href=\"https://colab.research.google.com/github/WoojinJeonkr/DeepLearning/blob/main/Review_Classification_using_Active_Learning.ipynb\" target=\"_parent\"><img src=\"https://colab.research.google.com/assets/colab-badge.svg\" alt=\"Open In Colab\"/></a>"
      ]
    },
    {
      "cell_type": "markdown",
      "source": [
        "# 능동 학습을 통한 분류 검토\n",
        "- 내용 출처: [Review Classification using Active Learning](https://keras.io/examples/nlp/active_learning_review_classification/)\n",
        "- 목표: 전체 데이터 세트에 대해 훈련된 모델과 비교할 때   \n",
        "&nbsp;&nbsp;&nbsp;&nbsp;&nbsp;&nbsp;&nbsp;&nbsp;&nbsp;&nbsp;전체 거짓 긍정 및 부정 비율을 낮추는 비율 기반(최소 신뢰도) 샘플링 전략을 시연하여   \n",
        "&nbsp;&nbsp;&nbsp;&nbsp;&nbsp;&nbsp;&nbsp;&nbsp;&nbsp;&nbsp;모델의 위양성 및 위음성 비율을 비교하고 해당 비율에 따라 새 데이터에 주석 달기를 구현"
      ],
      "metadata": {
        "id": "DjgcH6fZjCE1"
      }
    },
    {
      "cell_type": "markdown",
      "source": [
        "## 01. 라이브러리 가져오기"
      ],
      "metadata": {
        "id": "EoGHkyE0jsfo"
      }
    },
    {
      "cell_type": "code",
      "execution_count": 1,
      "metadata": {
        "id": "2FXD-JDWi9Ld"
      },
      "outputs": [],
      "source": [
        "import tensorflow_datasets as tfds\n",
        "import tensorflow as tf\n",
        "from tensorflow import keras\n",
        "from tensorflow.keras import layers\n",
        "import matplotlib.pyplot as plt\n",
        "import re\n",
        "import string\n",
        "\n",
        "tfds.disable_progress_bar()"
      ]
    },
    {
      "cell_type": "markdown",
      "source": [
        "## 02. 데이터 불러오기 및 전처리"
      ],
      "metadata": {
        "id": "hECPdc0ojyag"
      }
    },
    {
      "cell_type": "code",
      "source": [
        "dataset = tfds.load(\n",
        "    \"imdb_reviews\",\n",
        "    split=\"train + test\",\n",
        "    as_supervised=True,\n",
        "    batch_size=-1,\n",
        "    shuffle_files=False,\n",
        ")\n",
        "reviews, labels = tfds.as_numpy(dataset)\n",
        "\n",
        "print(\"Total examples:\", reviews.shape[0])"
      ],
      "metadata": {
        "colab": {
          "base_uri": "https://localhost:8080/"
        },
        "id": "Jld_yqF7jx18",
        "outputId": "095c535c-8eb3-41ae-daf8-e809d14afb57"
      },
      "execution_count": 2,
      "outputs": [
        {
          "output_type": "stream",
          "name": "stdout",
          "text": [
            "\u001b[1mDownloading and preparing dataset 80.23 MiB (download: 80.23 MiB, generated: Unknown size, total: 80.23 MiB) to ~/tensorflow_datasets/imdb_reviews/plain_text/1.0.0...\u001b[0m\n",
            "\u001b[1mDataset imdb_reviews downloaded and prepared to ~/tensorflow_datasets/imdb_reviews/plain_text/1.0.0. Subsequent calls will reuse this data.\u001b[0m\n",
            "Total examples: 50000\n"
          ]
        }
      ]
    },
    {
      "cell_type": "code",
      "source": [
        "val_split = 2500\n",
        "test_split = 2500\n",
        "train_split = 7500"
      ],
      "metadata": {
        "id": "YprLXmPlj4SQ"
      },
      "execution_count": 3,
      "outputs": []
    },
    {
      "cell_type": "code",
      "source": [
        "x_positives, y_positives = reviews[labels == 1], labels[labels == 1]\n",
        "x_negatives, y_negatives = reviews[labels == 0], labels[labels == 0]"
      ],
      "metadata": {
        "id": "WJ9SmwDzj9EJ"
      },
      "execution_count": 4,
      "outputs": []
    },
    {
      "cell_type": "code",
      "source": [
        "x_val, y_val = (\n",
        "    tf.concat((x_positives[:val_split], x_negatives[:val_split]), 0),\n",
        "    tf.concat((y_positives[:val_split], y_negatives[:val_split]), 0),\n",
        ")\n",
        "x_test, y_test = (\n",
        "    tf.concat(\n",
        "        (\n",
        "            x_positives[val_split : val_split + test_split],\n",
        "            x_negatives[val_split : val_split + test_split],\n",
        "        ),\n",
        "        0,\n",
        "    ),\n",
        "    tf.concat(\n",
        "        (\n",
        "            y_positives[val_split : val_split + test_split],\n",
        "            y_negatives[val_split : val_split + test_split],\n",
        "        ),\n",
        "        0,\n",
        "    ),\n",
        ")\n",
        "x_train, y_train = (\n",
        "    tf.concat(\n",
        "        (\n",
        "            x_positives[val_split + test_split : val_split + test_split + train_split],\n",
        "            x_negatives[val_split + test_split : val_split + test_split + train_split],\n",
        "        ),\n",
        "        0,\n",
        "    ),\n",
        "    tf.concat(\n",
        "        (\n",
        "            y_positives[val_split + test_split : val_split + test_split + train_split],\n",
        "            y_negatives[val_split + test_split : val_split + test_split + train_split],\n",
        "        ),\n",
        "        0,\n",
        "    ),\n",
        ")"
      ],
      "metadata": {
        "id": "7AZGzawNkCfO"
      },
      "execution_count": 5,
      "outputs": []
    },
    {
      "cell_type": "code",
      "source": [
        "x_pool_positives, y_pool_positives = (\n",
        "    x_positives[val_split + test_split + train_split :],\n",
        "    y_positives[val_split + test_split + train_split :],\n",
        ")\n",
        "x_pool_negatives, y_pool_negatives = (\n",
        "    x_negatives[val_split + test_split + train_split :],\n",
        "    y_negatives[val_split + test_split + train_split :],\n",
        ")"
      ],
      "metadata": {
        "id": "2YC252rOkEPv"
      },
      "execution_count": 6,
      "outputs": []
    },
    {
      "cell_type": "code",
      "source": [
        "train_dataset = tf.data.Dataset.from_tensor_slices((x_train, y_train))\n",
        "val_dataset = tf.data.Dataset.from_tensor_slices((x_val, y_val))\n",
        "test_dataset = tf.data.Dataset.from_tensor_slices((x_test, y_test))\n",
        "\n",
        "pool_negatives = tf.data.Dataset.from_tensor_slices(\n",
        "    (x_pool_negatives, y_pool_negatives)\n",
        ")\n",
        "pool_positives = tf.data.Dataset.from_tensor_slices(\n",
        "    (x_pool_positives, y_pool_positives)\n",
        ")\n",
        "\n",
        "print(f\"Initial training set size: {len(train_dataset)}\")\n",
        "print(f\"Validation set size: {len(val_dataset)}\")\n",
        "print(f\"Testing set size: {len(test_dataset)}\")\n",
        "print(f\"Unlabeled negative pool: {len(pool_negatives)}\")\n",
        "print(f\"Unlabeled positive pool: {len(pool_positives)}\")"
      ],
      "metadata": {
        "colab": {
          "base_uri": "https://localhost:8080/"
        },
        "id": "rXaxK6S3kFpJ",
        "outputId": "c22e8a4c-7dc8-4ffc-b696-7b8073310016"
      },
      "execution_count": 7,
      "outputs": [
        {
          "output_type": "stream",
          "name": "stdout",
          "text": [
            "Initial training set size: 15000\n",
            "Validation set size: 5000\n",
            "Testing set size: 5000\n",
            "Unlabeled negative pool: 12500\n",
            "Unlabeled positive pool: 12500\n"
          ]
        }
      ]
    },
    {
      "cell_type": "code",
      "source": [
        "# TextVectorization 레이어 맞추기\n",
        "def custom_standardization(input_data):\n",
        "    lowercase = tf.strings.lower(input_data)\n",
        "    stripped_html = tf.strings.regex_replace(lowercase, \"<br />\", \" \")\n",
        "    return tf.strings.regex_replace(\n",
        "        stripped_html, f\"[{re.escape(string.punctuation)}]\", \"\"\n",
        "    )\n",
        "\n",
        "vectorizer = layers.TextVectorization(\n",
        "    3000, standardize=custom_standardization, output_sequence_length=150\n",
        ")\n",
        "\n",
        "vectorizer.adapt(\n",
        "    train_dataset.map(lambda x, y: x, num_parallel_calls=tf.data.AUTOTUNE).batch(256)\n",
        ")\n",
        "\n",
        "\n",
        "def vectorize_text(text, label):\n",
        "    text = vectorizer(text)\n",
        "    return text, label\n",
        "\n",
        "\n",
        "train_dataset = train_dataset.map(\n",
        "    vectorize_text, num_parallel_calls=tf.data.AUTOTUNE\n",
        ").prefetch(tf.data.AUTOTUNE)\n",
        "pool_negatives = pool_negatives.map(vectorize_text, num_parallel_calls=tf.data.AUTOTUNE)\n",
        "pool_positives = pool_positives.map(vectorize_text, num_parallel_calls=tf.data.AUTOTUNE)\n",
        "\n",
        "val_dataset = val_dataset.batch(256).map(\n",
        "    vectorize_text, num_parallel_calls=tf.data.AUTOTUNE\n",
        ")\n",
        "test_dataset = test_dataset.batch(256).map(\n",
        "    vectorize_text, num_parallel_calls=tf.data.AUTOTUNE\n",
        ")"
      ],
      "metadata": {
        "id": "p3VH2OB1kHjG"
      },
      "execution_count": 8,
      "outputs": []
    },
    {
      "cell_type": "markdown",
      "source": [
        "## 03. 도우미 함수 만들기"
      ],
      "metadata": {
        "id": "NdxHEYCBkT_C"
      }
    },
    {
      "cell_type": "code",
      "source": [
        "def append_history(losses, val_losses, accuracy, val_accuracy, history):\n",
        "    losses = losses + history.history[\"loss\"]\n",
        "    val_losses = val_losses + history.history[\"val_loss\"]\n",
        "    accuracy = accuracy + history.history[\"binary_accuracy\"]\n",
        "    val_accuracy = val_accuracy + history.history[\"val_binary_accuracy\"]\n",
        "    return losses, val_losses, accuracy, val_accuracy\n",
        "\n",
        "def plot_history(losses, val_losses, accuracies, val_accuracies):\n",
        "    plt.plot(losses)\n",
        "    plt.plot(val_losses)\n",
        "    plt.legend([\"train_loss\", \"val_loss\"])\n",
        "    plt.xlabel(\"Epochs\")\n",
        "    plt.ylabel(\"Loss\")\n",
        "    plt.show()\n",
        "\n",
        "    plt.plot(accuracies)\n",
        "    plt.plot(val_accuracies)\n",
        "    plt.legend([\"train_accuracy\", \"val_accuracy\"])\n",
        "    plt.xlabel(\"Epochs\")\n",
        "    plt.ylabel(\"Accuracy\")\n",
        "    plt.show()"
      ],
      "metadata": {
        "id": "oye-ZtP9kSbA"
      },
      "execution_count": 9,
      "outputs": []
    },
    {
      "cell_type": "markdown",
      "source": [
        "## 04. 양방향 LSTM 모델 생성"
      ],
      "metadata": {
        "id": "p0j5Vom6kftq"
      }
    },
    {
      "cell_type": "code",
      "source": [
        "def create_model():\n",
        "    model = keras.models.Sequential(\n",
        "        [\n",
        "            layers.Input(shape=(150,)),\n",
        "            layers.Embedding(input_dim=3000, output_dim=128),\n",
        "            layers.Bidirectional(layers.LSTM(32, return_sequences=True)),\n",
        "            layers.GlobalMaxPool1D(),\n",
        "            layers.Dense(20, activation=\"relu\"),\n",
        "            layers.Dropout(0.5),\n",
        "            layers.Dense(1, activation=\"sigmoid\"),\n",
        "        ]\n",
        "    )\n",
        "    model.summary()\n",
        "    return model"
      ],
      "metadata": {
        "id": "RH0pCCUIkewb"
      },
      "execution_count": 10,
      "outputs": []
    },
    {
      "cell_type": "markdown",
      "source": [
        "## 05. 전체 데이터세트에 대해 훈련"
      ],
      "metadata": {
        "id": "S9LFNQNwks7J"
      }
    },
    {
      "cell_type": "code",
      "source": [
        "def train_full_model(full_train_dataset, val_dataset, test_dataset):\n",
        "    model = create_model()\n",
        "    model.compile(\n",
        "        loss=\"binary_crossentropy\",\n",
        "        optimizer=\"rmsprop\",\n",
        "        metrics=[\n",
        "            keras.metrics.BinaryAccuracy(),\n",
        "            keras.metrics.FalseNegatives(),\n",
        "            keras.metrics.FalsePositives(),\n",
        "        ],\n",
        "    )\n",
        "\n",
        "    # 모델 훈련 및 최적의 모델 저장\n",
        "    history = model.fit(\n",
        "        full_train_dataset.batch(256),\n",
        "        epochs=20,\n",
        "        validation_data=val_dataset,\n",
        "        callbacks=[\n",
        "            keras.callbacks.EarlyStopping(patience=4, verbose=1),\n",
        "            keras.callbacks.ModelCheckpoint(\n",
        "                \"FullModelCheckpoint.h5\", verbose=1, save_best_only=True\n",
        "            ),\n",
        "        ],\n",
        "    )\n",
        "\n",
        "    # 결과를 그래프로 표시\n",
        "    plot_history(\n",
        "        history.history[\"loss\"],\n",
        "        history.history[\"val_loss\"],\n",
        "        history.history[\"binary_accuracy\"],\n",
        "        history.history[\"val_binary_accuracy\"],\n",
        "    )\n",
        "\n",
        "    model = keras.models.load_model(\"FullModelCheckpoint.h5\")\n",
        "\n",
        "    print(\"-\" * 100)\n",
        "    print(\n",
        "        \"Test set evaluation: \",\n",
        "        model.evaluate(test_dataset, verbose=0, return_dict=True),\n",
        "    )\n",
        "    print(\"-\" * 100)\n",
        "    return model"
      ],
      "metadata": {
        "id": "PTe46nwlkmrq"
      },
      "execution_count": 11,
      "outputs": []
    },
    {
      "cell_type": "code",
      "source": [
        "# 전체 훈련 데이터세트 샘플링\n",
        "full_train_dataset = (\n",
        "    train_dataset.concatenate(pool_positives)\n",
        "    .concatenate(pool_negatives)\n",
        "    .cache()\n",
        "    .shuffle(20000)\n",
        ")\n",
        "\n",
        "# 모델 훈련\n",
        "full_dataset_model = train_full_model(full_train_dataset, val_dataset, test_dataset)"
      ],
      "metadata": {
        "colab": {
          "base_uri": "https://localhost:8080/",
          "height": 1000
        },
        "id": "ZENhOcjLlGmh",
        "outputId": "315d894f-146e-40c8-8810-f15988edc914"
      },
      "execution_count": 12,
      "outputs": [
        {
          "output_type": "stream",
          "name": "stdout",
          "text": [
            "Model: \"sequential\"\n",
            "_________________________________________________________________\n",
            " Layer (type)                Output Shape              Param #   \n",
            "=================================================================\n",
            " embedding (Embedding)       (None, 150, 128)          384000    \n",
            "                                                                 \n",
            " bidirectional (Bidirectiona  (None, 150, 64)          41216     \n",
            " l)                                                              \n",
            "                                                                 \n",
            " global_max_pooling1d (Globa  (None, 64)               0         \n",
            " lMaxPooling1D)                                                  \n",
            "                                                                 \n",
            " dense (Dense)               (None, 20)                1300      \n",
            "                                                                 \n",
            " dropout (Dropout)           (None, 20)                0         \n",
            "                                                                 \n",
            " dense_1 (Dense)             (None, 1)                 21        \n",
            "                                                                 \n",
            "=================================================================\n",
            "Total params: 426,537\n",
            "Trainable params: 426,537\n",
            "Non-trainable params: 0\n",
            "_________________________________________________________________\n",
            "Epoch 1/20\n",
            "157/157 [==============================] - ETA: 0s - loss: 0.5357 - binary_accuracy: 0.7553 - false_negatives: 2906.0000 - false_positives: 6880.0000\n",
            "Epoch 1: val_loss improved from inf to 0.38786, saving model to FullModelCheckpoint.h5\n",
            "157/157 [==============================] - 55s 318ms/step - loss: 0.5357 - binary_accuracy: 0.7553 - false_negatives: 2906.0000 - false_positives: 6880.0000 - val_loss: 0.3879 - val_binary_accuracy: 0.8394 - val_false_negatives: 513.0000 - val_false_positives: 290.0000\n",
            "Epoch 2/20\n",
            "157/157 [==============================] - ETA: 0s - loss: 0.3780 - binary_accuracy: 0.8477 - false_negatives: 2934.0000 - false_positives: 3159.0000\n",
            "Epoch 2: val_loss did not improve from 0.38786\n",
            "157/157 [==============================] - 47s 302ms/step - loss: 0.3780 - binary_accuracy: 0.8477 - false_negatives: 2934.0000 - false_positives: 3159.0000 - val_loss: 0.4129 - val_binary_accuracy: 0.8084 - val_false_negatives: 844.0000 - val_false_positives: 114.0000\n",
            "Epoch 3/20\n",
            "157/157 [==============================] - ETA: 0s - loss: 0.3345 - binary_accuracy: 0.8676 - false_negatives: 2604.0000 - false_positives: 2690.0000\n",
            "Epoch 3: val_loss improved from 0.38786 to 0.33403, saving model to FullModelCheckpoint.h5\n",
            "157/157 [==============================] - 46s 296ms/step - loss: 0.3345 - binary_accuracy: 0.8676 - false_negatives: 2604.0000 - false_positives: 2690.0000 - val_loss: 0.3340 - val_binary_accuracy: 0.8524 - val_false_negatives: 452.0000 - val_false_positives: 286.0000\n",
            "Epoch 4/20\n",
            "157/157 [==============================] - ETA: 0s - loss: 0.3100 - binary_accuracy: 0.8780 - false_negatives: 2385.0000 - false_positives: 2494.0000\n",
            "Epoch 4: val_loss improved from 0.33403 to 0.32999, saving model to FullModelCheckpoint.h5\n",
            "157/157 [==============================] - 47s 299ms/step - loss: 0.3100 - binary_accuracy: 0.8780 - false_negatives: 2385.0000 - false_positives: 2494.0000 - val_loss: 0.3300 - val_binary_accuracy: 0.8540 - val_false_negatives: 320.0000 - val_false_positives: 410.0000\n",
            "Epoch 5/20\n",
            "157/157 [==============================] - ETA: 0s - loss: 0.2918 - binary_accuracy: 0.8841 - false_negatives: 2321.0000 - false_positives: 2315.0000\n",
            "Epoch 5: val_loss improved from 0.32999 to 0.32298, saving model to FullModelCheckpoint.h5\n",
            "157/157 [==============================] - 47s 297ms/step - loss: 0.2918 - binary_accuracy: 0.8841 - false_negatives: 2321.0000 - false_positives: 2315.0000 - val_loss: 0.3230 - val_binary_accuracy: 0.8582 - val_false_negatives: 294.0000 - val_false_positives: 415.0000\n",
            "Epoch 6/20\n",
            "157/157 [==============================] - ETA: 0s - loss: 0.2759 - binary_accuracy: 0.8938 - false_negatives: 2137.0000 - false_positives: 2112.0000\n",
            "Epoch 6: val_loss did not improve from 0.32298\n",
            "157/157 [==============================] - 47s 298ms/step - loss: 0.2759 - binary_accuracy: 0.8938 - false_negatives: 2137.0000 - false_positives: 2112.0000 - val_loss: 0.3644 - val_binary_accuracy: 0.8424 - val_false_negatives: 603.0000 - val_false_positives: 185.0000\n",
            "Epoch 7/20\n",
            "157/157 [==============================] - ETA: 0s - loss: 0.2652 - binary_accuracy: 0.8991 - false_negatives: 2063.0000 - false_positives: 1974.0000\n",
            "Epoch 7: val_loss did not improve from 0.32298\n",
            "157/157 [==============================] - 47s 298ms/step - loss: 0.2652 - binary_accuracy: 0.8991 - false_negatives: 2063.0000 - false_positives: 1974.0000 - val_loss: 0.3519 - val_binary_accuracy: 0.8500 - val_false_negatives: 510.0000 - val_false_positives: 240.0000\n",
            "Epoch 8/20\n",
            "157/157 [==============================] - ETA: 0s - loss: 0.2486 - binary_accuracy: 0.9053 - false_negatives: 1950.0000 - false_positives: 1840.0000\n",
            "Epoch 8: val_loss did not improve from 0.32298\n",
            "157/157 [==============================] - 47s 299ms/step - loss: 0.2486 - binary_accuracy: 0.9053 - false_negatives: 1950.0000 - false_positives: 1840.0000 - val_loss: 0.3288 - val_binary_accuracy: 0.8586 - val_false_negatives: 344.0000 - val_false_positives: 363.0000\n",
            "Epoch 9/20\n",
            "157/157 [==============================] - ETA: 0s - loss: 0.2344 - binary_accuracy: 0.9135 - false_negatives: 1785.0000 - false_positives: 1677.0000\n",
            "Epoch 9: val_loss did not improve from 0.32298\n",
            "157/157 [==============================] - 46s 294ms/step - loss: 0.2344 - binary_accuracy: 0.9135 - false_negatives: 1785.0000 - false_positives: 1677.0000 - val_loss: 0.3540 - val_binary_accuracy: 0.8538 - val_false_negatives: 424.0000 - val_false_positives: 307.0000\n",
            "Epoch 9: early stopping\n"
          ]
        },
        {
          "output_type": "display_data",
          "data": {
            "text/plain": [
              "<Figure size 432x288 with 1 Axes>"
            ],
            "image/png": "[encoded data removed]"
          },
          "metadata": {
            "needs_background": "light"
          }
        },
        {
          "output_type": "display_data",
          "data": {
            "text/plain": [
              "<Figure size 432x288 with 1 Axes>"
            ],
            "image/png": "[encoded data removed]"
          },
          "metadata": {
            "needs_background": "light"
          }
        },
        {
          "output_type": "stream",
          "name": "stdout",
          "text": [
            "----------------------------------------------------------------------------------------------------\n",
            "Test set evaluation:  {'loss': 0.3303702473640442, 'binary_accuracy': 0.8611999750137329, 'false_negatives': 298.0, 'false_positives': 396.0}\n",
            "----------------------------------------------------------------------------------------------------\n"
          ]
        }
      ]
    },
    {
      "cell_type": "markdown",
      "source": [
        "## 06. 능동적 학습을 통한 훈련"
      ],
      "metadata": {
        "id": "UDCU-fZGqK8_"
      }
    },
    {
      "cell_type": "code",
      "source": [
        "def train_active_learning_models(\n",
        "    train_dataset,\n",
        "    pool_negatives,\n",
        "    pool_positives,\n",
        "    val_dataset,\n",
        "    test_dataset,\n",
        "    num_iterations=3,\n",
        "    sampling_size=5000,\n",
        "):\n",
        "\n",
        "    losses, val_losses, accuracies, val_accuracies = [], [], [], []\n",
        "\n",
        "    model = create_model()\n",
        "    model.compile(\n",
        "        loss=\"binary_crossentropy\",\n",
        "        optimizer=\"rmsprop\",\n",
        "        metrics=[\n",
        "            keras.metrics.BinaryAccuracy(),\n",
        "            keras.metrics.FalseNegatives(),\n",
        "            keras.metrics.FalsePositives(),\n",
        "        ],\n",
        "    )\n",
        "\n",
        "    checkpoint = keras.callbacks.ModelCheckpoint(\n",
        "        \"AL_Model.h5\", save_best_only=True, verbose=1\n",
        "    )\n",
        "    early_stopping = keras.callbacks.EarlyStopping(patience=4, verbose=1)\n",
        "\n",
        "    print(f\"Starting to train with {len(train_dataset)} samples\")\n",
        "    # Initial fit with a small subset of the training set\n",
        "    history = model.fit(\n",
        "        train_dataset.cache().shuffle(20000).batch(256),\n",
        "        epochs=20,\n",
        "        validation_data=val_dataset,\n",
        "        callbacks=[checkpoint, early_stopping],\n",
        "    )\n",
        "\n",
        "    losses, val_losses, accuracies, val_accuracies = append_history(\n",
        "        losses, val_losses, accuracies, val_accuracies, history\n",
        "    )\n",
        "\n",
        "    for iteration in range(num_iterations):\n",
        "        # Getting predictions from previously trained model\n",
        "        predictions = model.predict(test_dataset)\n",
        "\n",
        "        rounded = tf.where(tf.greater(predictions, 0.5), 1, 0)\n",
        "\n",
        "        _, _, false_negatives, false_positives = model.evaluate(test_dataset, verbose=0)\n",
        "\n",
        "        print(\"-\" * 100)\n",
        "        print(\n",
        "            f\"Number of zeros incorrectly classified: {false_negatives}, Number of ones incorrectly classified: {false_positives}\"\n",
        "        )\n",
        "\n",
        "        if false_negatives != 0 and false_positives != 0:\n",
        "            total = false_negatives + false_positives\n",
        "            sample_ratio_ones, sample_ratio_zeros = (\n",
        "                false_positives / total,\n",
        "                false_negatives / total,\n",
        "            )\n",
        "\n",
        "        else:\n",
        "            sample_ratio_ones, sample_ratio_zeros = 0.5, 0.5\n",
        "\n",
        "        print(\n",
        "            f\"Sample ratio for positives: {sample_ratio_ones}, Sample ratio for negatives:{sample_ratio_zeros}\"\n",
        "        )\n",
        "\n",
        "        sampled_dataset = pool_negatives.take(\n",
        "            int(sample_ratio_zeros * sampling_size)\n",
        "        ).concatenate(pool_positives.take(int(sample_ratio_ones * sampling_size)))\n",
        "\n",
        "        pool_negatives = pool_negatives.skip(int(sample_ratio_zeros * sampling_size))\n",
        "        pool_positives = pool_positives.skip(int(sample_ratio_ones * sampling_size))\n",
        "\n",
        "        train_dataset = train_dataset.concatenate(sampled_dataset).prefetch(\n",
        "            tf.data.AUTOTUNE\n",
        "        )\n",
        "\n",
        "        print(f\"Starting training with {len(train_dataset)} samples\")\n",
        "        print(\"-\" * 100)\n",
        "\n",
        "        model.compile(\n",
        "            loss=\"binary_crossentropy\",\n",
        "            optimizer=\"rmsprop\",\n",
        "            metrics=[\n",
        "                keras.metrics.BinaryAccuracy(),\n",
        "                keras.metrics.FalseNegatives(),\n",
        "                keras.metrics.FalsePositives(),\n",
        "            ],\n",
        "        )\n",
        "        history = model.fit(\n",
        "            train_dataset.cache().shuffle(20000).batch(256),\n",
        "            validation_data=val_dataset,\n",
        "            epochs=20,\n",
        "            callbacks=[\n",
        "                checkpoint,\n",
        "                keras.callbacks.EarlyStopping(patience=4, verbose=1),\n",
        "            ],\n",
        "        )\n",
        "\n",
        "        losses, val_losses, accuracies, val_accuracies = append_history(\n",
        "            losses, val_losses, accuracies, val_accuracies, history\n",
        "        )\n",
        "\n",
        "        model = keras.models.load_model(\"AL_Model.h5\")\n",
        "\n",
        "    plot_history(losses, val_losses, accuracies, val_accuracies)\n",
        "    print(\"-\" * 100)\n",
        "    print(\n",
        "        \"Test set evaluation: \",\n",
        "        model.evaluate(test_dataset, verbose=0, return_dict=True),\n",
        "    )\n",
        "    print(\"-\" * 100)\n",
        "\n",
        "    return model"
      ],
      "metadata": {
        "id": "P_egRe-UlORj"
      },
      "execution_count": 13,
      "outputs": []
    },
    {
      "cell_type": "code",
      "source": [
        "active_learning_model = train_active_learning_models(\n",
        "    train_dataset, pool_negatives, pool_positives, val_dataset, test_dataset\n",
        ")"
      ],
      "metadata": {
        "colab": {
          "base_uri": "https://localhost:8080/",
          "height": 1000
        },
        "id": "1Zkz1GMPs17_",
        "outputId": "75120792-68ae-4d91-a655-56286dd2fe03"
      },
      "execution_count": 14,
      "outputs": [
        {
          "output_type": "stream",
          "name": "stdout",
          "text": [
            "Model: \"sequential_1\"\n",
            "_________________________________________________________________\n",
            " Layer (type)                Output Shape              Param #   \n",
            "=================================================================\n",
            " embedding_1 (Embedding)     (None, 150, 128)          384000    \n",
            "                                                                 \n",
            " bidirectional_1 (Bidirectio  (None, 150, 64)          41216     \n",
            " nal)                                                            \n",
            "                                                                 \n",
            " global_max_pooling1d_1 (Glo  (None, 64)               0         \n",
            " balMaxPooling1D)                                                \n",
            "                                                                 \n",
            " dense_2 (Dense)             (None, 20)                1300      \n",
            "                                                                 \n",
            " dropout_1 (Dropout)         (None, 20)                0         \n",
            "                                                                 \n",
            " dense_3 (Dense)             (None, 1)                 21        \n",
            "                                                                 \n",
            "=================================================================\n",
            "Total params: 426,537\n",
            "Trainable params: 426,537\n",
            "Non-trainable params: 0\n",
            "_________________________________________________________________\n",
            "Starting to train with 15000 samples\n",
            "Epoch 1/20\n",
            "59/59 [==============================] - ETA: 0s - loss: 0.6457 - binary_accuracy: 0.6324 - false_negatives_1: 3361.0000 - false_positives_1: 2153.0000\n",
            "Epoch 1: val_loss improved from inf to 0.50482, saving model to AL_Model.h5\n",
            "59/59 [==============================] - 24s 334ms/step - loss: 0.6457 - binary_accuracy: 0.6324 - false_negatives_1: 3361.0000 - false_positives_1: 2153.0000 - val_loss: 0.5048 - val_binary_accuracy: 0.7908 - val_false_negatives_1: 765.0000 - val_false_positives_1: 281.0000\n",
            "Epoch 2/20\n",
            "59/59 [==============================] - ETA: 0s - loss: 0.4533 - binary_accuracy: 0.8121 - false_negatives_1: 1362.0000 - false_positives_1: 1456.0000\n",
            "Epoch 2: val_loss improved from 0.50482 to 0.44087, saving model to AL_Model.h5\n",
            "59/59 [==============================] - 19s 327ms/step - loss: 0.4533 - binary_accuracy: 0.8121 - false_negatives_1: 1362.0000 - false_positives_1: 1456.0000 - val_loss: 0.4409 - val_binary_accuracy: 0.8134 - val_false_negatives_1: 764.0000 - val_false_positives_1: 169.0000\n",
            "Epoch 3/20\n",
            "59/59 [==============================] - ETA: 0s - loss: 0.3932 - binary_accuracy: 0.8425 - false_negatives_1: 1126.0000 - false_positives_1: 1236.0000\n",
            "Epoch 3: val_loss improved from 0.44087 to 0.35281, saving model to AL_Model.h5\n",
            "59/59 [==============================] - 19s 316ms/step - loss: 0.3932 - binary_accuracy: 0.8425 - false_negatives_1: 1126.0000 - false_positives_1: 1236.0000 - val_loss: 0.3528 - val_binary_accuracy: 0.8480 - val_false_negatives_1: 345.0000 - val_false_positives_1: 415.0000\n",
            "Epoch 4/20\n",
            "59/59 [==============================] - ETA: 0s - loss: 0.3539 - binary_accuracy: 0.8643 - false_negatives_1: 942.0000 - false_positives_1: 1094.0000\n",
            "Epoch 4: val_loss did not improve from 0.35281\n",
            "59/59 [==============================] - 19s 314ms/step - loss: 0.3539 - binary_accuracy: 0.8643 - false_negatives_1: 942.0000 - false_positives_1: 1094.0000 - val_loss: 0.3532 - val_binary_accuracy: 0.8458 - val_false_negatives_1: 406.0000 - val_false_positives_1: 365.0000\n",
            "Epoch 5/20\n",
            "59/59 [==============================] - ETA: 0s - loss: 0.3221 - binary_accuracy: 0.8737 - false_negatives_1: 879.0000 - false_positives_1: 1016.0000\n",
            "Epoch 5: val_loss improved from 0.35281 to 0.34870, saving model to AL_Model.h5\n",
            "59/59 [==============================] - 18s 313ms/step - loss: 0.3221 - binary_accuracy: 0.8737 - false_negatives_1: 879.0000 - false_positives_1: 1016.0000 - val_loss: 0.3487 - val_binary_accuracy: 0.8484 - val_false_negatives_1: 346.0000 - val_false_positives_1: 412.0000\n",
            "Epoch 6/20\n",
            "59/59 [==============================] - ETA: 0s - loss: 0.3014 - binary_accuracy: 0.8889 - false_negatives_1: 763.0000 - false_positives_1: 903.0000\n",
            "Epoch 6: val_loss did not improve from 0.34870\n",
            "59/59 [==============================] - 19s 317ms/step - loss: 0.3014 - binary_accuracy: 0.8889 - false_negatives_1: 763.0000 - false_positives_1: 903.0000 - val_loss: 0.3914 - val_binary_accuracy: 0.8382 - val_false_negatives_1: 508.0000 - val_false_positives_1: 301.0000\n",
            "Epoch 7/20\n",
            "59/59 [==============================] - ETA: 0s - loss: 0.2822 - binary_accuracy: 0.8964 - false_negatives_1: 724.0000 - false_positives_1: 830.0000\n",
            "Epoch 7: val_loss did not improve from 0.34870\n",
            "59/59 [==============================] - 19s 318ms/step - loss: 0.2822 - binary_accuracy: 0.8964 - false_negatives_1: 724.0000 - false_positives_1: 830.0000 - val_loss: 0.3797 - val_binary_accuracy: 0.8400 - val_false_negatives_1: 217.0000 - val_false_positives_1: 583.0000\n",
            "Epoch 8/20\n",
            "59/59 [==============================] - ETA: 0s - loss: 0.2640 - binary_accuracy: 0.9055 - false_negatives_1: 642.0000 - false_positives_1: 776.0000\n",
            "Epoch 8: val_loss did not improve from 0.34870\n",
            "59/59 [==============================] - 19s 325ms/step - loss: 0.2640 - binary_accuracy: 0.9055 - false_negatives_1: 642.0000 - false_positives_1: 776.0000 - val_loss: 0.3780 - val_binary_accuracy: 0.8418 - val_false_negatives_1: 428.0000 - val_false_positives_1: 363.0000\n",
            "Epoch 9/20\n",
            "59/59 [==============================] - ETA: 0s - loss: 0.2401 - binary_accuracy: 0.9155 - false_negatives_1: 578.0000 - false_positives_1: 689.0000\n",
            "Epoch 9: val_loss did not improve from 0.34870\n",
            "59/59 [==============================] - 19s 316ms/step - loss: 0.2401 - binary_accuracy: 0.9155 - false_negatives_1: 578.0000 - false_positives_1: 689.0000 - val_loss: 0.3829 - val_binary_accuracy: 0.8428 - val_false_negatives_1: 331.0000 - val_false_positives_1: 455.0000\n",
            "Epoch 9: early stopping\n",
            "----------------------------------------------------------------------------------------------------\n",
            "Number of zeros incorrectly classified: 351.0, Number of ones incorrectly classified: 433.0\n",
            "Sample ratio for positives: 0.5522959183673469, Sample ratio for negatives:0.4477040816326531\n",
            "Starting training with 19999 samples\n",
            "----------------------------------------------------------------------------------------------------\n",
            "Epoch 1/20\n",
            "79/79 [==============================] - ETA: 0s - loss: 0.2900 - binary_accuracy: 0.8946 - false_negatives_2: 981.0000 - false_positives_2: 1127.0000\n",
            "Epoch 1: val_loss did not improve from 0.34870\n",
            "79/79 [==============================] - 31s 318ms/step - loss: 0.2900 - binary_accuracy: 0.8946 - false_negatives_2: 981.0000 - false_positives_2: 1127.0000 - val_loss: 0.3972 - val_binary_accuracy: 0.8252 - val_false_negatives_2: 165.0000 - val_false_positives_2: 709.0000\n",
            "Epoch 2/20\n",
            "79/79 [==============================] - ETA: 0s - loss: 0.2574 - binary_accuracy: 0.9068 - false_negatives_2: 860.0000 - false_positives_2: 1003.0000\n",
            "Epoch 2: val_loss did not improve from 0.34870\n",
            "79/79 [==============================] - 24s 304ms/step - loss: 0.2574 - binary_accuracy: 0.9068 - false_negatives_2: 860.0000 - false_positives_2: 1003.0000 - val_loss: 0.3793 - val_binary_accuracy: 0.8390 - val_false_negatives_2: 370.0000 - val_false_positives_2: 435.0000\n",
            "Epoch 3/20\n",
            "79/79 [==============================] - ETA: 0s - loss: 0.2385 - binary_accuracy: 0.9181 - false_negatives_2: 769.0000 - false_positives_2: 868.0000\n",
            "Epoch 3: val_loss did not improve from 0.34870\n",
            "79/79 [==============================] - 25s 313ms/step - loss: 0.2385 - binary_accuracy: 0.9181 - false_negatives_2: 769.0000 - false_positives_2: 868.0000 - val_loss: 0.3904 - val_binary_accuracy: 0.8414 - val_false_negatives_2: 418.0000 - val_false_positives_2: 375.0000\n",
            "Epoch 4/20\n",
            "79/79 [==============================] - ETA: 0s - loss: 0.2179 - binary_accuracy: 0.9283 - false_negatives_2: 691.0000 - false_positives_2: 743.0000\n",
            "Epoch 4: val_loss did not improve from 0.34870\n",
            "79/79 [==============================] - 24s 310ms/step - loss: 0.2179 - binary_accuracy: 0.9283 - false_negatives_2: 691.0000 - false_positives_2: 743.0000 - val_loss: 0.3814 - val_binary_accuracy: 0.8440 - val_false_negatives_2: 406.0000 - val_false_positives_2: 374.0000\n",
            "Epoch 5/20\n",
            "79/79 [==============================] - ETA: 0s - loss: 0.2055 - binary_accuracy: 0.9316 - false_negatives_2: 639.0000 - false_positives_2: 728.0000\n",
            "Epoch 5: val_loss did not improve from 0.34870\n",
            "79/79 [==============================] - 24s 306ms/step - loss: 0.2055 - binary_accuracy: 0.9316 - false_negatives_2: 639.0000 - false_positives_2: 728.0000 - val_loss: 0.4786 - val_binary_accuracy: 0.8330 - val_false_negatives_2: 470.0000 - val_false_positives_2: 365.0000\n",
            "Epoch 6/20\n",
            "79/79 [==============================] - ETA: 0s - loss: 0.1853 - binary_accuracy: 0.9386 - false_negatives_2: 599.0000 - false_positives_2: 629.0000\n",
            "Epoch 6: val_loss did not improve from 0.34870\n",
            "79/79 [==============================] - 24s 306ms/step - loss: 0.1853 - binary_accuracy: 0.9386 - false_negatives_2: 599.0000 - false_positives_2: 629.0000 - val_loss: 0.4880 - val_binary_accuracy: 0.8240 - val_false_negatives_2: 580.0000 - val_false_positives_2: 300.0000\n",
            "Epoch 6: early stopping\n",
            "----------------------------------------------------------------------------------------------------\n",
            "Number of zeros incorrectly classified: 342.0, Number of ones incorrectly classified: 408.0\n",
            "Sample ratio for positives: 0.544, Sample ratio for negatives:0.456\n",
            "Starting training with 24999 samples\n",
            "----------------------------------------------------------------------------------------------------\n",
            "Epoch 1/20\n",
            "98/98 [==============================] - ETA: 0s - loss: 0.3456 - binary_accuracy: 0.8656 - false_negatives_3: 1529.0000 - false_positives_3: 1832.0000\n",
            "Epoch 1: val_loss improved from 0.34870 to 0.34255, saving model to AL_Model.h5\n",
            "98/98 [==============================] - 37s 322ms/step - loss: 0.3456 - binary_accuracy: 0.8656 - false_negatives_3: 1529.0000 - false_positives_3: 1832.0000 - val_loss: 0.3426 - val_binary_accuracy: 0.8490 - val_false_negatives_3: 234.0000 - val_false_positives_3: 521.0000\n",
            "Epoch 2/20\n",
            "98/98 [==============================] - ETA: 0s - loss: 0.3087 - binary_accuracy: 0.8818 - false_negatives_3: 1362.0000 - false_positives_3: 1593.0000\n",
            "Epoch 2: val_loss did not improve from 0.34255\n",
            "98/98 [==============================] - 29s 301ms/step - loss: 0.3087 - binary_accuracy: 0.8818 - false_negatives_3: 1362.0000 - false_positives_3: 1593.0000 - val_loss: 0.3701 - val_binary_accuracy: 0.8410 - val_false_negatives_3: 585.0000 - val_false_positives_3: 210.0000\n",
            "Epoch 3/20\n",
            "98/98 [==============================] - ETA: 0s - loss: 0.2888 - binary_accuracy: 0.8901 - false_negatives_3: 1301.0000 - false_positives_3: 1447.0000\n",
            "Epoch 3: val_loss did not improve from 0.34255\n",
            "98/98 [==============================] - 30s 303ms/step - loss: 0.2888 - binary_accuracy: 0.8901 - false_negatives_3: 1301.0000 - false_positives_3: 1447.0000 - val_loss: 0.3474 - val_binary_accuracy: 0.8536 - val_false_negatives_3: 332.0000 - val_false_positives_3: 400.0000\n",
            "Epoch 4/20\n",
            "98/98 [==============================] - ETA: 0s - loss: 0.2725 - binary_accuracy: 0.9014 - false_negatives_3: 1183.0000 - false_positives_3: 1283.0000\n",
            "Epoch 4: val_loss did not improve from 0.34255\n",
            "98/98 [==============================] - 30s 301ms/step - loss: 0.2725 - binary_accuracy: 0.9014 - false_negatives_3: 1183.0000 - false_positives_3: 1283.0000 - val_loss: 0.3512 - val_binary_accuracy: 0.8480 - val_false_negatives_3: 482.0000 - val_false_positives_3: 278.0000\n",
            "Epoch 5/20\n",
            "98/98 [==============================] - ETA: 0s - loss: 0.2529 - binary_accuracy: 0.9070 - false_negatives_3: 1120.0000 - false_positives_3: 1206.0000\n",
            "Epoch 5: val_loss did not improve from 0.34255\n",
            "98/98 [==============================] - 30s 308ms/step - loss: 0.2529 - binary_accuracy: 0.9070 - false_negatives_3: 1120.0000 - false_positives_3: 1206.0000 - val_loss: 0.3615 - val_binary_accuracy: 0.8526 - val_false_negatives_3: 431.0000 - val_false_positives_3: 306.0000\n",
            "Epoch 5: early stopping\n",
            "----------------------------------------------------------------------------------------------------\n",
            "Number of zeros incorrectly classified: 253.0, Number of ones incorrectly classified: 503.0\n",
            "Sample ratio for positives: 0.6653439153439153, Sample ratio for negatives:0.33465608465608465\n",
            "Starting training with 29998 samples\n",
            "----------------------------------------------------------------------------------------------------\n",
            "Epoch 1/20\n",
            "118/118 [==============================] - ETA: 0s - loss: 0.3264 - binary_accuracy: 0.8729 - false_negatives_4: 1771.0000 - false_positives_4: 2042.0000\n",
            "Epoch 1: val_loss did not improve from 0.34255\n",
            "118/118 [==============================] - 43s 321ms/step - loss: 0.3264 - binary_accuracy: 0.8729 - false_negatives_4: 1771.0000 - false_positives_4: 2042.0000 - val_loss: 0.4003 - val_binary_accuracy: 0.8280 - val_false_negatives_4: 701.0000 - val_false_positives_4: 159.0000\n",
            "Epoch 2/20\n",
            "118/118 [==============================] - ETA: 0s - loss: 0.2989 - binary_accuracy: 0.8865 - false_negatives_4: 1572.0000 - false_positives_4: 1832.0000\n",
            "Epoch 2: val_loss did not improve from 0.34255\n",
            "118/118 [==============================] - 35s 296ms/step - loss: 0.2989 - binary_accuracy: 0.8865 - false_negatives_4: 1572.0000 - false_positives_4: 1832.0000 - val_loss: 0.3660 - val_binary_accuracy: 0.8386 - val_false_negatives_4: 174.0000 - val_false_positives_4: 633.0000\n",
            "Epoch 3/20\n",
            "118/118 [==============================] - ETA: 0s - loss: 0.2779 - binary_accuracy: 0.8973 - false_negatives_4: 1453.0000 - false_positives_4: 1629.0000\n",
            "Epoch 3: val_loss did not improve from 0.34255\n",
            "118/118 [==============================] - 36s 302ms/step - loss: 0.2779 - binary_accuracy: 0.8973 - false_negatives_4: 1453.0000 - false_positives_4: 1629.0000 - val_loss: 0.4002 - val_binary_accuracy: 0.8292 - val_false_negatives_4: 136.0000 - val_false_positives_4: 718.0000\n",
            "Epoch 4/20\n",
            "118/118 [==============================] - ETA: 0s - loss: 0.2609 - binary_accuracy: 0.9039 - false_negatives_4: 1335.0000 - false_positives_4: 1547.0000\n",
            "Epoch 4: val_loss did not improve from 0.34255\n",
            "118/118 [==============================] - 35s 297ms/step - loss: 0.2609 - binary_accuracy: 0.9039 - false_negatives_4: 1335.0000 - false_positives_4: 1547.0000 - val_loss: 0.3430 - val_binary_accuracy: 0.8530 - val_false_negatives_4: 400.0000 - val_false_positives_4: 335.0000\n",
            "Epoch 5/20\n",
            "118/118 [==============================] - ETA: 0s - loss: 0.2432 - binary_accuracy: 0.9141 - false_negatives_4: 1205.0000 - false_positives_4: 1373.0000\n",
            "Epoch 5: val_loss did not improve from 0.34255\n",
            "118/118 [==============================] - 35s 297ms/step - loss: 0.2432 - binary_accuracy: 0.9141 - false_negatives_4: 1205.0000 - false_positives_4: 1373.0000 - val_loss: 0.4332 - val_binary_accuracy: 0.8320 - val_false_negatives_4: 173.0000 - val_false_positives_4: 667.0000\n",
            "Epoch 6/20\n",
            "118/118 [==============================] - ETA: 0s - loss: 0.2319 - binary_accuracy: 0.9199 - false_negatives_4: 1112.0000 - false_positives_4: 1292.0000\n",
            "Epoch 6: val_loss did not improve from 0.34255\n",
            "118/118 [==============================] - 35s 297ms/step - loss: 0.2319 - binary_accuracy: 0.9199 - false_negatives_4: 1112.0000 - false_positives_4: 1292.0000 - val_loss: 0.3840 - val_binary_accuracy: 0.8502 - val_false_negatives_4: 289.0000 - val_false_positives_4: 460.0000\n",
            "Epoch 7/20\n",
            "118/118 [==============================] - ETA: 0s - loss: 0.2161 - binary_accuracy: 0.9254 - false_negatives_4: 1035.0000 - false_positives_4: 1203.0000\n",
            "Epoch 7: val_loss did not improve from 0.34255\n",
            "118/118 [==============================] - 35s 300ms/step - loss: 0.2161 - binary_accuracy: 0.9254 - false_negatives_4: 1035.0000 - false_positives_4: 1203.0000 - val_loss: 0.4020 - val_binary_accuracy: 0.8498 - val_false_negatives_4: 339.0000 - val_false_positives_4: 412.0000\n",
            "Epoch 8/20\n",
            "118/118 [==============================] - ETA: 0s - loss: 0.2012 - binary_accuracy: 0.9320 - false_negatives_4: 961.0000 - false_positives_4: 1079.0000\n",
            "Epoch 8: val_loss did not improve from 0.34255\n",
            "118/118 [==============================] - 35s 297ms/step - loss: 0.2012 - binary_accuracy: 0.9320 - false_negatives_4: 961.0000 - false_positives_4: 1079.0000 - val_loss: 0.4029 - val_binary_accuracy: 0.8476 - val_false_negatives_4: 316.0000 - val_false_positives_4: 446.0000\n",
            "Epoch 8: early stopping\n"
          ]
        },
        {
          "output_type": "display_data",
          "data": {
            "text/plain": [
              "<Figure size 432x288 with 1 Axes>"
            ],
            "image/png": "[encoded data removed]"
          },
          "metadata": {
            "needs_background": "light"
          }
        },
        {
          "output_type": "display_data",
          "data": {
            "text/plain": [
              "<Figure size 432x288 with 1 Axes>"
            ],
            "image/png": "[encoded data removed]"
          },
          "metadata": {
            "needs_background": "light"
          }
        },
        {
          "output_type": "stream",
          "name": "stdout",
          "text": [
            "----------------------------------------------------------------------------------------------------\n",
            "Test set evaluation:  {'loss': 0.34516727924346924, 'binary_accuracy': 0.848800003528595, 'false_negatives_3': 253.0, 'false_positives_3': 503.0}\n",
            "----------------------------------------------------------------------------------------------------\n"
          ]
        }
      ]
    },
    {
      "cell_type": "markdown",
      "source": [
        "## 07. 결론\n",
        "-  능동 학습을 사용하면 많은 양의 데이터에 주석을 달 필요가 없으므로 리소스를 절약할 수 있는 비용 효율성 면에서 이점을 보여준다"
      ],
      "metadata": {
        "id": "5re8qnAos8VE"
      }
    }
  ]
}