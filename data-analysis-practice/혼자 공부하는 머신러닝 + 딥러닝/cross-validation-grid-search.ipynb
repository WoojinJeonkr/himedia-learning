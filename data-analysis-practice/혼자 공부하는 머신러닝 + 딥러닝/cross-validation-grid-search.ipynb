{
 "cells": [
  {
   "cell_type": "markdown",
   "metadata": {},
   "source": [
    "# 1. 검증 세트"
   ]
  },
  {
   "cell_type": "markdown",
   "metadata": {},
   "source": [
    "- 하이퍼파라미터 튜닝을 위해 모델을 평가할 때, 테스트 세트를 사용하지 않기 위해 훈련 세트에서 다시 떼어낸 데이터 세트\n",
    "- 보통 20% ~ 30%를 테스트 세트와 검증 세트로 분류\n",
    "- 훈련 데이터가 아주 많다면 단 몇 %만 떼어 놓아도 전체 데이터를 대표하는데 문제가 없다"
   ]
  },
  {
   "cell_type": "markdown",
   "metadata": {},
   "source": [
    "# 2. 교차 검증"
   ]
  },
  {
   "cell_type": "markdown",
   "metadata": {},
   "source": [
    "- 훈련 세트를 여러 폴드로 나눈 다음 한 폴드가 검증 세트의 역할을 하고 나머지 폴드에서는 모델을 훈련   \n",
    "이런 식으로 모든 폴드에 대해 검증 점수를 얻어 평균하는 방법"
   ]
  },
  {
   "cell_type": "markdown",
   "metadata": {},
   "source": [
    "## 1) k-fold cross validation"
   ]
  },
  {
   "cell_type": "markdown",
   "metadata": {},
   "source": [
    "- 훈련 세트를 k 부분으로 나눠서 교차검증을 수행하는 것\n",
    "- cross_validate() : 훈련 세트를 섞어 폴드를 나누지 않는다\n",
    "- 교차 검증 시 훈련 세트를 섞으려면 분할기를 지정해야 한다\n",
    "- cross_validate() 함수는 기본적으로 회귀 모델일 경우 KFold 분할기를 사용   \n",
    "분류 모델일 경우 타깃 클래스를 골고루 나누기 위해 StratifiedKFold를 사용"
   ]
  },
  {
   "cell_type": "markdown",
   "metadata": {},
   "source": [
    "### cross_validate()"
   ]
  },
  {
   "cell_type": "markdown",
   "metadata": {},
   "source": [
    "- 첫번째 매개변수에 교차 검증을 수행할 모델 객체 전달\n",
    "- 두번째와 세번째 매개변수에 특성과 타깃 데이터 전달\n",
    "- scoring 매개변수에 검증에 사용할 평가 지표를 지정할 수 있음\n",
    "- cv 매개변수: 교차 검증 폴드 수나 스플리터 객체 지정 가능, default = 5   \n",
    "    회귀: kFold   \n",
    "    분류: StratifiedKFold\n",
    "- n_jobs 매개변수: 교차 검증 수행 시 사용할 CPU 코어 수 지정, default = 1   \n",
    "  n_jobs = -1 : 시스템에 있는 모든 코어 사용   \n",
    "- return_train_score = True : 훈련 세트의 점수 반환, default = False"
   ]
  },
  {
   "cell_type": "markdown",
   "metadata": {},
   "source": [
    "# 3. 하이퍼파라미터 튜닝"
   ]
  },
  {
   "cell_type": "markdown",
   "metadata": {},
   "source": [
    "- 모델 파라미터: 머신러닝 모델이 학습하는 파라미터\n",
    "- 하이퍼파라미터: 모델이 학습할 수 없어서 사용자가 지정해야만 하는 파라미터   \n",
    "--> 사이킷런과 같은 머신러닝 라이브러리를 사용할 때 이런 하이퍼파라미터는 모두 클래스나 메서드의 매개변수로 표현됨"
   ]
  },
  {
   "cell_type": "markdown",
   "metadata": {},
   "source": [
    "# 4. 그리드 서치 (Grid Search)"
   ]
  },
  {
   "cell_type": "markdown",
   "metadata": {},
   "source": [
    "- 하이퍼파라미터 탐색을 자동화해 주는 도구\n",
    "- 탐색할 매개변수를 나열하면 교차 검증을 수행하여 가장 좋은 검증 점수의 매개변수 조합을 선택\n",
    "- 마지막으로 이 매개 변수 조합으로 최종 모델을 훈련"
   ]
  },
  {
   "cell_type": "markdown",
   "metadata": {},
   "source": [
    "### GridSearchCV"
   ]
  },
  {
   "cell_type": "markdown",
   "metadata": {},
   "source": [
    "- 최상의 모델을 찾은 후 훈련 세트 전체를 사용해 최종 모델을 훈련\n",
    "- 첫번째 매개변수: 그리드 서치를 수행할 모델 객체 전달\n",
    "- 두번째 매개변수: 탐색할 모델의 매개변수와 값을 전달\n",
    "- scoring, cv, n_jobs, return_train_score 매개변수의 역할은 cross_validate() 함수와 동일"
   ]
  },
  {
   "cell_type": "markdown",
   "metadata": {},
   "source": [
    "# 5. 랜덤 서치 (Random Search)"
   ]
  },
  {
   "cell_type": "markdown",
   "metadata": {},
   "source": [
    "- 연속된 매개변수 값을 탐색할 경우 유용\n",
    "- 탐색할 값 직접 나열 x\n",
    "- 교차검증 수행하여 가장 좋은 검증 점수의 매개변수 조합 선택\n",
    "- 지정된 횟수만큼 샘플링하여 교차 검증 수행 --> 시스템 자원이 허락하는만큼 탐색량 조절 가능"
   ]
  },
  {
   "cell_type": "markdown",
   "metadata": {},
   "source": [
    "### RandomizedSearchCV"
   ]
  },
  {
   "cell_type": "markdown",
   "metadata": {},
   "source": [
    "- 최상의 모델을 찾은 후 훈련 세트 전체를 사용해 최종 모델을 훈련\n",
    "- 첫번째 매개변수로 Grid Search를 수행할 모델 객체를 전달\n",
    "- 두번째 매개변수에는 탐색할 모델의 매개변수와 확률 분포 객체를 전달\n",
    "- scoring, cv, n_jobs, return_train_score 매개변수의 역할은 cross_validate() 함수와 동일"
   ]
  }
 ],
 "metadata": {
  "kernelspec": {
   "display_name": "Python 3",
   "language": "python",
   "name": "python3"
  },
  "language_info": {
   "codemirror_mode": {
    "name": "ipython",
    "version": 3
   },
   "file_extension": ".py",
   "mimetype": "text/x-python",
   "name": "python",
   "nbconvert_exporter": "python",
   "pygments_lexer": "ipython3",
   "version": "3.7.0"
  }
 },
 "nbformat": 4,
 "nbformat_minor": 2
}
