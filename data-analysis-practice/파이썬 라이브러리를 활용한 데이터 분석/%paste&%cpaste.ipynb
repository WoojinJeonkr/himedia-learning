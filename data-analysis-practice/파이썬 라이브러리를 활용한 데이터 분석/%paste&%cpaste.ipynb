{
 "cells": [
  {
   "cell_type": "code",
   "execution_count": null,
   "metadata": {},
   "outputs": [],
   "source": [
    "# %paste\n",
    "# 클립보드에 있는 텍스트를 단일블록으로 실행"
   ]
  },
  {
   "cell_type": "code",
   "execution_count": 2,
   "metadata": {},
   "outputs": [],
   "source": [
    "# %cpaste\n",
    "# 코드를 붙여 넣을 때 특수한 프롬프트를 제공\n",
    "# 실행 전에 코드를 마음껏 붙여 넣을 수 있다\n",
    "# --> 붙여넣은 코드를 실행하기 전에 한 번 살펴보기 위해 사용\n",
    "# 실수로 잘못된 코드를 붙여 넣었다면 Ctrl+c를 눌러 %cpaste 프롬프트를 빠져나올 수 있다"
   ]
  }
 ],
 "metadata": {
  "kernelspec": {
   "display_name": "Python 3",
   "language": "python",
   "name": "python3"
  },
  "language_info": {
   "codemirror_mode": {
    "name": "ipython",
    "version": 3
   },
   "file_extension": ".py",
   "mimetype": "text/x-python",
   "name": "python",
   "nbconvert_exporter": "python",
   "pygments_lexer": "ipython3",
   "version": "3.7.0"
  }
 },
 "nbformat": 4,
 "nbformat_minor": 2
}
