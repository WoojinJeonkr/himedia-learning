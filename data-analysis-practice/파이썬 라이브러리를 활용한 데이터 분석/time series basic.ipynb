{
 "cells": [
  {
   "cell_type": "code",
   "execution_count": 1,
   "metadata": {},
   "outputs": [],
   "source": [
    "# pandas에서 찾아볼 수 있는 가장 기본적인 시계열 객체의 종류\n",
    "# 파이썬 문자열\n",
    "# datetime 객체로 표현되는 타임스태므포 색인된 Series"
   ]
  },
  {
   "cell_type": "code",
   "execution_count": 2,
   "metadata": {},
   "outputs": [],
   "source": [
    "import pandas as pd\n",
    "import numpy as np\n",
    "from datetime import datetime"
   ]
  },
  {
   "cell_type": "code",
   "execution_count": 3,
   "metadata": {},
   "outputs": [],
   "source": [
    "dates = [datetime(2011, 1, 2), datetime(2011, 1, 5), datetime(2011, 1, 7), \n",
    "         datetime(2011, 1, 8), datetime(2011, 1, 10), datetime(2011, 1, 12)]"
   ]
  },
  {
   "cell_type": "code",
   "execution_count": 4,
   "metadata": {},
   "outputs": [
    {
     "data": {
      "text/plain": [
       "2011-01-02    1.952312\n",
       "2011-01-05   -0.483189\n",
       "2011-01-07    0.716732\n",
       "2011-01-08   -1.192234\n",
       "2011-01-10    0.119003\n",
       "2011-01-12   -0.141504\n",
       "dtype: float64"
      ]
     },
     "execution_count": 4,
     "metadata": {},
     "output_type": "execute_result"
    }
   ],
   "source": [
    "ts = pd.Series(np.random.randn(6), index=dates)\n",
    "ts"
   ]
  },
  {
   "cell_type": "code",
   "execution_count": 5,
   "metadata": {},
   "outputs": [
    {
     "data": {
      "text/plain": [
       "DatetimeIndex(['2011-01-02', '2011-01-05', '2011-01-07', '2011-01-08',\n",
       "               '2011-01-10', '2011-01-12'],\n",
       "              dtype='datetime64[ns]', freq=None)"
      ]
     },
     "execution_count": 5,
     "metadata": {},
     "output_type": "execute_result"
    }
   ],
   "source": [
    "ts.index"
   ]
  },
  {
   "cell_type": "code",
   "execution_count": 7,
   "metadata": {},
   "outputs": [
    {
     "data": {
      "text/plain": [
       "2011-01-02    3.904623\n",
       "2011-01-05         NaN\n",
       "2011-01-07    1.433464\n",
       "2011-01-08         NaN\n",
       "2011-01-10    0.238005\n",
       "2011-01-12         NaN\n",
       "dtype: float64"
      ]
     },
     "execution_count": 7,
     "metadata": {},
     "output_type": "execute_result"
    }
   ],
   "source": [
    "ts + ts[::2] # ts[::2] : ts에서 매 2번째 항목 선택"
   ]
  },
  {
   "cell_type": "code",
   "execution_count": 8,
   "metadata": {},
   "outputs": [
    {
     "data": {
      "text/plain": [
       "\u001b[1;31mType:\u001b[0m        DatetimeIndex\n",
       "\u001b[1;31mString form:\u001b[0m\n",
       "DatetimeIndex(['2011-01-02', '2011-01-05', '2011-01-07', '2011-01-08',\n",
       "               '2011-01-10', '2011-01-12'],\n",
       "              dtype='datetime64[ns]', freq=None)\n",
       "\u001b[1;31mLength:\u001b[0m      6\n",
       "\u001b[1;31mFile:\u001b[0m        c:\\users\\user\\anaconda3\\lib\\site-packages\\pandas\\core\\indexes\\datetimes.py\n",
       "\u001b[1;31mDocstring:\u001b[0m  \n",
       "Immutable ndarray of datetime64 data, represented internally as int64, and\n",
       "which can be boxed to Timestamp objects that are subclasses of datetime and\n",
       "carry metadata such as frequency information.\n",
       "\n",
       "Parameters\n",
       "----------\n",
       "data  : array-like (1-dimensional), optional\n",
       "    Optional datetime-like data to construct index with\n",
       "copy  : bool\n",
       "    Make a copy of input ndarray\n",
       "freq : string or pandas offset object, optional\n",
       "    One of pandas date offset strings or corresponding objects\n",
       "start : starting value, datetime-like, optional\n",
       "    If data is None, start is used as the start point in generating regular\n",
       "    timestamp data.\n",
       "periods  : int, optional, > 0\n",
       "    Number of periods to generate, if generating index. Takes precedence\n",
       "    over end argument\n",
       "end   : end time, datetime-like, optional\n",
       "    If periods is none, generated index will extend to first conforming\n",
       "    time on or just past end argument\n",
       "closed : string or None, default None\n",
       "    Make the interval closed with respect to the given frequency to\n",
       "    the 'left', 'right', or both sides (None)\n",
       "tz : pytz.timezone or dateutil.tz.tzfile\n",
       "ambiguous : 'infer', bool-ndarray, 'NaT', default 'raise'\n",
       "    - 'infer' will attempt to infer fall dst-transition hours based on\n",
       "      order\n",
       "    - bool-ndarray where True signifies a DST time, False signifies a\n",
       "      non-DST time (note that this flag is only applicable for ambiguous\n",
       "      times)\n",
       "    - 'NaT' will return NaT where there are ambiguous times\n",
       "    - 'raise' will raise an AmbiguousTimeError if there are ambiguous times\n",
       "name : object\n",
       "    Name to be stored in the index\n",
       "dayfirst : bool, default False\n",
       "    If True, parse dates in `data` with the day first order\n",
       "yearfirst : bool, default False\n",
       "    If True parse dates in `data` with the year first order\n",
       "\n",
       "Attributes\n",
       "----------\n",
       "year\n",
       "month\n",
       "day\n",
       "hour\n",
       "minute\n",
       "second\n",
       "microsecond\n",
       "nanosecond\n",
       "date\n",
       "time\n",
       "dayofyear\n",
       "weekofyear\n",
       "week\n",
       "dayofweek\n",
       "weekday\n",
       "quarter\n",
       "tz\n",
       "freq\n",
       "freqstr\n",
       "is_month_start\n",
       "is_month_end\n",
       "is_quarter_start\n",
       "is_quarter_end\n",
       "is_year_start\n",
       "is_year_end\n",
       "is_leap_year\n",
       "inferred_freq\n",
       "\n",
       "Methods\n",
       "-------\n",
       "normalize\n",
       "strftime\n",
       "snap\n",
       "tz_convert\n",
       "tz_localize\n",
       "round\n",
       "floor\n",
       "ceil\n",
       "to_period\n",
       "to_perioddelta\n",
       "to_pydatetime\n",
       "to_series\n",
       "to_frame\n",
       "month_name\n",
       "day_name\n",
       "\n",
       "Notes\n",
       "-----\n",
       "To learn more about the frequency strings, please see `this link\n",
       "<http://pandas.pydata.org/pandas-docs/stable/timeseries.html#offset-aliases>`__.\n",
       "\n",
       "See Also\n",
       "---------\n",
       "Index : The base pandas Index type\n",
       "TimedeltaIndex : Index of timedelta64 data\n",
       "PeriodIndex : Index of Period data\n",
       "pandas.to_datetime : Convert argument to datetime\n"
      ]
     },
     "metadata": {},
     "output_type": "display_data"
    }
   ],
   "source": [
    "ts.index?"
   ]
  },
  {
   "cell_type": "code",
   "execution_count": 9,
   "metadata": {},
   "outputs": [
    {
     "data": {
      "text/plain": [
       "dtype('<M8[ns]')"
      ]
     },
     "execution_count": 9,
     "metadata": {},
     "output_type": "execute_result"
    }
   ],
   "source": [
    "ts.index.dtype"
   ]
  },
  {
   "cell_type": "code",
   "execution_count": 11,
   "metadata": {},
   "outputs": [
    {
     "data": {
      "text/plain": [
       "Timestamp('2011-01-02 00:00:00')"
      ]
     },
     "execution_count": 11,
     "metadata": {},
     "output_type": "execute_result"
    }
   ],
   "source": [
    "stamp = ts.index[0]\n",
    "stamp"
   ]
  },
  {
   "cell_type": "code",
   "execution_count": 13,
   "metadata": {},
   "outputs": [
    {
     "data": {
      "text/plain": [
       "0.7167319014716679"
      ]
     },
     "execution_count": 13,
     "metadata": {},
     "output_type": "execute_result"
    }
   ],
   "source": [
    "stamp1 = ts.index[2]\n",
    "ts[stamp1]"
   ]
  },
  {
   "cell_type": "code",
   "execution_count": 14,
   "metadata": {},
   "outputs": [
    {
     "data": {
      "text/plain": [
       "0.11900265715557576"
      ]
     },
     "execution_count": 14,
     "metadata": {},
     "output_type": "execute_result"
    }
   ],
   "source": [
    "ts['1/10/2011']"
   ]
  },
  {
   "cell_type": "code",
   "execution_count": 15,
   "metadata": {},
   "outputs": [
    {
     "data": {
      "text/plain": [
       "0.11900265715557576"
      ]
     },
     "execution_count": 15,
     "metadata": {},
     "output_type": "execute_result"
    }
   ],
   "source": [
    "ts['20110110']"
   ]
  },
  {
   "cell_type": "code",
   "execution_count": 16,
   "metadata": {},
   "outputs": [],
   "source": [
    "# 긴 시게열에서는 연을 넘기거나  연, 월만 넘겨서 데이터의 일부 구간만 선택 가능하다"
   ]
  },
  {
   "cell_type": "code",
   "execution_count": 17,
   "metadata": {},
   "outputs": [
    {
     "data": {
      "text/plain": [
       "2000-01-01   -0.308721\n",
       "2000-01-02    1.106333\n",
       "2000-01-03   -0.276597\n",
       "2000-01-04    0.696936\n",
       "2000-01-05   -0.275215\n",
       "2000-01-06   -1.462139\n",
       "2000-01-07    0.894154\n",
       "2000-01-08   -0.517158\n",
       "2000-01-09    0.060558\n",
       "2000-01-10   -0.598083\n",
       "2000-01-11    0.218089\n",
       "2000-01-12    1.136964\n",
       "2000-01-13    2.614146\n",
       "2000-01-14    1.912285\n",
       "2000-01-15    1.584475\n",
       "2000-01-16   -0.032154\n",
       "2000-01-17    0.390627\n",
       "2000-01-18   -0.410297\n",
       "2000-01-19   -0.024325\n",
       "2000-01-20   -1.032267\n",
       "2000-01-21    0.056259\n",
       "2000-01-22    1.053066\n",
       "2000-01-23   -1.544513\n",
       "2000-01-24    1.068685\n",
       "2000-01-25   -0.405022\n",
       "2000-01-26   -0.988593\n",
       "2000-01-27    0.769131\n",
       "2000-01-28    1.170274\n",
       "2000-01-29   -1.219019\n",
       "2000-01-30    0.484329\n",
       "                ...   \n",
       "2002-08-28   -0.481907\n",
       "2002-08-29    0.350017\n",
       "2002-08-30   -0.591788\n",
       "2002-08-31    1.820477\n",
       "2002-09-01   -0.591799\n",
       "2002-09-02    0.935771\n",
       "2002-09-03    0.722854\n",
       "2002-09-04    0.163503\n",
       "2002-09-05    1.090764\n",
       "2002-09-06   -0.138404\n",
       "2002-09-07    0.055183\n",
       "2002-09-08   -1.100811\n",
       "2002-09-09    0.544373\n",
       "2002-09-10   -1.117469\n",
       "2002-09-11    0.453792\n",
       "2002-09-12   -1.253683\n",
       "2002-09-13    1.668134\n",
       "2002-09-14   -0.848750\n",
       "2002-09-15   -0.279826\n",
       "2002-09-16    0.850857\n",
       "2002-09-17   -0.164447\n",
       "2002-09-18    2.665184\n",
       "2002-09-19    0.049709\n",
       "2002-09-20    1.524842\n",
       "2002-09-21   -0.334298\n",
       "2002-09-22   -0.972142\n",
       "2002-09-23    0.778732\n",
       "2002-09-24    0.485678\n",
       "2002-09-25   -0.878274\n",
       "2002-09-26    1.146787\n",
       "Freq: D, Length: 1000, dtype: float64"
      ]
     },
     "execution_count": 17,
     "metadata": {},
     "output_type": "execute_result"
    }
   ],
   "source": [
    "longer_ts = pd.Series(np.random.randn(1000), index=pd.date_range('1/1/2000', periods=1000))\n",
    "longer_ts"
   ]
  },
  {
   "cell_type": "code",
   "execution_count": 19,
   "metadata": {},
   "outputs": [
    {
     "data": {
      "text/plain": [
       "2001-01-01   -0.960371\n",
       "2001-01-02   -0.884875\n",
       "2001-01-03   -0.468372\n",
       "2001-01-04    0.783914\n",
       "2001-01-05   -1.524300\n",
       "2001-01-06    0.848238\n",
       "2001-01-07   -1.935327\n",
       "2001-01-08   -0.985698\n",
       "2001-01-09   -0.394100\n",
       "2001-01-10    0.315314\n",
       "2001-01-11    0.045121\n",
       "2001-01-12    1.336223\n",
       "2001-01-13   -0.223626\n",
       "2001-01-14    1.297252\n",
       "2001-01-15    0.749902\n",
       "2001-01-16   -0.860311\n",
       "2001-01-17   -0.036739\n",
       "2001-01-18   -0.850804\n",
       "2001-01-19    0.505892\n",
       "2001-01-20   -0.129657\n",
       "2001-01-21   -1.860468\n",
       "2001-01-22   -1.875861\n",
       "2001-01-23   -0.135817\n",
       "2001-01-24   -1.784538\n",
       "2001-01-25    2.164424\n",
       "2001-01-26    0.888289\n",
       "2001-01-27   -1.868406\n",
       "2001-01-28    0.277372\n",
       "2001-01-29    1.814307\n",
       "2001-01-30   -0.209179\n",
       "                ...   \n",
       "2001-12-02   -1.341267\n",
       "2001-12-03   -0.199891\n",
       "2001-12-04   -1.966055\n",
       "2001-12-05    0.473501\n",
       "2001-12-06    1.086710\n",
       "2001-12-07    0.119668\n",
       "2001-12-08   -1.648664\n",
       "2001-12-09    0.249018\n",
       "2001-12-10    0.188876\n",
       "2001-12-11    0.718830\n",
       "2001-12-12    1.308562\n",
       "2001-12-13   -0.022597\n",
       "2001-12-14    0.052727\n",
       "2001-12-15   -0.951289\n",
       "2001-12-16    0.149402\n",
       "2001-12-17   -0.936863\n",
       "2001-12-18    0.772959\n",
       "2001-12-19   -0.430795\n",
       "2001-12-20    0.954068\n",
       "2001-12-21    0.235973\n",
       "2001-12-22    1.427606\n",
       "2001-12-23   -0.428868\n",
       "2001-12-24   -0.790629\n",
       "2001-12-25    0.630103\n",
       "2001-12-26   -2.059911\n",
       "2001-12-27   -1.584087\n",
       "2001-12-28   -0.259183\n",
       "2001-12-29    0.274942\n",
       "2001-12-30    0.321639\n",
       "2001-12-31   -1.764209\n",
       "Freq: D, Length: 365, dtype: float64"
      ]
     },
     "execution_count": 19,
     "metadata": {},
     "output_type": "execute_result"
    }
   ],
   "source": [
    "longer_ts['2001'] \n",
    "# 문자열 '2001'은 연도로 해석되어 해당 기간 데이터 선택"
   ]
  },
  {
   "cell_type": "code",
   "execution_count": 20,
   "metadata": {},
   "outputs": [
    {
     "data": {
      "text/plain": [
       "2001-05-01    0.641451\n",
       "2001-05-02    0.409647\n",
       "2001-05-03    1.024039\n",
       "2001-05-04    0.478227\n",
       "2001-05-05    1.668099\n",
       "2001-05-06    0.456321\n",
       "2001-05-07   -1.064260\n",
       "2001-05-08   -0.006362\n",
       "2001-05-09   -1.048511\n",
       "2001-05-10    0.429491\n",
       "2001-05-11   -0.447488\n",
       "2001-05-12   -1.036133\n",
       "2001-05-13   -0.521496\n",
       "2001-05-14    0.263520\n",
       "2001-05-15   -0.639097\n",
       "2001-05-16    0.428613\n",
       "2001-05-17    1.559437\n",
       "2001-05-18   -0.091586\n",
       "2001-05-19    2.182646\n",
       "2001-05-20    0.770385\n",
       "2001-05-21   -1.410751\n",
       "2001-05-22    0.359440\n",
       "2001-05-23   -0.126035\n",
       "2001-05-24    0.022066\n",
       "2001-05-25    0.372862\n",
       "2001-05-26    0.977666\n",
       "2001-05-27   -0.273580\n",
       "2001-05-28   -0.501011\n",
       "2001-05-29    1.512508\n",
       "2001-05-30   -0.079576\n",
       "2001-05-31   -0.837784\n",
       "Freq: D, dtype: float64"
      ]
     },
     "execution_count": 20,
     "metadata": {},
     "output_type": "execute_result"
    }
   ],
   "source": [
    "longer_ts['2001-05']"
   ]
  },
  {
   "cell_type": "code",
   "execution_count": 21,
   "metadata": {},
   "outputs": [
    {
     "data": {
      "text/plain": [
       "2011-01-07    0.716732\n",
       "2011-01-08   -1.192234\n",
       "2011-01-10    0.119003\n",
       "2011-01-12   -0.141504\n",
       "dtype: float64"
      ]
     },
     "execution_count": 21,
     "metadata": {},
     "output_type": "execute_result"
    }
   ],
   "source": [
    "ts[datetime(2011, 1, 7):]"
   ]
  },
  {
   "cell_type": "code",
   "execution_count": 22,
   "metadata": {},
   "outputs": [
    {
     "data": {
      "text/plain": [
       "2011-01-02    1.952312\n",
       "2011-01-05   -0.483189\n",
       "2011-01-07    0.716732\n",
       "2011-01-08   -1.192234\n",
       "2011-01-10    0.119003\n",
       "2011-01-12   -0.141504\n",
       "dtype: float64"
      ]
     },
     "execution_count": 22,
     "metadata": {},
     "output_type": "execute_result"
    }
   ],
   "source": [
    "ts"
   ]
  },
  {
   "cell_type": "code",
   "execution_count": 24,
   "metadata": {},
   "outputs": [],
   "source": [
    "# 대부분의 시계열 데이터는 연대순으로 정렬되기 때문에 범위를 지정하기 위해 \n",
    "# 시계열을 포함하지 않고 타임스탬프를 이용해서 Series를 나눌 수 있다."
   ]
  },
  {
   "cell_type": "code",
   "execution_count": 23,
   "metadata": {},
   "outputs": [
    {
     "data": {
      "text/plain": [
       "2011-01-07    0.716732\n",
       "2011-01-08   -1.192234\n",
       "2011-01-10    0.119003\n",
       "dtype: float64"
      ]
     },
     "execution_count": 23,
     "metadata": {},
     "output_type": "execute_result"
    }
   ],
   "source": [
    "ts['1/6/2011':'1/11/2011']"
   ]
  }
 ],
 "metadata": {
  "kernelspec": {
   "display_name": "Python 3",
   "language": "python",
   "name": "python3"
  },
  "language_info": {
   "codemirror_mode": {
    "name": "ipython",
    "version": 3
   },
   "file_extension": ".py",
   "mimetype": "text/x-python",
   "name": "python",
   "nbconvert_exporter": "python",
   "pygments_lexer": "ipython3",
   "version": "3.7.0"
  }
 },
 "nbformat": 4,
 "nbformat_minor": 2
}
