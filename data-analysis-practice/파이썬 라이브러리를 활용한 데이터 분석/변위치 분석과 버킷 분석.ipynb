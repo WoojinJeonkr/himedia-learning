{
 "cells": [
  {
   "cell_type": "code",
   "execution_count": 1,
   "metadata": {},
   "outputs": [],
   "source": [
    "#임의의 데이터 묶음을 cut을 이용하여 등간격 구간으로 나누어보자!"
   ]
  },
  {
   "cell_type": "code",
   "execution_count": 2,
   "metadata": {},
   "outputs": [],
   "source": [
    "import pandas as pd\n",
    "import numpy as np"
   ]
  },
  {
   "cell_type": "code",
   "execution_count": 3,
   "metadata": {},
   "outputs": [],
   "source": [
    "frame = pd.DataFrame({'data1' : np.random.randn(1000),\n",
    "                     'data2' : np.random.randn(1000)})"
   ]
  },
  {
   "cell_type": "code",
   "execution_count": 4,
   "metadata": {},
   "outputs": [
    {
     "data": {
      "text/html": [
       "<div>\n",
       "<style scoped>\n",
       "    .dataframe tbody tr th:only-of-type {\n",
       "        vertical-align: middle;\n",
       "    }\n",
       "\n",
       "    .dataframe tbody tr th {\n",
       "        vertical-align: top;\n",
       "    }\n",
       "\n",
       "    .dataframe thead th {\n",
       "        text-align: right;\n",
       "    }\n",
       "</style>\n",
       "<table border=\"1\" class=\"dataframe\">\n",
       "  <thead>\n",
       "    <tr style=\"text-align: right;\">\n",
       "      <th></th>\n",
       "      <th>data1</th>\n",
       "      <th>data2</th>\n",
       "    </tr>\n",
       "  </thead>\n",
       "  <tbody>\n",
       "    <tr>\n",
       "      <th>count</th>\n",
       "      <td>1000.000000</td>\n",
       "      <td>1000.000000</td>\n",
       "    </tr>\n",
       "    <tr>\n",
       "      <th>mean</th>\n",
       "      <td>-0.029091</td>\n",
       "      <td>-0.018990</td>\n",
       "    </tr>\n",
       "    <tr>\n",
       "      <th>std</th>\n",
       "      <td>0.974896</td>\n",
       "      <td>1.002060</td>\n",
       "    </tr>\n",
       "    <tr>\n",
       "      <th>min</th>\n",
       "      <td>-3.078276</td>\n",
       "      <td>-3.356104</td>\n",
       "    </tr>\n",
       "    <tr>\n",
       "      <th>25%</th>\n",
       "      <td>-0.709682</td>\n",
       "      <td>-0.696630</td>\n",
       "    </tr>\n",
       "    <tr>\n",
       "      <th>50%</th>\n",
       "      <td>0.021831</td>\n",
       "      <td>-0.051032</td>\n",
       "    </tr>\n",
       "    <tr>\n",
       "      <th>75%</th>\n",
       "      <td>0.605450</td>\n",
       "      <td>0.654929</td>\n",
       "    </tr>\n",
       "    <tr>\n",
       "      <th>max</th>\n",
       "      <td>2.957242</td>\n",
       "      <td>2.885098</td>\n",
       "    </tr>\n",
       "  </tbody>\n",
       "</table>\n",
       "</div>"
      ],
      "text/plain": [
       "             data1        data2\n",
       "count  1000.000000  1000.000000\n",
       "mean     -0.029091    -0.018990\n",
       "std       0.974896     1.002060\n",
       "min      -3.078276    -3.356104\n",
       "25%      -0.709682    -0.696630\n",
       "50%       0.021831    -0.051032\n",
       "75%       0.605450     0.654929\n",
       "max       2.957242     2.885098"
      ]
     },
     "execution_count": 4,
     "metadata": {},
     "output_type": "execute_result"
    }
   ],
   "source": [
    "frame.describe()"
   ]
  },
  {
   "cell_type": "code",
   "execution_count": 5,
   "metadata": {},
   "outputs": [],
   "source": [
    "# describe 메서드를 호출하면 GroupBy 내부적으로 다음과 같은 단계를 수행한다\n",
    "# f = lambda x: x.describe()\n",
    "# grouped.apply(f)"
   ]
  },
  {
   "cell_type": "code",
   "execution_count": 6,
   "metadata": {},
   "outputs": [
    {
     "data": {
      "text/plain": [
       "0     (-0.0605, 1.448]\n",
       "1     (-0.0605, 1.448]\n",
       "2    (-1.569, -0.0605]\n",
       "3     (-0.0605, 1.448]\n",
       "4     (-0.0605, 1.448]\n",
       "5     (-0.0605, 1.448]\n",
       "6     (-0.0605, 1.448]\n",
       "7     (-0.0605, 1.448]\n",
       "8       (1.448, 2.957]\n",
       "9     (-0.0605, 1.448]\n",
       "Name: data1, dtype: category\n",
       "Categories (4, interval[float64]): [(-3.084, -1.569] < (-1.569, -0.0605] < (-0.0605, 1.448] < (1.448, 2.957]]"
      ]
     },
     "execution_count": 6,
     "metadata": {},
     "output_type": "execute_result"
    }
   ],
   "source": [
    "qualities = pd.cut(frame.data1, 4)\n",
    "qualities[:10]"
   ]
  },
  {
   "cell_type": "code",
   "execution_count": 7,
   "metadata": {},
   "outputs": [],
   "source": [
    "# cut에서 반환된 Categorical 객체는 바로 groupby로 넘길 수 있다."
   ]
  },
  {
   "cell_type": "code",
   "execution_count": 8,
   "metadata": {},
   "outputs": [],
   "source": [
    "def get_stats(group):\n",
    "    return {'min' : group.min(), 'max' : group.max(),\n",
    "           'count' : group.count(), 'mean' : group.mean()}"
   ]
  },
  {
   "cell_type": "code",
   "execution_count": 9,
   "metadata": {},
   "outputs": [
    {
     "data": {
      "text/html": [
       "<div>\n",
       "<style scoped>\n",
       "    .dataframe tbody tr th:only-of-type {\n",
       "        vertical-align: middle;\n",
       "    }\n",
       "\n",
       "    .dataframe tbody tr th {\n",
       "        vertical-align: top;\n",
       "    }\n",
       "\n",
       "    .dataframe thead th {\n",
       "        text-align: right;\n",
       "    }\n",
       "</style>\n",
       "<table border=\"1\" class=\"dataframe\">\n",
       "  <thead>\n",
       "    <tr style=\"text-align: right;\">\n",
       "      <th></th>\n",
       "      <th>count</th>\n",
       "      <th>max</th>\n",
       "      <th>mean</th>\n",
       "      <th>min</th>\n",
       "    </tr>\n",
       "    <tr>\n",
       "      <th>data1</th>\n",
       "      <th></th>\n",
       "      <th></th>\n",
       "      <th></th>\n",
       "      <th></th>\n",
       "    </tr>\n",
       "  </thead>\n",
       "  <tbody>\n",
       "    <tr>\n",
       "      <th>(-3.084, -1.569]</th>\n",
       "      <td>60.0</td>\n",
       "      <td>2.885098</td>\n",
       "      <td>0.028765</td>\n",
       "      <td>-1.872306</td>\n",
       "    </tr>\n",
       "    <tr>\n",
       "      <th>(-1.569, -0.0605]</th>\n",
       "      <td>417.0</td>\n",
       "      <td>2.853369</td>\n",
       "      <td>-0.014790</td>\n",
       "      <td>-3.139025</td>\n",
       "    </tr>\n",
       "    <tr>\n",
       "      <th>(-0.0605, 1.448]</th>\n",
       "      <td>461.0</td>\n",
       "      <td>2.440426</td>\n",
       "      <td>-0.025827</td>\n",
       "      <td>-3.356104</td>\n",
       "    </tr>\n",
       "    <tr>\n",
       "      <th>(1.448, 2.957]</th>\n",
       "      <td>62.0</td>\n",
       "      <td>2.274941</td>\n",
       "      <td>-0.042610</td>\n",
       "      <td>-2.100471</td>\n",
       "    </tr>\n",
       "  </tbody>\n",
       "</table>\n",
       "</div>"
      ],
      "text/plain": [
       "                   count       max      mean       min\n",
       "data1                                                 \n",
       "(-3.084, -1.569]    60.0  2.885098  0.028765 -1.872306\n",
       "(-1.569, -0.0605]  417.0  2.853369 -0.014790 -3.139025\n",
       "(-0.0605, 1.448]   461.0  2.440426 -0.025827 -3.356104\n",
       "(1.448, 2.957]      62.0  2.274941 -0.042610 -2.100471"
      ]
     },
     "execution_count": 9,
     "metadata": {},
     "output_type": "execute_result"
    }
   ],
   "source": [
    "# 등간격 버킷\n",
    "grouped = frame.data2.groupby(qualities)\n",
    "grouped.apply(get_stats).unstack()"
   ]
  },
  {
   "cell_type": "code",
   "execution_count": 10,
   "metadata": {},
   "outputs": [
    {
     "data": {
      "text/html": [
       "<div>\n",
       "<style scoped>\n",
       "    .dataframe tbody tr th:only-of-type {\n",
       "        vertical-align: middle;\n",
       "    }\n",
       "\n",
       "    .dataframe tbody tr th {\n",
       "        vertical-align: top;\n",
       "    }\n",
       "\n",
       "    .dataframe thead th {\n",
       "        text-align: right;\n",
       "    }\n",
       "</style>\n",
       "<table border=\"1\" class=\"dataframe\">\n",
       "  <thead>\n",
       "    <tr style=\"text-align: right;\">\n",
       "      <th></th>\n",
       "      <th>count</th>\n",
       "      <th>max</th>\n",
       "      <th>mean</th>\n",
       "      <th>min</th>\n",
       "    </tr>\n",
       "    <tr>\n",
       "      <th>data1</th>\n",
       "      <th></th>\n",
       "      <th></th>\n",
       "      <th></th>\n",
       "      <th></th>\n",
       "    </tr>\n",
       "  </thead>\n",
       "  <tbody>\n",
       "    <tr>\n",
       "      <th>0</th>\n",
       "      <td>100.0</td>\n",
       "      <td>2.885098</td>\n",
       "      <td>0.132765</td>\n",
       "      <td>-3.139025</td>\n",
       "    </tr>\n",
       "    <tr>\n",
       "      <th>1</th>\n",
       "      <td>100.0</td>\n",
       "      <td>2.359052</td>\n",
       "      <td>0.023971</td>\n",
       "      <td>-2.186433</td>\n",
       "    </tr>\n",
       "    <tr>\n",
       "      <th>2</th>\n",
       "      <td>100.0</td>\n",
       "      <td>2.458464</td>\n",
       "      <td>-0.039308</td>\n",
       "      <td>-2.554052</td>\n",
       "    </tr>\n",
       "    <tr>\n",
       "      <th>3</th>\n",
       "      <td>100.0</td>\n",
       "      <td>2.198100</td>\n",
       "      <td>-0.063938</td>\n",
       "      <td>-2.447581</td>\n",
       "    </tr>\n",
       "    <tr>\n",
       "      <th>4</th>\n",
       "      <td>100.0</td>\n",
       "      <td>2.717023</td>\n",
       "      <td>-0.041430</td>\n",
       "      <td>-2.069982</td>\n",
       "    </tr>\n",
       "    <tr>\n",
       "      <th>5</th>\n",
       "      <td>100.0</td>\n",
       "      <td>2.418723</td>\n",
       "      <td>-0.106313</td>\n",
       "      <td>-2.563505</td>\n",
       "    </tr>\n",
       "    <tr>\n",
       "      <th>6</th>\n",
       "      <td>100.0</td>\n",
       "      <td>2.440426</td>\n",
       "      <td>0.025356</td>\n",
       "      <td>-2.031470</td>\n",
       "    </tr>\n",
       "    <tr>\n",
       "      <th>7</th>\n",
       "      <td>100.0</td>\n",
       "      <td>2.357946</td>\n",
       "      <td>-0.130981</td>\n",
       "      <td>-3.022676</td>\n",
       "    </tr>\n",
       "    <tr>\n",
       "      <th>8</th>\n",
       "      <td>100.0</td>\n",
       "      <td>1.831733</td>\n",
       "      <td>-0.045815</td>\n",
       "      <td>-3.313217</td>\n",
       "    </tr>\n",
       "    <tr>\n",
       "      <th>9</th>\n",
       "      <td>100.0</td>\n",
       "      <td>2.274941</td>\n",
       "      <td>0.055795</td>\n",
       "      <td>-3.356104</td>\n",
       "    </tr>\n",
       "  </tbody>\n",
       "</table>\n",
       "</div>"
      ],
      "text/plain": [
       "       count       max      mean       min\n",
       "data1                                     \n",
       "0      100.0  2.885098  0.132765 -3.139025\n",
       "1      100.0  2.359052  0.023971 -2.186433\n",
       "2      100.0  2.458464 -0.039308 -2.554052\n",
       "3      100.0  2.198100 -0.063938 -2.447581\n",
       "4      100.0  2.717023 -0.041430 -2.069982\n",
       "5      100.0  2.418723 -0.106313 -2.563505\n",
       "6      100.0  2.440426  0.025356 -2.031470\n",
       "7      100.0  2.357946 -0.130981 -3.022676\n",
       "8      100.0  1.831733 -0.045815 -3.313217\n",
       "9      100.0  2.274941  0.055795 -3.356104"
      ]
     },
     "execution_count": 10,
     "metadata": {},
     "output_type": "execute_result"
    }
   ],
   "source": [
    "# 변위치 분석\n",
    "# 변위치 숫자를 변환\n",
    "grouping = pd.qcut(frame.data1, 10, labels=False)\n",
    "grouped = frame.data2.groupby(grouping)\n",
    "grouped.apply(get_stats).unstack()"
   ]
  }
 ],
 "metadata": {
  "kernelspec": {
   "display_name": "Python 3",
   "language": "python",
   "name": "python3"
  },
  "language_info": {
   "codemirror_mode": {
    "name": "ipython",
    "version": 3
   },
   "file_extension": ".py",
   "mimetype": "text/x-python",
   "name": "python",
   "nbconvert_exporter": "python",
   "pygments_lexer": "ipython3",
   "version": "3.7.0"
  }
 },
 "nbformat": 4,
 "nbformat_minor": 2
}
