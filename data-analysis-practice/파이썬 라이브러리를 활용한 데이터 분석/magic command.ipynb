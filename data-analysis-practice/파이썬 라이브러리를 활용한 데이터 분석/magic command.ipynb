{
 "cells": [
  {
   "cell_type": "code",
   "execution_count": 1,
   "metadata": {},
   "outputs": [],
   "source": [
    "# 자주 사용되는 IPython 매직 명령어"
   ]
  },
  {
   "cell_type": "code",
   "execution_count": 2,
   "metadata": {},
   "outputs": [],
   "source": [
    "# %quickref : IPython의 빠른 도움말 표시\n",
    "# %magic : 모든 함수에 대한 상세 도움말 출력\n",
    "# %debug : 최근 예외 트레이스백 하단에서 대화형 디버거로 진입\n",
    "# %hist : 명령어 입력(그리고 선택적 출력) 히스토리 출력\n",
    "# %pdb : 예외가 발생하면 자동으로 디버거 진입\n",
    "# %paste : 클립보드에서 들여쓰기된 채로 파이썬 코드 가져오기\n",
    "# %cpaste : 실행할 파이썬 코드를 수동으로 붙여 넣을 수 있는 프롬프트 표시\n",
    "# %reset : 대화형 네임스페이스에 정의된 모든 변수와 이름을 삭제\n",
    "# %page Object : 객체를 pager를 통해 보기 좋게 출력\n",
    "# %run script.py : IPython 내에서 파이썬 스크립트 실행\n",
    "# %prun statement : cProfile을 이용하여 statement를 실행하고 프로파일 결과를 출력\n",
    "# %time statement : statement의 단일 실행 시간 출력\n",
    "# %timeit statement : statement를 여러 차례 실행한 후 평균 실행 시간을 출력, 매우 짧은 시간 안에\n",
    "#                     끝나는 코드의 시간을 측정할 때 유용\n",
    "# %who, %who_ls, %whos : 대화형 네임스페이스 내에 정의된 변수를 다양한 방법으로 표시\n",
    "# %xdel variable : variable을 삭제하고 IPython 내부적으로 해당 객체에 대한 모든 참조를 제거"
   ]
  }
 ],
 "metadata": {
  "kernelspec": {
   "display_name": "Python 3",
   "language": "python",
   "name": "python3"
  },
  "language_info": {
   "codemirror_mode": {
    "name": "ipython",
    "version": 3
   },
   "file_extension": ".py",
   "mimetype": "text/x-python",
   "name": "python",
   "nbconvert_exporter": "python",
   "pygments_lexer": "ipython3",
   "version": "3.7.0"
  }
 },
 "nbformat": 4,
 "nbformat_minor": 2
}
