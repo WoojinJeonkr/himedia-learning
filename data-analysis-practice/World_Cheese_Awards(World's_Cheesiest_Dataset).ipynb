{
  "nbformat": 4,
  "nbformat_minor": 0,
  "metadata": {
    "colab": {
      "name": "World_Cheese_Awards(World's_Cheesiest_Dataset).ipynb",
      "provenance": [],
      "collapsed_sections": [],
      "authorship_tag": "ABX9TyMXcOMgHqvW3IjBl4jyTVoz",
      "include_colab_link": true
    },
    "kernelspec": {
      "name": "python3",
      "display_name": "Python 3"
    },
    "language_info": {
      "name": "python"
    }
  },
  "cells": [
    {
      "cell_type": "markdown",
      "metadata": {
        "id": "view-in-github",
        "colab_type": "text"
      },
      "source": [
        "<a href=\"https://colab.research.google.com/github/WoojinJeonkr/Data-Analysis/blob/main/World_Cheese_Awards(World's_Cheesiest_Dataset).ipynb\" target=\"_parent\"><img src=\"https://colab.research.google.com/assets/colab-badge.svg\" alt=\"Open In Colab\"/></a>"
      ]
    },
    {
      "cell_type": "code",
      "execution_count": 108,
      "metadata": {
        "id": "aYBoWpnS5OWB"
      },
      "outputs": [],
      "source": [
        "# !pip install kaggle\n",
        "# from google.colab import files\n",
        "# files.upload()"
      ]
    },
    {
      "cell_type": "code",
      "source": [
        "!mkdir -p ~/.kaggle\n",
        "!cp kaggle.json ~/.kaggle/\n",
        "\n",
        "# Permission Warning 이 일어나지 않도록 \n",
        "!chmod 600 ~/.kaggle/kaggle.json"
      ],
      "metadata": {
        "id": "CANBWZPf-REr"
      },
      "execution_count": 3,
      "outputs": []
    },
    {
      "cell_type": "code",
      "source": [
        "! kaggle datasets download -d ericsims/world-cheese-awards-worlds-cheesiest-dataset"
      ],
      "metadata": {
        "colab": {
          "base_uri": "https://localhost:8080/"
        },
        "id": "AVrGWkPs93xc",
        "outputId": "511f2efa-5c72-44e0-8ef2-55b70c604e30"
      },
      "execution_count": 4,
      "outputs": [
        {
          "output_type": "stream",
          "name": "stdout",
          "text": [
            "Downloading world-cheese-awards-worlds-cheesiest-dataset.zip to /content\n",
            "\r  0% 0.00/48.8k [00:00<?, ?B/s]\n",
            "\r100% 48.8k/48.8k [00:00<00:00, 28.9MB/s]\n"
          ]
        }
      ]
    },
    {
      "cell_type": "code",
      "source": [
        "!ls"
      ],
      "metadata": {
        "colab": {
          "base_uri": "https://localhost:8080/"
        },
        "id": "Xi6LZbWH-KwD",
        "outputId": "76d531ea-d821-489a-e099-f5b63c889c4d"
      },
      "execution_count": 5,
      "outputs": [
        {
          "output_type": "stream",
          "name": "stdout",
          "text": [
            "kaggle.json  sample_data  world-cheese-awards-worlds-cheesiest-dataset.zip\n"
          ]
        }
      ]
    },
    {
      "cell_type": "code",
      "source": [
        "!unzip world-cheese-awards-worlds-cheesiest-dataset.zip"
      ],
      "metadata": {
        "colab": {
          "base_uri": "https://localhost:8080/"
        },
        "id": "ELIcAAZv-Xh9",
        "outputId": "97d2370a-a597-4de0-9547-8f3b08b4a4d5"
      },
      "execution_count": 6,
      "outputs": [
        {
          "output_type": "stream",
          "name": "stdout",
          "text": [
            "Archive:  world-cheese-awards-worlds-cheesiest-dataset.zip\n",
            "  inflating: .gitignore              \n",
            "  inflating: README.md               \n",
            "  inflating: build_cheese_dataset.ipynb  \n",
            "  inflating: world_cheese_awards_2021.csv  \n"
          ]
        }
      ]
    },
    {
      "cell_type": "code",
      "source": [
        "import pandas as pd\n",
        "import matplotlib.pyplot as plt"
      ],
      "metadata": {
        "id": "C2dVsRqR-bY9"
      },
      "execution_count": 7,
      "outputs": []
    },
    {
      "cell_type": "code",
      "source": [
        "cheese = pd.read_csv('/content/world_cheese_awards_2021.csv')\n",
        "cheese.head()"
      ],
      "metadata": {
        "colab": {
          "base_uri": "https://localhost:8080/",
          "height": 206
        },
        "id": "jwXudKYb-luL",
        "outputId": "f861cbec-ffca-4a0f-e91b-a4238dd7bb37"
      },
      "execution_count": 15,
      "outputs": [
        {
          "output_type": "execute_result",
          "data": {
            "text/plain": [
              "   Unnamed: 0                                            company  \\\n",
              "0           0                    Laiteries H. Triballat  Website   \n",
              "1           1            Fromageries Lescure (Savencia)  Website   \n",
              "2           2  Casale Roccolo azienda agricola biologica  Web...   \n",
              "3           3                             DeJong Cheese  Website   \n",
              "4           4                             DeJong Cheese  Website   \n",
              "\n",
              "                                        product_name  rating  \\\n",
              "0                                Picandou L'Original    GOLD   \n",
              "1                       ISLOS GREEK GOAT CHEESE 150G  BRONZE   \n",
              "2                      Caprino Fresco CASALE ROCCOLO  SILVER   \n",
              "3  Alphenaer Crumbled Goats Cheese Natural  View ...  BRONZE   \n",
              "4  Alphenaer Spreadable Goats Cheese Natural  Vie...  BRONZE   \n",
              "\n",
              "                                       category      country county  \n",
              "0  5001 - Soft goats’ milk cheese plain – fresh       France    NaN  \n",
              "1  5001 - Soft goats’ milk cheese plain – fresh       Greece    NaN  \n",
              "2  5001 - Soft goats’ milk cheese plain – fresh        Italy    NaN  \n",
              "3  5001 - Soft goats’ milk cheese plain – fresh  Netherlands    NaN  \n",
              "4  5001 - Soft goats’ milk cheese plain – fresh  Netherlands    NaN  "
            ],
            "text/html": [
              "\n",
              "  <div id=\"df-687c723e-2dff-4a15-8e1c-8adf225e2f1b\">\n",
              "    <div class=\"colab-df-container\">\n",
              "      <div>\n",
              "<style scoped>\n",
              "    .dataframe tbody tr th:only-of-type {\n",
              "        vertical-align: middle;\n",
              "    }\n",
              "\n",
              "    .dataframe tbody tr th {\n",
              "        vertical-align: top;\n",
              "    }\n",
              "\n",
              "    .dataframe thead th {\n",
              "        text-align: right;\n",
              "    }\n",
              "</style>\n",
              "<table border=\"1\" class=\"dataframe\">\n",
              "  <thead>\n",
              "    <tr style=\"text-align: right;\">\n",
              "      <th></th>\n",
              "      <th>Unnamed: 0</th>\n",
              "      <th>company</th>\n",
              "      <th>product_name</th>\n",
              "      <th>rating</th>\n",
              "      <th>category</th>\n",
              "      <th>country</th>\n",
              "      <th>county</th>\n",
              "    </tr>\n",
              "  </thead>\n",
              "  <tbody>\n",
              "    <tr>\n",
              "      <th>0</th>\n",
              "      <td>0</td>\n",
              "      <td>Laiteries H. Triballat  Website</td>\n",
              "      <td>Picandou L'Original</td>\n",
              "      <td>GOLD</td>\n",
              "      <td>5001 - Soft goats’ milk cheese plain – fresh</td>\n",
              "      <td>France</td>\n",
              "      <td>NaN</td>\n",
              "    </tr>\n",
              "    <tr>\n",
              "      <th>1</th>\n",
              "      <td>1</td>\n",
              "      <td>Fromageries Lescure (Savencia)  Website</td>\n",
              "      <td>ISLOS GREEK GOAT CHEESE 150G</td>\n",
              "      <td>BRONZE</td>\n",
              "      <td>5001 - Soft goats’ milk cheese plain – fresh</td>\n",
              "      <td>Greece</td>\n",
              "      <td>NaN</td>\n",
              "    </tr>\n",
              "    <tr>\n",
              "      <th>2</th>\n",
              "      <td>2</td>\n",
              "      <td>Casale Roccolo azienda agricola biologica  Web...</td>\n",
              "      <td>Caprino Fresco CASALE ROCCOLO</td>\n",
              "      <td>SILVER</td>\n",
              "      <td>5001 - Soft goats’ milk cheese plain – fresh</td>\n",
              "      <td>Italy</td>\n",
              "      <td>NaN</td>\n",
              "    </tr>\n",
              "    <tr>\n",
              "      <th>3</th>\n",
              "      <td>3</td>\n",
              "      <td>DeJong Cheese  Website</td>\n",
              "      <td>Alphenaer Crumbled Goats Cheese Natural  View ...</td>\n",
              "      <td>BRONZE</td>\n",
              "      <td>5001 - Soft goats’ milk cheese plain – fresh</td>\n",
              "      <td>Netherlands</td>\n",
              "      <td>NaN</td>\n",
              "    </tr>\n",
              "    <tr>\n",
              "      <th>4</th>\n",
              "      <td>4</td>\n",
              "      <td>DeJong Cheese  Website</td>\n",
              "      <td>Alphenaer Spreadable Goats Cheese Natural  Vie...</td>\n",
              "      <td>BRONZE</td>\n",
              "      <td>5001 - Soft goats’ milk cheese plain – fresh</td>\n",
              "      <td>Netherlands</td>\n",
              "      <td>NaN</td>\n",
              "    </tr>\n",
              "  </tbody>\n",
              "</table>\n",
              "</div>\n",
              "      <button class=\"colab-df-convert\" onclick=\"convertToInteractive('df-687c723e-2dff-4a15-8e1c-8adf225e2f1b')\"\n",
              "              title=\"Convert this dataframe to an interactive table.\"\n",
              "              style=\"display:none;\">\n",
              "        \n",
              "  <svg xmlns=\"http://www.w3.org/2000/svg\" height=\"24px\"viewBox=\"0 0 24 24\"\n",
              "       width=\"24px\">\n",
              "    <path d=\"M0 0h24v24H0V0z\" fill=\"none\"/>\n",
              "    <path d=\"M18.56 5.44l.94 2.06.94-2.06 2.06-.94-2.06-.94-.94-2.06-.94 2.06-2.06.94zm-11 1L8.5 8.5l.94-2.06 2.06-.94-2.06-.94L8.5 2.5l-.94 2.06-2.06.94zm10 10l.94 2.06.94-2.06 2.06-.94-2.06-.94-.94-2.06-.94 2.06-2.06.94z\"/><path d=\"M17.41 7.96l-1.37-1.37c-.4-.4-.92-.59-1.43-.59-.52 0-1.04.2-1.43.59L10.3 9.45l-7.72 7.72c-.78.78-.78 2.05 0 2.83L4 21.41c.39.39.9.59 1.41.59.51 0 1.02-.2 1.41-.59l7.78-7.78 2.81-2.81c.8-.78.8-2.07 0-2.86zM5.41 20L4 18.59l7.72-7.72 1.47 1.35L5.41 20z\"/>\n",
              "  </svg>\n",
              "      </button>\n",
              "      \n",
              "  <style>\n",
              "    .colab-df-container {\n",
              "      display:flex;\n",
              "      flex-wrap:wrap;\n",
              "      gap: 12px;\n",
              "    }\n",
              "\n",
              "    .colab-df-convert {\n",
              "      background-color: #E8F0FE;\n",
              "      border: none;\n",
              "      border-radius: 50%;\n",
              "      cursor: pointer;\n",
              "      display: none;\n",
              "      fill: #1967D2;\n",
              "      height: 32px;\n",
              "      padding: 0 0 0 0;\n",
              "      width: 32px;\n",
              "    }\n",
              "\n",
              "    .colab-df-convert:hover {\n",
              "      background-color: #E2EBFA;\n",
              "      box-shadow: 0px 1px 2px rgba(60, 64, 67, 0.3), 0px 1px 3px 1px rgba(60, 64, 67, 0.15);\n",
              "      fill: #174EA6;\n",
              "    }\n",
              "\n",
              "    [theme=dark] .colab-df-convert {\n",
              "      background-color: #3B4455;\n",
              "      fill: #D2E3FC;\n",
              "    }\n",
              "\n",
              "    [theme=dark] .colab-df-convert:hover {\n",
              "      background-color: #434B5C;\n",
              "      box-shadow: 0px 1px 3px 1px rgba(0, 0, 0, 0.15);\n",
              "      filter: drop-shadow(0px 1px 2px rgba(0, 0, 0, 0.3));\n",
              "      fill: #FFFFFF;\n",
              "    }\n",
              "  </style>\n",
              "\n",
              "      <script>\n",
              "        const buttonEl =\n",
              "          document.querySelector('#df-687c723e-2dff-4a15-8e1c-8adf225e2f1b button.colab-df-convert');\n",
              "        buttonEl.style.display =\n",
              "          google.colab.kernel.accessAllowed ? 'block' : 'none';\n",
              "\n",
              "        async function convertToInteractive(key) {\n",
              "          const element = document.querySelector('#df-687c723e-2dff-4a15-8e1c-8adf225e2f1b');\n",
              "          const dataTable =\n",
              "            await google.colab.kernel.invokeFunction('convertToInteractive',\n",
              "                                                     [key], {});\n",
              "          if (!dataTable) return;\n",
              "\n",
              "          const docLinkHtml = 'Like what you see? Visit the ' +\n",
              "            '<a target=\"_blank\" href=https://colab.research.google.com/notebooks/data_table.ipynb>data table notebook</a>'\n",
              "            + ' to learn more about interactive tables.';\n",
              "          element.innerHTML = '';\n",
              "          dataTable['output_type'] = 'display_data';\n",
              "          await google.colab.output.renderOutput(dataTable, element);\n",
              "          const docLink = document.createElement('div');\n",
              "          docLink.innerHTML = docLinkHtml;\n",
              "          element.appendChild(docLink);\n",
              "        }\n",
              "      </script>\n",
              "    </div>\n",
              "  </div>\n",
              "  "
            ]
          },
          "metadata": {},
          "execution_count": 15
        }
      ]
    },
    {
      "cell_type": "code",
      "source": [
        "cheese.columns = ['Unnamed: 0', 'company', 'product_name', 'rating', 'category', 'country', 'Unamed: country']"
      ],
      "metadata": {
        "id": "CP1EvQzA_lmp"
      },
      "execution_count": 16,
      "outputs": []
    },
    {
      "cell_type": "code",
      "source": [
        "del cheese['Unnamed: 0']\n",
        "del cheese['Unamed: country']"
      ],
      "metadata": {
        "id": "uoRQBg8u-4NA"
      },
      "execution_count": 17,
      "outputs": []
    },
    {
      "cell_type": "code",
      "source": [
        "cheese.head()"
      ],
      "metadata": {
        "colab": {
          "base_uri": "https://localhost:8080/",
          "height": 206
        },
        "id": "XwGl16OT_ZJU",
        "outputId": "6cdad38e-4ded-44c9-ab86-b3270b99c1c1"
      },
      "execution_count": 18,
      "outputs": [
        {
          "output_type": "execute_result",
          "data": {
            "text/plain": [
              "                                             company  \\\n",
              "0                    Laiteries H. Triballat  Website   \n",
              "1            Fromageries Lescure (Savencia)  Website   \n",
              "2  Casale Roccolo azienda agricola biologica  Web...   \n",
              "3                             DeJong Cheese  Website   \n",
              "4                             DeJong Cheese  Website   \n",
              "\n",
              "                                        product_name  rating  \\\n",
              "0                                Picandou L'Original    GOLD   \n",
              "1                       ISLOS GREEK GOAT CHEESE 150G  BRONZE   \n",
              "2                      Caprino Fresco CASALE ROCCOLO  SILVER   \n",
              "3  Alphenaer Crumbled Goats Cheese Natural  View ...  BRONZE   \n",
              "4  Alphenaer Spreadable Goats Cheese Natural  Vie...  BRONZE   \n",
              "\n",
              "                                       category      country  \n",
              "0  5001 - Soft goats’ milk cheese plain – fresh       France  \n",
              "1  5001 - Soft goats’ milk cheese plain – fresh       Greece  \n",
              "2  5001 - Soft goats’ milk cheese plain – fresh        Italy  \n",
              "3  5001 - Soft goats’ milk cheese plain – fresh  Netherlands  \n",
              "4  5001 - Soft goats’ milk cheese plain – fresh  Netherlands  "
            ],
            "text/html": [
              "\n",
              "  <div id=\"df-16b02913-3dbc-43b2-88db-e6314eed894d\">\n",
              "    <div class=\"colab-df-container\">\n",
              "      <div>\n",
              "<style scoped>\n",
              "    .dataframe tbody tr th:only-of-type {\n",
              "        vertical-align: middle;\n",
              "    }\n",
              "\n",
              "    .dataframe tbody tr th {\n",
              "        vertical-align: top;\n",
              "    }\n",
              "\n",
              "    .dataframe thead th {\n",
              "        text-align: right;\n",
              "    }\n",
              "</style>\n",
              "<table border=\"1\" class=\"dataframe\">\n",
              "  <thead>\n",
              "    <tr style=\"text-align: right;\">\n",
              "      <th></th>\n",
              "      <th>company</th>\n",
              "      <th>product_name</th>\n",
              "      <th>rating</th>\n",
              "      <th>category</th>\n",
              "      <th>country</th>\n",
              "    </tr>\n",
              "  </thead>\n",
              "  <tbody>\n",
              "    <tr>\n",
              "      <th>0</th>\n",
              "      <td>Laiteries H. Triballat  Website</td>\n",
              "      <td>Picandou L'Original</td>\n",
              "      <td>GOLD</td>\n",
              "      <td>5001 - Soft goats’ milk cheese plain – fresh</td>\n",
              "      <td>France</td>\n",
              "    </tr>\n",
              "    <tr>\n",
              "      <th>1</th>\n",
              "      <td>Fromageries Lescure (Savencia)  Website</td>\n",
              "      <td>ISLOS GREEK GOAT CHEESE 150G</td>\n",
              "      <td>BRONZE</td>\n",
              "      <td>5001 - Soft goats’ milk cheese plain – fresh</td>\n",
              "      <td>Greece</td>\n",
              "    </tr>\n",
              "    <tr>\n",
              "      <th>2</th>\n",
              "      <td>Casale Roccolo azienda agricola biologica  Web...</td>\n",
              "      <td>Caprino Fresco CASALE ROCCOLO</td>\n",
              "      <td>SILVER</td>\n",
              "      <td>5001 - Soft goats’ milk cheese plain – fresh</td>\n",
              "      <td>Italy</td>\n",
              "    </tr>\n",
              "    <tr>\n",
              "      <th>3</th>\n",
              "      <td>DeJong Cheese  Website</td>\n",
              "      <td>Alphenaer Crumbled Goats Cheese Natural  View ...</td>\n",
              "      <td>BRONZE</td>\n",
              "      <td>5001 - Soft goats’ milk cheese plain – fresh</td>\n",
              "      <td>Netherlands</td>\n",
              "    </tr>\n",
              "    <tr>\n",
              "      <th>4</th>\n",
              "      <td>DeJong Cheese  Website</td>\n",
              "      <td>Alphenaer Spreadable Goats Cheese Natural  Vie...</td>\n",
              "      <td>BRONZE</td>\n",
              "      <td>5001 - Soft goats’ milk cheese plain – fresh</td>\n",
              "      <td>Netherlands</td>\n",
              "    </tr>\n",
              "  </tbody>\n",
              "</table>\n",
              "</div>\n",
              "      <button class=\"colab-df-convert\" onclick=\"convertToInteractive('df-16b02913-3dbc-43b2-88db-e6314eed894d')\"\n",
              "              title=\"Convert this dataframe to an interactive table.\"\n",
              "              style=\"display:none;\">\n",
              "        \n",
              "  <svg xmlns=\"http://www.w3.org/2000/svg\" height=\"24px\"viewBox=\"0 0 24 24\"\n",
              "       width=\"24px\">\n",
              "    <path d=\"M0 0h24v24H0V0z\" fill=\"none\"/>\n",
              "    <path d=\"M18.56 5.44l.94 2.06.94-2.06 2.06-.94-2.06-.94-.94-2.06-.94 2.06-2.06.94zm-11 1L8.5 8.5l.94-2.06 2.06-.94-2.06-.94L8.5 2.5l-.94 2.06-2.06.94zm10 10l.94 2.06.94-2.06 2.06-.94-2.06-.94-.94-2.06-.94 2.06-2.06.94z\"/><path d=\"M17.41 7.96l-1.37-1.37c-.4-.4-.92-.59-1.43-.59-.52 0-1.04.2-1.43.59L10.3 9.45l-7.72 7.72c-.78.78-.78 2.05 0 2.83L4 21.41c.39.39.9.59 1.41.59.51 0 1.02-.2 1.41-.59l7.78-7.78 2.81-2.81c.8-.78.8-2.07 0-2.86zM5.41 20L4 18.59l7.72-7.72 1.47 1.35L5.41 20z\"/>\n",
              "  </svg>\n",
              "      </button>\n",
              "      \n",
              "  <style>\n",
              "    .colab-df-container {\n",
              "      display:flex;\n",
              "      flex-wrap:wrap;\n",
              "      gap: 12px;\n",
              "    }\n",
              "\n",
              "    .colab-df-convert {\n",
              "      background-color: #E8F0FE;\n",
              "      border: none;\n",
              "      border-radius: 50%;\n",
              "      cursor: pointer;\n",
              "      display: none;\n",
              "      fill: #1967D2;\n",
              "      height: 32px;\n",
              "      padding: 0 0 0 0;\n",
              "      width: 32px;\n",
              "    }\n",
              "\n",
              "    .colab-df-convert:hover {\n",
              "      background-color: #E2EBFA;\n",
              "      box-shadow: 0px 1px 2px rgba(60, 64, 67, 0.3), 0px 1px 3px 1px rgba(60, 64, 67, 0.15);\n",
              "      fill: #174EA6;\n",
              "    }\n",
              "\n",
              "    [theme=dark] .colab-df-convert {\n",
              "      background-color: #3B4455;\n",
              "      fill: #D2E3FC;\n",
              "    }\n",
              "\n",
              "    [theme=dark] .colab-df-convert:hover {\n",
              "      background-color: #434B5C;\n",
              "      box-shadow: 0px 1px 3px 1px rgba(0, 0, 0, 0.15);\n",
              "      filter: drop-shadow(0px 1px 2px rgba(0, 0, 0, 0.3));\n",
              "      fill: #FFFFFF;\n",
              "    }\n",
              "  </style>\n",
              "\n",
              "      <script>\n",
              "        const buttonEl =\n",
              "          document.querySelector('#df-16b02913-3dbc-43b2-88db-e6314eed894d button.colab-df-convert');\n",
              "        buttonEl.style.display =\n",
              "          google.colab.kernel.accessAllowed ? 'block' : 'none';\n",
              "\n",
              "        async function convertToInteractive(key) {\n",
              "          const element = document.querySelector('#df-16b02913-3dbc-43b2-88db-e6314eed894d');\n",
              "          const dataTable =\n",
              "            await google.colab.kernel.invokeFunction('convertToInteractive',\n",
              "                                                     [key], {});\n",
              "          if (!dataTable) return;\n",
              "\n",
              "          const docLinkHtml = 'Like what you see? Visit the ' +\n",
              "            '<a target=\"_blank\" href=https://colab.research.google.com/notebooks/data_table.ipynb>data table notebook</a>'\n",
              "            + ' to learn more about interactive tables.';\n",
              "          element.innerHTML = '';\n",
              "          dataTable['output_type'] = 'display_data';\n",
              "          await google.colab.output.renderOutput(dataTable, element);\n",
              "          const docLink = document.createElement('div');\n",
              "          docLink.innerHTML = docLinkHtml;\n",
              "          element.appendChild(docLink);\n",
              "        }\n",
              "      </script>\n",
              "    </div>\n",
              "  </div>\n",
              "  "
            ]
          },
          "metadata": {},
          "execution_count": 18
        }
      ]
    },
    {
      "cell_type": "code",
      "source": [
        "cheese.info()"
      ],
      "metadata": {
        "colab": {
          "base_uri": "https://localhost:8080/"
        },
        "id": "gu6JOpYv_aln",
        "outputId": "129dd803-0d6b-45e6-d2cb-4a00ecdb0e28"
      },
      "execution_count": 20,
      "outputs": [
        {
          "output_type": "stream",
          "name": "stdout",
          "text": [
            "<class 'pandas.core.frame.DataFrame'>\n",
            "RangeIndex: 1741 entries, 0 to 1740\n",
            "Data columns (total 5 columns):\n",
            " #   Column        Non-Null Count  Dtype \n",
            "---  ------        --------------  ----- \n",
            " 0   company       1741 non-null   object\n",
            " 1   product_name  1741 non-null   object\n",
            " 2   rating        1741 non-null   object\n",
            " 3   category      1741 non-null   object\n",
            " 4   country       1741 non-null   object\n",
            "dtypes: object(5)\n",
            "memory usage: 68.1+ KB\n"
          ]
        }
      ]
    },
    {
      "cell_type": "code",
      "source": [
        "cheese.dropna()"
      ],
      "metadata": {
        "colab": {
          "base_uri": "https://localhost:8080/",
          "height": 424
        },
        "id": "ZvRHocee_5k9",
        "outputId": "aa019cf8-8fca-49db-d187-5a0f6ff786c2"
      },
      "execution_count": 21,
      "outputs": [
        {
          "output_type": "execute_result",
          "data": {
            "text/plain": [
              "                                                company  \\\n",
              "0                       Laiteries H. Triballat  Website   \n",
              "1               Fromageries Lescure (Savencia)  Website   \n",
              "2     Casale Roccolo azienda agricola biologica  Web...   \n",
              "3                                DeJong Cheese  Website   \n",
              "4                                DeJong Cheese  Website   \n",
              "...                                                 ...   \n",
              "1736           Macroom Buffalo Cheese Products  Website   \n",
              "1737              Diaccialone Società Agricola  Website   \n",
              "1738           Macroom Buffalo Cheese Products  Website   \n",
              "1739                               CILENTO SPA  Website   \n",
              "1740  Quattro Portoni s.r.l. – Società Agricola  Web...   \n",
              "\n",
              "                                           product_name  rating  \\\n",
              "0                                   Picandou L'Original    GOLD   \n",
              "1                          ISLOS GREEK GOAT CHEESE 150G  BRONZE   \n",
              "2                         Caprino Fresco CASALE ROCCOLO  SILVER   \n",
              "3     Alphenaer Crumbled Goats Cheese Natural  View ...  BRONZE   \n",
              "4     Alphenaer Spreadable Goats Cheese Natural  Vie...  BRONZE   \n",
              "...                                                 ...     ...   \n",
              "1736                       Macroom Buffalo Ricotta 200g  SILVER   \n",
              "1737                             Ricotta di Bufala 250g  BRONZE   \n",
              "1738            Macroom Buffalo Greek Style Cheese 180g  BRONZE   \n",
              "1739  Lactose free Mozzarella di Bufala Campana PDO ...  SILVER   \n",
              "1740                         QUADRELLO  View  Stockists  SILVER   \n",
              "\n",
              "                                               category      country  \n",
              "0          5001 - Soft goats’ milk cheese plain – fresh       France  \n",
              "1          5001 - Soft goats’ milk cheese plain – fresh       Greece  \n",
              "2          5001 - Soft goats’ milk cheese plain – fresh        Italy  \n",
              "3          5001 - Soft goats’ milk cheese plain – fresh  Netherlands  \n",
              "4          5001 - Soft goats’ milk cheese plain – fresh  Netherlands  \n",
              "...                                                 ...          ...  \n",
              "1736            5709 - Ricotta made with buffalos' milk      Ireland  \n",
              "1737            5709 - Ricotta made with buffalos' milk        Italy  \n",
              "1738  5710 - Any other buffalo's milk cheese not in ...      Ireland  \n",
              "1739  5710 - Any other buffalo's milk cheese not in ...        Italy  \n",
              "1740  5710 - Any other buffalo's milk cheese not in ...        Italy  \n",
              "\n",
              "[1741 rows x 5 columns]"
            ],
            "text/html": [
              "\n",
              "  <div id=\"df-1ba42b5f-664e-419f-8351-e30e17bf289b\">\n",
              "    <div class=\"colab-df-container\">\n",
              "      <div>\n",
              "<style scoped>\n",
              "    .dataframe tbody tr th:only-of-type {\n",
              "        vertical-align: middle;\n",
              "    }\n",
              "\n",
              "    .dataframe tbody tr th {\n",
              "        vertical-align: top;\n",
              "    }\n",
              "\n",
              "    .dataframe thead th {\n",
              "        text-align: right;\n",
              "    }\n",
              "</style>\n",
              "<table border=\"1\" class=\"dataframe\">\n",
              "  <thead>\n",
              "    <tr style=\"text-align: right;\">\n",
              "      <th></th>\n",
              "      <th>company</th>\n",
              "      <th>product_name</th>\n",
              "      <th>rating</th>\n",
              "      <th>category</th>\n",
              "      <th>country</th>\n",
              "    </tr>\n",
              "  </thead>\n",
              "  <tbody>\n",
              "    <tr>\n",
              "      <th>0</th>\n",
              "      <td>Laiteries H. Triballat  Website</td>\n",
              "      <td>Picandou L'Original</td>\n",
              "      <td>GOLD</td>\n",
              "      <td>5001 - Soft goats’ milk cheese plain – fresh</td>\n",
              "      <td>France</td>\n",
              "    </tr>\n",
              "    <tr>\n",
              "      <th>1</th>\n",
              "      <td>Fromageries Lescure (Savencia)  Website</td>\n",
              "      <td>ISLOS GREEK GOAT CHEESE 150G</td>\n",
              "      <td>BRONZE</td>\n",
              "      <td>5001 - Soft goats’ milk cheese plain – fresh</td>\n",
              "      <td>Greece</td>\n",
              "    </tr>\n",
              "    <tr>\n",
              "      <th>2</th>\n",
              "      <td>Casale Roccolo azienda agricola biologica  Web...</td>\n",
              "      <td>Caprino Fresco CASALE ROCCOLO</td>\n",
              "      <td>SILVER</td>\n",
              "      <td>5001 - Soft goats’ milk cheese plain – fresh</td>\n",
              "      <td>Italy</td>\n",
              "    </tr>\n",
              "    <tr>\n",
              "      <th>3</th>\n",
              "      <td>DeJong Cheese  Website</td>\n",
              "      <td>Alphenaer Crumbled Goats Cheese Natural  View ...</td>\n",
              "      <td>BRONZE</td>\n",
              "      <td>5001 - Soft goats’ milk cheese plain – fresh</td>\n",
              "      <td>Netherlands</td>\n",
              "    </tr>\n",
              "    <tr>\n",
              "      <th>4</th>\n",
              "      <td>DeJong Cheese  Website</td>\n",
              "      <td>Alphenaer Spreadable Goats Cheese Natural  Vie...</td>\n",
              "      <td>BRONZE</td>\n",
              "      <td>5001 - Soft goats’ milk cheese plain – fresh</td>\n",
              "      <td>Netherlands</td>\n",
              "    </tr>\n",
              "    <tr>\n",
              "      <th>...</th>\n",
              "      <td>...</td>\n",
              "      <td>...</td>\n",
              "      <td>...</td>\n",
              "      <td>...</td>\n",
              "      <td>...</td>\n",
              "    </tr>\n",
              "    <tr>\n",
              "      <th>1736</th>\n",
              "      <td>Macroom Buffalo Cheese Products  Website</td>\n",
              "      <td>Macroom Buffalo Ricotta 200g</td>\n",
              "      <td>SILVER</td>\n",
              "      <td>5709 - Ricotta made with buffalos' milk</td>\n",
              "      <td>Ireland</td>\n",
              "    </tr>\n",
              "    <tr>\n",
              "      <th>1737</th>\n",
              "      <td>Diaccialone Società Agricola  Website</td>\n",
              "      <td>Ricotta di Bufala 250g</td>\n",
              "      <td>BRONZE</td>\n",
              "      <td>5709 - Ricotta made with buffalos' milk</td>\n",
              "      <td>Italy</td>\n",
              "    </tr>\n",
              "    <tr>\n",
              "      <th>1738</th>\n",
              "      <td>Macroom Buffalo Cheese Products  Website</td>\n",
              "      <td>Macroom Buffalo Greek Style Cheese 180g</td>\n",
              "      <td>BRONZE</td>\n",
              "      <td>5710 - Any other buffalo's milk cheese not in ...</td>\n",
              "      <td>Ireland</td>\n",
              "    </tr>\n",
              "    <tr>\n",
              "      <th>1739</th>\n",
              "      <td>CILENTO SPA  Website</td>\n",
              "      <td>Lactose free Mozzarella di Bufala Campana PDO ...</td>\n",
              "      <td>SILVER</td>\n",
              "      <td>5710 - Any other buffalo's milk cheese not in ...</td>\n",
              "      <td>Italy</td>\n",
              "    </tr>\n",
              "    <tr>\n",
              "      <th>1740</th>\n",
              "      <td>Quattro Portoni s.r.l. – Società Agricola  Web...</td>\n",
              "      <td>QUADRELLO  View  Stockists</td>\n",
              "      <td>SILVER</td>\n",
              "      <td>5710 - Any other buffalo's milk cheese not in ...</td>\n",
              "      <td>Italy</td>\n",
              "    </tr>\n",
              "  </tbody>\n",
              "</table>\n",
              "<p>1741 rows × 5 columns</p>\n",
              "</div>\n",
              "      <button class=\"colab-df-convert\" onclick=\"convertToInteractive('df-1ba42b5f-664e-419f-8351-e30e17bf289b')\"\n",
              "              title=\"Convert this dataframe to an interactive table.\"\n",
              "              style=\"display:none;\">\n",
              "        \n",
              "  <svg xmlns=\"http://www.w3.org/2000/svg\" height=\"24px\"viewBox=\"0 0 24 24\"\n",
              "       width=\"24px\">\n",
              "    <path d=\"M0 0h24v24H0V0z\" fill=\"none\"/>\n",
              "    <path d=\"M18.56 5.44l.94 2.06.94-2.06 2.06-.94-2.06-.94-.94-2.06-.94 2.06-2.06.94zm-11 1L8.5 8.5l.94-2.06 2.06-.94-2.06-.94L8.5 2.5l-.94 2.06-2.06.94zm10 10l.94 2.06.94-2.06 2.06-.94-2.06-.94-.94-2.06-.94 2.06-2.06.94z\"/><path d=\"M17.41 7.96l-1.37-1.37c-.4-.4-.92-.59-1.43-.59-.52 0-1.04.2-1.43.59L10.3 9.45l-7.72 7.72c-.78.78-.78 2.05 0 2.83L4 21.41c.39.39.9.59 1.41.59.51 0 1.02-.2 1.41-.59l7.78-7.78 2.81-2.81c.8-.78.8-2.07 0-2.86zM5.41 20L4 18.59l7.72-7.72 1.47 1.35L5.41 20z\"/>\n",
              "  </svg>\n",
              "      </button>\n",
              "      \n",
              "  <style>\n",
              "    .colab-df-container {\n",
              "      display:flex;\n",
              "      flex-wrap:wrap;\n",
              "      gap: 12px;\n",
              "    }\n",
              "\n",
              "    .colab-df-convert {\n",
              "      background-color: #E8F0FE;\n",
              "      border: none;\n",
              "      border-radius: 50%;\n",
              "      cursor: pointer;\n",
              "      display: none;\n",
              "      fill: #1967D2;\n",
              "      height: 32px;\n",
              "      padding: 0 0 0 0;\n",
              "      width: 32px;\n",
              "    }\n",
              "\n",
              "    .colab-df-convert:hover {\n",
              "      background-color: #E2EBFA;\n",
              "      box-shadow: 0px 1px 2px rgba(60, 64, 67, 0.3), 0px 1px 3px 1px rgba(60, 64, 67, 0.15);\n",
              "      fill: #174EA6;\n",
              "    }\n",
              "\n",
              "    [theme=dark] .colab-df-convert {\n",
              "      background-color: #3B4455;\n",
              "      fill: #D2E3FC;\n",
              "    }\n",
              "\n",
              "    [theme=dark] .colab-df-convert:hover {\n",
              "      background-color: #434B5C;\n",
              "      box-shadow: 0px 1px 3px 1px rgba(0, 0, 0, 0.15);\n",
              "      filter: drop-shadow(0px 1px 2px rgba(0, 0, 0, 0.3));\n",
              "      fill: #FFFFFF;\n",
              "    }\n",
              "  </style>\n",
              "\n",
              "      <script>\n",
              "        const buttonEl =\n",
              "          document.querySelector('#df-1ba42b5f-664e-419f-8351-e30e17bf289b button.colab-df-convert');\n",
              "        buttonEl.style.display =\n",
              "          google.colab.kernel.accessAllowed ? 'block' : 'none';\n",
              "\n",
              "        async function convertToInteractive(key) {\n",
              "          const element = document.querySelector('#df-1ba42b5f-664e-419f-8351-e30e17bf289b');\n",
              "          const dataTable =\n",
              "            await google.colab.kernel.invokeFunction('convertToInteractive',\n",
              "                                                     [key], {});\n",
              "          if (!dataTable) return;\n",
              "\n",
              "          const docLinkHtml = 'Like what you see? Visit the ' +\n",
              "            '<a target=\"_blank\" href=https://colab.research.google.com/notebooks/data_table.ipynb>data table notebook</a>'\n",
              "            + ' to learn more about interactive tables.';\n",
              "          element.innerHTML = '';\n",
              "          dataTable['output_type'] = 'display_data';\n",
              "          await google.colab.output.renderOutput(dataTable, element);\n",
              "          const docLink = document.createElement('div');\n",
              "          docLink.innerHTML = docLinkHtml;\n",
              "          element.appendChild(docLink);\n",
              "        }\n",
              "      </script>\n",
              "    </div>\n",
              "  </div>\n",
              "  "
            ]
          },
          "metadata": {},
          "execution_count": 21
        }
      ]
    },
    {
      "cell_type": "code",
      "source": [
        "count = cheese[['rating']].value_counts() # series 형태\n",
        "rating_count = pd.DataFrame({'rating': ['BRONZE', 'SILVER', 'GOLD', 'SUPER GOLD'], \n",
        "                            'count': [count[0], count[1], count[2], count[3]]}) # 데이터프레임 형태로 변환\n",
        "rating_count.head() # 값 확인"
      ],
      "metadata": {
        "colab": {
          "base_uri": "https://localhost:8080/",
          "height": 175
        },
        "id": "SrJontFZATBh",
        "outputId": "cdc294f9-da0c-44e7-a02c-d31d143e3dad"
      },
      "execution_count": 53,
      "outputs": [
        {
          "output_type": "execute_result",
          "data": {
            "text/plain": [
              "       rating  count\n",
              "0      BRONZE    747\n",
              "1      SILVER    590\n",
              "2        GOLD    316\n",
              "3  SUPER GOLD     88"
            ],
            "text/html": [
              "\n",
              "  <div id=\"df-c20493bd-e989-491c-8265-e0b13cdcdae3\">\n",
              "    <div class=\"colab-df-container\">\n",
              "      <div>\n",
              "<style scoped>\n",
              "    .dataframe tbody tr th:only-of-type {\n",
              "        vertical-align: middle;\n",
              "    }\n",
              "\n",
              "    .dataframe tbody tr th {\n",
              "        vertical-align: top;\n",
              "    }\n",
              "\n",
              "    .dataframe thead th {\n",
              "        text-align: right;\n",
              "    }\n",
              "</style>\n",
              "<table border=\"1\" class=\"dataframe\">\n",
              "  <thead>\n",
              "    <tr style=\"text-align: right;\">\n",
              "      <th></th>\n",
              "      <th>rating</th>\n",
              "      <th>count</th>\n",
              "    </tr>\n",
              "  </thead>\n",
              "  <tbody>\n",
              "    <tr>\n",
              "      <th>0</th>\n",
              "      <td>BRONZE</td>\n",
              "      <td>747</td>\n",
              "    </tr>\n",
              "    <tr>\n",
              "      <th>1</th>\n",
              "      <td>SILVER</td>\n",
              "      <td>590</td>\n",
              "    </tr>\n",
              "    <tr>\n",
              "      <th>2</th>\n",
              "      <td>GOLD</td>\n",
              "      <td>316</td>\n",
              "    </tr>\n",
              "    <tr>\n",
              "      <th>3</th>\n",
              "      <td>SUPER GOLD</td>\n",
              "      <td>88</td>\n",
              "    </tr>\n",
              "  </tbody>\n",
              "</table>\n",
              "</div>\n",
              "      <button class=\"colab-df-convert\" onclick=\"convertToInteractive('df-c20493bd-e989-491c-8265-e0b13cdcdae3')\"\n",
              "              title=\"Convert this dataframe to an interactive table.\"\n",
              "              style=\"display:none;\">\n",
              "        \n",
              "  <svg xmlns=\"http://www.w3.org/2000/svg\" height=\"24px\"viewBox=\"0 0 24 24\"\n",
              "       width=\"24px\">\n",
              "    <path d=\"M0 0h24v24H0V0z\" fill=\"none\"/>\n",
              "    <path d=\"M18.56 5.44l.94 2.06.94-2.06 2.06-.94-2.06-.94-.94-2.06-.94 2.06-2.06.94zm-11 1L8.5 8.5l.94-2.06 2.06-.94-2.06-.94L8.5 2.5l-.94 2.06-2.06.94zm10 10l.94 2.06.94-2.06 2.06-.94-2.06-.94-.94-2.06-.94 2.06-2.06.94z\"/><path d=\"M17.41 7.96l-1.37-1.37c-.4-.4-.92-.59-1.43-.59-.52 0-1.04.2-1.43.59L10.3 9.45l-7.72 7.72c-.78.78-.78 2.05 0 2.83L4 21.41c.39.39.9.59 1.41.59.51 0 1.02-.2 1.41-.59l7.78-7.78 2.81-2.81c.8-.78.8-2.07 0-2.86zM5.41 20L4 18.59l7.72-7.72 1.47 1.35L5.41 20z\"/>\n",
              "  </svg>\n",
              "      </button>\n",
              "      \n",
              "  <style>\n",
              "    .colab-df-container {\n",
              "      display:flex;\n",
              "      flex-wrap:wrap;\n",
              "      gap: 12px;\n",
              "    }\n",
              "\n",
              "    .colab-df-convert {\n",
              "      background-color: #E8F0FE;\n",
              "      border: none;\n",
              "      border-radius: 50%;\n",
              "      cursor: pointer;\n",
              "      display: none;\n",
              "      fill: #1967D2;\n",
              "      height: 32px;\n",
              "      padding: 0 0 0 0;\n",
              "      width: 32px;\n",
              "    }\n",
              "\n",
              "    .colab-df-convert:hover {\n",
              "      background-color: #E2EBFA;\n",
              "      box-shadow: 0px 1px 2px rgba(60, 64, 67, 0.3), 0px 1px 3px 1px rgba(60, 64, 67, 0.15);\n",
              "      fill: #174EA6;\n",
              "    }\n",
              "\n",
              "    [theme=dark] .colab-df-convert {\n",
              "      background-color: #3B4455;\n",
              "      fill: #D2E3FC;\n",
              "    }\n",
              "\n",
              "    [theme=dark] .colab-df-convert:hover {\n",
              "      background-color: #434B5C;\n",
              "      box-shadow: 0px 1px 3px 1px rgba(0, 0, 0, 0.15);\n",
              "      filter: drop-shadow(0px 1px 2px rgba(0, 0, 0, 0.3));\n",
              "      fill: #FFFFFF;\n",
              "    }\n",
              "  </style>\n",
              "\n",
              "      <script>\n",
              "        const buttonEl =\n",
              "          document.querySelector('#df-c20493bd-e989-491c-8265-e0b13cdcdae3 button.colab-df-convert');\n",
              "        buttonEl.style.display =\n",
              "          google.colab.kernel.accessAllowed ? 'block' : 'none';\n",
              "\n",
              "        async function convertToInteractive(key) {\n",
              "          const element = document.querySelector('#df-c20493bd-e989-491c-8265-e0b13cdcdae3');\n",
              "          const dataTable =\n",
              "            await google.colab.kernel.invokeFunction('convertToInteractive',\n",
              "                                                     [key], {});\n",
              "          if (!dataTable) return;\n",
              "\n",
              "          const docLinkHtml = 'Like what you see? Visit the ' +\n",
              "            '<a target=\"_blank\" href=https://colab.research.google.com/notebooks/data_table.ipynb>data table notebook</a>'\n",
              "            + ' to learn more about interactive tables.';\n",
              "          element.innerHTML = '';\n",
              "          dataTable['output_type'] = 'display_data';\n",
              "          await google.colab.output.renderOutput(dataTable, element);\n",
              "          const docLink = document.createElement('div');\n",
              "          docLink.innerHTML = docLinkHtml;\n",
              "          element.appendChild(docLink);\n",
              "        }\n",
              "      </script>\n",
              "    </div>\n",
              "  </div>\n",
              "  "
            ]
          },
          "metadata": {},
          "execution_count": 53
        }
      ]
    },
    {
      "cell_type": "code",
      "source": [
        "# rating 값 현황 그래프로 확인하기\n",
        "rating_count.plot.bar(x='rating', y='count', rot=0)"
      ],
      "metadata": {
        "colab": {
          "base_uri": "https://localhost:8080/",
          "height": 297
        },
        "id": "1efAyEdiAgt7",
        "outputId": "b31542ff-3226-44ef-d770-731c7bdb31dc"
      },
      "execution_count": 54,
      "outputs": [
        {
          "output_type": "execute_result",
          "data": {
            "text/plain": [
              "<matplotlib.axes._subplots.AxesSubplot at 0x7ff9f8445ed0>"
            ]
          },
          "metadata": {},
          "execution_count": 54
        },
        {
          "output_type": "display_data",
          "data": {
            "text/plain": [
              "<Figure size 432x288 with 1 Axes>"
            ],
            "image/png": "[encoded data removed]"
          },
          "metadata": {
            "needs_background": "light"
          }
        }
      ]
    },
    {
      "cell_type": "code",
      "source": [
        "# 제품이 많은 회사 상위 10개 조회\n",
        "company_10 = cheese['company'].value_counts()[:10]\n",
        "# 회사 이름\n",
        "company_index = company_10.index\n",
        "# count\n",
        "company_count = company_10[:10]\n",
        "# 그래프로 표현\n",
        "company_10.plot.bar(x='company_index', y='company_count', rot=90)"
      ],
      "metadata": {
        "colab": {
          "base_uri": "https://localhost:8080/",
          "height": 514
        },
        "id": "46kCutL5HJlE",
        "outputId": "9f79dea2-0322-4b36-a10b-193d927dd602"
      },
      "execution_count": 72,
      "outputs": [
        {
          "output_type": "execute_result",
          "data": {
            "text/plain": [
              "<matplotlib.axes._subplots.AxesSubplot at 0x7ff9f177f490>"
            ]
          },
          "metadata": {},
          "execution_count": 72
        },
        {
          "output_type": "display_data",
          "data": {
            "text/plain": [
              "<Figure size 432x288 with 1 Axes>"
            ],
            "image/png": "[encoded data removed]"
          },
          "metadata": {
            "needs_background": "light"
          }
        }
      ]
    },
    {
      "cell_type": "code",
      "source": [
        "# country 확인\n",
        "country = cheese['country'].value_counts()\n",
        "\n",
        "# 상위 10개의 country 항목을 pie chart로 표현\n",
        "wedgeprops={'width': 0.8, 'edgecolor': 'w', 'linewidth': 5} # 부채꼴 스타일 지정\n",
        "plt.rcParams[\"figure.figsize\"] = (12,6)\n",
        "plt.pie(country.values[:10], labels=country.index[:10], autopct='%.1f%%', textprops={'fontsize': 12}, wedgeprops=wedgeprops)\n",
        "plt.show()"
      ],
      "metadata": {
        "colab": {
          "base_uri": "https://localhost:8080/",
          "height": 357
        },
        "id": "LsGFQsujI41u",
        "outputId": "9e1ebfb6-0269-4b4d-eec5-c73d5b7945bd"
      },
      "execution_count": 107,
      "outputs": [
        {
          "output_type": "display_data",
          "data": {
            "text/plain": [
              "<Figure size 864x432 with 1 Axes>"
            ],
            "image/png": "[encoded data removed]"
          },
          "metadata": {}
        }
      ]
    }
  ]
}