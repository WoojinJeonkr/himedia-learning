{
 "cells": [
  {
   "cell_type": "markdown",
   "id": "e8c45f2c-b13d-451a-af8c-c7865136f53a",
   "metadata": {},
   "source": [
    "# MNIST 손글씨 이미지 분류하기"
   ]
  },
  {
   "cell_type": "markdown",
   "id": "cd8880f3-6d95-44c5-804f-09284f85ce5e",
   "metadata": {},
   "source": [
    "## 출처: [8. MNIST 손글씨 이미지 분류하기](https://codetorial.net/tensorflow/mnist_classification.html)"
   ]
  },
  {
   "cell_type": "code",
   "execution_count": 1,
   "id": "7337033f-08ce-4a92-a16a-b5e0cd8a44e7",
   "metadata": {},
   "outputs": [
    {
     "name": "stdout",
     "output_type": "stream",
     "text": [
      "python version: 3.7.13\n",
      "3.3.2\n"
     ]
    }
   ],
   "source": [
    "# 버전 확인하기\n",
    "import platform\n",
    "print('python version: ' + platform.python_version()) # 파이썬 버전\n",
    "!jupyter lab --version # 주피터랩 버전"
   ]
  },
  {
   "cell_type": "code",
   "execution_count": 2,
   "id": "6ebe0cd5-c2e2-4409-9023-6c163d5769b9",
   "metadata": {},
   "outputs": [],
   "source": [
    "import tensorflow as tf"
   ]
  },
  {
   "cell_type": "code",
   "execution_count": 3,
   "id": "d8292154-1968-4bd4-89ea-7188d6dbf468",
   "metadata": {},
   "outputs": [
    {
     "name": "stdout",
     "output_type": "stream",
     "text": [
      "train data:  ((60000, 28, 28), (60000,))\n",
      "test data:  ((10000, 28, 28), (10000,))\n"
     ]
    }
   ],
   "source": [
    "# MNIST 손글씨 이미지 데이터셋 불러와서 사용\n",
    "mnist = tf.keras.datasets.mnist\n",
    "(X_train, y_train), (X_test, y_test) = mnist.load_data() # 4개의 Numpy Array 반환\n",
    "print('train data: ', (X_train.shape, y_train.shape))\n",
    "print('test data: ', (X_test.shape, y_test.shape)) "
   ]
  },
  {
   "cell_type": "code",
   "execution_count": 4,
   "id": "11d4f831-bb52-4a91-b188-5fbfe12c16ae",
   "metadata": {},
   "outputs": [],
   "source": [
    "# 데이터 전처리\n",
    "# 0 ~ 255 사이의 값을 갖는 픽셀값들 --> 0 ~ 1 사이의 값을 갖도록 반환\n",
    "X_train, X_test = X_train/255, X_test/255"
   ]
  },
  {
   "cell_type": "code",
   "execution_count": 5,
   "id": "da1ef580-dca6-466f-ae56-74d62d5e71a5",
   "metadata": {},
   "outputs": [
    {
     "data": {
      "text/plain": [
       "<keras.engine.sequential.Sequential at 0x15718028a88>"
      ]
     },
     "execution_count": 5,
     "metadata": {},
     "output_type": "execute_result"
    }
   ],
   "source": [
    "# 모델 구성\n",
    "model = tf.keras.models.Sequential([\n",
    "    tf.keras.layers.Flatten(input_shape=(28,28)),\n",
    "    tf.keras.layers.Dense(512, activation=tf.nn.relu),\n",
    "    tf.keras.layers.Dense(10, activation=tf.nn.softmax)\n",
    "])\n",
    "model"
   ]
  },
  {
   "cell_type": "code",
   "execution_count": 6,
   "id": "42d39c67-5c4a-46a1-8fdc-a93499a2bcee",
   "metadata": {},
   "outputs": [],
   "source": [
    "# tf.keras.models.Sequential()을 이용해서 인공신경망 모델 구성\n",
    "# 입력층에서 Flatten()을 이용해 28x28 픽셀의 값을 784개의 1차원 배열로 변환\n",
    "# 2개의 뉴런층: Dense()를 이용해서 완전 연결된 층을 구성\n",
    "# 각 층은 512개와 10개의 인공 뉴런 노드를 갖고 활성화 함수(Relu와 softmax) 사용"
   ]
  },
  {
   "cell_type": "code",
   "execution_count": 7,
   "id": "9bad26d4-7bca-4791-ad75-3ea4d0f57616",
   "metadata": {},
   "outputs": [],
   "source": [
    "# 모델 컴파일\n",
    "model.compile(optimizer='adam',\n",
    "              loss='sparse_categorical_crossentropy',\n",
    "              metrics=['accuracy'])"
   ]
  },
  {
   "cell_type": "code",
   "execution_count": 8,
   "id": "8aa157c5-f572-4aa1-a5e4-b65b1383d50a",
   "metadata": {},
   "outputs": [
    {
     "name": "stdout",
     "output_type": "stream",
     "text": [
      "Epoch 1/5\n",
      "1875/1875 [==============================] - 7s 3ms/step - loss: 0.1998 - accuracy: 0.9409\n",
      "Epoch 2/5\n",
      "1875/1875 [==============================] - 6s 3ms/step - loss: 0.0803 - accuracy: 0.9754\n",
      "Epoch 3/5\n",
      "1875/1875 [==============================] - 6s 3ms/step - loss: 0.0519 - accuracy: 0.9834\n",
      "Epoch 4/5\n",
      "1875/1875 [==============================] - 6s 3ms/step - loss: 0.0362 - accuracy: 0.9879\n",
      "Epoch 5/5\n",
      "1875/1875 [==============================] - 6s 3ms/step - loss: 0.0268 - accuracy: 0.9909\n"
     ]
    },
    {
     "data": {
      "text/plain": [
       "<keras.callbacks.History at 0x15718215dc8>"
      ]
     },
     "execution_count": 8,
     "metadata": {},
     "output_type": "execute_result"
    }
   ],
   "source": [
    "# 모델 훈련\n",
    "model.fit(X_train, y_train, epochs=5)"
   ]
  },
  {
   "cell_type": "code",
   "execution_count": 9,
   "id": "1196a937-a724-4d73-8782-49dd1ceb6c3e",
   "metadata": {},
   "outputs": [
    {
     "name": "stdout",
     "output_type": "stream",
     "text": [
      "313/313 [==============================] - 1s 2ms/step - loss: 0.0733 - accuracy: 0.9772: 0s - loss: 0.0807 - accuracy: \n",
      "정확도는.. 0.98\n"
     ]
    }
   ],
   "source": [
    "# 정확도 평가\n",
    "test_loss, test_acc = model.evaluate(X_test, y_test)\n",
    "print('정확도는.. ' + str(round(test_acc, 2)))"
   ]
  },
  {
   "cell_type": "code",
   "execution_count": 10,
   "id": "2d7722ab-e8f5-4a84-9095-2bb2c321643c",
   "metadata": {},
   "outputs": [],
   "source": [
    "# optimizer: Adam(Adaptive Momentum estimation)\n",
    "# 정확도: 테스트 이미지 중 올바르게 분류할 비율을 의미\n",
    "# model.fit(학습 데이터, 레이블, 에포크)\n",
    "# epoch(에포크): 전체 학습 데이터를 몇 번 반복해서 학습할지에 대한 횟수\n",
    "# model.evaluate(): 10000개의 테스트 샘플에 대해 손실과 정확도를 평가\n",
    "# 정확도는 94.27%가 나오는 것을 알 수 있다"
   ]
  },
  {
   "cell_type": "code",
   "execution_count": 11,
   "id": "4a3ac8f9-e1bd-47dc-8163-35efe5bb6faa",
   "metadata": {},
   "outputs": [
    {
     "name": "stdout",
     "output_type": "stream",
     "text": [
      "1875/1875 [==============================] - 6s 3ms/step - loss: 0.0212 - accuracy: 0.9927\n",
      "313/313 [==============================] - 1s 2ms/step - loss: 0.0834 - accuracy: 0.9777\n",
      "313/313 [==============================] - 1s 2ms/step - loss: 0.0834 - accuracy: 0.9777\n",
      "1875/1875 [==============================] - 7s 4ms/step - loss: 0.0172 - accuracy: 0.9941\n",
      "313/313 [==============================] - 1s 2ms/step - loss: 0.0764 - accuracy: 0.9791\n",
      "313/313 [==============================] - 1s 2ms/step - loss: 0.0764 - accuracy: 0.9791: 0s - loss: 0.0922 - accuracy: 0. - ETA: 0s - loss: 0.0775 - accuracy: 0.\n",
      "1875/1875 [==============================] - 7s 3ms/step - loss: 0.0138 - accuracy: 0.9952\n",
      "313/313 [==============================] - ETA: 0s - loss: 0.0871 - accuracy: 0.9797 ETA: 0s - loss: 0.1334 -  - 1s 2ms/step - loss: 0.0896 - accuracy: 0.9793\n",
      "313/313 [==============================] - 1s 2ms/step - loss: 0.0896 - accuracy: 0.9793: 0s - loss: 0.0963 - accuracy: \n",
      "1875/1875 [==============================] - 6s 3ms/step - loss: 0.0126 - accuracy: 0.9960\n",
      "313/313 [==============================] - 1s 2ms/step - loss: 0.0749 - accuracy: 0.9832\n",
      "313/313 [==============================] - 1s 2ms/step - loss: 0.0749 - accuracy: 0.9832\n",
      "1875/1875 [==============================] - 6s 3ms/step - loss: 0.0106 - accuracy: 0.9963\n",
      "313/313 [==============================] - 1s 2ms/step - loss: 0.0773 - accuracy: 0.9832\n",
      "313/313 [==============================] - 1s 2ms/step - loss: 0.0773 - accuracy: 0.9832\n",
      "1875/1875 [==============================] - 6s 3ms/step - loss: 0.0076 - accuracy: 0.9974\n",
      "313/313 [==============================] - 1s 2ms/step - loss: 0.1060 - accuracy: 0.9777\n",
      "313/313 [==============================] - 1s 2ms/step - loss: 0.1060 - accuracy: 0.9777\n",
      "1875/1875 [==============================] - 7s 3ms/step - loss: 0.0089 - accuracy: 0.9971\n",
      "313/313 [==============================] - 1s 2ms/step - loss: 0.0979 - accuracy: 0.9810\n",
      "313/313 [==============================] - 1s 2ms/step - loss: 0.0979 - accuracy: 0.9810\n",
      "1875/1875 [==============================] - 6s 3ms/step - loss: 0.0079 - accuracy: 0.9973\n",
      "313/313 [==============================] - 1s 2ms/step - loss: 0.0950 - accuracy: 0.9812 ETA: 0s - loss: 0.1382 -  - ETA: 0s - loss: 0.0994 - accuracy: 0.\n",
      "313/313 [==============================] - 1s 2ms/step - loss: 0.0950 - accuracy: 0.9812: 0s - loss: 0.1258 - accuracy: 0.97 - ETA: 0s - loss: 0.1182 - accuracy\n",
      "1875/1875 [==============================] - 7s 4ms/step - loss: 0.0075 - accuracy: 0.9974\n",
      "313/313 [==============================] - 1s 2ms/step - loss: 0.0807 - accuracy: 0.9836\n",
      "313/313 [==============================] - 1s 2ms/step - loss: 0.0807 - accuracy: 0.9836\n",
      "1875/1875 [==============================] - 7s 4ms/step - loss: 0.0082 - accuracy: 0.9974\n",
      "313/313 [==============================] - 1s 2ms/step - loss: 0.1130 - accuracy: 0.9797\n",
      "313/313 [==============================] - 1s 2ms/step - loss: 0.1130 - accuracy: 0.9797\n",
      "acc:  [0.9776999950408936, 0.9790999889373779, 0.9793000221252441, 0.9832000136375427, 0.9832000136375427, 0.9776999950408936, 0.9810000061988831, 0.9811999797821045, 0.9836000204086304, 0.9797000288963318]\n",
      "loss:  [0.08336318284273148, 0.07641265541315079, 0.08956431597471237, 0.07487107068300247, 0.07734837383031845, 0.10599058866500854, 0.09792781621217728, 0.09499701857566833, 0.08068984746932983, 0.11296160519123077]\n"
     ]
    }
   ],
   "source": [
    "# epochs에 따른 acc와 loss 확인하기\n",
    "loss, accuracy = [], []\n",
    "for i in range(10):\n",
    "    model.fit(X_train, y_train, epochs=1)\n",
    "    loss.append(model.evaluate(X_test, y_test)[0])\n",
    "    accuracy.append(model.evaluate(X_test, y_test)[1])\n",
    "    \n",
    "print('acc: ', accuracy)\n",
    "print('loss: ', loss)"
   ]
  },
  {
   "cell_type": "code",
   "execution_count": 12,
   "id": "e014628d-6537-4cdb-9e67-8e338cc50469",
   "metadata": {},
   "outputs": [
    {
     "data": {
      "image/png": "[encoded data removed]",
      "text/plain": [
       "<Figure size 504x288 with 2 Axes>"
      ]
     },
     "metadata": {
      "needs_background": "light"
     },
     "output_type": "display_data"
    }
   ],
   "source": [
    "# acc와 loss 시각화\n",
    "import matplotlib.pyplot as plt\n",
    "\n",
    "plt.rcParams['figure.figsize'] = (7, 4)\n",
    "plt.rcParams['font.size'] = 12\n",
    "\n",
    "X_values = list(range(1, 11))\n",
    "\n",
    "fig, ax1 = plt.subplots()\n",
    "ax1.set_xlabel('epochs')\n",
    "ax1.set_ylabel('accuracy')\n",
    "ax1.plot(X_values, accuracy, color='green')\n",
    "\n",
    "ax2 = ax1.twinx()\n",
    "ax2.set_ylabel('loss')\n",
    "ax2.plot(X_values, loss, color='blue')\n",
    "\n",
    "plt.show()"
   ]
  }
 ],
 "metadata": {
  "kernelspec": {
   "display_name": "Python 3 (ipykernel)",
   "language": "python",
   "name": "python3"
  },
  "language_info": {
   "codemirror_mode": {
    "name": "ipython",
    "version": 3
   },
   "file_extension": ".py",
   "mimetype": "text/x-python",
   "name": "python",
   "nbconvert_exporter": "python",
   "pygments_lexer": "ipython3",
   "version": "3.7.13"
  }
 },
 "nbformat": 4,
 "nbformat_minor": 5
}
