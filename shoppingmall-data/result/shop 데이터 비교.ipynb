{
 "cells": [
  {
   "cell_type": "markdown",
   "metadata": {},
   "source": [
    "## 사용 패키지"
   ]
  },
  {
   "cell_type": "code",
   "execution_count": 1,
   "metadata": {},
   "outputs": [],
   "source": [
    "import pandas as pd\n",
    "from sklearn.preprocessing import LabelEncoder\n",
    "from sklearn.preprocessing import MinMaxScaler\n",
    "from sklearn.tree import DecisionTreeClassifier\n",
    "from sklearn.metrics import accuracy_score \n",
    "from sklearn.model_selection import train_test_split"
   ]
  },
  {
   "cell_type": "markdown",
   "metadata": {},
   "source": [
    "# 데이터 불러오기"
   ]
  },
  {
   "cell_type": "code",
   "execution_count": 2,
   "metadata": {},
   "outputs": [
    {
     "data": {
      "text/html": [
       "<div>\n",
       "<style scoped>\n",
       "    .dataframe tbody tr th:only-of-type {\n",
       "        vertical-align: middle;\n",
       "    }\n",
       "\n",
       "    .dataframe tbody tr th {\n",
       "        vertical-align: top;\n",
       "    }\n",
       "\n",
       "    .dataframe thead th {\n",
       "        text-align: right;\n",
       "    }\n",
       "</style>\n",
       "<table border=\"1\" class=\"dataframe\">\n",
       "  <thead>\n",
       "    <tr style=\"text-align: right;\">\n",
       "      <th></th>\n",
       "      <th>CRI_YM</th>\n",
       "      <th>TAG</th>\n",
       "      <th>평일휴일</th>\n",
       "      <th>요일</th>\n",
       "      <th>시간대</th>\n",
       "      <th>성별</th>\n",
       "      <th>연령대</th>\n",
       "      <th>인터넷 쇼핑 이용자 비율 (%)</th>\n",
       "      <th>월 평균 구매빈도-1회 미만 (%)</th>\n",
       "      <th>월 평균 구매빈도-1~2회 미만 (%)</th>\n",
       "      <th>월 평균 구매빈도-2~3회 미만 (%)</th>\n",
       "      <th>월 평균 구매빈도-3회 이상 (%)</th>\n",
       "      <th>월 평균 구매빈도-평균 (회)</th>\n",
       "      <th>건수합계</th>\n",
       "      <th>네이버 태그 클릭량</th>\n",
       "    </tr>\n",
       "  </thead>\n",
       "  <tbody>\n",
       "    <tr>\n",
       "      <th>1</th>\n",
       "      <td>2020.0</td>\n",
       "      <td>생활/사무용품</td>\n",
       "      <td>평일</td>\n",
       "      <td>월</td>\n",
       "      <td>D.14-18시</td>\n",
       "      <td>M</td>\n",
       "      <td>C.4O대</td>\n",
       "      <td>66.7</td>\n",
       "      <td>28.3</td>\n",
       "      <td>17.9</td>\n",
       "      <td>21.0</td>\n",
       "      <td>32.8</td>\n",
       "      <td>2.9</td>\n",
       "      <td>6225.0</td>\n",
       "      <td>21.0</td>\n",
       "    </tr>\n",
       "    <tr>\n",
       "      <th>3</th>\n",
       "      <td>2021.0</td>\n",
       "      <td>화장품</td>\n",
       "      <td>휴일</td>\n",
       "      <td>일</td>\n",
       "      <td>D.14-18시</td>\n",
       "      <td>F</td>\n",
       "      <td>C.4O대</td>\n",
       "      <td>89.8</td>\n",
       "      <td>9.3</td>\n",
       "      <td>14.9</td>\n",
       "      <td>17.6</td>\n",
       "      <td>58.2</td>\n",
       "      <td>5.3</td>\n",
       "      <td>3564.0</td>\n",
       "      <td>154.0</td>\n",
       "    </tr>\n",
       "    <tr>\n",
       "      <th>4</th>\n",
       "      <td>2020.0</td>\n",
       "      <td>인테리어</td>\n",
       "      <td>평일</td>\n",
       "      <td>월</td>\n",
       "      <td>C.10-14시</td>\n",
       "      <td>F</td>\n",
       "      <td>D.5O대</td>\n",
       "      <td>46.3</td>\n",
       "      <td>28.2</td>\n",
       "      <td>14.1</td>\n",
       "      <td>20.2</td>\n",
       "      <td>37.4</td>\n",
       "      <td>3.4</td>\n",
       "      <td>1101.0</td>\n",
       "      <td>33.0</td>\n",
       "    </tr>\n",
       "    <tr>\n",
       "      <th>5</th>\n",
       "      <td>2019.0</td>\n",
       "      <td>식료품</td>\n",
       "      <td>평일</td>\n",
       "      <td>월</td>\n",
       "      <td>B.06-10시</td>\n",
       "      <td>M</td>\n",
       "      <td>E.60대이상</td>\n",
       "      <td>20.3</td>\n",
       "      <td>20.8</td>\n",
       "      <td>21.4</td>\n",
       "      <td>12.3</td>\n",
       "      <td>45.4</td>\n",
       "      <td>3.2</td>\n",
       "      <td>171.0</td>\n",
       "      <td>61.0</td>\n",
       "    </tr>\n",
       "    <tr>\n",
       "      <th>11</th>\n",
       "      <td>2019.0</td>\n",
       "      <td>취미용품</td>\n",
       "      <td>휴일</td>\n",
       "      <td>월</td>\n",
       "      <td>D.14-18시</td>\n",
       "      <td>F</td>\n",
       "      <td>E.60대이상</td>\n",
       "      <td>14.5</td>\n",
       "      <td>24.4</td>\n",
       "      <td>27.1</td>\n",
       "      <td>12.9</td>\n",
       "      <td>35.5</td>\n",
       "      <td>2.7</td>\n",
       "      <td>10.0</td>\n",
       "      <td>32.0</td>\n",
       "    </tr>\n",
       "  </tbody>\n",
       "</table>\n",
       "</div>"
      ],
      "text/plain": [
       "    CRI_YM      TAG 평일휴일 요일       시간대 성별      연령대  인터넷 쇼핑 이용자 비율 (%)  \\\n",
       "1   2020.0  생활/사무용품   평일  월  D.14-18시  M    C.4O대               66.7   \n",
       "3   2021.0      화장품   휴일  일  D.14-18시  F    C.4O대               89.8   \n",
       "4   2020.0     인테리어   평일  월  C.10-14시  F    D.5O대               46.3   \n",
       "5   2019.0      식료품   평일  월  B.06-10시  M  E.60대이상               20.3   \n",
       "11  2019.0     취미용품   휴일  월  D.14-18시  F  E.60대이상               14.5   \n",
       "\n",
       "    월 평균 구매빈도-1회 미만 (%)  월 평균 구매빈도-1~2회 미만 (%)  월 평균 구매빈도-2~3회 미만 (%)  \\\n",
       "1                  28.3                   17.9                   21.0   \n",
       "3                   9.3                   14.9                   17.6   \n",
       "4                  28.2                   14.1                   20.2   \n",
       "5                  20.8                   21.4                   12.3   \n",
       "11                 24.4                   27.1                   12.9   \n",
       "\n",
       "    월 평균 구매빈도-3회 이상 (%)  월 평균 구매빈도-평균 (회)    건수합계  네이버 태그 클릭량  \n",
       "1                  32.8               2.9  6225.0        21.0  \n",
       "3                  58.2               5.3  3564.0       154.0  \n",
       "4                  37.4               3.4  1101.0        33.0  \n",
       "5                  45.4               3.2   171.0        61.0  \n",
       "11                 35.5               2.7    10.0        32.0  "
      ]
     },
     "execution_count": 2,
     "metadata": {},
     "output_type": "execute_result"
    }
   ],
   "source": [
    "sample_data = pd.read_excel('../data_list/쇼핑몰_최종2.xlsx')\n",
    "sample_data= sample_data.dropna(axis= 0)\n",
    "sample_data.head()"
   ]
  },
  {
   "cell_type": "markdown",
   "metadata": {},
   "source": [
    "# 전처리"
   ]
  },
  {
   "cell_type": "code",
   "execution_count": 3,
   "metadata": {},
   "outputs": [],
   "source": [
    "le = LabelEncoder()\n",
    "sample_data['평일휴일'] = le.fit_transform(sample_data['평일휴일'])\n",
    "sample_data['요일'] = le.fit_transform(sample_data['요일'])\n",
    "sample_data['시간대'] = le.fit_transform(sample_data['시간대'])\n",
    "sample_data['성별'] = le.fit_transform(sample_data['성별'])\n",
    "sample_data['연령대'] = le.fit_transform(sample_data['연령대'])\n",
    "\n",
    "X= pd.DataFrame(sample_data, \n",
    "                columns=['CRI_YM','평일휴일','요일','시간대','성별','연령대','건수합계',\n",
    "                         '인터넷 쇼핑 이용자 비율 (%)','월 평균 구매빈도-1회 미만 (%)',\n",
    "                         '월 평균 구매빈도-1~2회 미만 (%)','월 평균 구매빈도-2~3회 미만 (%)',\n",
    "                         '월 평균 구매빈도-3회 이상 (%)','월 평균 구매빈도-평균 (회)',\n",
    "                         '네이버 태그 클릭량']\n",
    "               )\n",
    "y = sample_data['TAG'].values.reshape(-1,1)\n",
    "y = pd.DataFrame(y)\n",
    "\n",
    "nm_scaler = MinMaxScaler()\n",
    "X_train_scaled = nm_scaler.fit(X)\n",
    "nm_shop_scaled= nm_scaler.transform(X)\n",
    "nm_shop_df_scaled= pd.DataFrame(data = nm_shop_scaled, columns=X.columns)"
   ]
  },
  {
   "cell_type": "code",
   "execution_count": 4,
   "metadata": {},
   "outputs": [
    {
     "name": "stdout",
     "output_type": "stream",
     "text": [
      "결정 트리 예측 정확도:0.8117\n"
     ]
    }
   ],
   "source": [
    "dt_clf = DecisionTreeClassifier(random_state=156)\n",
    "X_train, X_test, y_train, y_test = train_test_split(nm_shop_df_scaled,\n",
    "                                                    y, \n",
    "                                                    test_size = 0.2, \n",
    "                                                    random_state = 3\n",
    "                                                    )\n",
    "dt_clf.fit(X_train, y_train)\n",
    "pred = dt_clf.predict(X_test)\n",
    "accuracy  = accuracy_score(y_test, pred)\n",
    "print('결정 트리 예측 정확도:{0:.4f}'.format(accuracy))"
   ]
  },
  {
   "cell_type": "code",
   "execution_count": 5,
   "metadata": {},
   "outputs": [
    {
     "data": {
      "text/plain": [
       "<matplotlib.axes._subplots.AxesSubplot at 0x1d0e2f03358>"
      ]
     },
     "execution_count": 5,
     "metadata": {},
     "output_type": "execute_result"
    },
    {
     "data": {
      "image/png": "[encoded data removed]",
      "text/plain": [
       "<Figure size 432x288 with 1 Axes>"
      ]
     },
     "metadata": {
      "needs_background": "light"
     },
     "output_type": "display_data"
    }
   ],
   "source": [
    "import seaborn as sns\n",
    "%matplotlib inline\n",
    "\n",
    "importance = dt_clf.feature_importances_\n",
    "\n",
    "columns=['CRI_YM','평일휴일','요일','시간대','성별','연령대','건수합계',\n",
    "                         '인터넷 쇼핑 이용자 비율 (%)','월 평균 구매빈도-1회 미만 (%)',\n",
    "                         '월 평균 구매빈도-1~2회 미만 (%)','월 평균 구매빈도-2~3회 미만 (%)',\n",
    "                         '월 평균 구매빈도-3회 이상 (%)','월 평균 구매빈도-평균 (회)',\n",
    "                         '네이버 태그 클릭량']\n",
    "\n",
    "sns.barplot(x=importance, y=columns)"
   ]
  },
  {
   "cell_type": "code",
   "execution_count": 6,
   "metadata": {},
   "outputs": [],
   "source": [
    "le = LabelEncoder()\n",
    "sample_data['평일휴일'] = le.fit_transform(sample_data['평일휴일'])\n",
    "sample_data['요일'] = le.fit_transform(sample_data['요일'])\n",
    "sample_data['시간대'] = le.fit_transform(sample_data['시간대'])\n",
    "sample_data['성별'] = le.fit_transform(sample_data['성별'])\n",
    "sample_data['연령대'] = le.fit_transform(sample_data['연령대'])\n",
    "\n",
    "X= pd.DataFrame(sample_data, \n",
    "                columns=['CRI_YM','평일휴일','요일','시간대','성별','연령대','건수합계',\n",
    "                         '인터넷 쇼핑 이용자 비율 (%)', '네이버 태그 클릭량']\n",
    "               )\n",
    "y = sample_data['TAG'].values.reshape(-1,1)\n",
    "y = pd.DataFrame(y)\n",
    "\n",
    "nm_scaler = MinMaxScaler()\n",
    "X_train_scaled = nm_scaler.fit(X)\n",
    "nm_shop_scaled= nm_scaler.transform(X)\n",
    "nm_shop_df_scaled= pd.DataFrame(data = nm_shop_scaled, columns=X.columns)"
   ]
  },
  {
   "cell_type": "code",
   "execution_count": 7,
   "metadata": {},
   "outputs": [
    {
     "name": "stdout",
     "output_type": "stream",
     "text": [
      "결정 트리 예측 정확도:0.8167\n"
     ]
    }
   ],
   "source": [
    "dt_clf = DecisionTreeClassifier(random_state=156)\n",
    "X_train, X_test, y_train, y_test = train_test_split(nm_shop_df_scaled,\n",
    "                                                    y, \n",
    "                                                    test_size = 0.2, \n",
    "                                                    random_state = 3\n",
    "                                                    )\n",
    "dt_clf.fit(X_train, y_train)\n",
    "pred = dt_clf.predict(X_test)\n",
    "accuracy  = accuracy_score(y_test, pred)\n",
    "print('결정 트리 예측 정확도:{0:.4f}'.format(accuracy))"
   ]
  },
  {
   "cell_type": "code",
   "execution_count": 8,
   "metadata": {
    "scrolled": false
   },
   "outputs": [
    {
     "data": {
      "text/plain": [
       "<matplotlib.axes._subplots.AxesSubplot at 0x1d0e29f4e48>"
      ]
     },
     "execution_count": 8,
     "metadata": {},
     "output_type": "execute_result"
    },
    {
     "data": {
      "image/png": "[encoded data removed]",
      "text/plain": [
       "<Figure size 432x288 with 1 Axes>"
      ]
     },
     "metadata": {
      "needs_background": "light"
     },
     "output_type": "display_data"
    }
   ],
   "source": [
    "import seaborn as sns\n",
    "%matplotlib inline\n",
    "\n",
    "importance = dt_clf.feature_importances_\n",
    "\n",
    "columns=['CRI_YM','평일휴일','요일','시간대','성별','연령대','건수합계',\n",
    "                         '인터넷 쇼핑 이용자 비율 (%)', '네이버 태그 클릭량']\n",
    "\n",
    "sns.barplot(x=importance, y=columns)"
   ]
  },
  {
   "cell_type": "code",
   "execution_count": 52,
   "metadata": {},
   "outputs": [],
   "source": [
    "le = LabelEncoder()\n",
    "sample_data['평일휴일'] = le.fit_transform(sample_data['평일휴일'])\n",
    "sample_data['요일'] = le.fit_transform(sample_data['요일'])\n",
    "sample_data['시간대'] = le.fit_transform(sample_data['시간대'])\n",
    "sample_data['성별'] = le.fit_transform(sample_data['성별'])\n",
    "sample_data['연령대'] = le.fit_transform(sample_data['연령대'])\n",
    "\n",
    "X= pd.DataFrame(sample_data, \n",
    "                columns=['평일휴일','요일','시간대',\n",
    "                         '성별','연령대','건수합계',\n",
    "                         '네이버 태그 클릭량']\n",
    "               )\n",
    "y = sample_data['TAG'].values.reshape(-1,1)\n",
    "y = pd.DataFrame(y)\n",
    "\n",
    "nm_scaler = MinMaxScaler()\n",
    "X_train_scaled = nm_scaler.fit(X)\n",
    "nm_shop_scaled= nm_scaler.transform(X)\n",
    "nm_shop_df_scaled= pd.DataFrame(data = nm_shop_scaled, columns=X.columns)"
   ]
  },
  {
   "cell_type": "code",
   "execution_count": 76,
   "metadata": {},
   "outputs": [
    {
     "data": {
      "text/plain": [
       "패션         1560\n",
       "식료품        1560\n",
       "생활/사무용품    1560\n",
       "화장품        1558\n",
       "인테리어       1558\n",
       "취미용품       1545\n",
       "애완용품       1544\n",
       "dtype: int64"
      ]
     },
     "execution_count": 76,
     "metadata": {},
     "output_type": "execute_result"
    }
   ],
   "source": [
    "y.value_counts()"
   ]
  },
  {
   "cell_type": "code",
   "execution_count": 53,
   "metadata": {},
   "outputs": [
    {
     "name": "stdout",
     "output_type": "stream",
     "text": [
      "결정 트리 예측 정확도:0.7621\n"
     ]
    }
   ],
   "source": [
    "dt_clf = DecisionTreeClassifier(random_state=156)\n",
    "X_train, X_test, y_train, y_test = train_test_split(nm_shop_df_scaled,\n",
    "                                                    y, \n",
    "                                                    test_size = 0.2, \n",
    "                                                    random_state = 3\n",
    "                                                    )\n",
    "dt_clf.fit(X_train, y_train)\n",
    "pred = dt_clf.predict(X_test)\n",
    "accuracy  = accuracy_score(y_test, pred)\n",
    "print('결정 트리 예측 정확도:{0:.4f}'.format(accuracy))"
   ]
  },
  {
   "cell_type": "code",
   "execution_count": 54,
   "metadata": {
    "scrolled": false
   },
   "outputs": [
    {
     "data": {
      "text/plain": [
       "<matplotlib.axes._subplots.AxesSubplot at 0x1d0e30da6a0>"
      ]
     },
     "execution_count": 54,
     "metadata": {},
     "output_type": "execute_result"
    },
    {
     "data": {
      "image/png": "[encoded data removed]",
      "text/plain": [
       "<Figure size 432x288 with 1 Axes>"
      ]
     },
     "metadata": {
      "needs_background": "light"
     },
     "output_type": "display_data"
    }
   ],
   "source": [
    "import seaborn as sns\n",
    "%matplotlib inline\n",
    "\n",
    "importance = dt_clf.feature_importances_\n",
    "\n",
    "columns=['평일휴일','요일','시간대',\n",
    "                         '성별','연령대','건수합계',\n",
    "                         '네이버 태그 클릭량']\n",
    "\n",
    "sns.barplot(x=importance, y=columns)"
   ]
  }
 ],
 "metadata": {
  "kernelspec": {
   "display_name": "Python 3",
   "language": "python",
   "name": "python3"
  },
  "language_info": {
   "codemirror_mode": {
    "name": "ipython",
    "version": 3
   },
   "file_extension": ".py",
   "mimetype": "text/x-python",
   "name": "python",
   "nbconvert_exporter": "python",
   "pygments_lexer": "ipython3",
   "version": "3.7.0"
  }
 },
 "nbformat": 4,
 "nbformat_minor": 2
}
