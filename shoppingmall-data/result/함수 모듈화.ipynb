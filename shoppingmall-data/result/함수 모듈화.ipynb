{
 "cells": [
  {
   "cell_type": "code",
   "execution_count": 1,
   "metadata": {},
   "outputs": [],
   "source": [
    "## 경고창 무시\n",
    "import warnings\n",
    "warnings.filterwarnings(action='ignore')"
   ]
  },
  {
   "cell_type": "markdown",
   "metadata": {},
   "source": [
    "## 라이브러리 추가"
   ]
  },
  {
   "cell_type": "code",
   "execution_count": 2,
   "metadata": {},
   "outputs": [],
   "source": [
    "import pandas as pd\n",
    "from sklearn.preprocessing import LabelEncoder\n",
    "from sklearn.model_selection import train_test_split\n",
    "from sklearn.preprocessing import StandardScaler\n",
    "from sklearn.tree import DecisionTreeClassifier\n",
    "import joblib"
   ]
  },
  {
   "cell_type": "markdown",
   "metadata": {},
   "source": [
    "## 함수 모듈화"
   ]
  },
  {
   "cell_type": "code",
   "execution_count": 3,
   "metadata": {},
   "outputs": [],
   "source": [
    "def pred_module():\n",
    "    \n",
    "    # 데이터 불러오기\n",
    "    data = pd.read_excel('ai/data_list/쇼핑몰_최종2.xlsx')\n",
    "    data= data.dropna(axis= 0)\n",
    "    data['네이버 태그 클릭량'] = data[['네이버 태그 클릭량']].apply(pd.to_numeric)\n",
    "\n",
    "    # 라벨 인코딩\n",
    "    le = LabelEncoder()\n",
    "    data['TAG'] = le.fit_transform(data['TAG'])\n",
    "    data['평일휴일'] = le.fit_transform(data['평일휴일'])\n",
    "    data['요일'] = le.fit_transform(data['요일'])\n",
    "    data['시간대'] = le.fit_transform(data['시간대'])\n",
    "    data['성별'] = le.fit_transform(data['성별'])\n",
    "    data['연령대'] = le.fit_transform(data['연령대'])\n",
    "\n",
    "    # train_test_split\n",
    "    X= pd.DataFrame(data, columns=['평일휴일','요일','시간대','성별','연령대','건수합계','네이버 태그 클릭량'])\n",
    "    y = pd.DataFrame(data['TAG'].values.reshape(-1,1))\n",
    "    X_train, X_test, y_train, y_test = train_test_split(X,\n",
    "                                                        y, \n",
    "                                                        test_size = 0.2, \n",
    "                                                        random_state = 3\n",
    "                                                        )\n",
    "\n",
    "    # 의사결정나무\n",
    "    dt_clf = DecisionTreeClassifier(random_state = 156)\n",
    "    dt_clf.fit(X_train, y_train)\n",
    "    return dt_clf"
   ]
  },
  {
   "cell_type": "code",
   "execution_count": 4,
   "metadata": {},
   "outputs": [
    {
     "data": {
      "text/plain": [
       "DecisionTreeClassifier(random_state=156)"
      ]
     },
     "execution_count": 4,
     "metadata": {},
     "output_type": "execute_result"
    }
   ],
   "source": [
    "pred_module()"
   ]
  },
  {
   "cell_type": "markdown",
   "metadata": {},
   "source": [
    "## 모듈 dump"
   ]
  },
  {
   "cell_type": "code",
   "execution_count": 5,
   "metadata": {},
   "outputs": [
    {
     "data": {
      "text/plain": [
       "['tag_predict.pkl']"
      ]
     },
     "execution_count": 5,
     "metadata": {},
     "output_type": "execute_result"
    }
   ],
   "source": [
    "joblib.dump(pred_module(), 'tag_predict.pkl')"
   ]
  },
  {
   "cell_type": "markdown",
   "metadata": {},
   "source": [
    "## 모듈 load"
   ]
  },
  {
   "cell_type": "code",
   "execution_count": 6,
   "metadata": {},
   "outputs": [
    {
     "data": {
      "text/plain": [
       "DecisionTreeClassifier(random_state=156)"
      ]
     },
     "execution_count": 6,
     "metadata": {},
     "output_type": "execute_result"
    }
   ],
   "source": [
    "tag_predict = joblib.load('tag_predict.pkl')\n",
    "tag_predict"
   ]
  },
  {
   "cell_type": "code",
   "execution_count": 7,
   "metadata": {},
   "outputs": [],
   "source": [
    "def pred_tag(input_data):\n",
    "    # 예측 결과 출력\n",
    "    result = tag_predict.predict_proba([input_data])\n",
    "    if result[0][0] == 1:\n",
    "        print('생활/사무용품')\n",
    "    elif result[0][1] == 1:\n",
    "        print('식료품')\n",
    "    elif result[0][2] == 1:\n",
    "        print('애완용품')\n",
    "    elif result[0][3] == 1:\n",
    "        print('인테리어')\n",
    "    elif result[0][4] == 1:\n",
    "        print('취미용품')\n",
    "    elif result[0][5] == 1:\n",
    "        print('패션')\n",
    "    elif result[0][6] == 1:\n",
    "        print('화장품')"
   ]
  },
  {
   "cell_type": "code",
   "execution_count": 8,
   "metadata": {},
   "outputs": [],
   "source": [
    "user = [0, 3, 4, 1, 2, 300, 110]"
   ]
  },
  {
   "cell_type": "code",
   "execution_count": 9,
   "metadata": {},
   "outputs": [
    {
     "name": "stdout",
     "output_type": "stream",
     "text": [
      "애완용품\n"
     ]
    }
   ],
   "source": [
    "pred_tag(user)"
   ]
  }
 ],
 "metadata": {
  "kernelspec": {
   "display_name": "Python 3",
   "language": "python",
   "name": "python3"
  },
  "language_info": {
   "codemirror_mode": {
    "name": "ipython",
    "version": 3
   },
   "file_extension": ".py",
   "mimetype": "text/x-python",
   "name": "python",
   "nbconvert_exporter": "python",
   "pygments_lexer": "ipython3",
   "version": "3.7.0"
  }
 },
 "nbformat": 4,
 "nbformat_minor": 2
}
