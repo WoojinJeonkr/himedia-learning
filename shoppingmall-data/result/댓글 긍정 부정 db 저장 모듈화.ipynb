{
 "cells": [
  {
   "cell_type": "markdown",
   "metadata": {},
   "source": [
    "## 라이브러리 사용"
   ]
  },
  {
   "cell_type": "code",
   "execution_count": 1,
   "metadata": {},
   "outputs": [],
   "source": [
    "# 사용할 라이브러리\n",
    "import re\n",
    "import pandas as pd\n",
    "import numpy as np\n",
    "import matplotlib.pyplot as plt\n",
    "import urllib.request\n",
    "from sklearn.model_selection import train_test_split\n",
    "from sklearn.feature_extraction.text import TfidfVectorizer, CountVectorizer\n",
    "from sklearn.linear_model import LogisticRegression\n",
    "import joblib\n",
    "\n",
    "# 경고창 무시\n",
    "import warnings\n",
    "warnings.filterwarnings(action='ignore')"
   ]
  },
  {
   "cell_type": "markdown",
   "metadata": {},
   "source": [
    "## 모듈화"
   ]
  },
  {
   "cell_type": "markdown",
   "metadata": {},
   "source": [
    "긍정 사전 모듈화"
   ]
  },
  {
   "cell_type": "code",
   "execution_count": 2,
   "metadata": {},
   "outputs": [],
   "source": [
    "def pos_dict():\n",
    "    positive = pd.read_csv('ai/data_list/positive_dictionary.csv', encoding='utf-8')\n",
    "    positive_dict = positive['word'].values\n",
    "    positive_dict.tolist()\n",
    "    positive_word = ['빠르고', '굿', '더', '좋아', '정말', '대박', '빨리', '예뻐요',\n",
    "                     '예쁘', '실용', '딱', '귀엽', '넘', '저렴', '좋고', '좋다', '좋아',\n",
    "                     '편한', '편함', '편하다', '재구매', '구매', '가성비', '다만', '젤',\n",
    "                     '빠른', '배송', '빠', '여유', '마음', '곱네요', '이쁨', '최고', '추가',\n",
    "                     '좋은', '감사', '신용', '귀엽고', '생각보다', '저렴한', '모두', '맘에', \n",
    "                     '들다', '맘에는', '좋아요', 'ㅎㅎ']\n",
    "    positive_dict = np.append(positive_dict, positive_word)\n",
    "\n",
    "    return positive_dict"
   ]
  },
  {
   "cell_type": "code",
   "execution_count": 3,
   "metadata": {},
   "outputs": [
    {
     "data": {
      "text/plain": [
       "['pos_dict.pkl']"
      ]
     },
     "execution_count": 3,
     "metadata": {},
     "output_type": "execute_result"
    }
   ],
   "source": [
    "joblib.dump(pos_dict(), 'pos_dict.pkl')"
   ]
  },
  {
   "cell_type": "markdown",
   "metadata": {},
   "source": [
    "부정 사전 모듈화"
   ]
  },
  {
   "cell_type": "code",
   "execution_count": 4,
   "metadata": {},
   "outputs": [],
   "source": [
    "def neg_dict():\n",
    "    negative = pd.read_csv('ai/data_list/negative_dictionary.csv', encoding='utf-8')\n",
    "    negative_dict = negative['word'].values\n",
    "    negative_dict.tolist()\n",
    "    negative_word = ['엉망', '없이', '가고', '조금', '비추', '불편', '별로',\n",
    "                     '안', '때', '작은', '빨', '비싼', '별루',\n",
    "                     '몰랐', '이상', '오랫', '않아요', '불친절', '불쾌', '최악', '떨어짐',\n",
    "                     '빠지', '없', '높아', '근데', '따로', '번졌', '않',\n",
    "                     '깔끄', '의심', '폭망', '떡', '걱정']\n",
    "    negative_dict = np.append(negative_dict, negative_word)\n",
    "    \n",
    "    return negative_dict"
   ]
  },
  {
   "cell_type": "code",
   "execution_count": 5,
   "metadata": {},
   "outputs": [
    {
     "data": {
      "text/plain": [
       "['neg_dict.pkl']"
      ]
     },
     "execution_count": 5,
     "metadata": {},
     "output_type": "execute_result"
    }
   ],
   "source": [
    "joblib.dump(neg_dict(), 'neg_dict.pkl')"
   ]
  },
  {
   "cell_type": "code",
   "execution_count": 6,
   "metadata": {},
   "outputs": [],
   "source": [
    "pos_dict = joblib.load('pos_dict.pkl')"
   ]
  },
  {
   "cell_type": "code",
   "execution_count": 7,
   "metadata": {},
   "outputs": [],
   "source": [
    "neg_dict = joblib.load('neg_dict.pkl')"
   ]
  },
  {
   "cell_type": "code",
   "execution_count": 8,
   "metadata": {},
   "outputs": [],
   "source": [
    "def plus_label():\n",
    "    review = pd.read_table('ai/data_list/ratings_total.txt', names=['review_score', 'review_content'])\n",
    "    review = review[:8000]\n",
    "   \n",
    "    review['review_content'] = review['review_content'].apply(lambda x: re.sub(r'[^ ㄱ-ㅣ가-힣]+', '', x))\n",
    "    review.drop_duplicates(subset=['review_content'], inplace=True)\n",
    "\n",
    "    tfidf1 = TfidfVectorizer()\n",
    "    tfidf2 = TfidfVectorizer()\n",
    "\n",
    "    tfidf1.fit_transform(pos_dict).toarray()\n",
    "    tfidf2.fit_transform(neg_dict).toarray()\n",
    "    \n",
    "    review['label'] = np.nan\n",
    "    count = len(review)\n",
    "    for i in range(count):\n",
    "        positive_words_count=tfidf1.transform([review['review_content'][i]]).toarray().sum()\n",
    "        negative_words_count=tfidf2.transform([review['review_content'][i]]).toarray().sum()\n",
    "        if positive_words_count - negative_words_count > 0:\n",
    "            review.at[i, 'label'] = 1\n",
    "        else:\n",
    "            review.at[i, 'label'] = 0\n",
    "    return review"
   ]
  },
  {
   "cell_type": "code",
   "execution_count": 9,
   "metadata": {},
   "outputs": [
    {
     "data": {
      "text/plain": [
       "['plus_label.pkl']"
      ]
     },
     "execution_count": 9,
     "metadata": {},
     "output_type": "execute_result"
    }
   ],
   "source": [
    "joblib.dump(plus_label(), 'plus_label.pkl')"
   ]
  },
  {
   "cell_type": "code",
   "execution_count": 10,
   "metadata": {},
   "outputs": [],
   "source": [
    "plus_label = joblib.load('plus_label.pkl')"
   ]
  },
  {
   "cell_type": "code",
   "execution_count": 11,
   "metadata": {},
   "outputs": [],
   "source": [
    "def tfidf():    \n",
    "    review = plus_label\n",
    "    \n",
    "    X_train, X_test, y_train, y_test = train_test_split(\n",
    "            review['review_content'],\n",
    "            review['label'],\n",
    "            test_size=0.2,\n",
    "            random_state=42\n",
    "    )\n",
    "    \n",
    "    stopwords = pd.read_csv(\"https://raw.githubusercontent.com/yoonkt200/FastCampusDataset/master/korean_stopwords.txt\").values.tolist()\n",
    "    stopwords = sum(stopwords, [])\n",
    "    \n",
    "    tfidf = TfidfVectorizer(lowercase = True, stop_words=stopwords)\n",
    "    tfidf.fit(X_train)\n",
    "    \n",
    "    X_train =  tfidf.transform(X_train)\n",
    "    X_test= tfidf.transform(X_test)\n",
    "    \n",
    "    return tfidf, X_train, y_train, X_test"
   ]
  },
  {
   "cell_type": "code",
   "execution_count": 12,
   "metadata": {},
   "outputs": [
    {
     "data": {
      "text/plain": [
       "['tfidf.pkl']"
      ]
     },
     "execution_count": 12,
     "metadata": {},
     "output_type": "execute_result"
    }
   ],
   "source": [
    "joblib.dump(tfidf(), 'tfidf.pkl')"
   ]
  },
  {
   "cell_type": "code",
   "execution_count": 13,
   "metadata": {},
   "outputs": [],
   "source": [
    "tfidf = joblib.load('tfidf.pkl')"
   ]
  },
  {
   "cell_type": "code",
   "execution_count": 14,
   "metadata": {},
   "outputs": [],
   "source": [
    "def SA_lr():\n",
    "    tfidf_list = tfidf\n",
    "    SA_lr = LogisticRegression(random_state = 0)\n",
    "    SA_lr.fit(tfidf_list[1], tfidf_list[2])\n",
    "    return SA_lr"
   ]
  },
  {
   "cell_type": "code",
   "execution_count": 15,
   "metadata": {},
   "outputs": [
    {
     "data": {
      "text/plain": [
       "['SA_lr.pkl']"
      ]
     },
     "execution_count": 15,
     "metadata": {},
     "output_type": "execute_result"
    }
   ],
   "source": [
    "joblib.dump(SA_lr(), 'SA_lr.pkl')"
   ]
  },
  {
   "cell_type": "code",
   "execution_count": 16,
   "metadata": {},
   "outputs": [],
   "source": [
    "SA_lr = joblib.load('SA_lr.pkl')"
   ]
  },
  {
   "cell_type": "code",
   "execution_count": 17,
   "metadata": {},
   "outputs": [],
   "source": [
    "## 하나만 돌릴 때"
   ]
  },
  {
   "cell_type": "code",
   "execution_count": 35,
   "metadata": {},
   "outputs": [],
   "source": [
    "def labeling(df, column, i):\n",
    "    tfidf_list = tfidf\n",
    "    tfidf_module = tfidf_list[0]\n",
    "    SA_module = SA_lr\n",
    "    data = df[column][i]\n",
    "    data = re.sub(\"[^ㄱ-ㅎㅏ-ㅣ가-힣 ]\", \"\", data)\n",
    "    pn_tfidf = tfidf_module.transform([data])\n",
    "    predict = SA_module.predict(pn_tfidf)\n",
    "    if(predict[0] == 1):\n",
    "        df['review_label'] = df['review_label'].astype(str)\n",
    "        df.at[i, 'review_label'] = '1F60A'\n",
    "    else:\n",
    "        df['review_label'] = df['review_label'].astype(str)\n",
    "        df.at[i, 'review_label'] = '1F621'\n",
    "    print(df['review_label'][i])"
   ]
  },
  {
   "cell_type": "code",
   "execution_count": 36,
   "metadata": {},
   "outputs": [
    {
     "name": "stdout",
     "output_type": "stream",
     "text": [
      "1F60A\n"
     ]
    }
   ],
   "source": [
    "labeling(review2, 'review_content', 11)"
   ]
  },
  {
   "cell_type": "code",
   "execution_count": 37,
   "metadata": {},
   "outputs": [
    {
     "data": {
      "text/html": [
       "<div>\n",
       "<style scoped>\n",
       "    .dataframe tbody tr th:only-of-type {\n",
       "        vertical-align: middle;\n",
       "    }\n",
       "\n",
       "    .dataframe tbody tr th {\n",
       "        vertical-align: top;\n",
       "    }\n",
       "\n",
       "    .dataframe thead th {\n",
       "        text-align: right;\n",
       "    }\n",
       "</style>\n",
       "<table border=\"1\" class=\"dataframe\">\n",
       "  <thead>\n",
       "    <tr style=\"text-align: right;\">\n",
       "      <th></th>\n",
       "      <th>review_idx</th>\n",
       "      <th>product_idx</th>\n",
       "      <th>user_id</th>\n",
       "      <th>review_content</th>\n",
       "      <th>review_img</th>\n",
       "      <th>review_score</th>\n",
       "      <th>review_rgstdate</th>\n",
       "      <th>review_label</th>\n",
       "    </tr>\n",
       "  </thead>\n",
       "  <tbody>\n",
       "    <tr>\n",
       "      <th>0</th>\n",
       "      <td>1</td>\n",
       "      <td>1</td>\n",
       "      <td>admin</td>\n",
       "      <td>색감이 곱네요</td>\n",
       "      <td>good!.png</td>\n",
       "      <td>4.5</td>\n",
       "      <td>2022-05-13 15:10:51</td>\n",
       "      <td>1F621</td>\n",
       "    </tr>\n",
       "    <tr>\n",
       "      <th>1</th>\n",
       "      <td>3</td>\n",
       "      <td>1</td>\n",
       "      <td>aaaaaa1234</td>\n",
       "      <td>색이 오묘한게 정말 예뻐요 여름에 진짜 잘 입을 것 같아용 케키케</td>\n",
       "      <td>good!.png</td>\n",
       "      <td>5.0</td>\n",
       "      <td>2022-05-13 15:20:53</td>\n",
       "      <td>1F60A</td>\n",
       "    </tr>\n",
       "    <tr>\n",
       "      <th>2</th>\n",
       "      <td>4</td>\n",
       "      <td>1</td>\n",
       "      <td>use06048</td>\n",
       "      <td>우선 옷은 되게 얇아요! 그리고 제가 키가 큰 편이라 너무 짧고 작을까봐 걱정했는데...</td>\n",
       "      <td>good!.png</td>\n",
       "      <td>4.5</td>\n",
       "      <td>2022-05-13 15:20:53</td>\n",
       "      <td>1F621</td>\n",
       "    </tr>\n",
       "    <tr>\n",
       "      <th>3</th>\n",
       "      <td>5</td>\n",
       "      <td>1</td>\n",
       "      <td>qwer</td>\n",
       "      <td>색감이 너무 마음에 들어요! 사이즈도 괜찮고 디자인도 예뻐요~</td>\n",
       "      <td>good!.png</td>\n",
       "      <td>4.0</td>\n",
       "      <td>2022-05-13 15:20:53</td>\n",
       "      <td>1F60A</td>\n",
       "    </tr>\n",
       "    <tr>\n",
       "      <th>4</th>\n",
       "      <td>6</td>\n",
       "      <td>1</td>\n",
       "      <td>sdf</td>\n",
       "      <td>받고 나서 깜짝 놀랐네요 벽돌색이라고 하고 파세요 상품 사진에 나온 것보다 한참 어...</td>\n",
       "      <td>BAD.png</td>\n",
       "      <td>0.5</td>\n",
       "      <td>2022-05-13 15:20:53</td>\n",
       "      <td>1F621</td>\n",
       "    </tr>\n",
       "    <tr>\n",
       "      <th>5</th>\n",
       "      <td>7</td>\n",
       "      <td>1</td>\n",
       "      <td>use06048</td>\n",
       "      <td>예뻐요 짱짱 그냥 고민 없이 사세요 늦게 산 걸 후회하는 중..</td>\n",
       "      <td>well...png</td>\n",
       "      <td>3.5</td>\n",
       "      <td>2022-05-13 15:20:53</td>\n",
       "      <td>1F621</td>\n",
       "    </tr>\n",
       "    <tr>\n",
       "      <th>6</th>\n",
       "      <td>8</td>\n",
       "      <td>1</td>\n",
       "      <td>aaaaaa1234</td>\n",
       "      <td>배송은 빠르고 이런 스타일 좋아하는 사람은 좋아하겠고 레이어드 해서 입힐 생각</td>\n",
       "      <td>well...png</td>\n",
       "      <td>4.0</td>\n",
       "      <td>2022-05-13 15:20:53</td>\n",
       "      <td>1F60A</td>\n",
       "    </tr>\n",
       "    <tr>\n",
       "      <th>7</th>\n",
       "      <td>9</td>\n",
       "      <td>1</td>\n",
       "      <td>qwer</td>\n",
       "      <td>생각보다 더 얇고 작아요 ㅎㅎ 편하게 입기 좋을거 같습니다</td>\n",
       "      <td>good!.png</td>\n",
       "      <td>3.0</td>\n",
       "      <td>2022-05-13 15:20:53</td>\n",
       "      <td>1F60A</td>\n",
       "    </tr>\n",
       "    <tr>\n",
       "      <th>8</th>\n",
       "      <td>10</td>\n",
       "      <td>1</td>\n",
       "      <td>use06048</td>\n",
       "      <td>키 골격 큰편이어서 작을까봐 걱정했는데 생각보다 괜찮네영 여름에 롱스커트랑 닥마에 ...</td>\n",
       "      <td>well...png</td>\n",
       "      <td>4.5</td>\n",
       "      <td>2022-05-13 15:20:53</td>\n",
       "      <td>1F60A</td>\n",
       "    </tr>\n",
       "    <tr>\n",
       "      <th>9</th>\n",
       "      <td>11</td>\n",
       "      <td>1</td>\n",
       "      <td>sdf</td>\n",
       "      <td>옷만 보면 이쁨 바지도 청이나 어두운 계열 잘 어울릴 거 같아여</td>\n",
       "      <td>good!.png</td>\n",
       "      <td>3.5</td>\n",
       "      <td>2022-05-13 15:20:53</td>\n",
       "      <td>1F621</td>\n",
       "    </tr>\n",
       "    <tr>\n",
       "      <th>10</th>\n",
       "      <td>12</td>\n",
       "      <td>1</td>\n",
       "      <td>qwer</td>\n",
       "      <td>댓글들이 알바가 아닌가 의심스럽네요.. 별로에요..</td>\n",
       "      <td>BAD.png</td>\n",
       "      <td>1.0</td>\n",
       "      <td>2022-05-13 15:20:53</td>\n",
       "      <td>1F621</td>\n",
       "    </tr>\n",
       "    <tr>\n",
       "      <th>11</th>\n",
       "      <td>13</td>\n",
       "      <td>1</td>\n",
       "      <td>sdf</td>\n",
       "      <td>색이 오묘한게 정말 예뻐요 여름에 진짜 잘 입을 것 같아용 케키케</td>\n",
       "      <td>good!.png</td>\n",
       "      <td>4.0</td>\n",
       "      <td>2022-05-13 15:20:55</td>\n",
       "      <td>1F60A</td>\n",
       "    </tr>\n",
       "  </tbody>\n",
       "</table>\n",
       "</div>"
      ],
      "text/plain": [
       "    review_idx  product_idx     user_id  \\\n",
       "0            1            1       admin   \n",
       "1            3            1  aaaaaa1234   \n",
       "2            4            1    use06048   \n",
       "3            5            1        qwer   \n",
       "4            6            1         sdf   \n",
       "5            7            1    use06048   \n",
       "6            8            1  aaaaaa1234   \n",
       "7            9            1        qwer   \n",
       "8           10            1    use06048   \n",
       "9           11            1         sdf   \n",
       "10          12            1        qwer   \n",
       "11          13            1         sdf   \n",
       "\n",
       "                                       review_content  review_img  \\\n",
       "0                                             색감이 곱네요   good!.png   \n",
       "1                색이 오묘한게 정말 예뻐요 여름에 진짜 잘 입을 것 같아용 케키케   good!.png   \n",
       "2   우선 옷은 되게 얇아요! 그리고 제가 키가 큰 편이라 너무 짧고 작을까봐 걱정했는데...   good!.png   \n",
       "3                  색감이 너무 마음에 들어요! 사이즈도 괜찮고 디자인도 예뻐요~   good!.png   \n",
       "4   받고 나서 깜짝 놀랐네요 벽돌색이라고 하고 파세요 상품 사진에 나온 것보다 한참 어...     BAD.png   \n",
       "5                 예뻐요 짱짱 그냥 고민 없이 사세요 늦게 산 걸 후회하는 중..  well...png   \n",
       "6         배송은 빠르고 이런 스타일 좋아하는 사람은 좋아하겠고 레이어드 해서 입힐 생각  well...png   \n",
       "7                    생각보다 더 얇고 작아요 ㅎㅎ 편하게 입기 좋을거 같습니다   good!.png   \n",
       "8   키 골격 큰편이어서 작을까봐 걱정했는데 생각보다 괜찮네영 여름에 롱스커트랑 닥마에 ...  well...png   \n",
       "9                 옷만 보면 이쁨 바지도 청이나 어두운 계열 잘 어울릴 거 같아여   good!.png   \n",
       "10                       댓글들이 알바가 아닌가 의심스럽네요.. 별로에요..     BAD.png   \n",
       "11               색이 오묘한게 정말 예뻐요 여름에 진짜 잘 입을 것 같아용 케키케   good!.png   \n",
       "\n",
       "    review_score      review_rgstdate review_label  \n",
       "0            4.5  2022-05-13 15:10:51        1F621  \n",
       "1            5.0  2022-05-13 15:20:53        1F60A  \n",
       "2            4.5  2022-05-13 15:20:53        1F621  \n",
       "3            4.0  2022-05-13 15:20:53        1F60A  \n",
       "4            0.5  2022-05-13 15:20:53        1F621  \n",
       "5            3.5  2022-05-13 15:20:53        1F621  \n",
       "6            4.0  2022-05-13 15:20:53        1F60A  \n",
       "7            3.0  2022-05-13 15:20:53        1F60A  \n",
       "8            4.5  2022-05-13 15:20:53        1F60A  \n",
       "9            3.5  2022-05-13 15:20:53        1F621  \n",
       "10           1.0  2022-05-13 15:20:53        1F621  \n",
       "11           4.0  2022-05-13 15:20:55        1F60A  "
      ]
     },
     "execution_count": 37,
     "metadata": {},
     "output_type": "execute_result"
    }
   ],
   "source": [
    "review2"
   ]
  }
 ],
 "metadata": {
  "kernelspec": {
   "display_name": "Python 3",
   "language": "python",
   "name": "python3"
  },
  "language_info": {
   "codemirror_mode": {
    "name": "ipython",
    "version": 3
   },
   "file_extension": ".py",
   "mimetype": "text/x-python",
   "name": "python",
   "nbconvert_exporter": "python",
   "pygments_lexer": "ipython3",
   "version": "3.7.0"
  }
 },
 "nbformat": 4,
 "nbformat_minor": 2
}
