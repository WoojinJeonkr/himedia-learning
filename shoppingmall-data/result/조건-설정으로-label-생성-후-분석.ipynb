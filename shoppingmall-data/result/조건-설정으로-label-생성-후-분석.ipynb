{
 "cells": [
  {
   "cell_type": "markdown",
   "metadata": {},
   "source": [
    "# 구매 후기 긍정 / 부정 예측하기"
   ]
  },
  {
   "cell_type": "markdown",
   "metadata": {},
   "source": [
    "## 데이터 불러오기"
   ]
  },
  {
   "cell_type": "code",
   "execution_count": 1,
   "metadata": {},
   "outputs": [],
   "source": [
    "import re\n",
    "import pandas as pd\n",
    "import numpy as np\n",
    "import matplotlib.pyplot as plt\n",
    "import urllib.request\n",
    "from sklearn.model_selection import train_test_split"
   ]
  },
  {
   "cell_type": "code",
   "execution_count": 2,
   "metadata": {},
   "outputs": [],
   "source": [
    "# 경고창 무시\n",
    "import warnings\n",
    "warnings.filterwarnings(action='ignore')"
   ]
  },
  {
   "cell_type": "code",
   "execution_count": 3,
   "metadata": {},
   "outputs": [
    {
     "data": {
      "text/html": [
       "<div>\n",
       "<style scoped>\n",
       "    .dataframe tbody tr th:only-of-type {\n",
       "        vertical-align: middle;\n",
       "    }\n",
       "\n",
       "    .dataframe tbody tr th {\n",
       "        vertical-align: top;\n",
       "    }\n",
       "\n",
       "    .dataframe thead th {\n",
       "        text-align: right;\n",
       "    }\n",
       "</style>\n",
       "<table border=\"1\" class=\"dataframe\">\n",
       "  <thead>\n",
       "    <tr style=\"text-align: right;\">\n",
       "      <th></th>\n",
       "      <th>review_idx</th>\n",
       "      <th>product_idx</th>\n",
       "      <th>user_id</th>\n",
       "      <th>review_content</th>\n",
       "      <th>review_img</th>\n",
       "      <th>review_score</th>\n",
       "      <th>review_rgstdate</th>\n",
       "    </tr>\n",
       "  </thead>\n",
       "  <tbody>\n",
       "    <tr>\n",
       "      <th>0</th>\n",
       "      <td>1</td>\n",
       "      <td>1</td>\n",
       "      <td>admin</td>\n",
       "      <td>색감이 곱네요</td>\n",
       "      <td>good!.png</td>\n",
       "      <td>4.5</td>\n",
       "      <td>2022-05-13 15:10:51</td>\n",
       "    </tr>\n",
       "    <tr>\n",
       "      <th>1</th>\n",
       "      <td>3</td>\n",
       "      <td>1</td>\n",
       "      <td>aaaaaa1234</td>\n",
       "      <td>색이 오묘한게 정말 예뻐요 여름에 진짜 잘 입을 것 같아용 케키케</td>\n",
       "      <td>good!.png</td>\n",
       "      <td>5.0</td>\n",
       "      <td>2022-05-13 15:20:53</td>\n",
       "    </tr>\n",
       "    <tr>\n",
       "      <th>2</th>\n",
       "      <td>4</td>\n",
       "      <td>1</td>\n",
       "      <td>use06048</td>\n",
       "      <td>우선 옷은 되게 얇아요! 그리고 제가 키가 큰 편이라 너무 짧고 작을까봐 걱정했는데...</td>\n",
       "      <td>good!.png</td>\n",
       "      <td>4.5</td>\n",
       "      <td>2022-05-13 15:20:53</td>\n",
       "    </tr>\n",
       "    <tr>\n",
       "      <th>3</th>\n",
       "      <td>5</td>\n",
       "      <td>1</td>\n",
       "      <td>qwer</td>\n",
       "      <td>색감이 너무 마음에 들어요! 사이즈도 괜찮고 디자인도 예뻐요~</td>\n",
       "      <td>good!.png</td>\n",
       "      <td>4.0</td>\n",
       "      <td>2022-05-13 15:20:53</td>\n",
       "    </tr>\n",
       "    <tr>\n",
       "      <th>4</th>\n",
       "      <td>6</td>\n",
       "      <td>1</td>\n",
       "      <td>sdf</td>\n",
       "      <td>받고 나서 깜짝 놀랐네요 벽돌색이라고 하고 파세요 상품 사진에 나온 것보다 한참 어...</td>\n",
       "      <td>BAD.png</td>\n",
       "      <td>0.5</td>\n",
       "      <td>2022-05-13 15:20:53</td>\n",
       "    </tr>\n",
       "    <tr>\n",
       "      <th>5</th>\n",
       "      <td>7</td>\n",
       "      <td>1</td>\n",
       "      <td>use06048</td>\n",
       "      <td>예뻐요 짱짱 그냥 고민 없이 사세요 늦게 산 걸 후회하는 중..</td>\n",
       "      <td>well...png</td>\n",
       "      <td>3.5</td>\n",
       "      <td>2022-05-13 15:20:53</td>\n",
       "    </tr>\n",
       "    <tr>\n",
       "      <th>6</th>\n",
       "      <td>8</td>\n",
       "      <td>1</td>\n",
       "      <td>aaaaaa1234</td>\n",
       "      <td>배송은 빠르고 이런 스타일 좋아하는 사람은 좋아하겠고 레이어드 해서 입힐 생각</td>\n",
       "      <td>well...png</td>\n",
       "      <td>4.0</td>\n",
       "      <td>2022-05-13 15:20:53</td>\n",
       "    </tr>\n",
       "    <tr>\n",
       "      <th>7</th>\n",
       "      <td>9</td>\n",
       "      <td>1</td>\n",
       "      <td>qwer</td>\n",
       "      <td>생각보다 더 얇고 작아요 ㅎㅎ 편하게 입기 좋을거 같습니다</td>\n",
       "      <td>good!.png</td>\n",
       "      <td>3.0</td>\n",
       "      <td>2022-05-13 15:20:53</td>\n",
       "    </tr>\n",
       "    <tr>\n",
       "      <th>8</th>\n",
       "      <td>10</td>\n",
       "      <td>1</td>\n",
       "      <td>use06048</td>\n",
       "      <td>키 골격 큰편이어서 작을까봐 걱정했는데 생각보다 괜찮네영 여름에 롱스커트랑 닥마에 ...</td>\n",
       "      <td>well...png</td>\n",
       "      <td>4.5</td>\n",
       "      <td>2022-05-13 15:20:53</td>\n",
       "    </tr>\n",
       "    <tr>\n",
       "      <th>9</th>\n",
       "      <td>11</td>\n",
       "      <td>1</td>\n",
       "      <td>sdf</td>\n",
       "      <td>옷만 보면 이쁨 바지도 청이나 어두운 계열 잘 어울릴 거 같아여</td>\n",
       "      <td>good!.png</td>\n",
       "      <td>3.5</td>\n",
       "      <td>2022-05-13 15:20:53</td>\n",
       "    </tr>\n",
       "    <tr>\n",
       "      <th>10</th>\n",
       "      <td>12</td>\n",
       "      <td>1</td>\n",
       "      <td>qwer</td>\n",
       "      <td>댓글들이 알바가 아닌가 의심스럽네요.. 별로에요..</td>\n",
       "      <td>BAD.png</td>\n",
       "      <td>1.0</td>\n",
       "      <td>2022-05-13 15:20:53</td>\n",
       "    </tr>\n",
       "  </tbody>\n",
       "</table>\n",
       "</div>"
      ],
      "text/plain": [
       "    review_idx  product_idx     user_id  \\\n",
       "0            1            1       admin   \n",
       "1            3            1  aaaaaa1234   \n",
       "2            4            1    use06048   \n",
       "3            5            1        qwer   \n",
       "4            6            1         sdf   \n",
       "5            7            1    use06048   \n",
       "6            8            1  aaaaaa1234   \n",
       "7            9            1        qwer   \n",
       "8           10            1    use06048   \n",
       "9           11            1         sdf   \n",
       "10          12            1        qwer   \n",
       "\n",
       "                                       review_content  review_img  \\\n",
       "0                                             색감이 곱네요   good!.png   \n",
       "1                색이 오묘한게 정말 예뻐요 여름에 진짜 잘 입을 것 같아용 케키케   good!.png   \n",
       "2   우선 옷은 되게 얇아요! 그리고 제가 키가 큰 편이라 너무 짧고 작을까봐 걱정했는데...   good!.png   \n",
       "3                  색감이 너무 마음에 들어요! 사이즈도 괜찮고 디자인도 예뻐요~   good!.png   \n",
       "4   받고 나서 깜짝 놀랐네요 벽돌색이라고 하고 파세요 상품 사진에 나온 것보다 한참 어...     BAD.png   \n",
       "5                 예뻐요 짱짱 그냥 고민 없이 사세요 늦게 산 걸 후회하는 중..  well...png   \n",
       "6         배송은 빠르고 이런 스타일 좋아하는 사람은 좋아하겠고 레이어드 해서 입힐 생각  well...png   \n",
       "7                    생각보다 더 얇고 작아요 ㅎㅎ 편하게 입기 좋을거 같습니다   good!.png   \n",
       "8   키 골격 큰편이어서 작을까봐 걱정했는데 생각보다 괜찮네영 여름에 롱스커트랑 닥마에 ...  well...png   \n",
       "9                 옷만 보면 이쁨 바지도 청이나 어두운 계열 잘 어울릴 거 같아여   good!.png   \n",
       "10                       댓글들이 알바가 아닌가 의심스럽네요.. 별로에요..     BAD.png   \n",
       "\n",
       "    review_score      review_rgstdate  \n",
       "0            4.5  2022-05-13 15:10:51  \n",
       "1            5.0  2022-05-13 15:20:53  \n",
       "2            4.5  2022-05-13 15:20:53  \n",
       "3            4.0  2022-05-13 15:20:53  \n",
       "4            0.5  2022-05-13 15:20:53  \n",
       "5            3.5  2022-05-13 15:20:53  \n",
       "6            4.0  2022-05-13 15:20:53  \n",
       "7            3.0  2022-05-13 15:20:53  \n",
       "8            4.5  2022-05-13 15:20:53  \n",
       "9            3.5  2022-05-13 15:20:53  \n",
       "10           1.0  2022-05-13 15:20:53  "
      ]
     },
     "execution_count": 3,
     "metadata": {},
     "output_type": "execute_result"
    }
   ],
   "source": [
    "review = pd.read_csv('../data_list/review_202205161607.csv', encoding='utf-8-sig')\n",
    "review"
   ]
  },
  {
   "cell_type": "markdown",
   "metadata": {},
   "source": [
    "## 데이터 정제"
   ]
  },
  {
   "cell_type": "code",
   "execution_count": 4,
   "metadata": {},
   "outputs": [
    {
     "name": "stdout",
     "output_type": "stream",
     "text": [
      "review_idx         0\n",
      "product_idx        0\n",
      "user_id            0\n",
      "review_content     0\n",
      "review_img         0\n",
      "review_score       0\n",
      "review_rgstdate    0\n",
      "dtype: int64\n"
     ]
    }
   ],
   "source": [
    "# 한글과 공백을 제외하고 모두 제거\n",
    "review['review_content'] = review['review_content'].str.replace(\"[^ㄱ-ㅎㅏ-ㅣ가-힣 ]\",\"\")\n",
    "review['review_content'].replace('', np.nan, inplace=True)\n",
    "print(review.isnull().sum())"
   ]
  },
  {
   "cell_type": "code",
   "execution_count": 5,
   "metadata": {},
   "outputs": [
    {
     "data": {
      "text/plain": [
       "0                                              색감이 곱네요\n",
       "1                 색이 오묘한게 정말 예뻐요 여름에 진짜 잘 입을 것 같아용 케키케\n",
       "2    우선 옷은 되게 얇아요 그리고 제가 키가 큰 편이라 너무 짧고 작을까봐 걱정했는데 ...\n",
       "Name: review_content, dtype: object"
      ]
     },
     "execution_count": 5,
     "metadata": {},
     "output_type": "execute_result"
    }
   ],
   "source": [
    "review['review_content'][:3]"
   ]
  },
  {
   "cell_type": "markdown",
   "metadata": {},
   "source": [
    "## 평점이 3보다 크면 긍정(1), 그렇지 않다면 부정(0)으로 분류해서 label이라는 컬럼 생성"
   ]
  },
  {
   "cell_type": "code",
   "execution_count": 6,
   "metadata": {},
   "outputs": [
    {
     "data": {
      "text/html": [
       "<div>\n",
       "<style scoped>\n",
       "    .dataframe tbody tr th:only-of-type {\n",
       "        vertical-align: middle;\n",
       "    }\n",
       "\n",
       "    .dataframe tbody tr th {\n",
       "        vertical-align: top;\n",
       "    }\n",
       "\n",
       "    .dataframe thead th {\n",
       "        text-align: right;\n",
       "    }\n",
       "</style>\n",
       "<table border=\"1\" class=\"dataframe\">\n",
       "  <thead>\n",
       "    <tr style=\"text-align: right;\">\n",
       "      <th></th>\n",
       "      <th>review_idx</th>\n",
       "      <th>product_idx</th>\n",
       "      <th>user_id</th>\n",
       "      <th>review_content</th>\n",
       "      <th>review_img</th>\n",
       "      <th>review_score</th>\n",
       "      <th>review_rgstdate</th>\n",
       "      <th>label</th>\n",
       "    </tr>\n",
       "  </thead>\n",
       "  <tbody>\n",
       "    <tr>\n",
       "      <th>0</th>\n",
       "      <td>1</td>\n",
       "      <td>1</td>\n",
       "      <td>admin</td>\n",
       "      <td>색감이 곱네요</td>\n",
       "      <td>good!.png</td>\n",
       "      <td>4.5</td>\n",
       "      <td>2022-05-13 15:10:51</td>\n",
       "      <td>1</td>\n",
       "    </tr>\n",
       "    <tr>\n",
       "      <th>1</th>\n",
       "      <td>3</td>\n",
       "      <td>1</td>\n",
       "      <td>aaaaaa1234</td>\n",
       "      <td>색이 오묘한게 정말 예뻐요 여름에 진짜 잘 입을 것 같아용 케키케</td>\n",
       "      <td>good!.png</td>\n",
       "      <td>5.0</td>\n",
       "      <td>2022-05-13 15:20:53</td>\n",
       "      <td>1</td>\n",
       "    </tr>\n",
       "    <tr>\n",
       "      <th>2</th>\n",
       "      <td>4</td>\n",
       "      <td>1</td>\n",
       "      <td>use06048</td>\n",
       "      <td>우선 옷은 되게 얇아요 그리고 제가 키가 큰 편이라 너무 짧고 작을까봐 걱정했는데 ...</td>\n",
       "      <td>good!.png</td>\n",
       "      <td>4.5</td>\n",
       "      <td>2022-05-13 15:20:53</td>\n",
       "      <td>1</td>\n",
       "    </tr>\n",
       "    <tr>\n",
       "      <th>3</th>\n",
       "      <td>5</td>\n",
       "      <td>1</td>\n",
       "      <td>qwer</td>\n",
       "      <td>색감이 너무 마음에 들어요 사이즈도 괜찮고 디자인도 예뻐요</td>\n",
       "      <td>good!.png</td>\n",
       "      <td>4.0</td>\n",
       "      <td>2022-05-13 15:20:53</td>\n",
       "      <td>1</td>\n",
       "    </tr>\n",
       "    <tr>\n",
       "      <th>4</th>\n",
       "      <td>6</td>\n",
       "      <td>1</td>\n",
       "      <td>sdf</td>\n",
       "      <td>받고 나서 깜짝 놀랐네요 벽돌색이라고 하고 파세요 상품 사진에 나온 것보다 한참 어...</td>\n",
       "      <td>BAD.png</td>\n",
       "      <td>0.5</td>\n",
       "      <td>2022-05-13 15:20:53</td>\n",
       "      <td>0</td>\n",
       "    </tr>\n",
       "  </tbody>\n",
       "</table>\n",
       "</div>"
      ],
      "text/plain": [
       "   review_idx  product_idx     user_id  \\\n",
       "0           1            1       admin   \n",
       "1           3            1  aaaaaa1234   \n",
       "2           4            1    use06048   \n",
       "3           5            1        qwer   \n",
       "4           6            1         sdf   \n",
       "\n",
       "                                      review_content review_img  review_score  \\\n",
       "0                                            색감이 곱네요  good!.png           4.5   \n",
       "1               색이 오묘한게 정말 예뻐요 여름에 진짜 잘 입을 것 같아용 케키케  good!.png           5.0   \n",
       "2  우선 옷은 되게 얇아요 그리고 제가 키가 큰 편이라 너무 짧고 작을까봐 걱정했는데 ...  good!.png           4.5   \n",
       "3                   색감이 너무 마음에 들어요 사이즈도 괜찮고 디자인도 예뻐요  good!.png           4.0   \n",
       "4  받고 나서 깜짝 놀랐네요 벽돌색이라고 하고 파세요 상품 사진에 나온 것보다 한참 어...    BAD.png           0.5   \n",
       "\n",
       "       review_rgstdate  label  \n",
       "0  2022-05-13 15:10:51      1  \n",
       "1  2022-05-13 15:20:53      1  \n",
       "2  2022-05-13 15:20:53      1  \n",
       "3  2022-05-13 15:20:53      1  \n",
       "4  2022-05-13 15:20:53      0  "
      ]
     },
     "execution_count": 6,
     "metadata": {},
     "output_type": "execute_result"
    }
   ],
   "source": [
    "review['label'] = np.select([review['review_score'] > 3], [1], default=0)\n",
    "review[:5]"
   ]
  },
  {
   "cell_type": "code",
   "execution_count": 7,
   "metadata": {},
   "outputs": [
    {
     "data": {
      "text/html": [
       "<div>\n",
       "<style scoped>\n",
       "    .dataframe tbody tr th:only-of-type {\n",
       "        vertical-align: middle;\n",
       "    }\n",
       "\n",
       "    .dataframe tbody tr th {\n",
       "        vertical-align: top;\n",
       "    }\n",
       "\n",
       "    .dataframe thead th {\n",
       "        text-align: right;\n",
       "    }\n",
       "</style>\n",
       "<table border=\"1\" class=\"dataframe\">\n",
       "  <thead>\n",
       "    <tr style=\"text-align: right;\">\n",
       "      <th></th>\n",
       "      <th>review_content</th>\n",
       "      <th>label</th>\n",
       "    </tr>\n",
       "  </thead>\n",
       "  <tbody>\n",
       "    <tr>\n",
       "      <th>0</th>\n",
       "      <td>색감이 곱네요</td>\n",
       "      <td>1</td>\n",
       "    </tr>\n",
       "    <tr>\n",
       "      <th>1</th>\n",
       "      <td>색이 오묘한게 정말 예뻐요 여름에 진짜 잘 입을 것 같아용 케키케</td>\n",
       "      <td>1</td>\n",
       "    </tr>\n",
       "    <tr>\n",
       "      <th>2</th>\n",
       "      <td>우선 옷은 되게 얇아요 그리고 제가 키가 큰 편이라 너무 짧고 작을까봐 걱정했는데 ...</td>\n",
       "      <td>1</td>\n",
       "    </tr>\n",
       "  </tbody>\n",
       "</table>\n",
       "</div>"
      ],
      "text/plain": [
       "                                      review_content  label\n",
       "0                                            색감이 곱네요      1\n",
       "1               색이 오묘한게 정말 예뻐요 여름에 진짜 잘 입을 것 같아용 케키케      1\n",
       "2  우선 옷은 되게 얇아요 그리고 제가 키가 큰 편이라 너무 짧고 작을까봐 걱정했는데 ...      1"
      ]
     },
     "execution_count": 7,
     "metadata": {},
     "output_type": "execute_result"
    }
   ],
   "source": [
    "review_data = review[['review_content', 'label']]\n",
    "review_data[:3]"
   ]
  },
  {
   "cell_type": "code",
   "execution_count": 8,
   "metadata": {},
   "outputs": [],
   "source": [
    "X_train, X_test, y_train, y_test = train_test_split(\n",
    "            review['review_content'],\n",
    "            review['label'],\n",
    "            test_size=0.2,\n",
    "            random_state=42\n",
    ")"
   ]
  },
  {
   "cell_type": "markdown",
   "metadata": {},
   "source": [
    "## RANKS NL에서 제공하는 한국어 불용어 사전 사용 & vectorize => choice(Counter, Tf-idf) : fit(train) —> transform(train,test)"
   ]
  },
  {
   "cell_type": "code",
   "execution_count": 9,
   "metadata": {},
   "outputs": [],
   "source": [
    "from sklearn.feature_extraction.text import TfidfVectorizer, CountVectorizer"
   ]
  },
  {
   "cell_type": "code",
   "execution_count": 10,
   "metadata": {},
   "outputs": [
    {
     "data": {
      "text/plain": [
       "['휴', '아이구', '아이쿠', '아이고', '어', '나', '우리', '저희', '따라', '의해']"
      ]
     },
     "execution_count": 10,
     "metadata": {},
     "output_type": "execute_result"
    }
   ],
   "source": [
    "stopwords = pd.read_csv(\"https://raw.githubusercontent.com/yoonkt200/FastCampusDataset/master/korean_stopwords.txt\").values.tolist()\n",
    "stopwords = sum(stopwords, [])\n",
    "stopwords[:10]"
   ]
  },
  {
   "cell_type": "code",
   "execution_count": 11,
   "metadata": {},
   "outputs": [],
   "source": [
    "tfidf = TfidfVectorizer(lowercase = True, stop_words=stopwords)"
   ]
  },
  {
   "cell_type": "code",
   "execution_count": 12,
   "metadata": {},
   "outputs": [
    {
     "data": {
      "text/plain": [
       "TfidfVectorizer(stop_words=['휴', '아이구', '아이쿠', '아이고', '어', '나', '우리', '저희',\n",
       "                            '따라', '의해', '을', '를', '에', '의', '가', '으로', '로',\n",
       "                            '에게', '뿐이다', '의거하여', '근거하여', '입각하여', '기준으로', '예하면',\n",
       "                            '예를 들면', '예를 들자면', '저', '소인', '소생', '저희', ...])"
      ]
     },
     "execution_count": 12,
     "metadata": {},
     "output_type": "execute_result"
    }
   ],
   "source": [
    "tfidf.fit(X_train)"
   ]
  },
  {
   "cell_type": "code",
   "execution_count": 13,
   "metadata": {},
   "outputs": [],
   "source": [
    "X_train =  tfidf.transform(X_train)"
   ]
  },
  {
   "cell_type": "code",
   "execution_count": 14,
   "metadata": {},
   "outputs": [],
   "source": [
    "X_test= tfidf.transform(X_test)"
   ]
  },
  {
   "cell_type": "code",
   "execution_count": 15,
   "metadata": {},
   "outputs": [
    {
     "name": "stdout",
     "output_type": "stream",
     "text": [
      "(8, 91) (3, 91)\n"
     ]
    }
   ],
   "source": [
    "print(X_train.shape, X_test.shape)"
   ]
  },
  {
   "cell_type": "code",
   "execution_count": 16,
   "metadata": {},
   "outputs": [
    {
     "data": {
      "text/plain": [
       "[array(['의심스럽네요', '알바가', '아닌가', '별로에요', '댓글들이'], dtype='<U7')]"
      ]
     },
     "execution_count": 16,
     "metadata": {},
     "output_type": "execute_result"
    }
   ],
   "source": [
    "tfidf.inverse_transform(X_train[:1])"
   ]
  },
  {
   "cell_type": "code",
   "execution_count": 17,
   "metadata": {},
   "outputs": [
    {
     "data": {
      "text/plain": [
       "[array(['예뻐요', '사세요', '그냥'], dtype='<U7')]"
      ]
     },
     "execution_count": 17,
     "metadata": {},
     "output_type": "execute_result"
    }
   ],
   "source": [
    "tfidf.inverse_transform(X_test[:1])"
   ]
  },
  {
   "cell_type": "markdown",
   "metadata": {},
   "source": [
    "## ml model fit(train) => predict(test) => accuracy check"
   ]
  },
  {
   "cell_type": "code",
   "execution_count": 18,
   "metadata": {},
   "outputs": [],
   "source": [
    "from sklearn.linear_model import LogisticRegression\n",
    "from sklearn.metrics import accuracy_score"
   ]
  },
  {
   "cell_type": "code",
   "execution_count": 19,
   "metadata": {},
   "outputs": [],
   "source": [
    "SA_lr = LogisticRegression(random_state = 0)"
   ]
  },
  {
   "cell_type": "code",
   "execution_count": 20,
   "metadata": {},
   "outputs": [
    {
     "data": {
      "text/plain": [
       "LogisticRegression(random_state=0)"
      ]
     },
     "execution_count": 20,
     "metadata": {},
     "output_type": "execute_result"
    }
   ],
   "source": [
    "SA_lr.fit(X_train, y_train)"
   ]
  },
  {
   "cell_type": "code",
   "execution_count": 21,
   "metadata": {},
   "outputs": [],
   "source": [
    "test_predict = SA_lr.predict(X_test)"
   ]
  },
  {
   "cell_type": "code",
   "execution_count": 22,
   "metadata": {},
   "outputs": [
    {
     "name": "stdout",
     "output_type": "stream",
     "text": [
      "긍정 / 부정 분석 정확도 :  1.0\n"
     ]
    }
   ],
   "source": [
    "print('긍정 / 부정 분석 정확도 : ', round(accuracy_score(y_test, test_predict), 5))"
   ]
  },
  {
   "cell_type": "markdown",
   "metadata": {},
   "source": [
    "## one review => predict!!"
   ]
  },
  {
   "cell_type": "code",
   "execution_count": 23,
   "metadata": {},
   "outputs": [],
   "source": [
    "nr = review['review_content'][6]"
   ]
  },
  {
   "cell_type": "code",
   "execution_count": 24,
   "metadata": {},
   "outputs": [
    {
     "data": {
      "text/plain": [
       "'배송은 빠르고 이런 스타일 좋아하는 사람은 좋아하겠고 레이어드 해서 입힐 생각'"
      ]
     },
     "execution_count": 24,
     "metadata": {},
     "output_type": "execute_result"
    }
   ],
   "source": [
    "nr = re.sub(\"[^ㄱ-ㅎㅏ-ㅣ가-힣 ]\", \"\", nr)\n",
    "nr"
   ]
  },
  {
   "cell_type": "code",
   "execution_count": 25,
   "metadata": {},
   "outputs": [
    {
     "data": {
      "text/plain": [
       "<1x91 sparse matrix of type '<class 'numpy.float64'>'\n",
       "\twith 10 stored elements in Compressed Sparse Row format>"
      ]
     },
     "execution_count": 25,
     "metadata": {},
     "output_type": "execute_result"
    }
   ],
   "source": [
    "nr_tfidf = tfidf.transform([nr])\n",
    "nr_tfidf"
   ]
  },
  {
   "cell_type": "code",
   "execution_count": 26,
   "metadata": {},
   "outputs": [
    {
     "data": {
      "text/plain": [
       "(array([1]), 1)"
      ]
     },
     "execution_count": 26,
     "metadata": {},
     "output_type": "execute_result"
    }
   ],
   "source": [
    "nr_predict = SA_lr.predict(nr_tfidf)\n",
    "nr_predict, nr_predict[0]"
   ]
  },
  {
   "cell_type": "code",
   "execution_count": 27,
   "metadata": {},
   "outputs": [
    {
     "name": "stdout",
     "output_type": "stream",
     "text": [
      "배송은 빠르고 이런 스타일 좋아하는 사람은 좋아하겠고 레이어드 해서 입힐 생각 ==> 긍정적인 후기입니다\n"
     ]
    }
   ],
   "source": [
    "if(nr_predict[0] == 1):\n",
    "    print(nr, '==> 긍정적인 후기입니다')\n",
    "else:\n",
    "    print(nr, '==> 부정적인 후기입니다')"
   ]
  }
 ],
 "metadata": {
  "kernelspec": {
   "display_name": "Python 3",
   "language": "python",
   "name": "python3"
  },
  "language_info": {
   "codemirror_mode": {
    "name": "ipython",
    "version": 3
   },
   "file_extension": ".py",
   "mimetype": "text/x-python",
   "name": "python",
   "nbconvert_exporter": "python",
   "pygments_lexer": "ipython3",
   "version": "3.7.0"
  }
 },
 "nbformat": 4,
 "nbformat_minor": 2
}
