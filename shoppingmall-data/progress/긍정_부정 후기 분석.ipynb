{
 "cells": [
  {
   "cell_type": "markdown",
   "metadata": {},
   "source": [
    "# 긍정 / 부정 댓글 분석"
   ]
  },
  {
   "cell_type": "markdown",
   "metadata": {},
   "source": [
    "## 1. 라이브러리 추가"
   ]
  },
  {
   "cell_type": "code",
   "execution_count": 1,
   "metadata": {},
   "outputs": [],
   "source": [
    "import re\n",
    "import pandas as pd\n",
    "import numpy as np\n",
    "import matplotlib.pyplot as plt\n",
    "import urllib.request\n",
    "from sklearn.model_selection import train_test_split"
   ]
  },
  {
   "cell_type": "code",
   "execution_count": 2,
   "metadata": {},
   "outputs": [],
   "source": [
    "# 경고창 무시\n",
    "import warnings\n",
    "warnings.filterwarnings(action='ignore')"
   ]
  },
  {
   "cell_type": "markdown",
   "metadata": {},
   "source": [
    "## 2. 데이터 불러오기 및 전처리"
   ]
  },
  {
   "cell_type": "code",
   "execution_count": 3,
   "metadata": {},
   "outputs": [
    {
     "data": {
      "text/html": [
       "<div>\n",
       "<style scoped>\n",
       "    .dataframe tbody tr th:only-of-type {\n",
       "        vertical-align: middle;\n",
       "    }\n",
       "\n",
       "    .dataframe tbody tr th {\n",
       "        vertical-align: top;\n",
       "    }\n",
       "\n",
       "    .dataframe thead th {\n",
       "        text-align: right;\n",
       "    }\n",
       "</style>\n",
       "<table border=\"1\" class=\"dataframe\">\n",
       "  <thead>\n",
       "    <tr style=\"text-align: right;\">\n",
       "      <th></th>\n",
       "      <th>review_score</th>\n",
       "      <th>review_content</th>\n",
       "      <th>label</th>\n",
       "    </tr>\n",
       "  </thead>\n",
       "  <tbody>\n",
       "    <tr>\n",
       "      <th>0</th>\n",
       "      <td>5</td>\n",
       "      <td>배송 빠르고 굿</td>\n",
       "      <td>1</td>\n",
       "    </tr>\n",
       "    <tr>\n",
       "      <th>1</th>\n",
       "      <td>2</td>\n",
       "      <td>택배가 엉망이네용 저희집 밑에층에 말도없이 놔두고가고</td>\n",
       "      <td>0</td>\n",
       "    </tr>\n",
       "    <tr>\n",
       "      <th>2</th>\n",
       "      <td>5</td>\n",
       "      <td>아주 좋아요 바지 정말 좋아서개 더 구매했어요 이 가격에 대박입니다 바느질이 조금 ...</td>\n",
       "      <td>1</td>\n",
       "    </tr>\n",
       "  </tbody>\n",
       "</table>\n",
       "</div>"
      ],
      "text/plain": [
       "   review_score                                     review_content  label\n",
       "0             5                                           배송 빠르고 굿      1\n",
       "1             2                      택배가 엉망이네용 저희집 밑에층에 말도없이 놔두고가고      0\n",
       "2             5  아주 좋아요 바지 정말 좋아서개 더 구매했어요 이 가격에 대박입니다 바느질이 조금 ...      1"
      ]
     },
     "execution_count": 3,
     "metadata": {},
     "output_type": "execute_result"
    }
   ],
   "source": [
    "train_df = pd.read_csv('../data_list/train_df.csv', encoding='utf-8')\n",
    "train_df[:3]"
   ]
  },
  {
   "cell_type": "code",
   "execution_count": 4,
   "metadata": {},
   "outputs": [],
   "source": [
    "train_df = train_df[train_df['review_content'].notnull()]\n",
    "train_df['review_content'] = train_df['review_content'].apply(lambda x: re.sub(r'[^ ㄱ-ㅣ가-힣]+', '', x))"
   ]
  },
  {
   "cell_type": "code",
   "execution_count": 5,
   "metadata": {},
   "outputs": [
    {
     "data": {
      "text/html": [
       "<div>\n",
       "<style scoped>\n",
       "    .dataframe tbody tr th:only-of-type {\n",
       "        vertical-align: middle;\n",
       "    }\n",
       "\n",
       "    .dataframe tbody tr th {\n",
       "        vertical-align: top;\n",
       "    }\n",
       "\n",
       "    .dataframe thead th {\n",
       "        text-align: right;\n",
       "    }\n",
       "</style>\n",
       "<table border=\"1\" class=\"dataframe\">\n",
       "  <thead>\n",
       "    <tr style=\"text-align: right;\">\n",
       "      <th></th>\n",
       "      <th>review_score</th>\n",
       "      <th>review_content</th>\n",
       "      <th>label</th>\n",
       "    </tr>\n",
       "  </thead>\n",
       "  <tbody>\n",
       "    <tr>\n",
       "      <th>0</th>\n",
       "      <td>4.5</td>\n",
       "      <td>색감이 곱네요</td>\n",
       "      <td>1.0</td>\n",
       "    </tr>\n",
       "    <tr>\n",
       "      <th>1</th>\n",
       "      <td>5.0</td>\n",
       "      <td>색이 오묘한게 정말 예뻐요 여름에 진짜 잘 입을 것 같아용 케키케</td>\n",
       "      <td>1.0</td>\n",
       "    </tr>\n",
       "    <tr>\n",
       "      <th>2</th>\n",
       "      <td>4.5</td>\n",
       "      <td>우선 옷은 되게 얇아요 그리고 제가 키가 큰 편이라 너무 짧고 작을까봐 걱정했는데 ...</td>\n",
       "      <td>0.0</td>\n",
       "    </tr>\n",
       "  </tbody>\n",
       "</table>\n",
       "</div>"
      ],
      "text/plain": [
       "   review_score                                     review_content  label\n",
       "0           4.5                                            색감이 곱네요    1.0\n",
       "1           5.0               색이 오묘한게 정말 예뻐요 여름에 진짜 잘 입을 것 같아용 케키케    1.0\n",
       "2           4.5  우선 옷은 되게 얇아요 그리고 제가 키가 큰 편이라 너무 짧고 작을까봐 걱정했는데 ...    0.0"
      ]
     },
     "execution_count": 5,
     "metadata": {},
     "output_type": "execute_result"
    }
   ],
   "source": [
    "test_df = pd.read_csv('../data_list/test_df.csv', encoding='utf-8')\n",
    "test_df[:3]"
   ]
  },
  {
   "cell_type": "code",
   "execution_count": 6,
   "metadata": {},
   "outputs": [],
   "source": [
    "test_df = test_df[test_df['review_content'].notnull()]\n",
    "test_df['review_content'] = test_df['review_content'].apply(lambda x: re.sub(r'[^ ㄱ-ㅣ가-힣]+', '', x))"
   ]
  },
  {
   "cell_type": "code",
   "execution_count": 7,
   "metadata": {},
   "outputs": [
    {
     "data": {
      "text/plain": [
       "['휴', '아이구', '아이쿠', '아이고', '어', '나', '우리', '저희', '따라', '의해']"
      ]
     },
     "execution_count": 7,
     "metadata": {},
     "output_type": "execute_result"
    }
   ],
   "source": [
    "stopwords = pd.read_csv(\"https://raw.githubusercontent.com/yoonkt200/FastCampusDataset/master/korean_stopwords.txt\").values.tolist()\n",
    "stopwords = sum(stopwords, [])\n",
    "stopwords[:10]"
   ]
  },
  {
   "cell_type": "markdown",
   "metadata": {},
   "source": [
    "## 3. tf-idf --> fit_transform"
   ]
  },
  {
   "cell_type": "code",
   "execution_count": 8,
   "metadata": {},
   "outputs": [],
   "source": [
    "from sklearn.feature_extraction.text import TfidfVectorizer\n",
    "from konlpy.tag import Okt"
   ]
  },
  {
   "cell_type": "code",
   "execution_count": 9,
   "metadata": {},
   "outputs": [],
   "source": [
    "okt = Okt()"
   ]
  },
  {
   "cell_type": "code",
   "execution_count": 10,
   "metadata": {},
   "outputs": [
    {
     "data": {
      "text/plain": [
       "TfidfVectorizer(max_df=0.9, min_df=3, ngram_range=(1, 2),\n",
       "                stop_words=['휴', '아이구', '아이쿠', '아이고', '어', '나', '우리', '저희',\n",
       "                            '따라', '의해', '을', '를', '에', '의', '가', '으로', '로',\n",
       "                            '에게', '뿐이다', '의거하여', '근거하여', '입각하여', '기준으로', '예하면',\n",
       "                            '예를 들면', '예를 들자면', '저', '소인', '소생', '저희', ...],\n",
       "                tokenizer=<bound method Okt.morphs of <konlpy.tag._okt.Okt object at 0x00000210FBAF44E0>>)"
      ]
     },
     "execution_count": 10,
     "metadata": {},
     "output_type": "execute_result"
    }
   ],
   "source": [
    "tfidf = TfidfVectorizer(tokenizer = okt.morphs,\n",
    "                        ngram_range=(1, 2),\n",
    "                        min_df = 3,\n",
    "                        max_df = 0.9,\n",
    "                        stop_words = stopwords)\n",
    "tfidf"
   ]
  },
  {
   "cell_type": "code",
   "execution_count": 11,
   "metadata": {},
   "outputs": [
    {
     "data": {
      "text/plain": [
       "TfidfVectorizer(max_df=0.9, min_df=3, ngram_range=(1, 2),\n",
       "                stop_words=['휴', '아이구', '아이쿠', '아이고', '어', '나', '우리', '저희',\n",
       "                            '따라', '의해', '을', '를', '에', '의', '가', '으로', '로',\n",
       "                            '에게', '뿐이다', '의거하여', '근거하여', '입각하여', '기준으로', '예하면',\n",
       "                            '예를 들면', '예를 들자면', '저', '소인', '소생', '저희', ...],\n",
       "                tokenizer=<bound method Okt.morphs of <konlpy.tag._okt.Okt object at 0x00000210FBAF44E0>>)"
      ]
     },
     "execution_count": 11,
     "metadata": {},
     "output_type": "execute_result"
    }
   ],
   "source": [
    "tfidf.fit(train_df['review_content'])"
   ]
  },
  {
   "cell_type": "code",
   "execution_count": 12,
   "metadata": {},
   "outputs": [
    {
     "data": {
      "text/plain": [
       "<40x24 sparse matrix of type '<class 'numpy.float64'>'\n",
       "\twith 101 stored elements in Compressed Sparse Row format>"
      ]
     },
     "execution_count": 12,
     "metadata": {},
     "output_type": "execute_result"
    }
   ],
   "source": [
    "train_tfidf_df = tfidf.transform(train_df['review_content'])\n",
    "train_tfidf_df"
   ]
  },
  {
   "cell_type": "code",
   "execution_count": 13,
   "metadata": {},
   "outputs": [
    {
     "data": {
      "text/plain": [
       "<11x24 sparse matrix of type '<class 'numpy.float64'>'\n",
       "\twith 20 stored elements in Compressed Sparse Row format>"
      ]
     },
     "execution_count": 13,
     "metadata": {},
     "output_type": "execute_result"
    }
   ],
   "source": [
    "test_tfidf_df = tfidf.transform(test_df['review_content'])\n",
    "test_tfidf_df"
   ]
  },
  {
   "cell_type": "code",
   "execution_count": 14,
   "metadata": {},
   "outputs": [
    {
     "data": {
      "text/plain": [
       "[array(['배송'], dtype='<U4'),\n",
       " array(['용', '도'], dtype='<U4'),\n",
       " array(['좋아요', '입니다', '구매', '개'], dtype='<U4'),\n",
       " array(['하는', '용', '안', '아쉽네요', '생각', '배송', '도'], dtype='<U4'),\n",
       " array(['용', '사용', '도'], dtype='<U4'),\n",
       " array(['입니다', '생각', '보다', '별로', '도', 'ㅠㅠ'], dtype='<U4'),\n",
       " array(['은', '배송', '도'], dtype='<U4'),\n",
       " array(['안', '별로'], dtype='<U4'),\n",
       " array(['은', '요'], dtype='<U4'),\n",
       " array(['보다', '도', '다'], dtype='<U4'),\n",
       " array(['좋아요', '도', '넘'], dtype='<U4'),\n",
       " array(['구매'], dtype='<U4'),\n",
       " array(['그냥'], dtype='<U4'),\n",
       " array([], dtype='<U4'),\n",
       " array(['좋고', '도'], dtype='<U4'),\n",
       " array(['좋아요', '좋고', '도', '너무'], dtype='<U4'),\n",
       " array(['재구매', '요'], dtype='<U4'),\n",
       " array([], dtype='<U4'),\n",
       " array(['재구매', '다'], dtype='<U4'),\n",
       " array(['하는', '구매'], dtype='<U4'),\n",
       " array(['개'], dtype='<U4'),\n",
       " array(['요', '별로', '고'], dtype='<U4'),\n",
       " array(['좋아요', '도', '너무'], dtype='<U4'),\n",
       " array(['은'], dtype='<U4'),\n",
       " array(['재구매', '배송'], dtype='<U4'),\n",
       " array(['좋고', '고'], dtype='<U4'),\n",
       " array(['하는', '은', '요', '배송'], dtype='<U4'),\n",
       " array(['도', '구매'], dtype='<U4'),\n",
       " array(['사용'], dtype='<U4'),\n",
       " array(['은'], dtype='<U4'),\n",
       " array(['넘'], dtype='<U4'),\n",
       " array(['입니다', '은', '도', '다', '넘', '너무', '그냥', 'ㅠㅠ'], dtype='<U4'),\n",
       " array(['입니다', '안', '사용', '너무'], dtype='<U4'),\n",
       " array(['생각', '보다', '너무'], dtype='<U4'),\n",
       " array(['좋아요', '아쉽네요', '사용', '도', '구매'], dtype='<U4'),\n",
       " array(['아쉽네요', '사용', '그냥', '개'], dtype='<U4'),\n",
       " array([], dtype='<U4'),\n",
       " array(['도'], dtype='<U4'),\n",
       " array(['요', '안', '다', '고', 'ㅠㅠ'], dtype='<U4'),\n",
       " array([], dtype='<U4')]"
      ]
     },
     "execution_count": 14,
     "metadata": {},
     "output_type": "execute_result"
    }
   ],
   "source": [
    "tfidf.inverse_transform(train_tfidf_df)"
   ]
  },
  {
   "cell_type": "code",
   "execution_count": 15,
   "metadata": {
    "scrolled": true
   },
   "outputs": [
    {
     "data": {
      "text/plain": [
       "[array([], dtype='<U4'),\n",
       " array([], dtype='<U4'),\n",
       " array(['은', '너무'], dtype='<U4'),\n",
       " array(['도', '너무'], dtype='<U4'),\n",
       " array(['은', '요', '생각', '보다', '그냥'], dtype='<U4'),\n",
       " array(['하는', '그냥'], dtype='<U4'),\n",
       " array(['은', '생각', '배송'], dtype='<U4'),\n",
       " array(['생각', '보다'], dtype='<U4'),\n",
       " array(['생각', '보다'], dtype='<U4'),\n",
       " array(['도'], dtype='<U4'),\n",
       " array(['별로'], dtype='<U4')]"
      ]
     },
     "execution_count": 15,
     "metadata": {},
     "output_type": "execute_result"
    }
   ],
   "source": [
    "tfidf.inverse_transform(test_tfidf_df)"
   ]
  },
  {
   "cell_type": "markdown",
   "metadata": {},
   "source": [
    "## 4. 분석 정확도 확인하기"
   ]
  },
  {
   "cell_type": "code",
   "execution_count": 16,
   "metadata": {},
   "outputs": [],
   "source": [
    "from sklearn.linear_model import LogisticRegression"
   ]
  },
  {
   "cell_type": "code",
   "execution_count": 17,
   "metadata": {},
   "outputs": [],
   "source": [
    "SA_lr = LogisticRegression(random_state = 0)"
   ]
  },
  {
   "cell_type": "code",
   "execution_count": 18,
   "metadata": {},
   "outputs": [
    {
     "data": {
      "text/plain": [
       "LogisticRegression(random_state=0)"
      ]
     },
     "execution_count": 18,
     "metadata": {},
     "output_type": "execute_result"
    }
   ],
   "source": [
    "SA_lr.fit(train_tfidf_df, train_df['label'])"
   ]
  },
  {
   "cell_type": "code",
   "execution_count": 19,
   "metadata": {},
   "outputs": [],
   "source": [
    "test_predict = SA_lr.predict(test_tfidf_df)"
   ]
  },
  {
   "cell_type": "code",
   "execution_count": 20,
   "metadata": {},
   "outputs": [],
   "source": [
    "from sklearn.metrics import accuracy_score"
   ]
  },
  {
   "cell_type": "code",
   "execution_count": 21,
   "metadata": {},
   "outputs": [
    {
     "name": "stdout",
     "output_type": "stream",
     "text": [
      "후기 분석(긍정/부정) 정확도 :  0.727\n"
     ]
    }
   ],
   "source": [
    "print('후기 분석(긍정/부정) 정확도 : ', round(accuracy_score(test_df['label'], test_predict), 3))"
   ]
  },
  {
   "cell_type": "markdown",
   "metadata": {},
   "source": [
    "## 5. 후기 긍정/부정 분석하기"
   ]
  },
  {
   "cell_type": "code",
   "execution_count": 22,
   "metadata": {},
   "outputs": [],
   "source": [
    "st = test_df['review_content'][9]"
   ]
  },
  {
   "cell_type": "code",
   "execution_count": 23,
   "metadata": {},
   "outputs": [
    {
     "data": {
      "text/plain": [
       "'옷만 보면 이쁨 바지도 청이나 어두운 계열 잘 어울릴 거 같아여'"
      ]
     },
     "execution_count": 23,
     "metadata": {},
     "output_type": "execute_result"
    }
   ],
   "source": [
    "st2 = re.sub(r'[^ ㄱ-ㅎ|가-힣]+', \"\", st)\n",
    "st2"
   ]
  },
  {
   "cell_type": "code",
   "execution_count": 24,
   "metadata": {},
   "outputs": [
    {
     "data": {
      "text/plain": [
       "<1x24 sparse matrix of type '<class 'numpy.float64'>'\n",
       "\twith 1 stored elements in Compressed Sparse Row format>"
      ]
     },
     "execution_count": 24,
     "metadata": {},
     "output_type": "execute_result"
    }
   ],
   "source": [
    "st_tfidf_df = tfidf.transform([st2])\n",
    "st_tfidf_df"
   ]
  },
  {
   "cell_type": "code",
   "execution_count": 25,
   "metadata": {},
   "outputs": [
    {
     "data": {
      "text/plain": [
       "(array([1], dtype=int64), 1)"
      ]
     },
     "execution_count": 25,
     "metadata": {},
     "output_type": "execute_result"
    }
   ],
   "source": [
    "st2_predict = SA_lr.predict(st_tfidf_df)\n",
    "st2_predict, st2_predict[0]"
   ]
  },
  {
   "cell_type": "code",
   "execution_count": 26,
   "metadata": {},
   "outputs": [
    {
     "name": "stdout",
     "output_type": "stream",
     "text": [
      "옷만 보면 이쁨 바지도 청이나 어두운 계열 잘 어울릴 거 같아여 ==> 긍정 감정\n"
     ]
    }
   ],
   "source": [
    "if(st2_predict[0] == 0):\n",
    "    print(st2, '==> 부정 감정')\n",
    "else:\n",
    "    print(st2, '==> 긍정 감정')"
   ]
  },
  {
   "cell_type": "code",
   "execution_count": 27,
   "metadata": {},
   "outputs": [],
   "source": [
    "st3 = \"색이 사진이랑 다르게 벽돌색이네요 별로에요.. 다시는 구매하고싶지 않아요!! 사기도 정도껏 치세요..\""
   ]
  },
  {
   "cell_type": "code",
   "execution_count": 28,
   "metadata": {},
   "outputs": [
    {
     "data": {
      "text/plain": [
       "'색이 사진이랑 다르게 벽돌색이네요 별로에요 다시는 구매하고싶지 않아요 사기도 정도껏 치세요'"
      ]
     },
     "execution_count": 28,
     "metadata": {},
     "output_type": "execute_result"
    }
   ],
   "source": [
    "st4 = re.sub(r'[^ ㄱ-ㅎ|가-힣]+', \"\", st3)\n",
    "st4"
   ]
  },
  {
   "cell_type": "code",
   "execution_count": 29,
   "metadata": {},
   "outputs": [
    {
     "data": {
      "text/plain": [
       "<1x24 sparse matrix of type '<class 'numpy.float64'>'\n",
       "\twith 4 stored elements in Compressed Sparse Row format>"
      ]
     },
     "execution_count": 29,
     "metadata": {},
     "output_type": "execute_result"
    }
   ],
   "source": [
    "st_tfidf_df2 = tfidf.transform([st4])\n",
    "st_tfidf_df2"
   ]
  },
  {
   "cell_type": "code",
   "execution_count": 30,
   "metadata": {},
   "outputs": [
    {
     "data": {
      "text/plain": [
       "(array([0], dtype=int64), 1)"
      ]
     },
     "execution_count": 30,
     "metadata": {},
     "output_type": "execute_result"
    }
   ],
   "source": [
    "st4_predict = SA_lr.predict(st_tfidf_df2)\n",
    "st4_predict, st2_predict[0]"
   ]
  },
  {
   "cell_type": "code",
   "execution_count": 31,
   "metadata": {},
   "outputs": [
    {
     "name": "stdout",
     "output_type": "stream",
     "text": [
      "색이 사진이랑 다르게 벽돌색이네요 별로에요 다시는 구매하고싶지 않아요 사기도 정도껏 치세요 ==> 부정 감정\n"
     ]
    }
   ],
   "source": [
    "if(st4_predict[0] == 0):\n",
    "    print(st4, '==> 부정 감정')\n",
    "else:\n",
    "    print(st4, '==> 긍정 감정')"
   ]
  },
  {
   "cell_type": "markdown",
   "metadata": {},
   "source": [
    "## 6. review 긍정 갯수 / 부정 갯수 조회"
   ]
  },
  {
   "cell_type": "code",
   "execution_count": 32,
   "metadata": {
    "scrolled": true
   },
   "outputs": [
    {
     "data": {
      "text/html": [
       "<div>\n",
       "<style scoped>\n",
       "    .dataframe tbody tr th:only-of-type {\n",
       "        vertical-align: middle;\n",
       "    }\n",
       "\n",
       "    .dataframe tbody tr th {\n",
       "        vertical-align: top;\n",
       "    }\n",
       "\n",
       "    .dataframe thead th {\n",
       "        text-align: right;\n",
       "    }\n",
       "</style>\n",
       "<table border=\"1\" class=\"dataframe\">\n",
       "  <thead>\n",
       "    <tr style=\"text-align: right;\">\n",
       "      <th></th>\n",
       "      <th>review_score</th>\n",
       "      <th>review_content</th>\n",
       "      <th>label</th>\n",
       "    </tr>\n",
       "  </thead>\n",
       "  <tbody>\n",
       "    <tr>\n",
       "      <th>0</th>\n",
       "      <td>4.5</td>\n",
       "      <td>색감이 곱네요</td>\n",
       "      <td>1.0</td>\n",
       "    </tr>\n",
       "    <tr>\n",
       "      <th>1</th>\n",
       "      <td>5.0</td>\n",
       "      <td>색이 오묘한게 정말 예뻐요 여름에 진짜 잘 입을 것 같아용 케키케</td>\n",
       "      <td>1.0</td>\n",
       "    </tr>\n",
       "    <tr>\n",
       "      <th>2</th>\n",
       "      <td>4.5</td>\n",
       "      <td>우선 옷은 되게 얇아요 그리고 제가 키가 큰 편이라 너무 짧고 작을까봐 걱정했는데 ...</td>\n",
       "      <td>0.0</td>\n",
       "    </tr>\n",
       "  </tbody>\n",
       "</table>\n",
       "</div>"
      ],
      "text/plain": [
       "   review_score                                     review_content  label\n",
       "0           4.5                                            색감이 곱네요    1.0\n",
       "1           5.0               색이 오묘한게 정말 예뻐요 여름에 진짜 잘 입을 것 같아용 케키케    1.0\n",
       "2           4.5  우선 옷은 되게 얇아요 그리고 제가 키가 큰 편이라 너무 짧고 작을까봐 걱정했는데 ...    0.0"
      ]
     },
     "execution_count": 32,
     "metadata": {},
     "output_type": "execute_result"
    }
   ],
   "source": [
    "review = test_df.copy()\n",
    "review[:3]"
   ]
  },
  {
   "cell_type": "code",
   "execution_count": 33,
   "metadata": {},
   "outputs": [],
   "source": [
    "pos_review = review[review['label'] == 1]\n",
    "neg_review = review[review['label'] == 0]"
   ]
  },
  {
   "cell_type": "code",
   "execution_count": 34,
   "metadata": {},
   "outputs": [
    {
     "name": "stdout",
     "output_type": "stream",
     "text": [
      "긍정적인 후기는 총 8 개입니다.\n",
      "부정적인 후기는 총 3 개입니다.\n"
     ]
    }
   ],
   "source": [
    "print('긍정적인 후기는 총', len(pos_review), '개입니다.')\n",
    "print('부정적인 후기는 총', len(neg_review), '개입니다.')"
   ]
  }
 ],
 "metadata": {
  "kernelspec": {
   "display_name": "Python 3",
   "language": "python",
   "name": "python3"
  },
  "language_info": {
   "codemirror_mode": {
    "name": "ipython",
    "version": 3
   },
   "file_extension": ".py",
   "mimetype": "text/x-python",
   "name": "python",
   "nbconvert_exporter": "python",
   "pygments_lexer": "ipython3",
   "version": "3.7.0"
  }
 },
 "nbformat": 4,
 "nbformat_minor": 2
}
