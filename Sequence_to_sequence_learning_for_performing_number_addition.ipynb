{
  "nbformat": 4,
  "nbformat_minor": 0,
  "metadata": {
    "colab": {
      "name": "Sequence_to_sequence_learning_for_performing_number_addition.ipynb",
      "provenance": [],
      "collapsed_sections": [],
      "authorship_tag": "ABX9TyPR8u12O2uP4GA4eYNbfLAR",
      "include_colab_link": true
    },
    "kernelspec": {
      "name": "python3",
      "display_name": "Python 3"
    },
    "language_info": {
      "name": "python"
    }
  },
  "cells": [
    {
      "cell_type": "markdown",
      "metadata": {
        "id": "view-in-github",
        "colab_type": "text"
      },
      "source": [
        "<a href=\"https://colab.research.google.com/github/WoojinJeonkr/DeepLearning/blob/main/Sequence_to_sequence_learning_for_performing_number_addition.ipynb\" target=\"_parent\"><img src=\"https://colab.research.google.com/assets/colab-badge.svg\" alt=\"Open In Colab\"/></a>"
      ]
    },
    {
      "cell_type": "markdown",
      "source": [
        "# 숫자 덧셈을 위한 Sequence to sequence learning\n",
        "- 내용 출처: https://keras.io/examples/nlp/addition_rnn/\n",
        "- 목표: Input: \"535+61\"이라면 Output: \"596\"으로 출력"
      ],
      "metadata": {
        "id": "-u14jW8srsKv"
      }
    },
    {
      "cell_type": "markdown",
      "source": [
        "## 01. 설정"
      ],
      "metadata": {
        "id": "TSLePMAUsiq3"
      }
    },
    {
      "cell_type": "code",
      "execution_count": 1,
      "metadata": {
        "id": "mE6wqo_-IV5D"
      },
      "outputs": [],
      "source": [
        "from tensorflow import keras\n",
        "from tensorflow.keras import layers\n",
        "import numpy as np"
      ]
    },
    {
      "cell_type": "code",
      "source": [
        "# 파라미터 정의\n",
        "TRAINING_SIZE = 50000\n",
        "DIGITS = 3\n",
        "REVERSE = True"
      ],
      "metadata": {
        "id": "c2KZDRKuslGo"
      },
      "execution_count": 2,
      "outputs": []
    },
    {
      "cell_type": "code",
      "source": [
        "# 최대 길이 정의\n",
        "MAXLEN = DIGITS + 1 + DIGITS"
      ],
      "metadata": {
        "id": "OEMmV_Cdsvy9"
      },
      "execution_count": 3,
      "outputs": []
    },
    {
      "cell_type": "markdown",
      "source": [
        "## 02. 데이터 생성"
      ],
      "metadata": {
        "id": "NqF49cAyszIS"
      }
    },
    {
      "cell_type": "code",
      "source": [
        "class CharacterTable:\n",
        "  # Initialize character table\n",
        "  def __init__(self, chars):\n",
        "    self.chars = sorted(set(chars))\n",
        "    self.char_indices = dict((c, i) for i, c in enumerate(self.chars))\n",
        "    self.indices_char = dict((i, c) for i, c in enumerate(self.chars))\n",
        "\n",
        "  # 원핫 인코딩\n",
        "  def encode(self, C, num_rows):\n",
        "      x = np.zeros((num_rows, len(self.chars)))\n",
        "      for i, c in enumerate(C):\n",
        "          x[i, self.char_indices[c]] = 1\n",
        "      return x\n",
        "\n",
        "  # vector 또는 2D 배열을 문자 출력으로 디코딩\n",
        "  def decode(self, x, calc_argmax=True):\n",
        "    if calc_argmax:\n",
        "        x = x.argmax(axis=-1)\n",
        "    return \"\".join(self.indices_char[x] for x in x)"
      ],
      "metadata": {
        "id": "Zh1HHxxXsyhW"
      },
      "execution_count": 4,
      "outputs": []
    },
    {
      "cell_type": "code",
      "source": [
        "# 패딩\n",
        "chars = \"0123456789+ \"\n",
        "ctable = CharacterTable(chars)\n",
        "\n",
        "questions = []\n",
        "expected = []\n",
        "seen = set()\n",
        "print(\"Generating data...\")\n",
        "while len(questions) < TRAINING_SIZE:\n",
        "    f = lambda: int(\n",
        "        \"\".join(\n",
        "            np.random.choice(list(\"0123456789\"))\n",
        "            for i in range(np.random.randint(1, DIGITS + 1))\n",
        "        )\n",
        "    )\n",
        "    a, b = f(), f()\n",
        "\n",
        "    key = tuple(sorted((a, b)))\n",
        "    if key in seen:\n",
        "        continue\n",
        "    seen.add(key)\n",
        "\n",
        "    q = \"{}+{}\".format(a, b)\n",
        "    query = q + \" \" * (MAXLEN - len(q))\n",
        "    ans = str(a + b)\n",
        "\n",
        "    ans += \" \" * (DIGITS + 1 - len(ans))\n",
        "    if REVERSE:\n",
        "        query = query[::-1]\n",
        "    questions.append(query)\n",
        "    expected.append(ans)\n",
        "print(\"Total questions:\", len(questions))"
      ],
      "metadata": {
        "colab": {
          "base_uri": "https://localhost:8080/"
        },
        "id": "nlNRoi07tc_S",
        "outputId": "841c6906-f21a-47cc-dbef-9fab683a99ae"
      },
      "execution_count": 6,
      "outputs": [
        {
          "output_type": "stream",
          "name": "stdout",
          "text": [
            "Generating data...\n",
            "Total questions: 50000\n"
          ]
        }
      ]
    },
    {
      "cell_type": "markdown",
      "source": [
        "## 03. 데이터 벡터화"
      ],
      "metadata": {
        "id": "yJJcmy5IwrMJ"
      }
    },
    {
      "cell_type": "code",
      "source": [
        "print(\"Vectorization...\")\n",
        "x = np.zeros((len(questions), MAXLEN, len(chars)), dtype=np.bool)\n",
        "y = np.zeros((len(questions), DIGITS + 1, len(chars)), dtype=np.bool)\n",
        "for i, sentence in enumerate(questions):\n",
        "    x[i] = ctable.encode(sentence, MAXLEN)\n",
        "for i, sentence in enumerate(expected):\n",
        "    y[i] = ctable.encode(sentence, DIGITS + 1)"
      ],
      "metadata": {
        "colab": {
          "base_uri": "https://localhost:8080/"
        },
        "id": "sId_XlULtgZb",
        "outputId": "530401f6-bac1-461e-aae8-eccdd4fce513"
      },
      "execution_count": 7,
      "outputs": [
        {
          "output_type": "stream",
          "name": "stdout",
          "text": [
            "Vectorization...\n"
          ]
        },
        {
          "output_type": "stream",
          "name": "stderr",
          "text": [
            "/usr/local/lib/python3.7/dist-packages/ipykernel_launcher.py:2: DeprecationWarning: `np.bool` is a deprecated alias for the builtin `bool`. To silence this warning, use `bool` by itself. Doing this will not modify any behavior and is safe. If you specifically wanted the numpy scalar type, use `np.bool_` here.\n",
            "Deprecated in NumPy 1.20; for more details and guidance: https://numpy.org/devdocs/release/1.20.0-notes.html#deprecations\n",
            "  \n",
            "/usr/local/lib/python3.7/dist-packages/ipykernel_launcher.py:3: DeprecationWarning: `np.bool` is a deprecated alias for the builtin `bool`. To silence this warning, use `bool` by itself. Doing this will not modify any behavior and is safe. If you specifically wanted the numpy scalar type, use `np.bool_` here.\n",
            "Deprecated in NumPy 1.20; for more details and guidance: https://numpy.org/devdocs/release/1.20.0-notes.html#deprecations\n",
            "  This is separate from the ipykernel package so we can avoid doing imports until\n"
          ]
        }
      ]
    },
    {
      "cell_type": "code",
      "source": [
        "indices = np.arange(len(y))\n",
        "np.random.shuffle(indices)\n",
        "x = x[indices]\n",
        "y = y[indices]"
      ],
      "metadata": {
        "id": "iHnHTCzrwvzl"
      },
      "execution_count": 8,
      "outputs": []
    },
    {
      "cell_type": "code",
      "source": [
        "# 훈련 데이터와 검증 데이터 분할\n",
        "split_at = len(x) - len(x) // 10\n",
        "(x_train, x_val) = x[:split_at], x[split_at:]\n",
        "(y_train, y_val) = y[:split_at], y[split_at:]\n",
        "\n",
        "print(\"Training Data:\")\n",
        "print(x_train.shape)\n",
        "print(y_train.shape)\n",
        "\n",
        "print(\"Validation Data:\")\n",
        "print(x_val.shape)\n",
        "print(y_val.shape)"
      ],
      "metadata": {
        "colab": {
          "base_uri": "https://localhost:8080/"
        },
        "id": "AEZqcC26wzTM",
        "outputId": "9a7267e5-8b19-4677-dee0-5c28afd5fe46"
      },
      "execution_count": 9,
      "outputs": [
        {
          "output_type": "stream",
          "name": "stdout",
          "text": [
            "Training Data:\n",
            "(45000, 7, 12)\n",
            "(45000, 4, 12)\n",
            "Validation Data:\n",
            "(5000, 7, 12)\n",
            "(5000, 4, 12)\n"
          ]
        }
      ]
    },
    {
      "cell_type": "markdown",
      "source": [
        "## 모델 구축"
      ],
      "metadata": {
        "id": "3pM1m7tpw7ZJ"
      }
    },
    {
      "cell_type": "code",
      "source": [
        "print(\"Build model...\")\n",
        "num_layers = 1\n",
        "\n",
        "model = keras.Sequential()\n",
        "model.add(layers.LSTM(128, input_shape=(MAXLEN, len(chars))))\n",
        "model.add(layers.RepeatVector(DIGITS + 1))\n",
        "for _ in range(num_layers):\n",
        "  model.add(layers.LSTM(128, return_sequences=True))\n",
        "model.add(layers.Dense(len(chars), activation=\"softmax\"))\n",
        "model.compile(loss=\"categorical_crossentropy\", optimizer=\"adam\", metrics=[\"accuracy\"])\n",
        "model.summary()"
      ],
      "metadata": {
        "colab": {
          "base_uri": "https://localhost:8080/"
        },
        "id": "h3qzuSTww5f1",
        "outputId": "86ebe389-3d98-42c7-e8fb-986627c1c1fd"
      },
      "execution_count": 10,
      "outputs": [
        {
          "output_type": "stream",
          "name": "stdout",
          "text": [
            "Build model...\n",
            "Model: \"sequential\"\n",
            "_________________________________________________________________\n",
            " Layer (type)                Output Shape              Param #   \n",
            "=================================================================\n",
            " lstm (LSTM)                 (None, 128)               72192     \n",
            "                                                                 \n",
            " repeat_vector (RepeatVector  (None, 4, 128)           0         \n",
            " )                                                               \n",
            "                                                                 \n",
            " lstm_1 (LSTM)               (None, 4, 128)            131584    \n",
            "                                                                 \n",
            " dense (Dense)               (None, 4, 12)             1548      \n",
            "                                                                 \n",
            "=================================================================\n",
            "Total params: 205,324\n",
            "Trainable params: 205,324\n",
            "Non-trainable params: 0\n",
            "_________________________________________________________________\n"
          ]
        }
      ]
    },
    {
      "cell_type": "markdown",
      "source": [
        "## 모델 훈련"
      ],
      "metadata": {
        "id": "WySKT3gsxH9c"
      }
    },
    {
      "cell_type": "code",
      "source": [
        "epochs = 30\n",
        "batch_size = 32"
      ],
      "metadata": {
        "id": "-ONFgYvuxGau"
      },
      "execution_count": 11,
      "outputs": []
    },
    {
      "cell_type": "code",
      "source": [
        "for epoch in range(1, epochs):\n",
        "    print()\n",
        "    print(\"Iteration\", epoch)\n",
        "    model.fit(\n",
        "        x_train,\n",
        "        y_train,\n",
        "        batch_size=batch_size,\n",
        "        epochs=1,\n",
        "        validation_data=(x_val, y_val),\n",
        "    )\n",
        "\n",
        "    for i in range(10):\n",
        "        ind = np.random.randint(0, len(x_val))\n",
        "        rowx, rowy = x_val[np.array([ind])], y_val[np.array([ind])]\n",
        "        preds = np.argmax(model.predict(rowx), axis=-1)\n",
        "        q = ctable.decode(rowx[0])\n",
        "        correct = ctable.decode(rowy[0])\n",
        "        guess = ctable.decode(preds[0], calc_argmax=False)\n",
        "        print(\"Q\", q[::-1] if REVERSE else q, end=\" \")\n",
        "        print(\"T\", correct, end=\" \")\n",
        "        if correct == guess:\n",
        "            print(\"☑ \" + guess)\n",
        "        else:\n",
        "            print(\"☒ \" + guess)"
      ],
      "metadata": {
        "colab": {
          "base_uri": "https://localhost:8080/"
        },
        "id": "AZ5azk1ixMjr",
        "outputId": "55a20f99-7e6b-4317-cb04-0e89708bbd19"
      },
      "execution_count": 13,
      "outputs": [
        {
          "output_type": "stream",
          "name": "stdout",
          "text": [
            "\n",
            "Iteration 1\n",
            "1407/1407 [==============================] - 26s 18ms/step - loss: 1.6999 - accuracy: 0.3728 - val_loss: 1.4963 - val_accuracy: 0.4451\n",
            "Q 71+19   T 90   ☒ 11  \n",
            "Q 76+17   T 93   ☒ 11  \n",
            "Q 247+32  T 279  ☒ 388 \n",
            "Q 565+53  T 618  ☒ 668 \n",
            "Q 498+21  T 519  ☒ 598 \n",
            "Q 133+964 T 1097 ☒ 1044\n",
            "Q 994+828 T 1822 ☒ 1805\n",
            "Q 55+943  T 998  ☒ 104 \n",
            "Q 50+963  T 1013 ☒ 100 \n",
            "Q 69+76   T 145  ☒ 112 \n",
            "\n",
            "Iteration 2\n",
            "1407/1407 [==============================] - 23s 17ms/step - loss: 1.3011 - accuracy: 0.5132 - val_loss: 1.1322 - val_accuracy: 0.5720\n",
            "Q 98+342  T 440  ☒ 419 \n",
            "Q 4+960   T 964  ☒ 960 \n",
            "Q 870+72  T 942  ☒ 939 \n",
            "Q 980+347 T 1327 ☒ 1301\n",
            "Q 842+78  T 920  ☒ 939 \n",
            "Q 0+67    T 67   ☒ 77  \n",
            "Q 434+5   T 439  ☒ 449 \n",
            "Q 61+827  T 888  ☒ 899 \n",
            "Q 591+439 T 1030 ☒ 1011\n",
            "Q 383+65  T 448  ☒ 459 \n",
            "\n",
            "Iteration 3\n",
            "1407/1407 [==============================] - 23s 17ms/step - loss: 1.0269 - accuracy: 0.6184 - val_loss: 0.9460 - val_accuracy: 0.6483\n",
            "Q 4+191   T 195  ☒ 191 \n",
            "Q 48+767  T 815  ☒ 811 \n",
            "Q 511+57  T 568  ☒ 561 \n",
            "Q 302+247 T 549  ☒ 571 \n",
            "Q 36+487  T 523  ☒ 531 \n",
            "Q 131+990 T 1121 ☒ 1111\n",
            "Q 651+555 T 1206 ☒ 1171\n",
            "Q 630+3   T 633  ☑ 633 \n",
            "Q 259+91  T 350  ☒ 341 \n",
            "Q 45+767  T 812  ☒ 811 \n",
            "\n",
            "Iteration 4\n",
            "1407/1407 [==============================] - 24s 17ms/step - loss: 0.8782 - accuracy: 0.6761 - val_loss: 0.8038 - val_accuracy: 0.7025\n",
            "Q 713+1   T 714  ☒ 711 \n",
            "Q 197+0   T 197  ☒ 199 \n",
            "Q 148+219 T 367  ☒ 365 \n",
            "Q 358+50  T 408  ☒ 401 \n",
            "Q 115+97  T 212  ☒ 219 \n",
            "Q 32+586  T 618  ☒ 619 \n",
            "Q 81+618  T 699  ☒ 696 \n",
            "Q 7+222   T 229  ☑ 229 \n",
            "Q 28+823  T 851  ☒ 852 \n",
            "Q 536+33  T 569  ☒ 563 \n",
            "\n",
            "Iteration 5\n",
            "1407/1407 [==============================] - 23s 17ms/step - loss: 0.7621 - accuracy: 0.7194 - val_loss: 0.7183 - val_accuracy: 0.7354\n",
            "Q 688+453 T 1141 ☒ 1038\n",
            "Q 202+48  T 250  ☒ 249 \n",
            "Q 672+611 T 1283 ☑ 1283\n",
            "Q 667+718 T 1385 ☒ 1388\n",
            "Q 4+503   T 507  ☒ 508 \n",
            "Q 8+890   T 898  ☒ 899 \n",
            "Q 407+54  T 461  ☒ 460 \n",
            "Q 886+459 T 1345 ☒ 1248\n",
            "Q 835+2   T 837  ☑ 837 \n",
            "Q 79+60   T 139  ☒ 134 \n",
            "\n",
            "Iteration 6\n",
            "1407/1407 [==============================] - 24s 17ms/step - loss: 0.6526 - accuracy: 0.7621 - val_loss: 0.5829 - val_accuracy: 0.7887\n",
            "Q 57+385  T 442  ☒ 444 \n",
            "Q 662+437 T 1099 ☒ 1097\n",
            "Q 20+300  T 320  ☒ 330 \n",
            "Q 554+491 T 1045 ☒ 1044\n",
            "Q 658+53  T 711  ☑ 711 \n",
            "Q 446+260 T 706  ☒ 707 \n",
            "Q 651+47  T 698  ☑ 698 \n",
            "Q 563+4   T 567  ☑ 567 \n",
            "Q 46+388  T 434  ☑ 434 \n",
            "Q 34+75   T 109  ☑ 109 \n",
            "\n",
            "Iteration 7\n",
            "1407/1407 [==============================] - 23s 17ms/step - loss: 0.4602 - accuracy: 0.8369 - val_loss: 0.3302 - val_accuracy: 0.8934\n",
            "Q 265+15  T 280  ☑ 280 \n",
            "Q 310+163 T 473  ☑ 473 \n",
            "Q 63+21   T 84   ☑ 84  \n",
            "Q 498+584 T 1082 ☒ 1083\n",
            "Q 815+880 T 1695 ☒ 1696\n",
            "Q 517+629 T 1146 ☒ 1155\n",
            "Q 292+69  T 361  ☑ 361 \n",
            "Q 247+56  T 303  ☑ 303 \n",
            "Q 10+611  T 621  ☑ 621 \n",
            "Q 621+6   T 627  ☑ 627 \n",
            "\n",
            "Iteration 8\n",
            "1407/1407 [==============================] - 24s 17ms/step - loss: 0.2684 - accuracy: 0.9223 - val_loss: 0.2280 - val_accuracy: 0.9327\n",
            "Q 647+31  T 678  ☑ 678 \n",
            "Q 759+4   T 763  ☑ 763 \n",
            "Q 174+692 T 866  ☒ 867 \n",
            "Q 624+68  T 692  ☑ 692 \n",
            "Q 294+96  T 390  ☒ 391 \n",
            "Q 861+16  T 877  ☒ 867 \n",
            "Q 757+0   T 757  ☑ 757 \n",
            "Q 2+309   T 311  ☑ 311 \n",
            "Q 802+9   T 811  ☑ 811 \n",
            "Q 79+82   T 161  ☑ 161 \n",
            "\n",
            "Iteration 9\n",
            "1407/1407 [==============================] - 24s 17ms/step - loss: 0.1742 - accuracy: 0.9557 - val_loss: 0.1648 - val_accuracy: 0.9510\n",
            "Q 92+761  T 853  ☑ 853 \n",
            "Q 900+45  T 945  ☑ 945 \n",
            "Q 400+567 T 967  ☒ 957 \n",
            "Q 911+8   T 919  ☑ 919 \n",
            "Q 19+490  T 509  ☑ 509 \n",
            "Q 628+8   T 636  ☑ 636 \n",
            "Q 882+87  T 969  ☒ 979 \n",
            "Q 58+28   T 86   ☑ 86  \n",
            "Q 780+216 T 996  ☑ 996 \n",
            "Q 25+117  T 142  ☑ 142 \n",
            "\n",
            "Iteration 10\n",
            "1407/1407 [==============================] - 24s 17ms/step - loss: 0.1198 - accuracy: 0.9709 - val_loss: 0.1027 - val_accuracy: 0.9740\n",
            "Q 66+253  T 319  ☑ 319 \n",
            "Q 22+627  T 649  ☑ 649 \n",
            "Q 180+5   T 185  ☑ 185 \n",
            "Q 542+10  T 552  ☑ 552 \n",
            "Q 505+181 T 686  ☑ 686 \n",
            "Q 532+756 T 1288 ☑ 1288\n",
            "Q 646+82  T 728  ☑ 728 \n",
            "Q 38+10   T 48   ☑ 48  \n",
            "Q 793+74  T 867  ☑ 867 \n",
            "Q 25+260  T 285  ☑ 285 \n",
            "\n",
            "Iteration 11\n",
            "1407/1407 [==============================] - 25s 18ms/step - loss: 0.0890 - accuracy: 0.9787 - val_loss: 0.1010 - val_accuracy: 0.9691\n",
            "Q 67+926  T 993  ☑ 993 \n",
            "Q 48+152  T 200  ☒ 100 \n",
            "Q 69+530  T 599  ☑ 599 \n",
            "Q 261+69  T 330  ☑ 330 \n",
            "Q 22+916  T 938  ☒ 937 \n",
            "Q 879+14  T 893  ☑ 893 \n",
            "Q 694+4   T 698  ☑ 698 \n",
            "Q 24+655  T 679  ☑ 679 \n",
            "Q 661+77  T 738  ☑ 738 \n",
            "Q 539+686 T 1225 ☑ 1225\n",
            "\n",
            "Iteration 12\n",
            "1407/1407 [==============================] - 24s 17ms/step - loss: 0.0729 - accuracy: 0.9819 - val_loss: 0.0787 - val_accuracy: 0.9783\n",
            "Q 48+119  T 167  ☑ 167 \n",
            "Q 191+53  T 244  ☑ 244 \n",
            "Q 93+48   T 141  ☑ 141 \n",
            "Q 865+536 T 1401 ☑ 1401\n",
            "Q 350+30  T 380  ☑ 380 \n",
            "Q 0+652   T 652  ☑ 652 \n",
            "Q 95+613  T 708  ☑ 708 \n",
            "Q 396+72  T 468  ☑ 468 \n",
            "Q 96+80   T 176  ☒ 177 \n",
            "Q 609+619 T 1228 ☒ 1118\n",
            "\n",
            "Iteration 13\n",
            "1407/1407 [==============================] - 24s 17ms/step - loss: 0.0472 - accuracy: 0.9895 - val_loss: 0.0437 - val_accuracy: 0.9887\n",
            "Q 32+478  T 510  ☑ 510 \n",
            "Q 615+177 T 792  ☑ 792 \n",
            "Q 36+422  T 458  ☑ 458 \n",
            "Q 799+14  T 813  ☑ 813 \n",
            "Q 704+113 T 817  ☑ 817 \n",
            "Q 2+660   T 662  ☑ 662 \n",
            "Q 265+94  T 359  ☒ 369 \n",
            "Q 83+76   T 159  ☑ 159 \n",
            "Q 78+681  T 759  ☑ 759 \n",
            "Q 693+695 T 1388 ☑ 1388\n",
            "\n",
            "Iteration 14\n",
            "1407/1407 [==============================] - 24s 17ms/step - loss: 0.0524 - accuracy: 0.9863 - val_loss: 0.0515 - val_accuracy: 0.9867\n",
            "Q 312+50  T 362  ☑ 362 \n",
            "Q 76+194  T 270  ☑ 270 \n",
            "Q 908+0   T 908  ☑ 908 \n",
            "Q 743+936 T 1679 ☒ 1689\n",
            "Q 148+917 T 1065 ☑ 1065\n",
            "Q 676+78  T 754  ☑ 754 \n",
            "Q 4+811   T 815  ☑ 815 \n",
            "Q 7+162   T 169  ☑ 169 \n",
            "Q 3+872   T 875  ☑ 875 \n",
            "Q 963+53  T 1016 ☑ 1016\n",
            "\n",
            "Iteration 15\n",
            "1407/1407 [==============================] - 25s 17ms/step - loss: 0.0440 - accuracy: 0.9887 - val_loss: 0.0312 - val_accuracy: 0.9920\n",
            "Q 45+438  T 483  ☑ 483 \n",
            "Q 304+63  T 367  ☑ 367 \n",
            "Q 89+979  T 1068 ☑ 1068\n",
            "Q 53+599  T 652  ☑ 652 \n",
            "Q 837+64  T 901  ☑ 901 \n",
            "Q 55+446  T 501  ☑ 501 \n",
            "Q 510+981 T 1491 ☑ 1491\n",
            "Q 8+149   T 157  ☑ 157 \n",
            "Q 84+985  T 1069 ☑ 1069\n",
            "Q 92+26   T 118  ☑ 118 \n",
            "\n",
            "Iteration 16\n",
            "1407/1407 [==============================] - 23s 17ms/step - loss: 0.0354 - accuracy: 0.9906 - val_loss: 0.0361 - val_accuracy: 0.9894\n",
            "Q 276+89  T 365  ☑ 365 \n",
            "Q 95+991  T 1086 ☑ 1086\n",
            "Q 803+270 T 1073 ☑ 1073\n",
            "Q 67+229  T 296  ☑ 296 \n",
            "Q 917+1   T 918  ☑ 918 \n",
            "Q 126+0   T 126  ☑ 126 \n",
            "Q 928+30  T 958  ☑ 958 \n",
            "Q 51+66   T 117  ☑ 117 \n",
            "Q 758+12  T 770  ☑ 770 \n",
            "Q 98+985  T 1083 ☑ 1083\n",
            "\n",
            "Iteration 17\n",
            "1407/1407 [==============================] - 23s 17ms/step - loss: 0.0313 - accuracy: 0.9918 - val_loss: 0.0689 - val_accuracy: 0.9812\n",
            "Q 127+6   T 133  ☑ 133 \n",
            "Q 315+1   T 316  ☑ 316 \n",
            "Q 831+4   T 835  ☑ 835 \n",
            "Q 834+536 T 1370 ☒ 1360\n",
            "Q 37+920  T 957  ☑ 957 \n",
            "Q 334+543 T 877  ☑ 877 \n",
            "Q 5+185   T 190  ☑ 190 \n",
            "Q 8+272   T 280  ☑ 280 \n",
            "Q 909+35  T 944  ☑ 944 \n",
            "Q 52+15   T 67   ☑ 67  \n",
            "\n",
            "Iteration 18\n",
            "1407/1407 [==============================] - 24s 17ms/step - loss: 0.0421 - accuracy: 0.9886 - val_loss: 0.0853 - val_accuracy: 0.9707\n",
            "Q 634+854 T 1488 ☑ 1488\n",
            "Q 327+44  T 371  ☑ 371 \n",
            "Q 18+80   T 98   ☑ 98  \n",
            "Q 265+94  T 359  ☑ 359 \n",
            "Q 995+15  T 1010 ☑ 1010\n",
            "Q 3+777   T 780  ☑ 780 \n",
            "Q 77+573  T 650  ☑ 650 \n",
            "Q 763+619 T 1382 ☑ 1382\n",
            "Q 394+418 T 812  ☑ 812 \n",
            "Q 229+7   T 236  ☑ 236 \n",
            "\n",
            "Iteration 19\n",
            "1407/1407 [==============================] - 25s 18ms/step - loss: 0.0283 - accuracy: 0.9927 - val_loss: 0.0180 - val_accuracy: 0.9949\n",
            "Q 41+80   T 121  ☑ 121 \n",
            "Q 70+20   T 90   ☑ 90  \n",
            "Q 824+175 T 999  ☑ 999 \n",
            "Q 511+905 T 1416 ☑ 1416\n",
            "Q 72+35   T 107  ☑ 107 \n",
            "Q 776+76  T 852  ☑ 852 \n",
            "Q 98+985  T 1083 ☑ 1083\n",
            "Q 672+246 T 918  ☑ 918 \n",
            "Q 51+521  T 572  ☑ 572 \n",
            "Q 449+35  T 484  ☑ 484 \n",
            "\n",
            "Iteration 20\n",
            "1407/1407 [==============================] - 24s 17ms/step - loss: 0.0326 - accuracy: 0.9908 - val_loss: 0.0198 - val_accuracy: 0.9951\n",
            "Q 14+82   T 96   ☑ 96  \n",
            "Q 357+30  T 387  ☑ 387 \n",
            "Q 118+732 T 850  ☑ 850 \n",
            "Q 44+532  T 576  ☑ 576 \n",
            "Q 305+6   T 311  ☑ 311 \n",
            "Q 801+170 T 971  ☑ 971 \n",
            "Q 14+478  T 492  ☑ 492 \n",
            "Q 229+16  T 245  ☑ 245 \n",
            "Q 142+9   T 151  ☑ 151 \n",
            "Q 427+224 T 651  ☑ 651 \n",
            "\n",
            "Iteration 21\n",
            "1407/1407 [==============================] - 24s 17ms/step - loss: 0.0333 - accuracy: 0.9908 - val_loss: 0.0572 - val_accuracy: 0.9821\n",
            "Q 8+272   T 280  ☑ 280 \n",
            "Q 205+629 T 834  ☑ 834 \n",
            "Q 268+60  T 328  ☑ 328 \n",
            "Q 616+823 T 1439 ☑ 1439\n",
            "Q 264+8   T 272  ☑ 272 \n",
            "Q 770+6   T 776  ☑ 776 \n",
            "Q 4+737   T 741  ☑ 741 \n",
            "Q 5+231   T 236  ☑ 236 \n",
            "Q 607+24  T 631  ☑ 631 \n",
            "Q 963+184 T 1147 ☑ 1147\n",
            "\n",
            "Iteration 22\n",
            "1407/1407 [==============================] - 24s 17ms/step - loss: 0.0139 - accuracy: 0.9970 - val_loss: 0.0115 - val_accuracy: 0.9977\n",
            "Q 51+296  T 347  ☑ 347 \n",
            "Q 5+841   T 846  ☑ 846 \n",
            "Q 950+8   T 958  ☑ 958 \n",
            "Q 56+82   T 138  ☑ 138 \n",
            "Q 689+882 T 1571 ☑ 1571\n",
            "Q 27+338  T 365  ☑ 365 \n",
            "Q 50+414  T 464  ☑ 464 \n",
            "Q 787+52  T 839  ☑ 839 \n",
            "Q 390+550 T 940  ☑ 940 \n",
            "Q 975+686 T 1661 ☑ 1661\n",
            "\n",
            "Iteration 23\n",
            "1407/1407 [==============================] - 24s 17ms/step - loss: 0.0173 - accuracy: 0.9956 - val_loss: 0.1894 - val_accuracy: 0.9534\n",
            "Q 161+53  T 214  ☑ 214 \n",
            "Q 372+49  T 421  ☑ 421 \n",
            "Q 34+53   T 87   ☑ 87  \n",
            "Q 38+325  T 363  ☑ 363 \n",
            "Q 81+776  T 857  ☑ 857 \n",
            "Q 117+93  T 210  ☒ 200 \n",
            "Q 122+39  T 161  ☒ 151 \n",
            "Q 6+135   T 141  ☑ 141 \n",
            "Q 480+1   T 481  ☑ 481 \n",
            "Q 65+576  T 641  ☒ 640 \n",
            "\n",
            "Iteration 24\n",
            "1407/1407 [==============================] - 24s 17ms/step - loss: 0.0434 - accuracy: 0.9879 - val_loss: 0.0318 - val_accuracy: 0.9902\n",
            "Q 1+550   T 551  ☑ 551 \n",
            "Q 19+320  T 339  ☑ 339 \n",
            "Q 809+134 T 943  ☑ 943 \n",
            "Q 833+583 T 1416 ☑ 1416\n",
            "Q 538+9   T 547  ☑ 547 \n",
            "Q 60+19   T 79   ☑ 79  \n",
            "Q 5+61    T 66   ☑ 66  \n",
            "Q 65+906  T 971  ☑ 971 \n",
            "Q 782+920 T 1702 ☑ 1702\n",
            "Q 913+16  T 929  ☑ 929 \n",
            "\n",
            "Iteration 25\n",
            "1407/1407 [==============================] - 24s 17ms/step - loss: 0.0147 - accuracy: 0.9961 - val_loss: 0.0345 - val_accuracy: 0.9888\n",
            "Q 740+719 T 1459 ☑ 1459\n",
            "Q 66+291  T 357  ☑ 357 \n",
            "Q 509+90  T 599  ☑ 599 \n",
            "Q 61+583  T 644  ☑ 644 \n",
            "Q 124+90  T 214  ☑ 214 \n",
            "Q 305+269 T 574  ☑ 574 \n",
            "Q 58+72   T 130  ☑ 130 \n",
            "Q 101+38  T 139  ☑ 139 \n",
            "Q 610+922 T 1532 ☒ 1533\n",
            "Q 159+936 T 1095 ☑ 1095\n",
            "\n",
            "Iteration 26\n",
            "1407/1407 [==============================] - 24s 17ms/step - loss: 0.0303 - accuracy: 0.9918 - val_loss: 0.0213 - val_accuracy: 0.9934\n",
            "Q 294+143 T 437  ☑ 437 \n",
            "Q 489+661 T 1150 ☑ 1150\n",
            "Q 381+905 T 1286 ☑ 1286\n",
            "Q 334+220 T 554  ☒ 553 \n",
            "Q 8+355   T 363  ☑ 363 \n",
            "Q 39+684  T 723  ☑ 723 \n",
            "Q 11+146  T 157  ☑ 157 \n",
            "Q 531+352 T 883  ☑ 883 \n",
            "Q 488+785 T 1273 ☑ 1273\n",
            "Q 603+79  T 682  ☑ 682 \n",
            "\n",
            "Iteration 27\n",
            "1407/1407 [==============================] - 24s 17ms/step - loss: 0.0163 - accuracy: 0.9959 - val_loss: 0.0103 - val_accuracy: 0.9970\n",
            "Q 14+478  T 492  ☑ 492 \n",
            "Q 520+82  T 602  ☑ 602 \n",
            "Q 176+486 T 662  ☑ 662 \n",
            "Q 854+70  T 924  ☑ 924 \n",
            "Q 94+538  T 632  ☑ 632 \n",
            "Q 862+93  T 955  ☑ 955 \n",
            "Q 4+737   T 741  ☑ 741 \n",
            "Q 230+950 T 1180 ☑ 1180\n",
            "Q 103+14  T 117  ☑ 117 \n",
            "Q 28+112  T 140  ☑ 140 \n",
            "\n",
            "Iteration 28\n",
            "1407/1407 [==============================] - 24s 17ms/step - loss: 0.0158 - accuracy: 0.9958 - val_loss: 0.0066 - val_accuracy: 0.9988\n",
            "Q 139+7   T 146  ☑ 146 \n",
            "Q 12+556  T 568  ☑ 568 \n",
            "Q 79+204  T 283  ☑ 283 \n",
            "Q 578+40  T 618  ☑ 618 \n",
            "Q 799+68  T 867  ☑ 867 \n",
            "Q 47+51   T 98   ☑ 98  \n",
            "Q 4+737   T 741  ☑ 741 \n",
            "Q 90+912  T 1002 ☑ 1002\n",
            "Q 98+195  T 293  ☑ 293 \n",
            "Q 274+55  T 329  ☑ 329 \n",
            "\n",
            "Iteration 29\n",
            "1407/1407 [==============================] - 24s 17ms/step - loss: 0.0196 - accuracy: 0.9946 - val_loss: 0.0077 - val_accuracy: 0.9982\n",
            "Q 194+566 T 760  ☑ 760 \n",
            "Q 18+222  T 240  ☑ 240 \n",
            "Q 243+48  T 291  ☑ 291 \n",
            "Q 752+18  T 770  ☑ 770 \n",
            "Q 209+41  T 250  ☑ 250 \n",
            "Q 396+5   T 401  ☑ 401 \n",
            "Q 25+643  T 668  ☑ 668 \n",
            "Q 60+845  T 905  ☑ 905 \n",
            "Q 581+9   T 590  ☑ 590 \n",
            "Q 443+183 T 626  ☑ 626 \n"
          ]
        }
      ]
    }
  ]
}